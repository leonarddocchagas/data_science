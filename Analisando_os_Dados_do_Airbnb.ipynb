{
  "nbformat": 4,
  "nbformat_minor": 0,
  "metadata": {
    "colab": {
      "name": "Analisando os Dados do Airbnb.ipynb",
      "provenance": [],
      "authorship_tag": "ABX9TyP03GaaQBY0FPt0lZ+pUKEw",
      "include_colab_link": true
    },
    "kernelspec": {
      "name": "python3",
      "display_name": "Python 3"
    }
  },
  "cells": [
    {
      "cell_type": "markdown",
      "metadata": {
        "id": "view-in-github",
        "colab_type": "text"
      },
      "source": [
        "<a href=\"https://colab.research.google.com/github/leonarddocchagas/data_science/blob/master/Analisando_os_Dados_do_Airbnb.ipynb\" target=\"_parent\"><img src=\"https://colab.research.google.com/assets/colab-badge.svg\" alt=\"Open In Colab\"/></a>"
      ]
    },
    {
      "cell_type": "markdown",
      "metadata": {
        "id": "HFyEHibvwk5b",
        "colab_type": "text"
      },
      "source": [
        "<img alt=\"Colaboratory logo\" width=\"15%\" src=\"https://github.com/leonarddocchagas/data_science/blob/master/projetos/_imagens/logo-airbnb.png?raw=true\">\n",
        "\n",
        "## Dados coletados da Gigante Hoteleira\n",
        "**Analisando dados da Cidade do Rio de Janeiro**\n"
      ]
    },
    {
      "cell_type": "markdown",
      "metadata": {
        "id": "KEMBPrHY7ert",
        "colab_type": "text"
      },
      "source": [
        "A startup é considerada uma das maiores empresa no ramo da hotelaria e **sem possuir um hotel** se quer! \n",
        "A grande ideia foi conectar pessoas que queriam receber hospedes e pessoas com desejo de hopedagem a baixo custo.\n",
        "\n",
        "Uma das iniciativas do Airbnb é disponibilizar dados do site, para algumas das principais cidades do mundo. Por meio do portal [Inside Airbnb](http://insideairbnb.com/get-the-data.html), é possível baixar uma grande quantidade de dados para desenvolver projetos e soluções de *Data Science*."
      ]
    },
    {
      "cell_type": "markdown",
      "metadata": {
        "id": "6fEUkpWe8vmJ",
        "colab_type": "text"
      },
      "source": [
        "# Sobre os dados\n",
        "\n",
        "**Dicionário das variáveis**\n",
        "\n",
        "* `id` - número de id gerado para identificar o imóvel\n",
        "* `name` - nome da propriedade anunciada\n",
        "* `host_id` - número de id do proprietário (anfitrião) da propriedade\n",
        "* `host_name` - Nome do anfitrião\n",
        "* `neighbourhood_group` - esta coluna não contém nenhum valor válido\n",
        "* `neighbourhood` - nome do bairro\n",
        "* `latitude` - coordenada da latitude da propriedade\n",
        "* `longitude` - coordenada da longitude da propriedade\n",
        "* `room_type` - informa o tipo de quarto que é oferecido\n",
        "* `price` - preço para alugar o imóvel\n",
        "* `minimum_nights` - quantidade mínima de noites para reservar\n",
        "* `number_of_reviews` - número de reviews que a propriedade possui\n",
        "* `last_review` - data do último review\n",
        "* `reviews_per_month` - quantidade de reviews por mês\n",
        "* `calculated_host_listings_count` - quantidade de imóveis do mesmo anfitrião\n",
        "* `availability_365` - número de dias de disponibilidade dentro de 365 dias\n"
      ]
    },
    {
      "cell_type": "markdown",
      "metadata": {
        "id": "PuPgwT36ABTE",
        "colab_type": "text"
      },
      "source": [
        "## Carregando dados e bibliotecas"
      ]
    },
    {
      "cell_type": "code",
      "metadata": {
        "id": "xFrqJmCH5NQs",
        "colab_type": "code",
        "colab": {}
      },
      "source": [
        "# bibliotecas\n",
        "import pandas as pd\n"
      ],
      "execution_count": 0,
      "outputs": []
    }
  ]
}