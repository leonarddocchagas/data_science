{
  "nbformat": 4,
  "nbformat_minor": 0,
  "metadata": {
    "colab": {
      "name": "Análise dos Dados do Airbnb.ipynb",
      "provenance": [],
      "mount_file_id": "1mXAek9RXw1yi2nT_iVxyYraE-dVLztSe",
      "authorship_tag": "ABX9TyMuQyOtlDdTeqtMWPbMToH3",
      "include_colab_link": true
    },
    "kernelspec": {
      "name": "python3",
      "display_name": "Python 3"
    }
  },
  "cells": [
    {
      "cell_type": "markdown",
      "metadata": {
        "id": "view-in-github",
        "colab_type": "text"
      },
      "source": [
        "<a href=\"https://colab.research.google.com/github/leonarddocchagas/data_science/blob/master/An%C3%A1lise_dos_Dados_do_Airbnb.ipynb\" target=\"_parent\"><img src=\"https://colab.research.google.com/assets/colab-badge.svg\" alt=\"Open In Colab\"/></a>"
      ]
    },
    {
      "cell_type": "markdown",
      "metadata": {
        "id": "4hUiZ8cgTITr",
        "colab_type": "text"
      },
      "source": [
        "<p><img src=\"/content/drive/My Drive/Colab Data Science/Images/ImagenPng.jpg\" /></p>"
      ]
    },
    {
      "cell_type": "code",
      "metadata": {
        "id": "rDeGoo13TDX6",
        "colab_type": "code",
        "colab": {}
      },
      "source": [
        ""
      ],
      "execution_count": 0,
      "outputs": []
    },
    {
      "cell_type": "markdown",
      "metadata": {
        "id": "nVhiy2FHTDwq",
        "colab_type": "text"
      },
      "source": [
        ""
      ]
    }
  ]
}