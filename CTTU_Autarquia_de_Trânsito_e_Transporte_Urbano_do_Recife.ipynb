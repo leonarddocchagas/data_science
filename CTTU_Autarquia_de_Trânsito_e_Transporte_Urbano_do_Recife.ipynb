{
  "nbformat": 4,
  "nbformat_minor": 0,
  "metadata": {
    "colab": {
      "name": "CTTU - Autarquia de Trânsito e Transporte Urbano do Recife.ipynb",
      "provenance": [],
      "collapsed_sections": [],
      "authorship_tag": "ABX9TyNyv/jiSZl/I52lf0sLR1rD",
      "include_colab_link": true
    },
    "kernelspec": {
      "name": "python3",
      "display_name": "Python 3"
    }
  },
  "cells": [
    {
      "cell_type": "markdown",
      "metadata": {
        "id": "view-in-github",
        "colab_type": "text"
      },
      "source": [
        "<a href=\"https://colab.research.google.com/github/leonarddocchagas/data_science/blob/master/CTTU_Autarquia_de_Tr%C3%A2nsito_e_Transporte_Urbano_do_Recife.ipynb\" target=\"_parent\"><img src=\"https://colab.research.google.com/assets/colab-badge.svg\" alt=\"Open In Colab\"/></a>"
      ]
    },
    {
      "cell_type": "markdown",
      "metadata": {
        "id": "4xctdZ8b-jTZ",
        "colab_type": "text"
      },
      "source": [
        "<img src=\"https://github.com/leonarddocchagas/data_science/blob/master/projetos/cttu_transito_e_transporte_recife/logo-cttu.png?raw=true\" alt='CTTU' />"
      ]
    },
    {
      "cell_type": "markdown",
      "metadata": {
        "id": "OD905n2XdPYD",
        "colab_type": "text"
      },
      "source": [
        "**Autarquia de Trânsito e Transporte Urbano do Recife**"
      ]
    },
    {
      "cell_type": "markdown",
      "metadata": {
        "id": "M3CKILoA_sA0",
        "colab_type": "text"
      },
      "source": [
        "Vamos analisar o orgão responsável por fiscalizar o transito da cidade de Recife. Abaixo segue, uma breve descrição retirada do próprio site da entidade.\n",
        "\n",
        "A Autarquia de Trânsito e Transporte Urbano do Recife (CTTU) é uma sociedade de economia mista integrante da Administração Indireta Municipal e é responsável pelo monitoramento, controle e fiscalização do trânsito e do transporte na capital. \n",
        "\n",
        "Compete à CTTU também a regulamentação do Sistema Municipal de Transporte Público de Passageiros, que é explorado sob a forma de permissão ou autorização nos modais de táxi, transporte complementar (linhas interbairros e alimentadoras) e transporte escolar, ações de estudos e projetos de melhoria da mobilidade urbana e sua efetiva implantação e de educação para o trânsito."
      ]
    },
    {
      "cell_type": "markdown",
      "metadata": {
        "id": "mfTqTnczAiEr",
        "colab_type": "text"
      },
      "source": [
        "##Sobre os dados\n",
        "Teremos analise de Acidentes de Trânsito com e sem vitimas 2016 - 2020.\n",
        "\n",
        "  * A Autarquia de Trânsito e Transporte Urbano do Recife (CTTU)\n",
        "      * http://dados.recife.pe.gov.br/dataset/acidentes-de-transito-com-e-sem-vitimas\n",
        "\n",
        "**Nota.** Nosso dataset foi disponibilizado de forma separa, então, vamos carregar quatro arquivos, um referente para cada ano e depois, unificar em um único conjunto de dados. "
      ]
    },
    {
      "cell_type": "markdown",
      "metadata": {
        "id": "3GthB5caBcQV",
        "colab_type": "text"
      },
      "source": [
        "## Obtenção e transformação dos dados"
      ]
    },
    {
      "cell_type": "code",
      "metadata": {
        "id": "uz3lyLhtCMcE",
        "colab_type": "code",
        "colab": {}
      },
      "source": [
        "# bibliotecas\n",
        "import pandas as pd\n",
        "import matplotlib.pyplot as plt\n",
        "import seaborn as sns"
      ],
      "execution_count": 53,
      "outputs": []
    },
    {
      "cell_type": "code",
      "metadata": {
        "id": "7RdS2AR3BY9U",
        "colab_type": "code",
        "colab": {}
      },
      "source": [
        "# carrega todos os datasets\n",
        "\n",
        "# dataset 2016\n",
        "PATH = 'https://raw.githubusercontent.com/leonarddocchagas/data_science/master/projetos/cttu_transito_e_transporte_recife/acidentes_2016.csv'\n",
        "acidentes_2016 = pd.read_csv(PATH, delimiter=\";\")\n",
        "\n",
        "# dataset 2017\n",
        "PATH = 'https://raw.githubusercontent.com/leonarddocchagas/data_science/master/projetos/cttu_transito_e_transporte_recife/acidentes_2017.csv'\n",
        "acidentes_2017 = pd.read_csv(PATH, delimiter=\";\")\n",
        "\n",
        "# dataset 2018\n",
        "# detectamos que o dataset(acidentes_2018) possuia a coluna 'DATA' em caixa alta, ou seja, diferentes dos demais. \n",
        "PATH = 'https://raw.githubusercontent.com/leonarddocchagas/data_science/master/projetos/cttu_transito_e_transporte_recife/acidentes_2018.csv'\n",
        "acidentes_2018 = pd.read_csv(PATH, delimiter=\";\")\n",
        "acidentes_2018.rename(columns={'DATA':'data'}, inplace=True)\n",
        "\n",
        "# dataset 2019\n",
        "# detectamos que o dataset(acidentes_2019) possuia a coluna 'DATA' em caixa alta, ou seja, diferentes dos demais. \n",
        "PATH = 'https://raw.githubusercontent.com/leonarddocchagas/data_science/master/projetos/cttu_transito_e_transporte_recife/acidentes-2019.csv'\n",
        "acidentes_2019 = pd.read_csv(PATH, delimiter=\";\")\n",
        "acidentes_2019.rename(columns={'DATA':'data'}, inplace=True)\n",
        "\n",
        "# dataset 2020\n",
        "PATH = 'https://raw.githubusercontent.com/leonarddocchagas/data_science/master/projetos/cttu_transito_e_transporte_recife/acidentes-2020.csv'\n",
        "acidentes_2020 = pd.read_csv(PATH, delimiter=\";\")"
      ],
      "execution_count": 54,
      "outputs": []
    },
    {
      "cell_type": "markdown",
      "metadata": {
        "id": "lU4EWdxleZq8",
        "colab_type": "text"
      },
      "source": [
        "Um ponto para ser observado. Apesar de, as fontes de dados serem do mesmo repositório e que, teoricamente deveriam estar no mesmo padrão, mas, como sabemos, na \"vida real\" não é assim que acontece. Por isso, muita atenção na hora de coletar e transformar o dado. É importante separar e olhar cada um de forma individual. \n",
        "\n",
        "Em nosso exemplo, tanto o nome da coluna 'data' quanto o nome do arquivo, não seguiram o mesmo padrão. Para os datasets(2016, 2017, 2018), foram escritos com '_' separando o ano e, a coluna 'data', escrita em 'caixa baixa'. Já os datasets(2018, 2019), foram criado com '-' separando o ano e também, a coluna data está escrita em 'caixa alta'."
      ]
    },
    {
      "cell_type": "markdown",
      "metadata": {
        "id": "lnY-kwvuma9K",
        "colab_type": "text"
      },
      "source": [
        "**Tratando dataset**"
      ]
    },
    {
      "cell_type": "code",
      "metadata": {
        "id": "ljI_9HNWBLwz",
        "colab_type": "code",
        "colab": {}
      },
      "source": [
        "# contatenando os conjuntos de dados\n",
        "df = pd.concat([acidentes_2016, acidentes_2017, acidentes_2018, acidentes_2019, acidentes_2020])"
      ],
      "execution_count": 55,
      "outputs": []
    },
    {
      "cell_type": "code",
      "metadata": {
        "id": "llytECS6iNJn",
        "colab_type": "code",
        "colab": {
          "base_uri": "https://localhost:8080/",
          "height": 204
        },
        "outputId": "2872b6ba-6c2e-4cd4-8a23-ae30b6433be2"
      },
      "source": [
        "# exibindo colunas datasets unificados\n",
        "df.columns"
      ],
      "execution_count": 56,
      "outputs": [
        {
          "output_type": "execute_result",
          "data": {
            "text/plain": [
              "Index(['data', 'hora', 'natureza_acidente', 'situacao', 'bairro', 'endereco',\n",
              "       'numero', 'detalhe_endereco_acidente', 'complemento',\n",
              "       'endereco_cruzamento', 'numero_cruzamento', 'referencia_cruzamento',\n",
              "       'bairro_cruzamento', 'tipo', 'descricao', 'auto', 'moto', 'ciclom',\n",
              "       'ciclista', 'pedestre', 'onibus', 'caminhao', 'viatura', 'outros',\n",
              "       'vitimas', 'vitimasfatais', 'num_semaforo', 'sentido_via',\n",
              "       'acidente_verificado', 'tempo_clima', 'situacao_semaforo',\n",
              "       'sinalizacao', 'condicao_via', 'conservacao_via', 'ponto_controle',\n",
              "       'situacao_placa', 'velocidade_max_via', 'mao_direcao', 'divisao_via1',\n",
              "       'divisao_via2', 'divisao_via3'],\n",
              "      dtype='object')"
            ]
          },
          "metadata": {
            "tags": []
          },
          "execution_count": 56
        }
      ]
    },
    {
      "cell_type": "code",
      "metadata": {
        "id": "JjAAvhyriKOr",
        "colab_type": "code",
        "colab": {}
      },
      "source": [
        "# eliminando colunas que não vamos utilizar\n",
        "df = df.drop(\n",
        "      columns=(\n",
        "            ['endereco', 'complemento', 'endereco_cruzamento', 'numero_cruzamento', 'referencia_cruzamento', 'bairro_cruzamento', \n",
        "             'numero', 'detalhe_endereco_acidente', 'descricao','divisao_via1', 'divisao_via2', 'divisao_via3', 'ponto_controle', 'situacao_placa', \n",
        "             'velocidade_max_via', 'situacao_semaforo', 'sinalizacao', 'condicao_via', 'conservacao_via', 'mao_direcao', 'viatura', 'outros',\n",
        "             'ciclom','num_semaforo','sentido_via','vitimasfatais', 'natureza_acidente', 'caminhao', 'tipo', 'vitimas']\n",
        "            ))"
      ],
      "execution_count": 57,
      "outputs": []
    },
    {
      "cell_type": "code",
      "metadata": {
        "id": "udu9xgQOmxJR",
        "colab_type": "code",
        "colab": {
          "base_uri": "https://localhost:8080/",
          "height": 68
        },
        "outputId": "2fd2b266-65a3-4174-beee-39682f9d81c3"
      },
      "source": [
        "# exibindo colunas depois da limpeza\n",
        "df.columns"
      ],
      "execution_count": 58,
      "outputs": [
        {
          "output_type": "execute_result",
          "data": {
            "text/plain": [
              "Index(['data', 'hora', 'situacao', 'bairro', 'auto', 'moto', 'ciclista',\n",
              "       'pedestre', 'onibus', 'acidente_verificado', 'tempo_clima'],\n",
              "      dtype='object')"
            ]
          },
          "metadata": {
            "tags": []
          },
          "execution_count": 58
        }
      ]
    },
    {
      "cell_type": "code",
      "metadata": {
        "id": "wDdmyEvVh6wc",
        "colab_type": "code",
        "colab": {}
      },
      "source": [
        "# convertendo coluna data tipo objetct para tipo data\n",
        "df['data'] = pd.to_datetime(df['data'])"
      ],
      "execution_count": 59,
      "outputs": []
    },
    {
      "cell_type": "code",
      "metadata": {
        "id": "nhPBmViCkMOL",
        "colab_type": "code",
        "colab": {}
      },
      "source": [
        "# adicionando coluna ano\n",
        "df['Ano'] = df.data.dt.year"
      ],
      "execution_count": 60,
      "outputs": []
    },
    {
      "cell_type": "code",
      "metadata": {
        "id": "DhZDy3HE99--",
        "colab_type": "code",
        "colab": {
          "base_uri": "https://localhost:8080/",
          "height": 204
        },
        "outputId": "40ba7f41-5a22-4ecd-ea65-9a2dec84ea40"
      },
      "source": [
        "# exibindo dataset\n",
        "df.tail()"
      ],
      "execution_count": 61,
      "outputs": [
        {
          "output_type": "execute_result",
          "data": {
            "text/html": [
              "<div>\n",
              "<style scoped>\n",
              "    .dataframe tbody tr th:only-of-type {\n",
              "        vertical-align: middle;\n",
              "    }\n",
              "\n",
              "    .dataframe tbody tr th {\n",
              "        vertical-align: top;\n",
              "    }\n",
              "\n",
              "    .dataframe thead th {\n",
              "        text-align: right;\n",
              "    }\n",
              "</style>\n",
              "<table border=\"1\" class=\"dataframe\">\n",
              "  <thead>\n",
              "    <tr style=\"text-align: right;\">\n",
              "      <th></th>\n",
              "      <th>data</th>\n",
              "      <th>hora</th>\n",
              "      <th>situacao</th>\n",
              "      <th>bairro</th>\n",
              "      <th>auto</th>\n",
              "      <th>moto</th>\n",
              "      <th>ciclista</th>\n",
              "      <th>pedestre</th>\n",
              "      <th>onibus</th>\n",
              "      <th>acidente_verificado</th>\n",
              "      <th>tempo_clima</th>\n",
              "      <th>Ano</th>\n",
              "    </tr>\n",
              "  </thead>\n",
              "  <tbody>\n",
              "    <tr>\n",
              "      <th>2605</th>\n",
              "      <td>2020-05-31</td>\n",
              "      <td>06:25:00</td>\n",
              "      <td>CANCELADA</td>\n",
              "      <td>BOA VIAGEM</td>\n",
              "      <td>2.0</td>\n",
              "      <td>NaN</td>\n",
              "      <td>NaN</td>\n",
              "      <td>NaN</td>\n",
              "      <td>NaN</td>\n",
              "      <td>NaN</td>\n",
              "      <td>NaN</td>\n",
              "      <td>2020</td>\n",
              "    </tr>\n",
              "    <tr>\n",
              "      <th>2606</th>\n",
              "      <td>2020-05-31</td>\n",
              "      <td>14:18:00</td>\n",
              "      <td>FINALIZADA</td>\n",
              "      <td>CORDEIRO</td>\n",
              "      <td>1.0</td>\n",
              "      <td>1.0</td>\n",
              "      <td>NaN</td>\n",
              "      <td>NaN</td>\n",
              "      <td>NaN</td>\n",
              "      <td>Longo da via</td>\n",
              "      <td>Bom</td>\n",
              "      <td>2020</td>\n",
              "    </tr>\n",
              "    <tr>\n",
              "      <th>2607</th>\n",
              "      <td>2020-05-31</td>\n",
              "      <td>22:04:00</td>\n",
              "      <td>CANCELADA</td>\n",
              "      <td>NOVA DESCOBERTA</td>\n",
              "      <td>1.0</td>\n",
              "      <td>1.0</td>\n",
              "      <td>NaN</td>\n",
              "      <td>NaN</td>\n",
              "      <td>NaN</td>\n",
              "      <td>NaN</td>\n",
              "      <td>NaN</td>\n",
              "      <td>2020</td>\n",
              "    </tr>\n",
              "    <tr>\n",
              "      <th>2608</th>\n",
              "      <td>2020-05-27</td>\n",
              "      <td>08:53:00</td>\n",
              "      <td>FINALIZADA</td>\n",
              "      <td>TORRÕES</td>\n",
              "      <td>2.0</td>\n",
              "      <td>NaN</td>\n",
              "      <td>NaN</td>\n",
              "      <td>NaN</td>\n",
              "      <td>NaN</td>\n",
              "      <td>Longo da via</td>\n",
              "      <td>Bom</td>\n",
              "      <td>2020</td>\n",
              "    </tr>\n",
              "    <tr>\n",
              "      <th>2609</th>\n",
              "      <td>2020-05-28</td>\n",
              "      <td>09:01:00</td>\n",
              "      <td>FINALIZADA</td>\n",
              "      <td>PINA</td>\n",
              "      <td>2.0</td>\n",
              "      <td>NaN</td>\n",
              "      <td>NaN</td>\n",
              "      <td>NaN</td>\n",
              "      <td>NaN</td>\n",
              "      <td>Cruzamento</td>\n",
              "      <td>Bom</td>\n",
              "      <td>2020</td>\n",
              "    </tr>\n",
              "  </tbody>\n",
              "</table>\n",
              "</div>"
            ],
            "text/plain": [
              "           data      hora    situacao  ... acidente_verificado  tempo_clima   Ano\n",
              "2605 2020-05-31  06:25:00   CANCELADA  ...                 NaN          NaN  2020\n",
              "2606 2020-05-31  14:18:00  FINALIZADA  ...        Longo da via          Bom  2020\n",
              "2607 2020-05-31  22:04:00   CANCELADA  ...                 NaN          NaN  2020\n",
              "2608 2020-05-27  08:53:00  FINALIZADA  ...        Longo da via          Bom  2020\n",
              "2609 2020-05-28  09:01:00  FINALIZADA  ...          Cruzamento          Bom  2020\n",
              "\n",
              "[5 rows x 12 columns]"
            ]
          },
          "metadata": {
            "tags": []
          },
          "execution_count": 61
        }
      ]
    },
    {
      "cell_type": "markdown",
      "metadata": {
        "id": "VbBKZFqCpRVd",
        "colab_type": "text"
      },
      "source": [
        "**Tamanho e faltantes**"
      ]
    },
    {
      "cell_type": "code",
      "metadata": {
        "id": "-zGs6JIqpXs8",
        "colab_type": "code",
        "colab": {
          "base_uri": "https://localhost:8080/",
          "height": 51
        },
        "outputId": "9b2603e6-9f52-4e4d-800f-9f80ae5b045c"
      },
      "source": [
        "# tamanho\n",
        "print('Temos em nosso dataset')\n",
        "print('{} ENTRADAS e {} VARIÁVEIS' .format(df.shape[0], df.shape[1]))"
      ],
      "execution_count": 62,
      "outputs": [
        {
          "output_type": "stream",
          "text": [
            "Temos em nosso dataset\n",
            "49104 ENTRADAS e 12 VARIÁVEIS\n"
          ],
          "name": "stdout"
        }
      ]
    },
    {
      "cell_type": "code",
      "metadata": {
        "id": "MHn5V8aQD8n3",
        "colab_type": "code",
        "colab": {
          "base_uri": "https://localhost:8080/",
          "height": 238
        },
        "outputId": "61af1581-92dc-42fb-c28c-4ff0192b8f68"
      },
      "source": [
        "# faltantes ou nulos\n",
        "df.isnull().sum() / df.shape[0]"
      ],
      "execution_count": 63,
      "outputs": [
        {
          "output_type": "execute_result",
          "data": {
            "text/plain": [
              "data                   0.000000\n",
              "hora                   0.001120\n",
              "situacao               0.001059\n",
              "bairro                 0.005519\n",
              "auto                   0.086877\n",
              "moto                   0.756598\n",
              "ciclista               0.986050\n",
              "pedestre               0.978535\n",
              "onibus                 0.848831\n",
              "acidente_verificado    0.731305\n",
              "tempo_clima            0.719901\n",
              "Ano                    0.000000\n",
              "dtype: float64"
            ]
          },
          "metadata": {
            "tags": []
          },
          "execution_count": 63
        }
      ]
    },
    {
      "cell_type": "markdown",
      "metadata": {
        "id": "erqkh62fqMse",
        "colab_type": "text"
      },
      "source": [
        "Um ponto importante sobre os dados faltantes/nulos. Identificamos muitas columas com dados faltantes e, não necessariamente significa que as informações não cadastradas, tenha sido uma falha. O motivo, pode ter sido de forma intencional, por conta da técnica empregada na coleta dos dados. "
      ]
    },
    {
      "cell_type": "code",
      "metadata": {
        "id": "x9SkGTXLEdWQ",
        "colab_type": "code",
        "colab": {
          "base_uri": "https://localhost:8080/",
          "height": 238
        },
        "outputId": "fd2757bd-15d8-4e2f-f2ff-d62ae2f621c7"
      },
      "source": [
        "df.dtypes"
      ],
      "execution_count": 64,
      "outputs": [
        {
          "output_type": "execute_result",
          "data": {
            "text/plain": [
              "data                   datetime64[ns]\n",
              "hora                           object\n",
              "situacao                       object\n",
              "bairro                         object\n",
              "auto                          float64\n",
              "moto                          float64\n",
              "ciclista                      float64\n",
              "pedestre                      float64\n",
              "onibus                        float64\n",
              "acidente_verificado            object\n",
              "tempo_clima                    object\n",
              "Ano                             int64\n",
              "dtype: object"
            ]
          },
          "metadata": {
            "tags": []
          },
          "execution_count": 64
        }
      ]
    },
    {
      "cell_type": "markdown",
      "metadata": {
        "id": "jwheMsLdmB76",
        "colab_type": "text"
      },
      "source": [
        "##Visualizando os dados"
      ]
    },
    {
      "cell_type": "code",
      "metadata": {
        "id": "BkWN0xBmmF0N",
        "colab_type": "code",
        "colab": {
          "base_uri": "https://localhost:8080/",
          "height": 204
        },
        "outputId": "78593594-b853-4ba2-f502-83712938588a"
      },
      "source": [
        "# exibindo as 5 primeiras linhas\n",
        "df.head()"
      ],
      "execution_count": 65,
      "outputs": [
        {
          "output_type": "execute_result",
          "data": {
            "text/html": [
              "<div>\n",
              "<style scoped>\n",
              "    .dataframe tbody tr th:only-of-type {\n",
              "        vertical-align: middle;\n",
              "    }\n",
              "\n",
              "    .dataframe tbody tr th {\n",
              "        vertical-align: top;\n",
              "    }\n",
              "\n",
              "    .dataframe thead th {\n",
              "        text-align: right;\n",
              "    }\n",
              "</style>\n",
              "<table border=\"1\" class=\"dataframe\">\n",
              "  <thead>\n",
              "    <tr style=\"text-align: right;\">\n",
              "      <th></th>\n",
              "      <th>data</th>\n",
              "      <th>hora</th>\n",
              "      <th>situacao</th>\n",
              "      <th>bairro</th>\n",
              "      <th>auto</th>\n",
              "      <th>moto</th>\n",
              "      <th>ciclista</th>\n",
              "      <th>pedestre</th>\n",
              "      <th>onibus</th>\n",
              "      <th>acidente_verificado</th>\n",
              "      <th>tempo_clima</th>\n",
              "      <th>Ano</th>\n",
              "    </tr>\n",
              "  </thead>\n",
              "  <tbody>\n",
              "    <tr>\n",
              "      <th>0</th>\n",
              "      <td>2016-01-01</td>\n",
              "      <td>00:58:00</td>\n",
              "      <td>FINALIZADA</td>\n",
              "      <td>IPUTINGA</td>\n",
              "      <td>1.0</td>\n",
              "      <td>NaN</td>\n",
              "      <td>NaN</td>\n",
              "      <td>NaN</td>\n",
              "      <td>NaN</td>\n",
              "      <td>NaN</td>\n",
              "      <td>NaN</td>\n",
              "      <td>2016</td>\n",
              "    </tr>\n",
              "    <tr>\n",
              "      <th>1</th>\n",
              "      <td>2016-01-01</td>\n",
              "      <td>01:23:00</td>\n",
              "      <td>FINALIZADA</td>\n",
              "      <td>BOA VIAGEM</td>\n",
              "      <td>2.0</td>\n",
              "      <td>NaN</td>\n",
              "      <td>NaN</td>\n",
              "      <td>NaN</td>\n",
              "      <td>NaN</td>\n",
              "      <td>NaN</td>\n",
              "      <td>NaN</td>\n",
              "      <td>2016</td>\n",
              "    </tr>\n",
              "    <tr>\n",
              "      <th>2</th>\n",
              "      <td>2016-01-01</td>\n",
              "      <td>01:42:00</td>\n",
              "      <td>CANCELADA</td>\n",
              "      <td>JORDÃO</td>\n",
              "      <td>2.0</td>\n",
              "      <td>NaN</td>\n",
              "      <td>NaN</td>\n",
              "      <td>NaN</td>\n",
              "      <td>NaN</td>\n",
              "      <td>NaN</td>\n",
              "      <td>NaN</td>\n",
              "      <td>2016</td>\n",
              "    </tr>\n",
              "    <tr>\n",
              "      <th>3</th>\n",
              "      <td>2016-01-01</td>\n",
              "      <td>03:08:00</td>\n",
              "      <td>FINALIZADA</td>\n",
              "      <td>IBURA</td>\n",
              "      <td>2.0</td>\n",
              "      <td>NaN</td>\n",
              "      <td>NaN</td>\n",
              "      <td>NaN</td>\n",
              "      <td>NaN</td>\n",
              "      <td>NaN</td>\n",
              "      <td>NaN</td>\n",
              "      <td>2016</td>\n",
              "    </tr>\n",
              "    <tr>\n",
              "      <th>4</th>\n",
              "      <td>2016-01-01</td>\n",
              "      <td>05:34:00</td>\n",
              "      <td>CANCELADA</td>\n",
              "      <td>PAISSANDU</td>\n",
              "      <td>NaN</td>\n",
              "      <td>1.0</td>\n",
              "      <td>NaN</td>\n",
              "      <td>NaN</td>\n",
              "      <td>NaN</td>\n",
              "      <td>NaN</td>\n",
              "      <td>NaN</td>\n",
              "      <td>2016</td>\n",
              "    </tr>\n",
              "  </tbody>\n",
              "</table>\n",
              "</div>"
            ],
            "text/plain": [
              "        data      hora    situacao  ... acidente_verificado  tempo_clima   Ano\n",
              "0 2016-01-01  00:58:00  FINALIZADA  ...                 NaN          NaN  2016\n",
              "1 2016-01-01  01:23:00  FINALIZADA  ...                 NaN          NaN  2016\n",
              "2 2016-01-01  01:42:00   CANCELADA  ...                 NaN          NaN  2016\n",
              "3 2016-01-01  03:08:00  FINALIZADA  ...                 NaN          NaN  2016\n",
              "4 2016-01-01  05:34:00   CANCELADA  ...                 NaN          NaN  2016\n",
              "\n",
              "[5 rows x 12 columns]"
            ]
          },
          "metadata": {
            "tags": []
          },
          "execution_count": 65
        }
      ]
    },
    {
      "cell_type": "code",
      "metadata": {
        "id": "OZP1npMtotxh",
        "colab_type": "code",
        "colab": {
          "base_uri": "https://localhost:8080/",
          "height": 320
        },
        "outputId": "74cf13b2-aeca-43fb-da8d-ebe44c7971d9"
      },
      "source": [
        "# quantidade de acidentes por grupo\n",
        "df.groupby('Ano').sum().plot(kind='barh', figsize=(10, 5));"
      ],
      "execution_count": 66,
      "outputs": [
        {
          "output_type": "display_data",
          "data": {
            "image/png": "[encoded data removed]",
            "text/plain": [
              "<Figure size 720x360 with 1 Axes>"
            ]
          },
          "metadata": {
            "tags": [],
            "needs_background": "light"
          }
        }
      ]
    },
    {
      "cell_type": "code",
      "metadata": {
        "id": "6-zGJHx4Clvq",
        "colab_type": "code",
        "colab": {
          "base_uri": "https://localhost:8080/",
          "height": 204
        },
        "outputId": "96674f73-4ca3-4eaa-ed1a-b0751d2e1149"
      },
      "source": [
        "# top10 por bairro\n",
        "df.bairro.value_counts().head(10)"
      ],
      "execution_count": 67,
      "outputs": [
        {
          "output_type": "execute_result",
          "data": {
            "text/plain": [
              "BOA VIAGEM      6373\n",
              "IMBIRIBEIRA     2928\n",
              "SANTO AMARO     2276\n",
              "AFOGADOS        1931\n",
              "BOA VISTA       1922\n",
              "MADALENA        1877\n",
              "DERBY           1514\n",
              "IPSEP           1338\n",
              "CASA AMARELA    1331\n",
              "PINA            1300\n",
              "Name: bairro, dtype: int64"
            ]
          },
          "metadata": {
            "tags": []
          },
          "execution_count": 67
        }
      ]
    },
    {
      "cell_type": "code",
      "metadata": {
        "id": "bC9wDJIODNJD",
        "colab_type": "code",
        "colab": {
          "base_uri": "https://localhost:8080/",
          "height": 265
        },
        "outputId": "a6ddad22-0eba-4de7-b8f7-688d68fb5074"
      },
      "source": [
        "# questão climática\n",
        "df.tempo_clima.value_counts().plot(kind='barh');"
      ],
      "execution_count": 80,
      "outputs": [
        {
          "output_type": "display_data",
          "data": {
            "image/png": "[encoded data removed]",
            "text/plain": [
              "<Figure size 432x288 with 1 Axes>"
            ]
          },
          "metadata": {
            "tags": [],
            "needs_background": "light"
          }
        }
      ]
    },
    {
      "cell_type": "markdown",
      "metadata": {
        "id": "SKtXZzkrIXCT",
        "colab_type": "text"
      },
      "source": [
        "##**Conlusão**"
      ]
    },
    {
      "cell_type": "markdown",
      "metadata": {
        "id": "8wZU2NTeIiBh",
        "colab_type": "text"
      },
      "source": [
        "Apesar da baixa qualidade da coleta de dados feita pela CTTU, com poucas informações relevantes, foi possível extrair algumas insight. O dataset contém 49.104 ocorrencias e está distribuído para os últimos 4 anos. \n",
        "\n",
        "Entre os bairros com maior número de registro, Boa Viagem se destaca, contabilizando 6.373 acidentes, o que o coloca em primeiro do rank. Vimos também que, ao contrário do que se pensava, acidentes envolvendo automóvies é em disparada os maiores motivos dos chamados.\n",
        "\n",
        "Outro ponto possível de observação foi que, aparecentemente o clima chuvoso não contribui diretamente para o aumento do número de acidentes. Mas, seria necessário uma investigação mais criteriosa para cravar este levantamento. "
      ]
    }
  ]
}