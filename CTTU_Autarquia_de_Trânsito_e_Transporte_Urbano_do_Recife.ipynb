{
  "nbformat": 4,
  "nbformat_minor": 0,
  "metadata": {
    "colab": {
      "name": "CTTU - Autarquia de Trânsito e Transporte Urbano do Recife.ipynb",
      "provenance": [],
      "authorship_tag": "ABX9TyO1JY40W9doXKN3GJqK13U7",
      "include_colab_link": true
    },
    "kernelspec": {
      "name": "python3",
      "display_name": "Python 3"
    }
  },
  "cells": [
    {
      "cell_type": "markdown",
      "metadata": {
        "id": "view-in-github",
        "colab_type": "text"
      },
      "source": [
        "<a href=\"https://colab.research.google.com/github/leonarddocchagas/data_science/blob/master/CTTU_Autarquia_de_Tr%C3%A2nsito_e_Transporte_Urbano_do_Recife.ipynb\" target=\"_parent\"><img src=\"https://colab.research.google.com/assets/colab-badge.svg\" alt=\"Open In Colab\"/></a>"
      ]
    },
    {
      "cell_type": "markdown",
      "metadata": {
        "id": "4xctdZ8b-jTZ",
        "colab_type": "text"
      },
      "source": [
        "<img src=\"https://github.com/leonarddocchagas/data_science/blob/master/projetos/cttu_transito_e_transporte_recife/logo-cttu.png?raw=true\" alt='CTTU' />"
      ]
    },
    {
      "cell_type": "code",
      "metadata": {
        "id": "DhZDy3HE99--",
        "colab_type": "code",
        "colab": {}
      },
      "source": [
        ""
      ],
      "execution_count": null,
      "outputs": []
    }
  ]
}