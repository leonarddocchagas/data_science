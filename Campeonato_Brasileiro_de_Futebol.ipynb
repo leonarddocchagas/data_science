{
  "nbformat": 4,
  "nbformat_minor": 0,
  "metadata": {
    "colab": {
      "name": "Campeonato Brasileiro de Futebol.ipynb",
      "provenance": [],
      "collapsed_sections": [],
      "mount_file_id": "12kzYhH2sPU3x84InyBza81tXMxlCLkUR",
      "authorship_tag": "ABX9TyMsHqM6QtHnnnYLi8V+/I7m",
      "include_colab_link": true
    },
    "kernelspec": {
      "name": "python3",
      "display_name": "Python 3"
    }
  },
  "cells": [
    {
      "cell_type": "markdown",
      "metadata": {
        "id": "view-in-github",
        "colab_type": "text"
      },
      "source": [
        "<a href=\"https://colab.research.google.com/github/leonarddocchagas/data_science/blob/master/Campeonato_Brasileiro_de_Futebol.ipynb\" target=\"_parent\"><img src=\"https://colab.research.google.com/assets/colab-badge.svg\" alt=\"Open In Colab\"/></a>"
      ]
    },
    {
      "cell_type": "markdown",
      "metadata": {
        "id": "LRxi9DxZaAHu",
        "colab_type": "text"
      },
      "source": [
        "<img alt='Logo Campeonato Brasileiro de Futebol' width='20%' src='https://github.com/leonarddocchagas/data_science/blob/master/projetos/campeonato_brasileiro_de_futebol/Campeonato_Brasileiro_S%C3%A9rie_A_logo.png?raw=true' />"
      ]
    },
    {
      "cell_type": "markdown",
      "metadata": {
        "id": "cEnrAflmahim",
        "colab_type": "text"
      },
      "source": [
        "##**Analisando o Campeonato Brasileiro de Futebol**\n",
        "\n",
        "O Campeonato Brasileiro de Futebol é a principal liga de futebol profissionao do Brasil. Se comparado com outros campeonatos pelo mundo, o \"Brasileirão\", como é popularmente conhecido, é relativamente recente. Isso ocorreu, por conta da dimensões continetáis do país. \n",
        "\n",
        "No início, o interesse pela competição era baixo e o campeonato era dispultado pelas selecões dos estados, ficando limitado entre Rio-São Paulo. Assim permanete até por volta de 1966. \n",
        "\n",
        "Em 1971, o campeonato é reformulado e começa ganhar adeptos e clubes de outros estados como de Pernambuco, Bahia, Minas. O Atlético Mineiro foi campeão e é até hoje, considerado o primeiro campeão da nova formula.  "
      ]
    },
    {
      "cell_type": "markdown",
      "metadata": {
        "id": "ADp3JGPJcsk0",
        "colab_type": "text"
      },
      "source": [
        "## Sobre os dados\n",
        "\n",
        "Os dados que iremos usar, foram extraídos do Kaggle. Não encontramos dad\n",
        "  * Kaggle\n",
        "    * https://www.kaggle.com/adaoduque/campeonato-brasileiro-de-futebol\n",
        "\n",
        "**Dicionário de dados**\n",
        "\n",
        "`Horário`:  Horário que ocorreu a partida                     \n",
        "`Dia`: Dia da semana que ocorreu a partida                      \n",
        "`Data`: Data que ocorreu a partida                      \n",
        "`Clube 1` : Clube mandante                      \n",
        "`Clube 2` : Clube Visitante                      \n",
        "`Vencedor` : Clube vencedor da partida. Quando tiver \"-\", é um empate\n",
        "\n",
        "`Rodada` : Rodada que aconteceu a partida                      \n",
        "`Arena` : Arena que ocorreu a partida                      \n",
        "`Clube 1 Gols` : Gols que o clube mandante fez na partida                      \n",
        "`Clube 2 Gols` : Gols que o clube visitante fez na partida                      \n",
        "`Clube 1 Estado` : Estado do clube mandatorio                      \n",
        "`Clube 2 Estado` : Estado do clube visitante                      \n",
        "`Estado Clube Vencedor` : Estado do clube vencedor. Quando tiver \"Empate\", deu empate viu! "
      ]
    },
    {
      "cell_type": "markdown",
      "metadata": {
        "id": "a2TZr3U1eSYo",
        "colab_type": "text"
      },
      "source": [
        "## Obtenção dos Dados"
      ]
    },
    {
      "cell_type": "code",
      "metadata": {
        "id": "PA1aYWtZXpxQ",
        "colab_type": "code",
        "colab": {}
      },
      "source": [
        "# import bibliotecas\n",
        "import pandas as pd"
      ],
      "execution_count": 1,
      "outputs": []
    },
    {
      "cell_type": "code",
      "metadata": {
        "id": "wH1gcVVCYEKA",
        "colab_type": "code",
        "colab": {
          "base_uri": "https://localhost:8080/",
          "height": 306
        },
        "outputId": "87e06743-93bd-43d2-9e50-d8cb15df61e8"
      },
      "source": [
        "# carrega dataset \n",
        "df = pd.read_csv('/content/drive/My Drive/Colab Data Science/Projetos/Campeonato Brasileiro de Futebol/campeonato-brasileiro.csv')\n",
        "\n",
        "# exibi as primeiras 5 linhas\n",
        "df.head()"
      ],
      "execution_count": 2,
      "outputs": [
        {
          "output_type": "execute_result",
          "data": {
            "text/html": [
              "<div>\n",
              "<style scoped>\n",
              "    .dataframe tbody tr th:only-of-type {\n",
              "        vertical-align: middle;\n",
              "    }\n",
              "\n",
              "    .dataframe tbody tr th {\n",
              "        vertical-align: top;\n",
              "    }\n",
              "\n",
              "    .dataframe thead th {\n",
              "        text-align: right;\n",
              "    }\n",
              "</style>\n",
              "<table border=\"1\" class=\"dataframe\">\n",
              "  <thead>\n",
              "    <tr style=\"text-align: right;\">\n",
              "      <th></th>\n",
              "      <th>Horário</th>\n",
              "      <th>Dia</th>\n",
              "      <th>Data</th>\n",
              "      <th>Clube 1</th>\n",
              "      <th>Clube 2</th>\n",
              "      <th>Vencedor</th>\n",
              "      <th>Rodada</th>\n",
              "      <th>Arena</th>\n",
              "      <th>Clube 1 Gols</th>\n",
              "      <th>Clube 2 Gols</th>\n",
              "      <th>Clube 1 Estado</th>\n",
              "      <th>Clube 2 Estado</th>\n",
              "      <th>Estado Clube Vencedor</th>\n",
              "    </tr>\n",
              "  </thead>\n",
              "  <tbody>\n",
              "    <tr>\n",
              "      <th>0</th>\n",
              "      <td>16h00</td>\n",
              "      <td>Sábado</td>\n",
              "      <td>2000-07-29</td>\n",
              "      <td>Fluminense</td>\n",
              "      <td>Bahia</td>\n",
              "      <td>Fluminense</td>\n",
              "      <td>1ª Rodada</td>\n",
              "      <td>Maracanã</td>\n",
              "      <td>2</td>\n",
              "      <td>0</td>\n",
              "      <td>RJ</td>\n",
              "      <td>BA</td>\n",
              "      <td>RJ</td>\n",
              "    </tr>\n",
              "    <tr>\n",
              "      <th>1</th>\n",
              "      <td>16h00</td>\n",
              "      <td>Sábado</td>\n",
              "      <td>2000-07-29</td>\n",
              "      <td>Vasco</td>\n",
              "      <td>Sport</td>\n",
              "      <td>Sport</td>\n",
              "      <td>1ª Rodada</td>\n",
              "      <td>São Januário</td>\n",
              "      <td>0</td>\n",
              "      <td>2</td>\n",
              "      <td>RJ</td>\n",
              "      <td>PE</td>\n",
              "      <td>PE</td>\n",
              "    </tr>\n",
              "    <tr>\n",
              "      <th>2</th>\n",
              "      <td>16h00</td>\n",
              "      <td>Sábado</td>\n",
              "      <td>2000-07-29</td>\n",
              "      <td>Vitória</td>\n",
              "      <td>Palmeiras</td>\n",
              "      <td>Vitória</td>\n",
              "      <td>1ª Rodada</td>\n",
              "      <td>Barradão</td>\n",
              "      <td>4</td>\n",
              "      <td>1</td>\n",
              "      <td>ES</td>\n",
              "      <td>SP</td>\n",
              "      <td>ES</td>\n",
              "    </tr>\n",
              "    <tr>\n",
              "      <th>3</th>\n",
              "      <td>17h00</td>\n",
              "      <td>Domingo</td>\n",
              "      <td>2000-07-30</td>\n",
              "      <td>Botafogo-RJ</td>\n",
              "      <td>Atlético-MG</td>\n",
              "      <td>-</td>\n",
              "      <td>1ª Rodada</td>\n",
              "      <td>Caio Martins</td>\n",
              "      <td>0</td>\n",
              "      <td>0</td>\n",
              "      <td>RJ</td>\n",
              "      <td>MG</td>\n",
              "      <td>Empate</td>\n",
              "    </tr>\n",
              "    <tr>\n",
              "      <th>4</th>\n",
              "      <td>18h30</td>\n",
              "      <td>Domingo</td>\n",
              "      <td>2000-07-30</td>\n",
              "      <td>Juventude</td>\n",
              "      <td>Flamengo</td>\n",
              "      <td>-</td>\n",
              "      <td>1ª Rodada</td>\n",
              "      <td>Alfredo Jaconi</td>\n",
              "      <td>1</td>\n",
              "      <td>1</td>\n",
              "      <td>RS</td>\n",
              "      <td>RJ</td>\n",
              "      <td>Empate</td>\n",
              "    </tr>\n",
              "  </tbody>\n",
              "</table>\n",
              "</div>"
            ],
            "text/plain": [
              "  Horário      Dia  ... Clube 2 Estado Estado Clube Vencedor\n",
              "0   16h00   Sábado  ...             BA                    RJ\n",
              "1   16h00   Sábado  ...             PE                    PE\n",
              "2   16h00   Sábado  ...             SP                    ES\n",
              "3   17h00  Domingo  ...             MG                Empate\n",
              "4   18h30  Domingo  ...             RJ                Empate\n",
              "\n",
              "[5 rows x 13 columns]"
            ]
          },
          "metadata": {
            "tags": []
          },
          "execution_count": 2
        }
      ]
    },
    {
      "cell_type": "code",
      "metadata": {
        "id": "jyVEilH9kIqp",
        "colab_type": "code",
        "colab": {
          "base_uri": "https://localhost:8080/",
          "height": 68
        },
        "outputId": "0ab3a372-065a-49c9-94f9-646825156f99"
      },
      "source": [
        "# tamanho dataset\n",
        "print('Tamanho dataset')\n",
        "print('Variáveis: {}' .format(df.shape[1]))\n",
        "print('Entradas: {}' .format(df.shape[0]))"
      ],
      "execution_count": 3,
      "outputs": [
        {
          "output_type": "stream",
          "text": [
            "Tamanho dataset\n",
            "Variáveis: 13\n",
            "Entradas: 7939\n"
          ],
          "name": "stdout"
        }
      ]
    },
    {
      "cell_type": "code",
      "metadata": {
        "id": "0KQLxV7mkxvX",
        "colab_type": "code",
        "colab": {
          "base_uri": "https://localhost:8080/",
          "height": 255
        },
        "outputId": "5465ab3e-e62a-44b5-bac0-8fe1a9a2813b"
      },
      "source": [
        "# verificando dados ausentes\n",
        "df.isnull().sum()"
      ],
      "execution_count": 4,
      "outputs": [
        {
          "output_type": "execute_result",
          "data": {
            "text/plain": [
              "Horário                  357\n",
              "Dia                        0\n",
              "Data                       0\n",
              "Clube 1                    0\n",
              "Clube 2                    0\n",
              "Vencedor                   0\n",
              "Rodada                     0\n",
              "Arena                      0\n",
              "Clube 1 Gols               0\n",
              "Clube 2 Gols               0\n",
              "Clube 1 Estado             0\n",
              "Clube 2 Estado             0\n",
              "Estado Clube Vencedor      0\n",
              "dtype: int64"
            ]
          },
          "metadata": {
            "tags": []
          },
          "execution_count": 4
        }
      ]
    },
    {
      "cell_type": "code",
      "metadata": {
        "id": "CtDmJQMlk9tA",
        "colab_type": "code",
        "colab": {
          "base_uri": "https://localhost:8080/",
          "height": 255
        },
        "outputId": "ff38447a-2c1f-4127-d35a-0e3a4947631f"
      },
      "source": [
        "# tipo dos dados\n",
        "df.dtypes"
      ],
      "execution_count": 5,
      "outputs": [
        {
          "output_type": "execute_result",
          "data": {
            "text/plain": [
              "Horário                  object\n",
              "Dia                      object\n",
              "Data                     object\n",
              "Clube 1                  object\n",
              "Clube 2                  object\n",
              "Vencedor                 object\n",
              "Rodada                   object\n",
              "Arena                    object\n",
              "Clube 1 Gols              int64\n",
              "Clube 2 Gols              int64\n",
              "Clube 1 Estado           object\n",
              "Clube 2 Estado           object\n",
              "Estado Clube Vencedor    object\n",
              "dtype: object"
            ]
          },
          "metadata": {
            "tags": []
          },
          "execution_count": 5
        }
      ]
    },
    {
      "cell_type": "code",
      "metadata": {
        "id": "c0f6dzJkqYUa",
        "colab_type": "code",
        "colab": {
          "base_uri": "https://localhost:8080/",
          "height": 297
        },
        "outputId": "39a13c33-2a09-4215-f338-306c8800a689"
      },
      "source": [
        "# informações estatísticas\n",
        "df.describe()"
      ],
      "execution_count": 6,
      "outputs": [
        {
          "output_type": "execute_result",
          "data": {
            "text/html": [
              "<div>\n",
              "<style scoped>\n",
              "    .dataframe tbody tr th:only-of-type {\n",
              "        vertical-align: middle;\n",
              "    }\n",
              "\n",
              "    .dataframe tbody tr th {\n",
              "        vertical-align: top;\n",
              "    }\n",
              "\n",
              "    .dataframe thead th {\n",
              "        text-align: right;\n",
              "    }\n",
              "</style>\n",
              "<table border=\"1\" class=\"dataframe\">\n",
              "  <thead>\n",
              "    <tr style=\"text-align: right;\">\n",
              "      <th></th>\n",
              "      <th>Clube 1 Gols</th>\n",
              "      <th>Clube 2 Gols</th>\n",
              "    </tr>\n",
              "  </thead>\n",
              "  <tbody>\n",
              "    <tr>\n",
              "      <th>count</th>\n",
              "      <td>7939.000000</td>\n",
              "      <td>7939.000000</td>\n",
              "    </tr>\n",
              "    <tr>\n",
              "      <th>mean</th>\n",
              "      <td>1.596801</td>\n",
              "      <td>1.052526</td>\n",
              "    </tr>\n",
              "    <tr>\n",
              "      <th>std</th>\n",
              "      <td>1.251372</td>\n",
              "      <td>1.039719</td>\n",
              "    </tr>\n",
              "    <tr>\n",
              "      <th>min</th>\n",
              "      <td>0.000000</td>\n",
              "      <td>0.000000</td>\n",
              "    </tr>\n",
              "    <tr>\n",
              "      <th>25%</th>\n",
              "      <td>1.000000</td>\n",
              "      <td>0.000000</td>\n",
              "    </tr>\n",
              "    <tr>\n",
              "      <th>50%</th>\n",
              "      <td>1.000000</td>\n",
              "      <td>1.000000</td>\n",
              "    </tr>\n",
              "    <tr>\n",
              "      <th>75%</th>\n",
              "      <td>2.000000</td>\n",
              "      <td>2.000000</td>\n",
              "    </tr>\n",
              "    <tr>\n",
              "      <th>max</th>\n",
              "      <td>7.000000</td>\n",
              "      <td>7.000000</td>\n",
              "    </tr>\n",
              "  </tbody>\n",
              "</table>\n",
              "</div>"
            ],
            "text/plain": [
              "       Clube 1 Gols  Clube 2 Gols\n",
              "count   7939.000000   7939.000000\n",
              "mean       1.596801      1.052526\n",
              "std        1.251372      1.039719\n",
              "min        0.000000      0.000000\n",
              "25%        1.000000      0.000000\n",
              "50%        1.000000      1.000000\n",
              "75%        2.000000      2.000000\n",
              "max        7.000000      7.000000"
            ]
          },
          "metadata": {
            "tags": []
          },
          "execution_count": 6
        }
      ]
    },
    {
      "cell_type": "markdown",
      "metadata": {
        "id": "fb1QcpCbl9Rc",
        "colab_type": "text"
      },
      "source": [
        "Como em nosso dataset não existe uma coluna `ano`, resolvi adicionar para termos uma noção de quantidade de jogos anual."
      ]
    },
    {
      "cell_type": "code",
      "metadata": {
        "id": "dk4cSzpGm56w",
        "colab_type": "code",
        "colab": {}
      },
      "source": [
        "# converte coluna data para datatime\n",
        "df['Data'] = pd.to_datetime(df['Data'])"
      ],
      "execution_count": 7,
      "outputs": []
    },
    {
      "cell_type": "code",
      "metadata": {
        "id": "-fZYN3CYp-yM",
        "colab_type": "code",
        "colab": {}
      },
      "source": [
        "# cria coluna ano\n",
        "df['Ano'] = df.Data.dt.year"
      ],
      "execution_count": 8,
      "outputs": []
    },
    {
      "cell_type": "code",
      "metadata": {
        "id": "i5v5Xa3Tobvi",
        "colab_type": "code",
        "colab": {
          "base_uri": "https://localhost:8080/",
          "height": 306
        },
        "outputId": "0e2fbe3c-7e79-4916-cf9d-6ddffd867e83"
      },
      "source": [
        "df.head()"
      ],
      "execution_count": 9,
      "outputs": [
        {
          "output_type": "execute_result",
          "data": {
            "text/html": [
              "<div>\n",
              "<style scoped>\n",
              "    .dataframe tbody tr th:only-of-type {\n",
              "        vertical-align: middle;\n",
              "    }\n",
              "\n",
              "    .dataframe tbody tr th {\n",
              "        vertical-align: top;\n",
              "    }\n",
              "\n",
              "    .dataframe thead th {\n",
              "        text-align: right;\n",
              "    }\n",
              "</style>\n",
              "<table border=\"1\" class=\"dataframe\">\n",
              "  <thead>\n",
              "    <tr style=\"text-align: right;\">\n",
              "      <th></th>\n",
              "      <th>Horário</th>\n",
              "      <th>Dia</th>\n",
              "      <th>Data</th>\n",
              "      <th>Clube 1</th>\n",
              "      <th>Clube 2</th>\n",
              "      <th>Vencedor</th>\n",
              "      <th>Rodada</th>\n",
              "      <th>Arena</th>\n",
              "      <th>Clube 1 Gols</th>\n",
              "      <th>Clube 2 Gols</th>\n",
              "      <th>Clube 1 Estado</th>\n",
              "      <th>Clube 2 Estado</th>\n",
              "      <th>Estado Clube Vencedor</th>\n",
              "      <th>Ano</th>\n",
              "    </tr>\n",
              "  </thead>\n",
              "  <tbody>\n",
              "    <tr>\n",
              "      <th>0</th>\n",
              "      <td>16h00</td>\n",
              "      <td>Sábado</td>\n",
              "      <td>2000-07-29</td>\n",
              "      <td>Fluminense</td>\n",
              "      <td>Bahia</td>\n",
              "      <td>Fluminense</td>\n",
              "      <td>1ª Rodada</td>\n",
              "      <td>Maracanã</td>\n",
              "      <td>2</td>\n",
              "      <td>0</td>\n",
              "      <td>RJ</td>\n",
              "      <td>BA</td>\n",
              "      <td>RJ</td>\n",
              "      <td>2000</td>\n",
              "    </tr>\n",
              "    <tr>\n",
              "      <th>1</th>\n",
              "      <td>16h00</td>\n",
              "      <td>Sábado</td>\n",
              "      <td>2000-07-29</td>\n",
              "      <td>Vasco</td>\n",
              "      <td>Sport</td>\n",
              "      <td>Sport</td>\n",
              "      <td>1ª Rodada</td>\n",
              "      <td>São Januário</td>\n",
              "      <td>0</td>\n",
              "      <td>2</td>\n",
              "      <td>RJ</td>\n",
              "      <td>PE</td>\n",
              "      <td>PE</td>\n",
              "      <td>2000</td>\n",
              "    </tr>\n",
              "    <tr>\n",
              "      <th>2</th>\n",
              "      <td>16h00</td>\n",
              "      <td>Sábado</td>\n",
              "      <td>2000-07-29</td>\n",
              "      <td>Vitória</td>\n",
              "      <td>Palmeiras</td>\n",
              "      <td>Vitória</td>\n",
              "      <td>1ª Rodada</td>\n",
              "      <td>Barradão</td>\n",
              "      <td>4</td>\n",
              "      <td>1</td>\n",
              "      <td>ES</td>\n",
              "      <td>SP</td>\n",
              "      <td>ES</td>\n",
              "      <td>2000</td>\n",
              "    </tr>\n",
              "    <tr>\n",
              "      <th>3</th>\n",
              "      <td>17h00</td>\n",
              "      <td>Domingo</td>\n",
              "      <td>2000-07-30</td>\n",
              "      <td>Botafogo-RJ</td>\n",
              "      <td>Atlético-MG</td>\n",
              "      <td>-</td>\n",
              "      <td>1ª Rodada</td>\n",
              "      <td>Caio Martins</td>\n",
              "      <td>0</td>\n",
              "      <td>0</td>\n",
              "      <td>RJ</td>\n",
              "      <td>MG</td>\n",
              "      <td>Empate</td>\n",
              "      <td>2000</td>\n",
              "    </tr>\n",
              "    <tr>\n",
              "      <th>4</th>\n",
              "      <td>18h30</td>\n",
              "      <td>Domingo</td>\n",
              "      <td>2000-07-30</td>\n",
              "      <td>Juventude</td>\n",
              "      <td>Flamengo</td>\n",
              "      <td>-</td>\n",
              "      <td>1ª Rodada</td>\n",
              "      <td>Alfredo Jaconi</td>\n",
              "      <td>1</td>\n",
              "      <td>1</td>\n",
              "      <td>RS</td>\n",
              "      <td>RJ</td>\n",
              "      <td>Empate</td>\n",
              "      <td>2000</td>\n",
              "    </tr>\n",
              "  </tbody>\n",
              "</table>\n",
              "</div>"
            ],
            "text/plain": [
              "  Horário      Dia       Data  ... Clube 2 Estado Estado Clube Vencedor   Ano\n",
              "0   16h00   Sábado 2000-07-29  ...             BA                    RJ  2000\n",
              "1   16h00   Sábado 2000-07-29  ...             PE                    PE  2000\n",
              "2   16h00   Sábado 2000-07-29  ...             SP                    ES  2000\n",
              "3   17h00  Domingo 2000-07-30  ...             MG                Empate  2000\n",
              "4   18h30  Domingo 2000-07-30  ...             RJ                Empate  2000\n",
              "\n",
              "[5 rows x 14 columns]"
            ]
          },
          "metadata": {
            "tags": []
          },
          "execution_count": 9
        }
      ]
    },
    {
      "cell_type": "markdown",
      "metadata": {
        "id": "5Aihzpc1ltyK",
        "colab_type": "text"
      },
      "source": [
        "## Vizualizando os dados"
      ]
    },
    {
      "cell_type": "code",
      "metadata": {
        "id": "_-ig871hsLzK",
        "colab_type": "code",
        "colab": {
          "base_uri": "https://localhost:8080/",
          "height": 34
        },
        "outputId": "f68d8a8c-c4fc-4f17-8a9d-b859172b80b5"
      },
      "source": [
        "print('Os dados analisados é de {} e vai até {} ou seja, {} anos de informação.' .format(df.Ano.min(), df.Ano.max(), df.Ano.nunique()))"
      ],
      "execution_count": 10,
      "outputs": [
        {
          "output_type": "stream",
          "text": [
            "Os dados analisados é de 2000 e vai até 2019 ou seja, 20 anos de informação.\n"
          ],
          "name": "stdout"
        }
      ]
    },
    {
      "cell_type": "code",
      "metadata": {
        "id": "h2XdN28a6ESa",
        "colab_type": "code",
        "colab": {
          "base_uri": "https://localhost:8080/",
          "height": 374
        },
        "outputId": "0da9c89e-f400-4129-93f0-816e9981cb0c"
      },
      "source": [
        "df.Ano.value_counts().sort_index()"
      ],
      "execution_count": 12,
      "outputs": [
        {
          "output_type": "execute_result",
          "data": {
            "text/plain": [
              "2000    329\n",
              "2001    387\n",
              "2002    337\n",
              "2003    552\n",
              "2004    552\n",
              "2005    462\n",
              "2006    380\n",
              "2007    383\n",
              "2008    377\n",
              "2009    380\n",
              "2010    380\n",
              "2011    380\n",
              "2012    380\n",
              "2013    380\n",
              "2014    380\n",
              "2015    380\n",
              "2016    380\n",
              "2017    380\n",
              "2018    380\n",
              "2019    380\n",
              "Name: Ano, dtype: int64"
            ]
          },
          "metadata": {
            "tags": []
          },
          "execution_count": 12
        }
      ]
    },
    {
      "cell_type": "markdown",
      "metadata": {
        "id": "4N4I47KMjt1I",
        "colab_type": "text"
      },
      "source": [
        "Interessante observar que, de 2000 até 2008, os jogos não seguiam um padrão em relação ao números de jogos. Perceba que, variava ano pós ano e, só a partir de 2009, que o campeonato seguiu com a mesma quantidade de jogos. "
      ]
    },
    {
      "cell_type": "code",
      "metadata": {
        "id": "ITNWmyFCkR9V",
        "colab_type": "code",
        "colab": {
          "base_uri": "https://localhost:8080/",
          "height": 816
        },
        "outputId": "82193918-36a0-4a7a-e851-13829e18015a"
      },
      "source": [
        "# ranking maiores vencedores de jogos\n",
        "df['Vencedor'].str.capitalize().value_counts() "
      ],
      "execution_count": 28,
      "outputs": [
        {
          "output_type": "execute_result",
          "data": {
            "text/plain": [
              "-                  2040\n",
              "São paulo           348\n",
              "Cruzeiro            326\n",
              "Santos              325\n",
              "Grêmio              308\n",
              "Internacional       303\n",
              "Flamengo            299\n",
              "Corinthians         296\n",
              "Fluminense          292\n",
              "Athlético-pr        291\n",
              "Atlético-mg         282\n",
              "Palmeiras           280\n",
              "Botafogo-rj         231\n",
              "Vasco               220\n",
              "Goiás               214\n",
              "Coritiba            187\n",
              "Vitória             152\n",
              "Figueirense         151\n",
              "Ponte preta         150\n",
              "Sport               129\n",
              "Bahia               123\n",
              "Paraná              104\n",
              "São caetano         103\n",
              "Juventude            96\n",
              "Chapecoense          69\n",
              "Guarani              63\n",
              "Portuguesa           58\n",
              "Avaí                 57\n",
              "Náutico              54\n",
              "Fortaleza            51\n",
              "Criciúma             50\n",
              "Paysandu             50\n",
              "Ceará                40\n",
              "Atlético-go          39\n",
              "América-mg           38\n",
              "Santa cruz           25\n",
              "Gama                 21\n",
              "Barueri              12\n",
              "Santo andré          11\n",
              "Brasiliense          10\n",
              "Ipatinga              9\n",
              "Csa                   8\n",
              "Joinville             7\n",
              "Grêmio prudente       7\n",
              "Botafogo-sp           6\n",
              "América-rn            4\n",
              "Name: Vencedor, dtype: int64"
            ]
          },
          "metadata": {
            "tags": []
          },
          "execution_count": 28
        }
      ]
    },
    {
      "cell_type": "code",
      "metadata": {
        "id": "IkhU59iEomfu",
        "colab_type": "code",
        "colab": {
          "base_uri": "https://localhost:8080/",
          "height": 306
        },
        "outputId": "d3dd7356-7d6e-44b1-d243-12ad0fda5413"
      },
      "source": [
        "# uf que mais venceu\n",
        "df['Estado Clube Vencedor'].value_counts()"
      ],
      "execution_count": 33,
      "outputs": [
        {
          "output_type": "execute_result",
          "data": {
            "text/plain": [
              "Empate    2040\n",
              "SP        1659\n",
              "RJ        1042\n",
              "RS         707\n",
              "MG         655\n",
              "PR         582\n",
              "SC         334\n",
              "GO         253\n",
              "PE         208\n",
              "ES         152\n",
              "BA         123\n",
              "CE          91\n",
              "PA          50\n",
              "DF          31\n",
              "AL           8\n",
              "RN           4\n",
              "Name: Estado Clube Vencedor, dtype: int64"
            ]
          },
          "metadata": {
            "tags": []
          },
          "execution_count": 33
        }
      ]
    },
    {
      "cell_type": "code",
      "metadata": {
        "id": "GYvx_EHGp3M4",
        "colab_type": "code",
        "colab": {
          "base_uri": "https://localhost:8080/",
          "height": 68
        },
        "outputId": "9381fef1-7fac-473d-b254-1de2e4afa942"
      },
      "source": [
        "(df['Arena'].value_counts() > 100).value_counts()"
      ],
      "execution_count": 40,
      "outputs": [
        {
          "output_type": "execute_result",
          "data": {
            "text/plain": [
              "False    83\n",
              "True     28\n",
              "Name: Arena, dtype: int64"
            ]
          },
          "metadata": {
            "tags": []
          },
          "execution_count": 40
        }
      ]
    },
    {
      "cell_type": "markdown",
      "metadata": {
        "id": "OA5fgIfxqh2h",
        "colab_type": "text"
      },
      "source": [
        "## **Conclusão**"
      ]
    },
    {
      "cell_type": "markdown",
      "metadata": {
        "id": "FTVaROj5qwUR",
        "colab_type": "text"
      },
      "source": [
        "Infelizmente, nosso dataset não continha uma grande variedade de entradas. Mas, conseguimos exatrir algumas informações relevantes como:\n",
        "  * **Padrão na quantidade de jogos;** vimos que ao longo de 20 anos, a quantidade de jogos mudava de um campeonato para o outro. Só não sabemos o motivo.\n",
        "  * **Maior vencedor;** é o São Paulo com 348 vitórios, seguido de Cruzeiro com 326 e Santos com 325.\n",
        "  * **Maior UF vencedor;** SP é o estado com maior número de vitórias, um total de 1.659, seguido de RJ com 1.042 e RS com 707. "
      ]
    },
    {
      "cell_type": "code",
      "metadata": {
        "id": "F5VvaLADsH38",
        "colab_type": "code",
        "colab": {}
      },
      "source": [
        ""
      ],
      "execution_count": null,
      "outputs": []
    }
  ]
}