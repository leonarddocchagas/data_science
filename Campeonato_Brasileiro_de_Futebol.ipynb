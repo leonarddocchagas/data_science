{
  "nbformat": 4,
  "nbformat_minor": 0,
  "metadata": {
    "colab": {
      "name": "Campeonato Brasileiro de Futebol.ipynb",
      "provenance": [],
      "collapsed_sections": [],
      "mount_file_id": "12kzYhH2sPU3x84InyBza81tXMxlCLkUR",
      "authorship_tag": "ABX9TyPSAOZxtrvmFclIm/acWCq3",
      "include_colab_link": true
    },
    "kernelspec": {
      "name": "python3",
      "display_name": "Python 3"
    }
  },
  "cells": [
    {
      "cell_type": "markdown",
      "metadata": {
        "id": "view-in-github",
        "colab_type": "text"
      },
      "source": [
        "<a href=\"https://colab.research.google.com/github/leonarddocchagas/data_science/blob/master/Campeonato_Brasileiro_de_Futebol.ipynb\" target=\"_parent\"><img src=\"https://colab.research.google.com/assets/colab-badge.svg\" alt=\"Open In Colab\"/></a>"
      ]
    },
    {
      "cell_type": "markdown",
      "metadata": {
        "id": "LRxi9DxZaAHu",
        "colab_type": "text"
      },
      "source": [
        "<img alt='Logo Campeonato Brasileiro de Futebol' width='20%' src='https://github.com/leonarddocchagas/data_science/blob/master/projetos/campeonato_brasileiro_de_futebol/Campeonato_Brasileiro_S%C3%A9rie_A_logo.png?raw=true' />"
      ]
    },
    {
      "cell_type": "markdown",
      "metadata": {
        "id": "cEnrAflmahim",
        "colab_type": "text"
      },
      "source": [
        "##**Analisando o Campeonato Brasileiro de Futebol**\n",
        "\n",
        "O Campeonato Brasileiro de Futebol é a principal liga de futebol profissionao do Brasil. Se comparado com outros campeonatos pelo mundo, o \"Brasileirão\", como é popularmente conhecido, é relativamente recente. Isso ocorreu, por conta da dimensões continetáis do país. \n",
        "\n",
        "No início, o interesse pela competição era baixo e o campeonato era dispultado pelas selecões dos estados, ficando limitado entre Rio-São Paulo. Assim permanete até por volta de 1966. \n",
        "\n",
        "Em 1971, o campeonato é reformulado e começa ganhar adeptos e clubes de outros estados como de Pernambuco, Bahia, Minas. O Atlético Mineiro foi campeão e é até hoje, considerado o primeiro campeão da nova formula.  "
      ]
    },
    {
      "cell_type": "markdown",
      "metadata": {
        "id": "ADp3JGPJcsk0",
        "colab_type": "text"
      },
      "source": [
        "## Sobre os dados\n",
        "\n",
        "Os dados que iremos usar, foram extraídos do Kaggle. Não encontramos dad\n",
        "  * Kaggle\n",
        "    * https://www.kaggle.com/adaoduque/campeonato-brasileiro-de-futebol\n",
        "\n",
        "**Dicionário de dados**\n",
        "\n",
        "`Horário`:  Horário que ocorreu a partida                     \n",
        "`Dia`: Dia da semana que ocorreu a partida                      \n",
        "`Data`: Data que ocorreu a partida                      \n",
        "`Clube 1` : Clube mandante                      \n",
        "`Clube 2` : Clube Visitante                      \n",
        "`Vencedor` : Clube vencedor da partida. Quando tiver \"-\", é um empate\n",
        "\n",
        "`Rodada` : Rodada que aconteceu a partida                      \n",
        "`Arena` : Arena que ocorreu a partida                      \n",
        "`Clube 1 Gols` : Gols que o clube mandante fez na partida                      \n",
        "`Clube 2 Gols` : Gols que o clube visitante fez na partida                      \n",
        "`Clube 1 Estado` : Estado do clube mandatorio                      \n",
        "`Clube 2 Estado` : Estado do clube visitante                      \n",
        "`Estado Clube Vencedor` : Estado do clube vencedor. Quando tiver \"Empate\", deu empate viu! "
      ]
    },
    {
      "cell_type": "markdown",
      "metadata": {
        "id": "a2TZr3U1eSYo",
        "colab_type": "text"
      },
      "source": [
        "## Obtenção dos Dados"
      ]
    },
    {
      "cell_type": "code",
      "metadata": {
        "id": "PA1aYWtZXpxQ",
        "colab_type": "code",
        "colab": {}
      },
      "source": [
        "# import bibliotecas\n",
        "import matplotlib.pyplot as plt\n",
        "import numpy as np\n",
        "import pandas as pd"
      ],
      "execution_count": null,
      "outputs": []
    },
    {
      "cell_type": "code",
      "metadata": {
        "id": "wH1gcVVCYEKA",
        "colab_type": "code",
        "colab": {
          "base_uri": "https://localhost:8080/",
          "height": 306
        },
        "outputId": "51db2349-b320-4d66-aa6d-19210940b921"
      },
      "source": [
        "# carrega dataset \n",
        "df = pd.read_csv('/content/drive/My Drive/Colab Data Science/Projetos/Campeonato Brasileiro de Futebol/campeonato-brasileiro.csv')\n",
        "\n",
        "# exibi as primeiras 5 linhas\n",
        "df.head()"
      ],
      "execution_count": null,
      "outputs": [
        {
          "output_type": "execute_result",
          "data": {
            "text/html": [
              "<div>\n",
              "<style scoped>\n",
              "    .dataframe tbody tr th:only-of-type {\n",
              "        vertical-align: middle;\n",
              "    }\n",
              "\n",
              "    .dataframe tbody tr th {\n",
              "        vertical-align: top;\n",
              "    }\n",
              "\n",
              "    .dataframe thead th {\n",
              "        text-align: right;\n",
              "    }\n",
              "</style>\n",
              "<table border=\"1\" class=\"dataframe\">\n",
              "  <thead>\n",
              "    <tr style=\"text-align: right;\">\n",
              "      <th></th>\n",
              "      <th>Horário</th>\n",
              "      <th>Dia</th>\n",
              "      <th>Data</th>\n",
              "      <th>Clube 1</th>\n",
              "      <th>Clube 2</th>\n",
              "      <th>Vencedor</th>\n",
              "      <th>Rodada</th>\n",
              "      <th>Arena</th>\n",
              "      <th>Clube 1 Gols</th>\n",
              "      <th>Clube 2 Gols</th>\n",
              "      <th>Clube 1 Estado</th>\n",
              "      <th>Clube 2 Estado</th>\n",
              "      <th>Estado Clube Vencedor</th>\n",
              "    </tr>\n",
              "  </thead>\n",
              "  <tbody>\n",
              "    <tr>\n",
              "      <th>0</th>\n",
              "      <td>16h00</td>\n",
              "      <td>Sábado</td>\n",
              "      <td>2000-07-29</td>\n",
              "      <td>Fluminense</td>\n",
              "      <td>Bahia</td>\n",
              "      <td>Fluminense</td>\n",
              "      <td>1ª Rodada</td>\n",
              "      <td>Maracanã</td>\n",
              "      <td>2</td>\n",
              "      <td>0</td>\n",
              "      <td>RJ</td>\n",
              "      <td>BA</td>\n",
              "      <td>RJ</td>\n",
              "    </tr>\n",
              "    <tr>\n",
              "      <th>1</th>\n",
              "      <td>16h00</td>\n",
              "      <td>Sábado</td>\n",
              "      <td>2000-07-29</td>\n",
              "      <td>Vasco</td>\n",
              "      <td>Sport</td>\n",
              "      <td>Sport</td>\n",
              "      <td>1ª Rodada</td>\n",
              "      <td>São Januário</td>\n",
              "      <td>0</td>\n",
              "      <td>2</td>\n",
              "      <td>RJ</td>\n",
              "      <td>PE</td>\n",
              "      <td>PE</td>\n",
              "    </tr>\n",
              "    <tr>\n",
              "      <th>2</th>\n",
              "      <td>16h00</td>\n",
              "      <td>Sábado</td>\n",
              "      <td>2000-07-29</td>\n",
              "      <td>Vitória</td>\n",
              "      <td>Palmeiras</td>\n",
              "      <td>Vitória</td>\n",
              "      <td>1ª Rodada</td>\n",
              "      <td>Barradão</td>\n",
              "      <td>4</td>\n",
              "      <td>1</td>\n",
              "      <td>ES</td>\n",
              "      <td>SP</td>\n",
              "      <td>ES</td>\n",
              "    </tr>\n",
              "    <tr>\n",
              "      <th>3</th>\n",
              "      <td>17h00</td>\n",
              "      <td>Domingo</td>\n",
              "      <td>2000-07-30</td>\n",
              "      <td>Botafogo-RJ</td>\n",
              "      <td>Atlético-MG</td>\n",
              "      <td>-</td>\n",
              "      <td>1ª Rodada</td>\n",
              "      <td>Caio Martins</td>\n",
              "      <td>0</td>\n",
              "      <td>0</td>\n",
              "      <td>RJ</td>\n",
              "      <td>MG</td>\n",
              "      <td>Empate</td>\n",
              "    </tr>\n",
              "    <tr>\n",
              "      <th>4</th>\n",
              "      <td>18h30</td>\n",
              "      <td>Domingo</td>\n",
              "      <td>2000-07-30</td>\n",
              "      <td>Juventude</td>\n",
              "      <td>Flamengo</td>\n",
              "      <td>-</td>\n",
              "      <td>1ª Rodada</td>\n",
              "      <td>Alfredo Jaconi</td>\n",
              "      <td>1</td>\n",
              "      <td>1</td>\n",
              "      <td>RS</td>\n",
              "      <td>RJ</td>\n",
              "      <td>Empate</td>\n",
              "    </tr>\n",
              "  </tbody>\n",
              "</table>\n",
              "</div>"
            ],
            "text/plain": [
              "  Horário      Dia  ... Clube 2 Estado Estado Clube Vencedor\n",
              "0   16h00   Sábado  ...             BA                    RJ\n",
              "1   16h00   Sábado  ...             PE                    PE\n",
              "2   16h00   Sábado  ...             SP                    ES\n",
              "3   17h00  Domingo  ...             MG                Empate\n",
              "4   18h30  Domingo  ...             RJ                Empate\n",
              "\n",
              "[5 rows x 13 columns]"
            ]
          },
          "metadata": {
            "tags": []
          },
          "execution_count": 2
        }
      ]
    },
    {
      "cell_type": "code",
      "metadata": {
        "id": "jyVEilH9kIqp",
        "colab_type": "code",
        "colab": {
          "base_uri": "https://localhost:8080/",
          "height": 68
        },
        "outputId": "b4aac66f-accd-4b59-c5a7-be0013a23fb7"
      },
      "source": [
        "# tamanho dataset\n",
        "print('Tamanho dataset')\n",
        "print('Variáveis: {}' .format(df.shape[1]))\n",
        "print('Entradas: {}' .format(df.shape[0]))"
      ],
      "execution_count": null,
      "outputs": [
        {
          "output_type": "stream",
          "text": [
            "Tamanho dataset\n",
            "Variáveis: 13\n",
            "Entradas: 7939\n"
          ],
          "name": "stdout"
        }
      ]
    },
    {
      "cell_type": "code",
      "metadata": {
        "id": "0KQLxV7mkxvX",
        "colab_type": "code",
        "colab": {
          "base_uri": "https://localhost:8080/",
          "height": 255
        },
        "outputId": "be19fa3a-e2d2-4259-9ee3-8b8a9d1c09f9"
      },
      "source": [
        "# verificando dados ausentes\n",
        "df.isnull().sum()"
      ],
      "execution_count": null,
      "outputs": [
        {
          "output_type": "execute_result",
          "data": {
            "text/plain": [
              "Horário                  357\n",
              "Dia                        0\n",
              "Data                       0\n",
              "Clube 1                    0\n",
              "Clube 2                    0\n",
              "Vencedor                   0\n",
              "Rodada                     0\n",
              "Arena                      0\n",
              "Clube 1 Gols               0\n",
              "Clube 2 Gols               0\n",
              "Clube 1 Estado             0\n",
              "Clube 2 Estado             0\n",
              "Estado Clube Vencedor      0\n",
              "dtype: int64"
            ]
          },
          "metadata": {
            "tags": []
          },
          "execution_count": 4
        }
      ]
    },
    {
      "cell_type": "code",
      "metadata": {
        "id": "CtDmJQMlk9tA",
        "colab_type": "code",
        "colab": {
          "base_uri": "https://localhost:8080/",
          "height": 255
        },
        "outputId": "3fe77dc6-791c-47e1-9ae7-b35343ac8360"
      },
      "source": [
        "# tipo dos dados\n",
        "df.dtypes"
      ],
      "execution_count": null,
      "outputs": [
        {
          "output_type": "execute_result",
          "data": {
            "text/plain": [
              "Horário                  object\n",
              "Dia                      object\n",
              "Data                     object\n",
              "Clube 1                  object\n",
              "Clube 2                  object\n",
              "Vencedor                 object\n",
              "Rodada                   object\n",
              "Arena                    object\n",
              "Clube 1 Gols              int64\n",
              "Clube 2 Gols              int64\n",
              "Clube 1 Estado           object\n",
              "Clube 2 Estado           object\n",
              "Estado Clube Vencedor    object\n",
              "dtype: object"
            ]
          },
          "metadata": {
            "tags": []
          },
          "execution_count": 5
        }
      ]
    },
    {
      "cell_type": "code",
      "metadata": {
        "id": "c0f6dzJkqYUa",
        "colab_type": "code",
        "colab": {
          "base_uri": "https://localhost:8080/",
          "height": 297
        },
        "outputId": "4a894e02-eccb-4993-83d5-ccd5d0bc8b21"
      },
      "source": [
        "# informações estatísticas\n",
        "df.describe()"
      ],
      "execution_count": null,
      "outputs": [
        {
          "output_type": "execute_result",
          "data": {
            "text/html": [
              "<div>\n",
              "<style scoped>\n",
              "    .dataframe tbody tr th:only-of-type {\n",
              "        vertical-align: middle;\n",
              "    }\n",
              "\n",
              "    .dataframe tbody tr th {\n",
              "        vertical-align: top;\n",
              "    }\n",
              "\n",
              "    .dataframe thead th {\n",
              "        text-align: right;\n",
              "    }\n",
              "</style>\n",
              "<table border=\"1\" class=\"dataframe\">\n",
              "  <thead>\n",
              "    <tr style=\"text-align: right;\">\n",
              "      <th></th>\n",
              "      <th>Clube 1 Gols</th>\n",
              "      <th>Clube 2 Gols</th>\n",
              "    </tr>\n",
              "  </thead>\n",
              "  <tbody>\n",
              "    <tr>\n",
              "      <th>count</th>\n",
              "      <td>7939.000000</td>\n",
              "      <td>7939.000000</td>\n",
              "    </tr>\n",
              "    <tr>\n",
              "      <th>mean</th>\n",
              "      <td>1.596801</td>\n",
              "      <td>1.052526</td>\n",
              "    </tr>\n",
              "    <tr>\n",
              "      <th>std</th>\n",
              "      <td>1.251372</td>\n",
              "      <td>1.039719</td>\n",
              "    </tr>\n",
              "    <tr>\n",
              "      <th>min</th>\n",
              "      <td>0.000000</td>\n",
              "      <td>0.000000</td>\n",
              "    </tr>\n",
              "    <tr>\n",
              "      <th>25%</th>\n",
              "      <td>1.000000</td>\n",
              "      <td>0.000000</td>\n",
              "    </tr>\n",
              "    <tr>\n",
              "      <th>50%</th>\n",
              "      <td>1.000000</td>\n",
              "      <td>1.000000</td>\n",
              "    </tr>\n",
              "    <tr>\n",
              "      <th>75%</th>\n",
              "      <td>2.000000</td>\n",
              "      <td>2.000000</td>\n",
              "    </tr>\n",
              "    <tr>\n",
              "      <th>max</th>\n",
              "      <td>7.000000</td>\n",
              "      <td>7.000000</td>\n",
              "    </tr>\n",
              "  </tbody>\n",
              "</table>\n",
              "</div>"
            ],
            "text/plain": [
              "       Clube 1 Gols  Clube 2 Gols\n",
              "count   7939.000000   7939.000000\n",
              "mean       1.596801      1.052526\n",
              "std        1.251372      1.039719\n",
              "min        0.000000      0.000000\n",
              "25%        1.000000      0.000000\n",
              "50%        1.000000      1.000000\n",
              "75%        2.000000      2.000000\n",
              "max        7.000000      7.000000"
            ]
          },
          "metadata": {
            "tags": []
          },
          "execution_count": 6
        }
      ]
    },
    {
      "cell_type": "markdown",
      "metadata": {
        "id": "fb1QcpCbl9Rc",
        "colab_type": "text"
      },
      "source": [
        "Como em nosso dataset não existe uma coluna `ano`, resolvi adicionar para termos uma noção de quantidade de jogos anual."
      ]
    },
    {
      "cell_type": "code",
      "metadata": {
        "id": "dk4cSzpGm56w",
        "colab_type": "code",
        "colab": {}
      },
      "source": [
        "# converte coluna data para datatime\n",
        "df['Data'] = pd.to_datetime(df['Data'])"
      ],
      "execution_count": null,
      "outputs": []
    },
    {
      "cell_type": "code",
      "metadata": {
        "id": "-fZYN3CYp-yM",
        "colab_type": "code",
        "colab": {}
      },
      "source": [
        "# cria coluna ano\n",
        "df['Ano'] = df.Data.dt.year"
      ],
      "execution_count": null,
      "outputs": []
    },
    {
      "cell_type": "code",
      "metadata": {
        "id": "i5v5Xa3Tobvi",
        "colab_type": "code",
        "colab": {
          "base_uri": "https://localhost:8080/",
          "height": 306
        },
        "outputId": "9e299dfb-410b-4d22-c544-bc37399b2cf2"
      },
      "source": [
        "df.head()"
      ],
      "execution_count": null,
      "outputs": [
        {
          "output_type": "execute_result",
          "data": {
            "text/html": [
              "<div>\n",
              "<style scoped>\n",
              "    .dataframe tbody tr th:only-of-type {\n",
              "        vertical-align: middle;\n",
              "    }\n",
              "\n",
              "    .dataframe tbody tr th {\n",
              "        vertical-align: top;\n",
              "    }\n",
              "\n",
              "    .dataframe thead th {\n",
              "        text-align: right;\n",
              "    }\n",
              "</style>\n",
              "<table border=\"1\" class=\"dataframe\">\n",
              "  <thead>\n",
              "    <tr style=\"text-align: right;\">\n",
              "      <th></th>\n",
              "      <th>Horário</th>\n",
              "      <th>Dia</th>\n",
              "      <th>Data</th>\n",
              "      <th>Clube 1</th>\n",
              "      <th>Clube 2</th>\n",
              "      <th>Vencedor</th>\n",
              "      <th>Rodada</th>\n",
              "      <th>Arena</th>\n",
              "      <th>Clube 1 Gols</th>\n",
              "      <th>Clube 2 Gols</th>\n",
              "      <th>Clube 1 Estado</th>\n",
              "      <th>Clube 2 Estado</th>\n",
              "      <th>Estado Clube Vencedor</th>\n",
              "      <th>Ano</th>\n",
              "    </tr>\n",
              "  </thead>\n",
              "  <tbody>\n",
              "    <tr>\n",
              "      <th>0</th>\n",
              "      <td>16h00</td>\n",
              "      <td>Sábado</td>\n",
              "      <td>2000-07-29</td>\n",
              "      <td>Fluminense</td>\n",
              "      <td>Bahia</td>\n",
              "      <td>Fluminense</td>\n",
              "      <td>1ª Rodada</td>\n",
              "      <td>Maracanã</td>\n",
              "      <td>2</td>\n",
              "      <td>0</td>\n",
              "      <td>RJ</td>\n",
              "      <td>BA</td>\n",
              "      <td>RJ</td>\n",
              "      <td>2000</td>\n",
              "    </tr>\n",
              "    <tr>\n",
              "      <th>1</th>\n",
              "      <td>16h00</td>\n",
              "      <td>Sábado</td>\n",
              "      <td>2000-07-29</td>\n",
              "      <td>Vasco</td>\n",
              "      <td>Sport</td>\n",
              "      <td>Sport</td>\n",
              "      <td>1ª Rodada</td>\n",
              "      <td>São Januário</td>\n",
              "      <td>0</td>\n",
              "      <td>2</td>\n",
              "      <td>RJ</td>\n",
              "      <td>PE</td>\n",
              "      <td>PE</td>\n",
              "      <td>2000</td>\n",
              "    </tr>\n",
              "    <tr>\n",
              "      <th>2</th>\n",
              "      <td>16h00</td>\n",
              "      <td>Sábado</td>\n",
              "      <td>2000-07-29</td>\n",
              "      <td>Vitória</td>\n",
              "      <td>Palmeiras</td>\n",
              "      <td>Vitória</td>\n",
              "      <td>1ª Rodada</td>\n",
              "      <td>Barradão</td>\n",
              "      <td>4</td>\n",
              "      <td>1</td>\n",
              "      <td>ES</td>\n",
              "      <td>SP</td>\n",
              "      <td>ES</td>\n",
              "      <td>2000</td>\n",
              "    </tr>\n",
              "    <tr>\n",
              "      <th>3</th>\n",
              "      <td>17h00</td>\n",
              "      <td>Domingo</td>\n",
              "      <td>2000-07-30</td>\n",
              "      <td>Botafogo-RJ</td>\n",
              "      <td>Atlético-MG</td>\n",
              "      <td>-</td>\n",
              "      <td>1ª Rodada</td>\n",
              "      <td>Caio Martins</td>\n",
              "      <td>0</td>\n",
              "      <td>0</td>\n",
              "      <td>RJ</td>\n",
              "      <td>MG</td>\n",
              "      <td>Empate</td>\n",
              "      <td>2000</td>\n",
              "    </tr>\n",
              "    <tr>\n",
              "      <th>4</th>\n",
              "      <td>18h30</td>\n",
              "      <td>Domingo</td>\n",
              "      <td>2000-07-30</td>\n",
              "      <td>Juventude</td>\n",
              "      <td>Flamengo</td>\n",
              "      <td>-</td>\n",
              "      <td>1ª Rodada</td>\n",
              "      <td>Alfredo Jaconi</td>\n",
              "      <td>1</td>\n",
              "      <td>1</td>\n",
              "      <td>RS</td>\n",
              "      <td>RJ</td>\n",
              "      <td>Empate</td>\n",
              "      <td>2000</td>\n",
              "    </tr>\n",
              "  </tbody>\n",
              "</table>\n",
              "</div>"
            ],
            "text/plain": [
              "  Horário      Dia       Data  ... Clube 2 Estado Estado Clube Vencedor   Ano\n",
              "0   16h00   Sábado 2000-07-29  ...             BA                    RJ  2000\n",
              "1   16h00   Sábado 2000-07-29  ...             PE                    PE  2000\n",
              "2   16h00   Sábado 2000-07-29  ...             SP                    ES  2000\n",
              "3   17h00  Domingo 2000-07-30  ...             MG                Empate  2000\n",
              "4   18h30  Domingo 2000-07-30  ...             RJ                Empate  2000\n",
              "\n",
              "[5 rows x 14 columns]"
            ]
          },
          "metadata": {
            "tags": []
          },
          "execution_count": 9
        }
      ]
    },
    {
      "cell_type": "markdown",
      "metadata": {
        "id": "6DSFrh7lv4Xw",
        "colab_type": "text"
      },
      "source": [
        "Em nosso dataset, a quantidade de gols é contabilizado em colunas separadas `Clube 1 Gols` e `Clube 2 Gols`. Vamos criar uma única coluna, somando as duas para termos um total de gols por jogos. "
      ]
    },
    {
      "cell_type": "code",
      "metadata": {
        "id": "HZbPwiy4vQKr",
        "colab_type": "code",
        "colab": {
          "base_uri": "https://localhost:8080/",
          "height": 306
        },
        "outputId": "2ccc7d23-dd28-4657-eadf-8b1324b8695a"
      },
      "source": [
        "# criando coluna quantiade de gols por jogos\n",
        "df['Qtde_Gols'] = df['Clube 1 Gols'] + df['Clube 2 Gols']\n",
        "df.head()"
      ],
      "execution_count": null,
      "outputs": [
        {
          "output_type": "execute_result",
          "data": {
            "text/html": [
              "<div>\n",
              "<style scoped>\n",
              "    .dataframe tbody tr th:only-of-type {\n",
              "        vertical-align: middle;\n",
              "    }\n",
              "\n",
              "    .dataframe tbody tr th {\n",
              "        vertical-align: top;\n",
              "    }\n",
              "\n",
              "    .dataframe thead th {\n",
              "        text-align: right;\n",
              "    }\n",
              "</style>\n",
              "<table border=\"1\" class=\"dataframe\">\n",
              "  <thead>\n",
              "    <tr style=\"text-align: right;\">\n",
              "      <th></th>\n",
              "      <th>Horário</th>\n",
              "      <th>Dia</th>\n",
              "      <th>Data</th>\n",
              "      <th>Clube 1</th>\n",
              "      <th>Clube 2</th>\n",
              "      <th>Vencedor</th>\n",
              "      <th>Rodada</th>\n",
              "      <th>Arena</th>\n",
              "      <th>Clube 1 Gols</th>\n",
              "      <th>Clube 2 Gols</th>\n",
              "      <th>Clube 1 Estado</th>\n",
              "      <th>Clube 2 Estado</th>\n",
              "      <th>Estado Clube Vencedor</th>\n",
              "      <th>Ano</th>\n",
              "      <th>Qtde. Gols</th>\n",
              "      <th>Qtde_Gols</th>\n",
              "    </tr>\n",
              "  </thead>\n",
              "  <tbody>\n",
              "    <tr>\n",
              "      <th>0</th>\n",
              "      <td>16h00</td>\n",
              "      <td>Sábado</td>\n",
              "      <td>2000-07-29</td>\n",
              "      <td>Fluminense</td>\n",
              "      <td>Bahia</td>\n",
              "      <td>Fluminense</td>\n",
              "      <td>1ª Rodada</td>\n",
              "      <td>Maracanã</td>\n",
              "      <td>2</td>\n",
              "      <td>0</td>\n",
              "      <td>RJ</td>\n",
              "      <td>BA</td>\n",
              "      <td>RJ</td>\n",
              "      <td>2000</td>\n",
              "      <td>2</td>\n",
              "      <td>2</td>\n",
              "    </tr>\n",
              "    <tr>\n",
              "      <th>1</th>\n",
              "      <td>16h00</td>\n",
              "      <td>Sábado</td>\n",
              "      <td>2000-07-29</td>\n",
              "      <td>Vasco</td>\n",
              "      <td>Sport</td>\n",
              "      <td>Sport</td>\n",
              "      <td>1ª Rodada</td>\n",
              "      <td>São Januário</td>\n",
              "      <td>0</td>\n",
              "      <td>2</td>\n",
              "      <td>RJ</td>\n",
              "      <td>PE</td>\n",
              "      <td>PE</td>\n",
              "      <td>2000</td>\n",
              "      <td>2</td>\n",
              "      <td>2</td>\n",
              "    </tr>\n",
              "    <tr>\n",
              "      <th>2</th>\n",
              "      <td>16h00</td>\n",
              "      <td>Sábado</td>\n",
              "      <td>2000-07-29</td>\n",
              "      <td>Vitória</td>\n",
              "      <td>Palmeiras</td>\n",
              "      <td>Vitória</td>\n",
              "      <td>1ª Rodada</td>\n",
              "      <td>Barradão</td>\n",
              "      <td>4</td>\n",
              "      <td>1</td>\n",
              "      <td>ES</td>\n",
              "      <td>SP</td>\n",
              "      <td>ES</td>\n",
              "      <td>2000</td>\n",
              "      <td>5</td>\n",
              "      <td>5</td>\n",
              "    </tr>\n",
              "    <tr>\n",
              "      <th>3</th>\n",
              "      <td>17h00</td>\n",
              "      <td>Domingo</td>\n",
              "      <td>2000-07-30</td>\n",
              "      <td>Botafogo-RJ</td>\n",
              "      <td>Atlético-MG</td>\n",
              "      <td>-</td>\n",
              "      <td>1ª Rodada</td>\n",
              "      <td>Caio Martins</td>\n",
              "      <td>0</td>\n",
              "      <td>0</td>\n",
              "      <td>RJ</td>\n",
              "      <td>MG</td>\n",
              "      <td>Empate</td>\n",
              "      <td>2000</td>\n",
              "      <td>0</td>\n",
              "      <td>0</td>\n",
              "    </tr>\n",
              "    <tr>\n",
              "      <th>4</th>\n",
              "      <td>18h30</td>\n",
              "      <td>Domingo</td>\n",
              "      <td>2000-07-30</td>\n",
              "      <td>Juventude</td>\n",
              "      <td>Flamengo</td>\n",
              "      <td>-</td>\n",
              "      <td>1ª Rodada</td>\n",
              "      <td>Alfredo Jaconi</td>\n",
              "      <td>1</td>\n",
              "      <td>1</td>\n",
              "      <td>RS</td>\n",
              "      <td>RJ</td>\n",
              "      <td>Empate</td>\n",
              "      <td>2000</td>\n",
              "      <td>2</td>\n",
              "      <td>2</td>\n",
              "    </tr>\n",
              "  </tbody>\n",
              "</table>\n",
              "</div>"
            ],
            "text/plain": [
              "  Horário      Dia       Data  ...   Ano Qtde. Gols Qtde_Gols\n",
              "0   16h00   Sábado 2000-07-29  ...  2000          2         2\n",
              "1   16h00   Sábado 2000-07-29  ...  2000          2         2\n",
              "2   16h00   Sábado 2000-07-29  ...  2000          5         5\n",
              "3   17h00  Domingo 2000-07-30  ...  2000          0         0\n",
              "4   18h30  Domingo 2000-07-30  ...  2000          2         2\n",
              "\n",
              "[5 rows x 16 columns]"
            ]
          },
          "metadata": {
            "tags": []
          },
          "execution_count": 17
        }
      ]
    },
    {
      "cell_type": "markdown",
      "metadata": {
        "id": "5Aihzpc1ltyK",
        "colab_type": "text"
      },
      "source": [
        "## Vizualizando os dados"
      ]
    },
    {
      "cell_type": "code",
      "metadata": {
        "id": "_-ig871hsLzK",
        "colab_type": "code",
        "colab": {
          "base_uri": "https://localhost:8080/",
          "height": 34
        },
        "outputId": "51e24b95-15d9-46a9-d352-0b57413cf38e"
      },
      "source": [
        "print('Os dados analisados é de {} e vai até {} ou seja, {} anos de informação.' .format(df.Ano.min(), df.Ano.max(), df.Ano.nunique()))"
      ],
      "execution_count": null,
      "outputs": [
        {
          "output_type": "stream",
          "text": [
            "Os dados analisados é de 2000 e vai até 2019 ou seja, 20 anos de informação.\n"
          ],
          "name": "stdout"
        }
      ]
    },
    {
      "cell_type": "code",
      "metadata": {
        "id": "h2XdN28a6ESa",
        "colab_type": "code",
        "colab": {
          "base_uri": "https://localhost:8080/",
          "height": 374
        },
        "outputId": "b04df69f-acc4-40bd-b3d4-5506821488a3"
      },
      "source": [
        "df.Ano.value_counts().sort_index()"
      ],
      "execution_count": null,
      "outputs": [
        {
          "output_type": "execute_result",
          "data": {
            "text/plain": [
              "2000    329\n",
              "2001    387\n",
              "2002    337\n",
              "2003    552\n",
              "2004    552\n",
              "2005    462\n",
              "2006    380\n",
              "2007    383\n",
              "2008    377\n",
              "2009    380\n",
              "2010    380\n",
              "2011    380\n",
              "2012    380\n",
              "2013    380\n",
              "2014    380\n",
              "2015    380\n",
              "2016    380\n",
              "2017    380\n",
              "2018    380\n",
              "2019    380\n",
              "Name: Ano, dtype: int64"
            ]
          },
          "metadata": {
            "tags": []
          },
          "execution_count": 12
        }
      ]
    },
    {
      "cell_type": "markdown",
      "metadata": {
        "id": "4N4I47KMjt1I",
        "colab_type": "text"
      },
      "source": [
        "Interessante observar que, de 2000 até 2008, os jogos não seguiam um padrão em relação ao números de jogos. Perceba que, variava ano pós ano e, só a partir de 2009, que o campeonato seguiu com a mesma quantidade de jogos. "
      ]
    },
    {
      "cell_type": "code",
      "metadata": {
        "id": "ITNWmyFCkR9V",
        "colab_type": "code",
        "colab": {
          "base_uri": "https://localhost:8080/",
          "height": 816
        },
        "outputId": "3eced213-fe6a-4f08-d17a-b2cee1ada2a9"
      },
      "source": [
        "# ranking maiores vencedores de jogos\n",
        "df['Vencedor'].str.capitalize().value_counts() "
      ],
      "execution_count": null,
      "outputs": [
        {
          "output_type": "execute_result",
          "data": {
            "text/plain": [
              "-                  2040\n",
              "São paulo           348\n",
              "Cruzeiro            326\n",
              "Santos              325\n",
              "Grêmio              308\n",
              "Internacional       303\n",
              "Flamengo            299\n",
              "Corinthians         296\n",
              "Fluminense          292\n",
              "Athlético-pr        291\n",
              "Atlético-mg         282\n",
              "Palmeiras           280\n",
              "Botafogo-rj         231\n",
              "Vasco               220\n",
              "Goiás               214\n",
              "Coritiba            187\n",
              "Vitória             152\n",
              "Figueirense         151\n",
              "Ponte preta         150\n",
              "Sport               129\n",
              "Bahia               123\n",
              "Paraná              104\n",
              "São caetano         103\n",
              "Juventude            96\n",
              "Chapecoense          69\n",
              "Guarani              63\n",
              "Portuguesa           58\n",
              "Avaí                 57\n",
              "Náutico              54\n",
              "Fortaleza            51\n",
              "Criciúma             50\n",
              "Paysandu             50\n",
              "Ceará                40\n",
              "Atlético-go          39\n",
              "América-mg           38\n",
              "Santa cruz           25\n",
              "Gama                 21\n",
              "Barueri              12\n",
              "Santo andré          11\n",
              "Brasiliense          10\n",
              "Ipatinga              9\n",
              "Csa                   8\n",
              "Joinville             7\n",
              "Grêmio prudente       7\n",
              "Botafogo-sp           6\n",
              "América-rn            4\n",
              "Name: Vencedor, dtype: int64"
            ]
          },
          "metadata": {
            "tags": []
          },
          "execution_count": 13
        }
      ]
    },
    {
      "cell_type": "code",
      "metadata": {
        "id": "IkhU59iEomfu",
        "colab_type": "code",
        "colab": {
          "base_uri": "https://localhost:8080/",
          "height": 306
        },
        "outputId": "fe054be9-23fd-4d89-c54e-ba00a9c94b98"
      },
      "source": [
        "# uf que mais venceu\n",
        "df['Estado Clube Vencedor'].value_counts()"
      ],
      "execution_count": null,
      "outputs": [
        {
          "output_type": "execute_result",
          "data": {
            "text/plain": [
              "Empate    2040\n",
              "SP        1659\n",
              "RJ        1042\n",
              "RS         707\n",
              "MG         655\n",
              "PR         582\n",
              "SC         334\n",
              "GO         253\n",
              "PE         208\n",
              "ES         152\n",
              "BA         123\n",
              "CE          91\n",
              "PA          50\n",
              "DF          31\n",
              "AL           8\n",
              "RN           4\n",
              "Name: Estado Clube Vencedor, dtype: int64"
            ]
          },
          "metadata": {
            "tags": []
          },
          "execution_count": 14
        }
      ]
    },
    {
      "cell_type": "code",
      "metadata": {
        "id": "GYvx_EHGp3M4",
        "colab_type": "code",
        "colab": {
          "base_uri": "https://localhost:8080/",
          "height": 320
        },
        "outputId": "6b46ddbf-fcf9-48de-e7b8-a47f9d7a9d84"
      },
      "source": [
        "# distribuição de jogos por dia da semana\n",
        "df.Dia.hist(bins=7, figsize=(8,5));"
      ],
      "execution_count": null,
      "outputs": [
        {
          "output_type": "display_data",
          "data": {
            "image/png": "[encoded data removed]",
            "text/plain": [
              "<Figure size 576x360 with 1 Axes>"
            ]
          },
          "metadata": {
            "tags": [],
            "needs_background": "light"
          }
        }
      ]
    },
    {
      "cell_type": "markdown",
      "metadata": {
        "id": "OA5fgIfxqh2h",
        "colab_type": "text"
      },
      "source": [
        "## **Conclusão**"
      ]
    },
    {
      "cell_type": "markdown",
      "metadata": {
        "id": "FTVaROj5qwUR",
        "colab_type": "text"
      },
      "source": [
        "Infelizmente, nosso dataset não continha uma grande variedade de variáveis. Mas, conseguimos exatrir algumas informações relevantes como:\n",
        "  * **Padrão na quantidade de jogos;** vimos que ao longo de 20 anos, a quantidade de jogos mudava de um campeonato para o outro. Só não sabemos o motivo.\n",
        "  * **Maior vencedor;** é o São Paulo com 348 vitórias, seguido de Cruzeiro com 326 e Santos com 325.\n",
        "  * **Maior UF vencedor;** SP é o estado com maior número de vitórias, um total de 1.659, seguido de RJ com 1.042 e RS com 707. "
      ]
    }
  ]
}