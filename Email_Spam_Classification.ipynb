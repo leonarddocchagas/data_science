{
  "nbformat": 4,
  "nbformat_minor": 0,
  "metadata": {
    "colab": {
      "name": "Email Spam Classification.ipynb",
      "provenance": [],
      "authorship_tag": "ABX9TyMiw2DNOO2WSPNiuijjz4Yz",
      "include_colab_link": true
    },
    "kernelspec": {
      "name": "python3",
      "display_name": "Python 3"
    },
    "language_info": {
      "name": "python"
    }
  },
  "cells": [
    {
      "cell_type": "markdown",
      "metadata": {
        "id": "view-in-github",
        "colab_type": "text"
      },
      "source": [
        "<a href=\"https://colab.research.google.com/github/leonarddocchagas/data_science/blob/master/Email_Spam_Classification.ipynb\" target=\"_parent\"><img src=\"https://colab.research.google.com/assets/colab-badge.svg\" alt=\"Open In Colab\"/></a>"
      ]
    },
    {
      "cell_type": "code",
      "execution_count": 3,
      "metadata": {
        "id": "viZHHVAQkoOv"
      },
      "outputs": [],
      "source": [
        "import os\n",
        "import pandas as pd"
      ]
    },
    {
      "cell_type": "code",
      "source": [
        "df = pd.read_csv('/content/sample_data/emails.csv')\n",
        "df.columns"
      ],
      "metadata": {
        "colab": {
          "base_uri": "https://localhost:8080/"
        },
        "id": "Ayo7s3Pbmmmf",
        "outputId": "19941139-104b-463f-9c61-ff82aa2c102b"
      },
      "execution_count": 5,
      "outputs": [
        {
          "output_type": "execute_result",
          "data": {
            "text/plain": [
              "Index(['Email No.', 'the', 'to', 'ect', 'and', 'for', 'of', 'a', 'you', 'hou',\n",
              "       ...\n",
              "       'connevey', 'jay', 'valued', 'lay', 'infrastructure', 'military',\n",
              "       'allowing', 'ff', 'dry', 'Prediction'],\n",
              "      dtype='object', length=3002)"
            ]
          },
          "metadata": {},
          "execution_count": 5
        }
      ]
    }
  ]
}