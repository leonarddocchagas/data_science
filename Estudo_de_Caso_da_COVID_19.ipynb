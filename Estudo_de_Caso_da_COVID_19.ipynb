{
  "nbformat": 4,
  "nbformat_minor": 0,
  "metadata": {
    "colab": {
      "name": "Estudo de Caso da COVID-19.ipynb",
      "provenance": [],
      "authorship_tag": "ABX9TyNRRlJicSQjjuoJvVNlaK2b",
      "include_colab_link": true
    },
    "kernelspec": {
      "name": "python3",
      "display_name": "Python 3"
    }
  },
  "cells": [
    {
      "cell_type": "markdown",
      "metadata": {
        "id": "view-in-github",
        "colab_type": "text"
      },
      "source": [
        "<a href=\"https://colab.research.google.com/github/leonarddocchagas/data_science/blob/master/Estudo_de_Caso_da_COVID_19.ipynb\" target=\"_parent\"><img src=\"https://colab.research.google.com/assets/colab-badge.svg\" alt=\"Open In Colab\"/></a>"
      ]
    },
    {
      "cell_type": "markdown",
      "metadata": {
        "id": "b7NDp3jmGxVe",
        "colab_type": "text"
      },
      "source": [
        "<img alt='Covid-19' width='20%' src='https://github.com/leonarddocchagas/data_science/blob/master/projetos/covid_19/covid_19.png?raw=true' />\n",
        "\n",
        "##**Estudo de Caso da COVID-19**"
      ]
    },
    {
      "cell_type": "markdown",
      "metadata": {
        "id": "QErQmDh8HXFA",
        "colab_type": "text"
      },
      "source": [
        "##**Estudo de Caso da COVID-19**"
      ]
    },
    {
      "cell_type": "code",
      "metadata": {
        "id": "QFEhoESKHZFw",
        "colab_type": "code",
        "colab": {}
      },
      "source": [
        ""
      ],
      "execution_count": null,
      "outputs": []
    }
  ]
}