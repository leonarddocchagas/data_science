{
  "nbformat": 4,
  "nbformat_minor": 0,
  "metadata": {
    "colab": {
      "name": "Estudo de Caso da COVID-19.ipynb",
      "provenance": [],
      "collapsed_sections": [],
      "authorship_tag": "ABX9TyPXAXTIQBEpMqg2T2btsRib",
      "include_colab_link": true
    },
    "kernelspec": {
      "name": "python3",
      "display_name": "Python 3"
    }
  },
  "cells": [
    {
      "cell_type": "markdown",
      "metadata": {
        "id": "view-in-github",
        "colab_type": "text"
      },
      "source": [
        "<a href=\"https://colab.research.google.com/github/leonarddocchagas/data_science/blob/master/Estudo_de_Caso_da_COVID_19.ipynb\" target=\"_parent\"><img src=\"https://colab.research.google.com/assets/colab-badge.svg\" alt=\"Open In Colab\"/></a>"
      ]
    },
    {
      "cell_type": "markdown",
      "metadata": {
        "id": "b7NDp3jmGxVe"
      },
      "source": [
        "<img alt='Covid-19' width='20%' src='https://github.com/leonarddocchagas/data_science/blob/master/projetos/covid_19/covid_19.png?raw=true' />\n",
        "\n",
        "##**Estudo de Caso da COVID-19**\n",
        "\n",
        "Os coronavírus são uma grande família de vírus comuns em muitas espécies diferentes de animais, incluindo camelos, gado, gatos e morcegos. Raramente, os coronavírus que infectam animais podem infectar pessoas, como exemplo do MERS-CoV e SARS-CoV. Recentemente, em dezembro de 2019, houve a transmissão de um novo coronavírus (SARS-CoV-2), o qual foi identificado em Wuhan na China e causou a COVID-19, sendo em seguida disseminada e transmitida pessoa a pessoa.\n",
        "\n",
        "A COVID-19 é uma doença causada pelo coronavírus, denominado SARS-CoV-2, que apresenta um espectro clínico variando de infecções assintomáticas a quadros graves. De acordo com a Organização Mundial de Saúde, a maioria (cerca de 80%) dos pacientes com COVID-19 podem ser assintomáticos ou oligossintomáticos (poucos sintomas), e aproximadamente 20% dos casos detectados requer atendimento hospitalar por apresentarem dificuldade respiratória, dos quais aproximadamente 5% podem necessitar de suporte ventilatório.\n",
        "\n",
        "- Fonte: Ministério da Saúde: https://coronavirus.saude.gov.br/sobre-a-doenca"
      ]
    },
    {
      "cell_type": "markdown",
      "metadata": {
        "id": "p19DG-9WJVE6"
      },
      "source": [
        "##Obtenção dos Dados\n",
        "\n",
        "####**Sobre**\n",
        "No caso do Brasil, a dificuldade em ter acesso aos dados de qualidade é grande. Em meio ao maior problema de saúda de nossa Era, existem questão uma \"guerra política\" e que, digamos, acontece desde o tempo do império. Impressa e Governo divergem em relação aos números e, como sempre, quem sofre é a população.\n",
        "\n",
        "Os dados que serão utilizado na análise, foram retirados no portal open-source <a href='https://ourworldindata.org/coronavirus/country/brazil?country=~BRA'>Our World in Data</a> e possuem registro da doença de diversos países pelo mundo. \n",
        "\n",
        "**Fonte**\n",
        "* Url: https://ourworldindata.org/coronavirus/country/brazil?country=~BRA\n",
        "\n",
        "####**Dicionário**\n",
        "Por conta da quantidade de linha, resolvi não apresentar de forma visual, então, para quem quiser consultar o dicionário de dados, basta acessar o link que está logo abaixo:\n",
        "https://github.com/leonarddocchagas/data_science/blob/master/projetos/covid_19/DicionarioCovid19.xlsx"
      ]
    },
    {
      "cell_type": "markdown",
      "metadata": {
        "id": "_gMFRLkyLP6y"
      },
      "source": [
        "##Análise Exploratória"
      ]
    },
    {
      "cell_type": "code",
      "metadata": {
        "id": "Zng0GtraLWd3",
        "outputId": "28d5e6e6-d60e-49a3-8194-d2624dfa9a29",
        "colab": {
          "base_uri": "https://localhost:8080/",
          "height": 309
        }
      },
      "source": [
        "# bibliotecas\n",
        "import pandas as pd\n",
        "import matplotlib.pyplot as plt\n",
        "#import matplotlib.gridspec as GridSpec\n",
        "import seaborn as sns\n",
        "\n",
        "%matplotlib notebook\n",
        "\n",
        "# path\n",
        "dataset_path = 'https://raw.githubusercontent.com/leonarddocchagas/data_science/master/projetos/covid_19/owid-covid-data.csv'\n",
        "# dataset\n",
        "df = pd.read_csv(dataset_path)\n",
        "df.head()"
      ],
      "execution_count": 1,
      "outputs": [
        {
          "output_type": "execute_result",
          "data": {
            "text/html": [
              "<div>\n",
              "<style scoped>\n",
              "    .dataframe tbody tr th:only-of-type {\n",
              "        vertical-align: middle;\n",
              "    }\n",
              "\n",
              "    .dataframe tbody tr th {\n",
              "        vertical-align: top;\n",
              "    }\n",
              "\n",
              "    .dataframe thead th {\n",
              "        text-align: right;\n",
              "    }\n",
              "</style>\n",
              "<table border=\"1\" class=\"dataframe\">\n",
              "  <thead>\n",
              "    <tr style=\"text-align: right;\">\n",
              "      <th></th>\n",
              "      <th>iso_code</th>\n",
              "      <th>continent</th>\n",
              "      <th>location</th>\n",
              "      <th>date</th>\n",
              "      <th>total_cases</th>\n",
              "      <th>new_cases</th>\n",
              "      <th>new_cases_smoothed</th>\n",
              "      <th>total_deaths</th>\n",
              "      <th>new_deaths</th>\n",
              "      <th>new_deaths_smoothed</th>\n",
              "      <th>total_cases_per_million</th>\n",
              "      <th>new_cases_per_million</th>\n",
              "      <th>new_cases_smoothed_per_million</th>\n",
              "      <th>total_deaths_per_million</th>\n",
              "      <th>new_deaths_per_million</th>\n",
              "      <th>new_deaths_smoothed_per_million</th>\n",
              "      <th>new_tests</th>\n",
              "      <th>total_tests</th>\n",
              "      <th>total_tests_per_thousand</th>\n",
              "      <th>new_tests_per_thousand</th>\n",
              "      <th>new_tests_smoothed</th>\n",
              "      <th>new_tests_smoothed_per_thousand</th>\n",
              "      <th>tests_per_case</th>\n",
              "      <th>positive_rate</th>\n",
              "      <th>tests_units</th>\n",
              "      <th>stringency_index</th>\n",
              "      <th>population</th>\n",
              "      <th>population_density</th>\n",
              "      <th>median_age</th>\n",
              "      <th>aged_65_older</th>\n",
              "      <th>aged_70_older</th>\n",
              "      <th>gdp_per_capita</th>\n",
              "      <th>extreme_poverty</th>\n",
              "      <th>cardiovasc_death_rate</th>\n",
              "      <th>diabetes_prevalence</th>\n",
              "      <th>female_smokers</th>\n",
              "      <th>male_smokers</th>\n",
              "      <th>handwashing_facilities</th>\n",
              "      <th>hospital_beds_per_thousand</th>\n",
              "      <th>life_expectancy</th>\n",
              "      <th>human_development_index</th>\n",
              "    </tr>\n",
              "  </thead>\n",
              "  <tbody>\n",
              "    <tr>\n",
              "      <th>0</th>\n",
              "      <td>AFG</td>\n",
              "      <td>Asia</td>\n",
              "      <td>Afghanistan</td>\n",
              "      <td>2019-12-31</td>\n",
              "      <td>0.0</td>\n",
              "      <td>0.0</td>\n",
              "      <td>NaN</td>\n",
              "      <td>0.0</td>\n",
              "      <td>0.0</td>\n",
              "      <td>NaN</td>\n",
              "      <td>0.0</td>\n",
              "      <td>0.0</td>\n",
              "      <td>NaN</td>\n",
              "      <td>0.0</td>\n",
              "      <td>0.0</td>\n",
              "      <td>NaN</td>\n",
              "      <td>NaN</td>\n",
              "      <td>NaN</td>\n",
              "      <td>NaN</td>\n",
              "      <td>NaN</td>\n",
              "      <td>NaN</td>\n",
              "      <td>NaN</td>\n",
              "      <td>NaN</td>\n",
              "      <td>NaN</td>\n",
              "      <td>NaN</td>\n",
              "      <td>NaN</td>\n",
              "      <td>38928341.0</td>\n",
              "      <td>54.422</td>\n",
              "      <td>18.6</td>\n",
              "      <td>2.581</td>\n",
              "      <td>1.337</td>\n",
              "      <td>1803.987</td>\n",
              "      <td>NaN</td>\n",
              "      <td>597.029</td>\n",
              "      <td>9.59</td>\n",
              "      <td>NaN</td>\n",
              "      <td>NaN</td>\n",
              "      <td>37.746</td>\n",
              "      <td>0.5</td>\n",
              "      <td>64.83</td>\n",
              "      <td>0.498</td>\n",
              "    </tr>\n",
              "    <tr>\n",
              "      <th>1</th>\n",
              "      <td>AFG</td>\n",
              "      <td>Asia</td>\n",
              "      <td>Afghanistan</td>\n",
              "      <td>2020-01-01</td>\n",
              "      <td>0.0</td>\n",
              "      <td>0.0</td>\n",
              "      <td>NaN</td>\n",
              "      <td>0.0</td>\n",
              "      <td>0.0</td>\n",
              "      <td>NaN</td>\n",
              "      <td>0.0</td>\n",
              "      <td>0.0</td>\n",
              "      <td>NaN</td>\n",
              "      <td>0.0</td>\n",
              "      <td>0.0</td>\n",
              "      <td>NaN</td>\n",
              "      <td>NaN</td>\n",
              "      <td>NaN</td>\n",
              "      <td>NaN</td>\n",
              "      <td>NaN</td>\n",
              "      <td>NaN</td>\n",
              "      <td>NaN</td>\n",
              "      <td>NaN</td>\n",
              "      <td>NaN</td>\n",
              "      <td>NaN</td>\n",
              "      <td>0.0</td>\n",
              "      <td>38928341.0</td>\n",
              "      <td>54.422</td>\n",
              "      <td>18.6</td>\n",
              "      <td>2.581</td>\n",
              "      <td>1.337</td>\n",
              "      <td>1803.987</td>\n",
              "      <td>NaN</td>\n",
              "      <td>597.029</td>\n",
              "      <td>9.59</td>\n",
              "      <td>NaN</td>\n",
              "      <td>NaN</td>\n",
              "      <td>37.746</td>\n",
              "      <td>0.5</td>\n",
              "      <td>64.83</td>\n",
              "      <td>0.498</td>\n",
              "    </tr>\n",
              "    <tr>\n",
              "      <th>2</th>\n",
              "      <td>AFG</td>\n",
              "      <td>Asia</td>\n",
              "      <td>Afghanistan</td>\n",
              "      <td>2020-01-02</td>\n",
              "      <td>0.0</td>\n",
              "      <td>0.0</td>\n",
              "      <td>NaN</td>\n",
              "      <td>0.0</td>\n",
              "      <td>0.0</td>\n",
              "      <td>NaN</td>\n",
              "      <td>0.0</td>\n",
              "      <td>0.0</td>\n",
              "      <td>NaN</td>\n",
              "      <td>0.0</td>\n",
              "      <td>0.0</td>\n",
              "      <td>NaN</td>\n",
              "      <td>NaN</td>\n",
              "      <td>NaN</td>\n",
              "      <td>NaN</td>\n",
              "      <td>NaN</td>\n",
              "      <td>NaN</td>\n",
              "      <td>NaN</td>\n",
              "      <td>NaN</td>\n",
              "      <td>NaN</td>\n",
              "      <td>NaN</td>\n",
              "      <td>0.0</td>\n",
              "      <td>38928341.0</td>\n",
              "      <td>54.422</td>\n",
              "      <td>18.6</td>\n",
              "      <td>2.581</td>\n",
              "      <td>1.337</td>\n",
              "      <td>1803.987</td>\n",
              "      <td>NaN</td>\n",
              "      <td>597.029</td>\n",
              "      <td>9.59</td>\n",
              "      <td>NaN</td>\n",
              "      <td>NaN</td>\n",
              "      <td>37.746</td>\n",
              "      <td>0.5</td>\n",
              "      <td>64.83</td>\n",
              "      <td>0.498</td>\n",
              "    </tr>\n",
              "    <tr>\n",
              "      <th>3</th>\n",
              "      <td>AFG</td>\n",
              "      <td>Asia</td>\n",
              "      <td>Afghanistan</td>\n",
              "      <td>2020-01-03</td>\n",
              "      <td>0.0</td>\n",
              "      <td>0.0</td>\n",
              "      <td>NaN</td>\n",
              "      <td>0.0</td>\n",
              "      <td>0.0</td>\n",
              "      <td>NaN</td>\n",
              "      <td>0.0</td>\n",
              "      <td>0.0</td>\n",
              "      <td>NaN</td>\n",
              "      <td>0.0</td>\n",
              "      <td>0.0</td>\n",
              "      <td>NaN</td>\n",
              "      <td>NaN</td>\n",
              "      <td>NaN</td>\n",
              "      <td>NaN</td>\n",
              "      <td>NaN</td>\n",
              "      <td>NaN</td>\n",
              "      <td>NaN</td>\n",
              "      <td>NaN</td>\n",
              "      <td>NaN</td>\n",
              "      <td>NaN</td>\n",
              "      <td>0.0</td>\n",
              "      <td>38928341.0</td>\n",
              "      <td>54.422</td>\n",
              "      <td>18.6</td>\n",
              "      <td>2.581</td>\n",
              "      <td>1.337</td>\n",
              "      <td>1803.987</td>\n",
              "      <td>NaN</td>\n",
              "      <td>597.029</td>\n",
              "      <td>9.59</td>\n",
              "      <td>NaN</td>\n",
              "      <td>NaN</td>\n",
              "      <td>37.746</td>\n",
              "      <td>0.5</td>\n",
              "      <td>64.83</td>\n",
              "      <td>0.498</td>\n",
              "    </tr>\n",
              "    <tr>\n",
              "      <th>4</th>\n",
              "      <td>AFG</td>\n",
              "      <td>Asia</td>\n",
              "      <td>Afghanistan</td>\n",
              "      <td>2020-01-04</td>\n",
              "      <td>0.0</td>\n",
              "      <td>0.0</td>\n",
              "      <td>NaN</td>\n",
              "      <td>0.0</td>\n",
              "      <td>0.0</td>\n",
              "      <td>NaN</td>\n",
              "      <td>0.0</td>\n",
              "      <td>0.0</td>\n",
              "      <td>NaN</td>\n",
              "      <td>0.0</td>\n",
              "      <td>0.0</td>\n",
              "      <td>NaN</td>\n",
              "      <td>NaN</td>\n",
              "      <td>NaN</td>\n",
              "      <td>NaN</td>\n",
              "      <td>NaN</td>\n",
              "      <td>NaN</td>\n",
              "      <td>NaN</td>\n",
              "      <td>NaN</td>\n",
              "      <td>NaN</td>\n",
              "      <td>NaN</td>\n",
              "      <td>0.0</td>\n",
              "      <td>38928341.0</td>\n",
              "      <td>54.422</td>\n",
              "      <td>18.6</td>\n",
              "      <td>2.581</td>\n",
              "      <td>1.337</td>\n",
              "      <td>1803.987</td>\n",
              "      <td>NaN</td>\n",
              "      <td>597.029</td>\n",
              "      <td>9.59</td>\n",
              "      <td>NaN</td>\n",
              "      <td>NaN</td>\n",
              "      <td>37.746</td>\n",
              "      <td>0.5</td>\n",
              "      <td>64.83</td>\n",
              "      <td>0.498</td>\n",
              "    </tr>\n",
              "  </tbody>\n",
              "</table>\n",
              "</div>"
            ],
            "text/plain": [
              "  iso_code continent  ... life_expectancy human_development_index\n",
              "0      AFG      Asia  ...           64.83                   0.498\n",
              "1      AFG      Asia  ...           64.83                   0.498\n",
              "2      AFG      Asia  ...           64.83                   0.498\n",
              "3      AFG      Asia  ...           64.83                   0.498\n",
              "4      AFG      Asia  ...           64.83                   0.498\n",
              "\n",
              "[5 rows x 41 columns]"
            ]
          },
          "metadata": {
            "tags": []
          },
          "execution_count": 1
        }
      ]
    },
    {
      "cell_type": "markdown",
      "metadata": {
        "id": "OH7xH-3oFwWI"
      },
      "source": [
        "**Tamanho e variáveis**"
      ]
    },
    {
      "cell_type": "code",
      "metadata": {
        "id": "xbby3k0hGt9g",
        "outputId": "b51c3ced-2673-4498-a809-5cd0010becbb",
        "colab": {
          "base_uri": "https://localhost:8080/"
        }
      },
      "source": [
        "# exibindo colunas dataset\n",
        "df.columns"
      ],
      "execution_count": 2,
      "outputs": [
        {
          "output_type": "execute_result",
          "data": {
            "text/plain": [
              "Index(['iso_code', 'continent', 'location', 'date', 'total_cases', 'new_cases',\n",
              "       'new_cases_smoothed', 'total_deaths', 'new_deaths',\n",
              "       'new_deaths_smoothed', 'total_cases_per_million',\n",
              "       'new_cases_per_million', 'new_cases_smoothed_per_million',\n",
              "       'total_deaths_per_million', 'new_deaths_per_million',\n",
              "       'new_deaths_smoothed_per_million', 'new_tests', 'total_tests',\n",
              "       'total_tests_per_thousand', 'new_tests_per_thousand',\n",
              "       'new_tests_smoothed', 'new_tests_smoothed_per_thousand',\n",
              "       'tests_per_case', 'positive_rate', 'tests_units', 'stringency_index',\n",
              "       'population', 'population_density', 'median_age', 'aged_65_older',\n",
              "       'aged_70_older', 'gdp_per_capita', 'extreme_poverty',\n",
              "       'cardiovasc_death_rate', 'diabetes_prevalence', 'female_smokers',\n",
              "       'male_smokers', 'handwashing_facilities', 'hospital_beds_per_thousand',\n",
              "       'life_expectancy', 'human_development_index'],\n",
              "      dtype='object')"
            ]
          },
          "metadata": {
            "tags": []
          },
          "execution_count": 2
        }
      ]
    },
    {
      "cell_type": "code",
      "metadata": {
        "id": "VwDZNwC4cnhU",
        "outputId": "49ffc05d-4041-4ad0-8f7b-a4a85d6d89fb",
        "colab": {
          "base_uri": "https://localhost:8080/"
        }
      },
      "source": [
        "# tamanho dataset\n",
        "print('Entradas: {}' .format(df.shape[0]))\n",
        "print('Variáveis: {}' .format(df.shape[1]))"
      ],
      "execution_count": 3,
      "outputs": [
        {
          "output_type": "stream",
          "text": [
            "Entradas: 42863\n",
            "Variáveis: 41\n"
          ],
          "name": "stdout"
        }
      ]
    },
    {
      "cell_type": "code",
      "metadata": {
        "id": "kbWtyXVmdeAH",
        "outputId": "fba04b6b-3fcb-458a-ec4a-46effab8354c",
        "colab": {
          "base_uri": "https://localhost:8080/"
        }
      },
      "source": [
        "# tipos de dados\n",
        "df.dtypes"
      ],
      "execution_count": 4,
      "outputs": [
        {
          "output_type": "execute_result",
          "data": {
            "text/plain": [
              "iso_code                            object\n",
              "continent                           object\n",
              "location                            object\n",
              "date                                object\n",
              "total_cases                        float64\n",
              "new_cases                          float64\n",
              "new_cases_smoothed                 float64\n",
              "total_deaths                       float64\n",
              "new_deaths                         float64\n",
              "new_deaths_smoothed                float64\n",
              "total_cases_per_million            float64\n",
              "new_cases_per_million              float64\n",
              "new_cases_smoothed_per_million     float64\n",
              "total_deaths_per_million           float64\n",
              "new_deaths_per_million             float64\n",
              "new_deaths_smoothed_per_million    float64\n",
              "new_tests                          float64\n",
              "total_tests                        float64\n",
              "total_tests_per_thousand           float64\n",
              "new_tests_per_thousand             float64\n",
              "new_tests_smoothed                 float64\n",
              "new_tests_smoothed_per_thousand    float64\n",
              "tests_per_case                     float64\n",
              "positive_rate                      float64\n",
              "tests_units                         object\n",
              "stringency_index                   float64\n",
              "population                         float64\n",
              "population_density                 float64\n",
              "median_age                         float64\n",
              "aged_65_older                      float64\n",
              "aged_70_older                      float64\n",
              "gdp_per_capita                     float64\n",
              "extreme_poverty                    float64\n",
              "cardiovasc_death_rate              float64\n",
              "diabetes_prevalence                float64\n",
              "female_smokers                     float64\n",
              "male_smokers                       float64\n",
              "handwashing_facilities             float64\n",
              "hospital_beds_per_thousand         float64\n",
              "life_expectancy                    float64\n",
              "human_development_index            float64\n",
              "dtype: object"
            ]
          },
          "metadata": {
            "tags": []
          },
          "execution_count": 4
        }
      ]
    },
    {
      "cell_type": "markdown",
      "metadata": {
        "id": "_K64KpgLF8f6"
      },
      "source": [
        "**Dados faltantes e tratamento**"
      ]
    },
    {
      "cell_type": "markdown",
      "metadata": {
        "id": "xJPDI7kSeHt6"
      },
      "source": [
        "Verificamos que em nosso dataset, a coluna data está com o tipo `object` e, estando neste formado, interfere negativamente em nossas plotagem gráfica. O melhor a fazer é converter para tipo \"date\" e ainda, separar por mês e ano. "
      ]
    },
    {
      "cell_type": "code",
      "metadata": {
        "id": "8Qxnq3KOfJCd"
      },
      "source": [
        "# convertendo para tipo date\n",
        "df['date'] = pd.to_datetime(df['date'])"
      ],
      "execution_count": 5,
      "outputs": []
    },
    {
      "cell_type": "code",
      "metadata": {
        "id": "vIlPaVxrgdj8"
      },
      "source": [
        "# criando coluna ano e mês\n",
        "# ano\n",
        "df['ano'] = df.date.dt.year\n",
        "\n",
        "# mês\n",
        "df['mes'] = df.date.dt.month\n",
        "\n",
        "# dia\n",
        "df['dia'] = df.date.dt.day"
      ],
      "execution_count": 6,
      "outputs": []
    },
    {
      "cell_type": "code",
      "metadata": {
        "id": "Oj7FHo59D-CC",
        "outputId": "0311de9b-2674-4dae-e037-becb08bbf012",
        "colab": {
          "base_uri": "https://localhost:8080/",
          "height": 80
        }
      },
      "source": [
        "# verificar as novas colunas\n",
        "df.filter(items=['ano', 'mes']).head(1)"
      ],
      "execution_count": 7,
      "outputs": [
        {
          "output_type": "execute_result",
          "data": {
            "text/html": [
              "<div>\n",
              "<style scoped>\n",
              "    .dataframe tbody tr th:only-of-type {\n",
              "        vertical-align: middle;\n",
              "    }\n",
              "\n",
              "    .dataframe tbody tr th {\n",
              "        vertical-align: top;\n",
              "    }\n",
              "\n",
              "    .dataframe thead th {\n",
              "        text-align: right;\n",
              "    }\n",
              "</style>\n",
              "<table border=\"1\" class=\"dataframe\">\n",
              "  <thead>\n",
              "    <tr style=\"text-align: right;\">\n",
              "      <th></th>\n",
              "      <th>ano</th>\n",
              "      <th>mes</th>\n",
              "    </tr>\n",
              "  </thead>\n",
              "  <tbody>\n",
              "    <tr>\n",
              "      <th>0</th>\n",
              "      <td>2019</td>\n",
              "      <td>12</td>\n",
              "    </tr>\n",
              "  </tbody>\n",
              "</table>\n",
              "</div>"
            ],
            "text/plain": [
              "    ano  mes\n",
              "0  2019   12"
            ]
          },
          "metadata": {
            "tags": []
          },
          "execution_count": 7
        }
      ]
    },
    {
      "cell_type": "code",
      "metadata": {
        "id": "QE2eAjj-dH47",
        "outputId": "aebd2df9-27a0-4124-89ff-7bbca8adef24",
        "colab": {
          "base_uri": "https://localhost:8080/"
        }
      },
      "source": [
        "# verificar faltantes\n",
        "df.isnull().sum() #/ df.shape[0]"
      ],
      "execution_count": 8,
      "outputs": [
        {
          "output_type": "execute_result",
          "data": {
            "text/plain": [
              "iso_code                             255\n",
              "continent                            510\n",
              "location                               0\n",
              "date                                   0\n",
              "total_cases                          580\n",
              "new_cases                            771\n",
              "new_cases_smoothed                  1553\n",
              "total_deaths                         580\n",
              "new_deaths                           771\n",
              "new_deaths_smoothed                 1553\n",
              "total_cases_per_million              835\n",
              "new_cases_per_million                835\n",
              "new_cases_smoothed_per_million      1618\n",
              "total_deaths_per_million             835\n",
              "new_deaths_per_million               835\n",
              "new_deaths_smoothed_per_million     1618\n",
              "new_tests                          28296\n",
              "total_tests                        27928\n",
              "total_tests_per_thousand           27928\n",
              "new_tests_per_thousand             28296\n",
              "new_tests_smoothed                 26477\n",
              "new_tests_smoothed_per_thousand    26477\n",
              "tests_per_case                     27668\n",
              "positive_rate                      27288\n",
              "tests_units                        25687\n",
              "stringency_index                    7379\n",
              "population                           255\n",
              "population_density                  2175\n",
              "median_age                          4608\n",
              "aged_65_older                       5173\n",
              "aged_70_older                       4806\n",
              "gdp_per_capita                      5091\n",
              "extreme_poverty                    17639\n",
              "cardiovasc_death_rate               4595\n",
              "diabetes_prevalence                 3257\n",
              "female_smokers                     12778\n",
              "male_smokers                       13155\n",
              "handwashing_facilities             25033\n",
              "hospital_beds_per_thousand          8234\n",
              "life_expectancy                      786\n",
              "human_development_index             5939\n",
              "ano                                    0\n",
              "mes                                    0\n",
              "dia                                    0\n",
              "dtype: int64"
            ]
          },
          "metadata": {
            "tags": []
          },
          "execution_count": 8
        }
      ]
    },
    {
      "cell_type": "markdown",
      "metadata": {
        "id": "KTwnsU3jG6pd"
      },
      "source": [
        "## Visualizando os dados"
      ]
    },
    {
      "cell_type": "code",
      "metadata": {
        "id": "ASizo4o6HGqi",
        "outputId": "4a68a3a7-39f6-4eca-e8a6-e851ff8b2b67",
        "colab": {
          "base_uri": "https://localhost:8080/"
        }
      },
      "source": [
        "# casos por ano\n",
        "df.ano.value_counts()"
      ],
      "execution_count": 9,
      "outputs": [
        {
          "output_type": "execute_result",
          "data": {
            "text/plain": [
              "2020    42795\n",
              "2019       68\n",
              "Name: ano, dtype: int64"
            ]
          },
          "metadata": {
            "tags": []
          },
          "execution_count": 9
        }
      ]
    },
    {
      "cell_type": "markdown",
      "metadata": {
        "id": "QuJeulKrofnG"
      },
      "source": [
        "Como o número esmagador de casos ocorreu em 2020, resolvemos filtrar nosso dataset para trazer informação do mesmo. "
      ]
    },
    {
      "cell_type": "code",
      "metadata": {
        "id": "tzMBjvEapPxG"
      },
      "source": [
        "# limitando dataset\n",
        "df = df.loc[df['ano'] == 2020]"
      ],
      "execution_count": 10,
      "outputs": []
    },
    {
      "cell_type": "code",
      "metadata": {
        "id": "Lvbo7A0j-R42",
        "outputId": "50f92cab-d1f1-4e39-8a34-d4cafaa1df50",
        "colab": {
          "base_uri": "https://localhost:8080/",
          "height": 204
        }
      },
      "source": [
        "# top 3 total de mortes\n",
        "df_top5 = df.loc[df['date'] == '2020-09-10', ['location', 'total_deaths']].sort_values(by='total_deaths', ascending=False)[1:6]\n",
        "\n",
        "# exibe top 5\n",
        "df_top5.head()"
      ],
      "execution_count": 11,
      "outputs": [
        {
          "output_type": "execute_result",
          "data": {
            "text/html": [
              "<div>\n",
              "<style scoped>\n",
              "    .dataframe tbody tr th:only-of-type {\n",
              "        vertical-align: middle;\n",
              "    }\n",
              "\n",
              "    .dataframe tbody tr th {\n",
              "        vertical-align: top;\n",
              "    }\n",
              "\n",
              "    .dataframe thead th {\n",
              "        text-align: right;\n",
              "    }\n",
              "</style>\n",
              "<table border=\"1\" class=\"dataframe\">\n",
              "  <thead>\n",
              "    <tr style=\"text-align: right;\">\n",
              "      <th></th>\n",
              "      <th>location</th>\n",
              "      <th>total_deaths</th>\n",
              "    </tr>\n",
              "  </thead>\n",
              "  <tbody>\n",
              "    <tr>\n",
              "      <th>40562</th>\n",
              "      <td>United States</td>\n",
              "      <td>190815.0</td>\n",
              "    </tr>\n",
              "    <tr>\n",
              "      <th>5773</th>\n",
              "      <td>Brazil</td>\n",
              "      <td>128539.0</td>\n",
              "    </tr>\n",
              "    <tr>\n",
              "      <th>18151</th>\n",
              "      <td>India</td>\n",
              "      <td>75062.0</td>\n",
              "    </tr>\n",
              "    <tr>\n",
              "      <th>25452</th>\n",
              "      <td>Mexico</td>\n",
              "      <td>69095.0</td>\n",
              "    </tr>\n",
              "    <tr>\n",
              "      <th>40307</th>\n",
              "      <td>United Kingdom</td>\n",
              "      <td>41594.0</td>\n",
              "    </tr>\n",
              "  </tbody>\n",
              "</table>\n",
              "</div>"
            ],
            "text/plain": [
              "             location  total_deaths\n",
              "40562   United States      190815.0\n",
              "5773           Brazil      128539.0\n",
              "18151           India       75062.0\n",
              "25452          Mexico       69095.0\n",
              "40307  United Kingdom       41594.0"
            ]
          },
          "metadata": {
            "tags": []
          },
          "execution_count": 11
        }
      ]
    },
    {
      "cell_type": "code",
      "metadata": {
        "id": "cDUn6bKpwZJY"
      },
      "source": [
        "# movimentação dos ultimos 31 dias, do penúltimo mês de coleta.\n",
        "df_31_dias_agosto = df.loc[(df.date >= '2020-08-01') & (df.date <= '2020-08-31'), ['dia', 'total_deaths']].sort_values('total_deaths')"
      ],
      "execution_count": 12,
      "outputs": []
    },
    {
      "cell_type": "code",
      "metadata": {
        "id": "d8mjT7wuwQaw",
        "outputId": "6d835999-7e6c-4b62-ed19-a7e77b490dc6",
        "colab": {
          "base_uri": "https://localhost:8080/",
          "height": 225
        }
      },
      "source": [
        "# gráfico: top 5 e movimentação dos 31 dias de Agosto/2020\n",
        "fig, ax = plt.subplots(figsize=(10, 3))\n",
        "\n",
        "# gráfico 1\n",
        "ax.barh(df_top5.location, df_top5.total_deaths, color='#a56cf9')\n",
        "\n",
        "plt.tight_layout()"
      ],
      "execution_count": 13,
      "outputs": [
        {
          "output_type": "display_data",
          "data": {
            "image/png": "[encoded data removed]",
            "text/plain": [
              "<Figure size 720x216 with 1 Axes>"
            ]
          },
          "metadata": {
            "tags": [],
            "needs_background": "light"
          }
        }
      ]
    },
    {
      "cell_type": "markdown",
      "metadata": {
        "id": "4V4dEOTG81Li"
      },
      "source": [
        "##Conclusão\n"
      ]
    },
    {
      "cell_type": "markdown",
      "metadata": {
        "id": "Td5wD6pO_ZjA"
      },
      "source": [
        "O Ano de 2020 sem dúvidas entrou para histório, pena que, de forma negativa. Ano que vivemos a maior pandemia que se tem registro. Muitas mortes em todos os pais do mundo. Países unidos em busca de uma vacina para estacionar as perdas. Espero tudo isso sirva de lição e, nos fortaleça como humanidade. "
      ]
    }
  ]
}