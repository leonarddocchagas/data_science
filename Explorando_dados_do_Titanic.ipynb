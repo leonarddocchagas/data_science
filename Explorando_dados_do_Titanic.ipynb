{
  "nbformat": 4,
  "nbformat_minor": 0,
  "metadata": {
    "colab": {
      "name": "Explorando dados do Titanic.ipynb",
      "provenance": [],
      "authorship_tag": "ABX9TyO2EuGVA1NKQO0qd6IT5BM0",
      "include_colab_link": true
    },
    "kernelspec": {
      "name": "python3",
      "display_name": "Python 3"
    }
  },
  "cells": [
    {
      "cell_type": "markdown",
      "metadata": {
        "id": "view-in-github",
        "colab_type": "text"
      },
      "source": [
        "<a href=\"https://colab.research.google.com/github/leonarddocchagas/data_science/blob/master/Explorando_dados_do_Titanic.ipynb\" target=\"_parent\"><img src=\"https://colab.research.google.com/assets/colab-badge.svg\" alt=\"Open In Colab\"/></a>"
      ]
    },
    {
      "cell_type": "code",
      "metadata": {
        "id": "JNBDbh6dNk5u",
        "colab_type": "code",
        "colab": {}
      },
      "source": [
        "# teste"
      ],
      "execution_count": 0,
      "outputs": []
    }
  ]
}