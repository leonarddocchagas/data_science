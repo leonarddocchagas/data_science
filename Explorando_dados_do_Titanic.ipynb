{
  "nbformat": 4,
  "nbformat_minor": 0,
  "metadata": {
    "colab": {
      "name": "Explorando dados do Titanic.ipynb",
      "provenance": [],
      "authorship_tag": "ABX9TyOfHbWQaiVAUSD7nBHdDMUE",
      "include_colab_link": true
    },
    "kernelspec": {
      "name": "python3",
      "display_name": "Python 3"
    }
  },
  "cells": [
    {
      "cell_type": "markdown",
      "metadata": {
        "id": "view-in-github",
        "colab_type": "text"
      },
      "source": [
        "<a href=\"https://colab.research.google.com/github/leonarddocchagas/data_science/blob/master/Explorando_dados_do_Titanic.ipynb\" target=\"_parent\"><img src=\"https://colab.research.google.com/assets/colab-badge.svg\" alt=\"Open In Colab\"/></a>"
      ]
    },
    {
      "cell_type": "markdown",
      "metadata": {
        "id": "mormOh77j0tf",
        "colab_type": "text"
      },
      "source": [
        "<img alt=\"Colaboratory logo\" width=\"20%\" src=\"https://github.com/leonarddocchagas/data_science/blob/master/projetos/_imagens/Titanic.png?raw=true\" align=\"center\">"
      ]
    },
    {
      "cell_type": "markdown",
      "metadata": {
        "id": "EvM2_0eYo4A1",
        "colab_type": "text"
      },
      "source": [
        "## Análise dos Dados do Titanic\n",
        "\n",
        "Tenho certeza que já ouviu falar do navio \"Que nem Deus pode afundar!\". Frase que ficou marcada na produção cinamatográfica de James Cameron. \n",
        "\n",
        "A história do Titanic realmente é incrível em todos os aspectos. Em seu tempo, era considerado a maior embarcação já criada e os números comprovam. Tinha 269 metros de comprimento, 28 metros de largura e 53 metros de altura. Operava com uma tripulação de 892 pessoas e podia transportar até 2435 passageiros.\n",
        "\n",
        "O objetivo dessa análise é explorar os números em busca de *insights*. Vamos lá!"
      ]
    },
    {
      "cell_type": "code",
      "metadata": {
        "id": "2o0XIhQEo7s2",
        "colab_type": "code",
        "colab": {}
      },
      "source": [
        ""
      ],
      "execution_count": 0,
      "outputs": []
    }
  ]
}