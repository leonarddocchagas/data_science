{
  "nbformat": 4,
  "nbformat_minor": 0,
  "metadata": {
    "colab": {
      "name": "Explorando dados do Titanic.ipynb",
      "provenance": [],
      "authorship_tag": "ABX9TyNCE5iVv6jSUcjvHR5p10Ce",
      "include_colab_link": true
    },
    "kernelspec": {
      "name": "python3",
      "display_name": "Python 3"
    }
  },
  "cells": [
    {
      "cell_type": "markdown",
      "metadata": {
        "id": "view-in-github",
        "colab_type": "text"
      },
      "source": [
        "<a href=\"https://colab.research.google.com/github/leonarddocchagas/data_science/blob/master/Explorando_dados_do_Titanic.ipynb\" target=\"_parent\"><img src=\"https://colab.research.google.com/assets/colab-badge.svg\" alt=\"Open In Colab\"/></a>"
      ]
    },
    {
      "cell_type": "code",
      "metadata": {
        "id": "mxues16dZcyD",
        "colab_type": "code",
        "colab": {}
      },
      "source": [
        ""
      ],
      "execution_count": 0,
      "outputs": []
    },
    {
      "cell_type": "markdown",
      "metadata": {
        "id": "EqNrZDoZCu-W",
        "colab_type": "text"
      },
      "source": [
        "<p><img alt=\"Colaboratory logo\" height=\"45px\" src=\"/img/colab_favicon.ico\" align=\"left\" hspace=\"10px\" vspace=\"0px\"></p>"
      ]
    },
    {
      "cell_type": "code",
      "metadata": {
        "id": "JNBDbh6dNk5u",
        "colab_type": "code",
        "colab": {}
      },
      "source": [
        "# teste"
      ],
      "execution_count": 0,
      "outputs": []
    },
    {
      "cell_type": "markdown",
      "metadata": {
        "id": "l7vfjdbMZ2pX",
        "colab_type": "text"
      },
      "source": [
        "![alt text](https://drive.google.com/uc/d/1tR4M2maLGBTun3N4yyq-dTzDdQPucFna/view?usp=sharing)"
      ]
    }
  ]
}