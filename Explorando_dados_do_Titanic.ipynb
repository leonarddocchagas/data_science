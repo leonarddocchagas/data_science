{
  "nbformat": 4,
  "nbformat_minor": 0,
  "metadata": {
    "colab": {
      "name": "Explorando dados do Titanic.ipynb",
      "provenance": [],
      "collapsed_sections": [],
      "authorship_tag": "ABX9TyNXvf1ZnSYn9/Ds2Bvgh7ei",
      "include_colab_link": true
    },
    "kernelspec": {
      "name": "python3",
      "display_name": "Python 3"
    }
  },
  "cells": [
    {
      "cell_type": "markdown",
      "metadata": {
        "id": "view-in-github",
        "colab_type": "text"
      },
      "source": [
        "<a href=\"https://colab.research.google.com/github/leonarddocchagas/data_science/blob/master/Explorando_dados_do_Titanic.ipynb\" target=\"_parent\"><img src=\"https://colab.research.google.com/assets/colab-badge.svg\" alt=\"Open In Colab\"/></a>"
      ]
    },
    {
      "cell_type": "markdown",
      "metadata": {
        "id": "mormOh77j0tf",
        "colab_type": "text"
      },
      "source": [
        "<img alt=\"Colaboratory logo\" width=\"20%\" src=\"https://github.com/leonarddocchagas/data_science/blob/master/projetos/_imagens/Titanic.png?raw=true\" align=\"center\">"
      ]
    },
    {
      "cell_type": "markdown",
      "metadata": {
        "id": "EvM2_0eYo4A1",
        "colab_type": "text"
      },
      "source": [
        "## Análise dos Dados do Titanic\n",
        "\n",
        "#### **Um pouco de história**\n",
        "\n",
        "Em 2 de Abril de 1912 fica pronto o navio \"Que nem Deus pode afundar!\". Frase que ficou marcada na produção cinamatográfica de James Cameron. \n",
        "\n",
        "A história do Titanic realmente é incrível em todos os aspectos. Em seu tempo, era considerado a maior embarcação já criada e os números comprovam. Tinha 269 metros de comprimento, 28 metros de largura e 53 metros de altura. Operava com uma tripulação de 892 pessoas e podia transportar até 2.435 passageiros.\n"
      ]
    },
    {
      "cell_type": "markdown",
      "metadata": {
        "id": "2ZzwYbgv5M6w",
        "colab_type": "text"
      },
      "source": [
        "## Obtenção dos Dados"
      ]
    },
    {
      "cell_type": "code",
      "metadata": {
        "id": "nlUTt-k45PCi",
        "colab_type": "code",
        "outputId": "e90a41ff-c007-4016-aaa0-c1e269010021",
        "colab": {
          "base_uri": "https://localhost:8080/",
          "height": 258
        }
      },
      "source": [
        "# importar bibiotecas\n",
        "import pandas as pd\n",
        "import matplotlib.pyplot as plt\n",
        "import seaborn as sns\n",
        "\n",
        "# redenrizar mapas\n",
        "!pip install folium\n",
        "import folium\n",
        "from folium import plugins\n",
        "\n",
        "%matplotlib inline"
      ],
      "execution_count": 1,
      "outputs": [
        {
          "output_type": "stream",
          "text": [
            "/usr/local/lib/python3.6/dist-packages/statsmodels/tools/_testing.py:19: FutureWarning: pandas.util.testing is deprecated. Use the functions in the public API at pandas.testing instead.\n",
            "  import pandas.util.testing as tm\n"
          ],
          "name": "stderr"
        },
        {
          "output_type": "stream",
          "text": [
            "Requirement already satisfied: folium in /usr/local/lib/python3.6/dist-packages (0.8.3)\n",
            "Requirement already satisfied: jinja2 in /usr/local/lib/python3.6/dist-packages (from folium) (2.11.2)\n",
            "Requirement already satisfied: branca>=0.3.0 in /usr/local/lib/python3.6/dist-packages (from folium) (0.4.1)\n",
            "Requirement already satisfied: requests in /usr/local/lib/python3.6/dist-packages (from folium) (2.23.0)\n",
            "Requirement already satisfied: numpy in /usr/local/lib/python3.6/dist-packages (from folium) (1.18.5)\n",
            "Requirement already satisfied: six in /usr/local/lib/python3.6/dist-packages (from folium) (1.12.0)\n",
            "Requirement already satisfied: MarkupSafe>=0.23 in /usr/local/lib/python3.6/dist-packages (from jinja2->folium) (1.1.1)\n",
            "Requirement already satisfied: idna<3,>=2.5 in /usr/local/lib/python3.6/dist-packages (from requests->folium) (2.9)\n",
            "Requirement already satisfied: certifi>=2017.4.17 in /usr/local/lib/python3.6/dist-packages (from requests->folium) (2020.4.5.1)\n",
            "Requirement already satisfied: chardet<4,>=3.0.2 in /usr/local/lib/python3.6/dist-packages (from requests->folium) (3.0.4)\n",
            "Requirement already satisfied: urllib3!=1.25.0,!=1.25.1,<1.26,>=1.21.1 in /usr/local/lib/python3.6/dist-packages (from requests->folium) (1.24.3)\n"
          ],
          "name": "stdout"
        }
      ]
    },
    {
      "cell_type": "code",
      "metadata": {
        "id": "C6o5ANO05lYj",
        "colab_type": "code",
        "colab": {}
      },
      "source": [
        "# importa dados\n",
        "df = pd.read_csv('https://bit.ly/2A6J2fm')"
      ],
      "execution_count": 0,
      "outputs": []
    },
    {
      "cell_type": "code",
      "metadata": {
        "id": "YYOush5F5vbc",
        "colab_type": "code",
        "outputId": "6fd2539a-bb7d-4652-b7ac-8a798c40801f",
        "colab": {
          "base_uri": "https://localhost:8080/",
          "height": 204
        }
      },
      "source": [
        "# exibi as 5 primeiras linhas\n",
        "df.head()"
      ],
      "execution_count": 3,
      "outputs": [
        {
          "output_type": "execute_result",
          "data": {
            "text/html": [
              "<div>\n",
              "<style scoped>\n",
              "    .dataframe tbody tr th:only-of-type {\n",
              "        vertical-align: middle;\n",
              "    }\n",
              "\n",
              "    .dataframe tbody tr th {\n",
              "        vertical-align: top;\n",
              "    }\n",
              "\n",
              "    .dataframe thead th {\n",
              "        text-align: right;\n",
              "    }\n",
              "</style>\n",
              "<table border=\"1\" class=\"dataframe\">\n",
              "  <thead>\n",
              "    <tr style=\"text-align: right;\">\n",
              "      <th></th>\n",
              "      <th>PassengerId</th>\n",
              "      <th>Survived</th>\n",
              "      <th>Pclass</th>\n",
              "      <th>Name</th>\n",
              "      <th>Sex</th>\n",
              "      <th>Age</th>\n",
              "      <th>SibSp</th>\n",
              "      <th>Parch</th>\n",
              "      <th>Ticket</th>\n",
              "      <th>Fare</th>\n",
              "      <th>Cabin</th>\n",
              "      <th>Embarked</th>\n",
              "    </tr>\n",
              "  </thead>\n",
              "  <tbody>\n",
              "    <tr>\n",
              "      <th>0</th>\n",
              "      <td>1</td>\n",
              "      <td>0</td>\n",
              "      <td>3</td>\n",
              "      <td>Braund, Mr. Owen Harris</td>\n",
              "      <td>male</td>\n",
              "      <td>22.0</td>\n",
              "      <td>1</td>\n",
              "      <td>0</td>\n",
              "      <td>A/5 21171</td>\n",
              "      <td>7.2500</td>\n",
              "      <td>NaN</td>\n",
              "      <td>S</td>\n",
              "    </tr>\n",
              "    <tr>\n",
              "      <th>1</th>\n",
              "      <td>2</td>\n",
              "      <td>1</td>\n",
              "      <td>1</td>\n",
              "      <td>Cumings, Mrs. John Bradley (Florence Briggs Th...</td>\n",
              "      <td>female</td>\n",
              "      <td>38.0</td>\n",
              "      <td>1</td>\n",
              "      <td>0</td>\n",
              "      <td>PC 17599</td>\n",
              "      <td>71.2833</td>\n",
              "      <td>C85</td>\n",
              "      <td>C</td>\n",
              "    </tr>\n",
              "    <tr>\n",
              "      <th>2</th>\n",
              "      <td>3</td>\n",
              "      <td>1</td>\n",
              "      <td>3</td>\n",
              "      <td>Heikkinen, Miss. Laina</td>\n",
              "      <td>female</td>\n",
              "      <td>26.0</td>\n",
              "      <td>0</td>\n",
              "      <td>0</td>\n",
              "      <td>STON/O2. 3101282</td>\n",
              "      <td>7.9250</td>\n",
              "      <td>NaN</td>\n",
              "      <td>S</td>\n",
              "    </tr>\n",
              "    <tr>\n",
              "      <th>3</th>\n",
              "      <td>4</td>\n",
              "      <td>1</td>\n",
              "      <td>1</td>\n",
              "      <td>Futrelle, Mrs. Jacques Heath (Lily May Peel)</td>\n",
              "      <td>female</td>\n",
              "      <td>35.0</td>\n",
              "      <td>1</td>\n",
              "      <td>0</td>\n",
              "      <td>113803</td>\n",
              "      <td>53.1000</td>\n",
              "      <td>C123</td>\n",
              "      <td>S</td>\n",
              "    </tr>\n",
              "    <tr>\n",
              "      <th>4</th>\n",
              "      <td>5</td>\n",
              "      <td>0</td>\n",
              "      <td>3</td>\n",
              "      <td>Allen, Mr. William Henry</td>\n",
              "      <td>male</td>\n",
              "      <td>35.0</td>\n",
              "      <td>0</td>\n",
              "      <td>0</td>\n",
              "      <td>373450</td>\n",
              "      <td>8.0500</td>\n",
              "      <td>NaN</td>\n",
              "      <td>S</td>\n",
              "    </tr>\n",
              "  </tbody>\n",
              "</table>\n",
              "</div>"
            ],
            "text/plain": [
              "   PassengerId  Survived  Pclass  ...     Fare Cabin  Embarked\n",
              "0            1         0       3  ...   7.2500   NaN         S\n",
              "1            2         1       1  ...  71.2833   C85         C\n",
              "2            3         1       3  ...   7.9250   NaN         S\n",
              "3            4         1       1  ...  53.1000  C123         S\n",
              "4            5         0       3  ...   8.0500   NaN         S\n",
              "\n",
              "[5 rows x 12 columns]"
            ]
          },
          "metadata": {
            "tags": []
          },
          "execution_count": 3
        }
      ]
    },
    {
      "cell_type": "markdown",
      "metadata": {
        "id": "ce89rdqi6rLn",
        "colab_type": "text"
      },
      "source": [
        "**Dicionário de Dados**\n",
        "* `PassengerId:` Número de identificação do passageiro\n",
        "* `Survived:` Informa se o passageiro sobreviveu ao desastre\n",
        "* 0 = Não\n",
        "* 1 = Sim\n",
        "* `Pclass:` Classe do bilhete\n",
        "* 1 = 1ª Classe\n",
        "* 2 = 2ª Classe\n",
        "* 3 = 3ª Classe\n",
        "* `Name:` Nome do passageiro\n",
        "* `Sex:` Sexo do passageiro\n",
        "* `Age:` Idade do passageiro\n",
        "* `SibSp:` Quantidade de cônjuges e irmãos a bordo\n",
        "* `Parch:` Quantidade de pais e filhos a bordo\n",
        "* `Ticket:` Número da passagem\n",
        "* `Fare:` Preço da Passagem\n",
        "* `Cabin:` Número da cabine do passageiro\n",
        "* `Embarked:` Porto no qual o passageiro embarcou\n",
        "* C = Cherbourg\n",
        "* Q = Queenstown\n",
        "* S = Southampton"
      ]
    },
    {
      "cell_type": "markdown",
      "metadata": {
        "id": "io2l6RF9um8g",
        "colab_type": "text"
      },
      "source": [
        "###**Q1. Quantos atributos (variáveis) e quantas entradas o nosso conjunto de dados possui? Quais os tipos das variáveis?**"
      ]
    },
    {
      "cell_type": "code",
      "metadata": {
        "id": "jq3E60bxutgI",
        "colab_type": "code",
        "outputId": "a47f170c-50e7-404e-bd5c-b8e192e21f72",
        "colab": {
          "base_uri": "https://localhost:8080/",
          "height": 34
        }
      },
      "source": [
        "df.shape"
      ],
      "execution_count": 4,
      "outputs": [
        {
          "output_type": "execute_result",
          "data": {
            "text/plain": [
              "(891, 12)"
            ]
          },
          "metadata": {
            "tags": []
          },
          "execution_count": 4
        }
      ]
    },
    {
      "cell_type": "code",
      "metadata": {
        "id": "sHJzK9diu3YR",
        "colab_type": "code",
        "outputId": "e21f492c-c8f7-4810-91b7-d305f75f80e5",
        "colab": {
          "base_uri": "https://localhost:8080/",
          "height": 289
        }
      },
      "source": [
        "# atributos e entradas\n",
        "print('Atributos: {}' .format(df.shape[1]))\n",
        "print('Entradas: {}\\n ' .format(df.shape[0]))\n",
        "\n",
        "display(df.dtypes)"
      ],
      "execution_count": 5,
      "outputs": [
        {
          "output_type": "stream",
          "text": [
            "Atributos: 12\n",
            "Entradas: 891\n",
            " \n"
          ],
          "name": "stdout"
        },
        {
          "output_type": "display_data",
          "data": {
            "text/plain": [
              "PassengerId      int64\n",
              "Survived         int64\n",
              "Pclass           int64\n",
              "Name            object\n",
              "Sex             object\n",
              "Age            float64\n",
              "SibSp            int64\n",
              "Parch            int64\n",
              "Ticket          object\n",
              "Fare           float64\n",
              "Cabin           object\n",
              "Embarked        object\n",
              "dtype: object"
            ]
          },
          "metadata": {
            "tags": []
          }
        }
      ]
    },
    {
      "cell_type": "markdown",
      "metadata": {
        "id": "AjUd6eg2wPJy",
        "colab_type": "text"
      },
      "source": [
        "###**Valores ausentes**"
      ]
    },
    {
      "cell_type": "code",
      "metadata": {
        "id": "k_GxKwIdwVoN",
        "colab_type": "code",
        "outputId": "9d6ba7af-b81c-4245-8163-c07bcb31bc77",
        "colab": {
          "base_uri": "https://localhost:8080/",
          "height": 238
        }
      },
      "source": [
        "# quantidade\n",
        "df.isnull().sum()"
      ],
      "execution_count": 6,
      "outputs": [
        {
          "output_type": "execute_result",
          "data": {
            "text/plain": [
              "PassengerId      0\n",
              "Survived         0\n",
              "Pclass           0\n",
              "Name             0\n",
              "Sex              0\n",
              "Age            177\n",
              "SibSp            0\n",
              "Parch            0\n",
              "Ticket           0\n",
              "Fare             0\n",
              "Cabin          687\n",
              "Embarked         2\n",
              "dtype: int64"
            ]
          },
          "metadata": {
            "tags": []
          },
          "execution_count": 6
        }
      ]
    },
    {
      "cell_type": "code",
      "metadata": {
        "id": "gxCi3ZIIwetM",
        "colab_type": "code",
        "outputId": "172d444f-a43b-45dc-fa81-d165c95ae3bc",
        "colab": {
          "base_uri": "https://localhost:8080/",
          "height": 238
        }
      },
      "source": [
        "# percentual \n",
        "df.isnull().sum() / df.shape[1]"
      ],
      "execution_count": 7,
      "outputs": [
        {
          "output_type": "execute_result",
          "data": {
            "text/plain": [
              "PassengerId     0.000000\n",
              "Survived        0.000000\n",
              "Pclass          0.000000\n",
              "Name            0.000000\n",
              "Sex             0.000000\n",
              "Age            14.750000\n",
              "SibSp           0.000000\n",
              "Parch           0.000000\n",
              "Ticket          0.000000\n",
              "Fare            0.000000\n",
              "Cabin          57.250000\n",
              "Embarked        0.166667\n",
              "dtype: float64"
            ]
          },
          "metadata": {
            "tags": []
          },
          "execution_count": 7
        }
      ]
    },
    {
      "cell_type": "markdown",
      "metadata": {
        "id": "hZ8znIz2xbcc",
        "colab_type": "text"
      },
      "source": [
        "#### **Tratando NaN (valores ausentes)**\n",
        "É sempre importante atentar para valores (missing | faltantes | NaN) em nosso dataset. Em diversas análises, ausencia de informação causa falha ao nosso modelo. Em nosso caso, vamos apresentar a informação da localiação dos Embarques em forma de mapa e detectamos 2 valores ausentes na variável Embarked. Por se tratar de poucos registros, vamos eliminar essas duas entradas.  "
      ]
    },
    {
      "cell_type": "code",
      "metadata": {
        "id": "YOUVnLngzAgi",
        "colab_type": "code",
        "colab": {}
      },
      "source": [
        "# excluindo NaN da variável Embarked\n",
        "df.dropna(subset=['Embarked'], inplace=True)"
      ],
      "execution_count": 0,
      "outputs": []
    },
    {
      "cell_type": "code",
      "metadata": {
        "id": "KoJNOHrp0AH3",
        "colab_type": "code",
        "outputId": "cde0a834-cbf2-40a1-858c-239cc26b9732",
        "colab": {
          "base_uri": "https://localhost:8080/",
          "height": 238
        }
      },
      "source": [
        "# exibido dataset depois do tratamento\n",
        "df.isnull().sum()"
      ],
      "execution_count": 9,
      "outputs": [
        {
          "output_type": "execute_result",
          "data": {
            "text/plain": [
              "PassengerId      0\n",
              "Survived         0\n",
              "Pclass           0\n",
              "Name             0\n",
              "Sex              0\n",
              "Age            177\n",
              "SibSp            0\n",
              "Parch            0\n",
              "Ticket           0\n",
              "Fare             0\n",
              "Cabin          687\n",
              "Embarked         0\n",
              "dtype: int64"
            ]
          },
          "metadata": {
            "tags": []
          },
          "execution_count": 9
        }
      ]
    },
    {
      "cell_type": "markdown",
      "metadata": {
        "id": "FeGEuDiAyx5b",
        "colab_type": "text"
      },
      "source": [
        "### **Distribuição das variáveis**"
      ]
    },
    {
      "cell_type": "code",
      "metadata": {
        "id": "QfigOGWYy1ex",
        "colab_type": "code",
        "outputId": "952d8d23-b481-4396-8f5a-0c848c3430f8",
        "colab": {
          "base_uri": "https://localhost:8080/",
          "height": 607
        }
      },
      "source": [
        "# densidade das variáveis\n",
        "df.hist(bins=15, figsize=(15, 10));"
      ],
      "execution_count": 10,
      "outputs": [
        {
          "output_type": "display_data",
          "data": {
            "image/png": "[encoded data removed]",
            "text/plain": [
              "<Figure size 1080x720 with 9 Axes>"
            ]
          },
          "metadata": {
            "tags": [],
            "needs_background": "light"
          }
        }
      ]
    },
    {
      "cell_type": "markdown",
      "metadata": {
        "id": "fJXJ0Dtnbm-m",
        "colab_type": "text"
      },
      "source": [
        "Ao plotar todas as variáveis em busca de entender a densidade de cada uma, vimos que nem todas fazem sentido apresentar com histograma, como por exemplo `Passengerid`. Então vamos trazer apenas as que podemos nos informar algo. Como temos o dicioário de dados, é possível ser assertivos"
      ]
    },
    {
      "cell_type": "code",
      "metadata": {
        "id": "W42vGlHfkj7c",
        "colab_type": "code",
        "colab": {
          "base_uri": "https://localhost:8080/",
          "height": 85
        },
        "outputId": "954245c9-0be3-45ff-afce-a46b789d8dfd"
      },
      "source": [
        "# exibindo colunas dataset\n",
        "df.columns"
      ],
      "execution_count": 18,
      "outputs": [
        {
          "output_type": "execute_result",
          "data": {
            "text/plain": [
              "Index(['PassengerId', 'Survived', 'Pclass', 'Name', 'Sex', 'Age', 'SibSp',\n",
              "       'Parch', 'Ticket', 'Fare', 'Cabin', 'Embarked', 'Latitude',\n",
              "       'Longitude'],\n",
              "      dtype='object')"
            ]
          },
          "metadata": {
            "tags": []
          },
          "execution_count": 18
        }
      ]
    },
    {
      "cell_type": "code",
      "metadata": {
        "id": "5ZlWpYYGkrs5",
        "colab_type": "code",
        "colab": {
          "base_uri": "https://localhost:8080/",
          "height": 336
        },
        "outputId": "93587992-fcd2-4c62-e23f-3cbbf39b1165"
      },
      "source": [
        "# exibindo histograma\n",
        "df.filter(items = ['Age', 'Fare']).hist(bins=10, figsize=(15, 5));"
      ],
      "execution_count": 53,
      "outputs": [
        {
          "output_type": "display_data",
          "data": {
            "image/png": "[encoded data removed]",
            "text/plain": [
              "<Figure size 1080x360 with 2 Axes>"
            ]
          },
          "metadata": {
            "tags": [],
            "needs_background": "light"
          }
        }
      ]
    },
    {
      "cell_type": "markdown",
      "metadata": {
        "id": "ZuSiO_5N3b_5",
        "colab_type": "text"
      },
      "source": [
        "### **Onde aconteceram os embarques?**\n",
        "\n",
        " Informações apresentadas em mapas sempre é interessante. Então com o objetivo de enrequecer a análise, vamos adiciona ao conjunto de dados as coordenadas de latitude e longitude, que foi extraida manualmente do Google. Extração manual não é a melhor forma,  mas como são apenas 3 portos, valeu o esforço. \n",
        "\n",
        "#### **Coordenadas:**\n",
        "* Queenstown: 52.0267662,-9.5458724\n",
        "* Southampton: 50.9052739,-1.4148693\n",
        "* Cheargourg: 49.6374801,-1.6192302"
      ]
    },
    {
      "cell_type": "code",
      "metadata": {
        "id": "vPJIA8Sxe43u",
        "colab_type": "code",
        "colab": {}
      },
      "source": [
        "# função latitude\n",
        "def func_latitude(a):\n",
        "  if a == 'C':\n",
        "    return 49.6374801\n",
        "  if a == 'S':\n",
        "    return 50.9052739\n",
        "  if a == 'Q':\n",
        "    return 52.0267662\n"
      ],
      "execution_count": 0,
      "outputs": []
    },
    {
      "cell_type": "code",
      "metadata": {
        "id": "XxFLCENKBWDI",
        "colab_type": "code",
        "colab": {}
      },
      "source": [
        "# função longitude\n",
        "def func_longitude(a):\n",
        "  if a == 'C':\n",
        "    return -1.6192302\n",
        "  if a == 'S':\n",
        "    return -1.4148693\n",
        "  if a == 'Q':\n",
        "    return -9.5458724"
      ],
      "execution_count": 0,
      "outputs": []
    },
    {
      "cell_type": "code",
      "metadata": {
        "id": "Q_8SVlOO_zs5",
        "colab_type": "code",
        "colab": {}
      },
      "source": [
        "# adiciona latitude e longitude ao dataset com a função map\n",
        "df['Latitude'] = list(map(func_latitude, df['Embarked']))\n",
        "df['Longitude'] = list(map(func_longitude, df['Embarked']))"
      ],
      "execution_count": 0,
      "outputs": []
    },
    {
      "cell_type": "code",
      "metadata": {
        "id": "y9uK-xs2CE44",
        "colab_type": "code",
        "outputId": "4aea0707-5e57-44c3-cc38-558ecda3c565",
        "colab": {
          "base_uri": "https://localhost:8080/",
          "height": 238
        }
      },
      "source": [
        "# exibi dataset com as novas colunas\n",
        "df.head()"
      ],
      "execution_count": 14,
      "outputs": [
        {
          "output_type": "execute_result",
          "data": {
            "text/html": [
              "<div>\n",
              "<style scoped>\n",
              "    .dataframe tbody tr th:only-of-type {\n",
              "        vertical-align: middle;\n",
              "    }\n",
              "\n",
              "    .dataframe tbody tr th {\n",
              "        vertical-align: top;\n",
              "    }\n",
              "\n",
              "    .dataframe thead th {\n",
              "        text-align: right;\n",
              "    }\n",
              "</style>\n",
              "<table border=\"1\" class=\"dataframe\">\n",
              "  <thead>\n",
              "    <tr style=\"text-align: right;\">\n",
              "      <th></th>\n",
              "      <th>PassengerId</th>\n",
              "      <th>Survived</th>\n",
              "      <th>Pclass</th>\n",
              "      <th>Name</th>\n",
              "      <th>Sex</th>\n",
              "      <th>Age</th>\n",
              "      <th>SibSp</th>\n",
              "      <th>Parch</th>\n",
              "      <th>Ticket</th>\n",
              "      <th>Fare</th>\n",
              "      <th>Cabin</th>\n",
              "      <th>Embarked</th>\n",
              "      <th>Latitude</th>\n",
              "      <th>Longitude</th>\n",
              "    </tr>\n",
              "  </thead>\n",
              "  <tbody>\n",
              "    <tr>\n",
              "      <th>0</th>\n",
              "      <td>1</td>\n",
              "      <td>0</td>\n",
              "      <td>3</td>\n",
              "      <td>Braund, Mr. Owen Harris</td>\n",
              "      <td>male</td>\n",
              "      <td>22.0</td>\n",
              "      <td>1</td>\n",
              "      <td>0</td>\n",
              "      <td>A/5 21171</td>\n",
              "      <td>7.2500</td>\n",
              "      <td>NaN</td>\n",
              "      <td>S</td>\n",
              "      <td>50.905274</td>\n",
              "      <td>-1.414869</td>\n",
              "    </tr>\n",
              "    <tr>\n",
              "      <th>1</th>\n",
              "      <td>2</td>\n",
              "      <td>1</td>\n",
              "      <td>1</td>\n",
              "      <td>Cumings, Mrs. John Bradley (Florence Briggs Th...</td>\n",
              "      <td>female</td>\n",
              "      <td>38.0</td>\n",
              "      <td>1</td>\n",
              "      <td>0</td>\n",
              "      <td>PC 17599</td>\n",
              "      <td>71.2833</td>\n",
              "      <td>C85</td>\n",
              "      <td>C</td>\n",
              "      <td>49.637480</td>\n",
              "      <td>-1.619230</td>\n",
              "    </tr>\n",
              "    <tr>\n",
              "      <th>2</th>\n",
              "      <td>3</td>\n",
              "      <td>1</td>\n",
              "      <td>3</td>\n",
              "      <td>Heikkinen, Miss. Laina</td>\n",
              "      <td>female</td>\n",
              "      <td>26.0</td>\n",
              "      <td>0</td>\n",
              "      <td>0</td>\n",
              "      <td>STON/O2. 3101282</td>\n",
              "      <td>7.9250</td>\n",
              "      <td>NaN</td>\n",
              "      <td>S</td>\n",
              "      <td>50.905274</td>\n",
              "      <td>-1.414869</td>\n",
              "    </tr>\n",
              "    <tr>\n",
              "      <th>3</th>\n",
              "      <td>4</td>\n",
              "      <td>1</td>\n",
              "      <td>1</td>\n",
              "      <td>Futrelle, Mrs. Jacques Heath (Lily May Peel)</td>\n",
              "      <td>female</td>\n",
              "      <td>35.0</td>\n",
              "      <td>1</td>\n",
              "      <td>0</td>\n",
              "      <td>113803</td>\n",
              "      <td>53.1000</td>\n",
              "      <td>C123</td>\n",
              "      <td>S</td>\n",
              "      <td>50.905274</td>\n",
              "      <td>-1.414869</td>\n",
              "    </tr>\n",
              "    <tr>\n",
              "      <th>4</th>\n",
              "      <td>5</td>\n",
              "      <td>0</td>\n",
              "      <td>3</td>\n",
              "      <td>Allen, Mr. William Henry</td>\n",
              "      <td>male</td>\n",
              "      <td>35.0</td>\n",
              "      <td>0</td>\n",
              "      <td>0</td>\n",
              "      <td>373450</td>\n",
              "      <td>8.0500</td>\n",
              "      <td>NaN</td>\n",
              "      <td>S</td>\n",
              "      <td>50.905274</td>\n",
              "      <td>-1.414869</td>\n",
              "    </tr>\n",
              "  </tbody>\n",
              "</table>\n",
              "</div>"
            ],
            "text/plain": [
              "   PassengerId  Survived  Pclass  ... Embarked   Latitude  Longitude\n",
              "0            1         0       3  ...        S  50.905274  -1.414869\n",
              "1            2         1       1  ...        C  49.637480  -1.619230\n",
              "2            3         1       3  ...        S  50.905274  -1.414869\n",
              "3            4         1       1  ...        S  50.905274  -1.414869\n",
              "4            5         0       3  ...        S  50.905274  -1.414869\n",
              "\n",
              "[5 rows x 14 columns]"
            ]
          },
          "metadata": {
            "tags": []
          },
          "execution_count": 14
        }
      ]
    },
    {
      "cell_type": "code",
      "metadata": {
        "id": "vSDIVqufKWkN",
        "colab_type": "code",
        "colab": {}
      },
      "source": [
        "coordenadas=[]\n",
        "for lat,lng in zip(df.Latitude, df.Longitude):\n",
        "  coordenadas.append([lat,lng])"
      ],
      "execution_count": 0,
      "outputs": []
    },
    {
      "cell_type": "code",
      "metadata": {
        "id": "PiOI_uA1N94F",
        "colab_type": "code",
        "colab": {}
      },
      "source": [
        "mapa = folium.Map(\n",
        "    location=[52.874871,-6.7663974], \n",
        "    zoom_start=6, \n",
        "    tiles='Stamen Toner'\n",
        "    )"
      ],
      "execution_count": 0,
      "outputs": []
    },
    {
      "cell_type": "code",
      "metadata": {
        "id": "DV2nCToXOlUH",
        "colab_type": "code",
        "outputId": "6a9f5a80-78d6-4ce8-d209-312a8d5b8b65",
        "colab": {
          "base_uri": "https://localhost:8080/",
          "height": 763
        }
      },
      "source": [
        "mapa.add_child(plugins.HeatMap(coordenadas))"
      ],
      "execution_count": 17,
      "outputs": [
        {
          "output_type": "execute_result",
          "data": {
            "text/html": [
              "<div style=\"width:100%;\"><div style=\"position:relative;width:100%;height:0;padding-bottom:60%;\"><span style=\"color:#565656\">Make this Notebook Trusted to load map: File -> Trust Notebook</span><iframe src=\"about:blank\" style=\"position:absolute;width:100%;height:100%;left:0;top:0;border:none !important;\" data-html=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 onload=\"this.contentDocument.open();this.contentDocument.write(atob(this.getAttribute('data-html')));this.contentDocument.close();\" allowfullscreen webkitallowfullscreen mozallowfullscreen></iframe></div></div>"
            ],
            "text/plain": [
              "<folium.folium.Map at 0x7f3a7c37e2b0>"
            ]
          },
          "metadata": {
            "tags": []
          },
          "execution_count": 17
        }
      ]
    }
  ]
}