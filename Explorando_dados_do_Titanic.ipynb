{
  "nbformat": 4,
  "nbformat_minor": 0,
  "metadata": {
    "colab": {
      "name": "Explorando dados do Titanic.ipynb",
      "provenance": [],
      "collapsed_sections": [],
      "mount_file_id": "1lY3ICKDwIoZW8qg9EJA450kOtgc8yMO8",
      "authorship_tag": "ABX9TyMSsLt82KQx3XLwAo8awvX5",
      "include_colab_link": true
    },
    "kernelspec": {
      "name": "python3",
      "display_name": "Python 3"
    }
  },
  "cells": [
    {
      "cell_type": "markdown",
      "metadata": {
        "id": "view-in-github",
        "colab_type": "text"
      },
      "source": [
        "<a href=\"https://colab.research.google.com/github/leonarddocchagas/data_science/blob/master/Explorando_dados_do_Titanic.ipynb\" target=\"_parent\"><img src=\"https://colab.research.google.com/assets/colab-badge.svg\" alt=\"Open In Colab\"/></a>"
      ]
    },
    {
      "cell_type": "markdown",
      "metadata": {
        "id": "mormOh77j0tf",
        "colab_type": "text"
      },
      "source": [
        "<img alt=\"Colaboratory logo\" width=\"20%\" src=\"https://github.com/leonarddocchagas/data_science/blob/master/projetos/_imagens/Titanic.png?raw=true\" align=\"center\">"
      ]
    },
    {
      "cell_type": "markdown",
      "metadata": {
        "id": "EvM2_0eYo4A1",
        "colab_type": "text"
      },
      "source": [
        "## Análise dos Dados do Titanic\n",
        "\n",
        "#### **Um pouco de história**\n",
        "\n",
        "Em 2 de Abril de 1912 fica pronto o navio \"Que nem Deus pode afundar!\". Frase que ficou marcada na produção cinamatográfica de James Cameron. \n",
        "\n",
        "A história do Titanic realmente é incrível em todos os aspectos. Em seu tempo, era considerado a maior embarcação já criada e os números comprovam. Tinha 269 metros de comprimento, 28 metros de largura e 53 metros de altura. Operava com uma tripulação de 892 pessoas e podia transportar até 2.435 passageiros.\n"
      ]
    },
    {
      "cell_type": "markdown",
      "metadata": {
        "id": "2ZzwYbgv5M6w",
        "colab_type": "text"
      },
      "source": [
        "## Obtenção dos Dados"
      ]
    },
    {
      "cell_type": "code",
      "metadata": {
        "id": "nlUTt-k45PCi",
        "colab_type": "code",
        "colab": {
          "base_uri": "https://localhost:8080/",
          "height": 258
        },
        "outputId": "e5f396b1-cfe6-4a1d-d07e-20637048793c"
      },
      "source": [
        "# importar bibiotecas\n",
        "import pandas as pd\n",
        "import matplotlib.pyplot as plt\n",
        "import seaborn as sns\n",
        "\n",
        "# redenrizar mapas\n",
        "!pip install folium\n",
        "import folium\n",
        "from folium import plugins\n",
        "\n",
        "%matplotlib inline"
      ],
      "execution_count": 1,
      "outputs": [
        {
          "output_type": "stream",
          "text": [
            "/usr/local/lib/python3.6/dist-packages/statsmodels/tools/_testing.py:19: FutureWarning: pandas.util.testing is deprecated. Use the functions in the public API at pandas.testing instead.\n",
            "  import pandas.util.testing as tm\n"
          ],
          "name": "stderr"
        },
        {
          "output_type": "stream",
          "text": [
            "Requirement already satisfied: folium in /usr/local/lib/python3.6/dist-packages (0.8.3)\n",
            "Requirement already satisfied: six in /usr/local/lib/python3.6/dist-packages (from folium) (1.12.0)\n",
            "Requirement already satisfied: requests in /usr/local/lib/python3.6/dist-packages (from folium) (2.23.0)\n",
            "Requirement already satisfied: numpy in /usr/local/lib/python3.6/dist-packages (from folium) (1.18.5)\n",
            "Requirement already satisfied: jinja2 in /usr/local/lib/python3.6/dist-packages (from folium) (2.11.2)\n",
            "Requirement already satisfied: branca>=0.3.0 in /usr/local/lib/python3.6/dist-packages (from folium) (0.4.1)\n",
            "Requirement already satisfied: certifi>=2017.4.17 in /usr/local/lib/python3.6/dist-packages (from requests->folium) (2020.4.5.2)\n",
            "Requirement already satisfied: chardet<4,>=3.0.2 in /usr/local/lib/python3.6/dist-packages (from requests->folium) (3.0.4)\n",
            "Requirement already satisfied: urllib3!=1.25.0,!=1.25.1,<1.26,>=1.21.1 in /usr/local/lib/python3.6/dist-packages (from requests->folium) (1.24.3)\n",
            "Requirement already satisfied: idna<3,>=2.5 in /usr/local/lib/python3.6/dist-packages (from requests->folium) (2.9)\n",
            "Requirement already satisfied: MarkupSafe>=0.23 in /usr/local/lib/python3.6/dist-packages (from jinja2->folium) (1.1.1)\n"
          ],
          "name": "stdout"
        }
      ]
    },
    {
      "cell_type": "code",
      "metadata": {
        "id": "C6o5ANO05lYj",
        "colab_type": "code",
        "colab": {}
      },
      "source": [
        "# importa dados\n",
        "df = pd.read_csv('https://bit.ly/2A6J2fm')"
      ],
      "execution_count": 2,
      "outputs": []
    },
    {
      "cell_type": "code",
      "metadata": {
        "id": "YYOush5F5vbc",
        "colab_type": "code",
        "colab": {
          "base_uri": "https://localhost:8080/",
          "height": 204
        },
        "outputId": "4b3a5986-8312-42ea-adc6-33de4f9b4654"
      },
      "source": [
        "# exibi as 5 primeiras linhas\n",
        "df.head()"
      ],
      "execution_count": 3,
      "outputs": [
        {
          "output_type": "execute_result",
          "data": {
            "text/html": [
              "<div>\n",
              "<style scoped>\n",
              "    .dataframe tbody tr th:only-of-type {\n",
              "        vertical-align: middle;\n",
              "    }\n",
              "\n",
              "    .dataframe tbody tr th {\n",
              "        vertical-align: top;\n",
              "    }\n",
              "\n",
              "    .dataframe thead th {\n",
              "        text-align: right;\n",
              "    }\n",
              "</style>\n",
              "<table border=\"1\" class=\"dataframe\">\n",
              "  <thead>\n",
              "    <tr style=\"text-align: right;\">\n",
              "      <th></th>\n",
              "      <th>PassengerId</th>\n",
              "      <th>Survived</th>\n",
              "      <th>Pclass</th>\n",
              "      <th>Name</th>\n",
              "      <th>Sex</th>\n",
              "      <th>Age</th>\n",
              "      <th>SibSp</th>\n",
              "      <th>Parch</th>\n",
              "      <th>Ticket</th>\n",
              "      <th>Fare</th>\n",
              "      <th>Cabin</th>\n",
              "      <th>Embarked</th>\n",
              "    </tr>\n",
              "  </thead>\n",
              "  <tbody>\n",
              "    <tr>\n",
              "      <th>0</th>\n",
              "      <td>1</td>\n",
              "      <td>0</td>\n",
              "      <td>3</td>\n",
              "      <td>Braund, Mr. Owen Harris</td>\n",
              "      <td>male</td>\n",
              "      <td>22.0</td>\n",
              "      <td>1</td>\n",
              "      <td>0</td>\n",
              "      <td>A/5 21171</td>\n",
              "      <td>7.2500</td>\n",
              "      <td>NaN</td>\n",
              "      <td>S</td>\n",
              "    </tr>\n",
              "    <tr>\n",
              "      <th>1</th>\n",
              "      <td>2</td>\n",
              "      <td>1</td>\n",
              "      <td>1</td>\n",
              "      <td>Cumings, Mrs. John Bradley (Florence Briggs Th...</td>\n",
              "      <td>female</td>\n",
              "      <td>38.0</td>\n",
              "      <td>1</td>\n",
              "      <td>0</td>\n",
              "      <td>PC 17599</td>\n",
              "      <td>71.2833</td>\n",
              "      <td>C85</td>\n",
              "      <td>C</td>\n",
              "    </tr>\n",
              "    <tr>\n",
              "      <th>2</th>\n",
              "      <td>3</td>\n",
              "      <td>1</td>\n",
              "      <td>3</td>\n",
              "      <td>Heikkinen, Miss. Laina</td>\n",
              "      <td>female</td>\n",
              "      <td>26.0</td>\n",
              "      <td>0</td>\n",
              "      <td>0</td>\n",
              "      <td>STON/O2. 3101282</td>\n",
              "      <td>7.9250</td>\n",
              "      <td>NaN</td>\n",
              "      <td>S</td>\n",
              "    </tr>\n",
              "    <tr>\n",
              "      <th>3</th>\n",
              "      <td>4</td>\n",
              "      <td>1</td>\n",
              "      <td>1</td>\n",
              "      <td>Futrelle, Mrs. Jacques Heath (Lily May Peel)</td>\n",
              "      <td>female</td>\n",
              "      <td>35.0</td>\n",
              "      <td>1</td>\n",
              "      <td>0</td>\n",
              "      <td>113803</td>\n",
              "      <td>53.1000</td>\n",
              "      <td>C123</td>\n",
              "      <td>S</td>\n",
              "    </tr>\n",
              "    <tr>\n",
              "      <th>4</th>\n",
              "      <td>5</td>\n",
              "      <td>0</td>\n",
              "      <td>3</td>\n",
              "      <td>Allen, Mr. William Henry</td>\n",
              "      <td>male</td>\n",
              "      <td>35.0</td>\n",
              "      <td>0</td>\n",
              "      <td>0</td>\n",
              "      <td>373450</td>\n",
              "      <td>8.0500</td>\n",
              "      <td>NaN</td>\n",
              "      <td>S</td>\n",
              "    </tr>\n",
              "  </tbody>\n",
              "</table>\n",
              "</div>"
            ],
            "text/plain": [
              "   PassengerId  Survived  Pclass  ...     Fare Cabin  Embarked\n",
              "0            1         0       3  ...   7.2500   NaN         S\n",
              "1            2         1       1  ...  71.2833   C85         C\n",
              "2            3         1       3  ...   7.9250   NaN         S\n",
              "3            4         1       1  ...  53.1000  C123         S\n",
              "4            5         0       3  ...   8.0500   NaN         S\n",
              "\n",
              "[5 rows x 12 columns]"
            ]
          },
          "metadata": {
            "tags": []
          },
          "execution_count": 3
        }
      ]
    },
    {
      "cell_type": "markdown",
      "metadata": {
        "id": "ce89rdqi6rLn",
        "colab_type": "text"
      },
      "source": [
        "**Dicionário de Dados**\n",
        "* `PassengerId:` Número de identificação do passageiro\n",
        "* `Survived:` Informa se o passageiro sobreviveu ao desastre\n",
        "* 0 = Não\n",
        "* 1 = Sim\n",
        "* `Pclass:` Classe do bilhete\n",
        "* 1 = 1ª Classe\n",
        "* 2 = 2ª Classe\n",
        "* 3 = 3ª Classe\n",
        "* `Name:` Nome do passageiro\n",
        "* `Sex:` Sexo do passageiro\n",
        "* `Age:` Idade do passageiro\n",
        "* `SibSp:` Quantidade de cônjuges e irmãos a bordo\n",
        "* `Parch:` Quantidade de pais e filhos a bordo\n",
        "* `Ticket:` Número da passagem\n",
        "* `Fare:` Preço da Passagem\n",
        "* `Cabin:` Número da cabine do passageiro\n",
        "* `Embarked:` Porto no qual o passageiro embarcou\n",
        "* C = Cherbourg\n",
        "* Q = Queenstown\n",
        "* S = Southampton"
      ]
    },
    {
      "cell_type": "markdown",
      "metadata": {
        "id": "io2l6RF9um8g",
        "colab_type": "text"
      },
      "source": [
        "###**Q1. Quantos atributos (variáveis) e quantas entradas o nosso conjunto de dados possui? Quais os tipos das variáveis?**"
      ]
    },
    {
      "cell_type": "code",
      "metadata": {
        "id": "jq3E60bxutgI",
        "colab_type": "code",
        "colab": {
          "base_uri": "https://localhost:8080/",
          "height": 34
        },
        "outputId": "c067f857-e58a-4616-d65f-3bcbbce05b60"
      },
      "source": [
        "df.shape"
      ],
      "execution_count": 4,
      "outputs": [
        {
          "output_type": "execute_result",
          "data": {
            "text/plain": [
              "(891, 12)"
            ]
          },
          "metadata": {
            "tags": []
          },
          "execution_count": 4
        }
      ]
    },
    {
      "cell_type": "code",
      "metadata": {
        "id": "sHJzK9diu3YR",
        "colab_type": "code",
        "colab": {
          "base_uri": "https://localhost:8080/",
          "height": 289
        },
        "outputId": "9ce2f3a1-34f0-4961-cc7c-96ccd66a361a"
      },
      "source": [
        "# atributos e entradas\n",
        "print('Atributos: {}' .format(df.shape[1]))\n",
        "print('Entradas: {}\\n ' .format(df.shape[0]))\n",
        "\n",
        "display(df.dtypes)"
      ],
      "execution_count": 5,
      "outputs": [
        {
          "output_type": "stream",
          "text": [
            "Atributos: 12\n",
            "Entradas: 891\n",
            " \n"
          ],
          "name": "stdout"
        },
        {
          "output_type": "display_data",
          "data": {
            "text/plain": [
              "PassengerId      int64\n",
              "Survived         int64\n",
              "Pclass           int64\n",
              "Name            object\n",
              "Sex             object\n",
              "Age            float64\n",
              "SibSp            int64\n",
              "Parch            int64\n",
              "Ticket          object\n",
              "Fare           float64\n",
              "Cabin           object\n",
              "Embarked        object\n",
              "dtype: object"
            ]
          },
          "metadata": {
            "tags": []
          }
        }
      ]
    },
    {
      "cell_type": "markdown",
      "metadata": {
        "id": "AjUd6eg2wPJy",
        "colab_type": "text"
      },
      "source": [
        "###**Valores ausentes**"
      ]
    },
    {
      "cell_type": "code",
      "metadata": {
        "id": "k_GxKwIdwVoN",
        "colab_type": "code",
        "colab": {
          "base_uri": "https://localhost:8080/",
          "height": 238
        },
        "outputId": "95d85057-44e9-40d0-b39b-7b396f430c6f"
      },
      "source": [
        "# quantidade\n",
        "df.isnull().sum()"
      ],
      "execution_count": 6,
      "outputs": [
        {
          "output_type": "execute_result",
          "data": {
            "text/plain": [
              "PassengerId      0\n",
              "Survived         0\n",
              "Pclass           0\n",
              "Name             0\n",
              "Sex              0\n",
              "Age            177\n",
              "SibSp            0\n",
              "Parch            0\n",
              "Ticket           0\n",
              "Fare             0\n",
              "Cabin          687\n",
              "Embarked         2\n",
              "dtype: int64"
            ]
          },
          "metadata": {
            "tags": []
          },
          "execution_count": 6
        }
      ]
    },
    {
      "cell_type": "code",
      "metadata": {
        "id": "gxCi3ZIIwetM",
        "colab_type": "code",
        "colab": {
          "base_uri": "https://localhost:8080/",
          "height": 238
        },
        "outputId": "05e6d710-80a5-4e1d-f531-23b94ff9dfd0"
      },
      "source": [
        "# percentual \n",
        "df.isnull().sum() / df.shape[1]"
      ],
      "execution_count": 7,
      "outputs": [
        {
          "output_type": "execute_result",
          "data": {
            "text/plain": [
              "PassengerId     0.000000\n",
              "Survived        0.000000\n",
              "Pclass          0.000000\n",
              "Name            0.000000\n",
              "Sex             0.000000\n",
              "Age            14.750000\n",
              "SibSp           0.000000\n",
              "Parch           0.000000\n",
              "Ticket          0.000000\n",
              "Fare            0.000000\n",
              "Cabin          57.250000\n",
              "Embarked        0.166667\n",
              "dtype: float64"
            ]
          },
          "metadata": {
            "tags": []
          },
          "execution_count": 7
        }
      ]
    },
    {
      "cell_type": "markdown",
      "metadata": {
        "id": "hZ8znIz2xbcc",
        "colab_type": "text"
      },
      "source": [
        "#### **Tratando NaN (valores ausentes)**\n",
        "É sempre importante atentar para valores (missing | faltantes | NaN) em nosso dataset. Em diversas análises, ausencia de informação causa falha ao nosso modelo. Em nosso caso, vamos apresentar a informação da localiação dos Embarques em forma de mapa e detectamos 2 valores ausentes na variável Embarked. Por se tratar de poucos registros, vamos eliminar essas duas entradas.  "
      ]
    },
    {
      "cell_type": "code",
      "metadata": {
        "id": "YOUVnLngzAgi",
        "colab_type": "code",
        "colab": {}
      },
      "source": [
        "# excluindo NaN da variável Embarked\n",
        "df.dropna(subset=['Embarked'], inplace=True)"
      ],
      "execution_count": 8,
      "outputs": []
    },
    {
      "cell_type": "code",
      "metadata": {
        "id": "KoJNOHrp0AH3",
        "colab_type": "code",
        "colab": {
          "base_uri": "https://localhost:8080/",
          "height": 238
        },
        "outputId": "37971c2d-91b5-4db7-a03c-d323d48a701f"
      },
      "source": [
        "# exibido dataset depois do tratamento\n",
        "df.isnull().sum()"
      ],
      "execution_count": 9,
      "outputs": [
        {
          "output_type": "execute_result",
          "data": {
            "text/plain": [
              "PassengerId      0\n",
              "Survived         0\n",
              "Pclass           0\n",
              "Name             0\n",
              "Sex              0\n",
              "Age            177\n",
              "SibSp            0\n",
              "Parch            0\n",
              "Ticket           0\n",
              "Fare             0\n",
              "Cabin          687\n",
              "Embarked         0\n",
              "dtype: int64"
            ]
          },
          "metadata": {
            "tags": []
          },
          "execution_count": 9
        }
      ]
    },
    {
      "cell_type": "markdown",
      "metadata": {
        "id": "FeGEuDiAyx5b",
        "colab_type": "text"
      },
      "source": [
        "### **Distribuição das variáveis**"
      ]
    },
    {
      "cell_type": "code",
      "metadata": {
        "id": "QfigOGWYy1ex",
        "colab_type": "code",
        "colab": {
          "base_uri": "https://localhost:8080/",
          "height": 607
        },
        "outputId": "ce2af3e5-69f6-4d13-b558-06af496ff693"
      },
      "source": [
        "# densidade das variáveis\n",
        "df.hist(bins=15, figsize=(15, 10));"
      ],
      "execution_count": 10,
      "outputs": [
        {
          "output_type": "display_data",
          "data": {
            "image/png": "[encoded data removed]",
            "text/plain": [
              "<Figure size 1080x720 with 9 Axes>"
            ]
          },
          "metadata": {
            "tags": [],
            "needs_background": "light"
          }
        }
      ]
    },
    {
      "cell_type": "markdown",
      "metadata": {
        "id": "fJXJ0Dtnbm-m",
        "colab_type": "text"
      },
      "source": [
        "Ao plotar todas as variáveis em busca de entender a densidade de cada uma, vimos que nem todas fazem sentido apresentar com histograma, como por exemplo `Passengerid`. Então vamos trazer apenas as que podemos nos informar algo. Como temos o dicioário de dados, é possível ser assertivos"
      ]
    },
    {
      "cell_type": "code",
      "metadata": {
        "id": "W42vGlHfkj7c",
        "colab_type": "code",
        "colab": {
          "base_uri": "https://localhost:8080/",
          "height": 68
        },
        "outputId": "4c1c7119-bd3e-41c3-ed8e-d33101fb7710"
      },
      "source": [
        "# exibindo colunas dataset\n",
        "df.columns"
      ],
      "execution_count": 11,
      "outputs": [
        {
          "output_type": "execute_result",
          "data": {
            "text/plain": [
              "Index(['PassengerId', 'Survived', 'Pclass', 'Name', 'Sex', 'Age', 'SibSp',\n",
              "       'Parch', 'Ticket', 'Fare', 'Cabin', 'Embarked'],\n",
              "      dtype='object')"
            ]
          },
          "metadata": {
            "tags": []
          },
          "execution_count": 11
        }
      ]
    },
    {
      "cell_type": "code",
      "metadata": {
        "id": "5ZlWpYYGkrs5",
        "colab_type": "code",
        "colab": {
          "base_uri": "https://localhost:8080/",
          "height": 336
        },
        "outputId": "432e0a15-3128-4409-dc54-a0e8840c8cb3"
      },
      "source": [
        "# exibindo histograma\n",
        "df.filter(items = ['Age', 'Fare']).hist(bins=10, figsize=(15, 5));"
      ],
      "execution_count": 12,
      "outputs": [
        {
          "output_type": "display_data",
          "data": {
            "image/png": "[encoded data removed]",
            "text/plain": [
              "<Figure size 1080x360 with 2 Axes>"
            ]
          },
          "metadata": {
            "tags": [],
            "needs_background": "light"
          }
        }
      ]
    },
    {
      "cell_type": "markdown",
      "metadata": {
        "id": "MtFlcVRULaWy",
        "colab_type": "text"
      },
      "source": [
        "\n",
        "Como conhecemos nosso dataset, escolhi as variáveis `Age` e `Fare` para entender melhor a densidade da informação. Histograma criado com as duas, foi possível identificar que `Fare` possui *outliers*. Precisamos ter bastante atenção, já que os outliers podem interfetir bastante no resultado. Então vamos investigar."
      ]
    },
    {
      "cell_type": "code",
      "metadata": {
        "id": "IE2-UNd0PdRu",
        "colab_type": "code",
        "colab": {
          "base_uri": "https://localhost:8080/",
          "height": 170
        },
        "outputId": "7f047c93-0405-40d3-a344-01b786029373"
      },
      "source": [
        "# estatistica variável Fare\n",
        "df['Fare'].describe()"
      ],
      "execution_count": 13,
      "outputs": [
        {
          "output_type": "execute_result",
          "data": {
            "text/plain": [
              "count    889.000000\n",
              "mean      32.096681\n",
              "std       49.697504\n",
              "min        0.000000\n",
              "25%        7.895800\n",
              "50%       14.454200\n",
              "75%       31.000000\n",
              "max      512.329200\n",
              "Name: Fare, dtype: float64"
            ]
          },
          "metadata": {
            "tags": []
          },
          "execution_count": 13
        }
      ]
    },
    {
      "cell_type": "code",
      "metadata": {
        "id": "RoJfXJTfIbrr",
        "colab_type": "code",
        "colab": {
          "base_uri": "https://localhost:8080/",
          "height": 279
        },
        "outputId": "02eef3ae-918a-4a0d-f974-b2d9a6bd647b"
      },
      "source": [
        "# dispersão da variável \n",
        "df.plot.scatter('PassengerId', 'Fare');"
      ],
      "execution_count": 14,
      "outputs": [
        {
          "output_type": "display_data",
          "data": {
            "image/png": "[encoded data removed]",
            "text/plain": [
              "<Figure size 432x288 with 1 Axes>"
            ]
          },
          "metadata": {
            "tags": [],
            "needs_background": "light"
          }
        }
      ]
    },
    {
      "cell_type": "markdown",
      "metadata": {
        "id": "erbpssVvTvgM",
        "colab_type": "text"
      },
      "source": [
        "O scatter ajuda a entender bem como está a dispersão. Ficou claro que existe 3 entradas que estão bem fora do padrão. Agora é identificar os resgistros outlier. "
      ]
    },
    {
      "cell_type": "code",
      "metadata": {
        "id": "Zcv506H0Sn5U",
        "colab_type": "code",
        "colab": {
          "base_uri": "https://localhost:8080/",
          "height": 142
        },
        "outputId": "3b64d599-8440-4c91-9ee3-248b2277ffbb"
      },
      "source": [
        "# listando os outliers\n",
        "df[df['Fare'] >= 400]"
      ],
      "execution_count": 15,
      "outputs": [
        {
          "output_type": "execute_result",
          "data": {
            "text/html": [
              "<div>\n",
              "<style scoped>\n",
              "    .dataframe tbody tr th:only-of-type {\n",
              "        vertical-align: middle;\n",
              "    }\n",
              "\n",
              "    .dataframe tbody tr th {\n",
              "        vertical-align: top;\n",
              "    }\n",
              "\n",
              "    .dataframe thead th {\n",
              "        text-align: right;\n",
              "    }\n",
              "</style>\n",
              "<table border=\"1\" class=\"dataframe\">\n",
              "  <thead>\n",
              "    <tr style=\"text-align: right;\">\n",
              "      <th></th>\n",
              "      <th>PassengerId</th>\n",
              "      <th>Survived</th>\n",
              "      <th>Pclass</th>\n",
              "      <th>Name</th>\n",
              "      <th>Sex</th>\n",
              "      <th>Age</th>\n",
              "      <th>SibSp</th>\n",
              "      <th>Parch</th>\n",
              "      <th>Ticket</th>\n",
              "      <th>Fare</th>\n",
              "      <th>Cabin</th>\n",
              "      <th>Embarked</th>\n",
              "    </tr>\n",
              "  </thead>\n",
              "  <tbody>\n",
              "    <tr>\n",
              "      <th>258</th>\n",
              "      <td>259</td>\n",
              "      <td>1</td>\n",
              "      <td>1</td>\n",
              "      <td>Ward, Miss. Anna</td>\n",
              "      <td>female</td>\n",
              "      <td>35.0</td>\n",
              "      <td>0</td>\n",
              "      <td>0</td>\n",
              "      <td>PC 17755</td>\n",
              "      <td>512.3292</td>\n",
              "      <td>NaN</td>\n",
              "      <td>C</td>\n",
              "    </tr>\n",
              "    <tr>\n",
              "      <th>679</th>\n",
              "      <td>680</td>\n",
              "      <td>1</td>\n",
              "      <td>1</td>\n",
              "      <td>Cardeza, Mr. Thomas Drake Martinez</td>\n",
              "      <td>male</td>\n",
              "      <td>36.0</td>\n",
              "      <td>0</td>\n",
              "      <td>1</td>\n",
              "      <td>PC 17755</td>\n",
              "      <td>512.3292</td>\n",
              "      <td>B51 B53 B55</td>\n",
              "      <td>C</td>\n",
              "    </tr>\n",
              "    <tr>\n",
              "      <th>737</th>\n",
              "      <td>738</td>\n",
              "      <td>1</td>\n",
              "      <td>1</td>\n",
              "      <td>Lesurer, Mr. Gustave J</td>\n",
              "      <td>male</td>\n",
              "      <td>35.0</td>\n",
              "      <td>0</td>\n",
              "      <td>0</td>\n",
              "      <td>PC 17755</td>\n",
              "      <td>512.3292</td>\n",
              "      <td>B101</td>\n",
              "      <td>C</td>\n",
              "    </tr>\n",
              "  </tbody>\n",
              "</table>\n",
              "</div>"
            ],
            "text/plain": [
              "     PassengerId  Survived  Pclass  ...      Fare        Cabin  Embarked\n",
              "258          259         1       1  ...  512.3292          NaN         C\n",
              "679          680         1       1  ...  512.3292  B51 B53 B55         C\n",
              "737          738         1       1  ...  512.3292         B101         C\n",
              "\n",
              "[3 rows x 12 columns]"
            ]
          },
          "metadata": {
            "tags": []
          },
          "execution_count": 15
        }
      ]
    },
    {
      "cell_type": "markdown",
      "metadata": {
        "id": "rnURvvofVERQ",
        "colab_type": "text"
      },
      "source": [
        "Com os outliers encontrados cabe uma reflexão. Informação fora do padrão, não significa um erro. Até por que, o objetivo da análsie poderia ser justamente identificar essa anomalia. Então, o importante é entender bem os dados e saber bem o que está se buscando. "
      ]
    },
    {
      "cell_type": "markdown",
      "metadata": {
        "id": "ZuSiO_5N3b_5",
        "colab_type": "text"
      },
      "source": [
        "### **Q2.Onde aconteceram os embarques?**\n",
        "\n",
        " Informações apresentadas em mapas sempre é interessante. Então com o objetivo de enrequecer a análise, vamos adiciona ao conjunto de dados as coordenadas de latitude e longitude, que foi extraida manualmente do Google. Extração manual não é a melhor forma,  mas como são apenas 3 portos, valeu o esforço. \n",
        "\n",
        "#### **Coordenadas:**\n",
        "* Queenstown: 52.0267662,-9.5458724\n",
        "* Southampton: 50.9052739,-1.4148693\n",
        "* Cheargourg: 49.6374801,-1.6192302"
      ]
    },
    {
      "cell_type": "code",
      "metadata": {
        "id": "vPJIA8Sxe43u",
        "colab_type": "code",
        "colab": {}
      },
      "source": [
        "# função latitude\n",
        "def func_latitude(a):\n",
        "  if a == 'C':\n",
        "    return 49.6374801\n",
        "  if a == 'S':\n",
        "    return 50.9052739\n",
        "  if a == 'Q':\n",
        "    return 52.0267662\n"
      ],
      "execution_count": 16,
      "outputs": []
    },
    {
      "cell_type": "code",
      "metadata": {
        "id": "XxFLCENKBWDI",
        "colab_type": "code",
        "colab": {}
      },
      "source": [
        "# função longitude\n",
        "def func_longitude(a):\n",
        "  if a == 'C':\n",
        "    return -1.6192302\n",
        "  if a == 'S':\n",
        "    return -1.4148693\n",
        "  if a == 'Q':\n",
        "    return -9.5458724"
      ],
      "execution_count": 17,
      "outputs": []
    },
    {
      "cell_type": "code",
      "metadata": {
        "id": "Q_8SVlOO_zs5",
        "colab_type": "code",
        "colab": {}
      },
      "source": [
        "# adiciona latitude e longitude ao dataset com a função map\n",
        "df['Latitude'] = list(map(func_latitude, df['Embarked']))\n",
        "df['Longitude'] = list(map(func_longitude, df['Embarked']))"
      ],
      "execution_count": 18,
      "outputs": []
    },
    {
      "cell_type": "code",
      "metadata": {
        "id": "y9uK-xs2CE44",
        "colab_type": "code",
        "colab": {
          "base_uri": "https://localhost:8080/",
          "height": 238
        },
        "outputId": "24830a1c-5df5-40a7-f249-ec50f070e995"
      },
      "source": [
        "# exibi dataset com as novas colunas\n",
        "df.head()"
      ],
      "execution_count": 19,
      "outputs": [
        {
          "output_type": "execute_result",
          "data": {
            "text/html": [
              "<div>\n",
              "<style scoped>\n",
              "    .dataframe tbody tr th:only-of-type {\n",
              "        vertical-align: middle;\n",
              "    }\n",
              "\n",
              "    .dataframe tbody tr th {\n",
              "        vertical-align: top;\n",
              "    }\n",
              "\n",
              "    .dataframe thead th {\n",
              "        text-align: right;\n",
              "    }\n",
              "</style>\n",
              "<table border=\"1\" class=\"dataframe\">\n",
              "  <thead>\n",
              "    <tr style=\"text-align: right;\">\n",
              "      <th></th>\n",
              "      <th>PassengerId</th>\n",
              "      <th>Survived</th>\n",
              "      <th>Pclass</th>\n",
              "      <th>Name</th>\n",
              "      <th>Sex</th>\n",
              "      <th>Age</th>\n",
              "      <th>SibSp</th>\n",
              "      <th>Parch</th>\n",
              "      <th>Ticket</th>\n",
              "      <th>Fare</th>\n",
              "      <th>Cabin</th>\n",
              "      <th>Embarked</th>\n",
              "      <th>Latitude</th>\n",
              "      <th>Longitude</th>\n",
              "    </tr>\n",
              "  </thead>\n",
              "  <tbody>\n",
              "    <tr>\n",
              "      <th>0</th>\n",
              "      <td>1</td>\n",
              "      <td>0</td>\n",
              "      <td>3</td>\n",
              "      <td>Braund, Mr. Owen Harris</td>\n",
              "      <td>male</td>\n",
              "      <td>22.0</td>\n",
              "      <td>1</td>\n",
              "      <td>0</td>\n",
              "      <td>A/5 21171</td>\n",
              "      <td>7.2500</td>\n",
              "      <td>NaN</td>\n",
              "      <td>S</td>\n",
              "      <td>50.905274</td>\n",
              "      <td>-1.414869</td>\n",
              "    </tr>\n",
              "    <tr>\n",
              "      <th>1</th>\n",
              "      <td>2</td>\n",
              "      <td>1</td>\n",
              "      <td>1</td>\n",
              "      <td>Cumings, Mrs. John Bradley (Florence Briggs Th...</td>\n",
              "      <td>female</td>\n",
              "      <td>38.0</td>\n",
              "      <td>1</td>\n",
              "      <td>0</td>\n",
              "      <td>PC 17599</td>\n",
              "      <td>71.2833</td>\n",
              "      <td>C85</td>\n",
              "      <td>C</td>\n",
              "      <td>49.637480</td>\n",
              "      <td>-1.619230</td>\n",
              "    </tr>\n",
              "    <tr>\n",
              "      <th>2</th>\n",
              "      <td>3</td>\n",
              "      <td>1</td>\n",
              "      <td>3</td>\n",
              "      <td>Heikkinen, Miss. Laina</td>\n",
              "      <td>female</td>\n",
              "      <td>26.0</td>\n",
              "      <td>0</td>\n",
              "      <td>0</td>\n",
              "      <td>STON/O2. 3101282</td>\n",
              "      <td>7.9250</td>\n",
              "      <td>NaN</td>\n",
              "      <td>S</td>\n",
              "      <td>50.905274</td>\n",
              "      <td>-1.414869</td>\n",
              "    </tr>\n",
              "    <tr>\n",
              "      <th>3</th>\n",
              "      <td>4</td>\n",
              "      <td>1</td>\n",
              "      <td>1</td>\n",
              "      <td>Futrelle, Mrs. Jacques Heath (Lily May Peel)</td>\n",
              "      <td>female</td>\n",
              "      <td>35.0</td>\n",
              "      <td>1</td>\n",
              "      <td>0</td>\n",
              "      <td>113803</td>\n",
              "      <td>53.1000</td>\n",
              "      <td>C123</td>\n",
              "      <td>S</td>\n",
              "      <td>50.905274</td>\n",
              "      <td>-1.414869</td>\n",
              "    </tr>\n",
              "    <tr>\n",
              "      <th>4</th>\n",
              "      <td>5</td>\n",
              "      <td>0</td>\n",
              "      <td>3</td>\n",
              "      <td>Allen, Mr. William Henry</td>\n",
              "      <td>male</td>\n",
              "      <td>35.0</td>\n",
              "      <td>0</td>\n",
              "      <td>0</td>\n",
              "      <td>373450</td>\n",
              "      <td>8.0500</td>\n",
              "      <td>NaN</td>\n",
              "      <td>S</td>\n",
              "      <td>50.905274</td>\n",
              "      <td>-1.414869</td>\n",
              "    </tr>\n",
              "  </tbody>\n",
              "</table>\n",
              "</div>"
            ],
            "text/plain": [
              "   PassengerId  Survived  Pclass  ... Embarked   Latitude  Longitude\n",
              "0            1         0       3  ...        S  50.905274  -1.414869\n",
              "1            2         1       1  ...        C  49.637480  -1.619230\n",
              "2            3         1       3  ...        S  50.905274  -1.414869\n",
              "3            4         1       1  ...        S  50.905274  -1.414869\n",
              "4            5         0       3  ...        S  50.905274  -1.414869\n",
              "\n",
              "[5 rows x 14 columns]"
            ]
          },
          "metadata": {
            "tags": []
          },
          "execution_count": 19
        }
      ]
    },
    {
      "cell_type": "code",
      "metadata": {
        "id": "vSDIVqufKWkN",
        "colab_type": "code",
        "colab": {}
      },
      "source": [
        "coordenadas=[]\n",
        "for lat,lng in zip(df.Latitude, df.Longitude):\n",
        "  coordenadas.append([lat,lng])"
      ],
      "execution_count": 20,
      "outputs": []
    },
    {
      "cell_type": "code",
      "metadata": {
        "id": "PiOI_uA1N94F",
        "colab_type": "code",
        "colab": {}
      },
      "source": [
        "mapa = folium.Map(\n",
        "    location=[50.7839624,-5.1200623], \n",
        "    zoom_start=7, \n",
        "    tiles='Stamen Toner'\n",
        "    )"
      ],
      "execution_count": 21,
      "outputs": []
    },
    {
      "cell_type": "code",
      "metadata": {
        "id": "DV2nCToXOlUH",
        "colab_type": "code",
        "colab": {
          "base_uri": "https://localhost:8080/",
          "height": 763
        },
        "outputId": "d4aac286-fec8-44ca-da83-f31f77ace5ec"
      },
      "source": [
        "mapa.add_child(plugins.HeatMap(coordenadas))"
      ],
      "execution_count": 22,
      "outputs": [
        {
          "output_type": "execute_result",
          "data": {
            "text/html": [
              "<div style=\"width:100%;\"><div style=\"position:relative;width:100%;height:0;padding-bottom:60%;\"><span style=\"color:#565656\">Make this Notebook Trusted to load map: File -> Trust Notebook</span><iframe src=\"about:blank\" style=\"position:absolute;width:100%;height:100%;left:0;top:0;border:none !important;\" data-html=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 onload=\"this.contentDocument.open();this.contentDocument.write(atob(this.getAttribute('data-html')));this.contentDocument.close();\" allowfullscreen webkitallowfullscreen mozallowfullscreen></iframe></div></div>"
            ],
            "text/plain": [
              "<folium.folium.Map at 0x7fd5c5482828>"
            ]
          },
          "metadata": {
            "tags": []
          },
          "execution_count": 22
        }
      ]
    },
    {
      "cell_type": "markdown",
      "metadata": {
        "id": "sogon7ovlQGx",
        "colab_type": "text"
      },
      "source": [
        "####**Q3. Quantidade de sobreviventes**"
      ]
    },
    {
      "cell_type": "markdown",
      "metadata": {
        "id": "vzPSVZBBWJQZ",
        "colab_type": "text"
      },
      "source": [
        "## Após deversas análises estatisticas do nosso dataset, nos sentimos confiantes para investigar o que os dados falam sobre os passageiros diretamente.\n",
        "\n",
        "Como para algumas visões, foi preciso utilizar técnicas como excluir valores NaN para plotar gráficos, com os de mapa por exemplo, vamos recarregar nosso dataset para ter a quantidade exata de passagueiros. Com essa novo, também vamos renomear e excluir algumas colunas."
      ]
    },
    {
      "cell_type": "code",
      "metadata": {
        "id": "Bi1wrq9YlWSW",
        "colab_type": "code",
        "colab": {
          "base_uri": "https://localhost:8080/",
          "height": 204
        },
        "outputId": "7e62ef99-0da4-40e0-b42a-6b66c6405f53"
      },
      "source": [
        "# recarregando dataset com outro nome e exibindo os registros\n",
        "df_completo = pd.read_csv('https://bit.ly/2A6J2fm')\n",
        "df_completo.head()"
      ],
      "execution_count": 23,
      "outputs": [
        {
          "output_type": "execute_result",
          "data": {
            "text/html": [
              "<div>\n",
              "<style scoped>\n",
              "    .dataframe tbody tr th:only-of-type {\n",
              "        vertical-align: middle;\n",
              "    }\n",
              "\n",
              "    .dataframe tbody tr th {\n",
              "        vertical-align: top;\n",
              "    }\n",
              "\n",
              "    .dataframe thead th {\n",
              "        text-align: right;\n",
              "    }\n",
              "</style>\n",
              "<table border=\"1\" class=\"dataframe\">\n",
              "  <thead>\n",
              "    <tr style=\"text-align: right;\">\n",
              "      <th></th>\n",
              "      <th>PassengerId</th>\n",
              "      <th>Survived</th>\n",
              "      <th>Pclass</th>\n",
              "      <th>Name</th>\n",
              "      <th>Sex</th>\n",
              "      <th>Age</th>\n",
              "      <th>SibSp</th>\n",
              "      <th>Parch</th>\n",
              "      <th>Ticket</th>\n",
              "      <th>Fare</th>\n",
              "      <th>Cabin</th>\n",
              "      <th>Embarked</th>\n",
              "    </tr>\n",
              "  </thead>\n",
              "  <tbody>\n",
              "    <tr>\n",
              "      <th>0</th>\n",
              "      <td>1</td>\n",
              "      <td>0</td>\n",
              "      <td>3</td>\n",
              "      <td>Braund, Mr. Owen Harris</td>\n",
              "      <td>male</td>\n",
              "      <td>22.0</td>\n",
              "      <td>1</td>\n",
              "      <td>0</td>\n",
              "      <td>A/5 21171</td>\n",
              "      <td>7.2500</td>\n",
              "      <td>NaN</td>\n",
              "      <td>S</td>\n",
              "    </tr>\n",
              "    <tr>\n",
              "      <th>1</th>\n",
              "      <td>2</td>\n",
              "      <td>1</td>\n",
              "      <td>1</td>\n",
              "      <td>Cumings, Mrs. John Bradley (Florence Briggs Th...</td>\n",
              "      <td>female</td>\n",
              "      <td>38.0</td>\n",
              "      <td>1</td>\n",
              "      <td>0</td>\n",
              "      <td>PC 17599</td>\n",
              "      <td>71.2833</td>\n",
              "      <td>C85</td>\n",
              "      <td>C</td>\n",
              "    </tr>\n",
              "    <tr>\n",
              "      <th>2</th>\n",
              "      <td>3</td>\n",
              "      <td>1</td>\n",
              "      <td>3</td>\n",
              "      <td>Heikkinen, Miss. Laina</td>\n",
              "      <td>female</td>\n",
              "      <td>26.0</td>\n",
              "      <td>0</td>\n",
              "      <td>0</td>\n",
              "      <td>STON/O2. 3101282</td>\n",
              "      <td>7.9250</td>\n",
              "      <td>NaN</td>\n",
              "      <td>S</td>\n",
              "    </tr>\n",
              "    <tr>\n",
              "      <th>3</th>\n",
              "      <td>4</td>\n",
              "      <td>1</td>\n",
              "      <td>1</td>\n",
              "      <td>Futrelle, Mrs. Jacques Heath (Lily May Peel)</td>\n",
              "      <td>female</td>\n",
              "      <td>35.0</td>\n",
              "      <td>1</td>\n",
              "      <td>0</td>\n",
              "      <td>113803</td>\n",
              "      <td>53.1000</td>\n",
              "      <td>C123</td>\n",
              "      <td>S</td>\n",
              "    </tr>\n",
              "    <tr>\n",
              "      <th>4</th>\n",
              "      <td>5</td>\n",
              "      <td>0</td>\n",
              "      <td>3</td>\n",
              "      <td>Allen, Mr. William Henry</td>\n",
              "      <td>male</td>\n",
              "      <td>35.0</td>\n",
              "      <td>0</td>\n",
              "      <td>0</td>\n",
              "      <td>373450</td>\n",
              "      <td>8.0500</td>\n",
              "      <td>NaN</td>\n",
              "      <td>S</td>\n",
              "    </tr>\n",
              "  </tbody>\n",
              "</table>\n",
              "</div>"
            ],
            "text/plain": [
              "   PassengerId  Survived  Pclass  ...     Fare Cabin  Embarked\n",
              "0            1         0       3  ...   7.2500   NaN         S\n",
              "1            2         1       1  ...  71.2833   C85         C\n",
              "2            3         1       3  ...   7.9250   NaN         S\n",
              "3            4         1       1  ...  53.1000  C123         S\n",
              "4            5         0       3  ...   8.0500   NaN         S\n",
              "\n",
              "[5 rows x 12 columns]"
            ]
          },
          "metadata": {
            "tags": []
          },
          "execution_count": 23
        }
      ]
    },
    {
      "cell_type": "code",
      "metadata": {
        "id": "lOH6YeU0li49",
        "colab_type": "code",
        "colab": {
          "base_uri": "https://localhost:8080/",
          "height": 204
        },
        "outputId": "25086303-fca6-4411-8f90-a8c32298faa1"
      },
      "source": [
        "# excluindo colunas\n",
        "df_completo = df_completo.drop(columns=['Ticket', 'SibSp', 'Parch', 'Cabin'])\n",
        "df_completo.head()"
      ],
      "execution_count": 24,
      "outputs": [
        {
          "output_type": "execute_result",
          "data": {
            "text/html": [
              "<div>\n",
              "<style scoped>\n",
              "    .dataframe tbody tr th:only-of-type {\n",
              "        vertical-align: middle;\n",
              "    }\n",
              "\n",
              "    .dataframe tbody tr th {\n",
              "        vertical-align: top;\n",
              "    }\n",
              "\n",
              "    .dataframe thead th {\n",
              "        text-align: right;\n",
              "    }\n",
              "</style>\n",
              "<table border=\"1\" class=\"dataframe\">\n",
              "  <thead>\n",
              "    <tr style=\"text-align: right;\">\n",
              "      <th></th>\n",
              "      <th>PassengerId</th>\n",
              "      <th>Survived</th>\n",
              "      <th>Pclass</th>\n",
              "      <th>Name</th>\n",
              "      <th>Sex</th>\n",
              "      <th>Age</th>\n",
              "      <th>Fare</th>\n",
              "      <th>Embarked</th>\n",
              "    </tr>\n",
              "  </thead>\n",
              "  <tbody>\n",
              "    <tr>\n",
              "      <th>0</th>\n",
              "      <td>1</td>\n",
              "      <td>0</td>\n",
              "      <td>3</td>\n",
              "      <td>Braund, Mr. Owen Harris</td>\n",
              "      <td>male</td>\n",
              "      <td>22.0</td>\n",
              "      <td>7.2500</td>\n",
              "      <td>S</td>\n",
              "    </tr>\n",
              "    <tr>\n",
              "      <th>1</th>\n",
              "      <td>2</td>\n",
              "      <td>1</td>\n",
              "      <td>1</td>\n",
              "      <td>Cumings, Mrs. John Bradley (Florence Briggs Th...</td>\n",
              "      <td>female</td>\n",
              "      <td>38.0</td>\n",
              "      <td>71.2833</td>\n",
              "      <td>C</td>\n",
              "    </tr>\n",
              "    <tr>\n",
              "      <th>2</th>\n",
              "      <td>3</td>\n",
              "      <td>1</td>\n",
              "      <td>3</td>\n",
              "      <td>Heikkinen, Miss. Laina</td>\n",
              "      <td>female</td>\n",
              "      <td>26.0</td>\n",
              "      <td>7.9250</td>\n",
              "      <td>S</td>\n",
              "    </tr>\n",
              "    <tr>\n",
              "      <th>3</th>\n",
              "      <td>4</td>\n",
              "      <td>1</td>\n",
              "      <td>1</td>\n",
              "      <td>Futrelle, Mrs. Jacques Heath (Lily May Peel)</td>\n",
              "      <td>female</td>\n",
              "      <td>35.0</td>\n",
              "      <td>53.1000</td>\n",
              "      <td>S</td>\n",
              "    </tr>\n",
              "    <tr>\n",
              "      <th>4</th>\n",
              "      <td>5</td>\n",
              "      <td>0</td>\n",
              "      <td>3</td>\n",
              "      <td>Allen, Mr. William Henry</td>\n",
              "      <td>male</td>\n",
              "      <td>35.0</td>\n",
              "      <td>8.0500</td>\n",
              "      <td>S</td>\n",
              "    </tr>\n",
              "  </tbody>\n",
              "</table>\n",
              "</div>"
            ],
            "text/plain": [
              "   PassengerId  Survived  Pclass  ...   Age     Fare  Embarked\n",
              "0            1         0       3  ...  22.0   7.2500         S\n",
              "1            2         1       1  ...  38.0  71.2833         C\n",
              "2            3         1       3  ...  26.0   7.9250         S\n",
              "3            4         1       1  ...  35.0  53.1000         S\n",
              "4            5         0       3  ...  35.0   8.0500         S\n",
              "\n",
              "[5 rows x 8 columns]"
            ]
          },
          "metadata": {
            "tags": []
          },
          "execution_count": 24
        }
      ]
    },
    {
      "cell_type": "markdown",
      "metadata": {
        "id": "Vmw5--6LtBuk",
        "colab_type": "text"
      },
      "source": [
        "##**Sobre os passageiros**"
      ]
    },
    {
      "cell_type": "markdown",
      "metadata": {
        "id": "OoSeLZXohPgQ",
        "colab_type": "text"
      },
      "source": [
        "**Quantidade geral**"
      ]
    },
    {
      "cell_type": "code",
      "metadata": {
        "id": "kEGR13fTr_g3",
        "colab_type": "code",
        "colab": {
          "base_uri": "https://localhost:8080/",
          "height": 34
        },
        "outputId": "da4f28a6-7c36-4fa3-8790-3276d5ff7ab5"
      },
      "source": [
        "# quantidade passageiros\n",
        "print('O Titanic leva abordo {} passageiros' .format(df_completo['PassengerId'].shape[0]))"
      ],
      "execution_count": 25,
      "outputs": [
        {
          "output_type": "stream",
          "text": [
            "O Titanic leva abordo 891 passageiros\n"
          ],
          "name": "stdout"
        }
      ]
    },
    {
      "cell_type": "markdown",
      "metadata": {
        "id": "xeHshfHwhbTR",
        "colab_type": "text"
      },
      "source": [
        "**Distribuição por classe**"
      ]
    },
    {
      "cell_type": "code",
      "metadata": {
        "id": "qx_OI9APs5-q",
        "colab_type": "code",
        "colab": {
          "base_uri": "https://localhost:8080/",
          "height": 173
        },
        "outputId": "42cec662-5aea-4aa6-9615-03bd312323d0"
      },
      "source": [
        "# quantidade\n",
        "df_completo.filter(items=['Pclass', 'PassengerId']).groupby('Pclass').count() "
      ],
      "execution_count": 26,
      "outputs": [
        {
          "output_type": "execute_result",
          "data": {
            "text/html": [
              "<div>\n",
              "<style scoped>\n",
              "    .dataframe tbody tr th:only-of-type {\n",
              "        vertical-align: middle;\n",
              "    }\n",
              "\n",
              "    .dataframe tbody tr th {\n",
              "        vertical-align: top;\n",
              "    }\n",
              "\n",
              "    .dataframe thead th {\n",
              "        text-align: right;\n",
              "    }\n",
              "</style>\n",
              "<table border=\"1\" class=\"dataframe\">\n",
              "  <thead>\n",
              "    <tr style=\"text-align: right;\">\n",
              "      <th></th>\n",
              "      <th>PassengerId</th>\n",
              "    </tr>\n",
              "    <tr>\n",
              "      <th>Pclass</th>\n",
              "      <th></th>\n",
              "    </tr>\n",
              "  </thead>\n",
              "  <tbody>\n",
              "    <tr>\n",
              "      <th>1</th>\n",
              "      <td>216</td>\n",
              "    </tr>\n",
              "    <tr>\n",
              "      <th>2</th>\n",
              "      <td>184</td>\n",
              "    </tr>\n",
              "    <tr>\n",
              "      <th>3</th>\n",
              "      <td>491</td>\n",
              "    </tr>\n",
              "  </tbody>\n",
              "</table>\n",
              "</div>"
            ],
            "text/plain": [
              "        PassengerId\n",
              "Pclass             \n",
              "1               216\n",
              "2               184\n",
              "3               491"
            ]
          },
          "metadata": {
            "tags": []
          },
          "execution_count": 26
        }
      ]
    },
    {
      "cell_type": "code",
      "metadata": {
        "id": "2rzlEGz1hvqO",
        "colab_type": "code",
        "colab": {
          "base_uri": "https://localhost:8080/",
          "height": 173
        },
        "outputId": "843ca2d8-b3ac-4b5e-9c76-7c3cf36cfa0b"
      },
      "source": [
        "# percentual\n",
        "df_completo.filter(items=['Pclass', 'PassengerId']).groupby('Pclass').count() / df_completo['PassengerId'].shape[0] * 100"
      ],
      "execution_count": 27,
      "outputs": [
        {
          "output_type": "execute_result",
          "data": {
            "text/html": [
              "<div>\n",
              "<style scoped>\n",
              "    .dataframe tbody tr th:only-of-type {\n",
              "        vertical-align: middle;\n",
              "    }\n",
              "\n",
              "    .dataframe tbody tr th {\n",
              "        vertical-align: top;\n",
              "    }\n",
              "\n",
              "    .dataframe thead th {\n",
              "        text-align: right;\n",
              "    }\n",
              "</style>\n",
              "<table border=\"1\" class=\"dataframe\">\n",
              "  <thead>\n",
              "    <tr style=\"text-align: right;\">\n",
              "      <th></th>\n",
              "      <th>PassengerId</th>\n",
              "    </tr>\n",
              "    <tr>\n",
              "      <th>Pclass</th>\n",
              "      <th></th>\n",
              "    </tr>\n",
              "  </thead>\n",
              "  <tbody>\n",
              "    <tr>\n",
              "      <th>1</th>\n",
              "      <td>24.242424</td>\n",
              "    </tr>\n",
              "    <tr>\n",
              "      <th>2</th>\n",
              "      <td>20.650954</td>\n",
              "    </tr>\n",
              "    <tr>\n",
              "      <th>3</th>\n",
              "      <td>55.106622</td>\n",
              "    </tr>\n",
              "  </tbody>\n",
              "</table>\n",
              "</div>"
            ],
            "text/plain": [
              "        PassengerId\n",
              "Pclass             \n",
              "1         24.242424\n",
              "2         20.650954\n",
              "3         55.106622"
            ]
          },
          "metadata": {
            "tags": []
          },
          "execution_count": 27
        }
      ]
    },
    {
      "cell_type": "code",
      "metadata": {
        "id": "ZhbcP40jeSyj",
        "colab_type": "code",
        "colab": {
          "base_uri": "https://localhost:8080/",
          "height": 265
        },
        "outputId": "c91eb3ae-be47-4b4a-b62e-6225e90bbfe1"
      },
      "source": [
        "# visão gráfica\n",
        "df_completo[['Pclass', 'PassengerId']].groupby('Pclass').count().plot(kind='barh');"
      ],
      "execution_count": 28,
      "outputs": [
        {
          "output_type": "display_data",
          "data": {
            "image/png": "[encoded data removed]",
            "text/plain": [
              "<Figure size 432x288 with 1 Axes>"
            ]
          },
          "metadata": {
            "tags": [],
            "needs_background": "light"
          }
        }
      ]
    },
    {
      "cell_type": "markdown",
      "metadata": {
        "id": "fA-GS6utjdbD",
        "colab_type": "text"
      },
      "source": [
        "Conclusão:\n",
        "\n",
        "Vimos que a maioria estava lotada na 3 classe"
      ]
    },
    {
      "cell_type": "markdown",
      "metadata": {
        "id": "2e0w2E4NiALr",
        "colab_type": "text"
      },
      "source": [
        "**Por sexo**"
      ]
    },
    {
      "cell_type": "code",
      "metadata": {
        "id": "1CtljJMGiUri",
        "colab_type": "code",
        "colab": {
          "base_uri": "https://localhost:8080/",
          "height": 68
        },
        "outputId": "1957f13a-65a6-488e-a526-17d79fd65a68"
      },
      "source": [
        "df_completo.columns"
      ],
      "execution_count": 29,
      "outputs": [
        {
          "output_type": "execute_result",
          "data": {
            "text/plain": [
              "Index(['PassengerId', 'Survived', 'Pclass', 'Name', 'Sex', 'Age', 'Fare',\n",
              "       'Embarked'],\n",
              "      dtype='object')"
            ]
          },
          "metadata": {
            "tags": []
          },
          "execution_count": 29
        }
      ]
    },
    {
      "cell_type": "code",
      "metadata": {
        "id": "y6BvlaeDh-5C",
        "colab_type": "code",
        "colab": {
          "base_uri": "https://localhost:8080/",
          "height": 142
        },
        "outputId": "b5f1e444-91db-4411-f67f-04e3ef32a9ed"
      },
      "source": [
        "# quantidade\n",
        "df_completo[['Sex', 'PassengerId']].groupby('Sex').count()"
      ],
      "execution_count": 30,
      "outputs": [
        {
          "output_type": "execute_result",
          "data": {
            "text/html": [
              "<div>\n",
              "<style scoped>\n",
              "    .dataframe tbody tr th:only-of-type {\n",
              "        vertical-align: middle;\n",
              "    }\n",
              "\n",
              "    .dataframe tbody tr th {\n",
              "        vertical-align: top;\n",
              "    }\n",
              "\n",
              "    .dataframe thead th {\n",
              "        text-align: right;\n",
              "    }\n",
              "</style>\n",
              "<table border=\"1\" class=\"dataframe\">\n",
              "  <thead>\n",
              "    <tr style=\"text-align: right;\">\n",
              "      <th></th>\n",
              "      <th>PassengerId</th>\n",
              "    </tr>\n",
              "    <tr>\n",
              "      <th>Sex</th>\n",
              "      <th></th>\n",
              "    </tr>\n",
              "  </thead>\n",
              "  <tbody>\n",
              "    <tr>\n",
              "      <th>female</th>\n",
              "      <td>314</td>\n",
              "    </tr>\n",
              "    <tr>\n",
              "      <th>male</th>\n",
              "      <td>577</td>\n",
              "    </tr>\n",
              "  </tbody>\n",
              "</table>\n",
              "</div>"
            ],
            "text/plain": [
              "        PassengerId\n",
              "Sex                \n",
              "female          314\n",
              "male            577"
            ]
          },
          "metadata": {
            "tags": []
          },
          "execution_count": 30
        }
      ]
    },
    {
      "cell_type": "code",
      "metadata": {
        "id": "F0vTOZHoi1cU",
        "colab_type": "code",
        "colab": {
          "base_uri": "https://localhost:8080/",
          "height": 142
        },
        "outputId": "d9c47d67-4b4e-40fc-9e5d-3b95e69296f5"
      },
      "source": [
        "# percentual\n",
        "df_completo[['Sex', 'PassengerId']].groupby('Sex').count() / df_completo.shape[0] * 100"
      ],
      "execution_count": 31,
      "outputs": [
        {
          "output_type": "execute_result",
          "data": {
            "text/html": [
              "<div>\n",
              "<style scoped>\n",
              "    .dataframe tbody tr th:only-of-type {\n",
              "        vertical-align: middle;\n",
              "    }\n",
              "\n",
              "    .dataframe tbody tr th {\n",
              "        vertical-align: top;\n",
              "    }\n",
              "\n",
              "    .dataframe thead th {\n",
              "        text-align: right;\n",
              "    }\n",
              "</style>\n",
              "<table border=\"1\" class=\"dataframe\">\n",
              "  <thead>\n",
              "    <tr style=\"text-align: right;\">\n",
              "      <th></th>\n",
              "      <th>PassengerId</th>\n",
              "    </tr>\n",
              "    <tr>\n",
              "      <th>Sex</th>\n",
              "      <th></th>\n",
              "    </tr>\n",
              "  </thead>\n",
              "  <tbody>\n",
              "    <tr>\n",
              "      <th>female</th>\n",
              "      <td>35.241302</td>\n",
              "    </tr>\n",
              "    <tr>\n",
              "      <th>male</th>\n",
              "      <td>64.758698</td>\n",
              "    </tr>\n",
              "  </tbody>\n",
              "</table>\n",
              "</div>"
            ],
            "text/plain": [
              "        PassengerId\n",
              "Sex                \n",
              "female    35.241302\n",
              "male      64.758698"
            ]
          },
          "metadata": {
            "tags": []
          },
          "execution_count": 31
        }
      ]
    },
    {
      "cell_type": "code",
      "metadata": {
        "id": "ITEzH7ufjvwg",
        "colab_type": "code",
        "colab": {
          "base_uri": "https://localhost:8080/",
          "height": 265
        },
        "outputId": "0310df1d-d714-4e01-dc7c-dff4917eedb7"
      },
      "source": [
        "# visão gráfica\n",
        "df_completo[['Sex', 'PassengerId']].groupby('Sex').count().plot.barh();"
      ],
      "execution_count": 32,
      "outputs": [
        {
          "output_type": "display_data",
          "data": {
            "image/png": "[encoded data removed]",
            "text/plain": [
              "<Figure size 432x288 with 1 Axes>"
            ]
          },
          "metadata": {
            "tags": [],
            "needs_background": "light"
          }
        }
      ]
    },
    {
      "cell_type": "markdown",
      "metadata": {
        "id": "6ADqYoKhjwJo",
        "colab_type": "text"
      },
      "source": [
        "Conclusão:\n",
        "\n",
        "Vimos que a maioria eram homens"
      ]
    },
    {
      "cell_type": "markdown",
      "metadata": {
        "id": "O9rl-T2Wky60",
        "colab_type": "text"
      },
      "source": [
        "#### A última etapa vamos focar na informação sobre sobreviventes e óbitos. Também vamos estar atentos a outras particularidades que surja pelo caminho."
      ]
    },
    {
      "cell_type": "code",
      "metadata": {
        "id": "GtUIokpmk-R7",
        "colab_type": "code",
        "colab": {
          "base_uri": "https://localhost:8080/",
          "height": 204
        },
        "outputId": "950ff684-6610-4f18-9a5d-10b5f4f4ee11"
      },
      "source": [
        "# recarregando nosso dataset\n",
        "df_completo.head()"
      ],
      "execution_count": 33,
      "outputs": [
        {
          "output_type": "execute_result",
          "data": {
            "text/html": [
              "<div>\n",
              "<style scoped>\n",
              "    .dataframe tbody tr th:only-of-type {\n",
              "        vertical-align: middle;\n",
              "    }\n",
              "\n",
              "    .dataframe tbody tr th {\n",
              "        vertical-align: top;\n",
              "    }\n",
              "\n",
              "    .dataframe thead th {\n",
              "        text-align: right;\n",
              "    }\n",
              "</style>\n",
              "<table border=\"1\" class=\"dataframe\">\n",
              "  <thead>\n",
              "    <tr style=\"text-align: right;\">\n",
              "      <th></th>\n",
              "      <th>PassengerId</th>\n",
              "      <th>Survived</th>\n",
              "      <th>Pclass</th>\n",
              "      <th>Name</th>\n",
              "      <th>Sex</th>\n",
              "      <th>Age</th>\n",
              "      <th>Fare</th>\n",
              "      <th>Embarked</th>\n",
              "    </tr>\n",
              "  </thead>\n",
              "  <tbody>\n",
              "    <tr>\n",
              "      <th>0</th>\n",
              "      <td>1</td>\n",
              "      <td>0</td>\n",
              "      <td>3</td>\n",
              "      <td>Braund, Mr. Owen Harris</td>\n",
              "      <td>male</td>\n",
              "      <td>22.0</td>\n",
              "      <td>7.2500</td>\n",
              "      <td>S</td>\n",
              "    </tr>\n",
              "    <tr>\n",
              "      <th>1</th>\n",
              "      <td>2</td>\n",
              "      <td>1</td>\n",
              "      <td>1</td>\n",
              "      <td>Cumings, Mrs. John Bradley (Florence Briggs Th...</td>\n",
              "      <td>female</td>\n",
              "      <td>38.0</td>\n",
              "      <td>71.2833</td>\n",
              "      <td>C</td>\n",
              "    </tr>\n",
              "    <tr>\n",
              "      <th>2</th>\n",
              "      <td>3</td>\n",
              "      <td>1</td>\n",
              "      <td>3</td>\n",
              "      <td>Heikkinen, Miss. Laina</td>\n",
              "      <td>female</td>\n",
              "      <td>26.0</td>\n",
              "      <td>7.9250</td>\n",
              "      <td>S</td>\n",
              "    </tr>\n",
              "    <tr>\n",
              "      <th>3</th>\n",
              "      <td>4</td>\n",
              "      <td>1</td>\n",
              "      <td>1</td>\n",
              "      <td>Futrelle, Mrs. Jacques Heath (Lily May Peel)</td>\n",
              "      <td>female</td>\n",
              "      <td>35.0</td>\n",
              "      <td>53.1000</td>\n",
              "      <td>S</td>\n",
              "    </tr>\n",
              "    <tr>\n",
              "      <th>4</th>\n",
              "      <td>5</td>\n",
              "      <td>0</td>\n",
              "      <td>3</td>\n",
              "      <td>Allen, Mr. William Henry</td>\n",
              "      <td>male</td>\n",
              "      <td>35.0</td>\n",
              "      <td>8.0500</td>\n",
              "      <td>S</td>\n",
              "    </tr>\n",
              "  </tbody>\n",
              "</table>\n",
              "</div>"
            ],
            "text/plain": [
              "   PassengerId  Survived  Pclass  ...   Age     Fare  Embarked\n",
              "0            1         0       3  ...  22.0   7.2500         S\n",
              "1            2         1       1  ...  38.0  71.2833         C\n",
              "2            3         1       3  ...  26.0   7.9250         S\n",
              "3            4         1       1  ...  35.0  53.1000         S\n",
              "4            5         0       3  ...  35.0   8.0500         S\n",
              "\n",
              "[5 rows x 8 columns]"
            ]
          },
          "metadata": {
            "tags": []
          },
          "execution_count": 33
        }
      ]
    },
    {
      "cell_type": "code",
      "metadata": {
        "id": "3ld9jDYFmN-t",
        "colab_type": "code",
        "colab": {
          "base_uri": "https://localhost:8080/",
          "height": 85
        },
        "outputId": "931a1f48-9034-4f05-f69f-428934d9099e"
      },
      "source": [
        "# detalhe geral e sobre sobreviventes e óbitos\n",
        "print('Total Geral de Passageiros:')\n",
        "print('Qtde. Abordo: {}' .format(df_completo.shape[0]))\n",
        "print('Qtde. Mortos: {}' .format(df_completo[df_completo['Survived'] == 0].shape[0]))\n",
        "print('Qtde. Sobreviventes: {}' .format(df_completo[df_completo['Survived'] == 1].shape[0]))\n"
      ],
      "execution_count": 42,
      "outputs": [
        {
          "output_type": "stream",
          "text": [
            "Total Geral de Passageiros:\n",
            "Qtde. Abordo: 891\n",
            "Qtde. Mortos: 549\n",
            "Qtde. Sobreviventes: 342\n"
          ],
          "name": "stdout"
        }
      ]
    },
    {
      "cell_type": "code",
      "metadata": {
        "id": "q3AsgxOS53NI",
        "colab_type": "code",
        "colab": {
          "base_uri": "https://localhost:8080/",
          "height": 85
        },
        "outputId": "2087def1-6370-461e-bac4-ccceff315ef8"
      },
      "source": [
        "# detalhe sobreviventes\n",
        "df_completo[df_completo['Survived'] == 1].groupby('Sex').size()\n"
      ],
      "execution_count": 52,
      "outputs": [
        {
          "output_type": "execute_result",
          "data": {
            "text/plain": [
              "Sex\n",
              "female    233\n",
              "male      109\n",
              "dtype: int64"
            ]
          },
          "metadata": {
            "tags": []
          },
          "execution_count": 52
        }
      ]
    },
    {
      "cell_type": "code",
      "metadata": {
        "id": "KOt6aK0Omxig",
        "colab_type": "code",
        "colab": {
          "base_uri": "https://localhost:8080/",
          "height": 265
        },
        "outputId": "9d40eb76-250c-4f2c-f2b2-f44993286b31"
      },
      "source": [
        "df_completo[df_completo['Survived'] == 1].groupby(by='Sex').size().plot.barh();"
      ],
      "execution_count": 69,
      "outputs": [
        {
          "output_type": "display_data",
          "data": {
            "image/png": "[encoded data removed]",
            "text/plain": [
              "<Figure size 432x288 with 1 Axes>"
            ]
          },
          "metadata": {
            "tags": [],
            "needs_background": "light"
          }
        }
      ]
    },
    {
      "cell_type": "markdown",
      "metadata": {
        "id": "k77RoTRVqr3K",
        "colab_type": "text"
      },
      "source": [
        "Conclusão:\n",
        "\n",
        "Vimos que a máxima de \"mulhres e criança primeiro\" reflete nos números. A grande quantidade de sobreviventes foram entre as mulheres."
      ]
    },
    {
      "cell_type": "code",
      "metadata": {
        "id": "v80orRCkq8D4",
        "colab_type": "code",
        "colab": {
          "base_uri": "https://localhost:8080/",
          "height": 85
        },
        "outputId": "bebf3980-eef5-4328-f1a1-4051c74d3d0a"
      },
      "source": [
        "# distribuição de mortos por sexo\n",
        "df_completo[df_completo['Survived'] == 0].groupby('Sex').size()"
      ],
      "execution_count": 70,
      "outputs": [
        {
          "output_type": "execute_result",
          "data": {
            "text/plain": [
              "Sex\n",
              "female     81\n",
              "male      468\n",
              "dtype: int64"
            ]
          },
          "metadata": {
            "tags": []
          },
          "execution_count": 70
        }
      ]
    },
    {
      "cell_type": "code",
      "metadata": {
        "id": "x1k6WQMgtan_",
        "colab_type": "code",
        "colab": {
          "base_uri": "https://localhost:8080/",
          "height": 265
        },
        "outputId": "1ad4e7ff-0aa4-4bf1-95c2-4d8595b0d672"
      },
      "source": [
        "# visão gráfica\n",
        "df_completo[df_completo['Survived'] == 0].groupby('Sex').size().plot.barh();"
      ],
      "execution_count": 72,
      "outputs": [
        {
          "output_type": "display_data",
          "data": {
            "image/png": "[encoded data removed]",
            "text/plain": [
              "<Figure size 432x288 with 1 Axes>"
            ]
          },
          "metadata": {
            "tags": [],
            "needs_background": "light"
          }
        }
      ]
    },
    {
      "cell_type": "markdown",
      "metadata": {
        "id": "EKVmo1RZtlaG",
        "colab_type": "text"
      },
      "source": [
        "Conclusão:\n",
        "\n",
        "Como fizemos o levantamento sobre os sobreviventes e a grande maioria eram mulheres, já imaginávamos que, o grande número de mortos estaria entre os homem."
      ]
    },
    {
      "cell_type": "markdown",
      "metadata": {
        "id": "KWHiuDAFuHRL",
        "colab_type": "text"
      },
      "source": [
        "#### Para encerrar a exploração, vamos apresentar uma cuiosidade. Entre os passageiros, existiam não pagantes."
      ]
    },
    {
      "cell_type": "code",
      "metadata": {
        "id": "0HEKD0lAuX-N",
        "colab_type": "code",
        "colab": {
          "base_uri": "https://localhost:8080/",
          "height": 514
        },
        "outputId": "56e627c3-6f05-49b6-9ff1-5365bea85a32"
      },
      "source": [
        "# listagem dos não pagantes\n",
        "df_completo[df_completo['Fare'] == 0]"
      ],
      "execution_count": 73,
      "outputs": [
        {
          "output_type": "execute_result",
          "data": {
            "text/html": [
              "<div>\n",
              "<style scoped>\n",
              "    .dataframe tbody tr th:only-of-type {\n",
              "        vertical-align: middle;\n",
              "    }\n",
              "\n",
              "    .dataframe tbody tr th {\n",
              "        vertical-align: top;\n",
              "    }\n",
              "\n",
              "    .dataframe thead th {\n",
              "        text-align: right;\n",
              "    }\n",
              "</style>\n",
              "<table border=\"1\" class=\"dataframe\">\n",
              "  <thead>\n",
              "    <tr style=\"text-align: right;\">\n",
              "      <th></th>\n",
              "      <th>PassengerId</th>\n",
              "      <th>Survived</th>\n",
              "      <th>Pclass</th>\n",
              "      <th>Name</th>\n",
              "      <th>Sex</th>\n",
              "      <th>Age</th>\n",
              "      <th>Fare</th>\n",
              "      <th>Embarked</th>\n",
              "    </tr>\n",
              "  </thead>\n",
              "  <tbody>\n",
              "    <tr>\n",
              "      <th>179</th>\n",
              "      <td>180</td>\n",
              "      <td>0</td>\n",
              "      <td>3</td>\n",
              "      <td>Leonard, Mr. Lionel</td>\n",
              "      <td>male</td>\n",
              "      <td>36.0</td>\n",
              "      <td>0.0</td>\n",
              "      <td>S</td>\n",
              "    </tr>\n",
              "    <tr>\n",
              "      <th>263</th>\n",
              "      <td>264</td>\n",
              "      <td>0</td>\n",
              "      <td>1</td>\n",
              "      <td>Harrison, Mr. William</td>\n",
              "      <td>male</td>\n",
              "      <td>40.0</td>\n",
              "      <td>0.0</td>\n",
              "      <td>S</td>\n",
              "    </tr>\n",
              "    <tr>\n",
              "      <th>271</th>\n",
              "      <td>272</td>\n",
              "      <td>1</td>\n",
              "      <td>3</td>\n",
              "      <td>Tornquist, Mr. William Henry</td>\n",
              "      <td>male</td>\n",
              "      <td>25.0</td>\n",
              "      <td>0.0</td>\n",
              "      <td>S</td>\n",
              "    </tr>\n",
              "    <tr>\n",
              "      <th>277</th>\n",
              "      <td>278</td>\n",
              "      <td>0</td>\n",
              "      <td>2</td>\n",
              "      <td>Parkes, Mr. Francis \"Frank\"</td>\n",
              "      <td>male</td>\n",
              "      <td>NaN</td>\n",
              "      <td>0.0</td>\n",
              "      <td>S</td>\n",
              "    </tr>\n",
              "    <tr>\n",
              "      <th>302</th>\n",
              "      <td>303</td>\n",
              "      <td>0</td>\n",
              "      <td>3</td>\n",
              "      <td>Johnson, Mr. William Cahoone Jr</td>\n",
              "      <td>male</td>\n",
              "      <td>19.0</td>\n",
              "      <td>0.0</td>\n",
              "      <td>S</td>\n",
              "    </tr>\n",
              "    <tr>\n",
              "      <th>413</th>\n",
              "      <td>414</td>\n",
              "      <td>0</td>\n",
              "      <td>2</td>\n",
              "      <td>Cunningham, Mr. Alfred Fleming</td>\n",
              "      <td>male</td>\n",
              "      <td>NaN</td>\n",
              "      <td>0.0</td>\n",
              "      <td>S</td>\n",
              "    </tr>\n",
              "    <tr>\n",
              "      <th>466</th>\n",
              "      <td>467</td>\n",
              "      <td>0</td>\n",
              "      <td>2</td>\n",
              "      <td>Campbell, Mr. William</td>\n",
              "      <td>male</td>\n",
              "      <td>NaN</td>\n",
              "      <td>0.0</td>\n",
              "      <td>S</td>\n",
              "    </tr>\n",
              "    <tr>\n",
              "      <th>481</th>\n",
              "      <td>482</td>\n",
              "      <td>0</td>\n",
              "      <td>2</td>\n",
              "      <td>Frost, Mr. Anthony Wood \"Archie\"</td>\n",
              "      <td>male</td>\n",
              "      <td>NaN</td>\n",
              "      <td>0.0</td>\n",
              "      <td>S</td>\n",
              "    </tr>\n",
              "    <tr>\n",
              "      <th>597</th>\n",
              "      <td>598</td>\n",
              "      <td>0</td>\n",
              "      <td>3</td>\n",
              "      <td>Johnson, Mr. Alfred</td>\n",
              "      <td>male</td>\n",
              "      <td>49.0</td>\n",
              "      <td>0.0</td>\n",
              "      <td>S</td>\n",
              "    </tr>\n",
              "    <tr>\n",
              "      <th>633</th>\n",
              "      <td>634</td>\n",
              "      <td>0</td>\n",
              "      <td>1</td>\n",
              "      <td>Parr, Mr. William Henry Marsh</td>\n",
              "      <td>male</td>\n",
              "      <td>NaN</td>\n",
              "      <td>0.0</td>\n",
              "      <td>S</td>\n",
              "    </tr>\n",
              "    <tr>\n",
              "      <th>674</th>\n",
              "      <td>675</td>\n",
              "      <td>0</td>\n",
              "      <td>2</td>\n",
              "      <td>Watson, Mr. Ennis Hastings</td>\n",
              "      <td>male</td>\n",
              "      <td>NaN</td>\n",
              "      <td>0.0</td>\n",
              "      <td>S</td>\n",
              "    </tr>\n",
              "    <tr>\n",
              "      <th>732</th>\n",
              "      <td>733</td>\n",
              "      <td>0</td>\n",
              "      <td>2</td>\n",
              "      <td>Knight, Mr. Robert J</td>\n",
              "      <td>male</td>\n",
              "      <td>NaN</td>\n",
              "      <td>0.0</td>\n",
              "      <td>S</td>\n",
              "    </tr>\n",
              "    <tr>\n",
              "      <th>806</th>\n",
              "      <td>807</td>\n",
              "      <td>0</td>\n",
              "      <td>1</td>\n",
              "      <td>Andrews, Mr. Thomas Jr</td>\n",
              "      <td>male</td>\n",
              "      <td>39.0</td>\n",
              "      <td>0.0</td>\n",
              "      <td>S</td>\n",
              "    </tr>\n",
              "    <tr>\n",
              "      <th>815</th>\n",
              "      <td>816</td>\n",
              "      <td>0</td>\n",
              "      <td>1</td>\n",
              "      <td>Fry, Mr. Richard</td>\n",
              "      <td>male</td>\n",
              "      <td>NaN</td>\n",
              "      <td>0.0</td>\n",
              "      <td>S</td>\n",
              "    </tr>\n",
              "    <tr>\n",
              "      <th>822</th>\n",
              "      <td>823</td>\n",
              "      <td>0</td>\n",
              "      <td>1</td>\n",
              "      <td>Reuchlin, Jonkheer. John George</td>\n",
              "      <td>male</td>\n",
              "      <td>38.0</td>\n",
              "      <td>0.0</td>\n",
              "      <td>S</td>\n",
              "    </tr>\n",
              "  </tbody>\n",
              "</table>\n",
              "</div>"
            ],
            "text/plain": [
              "     PassengerId  Survived  Pclass  ...   Age Fare  Embarked\n",
              "179          180         0       3  ...  36.0  0.0         S\n",
              "263          264         0       1  ...  40.0  0.0         S\n",
              "271          272         1       3  ...  25.0  0.0         S\n",
              "277          278         0       2  ...   NaN  0.0         S\n",
              "302          303         0       3  ...  19.0  0.0         S\n",
              "413          414         0       2  ...   NaN  0.0         S\n",
              "466          467         0       2  ...   NaN  0.0         S\n",
              "481          482         0       2  ...   NaN  0.0         S\n",
              "597          598         0       3  ...  49.0  0.0         S\n",
              "633          634         0       1  ...   NaN  0.0         S\n",
              "674          675         0       2  ...   NaN  0.0         S\n",
              "732          733         0       2  ...   NaN  0.0         S\n",
              "806          807         0       1  ...  39.0  0.0         S\n",
              "815          816         0       1  ...   NaN  0.0         S\n",
              "822          823         0       1  ...  38.0  0.0         S\n",
              "\n",
              "[15 rows x 8 columns]"
            ]
          },
          "metadata": {
            "tags": []
          },
          "execution_count": 73
        }
      ]
    },
    {
      "cell_type": "markdown",
      "metadata": {
        "id": "nWcLDH2EunYs",
        "colab_type": "text"
      },
      "source": [
        "Dentre os não pagantes, apenas um sobreviveu. "
      ]
    },
    {
      "cell_type": "code",
      "metadata": {
        "id": "z-Ahn9ehu4sn",
        "colab_type": "code",
        "colab": {
          "base_uri": "https://localhost:8080/",
          "height": 80
        },
        "outputId": "0861878d-0603-41e9-994d-911ed2a4d54e"
      },
      "source": [
        "# único sobrevivente entre os não pagantes\n",
        "df_completo.query('Fare == 0 & Survived == 1')"
      ],
      "execution_count": 78,
      "outputs": [
        {
          "output_type": "execute_result",
          "data": {
            "text/html": [
              "<div>\n",
              "<style scoped>\n",
              "    .dataframe tbody tr th:only-of-type {\n",
              "        vertical-align: middle;\n",
              "    }\n",
              "\n",
              "    .dataframe tbody tr th {\n",
              "        vertical-align: top;\n",
              "    }\n",
              "\n",
              "    .dataframe thead th {\n",
              "        text-align: right;\n",
              "    }\n",
              "</style>\n",
              "<table border=\"1\" class=\"dataframe\">\n",
              "  <thead>\n",
              "    <tr style=\"text-align: right;\">\n",
              "      <th></th>\n",
              "      <th>PassengerId</th>\n",
              "      <th>Survived</th>\n",
              "      <th>Pclass</th>\n",
              "      <th>Name</th>\n",
              "      <th>Sex</th>\n",
              "      <th>Age</th>\n",
              "      <th>Fare</th>\n",
              "      <th>Embarked</th>\n",
              "    </tr>\n",
              "  </thead>\n",
              "  <tbody>\n",
              "    <tr>\n",
              "      <th>271</th>\n",
              "      <td>272</td>\n",
              "      <td>1</td>\n",
              "      <td>3</td>\n",
              "      <td>Tornquist, Mr. William Henry</td>\n",
              "      <td>male</td>\n",
              "      <td>25.0</td>\n",
              "      <td>0.0</td>\n",
              "      <td>S</td>\n",
              "    </tr>\n",
              "  </tbody>\n",
              "</table>\n",
              "</div>"
            ],
            "text/plain": [
              "     PassengerId  Survived  Pclass  ...   Age Fare  Embarked\n",
              "271          272         1       3  ...  25.0  0.0         S\n",
              "\n",
              "[1 rows x 8 columns]"
            ]
          },
          "metadata": {
            "tags": []
          },
          "execution_count": 78
        }
      ]
    },
    {
      "cell_type": "markdown",
      "metadata": {
        "id": "7gc_rKw6UWHJ",
        "colab_type": "text"
      },
      "source": [
        "# **Conclusão**\n",
        "\n",
        "Podemos perceber que a grande maioria eram jovens. Provavelmente pessoas que iriam tentar a vida em Nova York. Vimos também que, a maioria dos sobreviventes foram as mulheres. \n",
        "\n",
        "Desastres como este são realmente chocantes. Tanta para quem vivenciou quanto para quem acompanha os fatos. Mas, são momentos assim que as normas de seguranças são intensificadas e recebem diversas melhorias. Um fator determinando para grande quantidade de mortos, foi não existir botes suficientes para todos. Lamentável.   "
      ]
    }
  ]
}