{
  "nbformat": 4,
  "nbformat_minor": 0,
  "metadata": {
    "colab": {
      "name": "FIFA World Cup.ipynb",
      "provenance": [],
      "authorship_tag": "ABX9TyNTEnMLQn17e21kYzOQ6Zld",
      "include_colab_link": true
    },
    "kernelspec": {
      "name": "python3",
      "display_name": "Python 3"
    },
    "language_info": {
      "name": "python"
    }
  },
  "cells": [
    {
      "cell_type": "markdown",
      "metadata": {
        "id": "view-in-github",
        "colab_type": "text"
      },
      "source": [
        "<a href=\"https://colab.research.google.com/github/leonarddocchagas/data_science/blob/master/FIFA_World_Cup.ipynb\" target=\"_parent\"><img src=\"https://colab.research.google.com/assets/colab-badge.svg\" alt=\"Open In Colab\"/></a>"
      ]
    },
    {
      "cell_type": "markdown",
      "metadata": {
        "id": "Cj3KM4R9V_rJ"
      },
      "source": [
        "<img width='40%' aling='center' src='https://github.com/leonarddocchagas/data_science/blob/master/projetos/fifa_word_cup/logoFifa.png?raw=true' />"
      ]
    },
    {
      "cell_type": "code",
      "metadata": {
        "id": "SMf2vwY6WpNC"
      },
      "source": [
        ""
      ],
      "execution_count": null,
      "outputs": []
    }
  ]
}