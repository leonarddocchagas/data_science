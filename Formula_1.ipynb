{
  "nbformat": 4,
  "nbformat_minor": 0,
  "metadata": {
    "colab": {
      "name": "Formula 1.ipynb",
      "provenance": [],
      "collapsed_sections": [],
      "authorship_tag": "ABX9TyN2WiO8bcEoc78XHyPOCZFf",
      "include_colab_link": true
    },
    "kernelspec": {
      "name": "python3",
      "display_name": "Python 3"
    },
    "language_info": {
      "name": "python"
    }
  },
  "cells": [
    {
      "cell_type": "markdown",
      "metadata": {
        "id": "view-in-github",
        "colab_type": "text"
      },
      "source": [
        "<a href=\"https://colab.research.google.com/github/leonarddocchagas/data_science/blob/master/Formula_1.ipynb\" target=\"_parent\"><img src=\"https://colab.research.google.com/assets/colab-badge.svg\" alt=\"Open In Colab\"/></a>"
      ]
    },
    {
      "cell_type": "markdown",
      "metadata": {
        "id": "sURiJslTXG9J"
      },
      "source": [
        "<img width='50%' aling='center' src='https://github.com/leonarddocchagas/data_science/blob/master/projetos/formula1/f1-logo.png?raw=true' />"
      ]
    },
    {
      "cell_type": "markdown",
      "metadata": {
        "id": "RzI5fwOyYPYA"
      },
      "source": [
        "**Formula 1 World Championship**\n",
        "\n",
        "Fórmula 1 é a mais popular modalidade de automobilismo do mundo. É a categoria mais avançada do esporte a motor e é regulamentada pela Federação Internacional de Automobilismo.\n",
        "\n",
        "A história da Fórmula 1 tem início com as competições de Grandes Prêmios disputadas na Europa, no início do século XX, apenas com uma pausa de 1939 até 9 de Setembro de 1945, no Circuito de Silverstone, prosseguindo até a atualidade, sem interrupções e com 72 pistas usadas\n",
        "\n",
        "*fonte:* https://pt.wikipedia.org/wiki/F%C3%B3rmula_1 "
      ]
    },
    {
      "cell_type": "markdown",
      "metadata": {
        "id": "gMtM0YL8ZPhE"
      },
      "source": [
        "## Sobre os dados"
      ]
    },
    {
      "cell_type": "markdown",
      "metadata": {
        "id": "OfNf0hfqaSgJ"
      },
      "source": [
        "O dados estão separados em diversos arquivos. A depender da análise, será necessário fazer a junção das bases para obter mais informação.\n",
        "\n",
        "* Dados coletados do keggle\n",
        "  * Datasets: https://bit.ly/3hDUNLZ\n",
        "\n",
        "* Lista datasets:\n",
        "  * circuits.csv\n",
        "  * constructor_results.csv\n",
        "  * constructor_standings.csv\n",
        "  * constructors.csv\n",
        "  * driver_standings.csv\n",
        "  * drivers.csv\n",
        "  * lap_times.csv\n",
        "  * pit_stops.csv\n",
        "  * qualifying.csv\n",
        "  * races.csv\n",
        "  * results.csv\n",
        "  * seasons.csv\n",
        "  * status.csv\n",
        "\n",
        "\n"
      ]
    },
    {
      "cell_type": "markdown",
      "metadata": {
        "id": "nXVtB5_Tb7ca"
      },
      "source": [
        "##Obtenção e transformação dos dados"
      ]
    },
    {
      "cell_type": "markdown",
      "metadata": {
        "id": "OcYWNJWWcA69"
      },
      "source": [
        "**Carrega e verifica dataset**"
      ]
    },
    {
      "cell_type": "code",
      "metadata": {
        "id": "he0OOgR8aQoM"
      },
      "source": [
        "# bibliotecas\n",
        "import pandas as pd\n",
        "import matplotlib.pyplot as plt\n",
        "import seaborn as sns\n",
        "import datetime as dt"
      ],
      "execution_count": 1,
      "outputs": []
    },
    {
      "cell_type": "code",
      "metadata": {
        "colab": {
          "base_uri": "https://localhost:8080/",
          "height": 80
        },
        "id": "i316rzNzfANO",
        "outputId": "e73d332f-0976-4165-f2d9-62ec1545541b"
      },
      "source": [
        "# dataset drives\n",
        "df_driver = pd.read_csv('https://raw.githubusercontent.com/leonarddocchagas/data_science/master/projetos/formula1/drivers.csv')\n",
        "df_driver.drop(columns=['url', 'number', 'dob', 'driverRef'], inplace=True)\n",
        "df_driver.loc[:0]"
      ],
      "execution_count": 2,
      "outputs": [
        {
          "output_type": "execute_result",
          "data": {
            "text/html": [
              "<div>\n",
              "<style scoped>\n",
              "    .dataframe tbody tr th:only-of-type {\n",
              "        vertical-align: middle;\n",
              "    }\n",
              "\n",
              "    .dataframe tbody tr th {\n",
              "        vertical-align: top;\n",
              "    }\n",
              "\n",
              "    .dataframe thead th {\n",
              "        text-align: right;\n",
              "    }\n",
              "</style>\n",
              "<table border=\"1\" class=\"dataframe\">\n",
              "  <thead>\n",
              "    <tr style=\"text-align: right;\">\n",
              "      <th></th>\n",
              "      <th>driverId</th>\n",
              "      <th>code</th>\n",
              "      <th>forename</th>\n",
              "      <th>surname</th>\n",
              "      <th>nationality</th>\n",
              "    </tr>\n",
              "  </thead>\n",
              "  <tbody>\n",
              "    <tr>\n",
              "      <th>0</th>\n",
              "      <td>1</td>\n",
              "      <td>HAM</td>\n",
              "      <td>Lewis</td>\n",
              "      <td>Hamilton</td>\n",
              "      <td>British</td>\n",
              "    </tr>\n",
              "  </tbody>\n",
              "</table>\n",
              "</div>"
            ],
            "text/plain": [
              "   driverId code forename   surname nationality\n",
              "0         1  HAM    Lewis  Hamilton     British"
            ]
          },
          "metadata": {
            "tags": []
          },
          "execution_count": 2
        }
      ]
    },
    {
      "cell_type": "code",
      "metadata": {
        "colab": {
          "base_uri": "https://localhost:8080/",
          "height": 80
        },
        "id": "w5ch9QmVjoTs",
        "outputId": "fe4d1626-a3a9-4e0b-8889-e6bfeabdb420"
      },
      "source": [
        "# dataset driver_standings\n",
        "df_driver_standings = pd.read_csv('https://raw.githubusercontent.com/leonarddocchagas/data_science/master/projetos/formula1/driver_standings.csv')\n",
        "df_driver_standings.drop(columns=['driverStandingsId'], inplace=True)\n",
        "df_driver_standings.loc[:0]"
      ],
      "execution_count": 3,
      "outputs": [
        {
          "output_type": "execute_result",
          "data": {
            "text/html": [
              "<div>\n",
              "<style scoped>\n",
              "    .dataframe tbody tr th:only-of-type {\n",
              "        vertical-align: middle;\n",
              "    }\n",
              "\n",
              "    .dataframe tbody tr th {\n",
              "        vertical-align: top;\n",
              "    }\n",
              "\n",
              "    .dataframe thead th {\n",
              "        text-align: right;\n",
              "    }\n",
              "</style>\n",
              "<table border=\"1\" class=\"dataframe\">\n",
              "  <thead>\n",
              "    <tr style=\"text-align: right;\">\n",
              "      <th></th>\n",
              "      <th>raceId</th>\n",
              "      <th>driverId</th>\n",
              "      <th>points</th>\n",
              "      <th>position</th>\n",
              "      <th>positionText</th>\n",
              "      <th>wins</th>\n",
              "    </tr>\n",
              "  </thead>\n",
              "  <tbody>\n",
              "    <tr>\n",
              "      <th>0</th>\n",
              "      <td>18</td>\n",
              "      <td>1</td>\n",
              "      <td>10.0</td>\n",
              "      <td>1</td>\n",
              "      <td>1</td>\n",
              "      <td>1</td>\n",
              "    </tr>\n",
              "  </tbody>\n",
              "</table>\n",
              "</div>"
            ],
            "text/plain": [
              "   raceId  driverId  points  position positionText  wins\n",
              "0      18         1    10.0         1            1     1"
            ]
          },
          "metadata": {
            "tags": []
          },
          "execution_count": 3
        }
      ]
    },
    {
      "cell_type": "code",
      "metadata": {
        "colab": {
          "base_uri": "https://localhost:8080/",
          "height": 80
        },
        "id": "P23m5NVYvXQ0",
        "outputId": "0e95b1ad-6462-42bb-90fe-ba9e92ddf86a"
      },
      "source": [
        "# dataset racer\n",
        "df_racer = pd.read_csv('https://raw.githubusercontent.com/leonarddocchagas/data_science/master/projetos/formula1/races.csv')\n",
        "df_racer.drop(columns=['url', 'time'], inplace=True)\n",
        "df_racer.head(1)"
      ],
      "execution_count": 4,
      "outputs": [
        {
          "output_type": "execute_result",
          "data": {
            "text/html": [
              "<div>\n",
              "<style scoped>\n",
              "    .dataframe tbody tr th:only-of-type {\n",
              "        vertical-align: middle;\n",
              "    }\n",
              "\n",
              "    .dataframe tbody tr th {\n",
              "        vertical-align: top;\n",
              "    }\n",
              "\n",
              "    .dataframe thead th {\n",
              "        text-align: right;\n",
              "    }\n",
              "</style>\n",
              "<table border=\"1\" class=\"dataframe\">\n",
              "  <thead>\n",
              "    <tr style=\"text-align: right;\">\n",
              "      <th></th>\n",
              "      <th>raceId</th>\n",
              "      <th>year</th>\n",
              "      <th>round</th>\n",
              "      <th>circuitId</th>\n",
              "      <th>name</th>\n",
              "      <th>date</th>\n",
              "    </tr>\n",
              "  </thead>\n",
              "  <tbody>\n",
              "    <tr>\n",
              "      <th>0</th>\n",
              "      <td>1</td>\n",
              "      <td>2009</td>\n",
              "      <td>1</td>\n",
              "      <td>1</td>\n",
              "      <td>Australian Grand Prix</td>\n",
              "      <td>2009-03-29</td>\n",
              "    </tr>\n",
              "  </tbody>\n",
              "</table>\n",
              "</div>"
            ],
            "text/plain": [
              "   raceId  year  round  circuitId                   name        date\n",
              "0       1  2009      1          1  Australian Grand Prix  2009-03-29"
            ]
          },
          "metadata": {
            "tags": []
          },
          "execution_count": 4
        }
      ]
    },
    {
      "cell_type": "markdown",
      "metadata": {
        "id": "mwEMFv87us-P"
      },
      "source": [
        "Com os dataset separados, vamos unir o `df_driver`, `df_driver_standings`, `df_race`, assim, temos uma visão geral a performance de pontuação dos pilotos. "
      ]
    },
    {
      "cell_type": "code",
      "metadata": {
        "colab": {
          "base_uri": "https://localhost:8080/",
          "height": 204
        },
        "id": "yNT98U0xstmO",
        "outputId": "e1524d1b-eea8-479c-ba69-27e4f3858cea"
      },
      "source": [
        "# juntando os datasets com (left join)\n",
        "df_full = pd.merge(df_driver_standings, df_driver, how='left', on='driverId')\n",
        "df_full = pd.merge(df_full, df_racer, how='left', on='raceId')\n",
        "\n",
        "# deletando colunas\n",
        "df_full.drop(columns=['raceId', 'driverId', 'circuitId'], inplace=True)\n",
        "df_full.head()"
      ],
      "execution_count": 5,
      "outputs": [
        {
          "output_type": "execute_result",
          "data": {
            "text/html": [
              "<div>\n",
              "<style scoped>\n",
              "    .dataframe tbody tr th:only-of-type {\n",
              "        vertical-align: middle;\n",
              "    }\n",
              "\n",
              "    .dataframe tbody tr th {\n",
              "        vertical-align: top;\n",
              "    }\n",
              "\n",
              "    .dataframe thead th {\n",
              "        text-align: right;\n",
              "    }\n",
              "</style>\n",
              "<table border=\"1\" class=\"dataframe\">\n",
              "  <thead>\n",
              "    <tr style=\"text-align: right;\">\n",
              "      <th></th>\n",
              "      <th>points</th>\n",
              "      <th>position</th>\n",
              "      <th>positionText</th>\n",
              "      <th>wins</th>\n",
              "      <th>code</th>\n",
              "      <th>forename</th>\n",
              "      <th>surname</th>\n",
              "      <th>nationality</th>\n",
              "      <th>year</th>\n",
              "      <th>round</th>\n",
              "      <th>name</th>\n",
              "      <th>date</th>\n",
              "    </tr>\n",
              "  </thead>\n",
              "  <tbody>\n",
              "    <tr>\n",
              "      <th>0</th>\n",
              "      <td>10.0</td>\n",
              "      <td>1</td>\n",
              "      <td>1</td>\n",
              "      <td>1</td>\n",
              "      <td>HAM</td>\n",
              "      <td>Lewis</td>\n",
              "      <td>Hamilton</td>\n",
              "      <td>British</td>\n",
              "      <td>2008</td>\n",
              "      <td>1</td>\n",
              "      <td>Australian Grand Prix</td>\n",
              "      <td>2008-03-16</td>\n",
              "    </tr>\n",
              "    <tr>\n",
              "      <th>1</th>\n",
              "      <td>8.0</td>\n",
              "      <td>2</td>\n",
              "      <td>2</td>\n",
              "      <td>0</td>\n",
              "      <td>HEI</td>\n",
              "      <td>Nick</td>\n",
              "      <td>Heidfeld</td>\n",
              "      <td>German</td>\n",
              "      <td>2008</td>\n",
              "      <td>1</td>\n",
              "      <td>Australian Grand Prix</td>\n",
              "      <td>2008-03-16</td>\n",
              "    </tr>\n",
              "    <tr>\n",
              "      <th>2</th>\n",
              "      <td>6.0</td>\n",
              "      <td>3</td>\n",
              "      <td>3</td>\n",
              "      <td>0</td>\n",
              "      <td>ROS</td>\n",
              "      <td>Nico</td>\n",
              "      <td>Rosberg</td>\n",
              "      <td>German</td>\n",
              "      <td>2008</td>\n",
              "      <td>1</td>\n",
              "      <td>Australian Grand Prix</td>\n",
              "      <td>2008-03-16</td>\n",
              "    </tr>\n",
              "    <tr>\n",
              "      <th>3</th>\n",
              "      <td>5.0</td>\n",
              "      <td>4</td>\n",
              "      <td>4</td>\n",
              "      <td>0</td>\n",
              "      <td>ALO</td>\n",
              "      <td>Fernando</td>\n",
              "      <td>Alonso</td>\n",
              "      <td>Spanish</td>\n",
              "      <td>2008</td>\n",
              "      <td>1</td>\n",
              "      <td>Australian Grand Prix</td>\n",
              "      <td>2008-03-16</td>\n",
              "    </tr>\n",
              "    <tr>\n",
              "      <th>4</th>\n",
              "      <td>4.0</td>\n",
              "      <td>5</td>\n",
              "      <td>5</td>\n",
              "      <td>0</td>\n",
              "      <td>KOV</td>\n",
              "      <td>Heikki</td>\n",
              "      <td>Kovalainen</td>\n",
              "      <td>Finnish</td>\n",
              "      <td>2008</td>\n",
              "      <td>1</td>\n",
              "      <td>Australian Grand Prix</td>\n",
              "      <td>2008-03-16</td>\n",
              "    </tr>\n",
              "  </tbody>\n",
              "</table>\n",
              "</div>"
            ],
            "text/plain": [
              "   points  position positionText  ...  round                   name        date\n",
              "0    10.0         1            1  ...      1  Australian Grand Prix  2008-03-16\n",
              "1     8.0         2            2  ...      1  Australian Grand Prix  2008-03-16\n",
              "2     6.0         3            3  ...      1  Australian Grand Prix  2008-03-16\n",
              "3     5.0         4            4  ...      1  Australian Grand Prix  2008-03-16\n",
              "4     4.0         5            5  ...      1  Australian Grand Prix  2008-03-16\n",
              "\n",
              "[5 rows x 12 columns]"
            ]
          },
          "metadata": {
            "tags": []
          },
          "execution_count": 5
        }
      ]
    },
    {
      "cell_type": "code",
      "metadata": {
        "colab": {
          "base_uri": "https://localhost:8080/"
        },
        "id": "_PUoRSSDl0Af",
        "outputId": "f6006ec8-9794-4d10-b856-a1785ccb8d8a"
      },
      "source": [
        "# verificando entradas\n",
        "print('Entradas:', df_full.shape[0])\n",
        "print('Variáveis: ', df_full.shape[1])"
      ],
      "execution_count": 6,
      "outputs": [
        {
          "output_type": "stream",
          "text": [
            "Entradas: 33025\n",
            "Variáveis:  12\n"
          ],
          "name": "stdout"
        }
      ]
    },
    {
      "cell_type": "code",
      "metadata": {
        "colab": {
          "base_uri": "https://localhost:8080/"
        },
        "id": "h2QDUPPKeFXq",
        "outputId": "62d2f88a-cfdd-4b7b-9d99-c3fa8302046f"
      },
      "source": [
        "# os tipos de dados\n",
        "df_full.dtypes"
      ],
      "execution_count": 7,
      "outputs": [
        {
          "output_type": "execute_result",
          "data": {
            "text/plain": [
              "points          float64\n",
              "position          int64\n",
              "positionText     object\n",
              "wins              int64\n",
              "code             object\n",
              "forename         object\n",
              "surname          object\n",
              "nationality      object\n",
              "year              int64\n",
              "round             int64\n",
              "name             object\n",
              "date             object\n",
              "dtype: object"
            ]
          },
          "metadata": {
            "tags": []
          },
          "execution_count": 7
        }
      ]
    },
    {
      "cell_type": "code",
      "metadata": {
        "colab": {
          "base_uri": "https://localhost:8080/"
        },
        "id": "akltSGsQmaFj",
        "outputId": "52fd3e5f-2e7a-4885-a18c-59e53d960999"
      },
      "source": [
        "# dados ausentes\n",
        "df_full.isnull().sum()"
      ],
      "execution_count": 8,
      "outputs": [
        {
          "output_type": "execute_result",
          "data": {
            "text/plain": [
              "points          0\n",
              "position        0\n",
              "positionText    0\n",
              "wins            0\n",
              "code            0\n",
              "forename        0\n",
              "surname         0\n",
              "nationality     0\n",
              "year            0\n",
              "round           0\n",
              "name            0\n",
              "date            0\n",
              "dtype: int64"
            ]
          },
          "metadata": {
            "tags": []
          },
          "execution_count": 8
        }
      ]
    },
    {
      "cell_type": "markdown",
      "metadata": {
        "id": "rubEHGi_micQ"
      },
      "source": [
        "Logo após verificar as 5 primeiras entradas em nosso dataset usando o método `head()`, olhamos o total de entradas e de variáveis e depois, a quantidade de dado ausente. Em momento raro, quando se fala em conjunto de dados, nosso dataset não possuem nenhum registro ausente e isso é muito bom. "
      ]
    },
    {
      "cell_type": "markdown",
      "metadata": {
        "id": "GriYfuqJnjXa"
      },
      "source": [
        "**Transformação**"
      ]
    },
    {
      "cell_type": "code",
      "metadata": {
        "id": "kQHK7jBjlsC8"
      },
      "source": [
        "# converter variável data para tipo date\n",
        "df_full['date'] = pd.to_datetime(df_full['date'])"
      ],
      "execution_count": 9,
      "outputs": []
    },
    {
      "cell_type": "code",
      "metadata": {
        "colab": {
          "base_uri": "https://localhost:8080/",
          "height": 204
        },
        "id": "wQoqMhwveYfD",
        "outputId": "f28a2299-1d66-4215-c03b-61b084e02397"
      },
      "source": [
        "# verificando as 5 primeiras entradas\n",
        "df_full.head()"
      ],
      "execution_count": 10,
      "outputs": [
        {
          "output_type": "execute_result",
          "data": {
            "text/html": [
              "<div>\n",
              "<style scoped>\n",
              "    .dataframe tbody tr th:only-of-type {\n",
              "        vertical-align: middle;\n",
              "    }\n",
              "\n",
              "    .dataframe tbody tr th {\n",
              "        vertical-align: top;\n",
              "    }\n",
              "\n",
              "    .dataframe thead th {\n",
              "        text-align: right;\n",
              "    }\n",
              "</style>\n",
              "<table border=\"1\" class=\"dataframe\">\n",
              "  <thead>\n",
              "    <tr style=\"text-align: right;\">\n",
              "      <th></th>\n",
              "      <th>points</th>\n",
              "      <th>position</th>\n",
              "      <th>positionText</th>\n",
              "      <th>wins</th>\n",
              "      <th>code</th>\n",
              "      <th>forename</th>\n",
              "      <th>surname</th>\n",
              "      <th>nationality</th>\n",
              "      <th>year</th>\n",
              "      <th>round</th>\n",
              "      <th>name</th>\n",
              "      <th>date</th>\n",
              "    </tr>\n",
              "  </thead>\n",
              "  <tbody>\n",
              "    <tr>\n",
              "      <th>0</th>\n",
              "      <td>10.0</td>\n",
              "      <td>1</td>\n",
              "      <td>1</td>\n",
              "      <td>1</td>\n",
              "      <td>HAM</td>\n",
              "      <td>Lewis</td>\n",
              "      <td>Hamilton</td>\n",
              "      <td>British</td>\n",
              "      <td>2008</td>\n",
              "      <td>1</td>\n",
              "      <td>Australian Grand Prix</td>\n",
              "      <td>2008-03-16</td>\n",
              "    </tr>\n",
              "    <tr>\n",
              "      <th>1</th>\n",
              "      <td>8.0</td>\n",
              "      <td>2</td>\n",
              "      <td>2</td>\n",
              "      <td>0</td>\n",
              "      <td>HEI</td>\n",
              "      <td>Nick</td>\n",
              "      <td>Heidfeld</td>\n",
              "      <td>German</td>\n",
              "      <td>2008</td>\n",
              "      <td>1</td>\n",
              "      <td>Australian Grand Prix</td>\n",
              "      <td>2008-03-16</td>\n",
              "    </tr>\n",
              "    <tr>\n",
              "      <th>2</th>\n",
              "      <td>6.0</td>\n",
              "      <td>3</td>\n",
              "      <td>3</td>\n",
              "      <td>0</td>\n",
              "      <td>ROS</td>\n",
              "      <td>Nico</td>\n",
              "      <td>Rosberg</td>\n",
              "      <td>German</td>\n",
              "      <td>2008</td>\n",
              "      <td>1</td>\n",
              "      <td>Australian Grand Prix</td>\n",
              "      <td>2008-03-16</td>\n",
              "    </tr>\n",
              "    <tr>\n",
              "      <th>3</th>\n",
              "      <td>5.0</td>\n",
              "      <td>4</td>\n",
              "      <td>4</td>\n",
              "      <td>0</td>\n",
              "      <td>ALO</td>\n",
              "      <td>Fernando</td>\n",
              "      <td>Alonso</td>\n",
              "      <td>Spanish</td>\n",
              "      <td>2008</td>\n",
              "      <td>1</td>\n",
              "      <td>Australian Grand Prix</td>\n",
              "      <td>2008-03-16</td>\n",
              "    </tr>\n",
              "    <tr>\n",
              "      <th>4</th>\n",
              "      <td>4.0</td>\n",
              "      <td>5</td>\n",
              "      <td>5</td>\n",
              "      <td>0</td>\n",
              "      <td>KOV</td>\n",
              "      <td>Heikki</td>\n",
              "      <td>Kovalainen</td>\n",
              "      <td>Finnish</td>\n",
              "      <td>2008</td>\n",
              "      <td>1</td>\n",
              "      <td>Australian Grand Prix</td>\n",
              "      <td>2008-03-16</td>\n",
              "    </tr>\n",
              "  </tbody>\n",
              "</table>\n",
              "</div>"
            ],
            "text/plain": [
              "   points  position positionText  ...  round                   name       date\n",
              "0    10.0         1            1  ...      1  Australian Grand Prix 2008-03-16\n",
              "1     8.0         2            2  ...      1  Australian Grand Prix 2008-03-16\n",
              "2     6.0         3            3  ...      1  Australian Grand Prix 2008-03-16\n",
              "3     5.0         4            4  ...      1  Australian Grand Prix 2008-03-16\n",
              "4     4.0         5            5  ...      1  Australian Grand Prix 2008-03-16\n",
              "\n",
              "[5 rows x 12 columns]"
            ]
          },
          "metadata": {
            "tags": []
          },
          "execution_count": 10
        }
      ]
    },
    {
      "cell_type": "markdown",
      "metadata": {
        "id": "tEo-Nu90oBPp"
      },
      "source": [
        "##Visualização"
      ]
    },
    {
      "cell_type": "code",
      "metadata": {
        "id": "EZN8ahCaD9kO"
      },
      "source": [
        "# função aumentar a fonte e outros style saída das celulas\n",
        "def increase_font():\n",
        "  from IPython.display import Javascript\n",
        "  display(Javascript('''\n",
        "  for (rule of document.styleSheets[0].cssRules){\n",
        "    if (rule.selectorText=='body') {\n",
        "      rule.style.fontSize = '20px'\n",
        "      break\n",
        "    }\n",
        "  }\n",
        "  '''))"
      ],
      "execution_count": 33,
      "outputs": []
    },
    {
      "cell_type": "code",
      "metadata": {
        "colab": {
          "base_uri": "https://localhost:8080/",
          "height": 279
        },
        "id": "5eVNa3MVoFZK",
        "outputId": "b965e6e9-ab0d-4418-e49d-49b1aa5081d4"
      },
      "source": [
        "# total de corridas\n",
        "increase_font()\n",
        "print('{} é o número total de grandes prêmios em nosso dataset.'.format(df_full['year'].max() - df_full['year'].min()))\n",
        "print(' ')\n",
        "\n",
        "# plot histograma\n",
        "fig, ax = plt.subplots(1, 1, figsize=(20, 3))\n",
        "# gráfico\n",
        "ax.hist(df_full['year'], color='#909090', bins=30, edgecolor = \"#999999\")\n",
        "ax.set_title('DISTRIBUIÇÃO AO LONGO DOS ANOS')\n",
        "ax.spines['top'].set_visible(False)\n",
        "ax.spines['left'].set_visible(False)\n",
        "ax.spines['right'].set_visible(False)\n",
        "#ax.(\"off\")\n",
        "plt.show()"
      ],
      "execution_count": 78,
      "outputs": [
        {
          "output_type": "display_data",
          "data": {
            "application/javascript": [
              "\n",
              "  for (rule of document.styleSheets[0].cssRules){\n",
              "    if (rule.selectorText=='body') {\n",
              "      rule.style.fontSize = '20px'\n",
              "      break\n",
              "    }\n",
              "  }\n",
              "  "
            ],
            "text/plain": [
              "<IPython.core.display.Javascript object>"
            ]
          },
          "metadata": {
            "tags": []
          }
        },
        {
          "output_type": "stream",
          "text": [
            "71 é o número total de grandes prêmios em nosso dataset.\n",
            " \n"
          ],
          "name": "stdout"
        },
        {
          "output_type": "display_data",
          "data": {
            "image/png": "[encoded data removed]",
            "text/plain": [
              "<Figure size 1440x216 with 1 Axes>"
            ]
          },
          "metadata": {
            "tags": [],
            "needs_background": "light"
          }
        }
      ]
    },
    {
      "cell_type": "markdown",
      "metadata": {
        "id": "4hLxCnvbIub6"
      },
      "source": [
        "É possivel analisar que a quantidade de corridas não é a mesma. Em alguns anos, existiram mais e outros com menos.   "
      ]
    },
    {
      "cell_type": "code",
      "metadata": {
        "colab": {
          "base_uri": "https://localhost:8080/"
        },
        "id": "uqVYmRlBDsQT",
        "outputId": "71a74513-d4b5-4a70-aa5a-996aa24e60e1"
      },
      "source": [
        "df_full.columns"
      ],
      "execution_count": 79,
      "outputs": [
        {
          "output_type": "execute_result",
          "data": {
            "text/plain": [
              "Index(['points', 'position', 'positionText', 'wins', 'code', 'forename',\n",
              "       'surname', 'nationality', 'year', 'round', 'name', 'date'],\n",
              "      dtype='object')"
            ]
          },
          "metadata": {
            "tags": []
          },
          "execution_count": 79
        }
      ]
    },
    {
      "cell_type": "code",
      "metadata": {
        "colab": {
          "base_uri": "https://localhost:8080/"
        },
        "id": "ILvvEzMsJb1C",
        "outputId": "dff14afd-0f3d-4d5a-9438-d19d05f5c4c1"
      },
      "source": [
        "df_full['nationality'].value_counts()"
      ],
      "execution_count": 90,
      "outputs": [
        {
          "output_type": "execute_result",
          "data": {
            "text/plain": [
              "British              5680\n",
              "Italian              4130\n",
              "American             3836\n",
              "French               3435\n",
              "German               2610\n",
              "Brazilian            2052\n",
              "Finnish              1112\n",
              "Australian            909\n",
              "Spanish               893\n",
              "Belgian               866\n",
              "Austrian              825\n",
              "Swedish               643\n",
              "Argentine             640\n",
              "Swiss                 639\n",
              "Japanese              630\n",
              "South African         604\n",
              "Dutch                 569\n",
              "New Zealander         501\n",
              "Mexican               414\n",
              "Canadian              405\n",
              "Russian               201\n",
              "Danish                199\n",
              "Colombian             146\n",
              "Monegasque            142\n",
              "Rhodesian             141\n",
              "Venezuelan            137\n",
              "Irish                 118\n",
              "Portuguese            110\n",
              "Polish                 95\n",
              "Indian                 86\n",
              "Thai                   68\n",
              "Chilean                46\n",
              "Uruguayan              33\n",
              "Indonesian             21\n",
              "Hungarian              20\n",
              "Liechtensteiner        20\n",
              "Malaysian              18\n",
              "East German            15\n",
              "Argentine-Italian       9\n",
              "American-Italian        4\n",
              "Czech                   3\n",
              "Name: nationality, dtype: int64"
            ]
          },
          "metadata": {
            "tags": []
          },
          "execution_count": 90
        }
      ]
    }
  ]
}