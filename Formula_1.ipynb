{
  "nbformat": 4,
  "nbformat_minor": 0,
  "metadata": {
    "colab": {
      "name": "Formula 1.ipynb",
      "provenance": [],
      "collapsed_sections": [],
      "authorship_tag": "ABX9TyMAr5AAZ21nOzhbLovlczsW",
      "include_colab_link": true
    },
    "kernelspec": {
      "name": "python3",
      "display_name": "Python 3"
    },
    "language_info": {
      "name": "python"
    }
  },
  "cells": [
    {
      "cell_type": "markdown",
      "metadata": {
        "id": "view-in-github",
        "colab_type": "text"
      },
      "source": [
        "<a href=\"https://colab.research.google.com/github/leonarddocchagas/data_science/blob/master/Formula_1.ipynb\" target=\"_parent\"><img src=\"https://colab.research.google.com/assets/colab-badge.svg\" alt=\"Open In Colab\"/></a>"
      ]
    },
    {
      "cell_type": "markdown",
      "metadata": {
        "id": "sURiJslTXG9J"
      },
      "source": [
        "<img width='50%' aling='center' src='https://github.com/leonarddocchagas/data_science/blob/master/projetos/formula1/f1-logo.png?raw=true' />"
      ]
    },
    {
      "cell_type": "markdown",
      "metadata": {
        "id": "RzI5fwOyYPYA"
      },
      "source": [
        "**Formula 1 World Championship**\n",
        "\n",
        "Fórmula 1 é a mais popular modalidade de automobilismo do mundo. É a categoria mais avançada do esporte a motor e é regulamentada pela Federação Internacional de Automobilismo.\n",
        "\n",
        "A história da Fórmula 1 tem início com as competições de Grandes Prêmios disputadas na Europa, no início do século XX, apenas com uma pausa de 1939 até 9 de Setembro de 1945, no Circuito de Silverstone, prosseguindo até a atualidade, sem interrupções e com 72 pistas usadas\n",
        "\n",
        "*fonte:* https://pt.wikipedia.org/wiki/F%C3%B3rmula_1 "
      ]
    },
    {
      "cell_type": "markdown",
      "metadata": {
        "id": "gMtM0YL8ZPhE"
      },
      "source": [
        "## Sobre os dados"
      ]
    },
    {
      "cell_type": "markdown",
      "metadata": {
        "id": "OfNf0hfqaSgJ"
      },
      "source": [
        "O dados estão separados em diversos arquivos. A depender da análise, será necessário fazer a junção das bases para obter mais informação.\n",
        "\n",
        "* Dados coletados do keggle\n",
        "  * Datasets: https://bit.ly/3hDUNLZ\n",
        "\n",
        "* Lista datasets:\n",
        "  * circuits.csv\n",
        "  * constructor_results.csv\n",
        "  * constructor_standings.csv\n",
        "  * constructors.csv\n",
        "  * driver_standings.csv\n",
        "  * drivers.csv\n",
        "  * lap_times.csv\n",
        "  * pit_stops.csv\n",
        "  * qualifying.csv\n",
        "  * races.csv\n",
        "  * results.csv\n",
        "  * seasons.csv\n",
        "  * status.csv\n",
        "\n",
        "\n"
      ]
    },
    {
      "cell_type": "markdown",
      "metadata": {
        "id": "nXVtB5_Tb7ca"
      },
      "source": [
        "##Obtenção e transformação dos dados"
      ]
    },
    {
      "cell_type": "markdown",
      "metadata": {
        "id": "OcYWNJWWcA69"
      },
      "source": [
        "**Carrega e verifica dataset**"
      ]
    },
    {
      "cell_type": "code",
      "metadata": {
        "id": "he0OOgR8aQoM"
      },
      "source": [
        "# bibliotecas\n",
        "import pandas as pd\n",
        "import matplotlib.pyplot as plt\n",
        "import seaborn as sns\n",
        "import datetime as dt"
      ],
      "execution_count": null,
      "outputs": []
    },
    {
      "cell_type": "code",
      "metadata": {
        "colab": {
          "base_uri": "https://localhost:8080/",
          "height": 80
        },
        "id": "i316rzNzfANO",
        "outputId": "4c60b6bb-7ffb-4ee5-f312-fa93b9dbff28"
      },
      "source": [
        "# dataset drives\n",
        "df_driver = pd.read_csv('https://raw.githubusercontent.com/leonarddocchagas/data_science/master/projetos/formula1/drivers.csv')\n",
        "df_driver.drop(columns=['url', 'number', 'dob', 'driverRef'], inplace=True)\n",
        "df_driver.loc[:0]"
      ],
      "execution_count": null,
      "outputs": [
        {
          "output_type": "execute_result",
          "data": {
            "text/html": [
              "<div>\n",
              "<style scoped>\n",
              "    .dataframe tbody tr th:only-of-type {\n",
              "        vertical-align: middle;\n",
              "    }\n",
              "\n",
              "    .dataframe tbody tr th {\n",
              "        vertical-align: top;\n",
              "    }\n",
              "\n",
              "    .dataframe thead th {\n",
              "        text-align: right;\n",
              "    }\n",
              "</style>\n",
              "<table border=\"1\" class=\"dataframe\">\n",
              "  <thead>\n",
              "    <tr style=\"text-align: right;\">\n",
              "      <th></th>\n",
              "      <th>driverId</th>\n",
              "      <th>code</th>\n",
              "      <th>forename</th>\n",
              "      <th>surname</th>\n",
              "      <th>nationality</th>\n",
              "    </tr>\n",
              "  </thead>\n",
              "  <tbody>\n",
              "    <tr>\n",
              "      <th>0</th>\n",
              "      <td>1</td>\n",
              "      <td>HAM</td>\n",
              "      <td>Lewis</td>\n",
              "      <td>Hamilton</td>\n",
              "      <td>British</td>\n",
              "    </tr>\n",
              "  </tbody>\n",
              "</table>\n",
              "</div>"
            ],
            "text/plain": [
              "   driverId code forename   surname nationality\n",
              "0         1  HAM    Lewis  Hamilton     British"
            ]
          },
          "metadata": {
            "tags": []
          },
          "execution_count": 53
        }
      ]
    },
    {
      "cell_type": "code",
      "metadata": {
        "colab": {
          "base_uri": "https://localhost:8080/",
          "height": 80
        },
        "id": "w5ch9QmVjoTs",
        "outputId": "871e48fb-7d95-47b9-ec6f-ecd7a1b9a4f2"
      },
      "source": [
        "# dataset driver_standings\n",
        "df_driver_standings = pd.read_csv('https://raw.githubusercontent.com/leonarddocchagas/data_science/master/projetos/formula1/driver_standings.csv')\n",
        "df_driver_standings.drop(columns=['driverStandingsId'], inplace=True)\n",
        "df_driver_standings.loc[:0]"
      ],
      "execution_count": null,
      "outputs": [
        {
          "output_type": "execute_result",
          "data": {
            "text/html": [
              "<div>\n",
              "<style scoped>\n",
              "    .dataframe tbody tr th:only-of-type {\n",
              "        vertical-align: middle;\n",
              "    }\n",
              "\n",
              "    .dataframe tbody tr th {\n",
              "        vertical-align: top;\n",
              "    }\n",
              "\n",
              "    .dataframe thead th {\n",
              "        text-align: right;\n",
              "    }\n",
              "</style>\n",
              "<table border=\"1\" class=\"dataframe\">\n",
              "  <thead>\n",
              "    <tr style=\"text-align: right;\">\n",
              "      <th></th>\n",
              "      <th>raceId</th>\n",
              "      <th>driverId</th>\n",
              "      <th>points</th>\n",
              "      <th>position</th>\n",
              "      <th>positionText</th>\n",
              "      <th>wins</th>\n",
              "    </tr>\n",
              "  </thead>\n",
              "  <tbody>\n",
              "    <tr>\n",
              "      <th>0</th>\n",
              "      <td>18</td>\n",
              "      <td>1</td>\n",
              "      <td>10.0</td>\n",
              "      <td>1</td>\n",
              "      <td>1</td>\n",
              "      <td>1</td>\n",
              "    </tr>\n",
              "  </tbody>\n",
              "</table>\n",
              "</div>"
            ],
            "text/plain": [
              "   raceId  driverId  points  position positionText  wins\n",
              "0      18         1    10.0         1            1     1"
            ]
          },
          "metadata": {
            "tags": []
          },
          "execution_count": 54
        }
      ]
    },
    {
      "cell_type": "code",
      "metadata": {
        "colab": {
          "base_uri": "https://localhost:8080/",
          "height": 80
        },
        "id": "P23m5NVYvXQ0",
        "outputId": "e56e5165-04d7-46df-c183-392e545a098b"
      },
      "source": [
        "# dataset racer\n",
        "df_racer = pd.read_csv('https://raw.githubusercontent.com/leonarddocchagas/data_science/master/projetos/formula1/races.csv')\n",
        "df_racer.drop(columns=['url', 'time'], inplace=True)\n",
        "df_racer.head(1)"
      ],
      "execution_count": null,
      "outputs": [
        {
          "output_type": "execute_result",
          "data": {
            "text/html": [
              "<div>\n",
              "<style scoped>\n",
              "    .dataframe tbody tr th:only-of-type {\n",
              "        vertical-align: middle;\n",
              "    }\n",
              "\n",
              "    .dataframe tbody tr th {\n",
              "        vertical-align: top;\n",
              "    }\n",
              "\n",
              "    .dataframe thead th {\n",
              "        text-align: right;\n",
              "    }\n",
              "</style>\n",
              "<table border=\"1\" class=\"dataframe\">\n",
              "  <thead>\n",
              "    <tr style=\"text-align: right;\">\n",
              "      <th></th>\n",
              "      <th>raceId</th>\n",
              "      <th>year</th>\n",
              "      <th>round</th>\n",
              "      <th>circuitId</th>\n",
              "      <th>name</th>\n",
              "      <th>date</th>\n",
              "    </tr>\n",
              "  </thead>\n",
              "  <tbody>\n",
              "    <tr>\n",
              "      <th>0</th>\n",
              "      <td>1</td>\n",
              "      <td>2009</td>\n",
              "      <td>1</td>\n",
              "      <td>1</td>\n",
              "      <td>Australian Grand Prix</td>\n",
              "      <td>2009-03-29</td>\n",
              "    </tr>\n",
              "  </tbody>\n",
              "</table>\n",
              "</div>"
            ],
            "text/plain": [
              "   raceId  year  round  circuitId                   name        date\n",
              "0       1  2009      1          1  Australian Grand Prix  2009-03-29"
            ]
          },
          "metadata": {
            "tags": []
          },
          "execution_count": 55
        }
      ]
    },
    {
      "cell_type": "markdown",
      "metadata": {
        "id": "mwEMFv87us-P"
      },
      "source": [
        "Com os dataset separados, vamos unir o `df_driver`, `df_driver_standings`, `df_race`, assim, temos uma visão geral a performance de pontuação dos pilotos. "
      ]
    },
    {
      "cell_type": "code",
      "metadata": {
        "colab": {
          "base_uri": "https://localhost:8080/",
          "height": 204
        },
        "id": "yNT98U0xstmO",
        "outputId": "cffc12bf-9384-440a-e0cd-0726ec80ce76"
      },
      "source": [
        "# juntando os datasets com (left join)\n",
        "df_full = pd.merge(df_driver_standings, df_driver, how='left', on='driverId')\n",
        "df_full = pd.merge(df_full, df_racer, how='left', on='raceId')\n",
        "\n",
        "# deletando colunas\n",
        "df_full.drop(columns=['raceId', 'driverId', 'circuitId'], inplace=True)\n",
        "df_full.head()"
      ],
      "execution_count": null,
      "outputs": [
        {
          "output_type": "execute_result",
          "data": {
            "text/html": [
              "<div>\n",
              "<style scoped>\n",
              "    .dataframe tbody tr th:only-of-type {\n",
              "        vertical-align: middle;\n",
              "    }\n",
              "\n",
              "    .dataframe tbody tr th {\n",
              "        vertical-align: top;\n",
              "    }\n",
              "\n",
              "    .dataframe thead th {\n",
              "        text-align: right;\n",
              "    }\n",
              "</style>\n",
              "<table border=\"1\" class=\"dataframe\">\n",
              "  <thead>\n",
              "    <tr style=\"text-align: right;\">\n",
              "      <th></th>\n",
              "      <th>points</th>\n",
              "      <th>position</th>\n",
              "      <th>positionText</th>\n",
              "      <th>wins</th>\n",
              "      <th>code</th>\n",
              "      <th>forename</th>\n",
              "      <th>surname</th>\n",
              "      <th>nationality</th>\n",
              "      <th>year</th>\n",
              "      <th>round</th>\n",
              "      <th>name</th>\n",
              "      <th>date</th>\n",
              "    </tr>\n",
              "  </thead>\n",
              "  <tbody>\n",
              "    <tr>\n",
              "      <th>0</th>\n",
              "      <td>10.0</td>\n",
              "      <td>1</td>\n",
              "      <td>1</td>\n",
              "      <td>1</td>\n",
              "      <td>HAM</td>\n",
              "      <td>Lewis</td>\n",
              "      <td>Hamilton</td>\n",
              "      <td>British</td>\n",
              "      <td>2008</td>\n",
              "      <td>1</td>\n",
              "      <td>Australian Grand Prix</td>\n",
              "      <td>2008-03-16</td>\n",
              "    </tr>\n",
              "    <tr>\n",
              "      <th>1</th>\n",
              "      <td>8.0</td>\n",
              "      <td>2</td>\n",
              "      <td>2</td>\n",
              "      <td>0</td>\n",
              "      <td>HEI</td>\n",
              "      <td>Nick</td>\n",
              "      <td>Heidfeld</td>\n",
              "      <td>German</td>\n",
              "      <td>2008</td>\n",
              "      <td>1</td>\n",
              "      <td>Australian Grand Prix</td>\n",
              "      <td>2008-03-16</td>\n",
              "    </tr>\n",
              "    <tr>\n",
              "      <th>2</th>\n",
              "      <td>6.0</td>\n",
              "      <td>3</td>\n",
              "      <td>3</td>\n",
              "      <td>0</td>\n",
              "      <td>ROS</td>\n",
              "      <td>Nico</td>\n",
              "      <td>Rosberg</td>\n",
              "      <td>German</td>\n",
              "      <td>2008</td>\n",
              "      <td>1</td>\n",
              "      <td>Australian Grand Prix</td>\n",
              "      <td>2008-03-16</td>\n",
              "    </tr>\n",
              "    <tr>\n",
              "      <th>3</th>\n",
              "      <td>5.0</td>\n",
              "      <td>4</td>\n",
              "      <td>4</td>\n",
              "      <td>0</td>\n",
              "      <td>ALO</td>\n",
              "      <td>Fernando</td>\n",
              "      <td>Alonso</td>\n",
              "      <td>Spanish</td>\n",
              "      <td>2008</td>\n",
              "      <td>1</td>\n",
              "      <td>Australian Grand Prix</td>\n",
              "      <td>2008-03-16</td>\n",
              "    </tr>\n",
              "    <tr>\n",
              "      <th>4</th>\n",
              "      <td>4.0</td>\n",
              "      <td>5</td>\n",
              "      <td>5</td>\n",
              "      <td>0</td>\n",
              "      <td>KOV</td>\n",
              "      <td>Heikki</td>\n",
              "      <td>Kovalainen</td>\n",
              "      <td>Finnish</td>\n",
              "      <td>2008</td>\n",
              "      <td>1</td>\n",
              "      <td>Australian Grand Prix</td>\n",
              "      <td>2008-03-16</td>\n",
              "    </tr>\n",
              "  </tbody>\n",
              "</table>\n",
              "</div>"
            ],
            "text/plain": [
              "   points  position positionText  ...  round                   name        date\n",
              "0    10.0         1            1  ...      1  Australian Grand Prix  2008-03-16\n",
              "1     8.0         2            2  ...      1  Australian Grand Prix  2008-03-16\n",
              "2     6.0         3            3  ...      1  Australian Grand Prix  2008-03-16\n",
              "3     5.0         4            4  ...      1  Australian Grand Prix  2008-03-16\n",
              "4     4.0         5            5  ...      1  Australian Grand Prix  2008-03-16\n",
              "\n",
              "[5 rows x 12 columns]"
            ]
          },
          "metadata": {
            "tags": []
          },
          "execution_count": 56
        }
      ]
    },
    {
      "cell_type": "code",
      "metadata": {
        "colab": {
          "base_uri": "https://localhost:8080/"
        },
        "id": "_PUoRSSDl0Af",
        "outputId": "1378f75c-603c-4619-964f-c866924a169e"
      },
      "source": [
        "# verificando entradas\n",
        "print('Entradas:', df_full.shape[0])\n",
        "print('Variáveis: ', df_full.shape[1])"
      ],
      "execution_count": null,
      "outputs": [
        {
          "output_type": "stream",
          "text": [
            "Entradas: 33025\n",
            "Variáveis:  12\n"
          ],
          "name": "stdout"
        }
      ]
    },
    {
      "cell_type": "code",
      "metadata": {
        "colab": {
          "base_uri": "https://localhost:8080/"
        },
        "id": "h2QDUPPKeFXq",
        "outputId": "0d217ba4-9a26-4bb9-bb70-3953ca2db6fa"
      },
      "source": [
        "# os tipos de dados\n",
        "df_full.dtypes"
      ],
      "execution_count": null,
      "outputs": [
        {
          "output_type": "execute_result",
          "data": {
            "text/plain": [
              "points          float64\n",
              "position          int64\n",
              "positionText     object\n",
              "wins              int64\n",
              "code             object\n",
              "forename         object\n",
              "surname          object\n",
              "nationality      object\n",
              "year              int64\n",
              "round             int64\n",
              "name             object\n",
              "date             object\n",
              "dtype: object"
            ]
          },
          "metadata": {
            "tags": []
          },
          "execution_count": 58
        }
      ]
    },
    {
      "cell_type": "code",
      "metadata": {
        "colab": {
          "base_uri": "https://localhost:8080/"
        },
        "id": "akltSGsQmaFj",
        "outputId": "c5097cc3-eca9-40a0-9ff9-386aff45e7a1"
      },
      "source": [
        "# dados ausentes\n",
        "df_full.isnull().sum()"
      ],
      "execution_count": null,
      "outputs": [
        {
          "output_type": "execute_result",
          "data": {
            "text/plain": [
              "points          0\n",
              "position        0\n",
              "positionText    0\n",
              "wins            0\n",
              "code            0\n",
              "forename        0\n",
              "surname         0\n",
              "nationality     0\n",
              "year            0\n",
              "round           0\n",
              "name            0\n",
              "date            0\n",
              "dtype: int64"
            ]
          },
          "metadata": {
            "tags": []
          },
          "execution_count": 59
        }
      ]
    },
    {
      "cell_type": "markdown",
      "metadata": {
        "id": "rubEHGi_micQ"
      },
      "source": [
        "Logo após verificar as 5 primeiras entradas em nosso dataset usando o método `head()`, olhamos o total de entradas e de variáveis e depois, a quantidade de dado ausente. Em momento raro, quando se fala em conjunto de dados, nosso dataset não possuem nenhum registro ausente e isso é muito bom. "
      ]
    },
    {
      "cell_type": "markdown",
      "metadata": {
        "id": "GriYfuqJnjXa"
      },
      "source": [
        "**Transformação**"
      ]
    },
    {
      "cell_type": "code",
      "metadata": {
        "id": "kQHK7jBjlsC8"
      },
      "source": [
        "# converter variável data para tipo date\n",
        "df_full['date'] = pd.to_datetime(df_full['date'])\n",
        "\n",
        "# converter float to int\n",
        "df_full['points'] = df_full['points'].astype('int64')"
      ],
      "execution_count": null,
      "outputs": []
    },
    {
      "cell_type": "code",
      "metadata": {
        "id": "CYGftwl4cAUF"
      },
      "source": [
        "# adicionando coluna\n",
        "win_label = {1:'Venceu', 0:'Perdeu'}\n",
        "df_full['wins_text'] = df_full['wins'].replace(win_label)"
      ],
      "execution_count": null,
      "outputs": []
    },
    {
      "cell_type": "code",
      "metadata": {
        "colab": {
          "base_uri": "https://localhost:8080/",
          "height": 204
        },
        "id": "wQoqMhwveYfD",
        "outputId": "df1f33ca-ea4a-4088-ef25-078263fc1b23"
      },
      "source": [
        "# verificando as 5 primeiras entradas\n",
        "df_full.head()"
      ],
      "execution_count": null,
      "outputs": [
        {
          "output_type": "execute_result",
          "data": {
            "text/html": [
              "<div>\n",
              "<style scoped>\n",
              "    .dataframe tbody tr th:only-of-type {\n",
              "        vertical-align: middle;\n",
              "    }\n",
              "\n",
              "    .dataframe tbody tr th {\n",
              "        vertical-align: top;\n",
              "    }\n",
              "\n",
              "    .dataframe thead th {\n",
              "        text-align: right;\n",
              "    }\n",
              "</style>\n",
              "<table border=\"1\" class=\"dataframe\">\n",
              "  <thead>\n",
              "    <tr style=\"text-align: right;\">\n",
              "      <th></th>\n",
              "      <th>points</th>\n",
              "      <th>position</th>\n",
              "      <th>positionText</th>\n",
              "      <th>wins</th>\n",
              "      <th>code</th>\n",
              "      <th>forename</th>\n",
              "      <th>surname</th>\n",
              "      <th>nationality</th>\n",
              "      <th>year</th>\n",
              "      <th>round</th>\n",
              "      <th>name</th>\n",
              "      <th>date</th>\n",
              "      <th>wins_text</th>\n",
              "    </tr>\n",
              "  </thead>\n",
              "  <tbody>\n",
              "    <tr>\n",
              "      <th>0</th>\n",
              "      <td>10</td>\n",
              "      <td>1</td>\n",
              "      <td>1</td>\n",
              "      <td>1</td>\n",
              "      <td>HAM</td>\n",
              "      <td>Lewis</td>\n",
              "      <td>Hamilton</td>\n",
              "      <td>British</td>\n",
              "      <td>2008</td>\n",
              "      <td>1</td>\n",
              "      <td>Australian Grand Prix</td>\n",
              "      <td>2008-03-16</td>\n",
              "      <td>Venceu</td>\n",
              "    </tr>\n",
              "    <tr>\n",
              "      <th>1</th>\n",
              "      <td>8</td>\n",
              "      <td>2</td>\n",
              "      <td>2</td>\n",
              "      <td>0</td>\n",
              "      <td>HEI</td>\n",
              "      <td>Nick</td>\n",
              "      <td>Heidfeld</td>\n",
              "      <td>German</td>\n",
              "      <td>2008</td>\n",
              "      <td>1</td>\n",
              "      <td>Australian Grand Prix</td>\n",
              "      <td>2008-03-16</td>\n",
              "      <td>Perdeu</td>\n",
              "    </tr>\n",
              "    <tr>\n",
              "      <th>2</th>\n",
              "      <td>6</td>\n",
              "      <td>3</td>\n",
              "      <td>3</td>\n",
              "      <td>0</td>\n",
              "      <td>ROS</td>\n",
              "      <td>Nico</td>\n",
              "      <td>Rosberg</td>\n",
              "      <td>German</td>\n",
              "      <td>2008</td>\n",
              "      <td>1</td>\n",
              "      <td>Australian Grand Prix</td>\n",
              "      <td>2008-03-16</td>\n",
              "      <td>Perdeu</td>\n",
              "    </tr>\n",
              "    <tr>\n",
              "      <th>3</th>\n",
              "      <td>5</td>\n",
              "      <td>4</td>\n",
              "      <td>4</td>\n",
              "      <td>0</td>\n",
              "      <td>ALO</td>\n",
              "      <td>Fernando</td>\n",
              "      <td>Alonso</td>\n",
              "      <td>Spanish</td>\n",
              "      <td>2008</td>\n",
              "      <td>1</td>\n",
              "      <td>Australian Grand Prix</td>\n",
              "      <td>2008-03-16</td>\n",
              "      <td>Perdeu</td>\n",
              "    </tr>\n",
              "    <tr>\n",
              "      <th>4</th>\n",
              "      <td>4</td>\n",
              "      <td>5</td>\n",
              "      <td>5</td>\n",
              "      <td>0</td>\n",
              "      <td>KOV</td>\n",
              "      <td>Heikki</td>\n",
              "      <td>Kovalainen</td>\n",
              "      <td>Finnish</td>\n",
              "      <td>2008</td>\n",
              "      <td>1</td>\n",
              "      <td>Australian Grand Prix</td>\n",
              "      <td>2008-03-16</td>\n",
              "      <td>Perdeu</td>\n",
              "    </tr>\n",
              "  </tbody>\n",
              "</table>\n",
              "</div>"
            ],
            "text/plain": [
              "   points  position positionText  ...                   name       date wins_text\n",
              "0      10         1            1  ...  Australian Grand Prix 2008-03-16    Venceu\n",
              "1       8         2            2  ...  Australian Grand Prix 2008-03-16    Perdeu\n",
              "2       6         3            3  ...  Australian Grand Prix 2008-03-16    Perdeu\n",
              "3       5         4            4  ...  Australian Grand Prix 2008-03-16    Perdeu\n",
              "4       4         5            5  ...  Australian Grand Prix 2008-03-16    Perdeu\n",
              "\n",
              "[5 rows x 13 columns]"
            ]
          },
          "metadata": {
            "tags": []
          },
          "execution_count": 62
        }
      ]
    },
    {
      "cell_type": "markdown",
      "metadata": {
        "id": "tEo-Nu90oBPp"
      },
      "source": [
        "##Visualização"
      ]
    },
    {
      "cell_type": "code",
      "metadata": {
        "id": "EZN8ahCaD9kO"
      },
      "source": [
        "# função aumentar a fonte e outros style saída das celulas\n",
        "def increase_font():\n",
        "  from IPython.display import Javascript\n",
        "  display(Javascript('''\n",
        "  for (rule of document.styleSheets[0].cssRules){\n",
        "    if (rule.selectorText=='body') {\n",
        "      rule.style.fontSize = '20px'\n",
        "      break\n",
        "    }\n",
        "  }\n",
        "  '''))"
      ],
      "execution_count": null,
      "outputs": []
    },
    {
      "cell_type": "code",
      "metadata": {
        "colab": {
          "base_uri": "https://localhost:8080/",
          "height": 279
        },
        "id": "5eVNa3MVoFZK",
        "outputId": "8cc98806-c643-4dd5-bf2e-43e51e2c1b37"
      },
      "source": [
        "# total de corridas\n",
        "increase_font()\n",
        "print('{} é o número total de anos de formula 1 em nosso dataset.'.format(df_full['year'].max() - df_full['year'].min()))\n",
        "print(' ')\n",
        "\n",
        "# plot histograma\n",
        "fig, ax = plt.subplots(1, 1, figsize=(20, 3))\n",
        "# gráfico\n",
        "ax.hist(df_full['year'], color='#909090', bins=30, edgecolor = \"#999999\")\n",
        "ax.set_title('DISTRIBUIÇÃO AO LONGO DOS ANOS')\n",
        "ax.spines['top'].set_visible(False)\n",
        "ax.spines['left'].set_visible(False)\n",
        "ax.spines['right'].set_visible(False)\n",
        "#ax.(\"off\")\n",
        "plt.show()"
      ],
      "execution_count": null,
      "outputs": [
        {
          "output_type": "display_data",
          "data": {
            "application/javascript": [
              "\n",
              "  for (rule of document.styleSheets[0].cssRules){\n",
              "    if (rule.selectorText=='body') {\n",
              "      rule.style.fontSize = '20px'\n",
              "      break\n",
              "    }\n",
              "  }\n",
              "  "
            ],
            "text/plain": [
              "<IPython.core.display.Javascript object>"
            ]
          },
          "metadata": {
            "tags": []
          }
        },
        {
          "output_type": "stream",
          "text": [
            "71 é o número total de anos de formula 1 em nosso dataset.\n",
            " \n"
          ],
          "name": "stdout"
        },
        {
          "output_type": "display_data",
          "data": {
            "image/png": "[encoded data removed]",
            "text/plain": [
              "<Figure size 1440x216 with 1 Axes>"
            ]
          },
          "metadata": {
            "tags": [],
            "needs_background": "light"
          }
        }
      ]
    },
    {
      "cell_type": "markdown",
      "metadata": {
        "id": "4hLxCnvbIub6"
      },
      "source": [
        "É possivel analisar que a quantidade de corridas não é a mesma. Em alguns anos, existiram mais e em outros, menos. Como nosso objetivo é didático, vamos resumir ainda mais nosso conjunto de dados, filtrando apenas os últimos 21 anos e também, criar outros menores.  "
      ]
    },
    {
      "cell_type": "code",
      "metadata": {
        "colab": {
          "base_uri": "https://localhost:8080/",
          "height": 204
        },
        "id": "uqVYmRlBDsQT",
        "outputId": "8ef4a74e-b4a2-4d4b-a31c-b0f34401a140"
      },
      "source": [
        "# criando dataset dos últimos 21 anos\n",
        "df_21anos = df_full.loc[df_full['year'] >= 2000]\n",
        "df_21anos.head()"
      ],
      "execution_count": null,
      "outputs": [
        {
          "output_type": "execute_result",
          "data": {
            "text/html": [
              "<div>\n",
              "<style scoped>\n",
              "    .dataframe tbody tr th:only-of-type {\n",
              "        vertical-align: middle;\n",
              "    }\n",
              "\n",
              "    .dataframe tbody tr th {\n",
              "        vertical-align: top;\n",
              "    }\n",
              "\n",
              "    .dataframe thead th {\n",
              "        text-align: right;\n",
              "    }\n",
              "</style>\n",
              "<table border=\"1\" class=\"dataframe\">\n",
              "  <thead>\n",
              "    <tr style=\"text-align: right;\">\n",
              "      <th></th>\n",
              "      <th>points</th>\n",
              "      <th>position</th>\n",
              "      <th>positionText</th>\n",
              "      <th>wins</th>\n",
              "      <th>code</th>\n",
              "      <th>forename</th>\n",
              "      <th>surname</th>\n",
              "      <th>nationality</th>\n",
              "      <th>year</th>\n",
              "      <th>round</th>\n",
              "      <th>name</th>\n",
              "      <th>date</th>\n",
              "      <th>wins_text</th>\n",
              "    </tr>\n",
              "  </thead>\n",
              "  <tbody>\n",
              "    <tr>\n",
              "      <th>0</th>\n",
              "      <td>10</td>\n",
              "      <td>1</td>\n",
              "      <td>1</td>\n",
              "      <td>1</td>\n",
              "      <td>HAM</td>\n",
              "      <td>Lewis</td>\n",
              "      <td>Hamilton</td>\n",
              "      <td>British</td>\n",
              "      <td>2008</td>\n",
              "      <td>1</td>\n",
              "      <td>Australian Grand Prix</td>\n",
              "      <td>2008-03-16</td>\n",
              "      <td>Venceu</td>\n",
              "    </tr>\n",
              "    <tr>\n",
              "      <th>1</th>\n",
              "      <td>8</td>\n",
              "      <td>2</td>\n",
              "      <td>2</td>\n",
              "      <td>0</td>\n",
              "      <td>HEI</td>\n",
              "      <td>Nick</td>\n",
              "      <td>Heidfeld</td>\n",
              "      <td>German</td>\n",
              "      <td>2008</td>\n",
              "      <td>1</td>\n",
              "      <td>Australian Grand Prix</td>\n",
              "      <td>2008-03-16</td>\n",
              "      <td>Perdeu</td>\n",
              "    </tr>\n",
              "    <tr>\n",
              "      <th>2</th>\n",
              "      <td>6</td>\n",
              "      <td>3</td>\n",
              "      <td>3</td>\n",
              "      <td>0</td>\n",
              "      <td>ROS</td>\n",
              "      <td>Nico</td>\n",
              "      <td>Rosberg</td>\n",
              "      <td>German</td>\n",
              "      <td>2008</td>\n",
              "      <td>1</td>\n",
              "      <td>Australian Grand Prix</td>\n",
              "      <td>2008-03-16</td>\n",
              "      <td>Perdeu</td>\n",
              "    </tr>\n",
              "    <tr>\n",
              "      <th>3</th>\n",
              "      <td>5</td>\n",
              "      <td>4</td>\n",
              "      <td>4</td>\n",
              "      <td>0</td>\n",
              "      <td>ALO</td>\n",
              "      <td>Fernando</td>\n",
              "      <td>Alonso</td>\n",
              "      <td>Spanish</td>\n",
              "      <td>2008</td>\n",
              "      <td>1</td>\n",
              "      <td>Australian Grand Prix</td>\n",
              "      <td>2008-03-16</td>\n",
              "      <td>Perdeu</td>\n",
              "    </tr>\n",
              "    <tr>\n",
              "      <th>4</th>\n",
              "      <td>4</td>\n",
              "      <td>5</td>\n",
              "      <td>5</td>\n",
              "      <td>0</td>\n",
              "      <td>KOV</td>\n",
              "      <td>Heikki</td>\n",
              "      <td>Kovalainen</td>\n",
              "      <td>Finnish</td>\n",
              "      <td>2008</td>\n",
              "      <td>1</td>\n",
              "      <td>Australian Grand Prix</td>\n",
              "      <td>2008-03-16</td>\n",
              "      <td>Perdeu</td>\n",
              "    </tr>\n",
              "  </tbody>\n",
              "</table>\n",
              "</div>"
            ],
            "text/plain": [
              "   points  position positionText  ...                   name       date wins_text\n",
              "0      10         1            1  ...  Australian Grand Prix 2008-03-16    Venceu\n",
              "1       8         2            2  ...  Australian Grand Prix 2008-03-16    Perdeu\n",
              "2       6         3            3  ...  Australian Grand Prix 2008-03-16    Perdeu\n",
              "3       5         4            4  ...  Australian Grand Prix 2008-03-16    Perdeu\n",
              "4       4         5            5  ...  Australian Grand Prix 2008-03-16    Perdeu\n",
              "\n",
              "[5 rows x 13 columns]"
            ]
          },
          "metadata": {
            "tags": []
          },
          "execution_count": 65
        }
      ]
    },
    {
      "cell_type": "code",
      "metadata": {
        "colab": {
          "base_uri": "https://localhost:8080/",
          "height": 204
        },
        "id": "aU2KBEIPV3FO",
        "outputId": "14504390-d0ce-499d-b222-69cc9b1f5465"
      },
      "source": [
        "# dataset dos vencedores\n",
        "df_winner = df_21anos.loc[df_21anos['wins'] == 1]\n",
        "df_winner.head()"
      ],
      "execution_count": null,
      "outputs": [
        {
          "output_type": "execute_result",
          "data": {
            "text/html": [
              "<div>\n",
              "<style scoped>\n",
              "    .dataframe tbody tr th:only-of-type {\n",
              "        vertical-align: middle;\n",
              "    }\n",
              "\n",
              "    .dataframe tbody tr th {\n",
              "        vertical-align: top;\n",
              "    }\n",
              "\n",
              "    .dataframe thead th {\n",
              "        text-align: right;\n",
              "    }\n",
              "</style>\n",
              "<table border=\"1\" class=\"dataframe\">\n",
              "  <thead>\n",
              "    <tr style=\"text-align: right;\">\n",
              "      <th></th>\n",
              "      <th>points</th>\n",
              "      <th>position</th>\n",
              "      <th>positionText</th>\n",
              "      <th>wins</th>\n",
              "      <th>code</th>\n",
              "      <th>forename</th>\n",
              "      <th>surname</th>\n",
              "      <th>nationality</th>\n",
              "      <th>year</th>\n",
              "      <th>round</th>\n",
              "      <th>name</th>\n",
              "      <th>date</th>\n",
              "      <th>wins_text</th>\n",
              "    </tr>\n",
              "  </thead>\n",
              "  <tbody>\n",
              "    <tr>\n",
              "      <th>0</th>\n",
              "      <td>10</td>\n",
              "      <td>1</td>\n",
              "      <td>1</td>\n",
              "      <td>1</td>\n",
              "      <td>HAM</td>\n",
              "      <td>Lewis</td>\n",
              "      <td>Hamilton</td>\n",
              "      <td>British</td>\n",
              "      <td>2008</td>\n",
              "      <td>1</td>\n",
              "      <td>Australian Grand Prix</td>\n",
              "      <td>2008-03-16</td>\n",
              "      <td>Venceu</td>\n",
              "    </tr>\n",
              "    <tr>\n",
              "      <th>8</th>\n",
              "      <td>14</td>\n",
              "      <td>1</td>\n",
              "      <td>1</td>\n",
              "      <td>1</td>\n",
              "      <td>HAM</td>\n",
              "      <td>Lewis</td>\n",
              "      <td>Hamilton</td>\n",
              "      <td>British</td>\n",
              "      <td>2008</td>\n",
              "      <td>2</td>\n",
              "      <td>Malaysian Grand Prix</td>\n",
              "      <td>2008-03-23</td>\n",
              "      <td>Venceu</td>\n",
              "    </tr>\n",
              "    <tr>\n",
              "      <th>15</th>\n",
              "      <td>11</td>\n",
              "      <td>2</td>\n",
              "      <td>2</td>\n",
              "      <td>1</td>\n",
              "      <td>RAI</td>\n",
              "      <td>Kimi</td>\n",
              "      <td>Räikkönen</td>\n",
              "      <td>Finnish</td>\n",
              "      <td>2008</td>\n",
              "      <td>2</td>\n",
              "      <td>Malaysian Grand Prix</td>\n",
              "      <td>2008-03-23</td>\n",
              "      <td>Venceu</td>\n",
              "    </tr>\n",
              "    <tr>\n",
              "      <th>26</th>\n",
              "      <td>14</td>\n",
              "      <td>3</td>\n",
              "      <td>3</td>\n",
              "      <td>1</td>\n",
              "      <td>HAM</td>\n",
              "      <td>Lewis</td>\n",
              "      <td>Hamilton</td>\n",
              "      <td>British</td>\n",
              "      <td>2008</td>\n",
              "      <td>3</td>\n",
              "      <td>Bahrain Grand Prix</td>\n",
              "      <td>2008-04-06</td>\n",
              "      <td>Venceu</td>\n",
              "    </tr>\n",
              "    <tr>\n",
              "      <th>33</th>\n",
              "      <td>19</td>\n",
              "      <td>1</td>\n",
              "      <td>1</td>\n",
              "      <td>1</td>\n",
              "      <td>RAI</td>\n",
              "      <td>Kimi</td>\n",
              "      <td>Räikkönen</td>\n",
              "      <td>Finnish</td>\n",
              "      <td>2008</td>\n",
              "      <td>3</td>\n",
              "      <td>Bahrain Grand Prix</td>\n",
              "      <td>2008-04-06</td>\n",
              "      <td>Venceu</td>\n",
              "    </tr>\n",
              "  </tbody>\n",
              "</table>\n",
              "</div>"
            ],
            "text/plain": [
              "    points  position positionText  ...                   name       date wins_text\n",
              "0       10         1            1  ...  Australian Grand Prix 2008-03-16    Venceu\n",
              "8       14         1            1  ...   Malaysian Grand Prix 2008-03-23    Venceu\n",
              "15      11         2            2  ...   Malaysian Grand Prix 2008-03-23    Venceu\n",
              "26      14         3            3  ...     Bahrain Grand Prix 2008-04-06    Venceu\n",
              "33      19         1            1  ...     Bahrain Grand Prix 2008-04-06    Venceu\n",
              "\n",
              "[5 rows x 13 columns]"
            ]
          },
          "metadata": {
            "tags": []
          },
          "execution_count": 66
        }
      ]
    },
    {
      "cell_type": "code",
      "metadata": {
        "colab": {
          "base_uri": "https://localhost:8080/"
        },
        "id": "lpwvz_fm5y-9",
        "outputId": "6997e35d-ff9f-4e21-b46a-e84cf63d484d"
      },
      "source": [
        "# lista de nacionalidades vencedoras\n",
        "df_winner['nationality'].value_counts()#.sort_index().plot.barh()"
      ],
      "execution_count": null,
      "outputs": [
        {
          "output_type": "execute_result",
          "data": {
            "text/plain": [
              "German        113\n",
              "British       101\n",
              "Finnish        97\n",
              "Italian        63\n",
              "Dutch          47\n",
              "Spanish        40\n",
              "Australian     38\n",
              "Brazilian      26\n",
              "Venezuelan     16\n",
              "Colombian      13\n",
              "Polish         12\n",
              "French         10\n",
              "Mexican         2\n",
              "Monegasque      1\n",
              "Name: nationality, dtype: int64"
            ]
          },
          "metadata": {
            "tags": []
          },
          "execution_count": 67
        }
      ]
    },
    {
      "cell_type": "code",
      "metadata": {
        "colab": {
          "base_uri": "https://localhost:8080/",
          "height": 320
        },
        "id": "e67ap4R686V9",
        "outputId": "b9682bb0-4b11-47d0-82fd-8c5de4ed4f17"
      },
      "source": [
        "# piloto x nacionalidades\n",
        "fig, (ax, ax1) = plt.subplots(nrows=1, ncols=2,  figsize=(20, 5))\n",
        "\n",
        "# ax\n",
        "ax.barh(df_winner['surname'], df_winner['points'])\n",
        "\n",
        "# ax1\n",
        "ax1.barh(df_winner['nationality'], df_winner['points'])\n",
        "\n",
        "plt.show()"
      ],
      "execution_count": null,
      "outputs": [
        {
          "output_type": "display_data",
          "data": {
            "image/png": "[encoded data removed]",
            "text/plain": [
              "<Figure size 1440x360 with 2 Axes>"
            ]
          },
          "metadata": {
            "tags": [],
            "needs_background": "light"
          }
        }
      ]
    },
    {
      "cell_type": "code",
      "metadata": {
        "colab": {
          "base_uri": "https://localhost:8080/"
        },
        "id": "kAvC0cxl_BpV",
        "outputId": "2f56b4b2-fef0-464b-f9c7-197eef11087c"
      },
      "source": [
        "# Nome dos pilotos que estão ou passaram pela F1\n",
        "df_21anos['surname'].unique()"
      ],
      "execution_count": null,
      "outputs": [
        {
          "output_type": "execute_result",
          "data": {
            "text/plain": [
              "array(['Hamilton', 'Heidfeld', 'Rosberg', 'Alonso', 'Kovalainen',\n",
              "       'Nakajima', 'Bourdais', 'Räikkönen', 'Kubica', 'Trulli', 'Webber',\n",
              "       'Coulthard', 'Button', 'Piquet Jr.', 'Fisichella', 'Barrichello',\n",
              "       'Davidson', 'Sato', 'Massa', 'Glock', 'Sutil', 'Vettel', 'Liuzzi',\n",
              "       'Schumacher', 'Speed', 'Wurz', 'Albers', 'Yamamoto', 'Monteiro',\n",
              "       'Klien', 'Pablo Montoya', 'Villeneuve', 'Ide', 'Montagny',\n",
              "       'de la Rosa', 'Doornbos', 'Karthikeyan', 'Friesacher', 'Pizzonia',\n",
              "       'Pantano', 'Panis', 'da Matta', 'Baumgartner', 'Bruni', 'Gené',\n",
              "       'Zonta', 'Verstappen', 'Frentzen', 'Firman', 'Wilson', 'Kiesa',\n",
              "       'Yoong', 'Salo', 'Irvine', 'McNish', 'Bernoldi', 'Alesi', 'Burti',\n",
              "       'Marques', 'Mazzacane', 'Häkkinen', 'Enge', 'Diniz', 'Herbert',\n",
              "       'Bottas', 'Buemi', 'Alguersuari', 'Grosjean', 'Badoer',\n",
              "       'Kobayashi', 'Hülkenberg', 'Senna', 'Petrov', 'di Grassi',\n",
              "       'Chandhok', 'Maldonado', \"d'Ambrosio\", 'di Resta', 'Pérez',\n",
              "       'Ricciardo', 'Pic', 'Vergne', 'Gutiérrez', 'Bianchi', 'Chilton',\n",
              "       'van der Garde', 'Magnussen', 'Ericsson', 'Kvyat', 'Lotterer',\n",
              "       'Stevens', 'Sainz', 'Nasr', 'Merhi', 'Rossi', 'Palmer', 'Haryanto',\n",
              "       'Wehrlein', 'Vandoorne', 'Ocon', 'Giovinazzi', 'Stroll', 'Gasly',\n",
              "       'Hartley', 'Leclerc', 'Sirotkin', 'Russell', 'Albon', 'Norris',\n",
              "       'Latifi', 'Aitken', 'Fittipaldi', 'Mazepin', 'Tsunoda'],\n",
              "      dtype=object)"
            ]
          },
          "metadata": {
            "tags": []
          },
          "execution_count": 69
        }
      ]
    },
    {
      "cell_type": "markdown",
      "metadata": {
        "id": "JVF_HgwNuUra"
      },
      "source": [
        "##Conclusão"
      ]
    },
    {
      "cell_type": "markdown",
      "metadata": {
        "id": "pUNgvlVXugqo"
      },
      "source": [
        "Durante os 21 anos de Formula 1, a German vem em primeiro como maior vencedora, com 113 vitórias, graças a Era de Schumacher, seguido pela British com 101 vitórias. O Brasil em em 8º, com 26.\n",
        "\n"
      ]
    }
  ]
}