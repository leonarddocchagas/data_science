{
  "nbformat": 4,
  "nbformat_minor": 0,
  "metadata": {
    "colab": {
      "name": "Formula 1.ipynb",
      "provenance": [],
      "collapsed_sections": [],
      "authorship_tag": "ABX9TyMrwnHKKtf9ewOkonrVEZZQ",
      "include_colab_link": true
    },
    "kernelspec": {
      "name": "python3",
      "display_name": "Python 3"
    },
    "language_info": {
      "name": "python"
    }
  },
  "cells": [
    {
      "cell_type": "markdown",
      "metadata": {
        "id": "view-in-github",
        "colab_type": "text"
      },
      "source": [
        "<a href=\"https://colab.research.google.com/github/leonarddocchagas/data_science/blob/master/Formula_1.ipynb\" target=\"_parent\"><img src=\"https://colab.research.google.com/assets/colab-badge.svg\" alt=\"Open In Colab\"/></a>"
      ]
    },
    {
      "cell_type": "markdown",
      "metadata": {
        "id": "sURiJslTXG9J"
      },
      "source": [
        "<img width='50%' aling='center' src='https://github.com/leonarddocchagas/data_science/blob/master/projetos/formula1/f1-logo.png?raw=true' />"
      ]
    },
    {
      "cell_type": "markdown",
      "metadata": {
        "id": "RzI5fwOyYPYA"
      },
      "source": [
        "**Formula 1 World Championship**\n",
        "\n",
        "Fórmula 1 é a mais popular modalidade de automobilismo do mundo. É a categoria mais avançada do esporte a motor e é regulamentada pela Federação Internacional de Automobilismo.\n",
        "\n",
        "A história da Fórmula 1 tem início com as competições de Grandes Prêmios disputadas na Europa, no início do século XX, apenas com uma pausa de 1939 até 9 de Setembro de 1945, no Circuito de Silverstone, prosseguindo até a atualidade, sem interrupções e com 72 pistas usadas\n",
        "\n",
        "*fonte:* https://pt.wikipedia.org/wiki/F%C3%B3rmula_1 "
      ]
    },
    {
      "cell_type": "markdown",
      "metadata": {
        "id": "gMtM0YL8ZPhE"
      },
      "source": [
        "## Sobre os dados"
      ]
    },
    {
      "cell_type": "markdown",
      "metadata": {
        "id": "OfNf0hfqaSgJ"
      },
      "source": [
        "O dados estão separados em diversos arquivos. A depender da análise, será necessário fazer a junção das bases para obter mais informação.\n",
        "\n",
        "* Dados coletados do keggle\n",
        "  * Datasets: https://bit.ly/3hDUNLZ\n",
        "\n",
        "* Lista datasets:\n",
        "  * circuits.csv\n",
        "  * constructor_results.csv\n",
        "  * constructor_standings.csv\n",
        "  * constructors.csv\n",
        "  * driver_standings.csv\n",
        "  * drivers.csv\n",
        "  * lap_times.csv\n",
        "  * pit_stops.csv\n",
        "  * qualifying.csv\n",
        "  * races.csv\n",
        "  * results.csv\n",
        "  * seasons.csv\n",
        "  * status.csv\n",
        "\n",
        "\n"
      ]
    },
    {
      "cell_type": "markdown",
      "metadata": {
        "id": "nXVtB5_Tb7ca"
      },
      "source": [
        "##Obtenção e transformação dos dados"
      ]
    },
    {
      "cell_type": "markdown",
      "metadata": {
        "id": "OcYWNJWWcA69"
      },
      "source": [
        "**Carrega e verifica dataset**"
      ]
    },
    {
      "cell_type": "code",
      "metadata": {
        "id": "he0OOgR8aQoM"
      },
      "source": [
        "# bibliotecas\n",
        "import pandas as pd\n",
        "import matplotlib.pyplot as plt\n",
        "import seaborn as sns"
      ],
      "execution_count": 2,
      "outputs": []
    },
    {
      "cell_type": "code",
      "metadata": {
        "id": "Jp1sBoZCciB9"
      },
      "source": [
        "# importando os dados\n",
        "df = pd.read_csv('')"
      ],
      "execution_count": null,
      "outputs": []
    }
  ]
}