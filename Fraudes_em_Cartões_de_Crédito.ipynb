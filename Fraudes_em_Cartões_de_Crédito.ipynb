{
  "nbformat": 4,
  "nbformat_minor": 0,
  "metadata": {
    "colab": {
      "name": "Fraudes em Cartões de Crédito.ipynb",
      "provenance": [],
      "collapsed_sections": [],
      "authorship_tag": "ABX9TyOscqjX9/l4BA/Au0rJFWv2",
      "include_colab_link": true
    },
    "kernelspec": {
      "name": "python3",
      "display_name": "Python 3"
    }
  },
  "cells": [
    {
      "cell_type": "markdown",
      "metadata": {
        "id": "view-in-github",
        "colab_type": "text"
      },
      "source": [
        "<a href=\"https://colab.research.google.com/github/leonarddocchagas/data_science/blob/master/Fraudes_em_Cart%C3%B5es_de_Cr%C3%A9dito.ipynb\" target=\"_parent\"><img src=\"https://colab.research.google.com/assets/colab-badge.svg\" alt=\"Open In Colab\"/></a>"
      ]
    },
    {
      "cell_type": "markdown",
      "metadata": {
        "id": "mQ-qM3dcmmD2"
      },
      "source": [
        "<img width='50%' src=\"https://github.com/leonarddocchagas/data_science/blob/master/projetos/deteccao_fraude_cartao_credito/img_fraude1.jpg?raw=true\" />"
      ]
    },
    {
      "cell_type": "markdown",
      "metadata": {
        "id": "kyZ5TEE9mWUN"
      },
      "source": [
        "#**Fraudes em Cartões de Crédito**\r\n",
        "\r\n",
        "O grande problema que as instituições financeiras e fintech passam hoje em dia, é em relação às fraudes nas transações. Principalmente no último ano, em 2020, durante a pandemia, fraudes envolvendo compras e saques em cartões de crédito e débito tirou o sono de muitos brasileiros.\r\n",
        "\r\n",
        "Reclamações relativas a cobranças ou saques não reconhecidos mais do que dobraram de março a julho deste ano, comparadas ao mesmo período de 2019. Os registros saltaram de 1.154 para 2.445, uma alta de 111,8%, segundo dados do Consumidor.gov, portal de intermediação de conflitos da Secretaria Nacional de Defesa do Consumidor (Senacon), órgão do Ministério da Justiça e Segurança Pública."
      ]
    },
    {
      "cell_type": "markdown",
      "metadata": {
        "id": "fyORGytILhHf"
      },
      "source": [
        "## Obteção dos dados\r\n",
        "\r\n",
        "Os dados que usaremos neste projeto foram disponibilizados por algumas empresas européias de cartão de crédito. O dataset representa as operações financeiras que aconteceram no período de dois dias, onde foram classificadas 492 fraudes em meio a quase 290 mil transações.\r\n",
        "\r\n",
        "  * Kaggle\r\n",
        "      * https://www.kaggle.com/mlg-ulb/creditcardfraud\r\n",
        "\r\n",
        "**Nota.** Na página original dos dados, também é informado que as variáveis passaram por uma transformação conhecida como Análise de Componentes Principais (Principal Component Analysis - PCA)."
      ]
    },
    {
      "cell_type": "code",
      "metadata": {
        "id": "QqxeO9kFmY2U"
      },
      "source": [
        ""
      ],
      "execution_count": null,
      "outputs": []
    }
  ]
}