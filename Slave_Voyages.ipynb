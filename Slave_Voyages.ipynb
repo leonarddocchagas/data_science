{
  "nbformat": 4,
  "nbformat_minor": 0,
  "metadata": {
    "colab": {
      "name": "Slave Voyages.ipynb",
      "provenance": [],
      "collapsed_sections": [],
      "authorship_tag": "ABX9TyPQ3aCcHXDR3sN4IfVu5GN0",
      "include_colab_link": true
    },
    "kernelspec": {
      "name": "python3",
      "display_name": "Python 3"
    }
  },
  "cells": [
    {
      "cell_type": "markdown",
      "metadata": {
        "id": "view-in-github",
        "colab_type": "text"
      },
      "source": [
        "<a href=\"https://colab.research.google.com/github/leonarddocchagas/data_science/blob/master/Slave_Voyages.ipynb\" target=\"_parent\"><img src=\"https://colab.research.google.com/assets/colab-badge.svg\" alt=\"Open In Colab\"/></a>"
      ]
    },
    {
      "cell_type": "markdown",
      "metadata": {
        "id": "09_PNo8mlYUq"
      },
      "source": [
        "<img src=\"https://github.com/leonarddocchagas/data_science/blob/master/projetos/slavevoyages/SlaveVoyages.png?raw=true\" />"
      ]
    },
    {
      "cell_type": "markdown",
      "metadata": {
        "id": "Hcd6k9d4oVga"
      },
      "source": [
        "**Comércio Transatlântico de Escravos**"
      ]
    },
    {
      "cell_type": "markdown",
      "metadata": {
        "id": "YyNFuxzGomye"
      },
      "source": [
        "O site Slave Voyages, documentou e disponibilizou de forma digital, arquivos sobre esse triste período da história mundial e, em especial, para o Brasil, onde o tráfico negreiro perdurou até a criação da Lei Áurea de 1888. Existem registros de mercado de escravos, desde 1444 em Portugal. E existem registros bem antigos dessa prática, ainda em impérimos como o dos Romanos, Gregos, Árabes.  "
      ]
    },
    {
      "cell_type": "markdown",
      "metadata": {
        "id": "4pKFr2DZoo4u"
      },
      "source": [
        "### Sobre os dados"
      ]
    },
    {
      "cell_type": "markdown",
      "metadata": {
        "id": "uzHp0pKXo25k"
      },
      "source": [
        "  * Explorar a disperssão de Africanos escravizados pelo Atlântico\r\n",
        "    * https://www.slavevoyages.org/\r\n",
        "    * Dataset: https://www.slavevoyages.org/voyage/database "
      ]
    },
    {
      "cell_type": "markdown",
      "metadata": {
        "id": "xfG874oktVfk"
      },
      "source": [
        "## Obtenção e transformação dos dados"
      ]
    },
    {
      "cell_type": "code",
      "metadata": {
        "id": "D3ATKo8QiVtn"
      },
      "source": [
        "# importando bibliotecas\r\n",
        "import pandas as pd\r\n",
        "import matplotlib.pyplot as plt\r\n",
        "import seaborn as sns"
      ],
      "execution_count": 18,
      "outputs": []
    },
    {
      "cell_type": "code",
      "metadata": {
        "colab": {
          "base_uri": "https://localhost:8080/"
        },
        "id": "QTfelgPNuLiH",
        "outputId": "c460b84c-39c5-4f96-de8f-278cc4212d2e"
      },
      "source": [
        "# importando dados\r\n",
        "dataset = \"https://raw.githubusercontent.com/leonarddocchagas/data_science/master/projetos/slavevoyages/data_SlaveVoyages.csv\"\r\n",
        "df = pd.read_csv(dataset)\r\n",
        "\r\n",
        "# entredas e variáveis\r\n",
        "print('Entradas: {}' .format(df.shape[0]))\r\n",
        "print('Variáveis: {}' .format(df.shape[1]))"
      ],
      "execution_count": 19,
      "outputs": [
        {
          "output_type": "stream",
          "text": [
            "Entradas: 36110\n",
            "Variáveis: 8\n"
          ],
          "name": "stdout"
        }
      ]
    },
    {
      "cell_type": "code",
      "metadata": {
        "colab": {
          "base_uri": "https://localhost:8080/",
          "height": 391
        },
        "id": "8RqbmrO2vGrL",
        "outputId": "d8632cbb-c490-40d1-ecdb-2401e994f80a"
      },
      "source": [
        "# carregando dataset\r\n",
        "df.head()"
      ],
      "execution_count": 20,
      "outputs": [
        {
          "output_type": "execute_result",
          "data": {
            "text/html": [
              "<div>\n",
              "<style scoped>\n",
              "    .dataframe tbody tr th:only-of-type {\n",
              "        vertical-align: middle;\n",
              "    }\n",
              "\n",
              "    .dataframe tbody tr th {\n",
              "        vertical-align: top;\n",
              "    }\n",
              "\n",
              "    .dataframe thead th {\n",
              "        text-align: right;\n",
              "    }\n",
              "</style>\n",
              "<table border=\"1\" class=\"dataframe\">\n",
              "  <thead>\n",
              "    <tr style=\"text-align: right;\">\n",
              "      <th></th>\n",
              "      <th>Identidade da viagem</th>\n",
              "      <th>Vessel name</th>\n",
              "      <th>Voyage itinerary imputed port where began (ptdepimp) place</th>\n",
              "      <th>Voyage itinerary imputed principal place of slave purchase (mjbyptimp)</th>\n",
              "      <th>Voyage itinerary imputed principal port of slave disembarkation (mjslptimp) place</th>\n",
              "      <th>Year of arrival at port of disembarkation</th>\n",
              "      <th>Slaves arrived at 1st port</th>\n",
              "      <th>Captain's name</th>\n",
              "    </tr>\n",
              "  </thead>\n",
              "  <tbody>\n",
              "    <tr>\n",
              "      <th>0</th>\n",
              "      <td>10354</td>\n",
              "      <td>Wakende Kraan</td>\n",
              "      <td>Hellevoetsluis</td>\n",
              "      <td>Elmina</td>\n",
              "      <td>Curacao</td>\n",
              "      <td>1706</td>\n",
              "      <td>177.0</td>\n",
              "      <td>Hoeven, Jan van der&lt;br/&gt; Wenman, Roelof</td>\n",
              "    </tr>\n",
              "    <tr>\n",
              "      <th>1</th>\n",
              "      <td>10355</td>\n",
              "      <td>Wapen van Amsterdam</td>\n",
              "      <td>NaN</td>\n",
              "      <td>Ardra</td>\n",
              "      <td>NaN</td>\n",
              "      <td>1685</td>\n",
              "      <td>NaN</td>\n",
              "      <td>NaN</td>\n",
              "    </tr>\n",
              "    <tr>\n",
              "      <th>2</th>\n",
              "      <td>10356</td>\n",
              "      <td>Wapen van Amsterdam</td>\n",
              "      <td>Texel</td>\n",
              "      <td>Gold Coast, port unspecified</td>\n",
              "      <td>Curacao</td>\n",
              "      <td>1688</td>\n",
              "      <td>NaN</td>\n",
              "      <td>Scheij, Pieter</td>\n",
              "    </tr>\n",
              "    <tr>\n",
              "      <th>3</th>\n",
              "      <td>10357</td>\n",
              "      <td>Wapen van Holland (a) Hollandia</td>\n",
              "      <td>Hellevoetsluis</td>\n",
              "      <td>Whydah</td>\n",
              "      <td>Curacao</td>\n",
              "      <td>1701</td>\n",
              "      <td>459.0</td>\n",
              "      <td>Stoop, Pieter&lt;br/&gt; Crans, Pieter</td>\n",
              "    </tr>\n",
              "    <tr>\n",
              "      <th>4</th>\n",
              "      <td>10358</td>\n",
              "      <td>Wapen van Holland (a) Hollandia</td>\n",
              "      <td>Hellevoetsluis</td>\n",
              "      <td>Whydah</td>\n",
              "      <td>Suriname</td>\n",
              "      <td>1702</td>\n",
              "      <td>386.0</td>\n",
              "      <td>Crans, Pieter</td>\n",
              "    </tr>\n",
              "  </tbody>\n",
              "</table>\n",
              "</div>"
            ],
            "text/plain": [
              "   Identidade da viagem  ...                           Captain's name\n",
              "0                 10354  ...  Hoeven, Jan van der<br/> Wenman, Roelof\n",
              "1                 10355  ...                                      NaN\n",
              "2                 10356  ...                           Scheij, Pieter\n",
              "3                 10357  ...         Stoop, Pieter<br/> Crans, Pieter\n",
              "4                 10358  ...                            Crans, Pieter\n",
              "\n",
              "[5 rows x 8 columns]"
            ]
          },
          "metadata": {
            "tags": []
          },
          "execution_count": 20
        }
      ]
    },
    {
      "cell_type": "code",
      "metadata": {
        "id": "CVcoPZVz81ga"
      },
      "source": [
        "df[]"
      ],
      "execution_count": null,
      "outputs": []
    },
    {
      "cell_type": "markdown",
      "metadata": {
        "id": "WMxBxMFs5APJ"
      },
      "source": [
        "Para falicitar nas análises, vamos diminuir o tamanho do nome das columas e também, trazer para o português. Vamos criar um novo Dataset e manter o original, que servirá para consultas futuras."
      ]
    },
    {
      "cell_type": "code",
      "metadata": {
        "colab": {
          "base_uri": "https://localhost:8080/",
          "height": 289
        },
        "id": "3WJAbWG_5L_O",
        "outputId": "081d7b6a-1cb9-4470-f325-1c53c4e9da2e"
      },
      "source": [
        "# Dataset redução e tradução de colunas\r\n",
        "df_traducao = df.rename(columns={'Vessel name': 'Nome Embarcação', \r\n",
        "                                 'Voyage itinerary imputed port where began (ptdepimp) place':'Porto onde viagem começou',\r\n",
        "                                 'Voyage itinerary imputed principal place of slave purchase (mjbyptimp) ':'Local de aquisição',\r\n",
        "                                 'Voyage itinerary imputed principal port of slave disembarkation (mjslptimp) place': 'Local Desembarque',\r\n",
        "                                 'Year of arrival at port of disembarkation': 'Ano Chegada',\r\n",
        "                                 'Slaves arrived at 1st port':'Qtde.',\r\n",
        "                                 \"Captain's name\":'Nome Capitão'})\r\n",
        "\r\n",
        "\r\n",
        "# carregando dataset\r\n",
        "df_traducao.head()"
      ],
      "execution_count": 22,
      "outputs": [
        {
          "output_type": "execute_result",
          "data": {
            "text/html": [
              "<div>\n",
              "<style scoped>\n",
              "    .dataframe tbody tr th:only-of-type {\n",
              "        vertical-align: middle;\n",
              "    }\n",
              "\n",
              "    .dataframe tbody tr th {\n",
              "        vertical-align: top;\n",
              "    }\n",
              "\n",
              "    .dataframe thead th {\n",
              "        text-align: right;\n",
              "    }\n",
              "</style>\n",
              "<table border=\"1\" class=\"dataframe\">\n",
              "  <thead>\n",
              "    <tr style=\"text-align: right;\">\n",
              "      <th></th>\n",
              "      <th>Identidade da viagem</th>\n",
              "      <th>Nome Embarcação</th>\n",
              "      <th>Porto onde viagem começou</th>\n",
              "      <th>Local de aquisição</th>\n",
              "      <th>Local Desembarque</th>\n",
              "      <th>Ano Chegada</th>\n",
              "      <th>Qtde.</th>\n",
              "      <th>Nome Capitão</th>\n",
              "    </tr>\n",
              "  </thead>\n",
              "  <tbody>\n",
              "    <tr>\n",
              "      <th>0</th>\n",
              "      <td>10354</td>\n",
              "      <td>Wakende Kraan</td>\n",
              "      <td>Hellevoetsluis</td>\n",
              "      <td>Elmina</td>\n",
              "      <td>Curacao</td>\n",
              "      <td>1706</td>\n",
              "      <td>177.0</td>\n",
              "      <td>Hoeven, Jan van der&lt;br/&gt; Wenman, Roelof</td>\n",
              "    </tr>\n",
              "    <tr>\n",
              "      <th>1</th>\n",
              "      <td>10355</td>\n",
              "      <td>Wapen van Amsterdam</td>\n",
              "      <td>NaN</td>\n",
              "      <td>Ardra</td>\n",
              "      <td>NaN</td>\n",
              "      <td>1685</td>\n",
              "      <td>NaN</td>\n",
              "      <td>NaN</td>\n",
              "    </tr>\n",
              "    <tr>\n",
              "      <th>2</th>\n",
              "      <td>10356</td>\n",
              "      <td>Wapen van Amsterdam</td>\n",
              "      <td>Texel</td>\n",
              "      <td>Gold Coast, port unspecified</td>\n",
              "      <td>Curacao</td>\n",
              "      <td>1688</td>\n",
              "      <td>NaN</td>\n",
              "      <td>Scheij, Pieter</td>\n",
              "    </tr>\n",
              "    <tr>\n",
              "      <th>3</th>\n",
              "      <td>10357</td>\n",
              "      <td>Wapen van Holland (a) Hollandia</td>\n",
              "      <td>Hellevoetsluis</td>\n",
              "      <td>Whydah</td>\n",
              "      <td>Curacao</td>\n",
              "      <td>1701</td>\n",
              "      <td>459.0</td>\n",
              "      <td>Stoop, Pieter&lt;br/&gt; Crans, Pieter</td>\n",
              "    </tr>\n",
              "    <tr>\n",
              "      <th>4</th>\n",
              "      <td>10358</td>\n",
              "      <td>Wapen van Holland (a) Hollandia</td>\n",
              "      <td>Hellevoetsluis</td>\n",
              "      <td>Whydah</td>\n",
              "      <td>Suriname</td>\n",
              "      <td>1702</td>\n",
              "      <td>386.0</td>\n",
              "      <td>Crans, Pieter</td>\n",
              "    </tr>\n",
              "  </tbody>\n",
              "</table>\n",
              "</div>"
            ],
            "text/plain": [
              "   Identidade da viagem  ...                             Nome Capitão\n",
              "0                 10354  ...  Hoeven, Jan van der<br/> Wenman, Roelof\n",
              "1                 10355  ...                                      NaN\n",
              "2                 10356  ...                           Scheij, Pieter\n",
              "3                 10357  ...         Stoop, Pieter<br/> Crans, Pieter\n",
              "4                 10358  ...                            Crans, Pieter\n",
              "\n",
              "[5 rows x 8 columns]"
            ]
          },
          "metadata": {
            "tags": []
          },
          "execution_count": 22
        }
      ]
    }
  ]
}