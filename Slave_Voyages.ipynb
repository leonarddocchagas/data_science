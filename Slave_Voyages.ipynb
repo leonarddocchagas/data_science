{
  "nbformat": 4,
  "nbformat_minor": 0,
  "metadata": {
    "colab": {
      "name": "Slave Voyages.ipynb",
      "provenance": [],
      "collapsed_sections": [],
      "authorship_tag": "ABX9TyOuRdXx86TGzssDXrbv5A0G",
      "include_colab_link": true
    },
    "kernelspec": {
      "name": "python3",
      "display_name": "Python 3"
    }
  },
  "cells": [
    {
      "cell_type": "markdown",
      "metadata": {
        "id": "view-in-github",
        "colab_type": "text"
      },
      "source": [
        "<a href=\"https://colab.research.google.com/github/leonarddocchagas/data_science/blob/master/Slave_Voyages.ipynb\" target=\"_parent\"><img src=\"https://colab.research.google.com/assets/colab-badge.svg\" alt=\"Open In Colab\"/></a>"
      ]
    },
    {
      "cell_type": "markdown",
      "metadata": {
        "id": "09_PNo8mlYUq"
      },
      "source": [
        "<img src=\"https://github.com/leonarddocchagas/data_science/blob/master/projetos/slavevoyages/SlaveVoyages.png?raw=true\" />"
      ]
    },
    {
      "cell_type": "markdown",
      "metadata": {
        "id": "Hcd6k9d4oVga"
      },
      "source": [
        "**Comércio Transatlântico de Escravos**"
      ]
    },
    {
      "cell_type": "markdown",
      "metadata": {
        "id": "YyNFuxzGomye"
      },
      "source": [
        "O site Slave Voyages, documentou e disponibilizou de forma digital, arquivos sobre esse triste período da história mundial e, em especial, para o Brasil, onde o tráfico negreiro perdurou até a criação da Lei Áurea de 1888. Existem registros de mercado de escravos, desde 1444 em Portugal. E existem registros bem antigos dessa prática, ainda em impérimos como o dos Romanos, Gregos, Árabes.  "
      ]
    },
    {
      "cell_type": "markdown",
      "metadata": {
        "id": "4pKFr2DZoo4u"
      },
      "source": [
        "### Sobre os dados"
      ]
    },
    {
      "cell_type": "markdown",
      "metadata": {
        "id": "uzHp0pKXo25k"
      },
      "source": [
        "  * Explorar a disperssão de Africanos escravizados pelo Atlântico\n",
        "    * https://www.slavevoyages.org/\n",
        "    * Dataset: https://www.slavevoyages.org/voyage/database "
      ]
    },
    {
      "cell_type": "markdown",
      "metadata": {
        "id": "xfG874oktVfk"
      },
      "source": [
        "## Obtenção e transformação dos dados"
      ]
    },
    {
      "cell_type": "markdown",
      "metadata": {
        "id": "jfTA7l5PBC6q"
      },
      "source": [
        "**Carrega e verifica dataset**"
      ]
    },
    {
      "cell_type": "code",
      "metadata": {
        "id": "D3ATKo8QiVtn"
      },
      "source": [
        "# importando bibliotecas\n",
        "import os\n",
        "import pandas as pd\n",
        "import matplotlib.pyplot as plt\n",
        "import seaborn as sns"
      ],
      "execution_count": 1,
      "outputs": []
    },
    {
      "cell_type": "code",
      "metadata": {
        "colab": {
          "base_uri": "https://localhost:8080/"
        },
        "id": "QTfelgPNuLiH",
        "outputId": "424765cf-9646-4dbf-858d-bee982de731e"
      },
      "source": [
        "# importando dados\n",
        "dataset = \"https://raw.githubusercontent.com/leonarddocchagas/data_science/master/projetos/slavevoyages/data_SlaveVoyages.csv\"\n",
        "df_raw = pd.read_csv(dataset)\n",
        "\n",
        "# entredas e variáveis\n",
        "print('Entradas: {}' .format(df_raw.shape[0]))\n",
        "print('Variáveis: {}' .format(df_raw.shape[1]))"
      ],
      "execution_count": 2,
      "outputs": [
        {
          "output_type": "stream",
          "text": [
            "Entradas: 36110\n",
            "Variáveis: 8\n"
          ],
          "name": "stdout"
        }
      ]
    },
    {
      "cell_type": "code",
      "metadata": {
        "colab": {
          "base_uri": "https://localhost:8080/",
          "height": 391
        },
        "id": "8RqbmrO2vGrL",
        "outputId": "9fd685b1-ef4a-479a-dcae-f116f801252b"
      },
      "source": [
        "# carregando dataset\n",
        "df_raw.head()"
      ],
      "execution_count": 3,
      "outputs": [
        {
          "output_type": "execute_result",
          "data": {
            "text/html": [
              "<div>\n",
              "<style scoped>\n",
              "    .dataframe tbody tr th:only-of-type {\n",
              "        vertical-align: middle;\n",
              "    }\n",
              "\n",
              "    .dataframe tbody tr th {\n",
              "        vertical-align: top;\n",
              "    }\n",
              "\n",
              "    .dataframe thead th {\n",
              "        text-align: right;\n",
              "    }\n",
              "</style>\n",
              "<table border=\"1\" class=\"dataframe\">\n",
              "  <thead>\n",
              "    <tr style=\"text-align: right;\">\n",
              "      <th></th>\n",
              "      <th>Identidade da viagem</th>\n",
              "      <th>Vessel name</th>\n",
              "      <th>Voyage itinerary imputed port where began (ptdepimp) place</th>\n",
              "      <th>Voyage itinerary imputed principal place of slave purchase (mjbyptimp)</th>\n",
              "      <th>Voyage itinerary imputed principal port of slave disembarkation (mjslptimp) place</th>\n",
              "      <th>Year of arrival at port of disembarkation</th>\n",
              "      <th>Slaves arrived at 1st port</th>\n",
              "      <th>Captain's name</th>\n",
              "    </tr>\n",
              "  </thead>\n",
              "  <tbody>\n",
              "    <tr>\n",
              "      <th>0</th>\n",
              "      <td>10354</td>\n",
              "      <td>Wakende Kraan</td>\n",
              "      <td>Hellevoetsluis</td>\n",
              "      <td>Elmina</td>\n",
              "      <td>Curacao</td>\n",
              "      <td>1706</td>\n",
              "      <td>177.0</td>\n",
              "      <td>Hoeven, Jan van der&lt;br/&gt; Wenman, Roelof</td>\n",
              "    </tr>\n",
              "    <tr>\n",
              "      <th>1</th>\n",
              "      <td>10355</td>\n",
              "      <td>Wapen van Amsterdam</td>\n",
              "      <td>NaN</td>\n",
              "      <td>Ardra</td>\n",
              "      <td>NaN</td>\n",
              "      <td>1685</td>\n",
              "      <td>NaN</td>\n",
              "      <td>NaN</td>\n",
              "    </tr>\n",
              "    <tr>\n",
              "      <th>2</th>\n",
              "      <td>10356</td>\n",
              "      <td>Wapen van Amsterdam</td>\n",
              "      <td>Texel</td>\n",
              "      <td>Gold Coast, port unspecified</td>\n",
              "      <td>Curacao</td>\n",
              "      <td>1688</td>\n",
              "      <td>NaN</td>\n",
              "      <td>Scheij, Pieter</td>\n",
              "    </tr>\n",
              "    <tr>\n",
              "      <th>3</th>\n",
              "      <td>10357</td>\n",
              "      <td>Wapen van Holland (a) Hollandia</td>\n",
              "      <td>Hellevoetsluis</td>\n",
              "      <td>Whydah</td>\n",
              "      <td>Curacao</td>\n",
              "      <td>1701</td>\n",
              "      <td>459.0</td>\n",
              "      <td>Stoop, Pieter&lt;br/&gt; Crans, Pieter</td>\n",
              "    </tr>\n",
              "    <tr>\n",
              "      <th>4</th>\n",
              "      <td>10358</td>\n",
              "      <td>Wapen van Holland (a) Hollandia</td>\n",
              "      <td>Hellevoetsluis</td>\n",
              "      <td>Whydah</td>\n",
              "      <td>Suriname</td>\n",
              "      <td>1702</td>\n",
              "      <td>386.0</td>\n",
              "      <td>Crans, Pieter</td>\n",
              "    </tr>\n",
              "  </tbody>\n",
              "</table>\n",
              "</div>"
            ],
            "text/plain": [
              "   Identidade da viagem  ...                           Captain's name\n",
              "0                 10354  ...  Hoeven, Jan van der<br/> Wenman, Roelof\n",
              "1                 10355  ...                                      NaN\n",
              "2                 10356  ...                           Scheij, Pieter\n",
              "3                 10357  ...         Stoop, Pieter<br/> Crans, Pieter\n",
              "4                 10358  ...                            Crans, Pieter\n",
              "\n",
              "[5 rows x 8 columns]"
            ]
          },
          "metadata": {
            "tags": []
          },
          "execution_count": 3
        }
      ]
    },
    {
      "cell_type": "code",
      "metadata": {
        "colab": {
          "base_uri": "https://localhost:8080/"
        },
        "id": "qZhChrM0VtOm",
        "outputId": "6e816cdb-9f1c-41a7-d109-46aad067b9c1"
      },
      "source": [
        "# verificando os tipos de dados\n",
        "df_raw.dtypes"
      ],
      "execution_count": 4,
      "outputs": [
        {
          "output_type": "execute_result",
          "data": {
            "text/plain": [
              "Identidade da viagem                                                                   int64\n",
              "Vessel name                                                                           object\n",
              "Voyage itinerary imputed port where began (ptdepimp) place                            object\n",
              "Voyage itinerary imputed principal place of slave purchase (mjbyptimp)                object\n",
              "Voyage itinerary imputed principal port of slave disembarkation (mjslptimp) place     object\n",
              "Year of arrival at port of disembarkation                                              int64\n",
              "Slaves arrived at 1st port                                                           float64\n",
              "Captain's name                                                                        object\n",
              "dtype: object"
            ]
          },
          "metadata": {
            "tags": []
          },
          "execution_count": 4
        }
      ]
    },
    {
      "cell_type": "code",
      "metadata": {
        "colab": {
          "base_uri": "https://localhost:8080/"
        },
        "id": "7_vBZSagR4No",
        "outputId": "4f23e06c-0f63-4fea-acec-00cc7c33dc84"
      },
      "source": [
        "# dados ausentes\n",
        "df_raw.isnull().sum() / df_raw.shape[0] "
      ],
      "execution_count": 5,
      "outputs": [
        {
          "output_type": "execute_result",
          "data": {
            "text/plain": [
              "Identidade da viagem                                                                 0.000000\n",
              "Vessel name                                                                          0.000083\n",
              "Voyage itinerary imputed port where began (ptdepimp) place                           0.123705\n",
              "Voyage itinerary imputed principal place of slave purchase (mjbyptimp)               0.046774\n",
              "Voyage itinerary imputed principal port of slave disembarkation (mjslptimp) place    0.118056\n",
              "Year of arrival at port of disembarkation                                            0.000000\n",
              "Slaves arrived at 1st port                                                           0.491387\n",
              "Captain's name                                                                       0.112323\n",
              "dtype: float64"
            ]
          },
          "metadata": {
            "tags": []
          },
          "execution_count": 5
        }
      ]
    },
    {
      "cell_type": "markdown",
      "metadata": {
        "id": "--DyE2CoSRy-"
      },
      "source": [
        "Em nosso dataset, identificamos que na métrica `Slaves arrived at 1st port`, que contém a quantidade de escravos, está com quase 50% dos dados ausentes. Isso dificulta nossa análise, uma vez que, nessa situação, será necessário excluir as entradas sem valor, que seria uma grande perda ou preencher com a média, médiana ou outros técnicas. "
      ]
    },
    {
      "cell_type": "markdown",
      "metadata": {
        "id": "j-okTEpKBT0S"
      },
      "source": [
        "**Transformação**"
      ]
    },
    {
      "cell_type": "markdown",
      "metadata": {
        "id": "WMxBxMFs5APJ"
      },
      "source": [
        "Para falicitar nas análises, vamos diminuir o tamanho do nome das columas e também, trazer para o português. Vamos criar um novo Dataset e manter o original, que servirá para consultas futuras."
      ]
    },
    {
      "cell_type": "code",
      "metadata": {
        "colab": {
          "base_uri": "https://localhost:8080/",
          "height": 289
        },
        "id": "3WJAbWG_5L_O",
        "outputId": "f8a9985d-9fe7-4712-f7fb-a29f7e0d12f0"
      },
      "source": [
        "# Dataset redução e tradução de colunas\n",
        "df = df_raw.rename(columns={'Vessel name': 'Nome Embarcação', \n",
        "                            'Voyage itinerary imputed port where began (ptdepimp) place':'Porto onde viagem começou',\n",
        "                            'Voyage itinerary imputed principal place of slave purchase (mjbyptimp) ':'Local de aquisição',\n",
        "                            'Voyage itinerary imputed principal port of slave disembarkation (mjslptimp) place': 'Local Desembarque',\n",
        "                            'Year of arrival at port of disembarkation': 'Ano Chegada',\n",
        "                            'Slaves arrived at 1st port':'Qtde.',\n",
        "                            \"Captain's name\":'Nome Capitão'})\n",
        "\n",
        "\n",
        "# carregando dataset\n",
        "df.head()"
      ],
      "execution_count": 6,
      "outputs": [
        {
          "output_type": "execute_result",
          "data": {
            "text/html": [
              "<div>\n",
              "<style scoped>\n",
              "    .dataframe tbody tr th:only-of-type {\n",
              "        vertical-align: middle;\n",
              "    }\n",
              "\n",
              "    .dataframe tbody tr th {\n",
              "        vertical-align: top;\n",
              "    }\n",
              "\n",
              "    .dataframe thead th {\n",
              "        text-align: right;\n",
              "    }\n",
              "</style>\n",
              "<table border=\"1\" class=\"dataframe\">\n",
              "  <thead>\n",
              "    <tr style=\"text-align: right;\">\n",
              "      <th></th>\n",
              "      <th>Identidade da viagem</th>\n",
              "      <th>Nome Embarcação</th>\n",
              "      <th>Porto onde viagem começou</th>\n",
              "      <th>Local de aquisição</th>\n",
              "      <th>Local Desembarque</th>\n",
              "      <th>Ano Chegada</th>\n",
              "      <th>Qtde.</th>\n",
              "      <th>Nome Capitão</th>\n",
              "    </tr>\n",
              "  </thead>\n",
              "  <tbody>\n",
              "    <tr>\n",
              "      <th>0</th>\n",
              "      <td>10354</td>\n",
              "      <td>Wakende Kraan</td>\n",
              "      <td>Hellevoetsluis</td>\n",
              "      <td>Elmina</td>\n",
              "      <td>Curacao</td>\n",
              "      <td>1706</td>\n",
              "      <td>177.0</td>\n",
              "      <td>Hoeven, Jan van der&lt;br/&gt; Wenman, Roelof</td>\n",
              "    </tr>\n",
              "    <tr>\n",
              "      <th>1</th>\n",
              "      <td>10355</td>\n",
              "      <td>Wapen van Amsterdam</td>\n",
              "      <td>NaN</td>\n",
              "      <td>Ardra</td>\n",
              "      <td>NaN</td>\n",
              "      <td>1685</td>\n",
              "      <td>NaN</td>\n",
              "      <td>NaN</td>\n",
              "    </tr>\n",
              "    <tr>\n",
              "      <th>2</th>\n",
              "      <td>10356</td>\n",
              "      <td>Wapen van Amsterdam</td>\n",
              "      <td>Texel</td>\n",
              "      <td>Gold Coast, port unspecified</td>\n",
              "      <td>Curacao</td>\n",
              "      <td>1688</td>\n",
              "      <td>NaN</td>\n",
              "      <td>Scheij, Pieter</td>\n",
              "    </tr>\n",
              "    <tr>\n",
              "      <th>3</th>\n",
              "      <td>10357</td>\n",
              "      <td>Wapen van Holland (a) Hollandia</td>\n",
              "      <td>Hellevoetsluis</td>\n",
              "      <td>Whydah</td>\n",
              "      <td>Curacao</td>\n",
              "      <td>1701</td>\n",
              "      <td>459.0</td>\n",
              "      <td>Stoop, Pieter&lt;br/&gt; Crans, Pieter</td>\n",
              "    </tr>\n",
              "    <tr>\n",
              "      <th>4</th>\n",
              "      <td>10358</td>\n",
              "      <td>Wapen van Holland (a) Hollandia</td>\n",
              "      <td>Hellevoetsluis</td>\n",
              "      <td>Whydah</td>\n",
              "      <td>Suriname</td>\n",
              "      <td>1702</td>\n",
              "      <td>386.0</td>\n",
              "      <td>Crans, Pieter</td>\n",
              "    </tr>\n",
              "  </tbody>\n",
              "</table>\n",
              "</div>"
            ],
            "text/plain": [
              "   Identidade da viagem  ...                             Nome Capitão\n",
              "0                 10354  ...  Hoeven, Jan van der<br/> Wenman, Roelof\n",
              "1                 10355  ...                                      NaN\n",
              "2                 10356  ...                           Scheij, Pieter\n",
              "3                 10357  ...         Stoop, Pieter<br/> Crans, Pieter\n",
              "4                 10358  ...                            Crans, Pieter\n",
              "\n",
              "[5 rows x 8 columns]"
            ]
          },
          "metadata": {
            "tags": []
          },
          "execution_count": 6
        }
      ]
    },
    {
      "cell_type": "markdown",
      "metadata": {
        "id": "WpdLr6-B0qsM"
      },
      "source": [
        "Na exibição das 5 primeiras linhas, em algumas colunas `Local de aquisição`, `Nome Capitão`, conteúdo como: (', port unspecified') que polui a visuazliação e não contribui em nada. Vamos limpar. "
      ]
    },
    {
      "cell_type": "code",
      "metadata": {
        "id": "Bue1wwKL1e4h"
      },
      "source": [
        "# retirando 'lixo' das entradas\n",
        "df['Local Desembarque'] = df['Local Desembarque'].apply(lambda x: str(x).replace(', port unspecified', ''))\n",
        "df['Local de aquisição'] = df['Local de aquisição'].apply(lambda x: str(x).replace(', port unspecified', ''))\n",
        "df['Porto onde viagem começou'] = df['Porto onde viagem começou'].apply(lambda x: str(x).replace(', port unspecified', ''))"
      ],
      "execution_count": 7,
      "outputs": []
    },
    {
      "cell_type": "markdown",
      "metadata": {
        "id": "JOlmhouWW467"
      },
      "source": [
        "Para dados ausentes, vamos criar mais dois novos datasets e aplicar diferentes técnicas. No `df_clean`, vamos remover os ausentes. No `df_fill_median`, vamos preencher com a mediana. Assim, ao final, podemos comparar os resultados."
      ]
    },
    {
      "cell_type": "code",
      "metadata": {
        "id": "95LDIId-ZpnF"
      },
      "source": [
        "# criando dois novos datasets\n",
        "df_clean = df.copy()\n",
        "df_fill_median = df.copy()"
      ],
      "execution_count": 8,
      "outputs": []
    },
    {
      "cell_type": "code",
      "metadata": {
        "id": "gvBj4n3eXn7C",
        "colab": {
          "base_uri": "https://localhost:8080/"
        },
        "outputId": "db77da33-041a-4677-fd02-9e11477da635"
      },
      "source": [
        "# verificando dados ausentes\n",
        "df.isnull().sum() / df.shape[0]"
      ],
      "execution_count": 9,
      "outputs": [
        {
          "output_type": "execute_result",
          "data": {
            "text/plain": [
              "Identidade da viagem         0.000000\n",
              "Nome Embarcação              0.000083\n",
              "Porto onde viagem começou    0.000000\n",
              "Local de aquisição           0.000000\n",
              "Local Desembarque            0.000000\n",
              "Ano Chegada                  0.000000\n",
              "Qtde.                        0.491387\n",
              "Nome Capitão                 0.112323\n",
              "dtype: float64"
            ]
          },
          "metadata": {
            "tags": []
          },
          "execution_count": 9
        }
      ]
    },
    {
      "cell_type": "code",
      "metadata": {
        "id": "NP9rZmYcWuTP",
        "colab": {
          "base_uri": "https://localhost:8080/"
        },
        "outputId": "6190eaea-9fe2-4d95-8137-34aaab81bfcf"
      },
      "source": [
        "# Excluir dados ausentes\n",
        "df_clean = df_clean.dropna(subset=['Qtde.'], axis=0)\n",
        "\n",
        "# exibi primeiras linhas\n",
        "df_clean.isnull().sum()"
      ],
      "execution_count": 10,
      "outputs": [
        {
          "output_type": "execute_result",
          "data": {
            "text/plain": [
              "Identidade da viagem            0\n",
              "Nome Embarcação                 0\n",
              "Porto onde viagem começou       0\n",
              "Local de aquisição              0\n",
              "Local Desembarque               0\n",
              "Ano Chegada                     0\n",
              "Qtde.                           0\n",
              "Nome Capitão                 1626\n",
              "dtype: int64"
            ]
          },
          "metadata": {
            "tags": []
          },
          "execution_count": 10
        }
      ]
    },
    {
      "cell_type": "code",
      "metadata": {
        "colab": {
          "base_uri": "https://localhost:8080/"
        },
        "id": "bby41fpNsWcv",
        "outputId": "1b47c475-6c77-491a-b1ff-34083c72dccf"
      },
      "source": [
        "# preencher dados ausentes com a mediana\n",
        "rd_median = df_fill_median['Qtde.'].median()\n",
        "df_fill_median = df_fill_median.fillna({'Qtde.': rd_median})\n",
        "\n",
        "# exibi primeiras linhas\n",
        "df_fill_median.isnull().sum()"
      ],
      "execution_count": 11,
      "outputs": [
        {
          "output_type": "execute_result",
          "data": {
            "text/plain": [
              "Identidade da viagem            0\n",
              "Nome Embarcação                 3\n",
              "Porto onde viagem começou       0\n",
              "Local de aquisição              0\n",
              "Local Desembarque               0\n",
              "Ano Chegada                     0\n",
              "Qtde.                           0\n",
              "Nome Capitão                 4056\n",
              "dtype: int64"
            ]
          },
          "metadata": {
            "tags": []
          },
          "execution_count": 11
        }
      ]
    },
    {
      "cell_type": "code",
      "metadata": {
        "colab": {
          "base_uri": "https://localhost:8080/"
        },
        "id": "hGC0chE5ZMG9",
        "outputId": "5679cacb-e42b-4665-8a6a-133457c9374a"
      },
      "source": [
        "# Verificando tipo de dados\n",
        "df_fill_median.dtypes"
      ],
      "execution_count": 12,
      "outputs": [
        {
          "output_type": "execute_result",
          "data": {
            "text/plain": [
              "Identidade da viagem           int64\n",
              "Nome Embarcação               object\n",
              "Porto onde viagem começou     object\n",
              "Local de aquisição            object\n",
              "Local Desembarque             object\n",
              "Ano Chegada                    int64\n",
              "Qtde.                        float64\n",
              "Nome Capitão                  object\n",
              "dtype: object"
            ]
          },
          "metadata": {
            "tags": []
          },
          "execution_count": 12
        }
      ]
    },
    {
      "cell_type": "code",
      "metadata": {
        "id": "NuruK2bDZcdC"
      },
      "source": [
        "# converter tipo object to category\n",
        "df_fill_median['Identidade da viagem'] = pd.Categorical(df_fill_median['Identidade da viagem'])\n",
        "df_fill_median['Nome Embarcação'] = pd.Categorical(df_fill_median['Nome Embarcação'])\n",
        "df_fill_median['Porto onde viagem começou'] = pd.Categorical(df_fill_median['Porto onde viagem começou'])\n",
        "df_fill_median['Local de aquisição'] = pd.Categorical(df_fill_median['Local de aquisição'])\n",
        "df_fill_median['Local Desembarque'] = pd.Categorical(df_fill_median['Local Desembarque'])\n",
        "df_fill_median['Nome Capitão'] = pd.Categorical(df_fill_median['Nome Capitão'])\n",
        "df_fill_median['Qtde.'] = df_fill_median['Qtde.'].astype('int64')"
      ],
      "execution_count": 13,
      "outputs": []
    },
    {
      "cell_type": "code",
      "metadata": {
        "colab": {
          "base_uri": "https://localhost:8080/"
        },
        "id": "kVhea49JtpKy",
        "outputId": "0532eef9-2926-421a-bf99-2802ebad2172"
      },
      "source": [
        "# verificando conversão\n",
        "df_fill_median.dtypes"
      ],
      "execution_count": 14,
      "outputs": [
        {
          "output_type": "execute_result",
          "data": {
            "text/plain": [
              "Identidade da viagem         category\n",
              "Nome Embarcação              category\n",
              "Porto onde viagem começou    category\n",
              "Local de aquisição           category\n",
              "Local Desembarque            category\n",
              "Ano Chegada                     int64\n",
              "Qtde.                           int64\n",
              "Nome Capitão                 category\n",
              "dtype: object"
            ]
          },
          "metadata": {
            "tags": []
          },
          "execution_count": 14
        }
      ]
    },
    {
      "cell_type": "markdown",
      "metadata": {
        "id": "AopmshGf9_2D"
      },
      "source": [
        "## Visualização"
      ]
    },
    {
      "cell_type": "code",
      "metadata": {
        "id": "BdBBiIMeXo-s",
        "colab": {
          "base_uri": "https://localhost:8080/"
        },
        "outputId": "e8261dc7-3ec7-4493-fd18-7a98471aac7a"
      },
      "source": [
        "# top 10 dos estados que mais receberam escravos\n",
        "df_fill_median['Local Desembarque'].value_counts()[:10]"
      ],
      "execution_count": 15,
      "outputs": [
        {
          "output_type": "execute_result",
          "data": {
            "text/plain": [
              "nan               4263\n",
              "Bahia             4223\n",
              "Rio de Janeiro    2887\n",
              "Barbados          2038\n",
              "Jamaica           1715\n",
              "Kingston          1622\n",
              "Pernambuco        1335\n",
              "Havana            1322\n",
              "Cap Francais      1127\n",
              "Charleston         811\n",
              "Name: Local Desembarque, dtype: int64"
            ]
          },
          "metadata": {
            "tags": []
          },
          "execution_count": 15
        }
      ]
    },
    {
      "cell_type": "markdown",
      "metadata": {
        "id": "_iBh3Gt-XoBw"
      },
      "source": [
        "Vamos criar um novo dataset e vou chamar de: `df_pe`, agora com dados onde o `Local Desembarque` tenha sido em Pernambuco, que é o estado onde moro. Assim, vamos ter um comparatido em relação aos demais locais."
      ]
    },
    {
      "cell_type": "code",
      "metadata": {
        "colab": {
          "base_uri": "https://localhost:8080/",
          "height": 204
        },
        "id": "NNHz_yfGX7gs",
        "outputId": "6e5389e1-2201-44f1-9083-54383847d0a3"
      },
      "source": [
        "# dataset Pernambuco\n",
        "df_pe = df_fill_median[df_fill_median['Local Desembarque'] == 'Pernambuco']\n",
        "df_pe.head()"
      ],
      "execution_count": 16,
      "outputs": [
        {
          "output_type": "execute_result",
          "data": {
            "text/html": [
              "<div>\n",
              "<style scoped>\n",
              "    .dataframe tbody tr th:only-of-type {\n",
              "        vertical-align: middle;\n",
              "    }\n",
              "\n",
              "    .dataframe tbody tr th {\n",
              "        vertical-align: top;\n",
              "    }\n",
              "\n",
              "    .dataframe thead th {\n",
              "        text-align: right;\n",
              "    }\n",
              "</style>\n",
              "<table border=\"1\" class=\"dataframe\">\n",
              "  <thead>\n",
              "    <tr style=\"text-align: right;\">\n",
              "      <th></th>\n",
              "      <th>Identidade da viagem</th>\n",
              "      <th>Nome Embarcação</th>\n",
              "      <th>Porto onde viagem começou</th>\n",
              "      <th>Local de aquisição</th>\n",
              "      <th>Local Desembarque</th>\n",
              "      <th>Ano Chegada</th>\n",
              "      <th>Qtde.</th>\n",
              "      <th>Nome Capitão</th>\n",
              "    </tr>\n",
              "  </thead>\n",
              "  <tbody>\n",
              "    <tr>\n",
              "      <th>700</th>\n",
              "      <td>11215</td>\n",
              "      <td>NS da Conceição</td>\n",
              "      <td>Pernambuco</td>\n",
              "      <td>Luanda</td>\n",
              "      <td>Pernambuco</td>\n",
              "      <td>1651</td>\n",
              "      <td>380</td>\n",
              "      <td>NaN</td>\n",
              "    </tr>\n",
              "    <tr>\n",
              "      <th>701</th>\n",
              "      <td>11216</td>\n",
              "      <td>NS da Ajuda</td>\n",
              "      <td>Pernambuco</td>\n",
              "      <td>Luanda</td>\n",
              "      <td>Pernambuco</td>\n",
              "      <td>1651</td>\n",
              "      <td>400</td>\n",
              "      <td>NaN</td>\n",
              "    </tr>\n",
              "    <tr>\n",
              "      <th>703</th>\n",
              "      <td>11218</td>\n",
              "      <td></td>\n",
              "      <td>Pernambuco</td>\n",
              "      <td>West Central Africa and St. Helena</td>\n",
              "      <td>Pernambuco</td>\n",
              "      <td>1649</td>\n",
              "      <td>290</td>\n",
              "      <td>NaN</td>\n",
              "    </tr>\n",
              "    <tr>\n",
              "      <th>707</th>\n",
              "      <td>11222</td>\n",
              "      <td></td>\n",
              "      <td>Pernambuco</td>\n",
              "      <td>Luanda</td>\n",
              "      <td>Pernambuco</td>\n",
              "      <td>1633</td>\n",
              "      <td>300</td>\n",
              "      <td>NaN</td>\n",
              "    </tr>\n",
              "    <tr>\n",
              "      <th>708</th>\n",
              "      <td>11224</td>\n",
              "      <td></td>\n",
              "      <td>Pernambuco</td>\n",
              "      <td>Luanda</td>\n",
              "      <td>Pernambuco</td>\n",
              "      <td>1636</td>\n",
              "      <td>390</td>\n",
              "      <td>NaN</td>\n",
              "    </tr>\n",
              "  </tbody>\n",
              "</table>\n",
              "</div>"
            ],
            "text/plain": [
              "    Identidade da viagem  Nome Embarcação  ... Qtde. Nome Capitão\n",
              "700                11215  NS da Conceição  ...   380          NaN\n",
              "701                11216      NS da Ajuda  ...   400          NaN\n",
              "703                11218                   ...   290          NaN\n",
              "707                11222                   ...   300          NaN\n",
              "708                11224                   ...   390          NaN\n",
              "\n",
              "[5 rows x 8 columns]"
            ]
          },
          "metadata": {
            "tags": []
          },
          "execution_count": 16
        }
      ]
    },
    {
      "cell_type": "markdown",
      "metadata": {
        "id": "TJzjFaYoYsgY"
      },
      "source": [
        "Vamos utilizar o histograma, onde será possível analisar a distribuição da quantidade, baseado no `Ano Chegada`, comparando dos demais com Pernambuco. "
      ]
    },
    {
      "cell_type": "code",
      "metadata": {
        "colab": {
          "base_uri": "https://localhost:8080/",
          "height": 370
        },
        "id": "gRSmFY0TUXS8",
        "outputId": "f5800ffb-dbc6-4794-cba1-06aaed1f3c63"
      },
      "source": [
        "# comparativo entre Pernambuco e os demais\n",
        "fig, (ax, ax1) = plt.subplots(nrows=1, ncols=2, figsize=(20, 5))\n",
        "fig.suptitle('COMPARATIVO DISTRIBUIÇÃO DA QUANTIDADE POR ANO')\n",
        "\n",
        "# demais locais\n",
        "ax.set_title('Total dos demais locais')\n",
        "ax.hist(df_fill_median['Ano Chegada'], color='#909090')\n",
        "ax.set_xlabel('Por ano')\n",
        "ax.set_ylabel('Quantidade')\n",
        "\n",
        "# pernambuco\n",
        "ax1.hist(df_pe['Ano Chegada'])\n",
        "ax1.set_title('Desembarque em Pernambuco')\n",
        "ax1.set_xlabel('Por ano')\n",
        "ax1.set_ylabel('Quantidade')\n",
        "\n",
        "plt.show()"
      ],
      "execution_count": 17,
      "outputs": [
        {
          "output_type": "display_data",
          "data": {
            "image/png": "[encoded data removed]",
            "text/plain": [
              "<Figure size 1440x360 with 2 Axes>"
            ]
          },
          "metadata": {
            "tags": [],
            "needs_background": "light"
          }
        }
      ]
    },
    {
      "cell_type": "markdown",
      "metadata": {
        "id": "X8TgDHzDpEOP"
      },
      "source": [
        "Com os dados distribuídos, é possível perceber que mais ou menos entre 1630 e 1660 em Pernanbuco, houve uma alta, possívelmente causado pela invasão Holandesa ao estado. Depois baixou e voltou a subir por volta de 1700. Já nos demais locais, a crescente se manteve ao passar do tempo, diminuindo apenas por volta de 1850."
      ]
    },
    {
      "cell_type": "code",
      "metadata": {
        "colab": {
          "base_uri": "https://localhost:8080/"
        },
        "id": "gL2s6oEH4YrU",
        "outputId": "72ae793b-182c-42e3-e985-a2948710dab0"
      },
      "source": [
        "# TOP10 maiores locais de aquisição\n",
        "df_fill_median['Local de aquisição'].value_counts()[:10]"
      ],
      "execution_count": 18,
      "outputs": [
        {
          "output_type": "execute_result",
          "data": {
            "text/plain": [
              "Africa.                               7910\n",
              "Luanda                                3623\n",
              "Costa da Mina                         2129\n",
              "West Central Africa and St. Helena    1833\n",
              "nan                                   1689\n",
              "Bonny                                 1228\n",
              "Gold Coast                            1138\n",
              "Whydah                                1112\n",
              "Calabar                                955\n",
              "Benguela                               930\n",
              "Name: Local de aquisição, dtype: int64"
            ]
          },
          "metadata": {
            "tags": []
          },
          "execution_count": 18
        }
      ]
    },
    {
      "cell_type": "code",
      "metadata": {
        "colab": {
          "base_uri": "https://localhost:8080/"
        },
        "id": "xUQJObV57TOR",
        "outputId": "2d139f65-7f5e-4b89-a975-37da5dc17957"
      },
      "source": [
        "# TOP10 maiores locais de desembarque\n",
        "df_fill_median['Local Desembarque'].value_counts()[:10]"
      ],
      "execution_count": 19,
      "outputs": [
        {
          "output_type": "execute_result",
          "data": {
            "text/plain": [
              "nan               4263\n",
              "Bahia             4223\n",
              "Rio de Janeiro    2887\n",
              "Barbados          2038\n",
              "Jamaica           1715\n",
              "Kingston          1622\n",
              "Pernambuco        1335\n",
              "Havana            1322\n",
              "Cap Francais      1127\n",
              "Charleston         811\n",
              "Name: Local Desembarque, dtype: int64"
            ]
          },
          "metadata": {
            "tags": []
          },
          "execution_count": 19
        }
      ]
    },
    {
      "cell_type": "code",
      "metadata": {
        "colab": {
          "base_uri": "https://localhost:8080/"
        },
        "id": "c1ckWdKRDfjb",
        "outputId": "85c64ad4-0ccf-4795-cf93-41b1a7c4e3b2"
      },
      "source": [
        "# TOP10 maiores locais de desembarque\n",
        "df_fill_median['Nome Capitão'].value_counts()[:10]"
      ],
      "execution_count": 20,
      "outputs": [
        {
          "output_type": "execute_result",
          "data": {
            "text/plain": [
              "Smith, John                 39\n",
              "Williams, William           27\n",
              "Simmons, John               22\n",
              "Garcia, Francisco Correa    22\n",
              "Brown, William              22\n",
              "Molyneux, Thomas            20\n",
              "Silva, José Leite da        20\n",
              "Kendall, John               20\n",
              "Brown, John                 19\n",
              "Silva, José Gonçalves da    18\n",
              "Name: Nome Capitão, dtype: int64"
            ]
          },
          "metadata": {
            "tags": []
          },
          "execution_count": 20
        }
      ]
    },
    {
      "cell_type": "markdown",
      "metadata": {
        "id": "lfUeOU3_SPYM"
      },
      "source": [
        "##Conclusão"
      ]
    },
    {
      "cell_type": "markdown",
      "metadata": {
        "id": "FF6tZIeWS5Oo"
      },
      "source": [
        "Belo trabalho realizado pelo grupo **Slave Voyages**, trabalho sério de levantamento de dados. Infelizmente, muitos foram foram perdidos, apagados para que não fosse possível identificar o real número pessoas negras traficadas. Mas deu para ter uma noção do quanto sofrimento provocado por humanos. "
      ]
    }
  ]
}