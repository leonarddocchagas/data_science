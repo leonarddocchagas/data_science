{
  "nbformat": 4,
  "nbformat_minor": 0,
  "metadata": {
    "colab": {
      "name": "Slave Voyages.ipynb",
      "provenance": [],
      "collapsed_sections": [],
      "authorship_tag": "ABX9TyMXVtxBhHu5B1t7ewB6iUMl",
      "include_colab_link": true
    },
    "kernelspec": {
      "name": "python3",
      "display_name": "Python 3"
    }
  },
  "cells": [
    {
      "cell_type": "markdown",
      "metadata": {
        "id": "view-in-github",
        "colab_type": "text"
      },
      "source": [
        "<a href=\"https://colab.research.google.com/github/leonarddocchagas/data_science/blob/master/Slave_Voyages.ipynb\" target=\"_parent\"><img src=\"https://colab.research.google.com/assets/colab-badge.svg\" alt=\"Open In Colab\"/></a>"
      ]
    },
    {
      "cell_type": "markdown",
      "metadata": {
        "id": "09_PNo8mlYUq"
      },
      "source": [
        "<img src=\"https://github.com/leonarddocchagas/data_science/blob/master/projetos/slavevoyages/SlaveVoyages.png?raw=true\" />"
      ]
    },
    {
      "cell_type": "markdown",
      "metadata": {
        "id": "Hcd6k9d4oVga"
      },
      "source": [
        "**Comércio Transatlântico de Escravos**"
      ]
    },
    {
      "cell_type": "markdown",
      "metadata": {
        "id": "YyNFuxzGomye"
      },
      "source": [
        "O site Slave Voyages, documentou e disponibilizou de forma digital, arquivos sobre esse triste período da história mundial e, em especial, para o Brasil, onde o tráfico negreiro perdurou até a criação da Lei Áurea de 1888. Existem registros de mercado de escravos, desde 1444 em Portugal. E existem registros bem antigos dessa prática, ainda em impérimos como o dos Romanos, Gregos, Árabes.  "
      ]
    },
    {
      "cell_type": "markdown",
      "metadata": {
        "id": "4pKFr2DZoo4u"
      },
      "source": [
        "### Sobre os dados"
      ]
    },
    {
      "cell_type": "markdown",
      "metadata": {
        "id": "uzHp0pKXo25k"
      },
      "source": [
        "  * Explorar a disperssão de Africanos escravizados pelo Atlântico\n",
        "    * https://www.slavevoyages.org/\n",
        "    * Dataset: https://www.slavevoyages.org/voyage/database "
      ]
    },
    {
      "cell_type": "markdown",
      "metadata": {
        "id": "xfG874oktVfk"
      },
      "source": [
        "## Obtenção e transformação dos dados"
      ]
    },
    {
      "cell_type": "markdown",
      "metadata": {
        "id": "jfTA7l5PBC6q"
      },
      "source": [
        "**Carrega e verifica dataset**"
      ]
    },
    {
      "cell_type": "code",
      "metadata": {
        "id": "D3ATKo8QiVtn"
      },
      "source": [
        "# importando bibliotecas\n",
        "import os\n",
        "import pandas as pd\n",
        "import matplotlib.pyplot as plt\n",
        "import seaborn as sns"
      ],
      "execution_count": 1,
      "outputs": []
    },
    {
      "cell_type": "code",
      "metadata": {
        "colab": {
          "base_uri": "https://localhost:8080/"
        },
        "id": "QTfelgPNuLiH",
        "outputId": "664e1102-a8a7-4cf1-c0ae-5afe82116557"
      },
      "source": [
        "# importando dados\n",
        "dataset = \"https://raw.githubusercontent.com/leonarddocchagas/data_science/master/projetos/slavevoyages/data_SlaveVoyages.csv\"\n",
        "df_raw = pd.read_csv(dataset)\n",
        "\n",
        "# entredas e variáveis\n",
        "print('Entradas: {}' .format(df_raw.shape[0]))\n",
        "print('Variáveis: {}' .format(df_raw.shape[1]))"
      ],
      "execution_count": 2,
      "outputs": [
        {
          "output_type": "stream",
          "text": [
            "Entradas: 36110\n",
            "Variáveis: 8\n"
          ],
          "name": "stdout"
        }
      ]
    },
    {
      "cell_type": "code",
      "metadata": {
        "colab": {
          "base_uri": "https://localhost:8080/",
          "height": 391
        },
        "id": "8RqbmrO2vGrL",
        "outputId": "7da6f3d5-38f0-4b6f-fdc1-e5d647184496"
      },
      "source": [
        "# carregando dataset\n",
        "df_raw.head()"
      ],
      "execution_count": 3,
      "outputs": [
        {
          "output_type": "execute_result",
          "data": {
            "text/html": [
              "<div>\n",
              "<style scoped>\n",
              "    .dataframe tbody tr th:only-of-type {\n",
              "        vertical-align: middle;\n",
              "    }\n",
              "\n",
              "    .dataframe tbody tr th {\n",
              "        vertical-align: top;\n",
              "    }\n",
              "\n",
              "    .dataframe thead th {\n",
              "        text-align: right;\n",
              "    }\n",
              "</style>\n",
              "<table border=\"1\" class=\"dataframe\">\n",
              "  <thead>\n",
              "    <tr style=\"text-align: right;\">\n",
              "      <th></th>\n",
              "      <th>Identidade da viagem</th>\n",
              "      <th>Vessel name</th>\n",
              "      <th>Voyage itinerary imputed port where began (ptdepimp) place</th>\n",
              "      <th>Voyage itinerary imputed principal place of slave purchase (mjbyptimp)</th>\n",
              "      <th>Voyage itinerary imputed principal port of slave disembarkation (mjslptimp) place</th>\n",
              "      <th>Year of arrival at port of disembarkation</th>\n",
              "      <th>Slaves arrived at 1st port</th>\n",
              "      <th>Captain's name</th>\n",
              "    </tr>\n",
              "  </thead>\n",
              "  <tbody>\n",
              "    <tr>\n",
              "      <th>0</th>\n",
              "      <td>10354</td>\n",
              "      <td>Wakende Kraan</td>\n",
              "      <td>Hellevoetsluis</td>\n",
              "      <td>Elmina</td>\n",
              "      <td>Curacao</td>\n",
              "      <td>1706</td>\n",
              "      <td>177.0</td>\n",
              "      <td>Hoeven, Jan van der&lt;br/&gt; Wenman, Roelof</td>\n",
              "    </tr>\n",
              "    <tr>\n",
              "      <th>1</th>\n",
              "      <td>10355</td>\n",
              "      <td>Wapen van Amsterdam</td>\n",
              "      <td>NaN</td>\n",
              "      <td>Ardra</td>\n",
              "      <td>NaN</td>\n",
              "      <td>1685</td>\n",
              "      <td>NaN</td>\n",
              "      <td>NaN</td>\n",
              "    </tr>\n",
              "    <tr>\n",
              "      <th>2</th>\n",
              "      <td>10356</td>\n",
              "      <td>Wapen van Amsterdam</td>\n",
              "      <td>Texel</td>\n",
              "      <td>Gold Coast, port unspecified</td>\n",
              "      <td>Curacao</td>\n",
              "      <td>1688</td>\n",
              "      <td>NaN</td>\n",
              "      <td>Scheij, Pieter</td>\n",
              "    </tr>\n",
              "    <tr>\n",
              "      <th>3</th>\n",
              "      <td>10357</td>\n",
              "      <td>Wapen van Holland (a) Hollandia</td>\n",
              "      <td>Hellevoetsluis</td>\n",
              "      <td>Whydah</td>\n",
              "      <td>Curacao</td>\n",
              "      <td>1701</td>\n",
              "      <td>459.0</td>\n",
              "      <td>Stoop, Pieter&lt;br/&gt; Crans, Pieter</td>\n",
              "    </tr>\n",
              "    <tr>\n",
              "      <th>4</th>\n",
              "      <td>10358</td>\n",
              "      <td>Wapen van Holland (a) Hollandia</td>\n",
              "      <td>Hellevoetsluis</td>\n",
              "      <td>Whydah</td>\n",
              "      <td>Suriname</td>\n",
              "      <td>1702</td>\n",
              "      <td>386.0</td>\n",
              "      <td>Crans, Pieter</td>\n",
              "    </tr>\n",
              "  </tbody>\n",
              "</table>\n",
              "</div>"
            ],
            "text/plain": [
              "   Identidade da viagem  ...                           Captain's name\n",
              "0                 10354  ...  Hoeven, Jan van der<br/> Wenman, Roelof\n",
              "1                 10355  ...                                      NaN\n",
              "2                 10356  ...                           Scheij, Pieter\n",
              "3                 10357  ...         Stoop, Pieter<br/> Crans, Pieter\n",
              "4                 10358  ...                            Crans, Pieter\n",
              "\n",
              "[5 rows x 8 columns]"
            ]
          },
          "metadata": {
            "tags": []
          },
          "execution_count": 3
        }
      ]
    },
    {
      "cell_type": "code",
      "metadata": {
        "colab": {
          "base_uri": "https://localhost:8080/"
        },
        "id": "qZhChrM0VtOm",
        "outputId": "4e86ed6c-8263-40b8-c458-0431d43077f4"
      },
      "source": [
        "# verificando os tipos de dados\n",
        "df_raw.dtypes"
      ],
      "execution_count": 4,
      "outputs": [
        {
          "output_type": "execute_result",
          "data": {
            "text/plain": [
              "Identidade da viagem                                                                   int64\n",
              "Vessel name                                                                           object\n",
              "Voyage itinerary imputed port where began (ptdepimp) place                            object\n",
              "Voyage itinerary imputed principal place of slave purchase (mjbyptimp)                object\n",
              "Voyage itinerary imputed principal port of slave disembarkation (mjslptimp) place     object\n",
              "Year of arrival at port of disembarkation                                              int64\n",
              "Slaves arrived at 1st port                                                           float64\n",
              "Captain's name                                                                        object\n",
              "dtype: object"
            ]
          },
          "metadata": {
            "tags": []
          },
          "execution_count": 4
        }
      ]
    },
    {
      "cell_type": "code",
      "metadata": {
        "colab": {
          "base_uri": "https://localhost:8080/"
        },
        "id": "7_vBZSagR4No",
        "outputId": "7b13a3cd-7b76-4635-a60d-3fad85b772b6"
      },
      "source": [
        "# dados ausentes\n",
        "df_raw.isnull().sum() / df_raw.shape[0] "
      ],
      "execution_count": 5,
      "outputs": [
        {
          "output_type": "execute_result",
          "data": {
            "text/plain": [
              "Identidade da viagem                                                                 0.000000\n",
              "Vessel name                                                                          0.000083\n",
              "Voyage itinerary imputed port where began (ptdepimp) place                           0.123705\n",
              "Voyage itinerary imputed principal place of slave purchase (mjbyptimp)               0.046774\n",
              "Voyage itinerary imputed principal port of slave disembarkation (mjslptimp) place    0.118056\n",
              "Year of arrival at port of disembarkation                                            0.000000\n",
              "Slaves arrived at 1st port                                                           0.491387\n",
              "Captain's name                                                                       0.112323\n",
              "dtype: float64"
            ]
          },
          "metadata": {
            "tags": []
          },
          "execution_count": 5
        }
      ]
    },
    {
      "cell_type": "markdown",
      "metadata": {
        "id": "--DyE2CoSRy-"
      },
      "source": [
        "Em nosso dataset, identificamos que na métrica `Slaves arrived at 1st port`, que contém a quantidade de escravos, está com quase 50% dos dados ausentes. Isso dificulta nossa análise, uma vez que, nessa situação, será necessário excluir as entradas sem valor, que seria uma grande perda ou preencher com a média, médiana ou outros técnicas. "
      ]
    },
    {
      "cell_type": "markdown",
      "metadata": {
        "id": "j-okTEpKBT0S"
      },
      "source": [
        "**Transformação**"
      ]
    },
    {
      "cell_type": "markdown",
      "metadata": {
        "id": "WMxBxMFs5APJ"
      },
      "source": [
        "Para falicitar nas análises, vamos diminuir o tamanho do nome das columas e também, trazer para o português. Vamos criar um novo Dataset e manter o original, que servirá para consultas futuras."
      ]
    },
    {
      "cell_type": "code",
      "metadata": {
        "colab": {
          "base_uri": "https://localhost:8080/",
          "height": 289
        },
        "id": "3WJAbWG_5L_O",
        "outputId": "66dabfe1-cdfe-4de8-cad8-6771ead6dc59"
      },
      "source": [
        "# Dataset redução e tradução de colunas\n",
        "df = df_raw.rename(columns={'Vessel name': 'Nome Embarcação', \n",
        "                            'Voyage itinerary imputed port where began (ptdepimp) place':'Porto onde viagem começou',\n",
        "                            'Voyage itinerary imputed principal place of slave purchase (mjbyptimp) ':'Local de aquisição',\n",
        "                            'Voyage itinerary imputed principal port of slave disembarkation (mjslptimp) place': 'Local Desembarque',\n",
        "                            'Year of arrival at port of disembarkation': 'Ano Chegada',\n",
        "                            'Slaves arrived at 1st port':'Qtde.',\n",
        "                            \"Captain's name\":'Nome Capitão'})\n",
        "\n",
        "\n",
        "# carregando dataset\n",
        "df.head()"
      ],
      "execution_count": 7,
      "outputs": [
        {
          "output_type": "execute_result",
          "data": {
            "text/html": [
              "<div>\n",
              "<style scoped>\n",
              "    .dataframe tbody tr th:only-of-type {\n",
              "        vertical-align: middle;\n",
              "    }\n",
              "\n",
              "    .dataframe tbody tr th {\n",
              "        vertical-align: top;\n",
              "    }\n",
              "\n",
              "    .dataframe thead th {\n",
              "        text-align: right;\n",
              "    }\n",
              "</style>\n",
              "<table border=\"1\" class=\"dataframe\">\n",
              "  <thead>\n",
              "    <tr style=\"text-align: right;\">\n",
              "      <th></th>\n",
              "      <th>Identidade da viagem</th>\n",
              "      <th>Nome Embarcação</th>\n",
              "      <th>Porto onde viagem começou</th>\n",
              "      <th>Local de aquisição</th>\n",
              "      <th>Local Desembarque</th>\n",
              "      <th>Ano Chegada</th>\n",
              "      <th>Qtde.</th>\n",
              "      <th>Nome Capitão</th>\n",
              "    </tr>\n",
              "  </thead>\n",
              "  <tbody>\n",
              "    <tr>\n",
              "      <th>0</th>\n",
              "      <td>10354</td>\n",
              "      <td>Wakende Kraan</td>\n",
              "      <td>Hellevoetsluis</td>\n",
              "      <td>Elmina</td>\n",
              "      <td>Curacao</td>\n",
              "      <td>1706</td>\n",
              "      <td>177.0</td>\n",
              "      <td>Hoeven, Jan van der&lt;br/&gt; Wenman, Roelof</td>\n",
              "    </tr>\n",
              "    <tr>\n",
              "      <th>1</th>\n",
              "      <td>10355</td>\n",
              "      <td>Wapen van Amsterdam</td>\n",
              "      <td>NaN</td>\n",
              "      <td>Ardra</td>\n",
              "      <td>NaN</td>\n",
              "      <td>1685</td>\n",
              "      <td>NaN</td>\n",
              "      <td>NaN</td>\n",
              "    </tr>\n",
              "    <tr>\n",
              "      <th>2</th>\n",
              "      <td>10356</td>\n",
              "      <td>Wapen van Amsterdam</td>\n",
              "      <td>Texel</td>\n",
              "      <td>Gold Coast, port unspecified</td>\n",
              "      <td>Curacao</td>\n",
              "      <td>1688</td>\n",
              "      <td>NaN</td>\n",
              "      <td>Scheij, Pieter</td>\n",
              "    </tr>\n",
              "    <tr>\n",
              "      <th>3</th>\n",
              "      <td>10357</td>\n",
              "      <td>Wapen van Holland (a) Hollandia</td>\n",
              "      <td>Hellevoetsluis</td>\n",
              "      <td>Whydah</td>\n",
              "      <td>Curacao</td>\n",
              "      <td>1701</td>\n",
              "      <td>459.0</td>\n",
              "      <td>Stoop, Pieter&lt;br/&gt; Crans, Pieter</td>\n",
              "    </tr>\n",
              "    <tr>\n",
              "      <th>4</th>\n",
              "      <td>10358</td>\n",
              "      <td>Wapen van Holland (a) Hollandia</td>\n",
              "      <td>Hellevoetsluis</td>\n",
              "      <td>Whydah</td>\n",
              "      <td>Suriname</td>\n",
              "      <td>1702</td>\n",
              "      <td>386.0</td>\n",
              "      <td>Crans, Pieter</td>\n",
              "    </tr>\n",
              "  </tbody>\n",
              "</table>\n",
              "</div>"
            ],
            "text/plain": [
              "   Identidade da viagem  ...                             Nome Capitão\n",
              "0                 10354  ...  Hoeven, Jan van der<br/> Wenman, Roelof\n",
              "1                 10355  ...                                      NaN\n",
              "2                 10356  ...                           Scheij, Pieter\n",
              "3                 10357  ...         Stoop, Pieter<br/> Crans, Pieter\n",
              "4                 10358  ...                            Crans, Pieter\n",
              "\n",
              "[5 rows x 8 columns]"
            ]
          },
          "metadata": {
            "tags": []
          },
          "execution_count": 7
        }
      ]
    },
    {
      "cell_type": "markdown",
      "metadata": {
        "id": "WpdLr6-B0qsM"
      },
      "source": [
        "Na exibição das 5 primeiras linhas, em algumas colunas `Local de aquisição`, `Nome Capitão`, conteúdo como: (', port unspecified') que polui a visuazliação e não contribui em nada. Vamos limpar. "
      ]
    },
    {
      "cell_type": "code",
      "metadata": {
        "id": "Bue1wwKL1e4h"
      },
      "source": [
        "# retirando 'lixo' das entradas\n",
        "df['Local Desembarque'] = df['Local Desembarque'].apply(lambda x: str(x).replace(', port unspecified', ''))\n",
        "df['Local de aquisição'] = df['Local de aquisição'].apply(lambda x: str(x).replace(', port unspecified', ''))\n",
        "df['Porto onde viagem começou'] = df['Porto onde viagem começou'].apply(lambda x: str(x).replace(', port unspecified', ''))"
      ],
      "execution_count": 8,
      "outputs": []
    },
    {
      "cell_type": "markdown",
      "metadata": {
        "id": "JOlmhouWW467"
      },
      "source": [
        "Para dados ausentes, vamos criar mais dois novos datasets e aplicar diferentes técnicas. No `df_clean`, vamos remover os ausentes. No `df_fill_median`, vamos preencher com a mediana. Assim, ao final, podemos comparar os resultados."
      ]
    },
    {
      "cell_type": "code",
      "metadata": {
        "id": "95LDIId-ZpnF"
      },
      "source": [
        "# criando dois novos datasets\n",
        "df_clean = df.copy()\n",
        "df_fill_median = df.copy()"
      ],
      "execution_count": 10,
      "outputs": []
    },
    {
      "cell_type": "code",
      "metadata": {
        "id": "gvBj4n3eXn7C",
        "colab": {
          "base_uri": "https://localhost:8080/"
        },
        "outputId": "fcf7970c-b6fd-4171-fa67-657092ee15e2"
      },
      "source": [
        "# verificando dados ausentes\n",
        "df.isnull().sum() / df.shape[0]"
      ],
      "execution_count": 11,
      "outputs": [
        {
          "output_type": "execute_result",
          "data": {
            "text/plain": [
              "Identidade da viagem         0.000000\n",
              "Nome Embarcação              0.000083\n",
              "Porto onde viagem começou    0.000000\n",
              "Local de aquisição           0.000000\n",
              "Local Desembarque            0.000000\n",
              "Ano Chegada                  0.000000\n",
              "Qtde.                        0.491387\n",
              "Nome Capitão                 0.112323\n",
              "dtype: float64"
            ]
          },
          "metadata": {
            "tags": []
          },
          "execution_count": 11
        }
      ]
    },
    {
      "cell_type": "code",
      "metadata": {
        "id": "NP9rZmYcWuTP",
        "colab": {
          "base_uri": "https://localhost:8080/"
        },
        "outputId": "013c07b8-456c-4638-e565-2c8f684c3583"
      },
      "source": [
        "# Excluir dados ausentes\n",
        "df_clean = df_clean.dropna(subset=['Qtde.'], axis=0)\n",
        "\n",
        "# exibi primeiras linhas\n",
        "df_clean.isnull().sum()"
      ],
      "execution_count": 14,
      "outputs": [
        {
          "output_type": "execute_result",
          "data": {
            "text/plain": [
              "Identidade da viagem            0\n",
              "Nome Embarcação                 0\n",
              "Porto onde viagem começou       0\n",
              "Local de aquisição              0\n",
              "Local Desembarque               0\n",
              "Ano Chegada                     0\n",
              "Qtde.                           0\n",
              "Nome Capitão                 1626\n",
              "dtype: int64"
            ]
          },
          "metadata": {
            "tags": []
          },
          "execution_count": 14
        }
      ]
    },
    {
      "cell_type": "code",
      "metadata": {
        "colab": {
          "base_uri": "https://localhost:8080/"
        },
        "id": "bby41fpNsWcv",
        "outputId": "f0b58c31-b1b6-47b3-e841-d2d841379d99"
      },
      "source": [
        "# preencher dados ausentes com a mediana\n",
        "rd_median = df_fill_median['Qtde.'].median()\n",
        "df_fill_median = df_fill_median.fillna({'Qtde.': rd_median})\n",
        "\n",
        "# exibi primeiras linhas\n",
        "df_fill_median.isnull().sum()"
      ],
      "execution_count": 17,
      "outputs": [
        {
          "output_type": "execute_result",
          "data": {
            "text/plain": [
              "Identidade da viagem            0\n",
              "Nome Embarcação                 3\n",
              "Porto onde viagem começou       0\n",
              "Local de aquisição              0\n",
              "Local Desembarque               0\n",
              "Ano Chegada                     0\n",
              "Qtde.                           0\n",
              "Nome Capitão                 4056\n",
              "dtype: int64"
            ]
          },
          "metadata": {
            "tags": []
          },
          "execution_count": 17
        }
      ]
    },
    {
      "cell_type": "code",
      "metadata": {
        "colab": {
          "base_uri": "https://localhost:8080/"
        },
        "id": "hGC0chE5ZMG9",
        "outputId": "b1326257-9c5d-4f19-b2c1-c77cb31c30e8"
      },
      "source": [
        "# Verificando tipo de dados\n",
        "df_fill_median.dtypes"
      ],
      "execution_count": 20,
      "outputs": [
        {
          "output_type": "execute_result",
          "data": {
            "text/plain": [
              "Identidade da viagem           int64\n",
              "Nome Embarcação               object\n",
              "Porto onde viagem começou     object\n",
              "Local de aquisição            object\n",
              "Local Desembarque             object\n",
              "Ano Chegada                    int64\n",
              "Qtde.                        float64\n",
              "Nome Capitão                  object\n",
              "dtype: object"
            ]
          },
          "metadata": {
            "tags": []
          },
          "execution_count": 20
        }
      ]
    },
    {
      "cell_type": "code",
      "metadata": {
        "id": "NuruK2bDZcdC"
      },
      "source": [
        "# converter tipo object to category\n",
        "df_fill_median['Identidade da viagem'] = pd.Categorical(df_fill_median['Identidade da viagem'])\n",
        "df_fill_median['Nome Embarcação'] = pd.Categorical(df_fill_median['Nome Embarcação'])\n",
        "df_fill_median['Porto onde viagem começou'] = pd.Categorical(df_fill_median['Porto onde viagem começou'])\n",
        "df_fill_median['Local de aquisição'] = pd.Categorical(df_fill_median['Local de aquisição'])\n",
        "df_fill_median['Local Desembarque'] = pd.Categorical(df_fill_median['Local Desembarque'])\n",
        "df_fill_median['Nome Capitão'] = pd.Categorical(df_fill_median['Nome Capitão'])\n",
        "df_fill_median['Qtde.'] = df_fill_median['Qtde.'].astype('int64')"
      ],
      "execution_count": 21,
      "outputs": []
    },
    {
      "cell_type": "code",
      "metadata": {
        "colab": {
          "base_uri": "https://localhost:8080/"
        },
        "id": "kVhea49JtpKy",
        "outputId": "fd0f629f-b869-477f-ab40-1661cac44cf6"
      },
      "source": [
        "# verificando conversão\n",
        "df_fill_median.dtypes"
      ],
      "execution_count": 22,
      "outputs": [
        {
          "output_type": "execute_result",
          "data": {
            "text/plain": [
              "Identidade da viagem         category\n",
              "Nome Embarcação              category\n",
              "Porto onde viagem começou    category\n",
              "Local de aquisição           category\n",
              "Local Desembarque            category\n",
              "Ano Chegada                     int64\n",
              "Qtde.                           int64\n",
              "Nome Capitão                 category\n",
              "dtype: object"
            ]
          },
          "metadata": {
            "tags": []
          },
          "execution_count": 22
        }
      ]
    },
    {
      "cell_type": "markdown",
      "metadata": {
        "id": "AopmshGf9_2D"
      },
      "source": [
        "## Visualização"
      ]
    },
    {
      "cell_type": "code",
      "metadata": {
        "id": "BdBBiIMeXo-s",
        "colab": {
          "base_uri": "https://localhost:8080/"
        },
        "outputId": "f6ec8a19-fce5-4214-b50d-840a7527ae4c"
      },
      "source": [
        "df_fill_median['Local Desembarque'].value_counts()[:10]"
      ],
      "execution_count": 23,
      "outputs": [
        {
          "output_type": "execute_result",
          "data": {
            "text/plain": [
              "nan               4263\n",
              "Bahia             4223\n",
              "Rio de Janeiro    2887\n",
              "Barbados          2038\n",
              "Jamaica           1715\n",
              "Kingston          1622\n",
              "Pernambuco        1335\n",
              "Havana            1322\n",
              "Cap Francais      1127\n",
              "Charleston         811\n",
              "Name: Local Desembarque, dtype: int64"
            ]
          },
          "metadata": {
            "tags": []
          },
          "execution_count": 23
        }
      ]
    },
    {
      "cell_type": "code",
      "metadata": {
        "colab": {
          "base_uri": "https://localhost:8080/",
          "height": 272
        },
        "id": "RQqxI7gPt64S",
        "outputId": "e0a0a16e-cbfa-42da-fadb-78d0b9f7c9bc"
      },
      "source": [
        "df_fill_median.head()"
      ],
      "execution_count": 24,
      "outputs": [
        {
          "output_type": "execute_result",
          "data": {
            "text/html": [
              "<div>\n",
              "<style scoped>\n",
              "    .dataframe tbody tr th:only-of-type {\n",
              "        vertical-align: middle;\n",
              "    }\n",
              "\n",
              "    .dataframe tbody tr th {\n",
              "        vertical-align: top;\n",
              "    }\n",
              "\n",
              "    .dataframe thead th {\n",
              "        text-align: right;\n",
              "    }\n",
              "</style>\n",
              "<table border=\"1\" class=\"dataframe\">\n",
              "  <thead>\n",
              "    <tr style=\"text-align: right;\">\n",
              "      <th></th>\n",
              "      <th>Identidade da viagem</th>\n",
              "      <th>Nome Embarcação</th>\n",
              "      <th>Porto onde viagem começou</th>\n",
              "      <th>Local de aquisição</th>\n",
              "      <th>Local Desembarque</th>\n",
              "      <th>Ano Chegada</th>\n",
              "      <th>Qtde.</th>\n",
              "      <th>Nome Capitão</th>\n",
              "    </tr>\n",
              "  </thead>\n",
              "  <tbody>\n",
              "    <tr>\n",
              "      <th>0</th>\n",
              "      <td>10354</td>\n",
              "      <td>Wakende Kraan</td>\n",
              "      <td>Hellevoetsluis</td>\n",
              "      <td>Elmina</td>\n",
              "      <td>Curacao</td>\n",
              "      <td>1706</td>\n",
              "      <td>177</td>\n",
              "      <td>Hoeven, Jan van der&lt;br/&gt; Wenman, Roelof</td>\n",
              "    </tr>\n",
              "    <tr>\n",
              "      <th>1</th>\n",
              "      <td>10355</td>\n",
              "      <td>Wapen van Amsterdam</td>\n",
              "      <td>nan</td>\n",
              "      <td>Ardra</td>\n",
              "      <td>nan</td>\n",
              "      <td>1685</td>\n",
              "      <td>253</td>\n",
              "      <td>NaN</td>\n",
              "    </tr>\n",
              "    <tr>\n",
              "      <th>2</th>\n",
              "      <td>10356</td>\n",
              "      <td>Wapen van Amsterdam</td>\n",
              "      <td>Texel</td>\n",
              "      <td>Gold Coast</td>\n",
              "      <td>Curacao</td>\n",
              "      <td>1688</td>\n",
              "      <td>253</td>\n",
              "      <td>Scheij, Pieter</td>\n",
              "    </tr>\n",
              "    <tr>\n",
              "      <th>3</th>\n",
              "      <td>10357</td>\n",
              "      <td>Wapen van Holland (a) Hollandia</td>\n",
              "      <td>Hellevoetsluis</td>\n",
              "      <td>Whydah</td>\n",
              "      <td>Curacao</td>\n",
              "      <td>1701</td>\n",
              "      <td>459</td>\n",
              "      <td>Stoop, Pieter&lt;br/&gt; Crans, Pieter</td>\n",
              "    </tr>\n",
              "    <tr>\n",
              "      <th>4</th>\n",
              "      <td>10358</td>\n",
              "      <td>Wapen van Holland (a) Hollandia</td>\n",
              "      <td>Hellevoetsluis</td>\n",
              "      <td>Whydah</td>\n",
              "      <td>Suriname</td>\n",
              "      <td>1702</td>\n",
              "      <td>386</td>\n",
              "      <td>Crans, Pieter</td>\n",
              "    </tr>\n",
              "  </tbody>\n",
              "</table>\n",
              "</div>"
            ],
            "text/plain": [
              "  Identidade da viagem  ...                             Nome Capitão\n",
              "0                10354  ...  Hoeven, Jan van der<br/> Wenman, Roelof\n",
              "1                10355  ...                                      NaN\n",
              "2                10356  ...                           Scheij, Pieter\n",
              "3                10357  ...         Stoop, Pieter<br/> Crans, Pieter\n",
              "4                10358  ...                            Crans, Pieter\n",
              "\n",
              "[5 rows x 8 columns]"
            ]
          },
          "metadata": {
            "tags": []
          },
          "execution_count": 24
        }
      ]
    },
    {
      "cell_type": "code",
      "metadata": {
        "id": "YvuQaxBtxYLV"
      },
      "source": [
        ""
      ],
      "execution_count": null,
      "outputs": []
    },
    {
      "cell_type": "code",
      "metadata": {
        "id": "CRNa4k7mxYOK"
      },
      "source": [
        ""
      ],
      "execution_count": null,
      "outputs": []
    },
    {
      "cell_type": "code",
      "metadata": {
        "id": "W4a7jEtJxYQ6"
      },
      "source": [
        ""
      ],
      "execution_count": null,
      "outputs": []
    },
    {
      "cell_type": "code",
      "metadata": {
        "id": "geI3ztGZxYS0"
      },
      "source": [
        ""
      ],
      "execution_count": null,
      "outputs": []
    },
    {
      "cell_type": "code",
      "metadata": {
        "id": "gpHhlLWxuDrH"
      },
      "source": [
        ""
      ],
      "execution_count": null,
      "outputs": []
    },
    {
      "cell_type": "code",
      "metadata": {
        "id": "pCYs5bvnfTgX"
      },
      "source": [
        "fig, (ax, ax1) = plt.subplots(nrows=1, ncols=2, figsize=(10, 5))\n",
        "\n",
        "ax.bar(df['Ano Chegada'], df['Qtde.'])\n",
        "\n",
        "\n",
        "plt.show()"
      ],
      "execution_count": null,
      "outputs": []
    },
    {
      "cell_type": "code",
      "metadata": {
        "id": "6VdeKc6pgIok"
      },
      "source": [
        "df.groupby(df['Ano Chegada']).sum()[:5].plot(kind='barh', figsize=(15, 2));"
      ],
      "execution_count": null,
      "outputs": []
    },
    {
      "cell_type": "code",
      "metadata": {
        "id": "fgM6ViPVRCyZ"
      },
      "source": [
        "df.columns"
      ],
      "execution_count": null,
      "outputs": []
    },
    {
      "cell_type": "code",
      "metadata": {
        "id": "U29PD7iDRPSL"
      },
      "source": [
        "df['Local Desembarque'].value_counts()[:10]"
      ],
      "execution_count": null,
      "outputs": []
    },
    {
      "cell_type": "code",
      "metadata": {
        "id": "3z-6fay3bzNl"
      },
      "source": [
        "df['Local Desembarque'] = df['Local Desembarque'].str.replace(', port unspecified', '').value_counts()[:10]"
      ],
      "execution_count": null,
      "outputs": []
    },
    {
      "cell_type": "code",
      "metadata": {
        "id": "aLY75KPjcTVF"
      },
      "source": [
        "df_teste = df.copy()"
      ],
      "execution_count": null,
      "outputs": []
    },
    {
      "cell_type": "code",
      "metadata": {
        "id": "2Y1PZ91UcyBR"
      },
      "source": [
        "df_teste.dtypes"
      ],
      "execution_count": null,
      "outputs": []
    },
    {
      "cell_type": "code",
      "metadata": {
        "id": "PnLUsVfVCnSk"
      },
      "source": [
        "df_teste['Qtde.'] = df_teste['Qtde.'].replace(to_replace='NaN', value=1)"
      ],
      "execution_count": null,
      "outputs": []
    },
    {
      "cell_type": "code",
      "metadata": {
        "id": "ll6IrMSGD0Iw"
      },
      "source": [
        "df_teste_clean = df_teste.dropna(subset=['Qtde.'], axis=0)"
      ],
      "execution_count": null,
      "outputs": []
    },
    {
      "cell_type": "code",
      "metadata": {
        "id": "25blMRDLDBBu"
      },
      "source": [
        "df_teste_clean.head()"
      ],
      "execution_count": null,
      "outputs": []
    },
    {
      "cell_type": "code",
      "metadata": {
        "id": "Sse9zZk8IF0C"
      },
      "source": [
        "df_teste_clean['Nome Embarcação'] = pd.Categorical(df_teste_clean['Nome Embarcação'])"
      ],
      "execution_count": null,
      "outputs": []
    },
    {
      "cell_type": "code",
      "metadata": {
        "id": "OyNldkC-FSqN"
      },
      "source": [
        "df_teste_clean.dtypes"
      ],
      "execution_count": null,
      "outputs": []
    },
    {
      "cell_type": "code",
      "metadata": {
        "id": "suhuLtUdFW7k"
      },
      "source": [
        "df_teste_clean['Qtde.'] = df_teste_clean['Qtde.'].astype('int64')"
      ],
      "execution_count": null,
      "outputs": []
    },
    {
      "cell_type": "code",
      "metadata": {
        "id": "9TPUmFDFHkdv"
      },
      "source": [
        "fig, ax = plt.subplots(figsize=(10, 5))\n",
        "\n",
        "ax.bar(df_teste_clean['Local Desembarque'], df_teste_clean['Qtde.'])\n",
        "\n",
        "\n",
        "plt.show()"
      ],
      "execution_count": null,
      "outputs": []
    },
    {
      "cell_type": "code",
      "metadata": {
        "id": "zzqk_5NMcAkA"
      },
      "source": [
        "df_teste['Local Desembarque'] = df_teste['Local Desembarque'].apply(lambda x: str(x).replace(', port unspecified', ''))"
      ],
      "execution_count": null,
      "outputs": []
    },
    {
      "cell_type": "code",
      "metadata": {
        "id": "wQLEzOdYc4X4"
      },
      "source": [
        "df_teste['Local Desembarque'].value_counts()[:10].plot(kind='barh');"
      ],
      "execution_count": null,
      "outputs": []
    },
    {
      "cell_type": "code",
      "metadata": {
        "id": "WF8ulMsgB1f2"
      },
      "source": [
        "df_teste.head()"
      ],
      "execution_count": null,
      "outputs": []
    },
    {
      "cell_type": "code",
      "metadata": {
        "id": "UH7VNuhceJoR"
      },
      "source": [
        "df_teste['Local de aquisição'] = df_teste['Local de aquisição'].apply(lambda x: x.replace(', port unspecified', ''))"
      ],
      "execution_count": null,
      "outputs": []
    },
    {
      "cell_type": "code",
      "metadata": {
        "id": "SWORi0GBerYR"
      },
      "source": [
        "df_teste['Local de aquisição'].value_counts()[:10].plot(kind='barh')"
      ],
      "execution_count": null,
      "outputs": []
    },
    {
      "cell_type": "code",
      "metadata": {
        "id": "T0hhHt5Of7H0"
      },
      "source": [
        "df_teste['Qtde.'].apply(lambda x: int(x))"
      ],
      "execution_count": null,
      "outputs": []
    },
    {
      "cell_type": "code",
      "metadata": {
        "id": "oM91iLR0f1vh"
      },
      "source": [
        "df_teste['Qtde.'].dtypes"
      ],
      "execution_count": null,
      "outputs": []
    },
    {
      "cell_type": "code",
      "metadata": {
        "id": "xJgehP4He65Y"
      },
      "source": [
        "fig, (ax, ax1) = plt.subplots(nrows=1, ncols=2)\n",
        "\n",
        "ax.barh(df_teste['Local de aquisição'], df_teste['Qtde.'])\n",
        "\n",
        "\n",
        "plt.show()"
      ],
      "execution_count": null,
      "outputs": []
    },
    {
      "cell_type": "code",
      "metadata": {
        "id": "qEtPTVPXfZHQ"
      },
      "source": [
        "df_teste.dtypes"
      ],
      "execution_count": null,
      "outputs": []
    }
  ]
}