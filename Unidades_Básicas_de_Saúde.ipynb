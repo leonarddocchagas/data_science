{
  "nbformat": 4,
  "nbformat_minor": 0,
  "metadata": {
    "colab": {
      "name": "Unidades Básicas de Saúde.ipynb",
      "provenance": [],
      "authorship_tag": "ABX9TyMUzINqaF2lIzIZM+M51kHj",
      "include_colab_link": true
    },
    "kernelspec": {
      "name": "python3",
      "display_name": "Python 3"
    }
  },
  "cells": [
    {
      "cell_type": "markdown",
      "metadata": {
        "id": "view-in-github",
        "colab_type": "text"
      },
      "source": [
        "<a href=\"https://colab.research.google.com/github/leonarddocchagas/data_science/blob/master/Unidades_B%C3%A1sicas_de_Sa%C3%BAde.ipynb\" target=\"_parent\"><img src=\"https://colab.research.google.com/assets/colab-badge.svg\" alt=\"Open In Colab\"/></a>"
      ]
    },
    {
      "cell_type": "code",
      "metadata": {
        "id": "vCZNAHkaYO8k",
        "colab_type": "code",
        "colab": {}
      },
      "source": [
        "# bibliotecas\n",
        "import pandas as pd"
      ],
      "execution_count": 2,
      "outputs": []
    },
    {
      "cell_type": "code",
      "metadata": {
        "id": "SaONPgaEbVHA",
        "colab_type": "code",
        "colab": {
          "base_uri": "https://localhost:8080/",
          "height": 513
        },
        "outputId": "b2753e54-e9f1-4b40-ed3a-c0a18d235fdf"
      },
      "source": [
        "df = pd.read_csv('https://raw.githubusercontent.com/leonarddocchagas/data_science/master/projetos/unidades_basicas_de_saude/ubs.csv')\n",
        "df.head()"
      ],
      "execution_count": 6,
      "outputs": [
        {
          "output_type": "execute_result",
          "data": {
            "text/html": [
              "<div>\n",
              "<style scoped>\n",
              "    .dataframe tbody tr th:only-of-type {\n",
              "        vertical-align: middle;\n",
              "    }\n",
              "\n",
              "    .dataframe tbody tr th {\n",
              "        vertical-align: top;\n",
              "    }\n",
              "\n",
              "    .dataframe thead th {\n",
              "        text-align: right;\n",
              "    }\n",
              "</style>\n",
              "<table border=\"1\" class=\"dataframe\">\n",
              "  <thead>\n",
              "    <tr style=\"text-align: right;\">\n",
              "      <th></th>\n",
              "      <th>vlr_latitude</th>\n",
              "      <th>vlr_longitude</th>\n",
              "      <th>cod_munic</th>\n",
              "      <th>cod_cnes</th>\n",
              "      <th>nom_estab</th>\n",
              "      <th>dsc_endereco</th>\n",
              "      <th>dsc_bairro</th>\n",
              "      <th>dsc_cidade</th>\n",
              "      <th>dsc_telefone</th>\n",
              "      <th>dsc_estrut_fisic_ambiencia</th>\n",
              "      <th>dsc_adap_defic_fisic_idosos</th>\n",
              "      <th>dsc_equipamentos</th>\n",
              "      <th>dsc_medicamentos</th>\n",
              "    </tr>\n",
              "  </thead>\n",
              "  <tbody>\n",
              "    <tr>\n",
              "      <th>0</th>\n",
              "      <td>-10.911237</td>\n",
              "      <td>-37.062078</td>\n",
              "      <td>280030</td>\n",
              "      <td>3492</td>\n",
              "      <td>US OSWALDO DE SOUZA</td>\n",
              "      <td>TV ADALTO BOTELHO</td>\n",
              "      <td>GETULIO VARGAS</td>\n",
              "      <td>Aracaju</td>\n",
              "      <td>7931791326</td>\n",
              "      <td>Desempenho acima da média</td>\n",
              "      <td>Desempenho muito acima da média</td>\n",
              "      <td>Desempenho mediano ou  um pouco abaixo da média</td>\n",
              "      <td>Desempenho acima da média</td>\n",
              "    </tr>\n",
              "    <tr>\n",
              "      <th>1</th>\n",
              "      <td>-9.485943</td>\n",
              "      <td>-35.857573</td>\n",
              "      <td>270770</td>\n",
              "      <td>6685315</td>\n",
              "      <td>USF ENFERMEIRO PEDRO JACINTO AREA 09</td>\n",
              "      <td>R 15 DE AGOSTO</td>\n",
              "      <td>CENTRO</td>\n",
              "      <td>Rio Largo</td>\n",
              "      <td>Não se aplica</td>\n",
              "      <td>Desempenho mediano ou  um pouco abaixo da média</td>\n",
              "      <td>Desempenho mediano ou  um pouco abaixo da média</td>\n",
              "      <td>Desempenho mediano ou  um pouco abaixo da média</td>\n",
              "      <td>Desempenho mediano ou  um pouco abaixo da média</td>\n",
              "    </tr>\n",
              "    <tr>\n",
              "      <th>2</th>\n",
              "      <td>-23.896000</td>\n",
              "      <td>-53.410000</td>\n",
              "      <td>411885</td>\n",
              "      <td>6811299</td>\n",
              "      <td>UNIDADE DE ATENCAO PRIMARIA SAUDE DA FAMILIA</td>\n",
              "      <td>RUA GUILHERME BRUXEL</td>\n",
              "      <td>CENTRO</td>\n",
              "      <td>Perobal</td>\n",
              "      <td>4436251462</td>\n",
              "      <td>Desempenho muito acima da média</td>\n",
              "      <td>Desempenho muito acima da média</td>\n",
              "      <td>Desempenho mediano ou  um pouco abaixo da média</td>\n",
              "      <td>Desempenho muito acima da média</td>\n",
              "    </tr>\n",
              "    <tr>\n",
              "      <th>3</th>\n",
              "      <td>-16.447874</td>\n",
              "      <td>-41.009860</td>\n",
              "      <td>313580</td>\n",
              "      <td>6335616</td>\n",
              "      <td>POSTO DE SAUDE DE BOM JESUS DA ALDEIA</td>\n",
              "      <td>RUA TEOFILO OTONI</td>\n",
              "      <td>ALDEIA</td>\n",
              "      <td>Jequitinhonha</td>\n",
              "      <td>3337411423</td>\n",
              "      <td>Desempenho mediano ou  um pouco abaixo da média</td>\n",
              "      <td>Desempenho acima da média</td>\n",
              "      <td>Desempenho mediano ou  um pouco abaixo da média</td>\n",
              "      <td>Desempenho mediano ou  um pouco abaixo da média</td>\n",
              "    </tr>\n",
              "    <tr>\n",
              "      <th>4</th>\n",
              "      <td>-6.573311</td>\n",
              "      <td>-35.107605</td>\n",
              "      <td>250930</td>\n",
              "      <td>6662226</td>\n",
              "      <td>POSTO ANCORA URUBA</td>\n",
              "      <td>RODOVIA PB N 065</td>\n",
              "      <td>SITIO</td>\n",
              "      <td>Mataraca</td>\n",
              "      <td>Não se aplica</td>\n",
              "      <td>Desempenho acima da média</td>\n",
              "      <td>Desempenho acima da média</td>\n",
              "      <td>Desempenho mediano ou  um pouco abaixo da média</td>\n",
              "      <td>Desempenho mediano ou  um pouco abaixo da média</td>\n",
              "    </tr>\n",
              "  </tbody>\n",
              "</table>\n",
              "</div>"
            ],
            "text/plain": [
              "   vlr_latitude  ...                                 dsc_medicamentos\n",
              "0    -10.911237  ...                        Desempenho acima da média\n",
              "1     -9.485943  ...  Desempenho mediano ou  um pouco abaixo da média\n",
              "2    -23.896000  ...                  Desempenho muito acima da média\n",
              "3    -16.447874  ...  Desempenho mediano ou  um pouco abaixo da média\n",
              "4     -6.573311  ...  Desempenho mediano ou  um pouco abaixo da média\n",
              "\n",
              "[5 rows x 13 columns]"
            ]
          },
          "metadata": {
            "tags": []
          },
          "execution_count": 6
        }
      ]
    },
    {
      "cell_type": "code",
      "metadata": {
        "id": "NtkXX8KgeBCv",
        "colab_type": "code",
        "colab": {
          "base_uri": "https://localhost:8080/",
          "height": 34
        },
        "outputId": "c3603c0d-9d84-443b-ba44-6d5da474ab40"
      },
      "source": [
        "df.shape"
      ],
      "execution_count": 5,
      "outputs": [
        {
          "output_type": "execute_result",
          "data": {
            "text/plain": [
              "(37690, 13)"
            ]
          },
          "metadata": {
            "tags": []
          },
          "execution_count": 5
        }
      ]
    }
  ]
}