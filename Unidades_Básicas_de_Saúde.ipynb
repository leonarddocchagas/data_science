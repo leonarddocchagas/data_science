{
  "nbformat": 4,
  "nbformat_minor": 0,
  "metadata": {
    "colab": {
      "name": "Unidades Básicas de Saúde.ipynb",
      "provenance": [],
      "collapsed_sections": [],
      "authorship_tag": "ABX9TyOK1joVZ1RCfTYRsZp06OmV",
      "include_colab_link": true
    },
    "kernelspec": {
      "name": "python3",
      "display_name": "Python 3"
    }
  },
  "cells": [
    {
      "cell_type": "markdown",
      "metadata": {
        "id": "view-in-github",
        "colab_type": "text"
      },
      "source": [
        "<a href=\"https://colab.research.google.com/github/leonarddocchagas/data_science/blob/master/Unidades_B%C3%A1sicas_de_Sa%C3%BAde.ipynb\" target=\"_parent\"><img src=\"https://colab.research.google.com/assets/colab-badge.svg\" alt=\"Open In Colab\"/></a>"
      ]
    },
    {
      "cell_type": "markdown",
      "metadata": {
        "id": "0S7uaB4QOoBy",
        "colab_type": "text"
      },
      "source": [
        "<img width='20%' alt='Unidades Básicas de Saúde - UBS' src='https://github.com/leonarddocchagas/data_science/blob/master/projetos/unidades_basicas_de_saude/Logo_SUS.png?raw=true' />"
      ]
    },
    {
      "cell_type": "markdown",
      "metadata": {
        "id": "Rm8NFEsiPMQH",
        "colab_type": "text"
      },
      "source": [
        "## **Unidades Básicas de Saúde - UBS**\n",
        "\n",
        "As Unidades Básicas de Saúde (UBS) são a porta de entrada preferencial do Sistema Único de Saúde (SUS). O objetivo desses postos é atender até 80% dos problemas de saúde da população, sem que haja a necessidade de encaminhamento para hospitais.\n",
        "\n",
        "Até setembro de 2011, o país contava com 38 mil UBSs. Nelas, os usuários do SUS podem realizar consultas médicas, curativos, tratamento odontológico, tomar vacinas e coletar exames laboratoriais. Além disso, há fornecimento de medicação básica e também encaminhamentos para especialidades dependendo do que o paciente apresentar.\n",
        "\n",
        "Em 2011, já foram selecionados 1.219 projetos para construção de UBS. Essas unidades serão construídas em cidades extremamente pobres. Até 2014, estão previstas mais de 25.520 UBS construídas, ampliadas ou reformadas, a partir do censo de infraestrutura da Atenção Básica. Terão prioridade os municípios do Programa Brasil Sem Miséria que ainda não foram contemplados pelos equipamentos.\n",
        "\n",
        "A expansão das Unidades Básicas de Saúde tem o objetivo de descentralizar o atendimento, dar proximidade à população ao acesso aos serviços de saúde e desafogar os hospitais.\n",
        "\n",
        "  *Texto explicativo do portal"
      ]
    },
    {
      "cell_type": "markdown",
      "metadata": {
        "id": "y2bAtfiNQD7p",
        "colab_type": "text"
      },
      "source": [
        "## Sobre os dados\n",
        "\n",
        "Dados coletados do site PORTAL BRASILEIRO DE DADOS ABERTOS\n",
        "  * Ministério da Saúde - MS\n",
        "      * http://dados.gov.br/dataset/unidades-basicas-de-saude-ubs\n",
        "      \n",
        "\n",
        "**Dicionário de Dados**\n",
        "\n",
        "`vlr_latitude`\tRepresenta a latitude em formato decimal. Considerar valores negativos.\n",
        "\n",
        "`vlr_longitude`\tRepresenta a longitude em formato decimal. Considerar valores negativos.\t\n",
        "`cod_munic`\tRepresenta o código IBGE do município.\n",
        "\n",
        "`cod_cnes`\tRepresenta o código CNES - Cadastro Nacional de Estabelecimentos de Saúde\t\n",
        "`nom_estab`\tRepresenta o nome do estabelecimento\n",
        "\n",
        "`dsc_endereco`\tRepresenta o endereço da unidade\n",
        "\n",
        "`dsc_bairro`\tRepresenta o nome do Bairro\n",
        "\n",
        "`dsc_cidade`\tRepresenta o nome da cidade\n",
        "\n",
        "`dsc_telefone`\tRepresenta o número do telefone\n",
        "\n",
        "`dsc_estrut_fisic_ambiencia`\tInforma a situação em relação a estrutura física e ambiência\n",
        "\n",
        "`dsc_adap_defic_fisic_idosos`\tInforma a situação em relação a adaptações para deficientes e idosos\n",
        "\n",
        "`dsc_equipamentos`\tInforma a situação em relação aos equipamentos\n",
        "\n",
        "`dsc_medicamentos`\tInforma a Situação em relação aos medicamentos"
      ]
    },
    {
      "cell_type": "markdown",
      "metadata": {
        "id": "EPEJAPJp3JNY",
        "colab_type": "text"
      },
      "source": [
        "## Analisando os Dados"
      ]
    },
    {
      "cell_type": "code",
      "metadata": {
        "id": "vCZNAHkaYO8k",
        "colab_type": "code",
        "colab": {}
      },
      "source": [
        "# bibliotecas\n",
        "import pandas as pd\n",
        "import matplotlib.pyplot as plt"
      ],
      "execution_count": 1,
      "outputs": []
    },
    {
      "cell_type": "code",
      "metadata": {
        "id": "SaONPgaEbVHA",
        "colab_type": "code",
        "colab": {
          "base_uri": "https://localhost:8080/",
          "height": 544
        },
        "outputId": "71aeff7f-d750-413a-b5b8-8708a67b9049"
      },
      "source": [
        "# carrega dataset\n",
        "df = pd.read_csv('https://raw.githubusercontent.com/leonarddocchagas/data_science/master/projetos/unidades_basicas_de_saude/ubs.csv')\n",
        "df.set_index('cod_cnes', inplace=True)\n",
        "\n",
        "# retirar colunas desnecessárias\n",
        "df = df.drop(columns=(['dsc_telefone', 'dsc_endereco']))\n",
        "\n",
        "# exibi dataset\n",
        "df.head()"
      ],
      "execution_count": 2,
      "outputs": [
        {
          "output_type": "execute_result",
          "data": {
            "text/html": [
              "<div>\n",
              "<style scoped>\n",
              "    .dataframe tbody tr th:only-of-type {\n",
              "        vertical-align: middle;\n",
              "    }\n",
              "\n",
              "    .dataframe tbody tr th {\n",
              "        vertical-align: top;\n",
              "    }\n",
              "\n",
              "    .dataframe thead th {\n",
              "        text-align: right;\n",
              "    }\n",
              "</style>\n",
              "<table border=\"1\" class=\"dataframe\">\n",
              "  <thead>\n",
              "    <tr style=\"text-align: right;\">\n",
              "      <th></th>\n",
              "      <th>vlr_latitude</th>\n",
              "      <th>vlr_longitude</th>\n",
              "      <th>cod_munic</th>\n",
              "      <th>nom_estab</th>\n",
              "      <th>dsc_bairro</th>\n",
              "      <th>dsc_cidade</th>\n",
              "      <th>dsc_estrut_fisic_ambiencia</th>\n",
              "      <th>dsc_adap_defic_fisic_idosos</th>\n",
              "      <th>dsc_equipamentos</th>\n",
              "      <th>dsc_medicamentos</th>\n",
              "    </tr>\n",
              "    <tr>\n",
              "      <th>cod_cnes</th>\n",
              "      <th></th>\n",
              "      <th></th>\n",
              "      <th></th>\n",
              "      <th></th>\n",
              "      <th></th>\n",
              "      <th></th>\n",
              "      <th></th>\n",
              "      <th></th>\n",
              "      <th></th>\n",
              "      <th></th>\n",
              "    </tr>\n",
              "  </thead>\n",
              "  <tbody>\n",
              "    <tr>\n",
              "      <th>3492</th>\n",
              "      <td>-10.911237</td>\n",
              "      <td>-37.062078</td>\n",
              "      <td>280030</td>\n",
              "      <td>US OSWALDO DE SOUZA</td>\n",
              "      <td>GETULIO VARGAS</td>\n",
              "      <td>Aracaju</td>\n",
              "      <td>Desempenho acima da média</td>\n",
              "      <td>Desempenho muito acima da média</td>\n",
              "      <td>Desempenho mediano ou  um pouco abaixo da média</td>\n",
              "      <td>Desempenho acima da média</td>\n",
              "    </tr>\n",
              "    <tr>\n",
              "      <th>6685315</th>\n",
              "      <td>-9.485943</td>\n",
              "      <td>-35.857573</td>\n",
              "      <td>270770</td>\n",
              "      <td>USF ENFERMEIRO PEDRO JACINTO AREA 09</td>\n",
              "      <td>CENTRO</td>\n",
              "      <td>Rio Largo</td>\n",
              "      <td>Desempenho mediano ou  um pouco abaixo da média</td>\n",
              "      <td>Desempenho mediano ou  um pouco abaixo da média</td>\n",
              "      <td>Desempenho mediano ou  um pouco abaixo da média</td>\n",
              "      <td>Desempenho mediano ou  um pouco abaixo da média</td>\n",
              "    </tr>\n",
              "    <tr>\n",
              "      <th>6811299</th>\n",
              "      <td>-23.896000</td>\n",
              "      <td>-53.410000</td>\n",
              "      <td>411885</td>\n",
              "      <td>UNIDADE DE ATENCAO PRIMARIA SAUDE DA FAMILIA</td>\n",
              "      <td>CENTRO</td>\n",
              "      <td>Perobal</td>\n",
              "      <td>Desempenho muito acima da média</td>\n",
              "      <td>Desempenho muito acima da média</td>\n",
              "      <td>Desempenho mediano ou  um pouco abaixo da média</td>\n",
              "      <td>Desempenho muito acima da média</td>\n",
              "    </tr>\n",
              "    <tr>\n",
              "      <th>6335616</th>\n",
              "      <td>-16.447874</td>\n",
              "      <td>-41.009860</td>\n",
              "      <td>313580</td>\n",
              "      <td>POSTO DE SAUDE DE BOM JESUS DA ALDEIA</td>\n",
              "      <td>ALDEIA</td>\n",
              "      <td>Jequitinhonha</td>\n",
              "      <td>Desempenho mediano ou  um pouco abaixo da média</td>\n",
              "      <td>Desempenho acima da média</td>\n",
              "      <td>Desempenho mediano ou  um pouco abaixo da média</td>\n",
              "      <td>Desempenho mediano ou  um pouco abaixo da média</td>\n",
              "    </tr>\n",
              "    <tr>\n",
              "      <th>6662226</th>\n",
              "      <td>-6.573311</td>\n",
              "      <td>-35.107605</td>\n",
              "      <td>250930</td>\n",
              "      <td>POSTO ANCORA URUBA</td>\n",
              "      <td>SITIO</td>\n",
              "      <td>Mataraca</td>\n",
              "      <td>Desempenho acima da média</td>\n",
              "      <td>Desempenho acima da média</td>\n",
              "      <td>Desempenho mediano ou  um pouco abaixo da média</td>\n",
              "      <td>Desempenho mediano ou  um pouco abaixo da média</td>\n",
              "    </tr>\n",
              "  </tbody>\n",
              "</table>\n",
              "</div>"
            ],
            "text/plain": [
              "          vlr_latitude  ...                                 dsc_medicamentos\n",
              "cod_cnes                ...                                                 \n",
              "3492        -10.911237  ...                        Desempenho acima da média\n",
              "6685315      -9.485943  ...  Desempenho mediano ou  um pouco abaixo da média\n",
              "6811299     -23.896000  ...                  Desempenho muito acima da média\n",
              "6335616     -16.447874  ...  Desempenho mediano ou  um pouco abaixo da média\n",
              "6662226      -6.573311  ...  Desempenho mediano ou  um pouco abaixo da média\n",
              "\n",
              "[5 rows x 10 columns]"
            ]
          },
          "metadata": {
            "tags": []
          },
          "execution_count": 2
        }
      ]
    },
    {
      "cell_type": "markdown",
      "metadata": {
        "id": "HZW6RAhDOm5g",
        "colab_type": "text"
      },
      "source": [
        ""
      ]
    },
    {
      "cell_type": "code",
      "metadata": {
        "id": "NtkXX8KgeBCv",
        "colab_type": "code",
        "colab": {
          "base_uri": "https://localhost:8080/",
          "height": 34
        },
        "outputId": "ac51a689-fd1f-4f73-9a6c-73b52a28f765"
      },
      "source": [
        "df.shape"
      ],
      "execution_count": 3,
      "outputs": [
        {
          "output_type": "execute_result",
          "data": {
            "text/plain": [
              "(37690, 10)"
            ]
          },
          "metadata": {
            "tags": []
          },
          "execution_count": 3
        }
      ]
    },
    {
      "cell_type": "code",
      "metadata": {
        "id": "dgCgTvu9tAqP",
        "colab_type": "code",
        "colab": {
          "base_uri": "https://localhost:8080/",
          "height": 265
        },
        "outputId": "62c41897-f425-4d66-f292-95d7abc9ad00"
      },
      "source": [
        "\n",
        "df.dsc_medicamentos.value_counts().plot.barh(color='#fb9e70');"
      ],
      "execution_count": 4,
      "outputs": [
        {
          "output_type": "display_data",
          "data": {
            "image/png": "[encoded data removed]",
            "text/plain": [
              "<Figure size 432x288 with 1 Axes>"
            ]
          },
          "metadata": {
            "tags": [],
            "needs_background": "light"
          }
        }
      ]
    },
    {
      "cell_type": "code",
      "metadata": {
        "id": "MhV7CkHDviKe",
        "colab_type": "code",
        "colab": {
          "base_uri": "https://localhost:8080/",
          "height": 265
        },
        "outputId": "91d42539-292f-4644-869e-b30c2e60bee8"
      },
      "source": [
        "\n",
        "df.dsc_equipamentos.value_counts().plot.barh(color='#fb9e70');"
      ],
      "execution_count": 5,
      "outputs": [
        {
          "output_type": "display_data",
          "data": {
            "image/png": "[encoded data removed]",
            "text/plain": [
              "<Figure size 432x288 with 1 Axes>"
            ]
          },
          "metadata": {
            "tags": [],
            "needs_background": "light"
          }
        }
      ]
    },
    {
      "cell_type": "code",
      "metadata": {
        "id": "HIkG1Fxl4wnK",
        "colab_type": "code",
        "colab": {
          "base_uri": "https://localhost:8080/",
          "height": 282
        },
        "outputId": "bc131cf7-8c44-4fc9-be6b-404bc63feedf"
      },
      "source": [
        "df.dsc_estrut_fisic_ambiencia.value_counts().plot.barh()"
      ],
      "execution_count": 6,
      "outputs": [
        {
          "output_type": "execute_result",
          "data": {
            "text/plain": [
              "<matplotlib.axes._subplots.AxesSubplot at 0x7f0e5cd6fb00>"
            ]
          },
          "metadata": {
            "tags": []
          },
          "execution_count": 6
        },
        {
          "output_type": "display_data",
          "data": {
            "image/png": "[encoded data removed]",
            "text/plain": [
              "<Figure size 432x288 with 1 Axes>"
            ]
          },
          "metadata": {
            "tags": [],
            "needs_background": "light"
          }
        }
      ]
    }
  ]
}