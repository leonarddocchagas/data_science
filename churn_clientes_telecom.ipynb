{
  "nbformat": 4,
  "nbformat_minor": 0,
  "metadata": {
    "colab": {
      "name": "churn_clientes_telecom.ipynb",
      "provenance": [],
      "collapsed_sections": [],
      "authorship_tag": "ABX9TyMnKhXytbNQmWjGsJcSPauv",
      "include_colab_link": true
    },
    "kernelspec": {
      "name": "python3",
      "display_name": "Python 3"
    },
    "language_info": {
      "name": "python"
    }
  },
  "cells": [
    {
      "cell_type": "markdown",
      "metadata": {
        "id": "view-in-github",
        "colab_type": "text"
      },
      "source": [
        "<a href=\"https://colab.research.google.com/github/leonarddocchagas/data_science/blob/master/churn_clientes_telecom.ipynb\" target=\"_parent\"><img src=\"https://colab.research.google.com/assets/colab-badge.svg\" alt=\"Open In Colab\"/></a>"
      ]
    },
    {
      "cell_type": "markdown",
      "metadata": {
        "id": "PbZ2cQba6o-F"
      },
      "source": [
        "<img width='50%' align='center' src='https://github.com/leonarddocchagas/data_science/blob/master/projetos/churn_clientes_telecom/blog_churn.png?raw=true' />\n",
        "\n",
        "**Churn - Cancelamento de Clientes**\n",
        "\n",
        "Bom, churn nada mais é do que uma métrica que indica a taxa de cancelamento de clientes em um determinado período, ou seja, quantos deles a sua empresa perdeu por mês, trimestre ou ano, por exemplo."
      ]
    },
    {
      "cell_type": "code",
      "metadata": {
        "id": "-iXgaoB88EQg"
      },
      "source": [
        ""
      ],
      "execution_count": null,
      "outputs": []
    }
  ]
}