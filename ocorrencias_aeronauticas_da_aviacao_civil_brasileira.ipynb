{
  "nbformat": 4,
  "nbformat_minor": 0,
  "metadata": {
    "colab": {
      "name": "ocorrencias-aeronauticas-da-aviacao-civil-brasileira.ipynb",
      "provenance": [],
      "collapsed_sections": [],
      "mount_file_id": "1sVijNsk802qc0e7D9udxwt8LCzRWzYtq",
      "authorship_tag": "ABX9TyN8C3n1zFo7NgHgH3x0ZlEd",
      "include_colab_link": true
    },
    "kernelspec": {
      "name": "python3",
      "display_name": "Python 3"
    }
  },
  "cells": [
    {
      "cell_type": "markdown",
      "metadata": {
        "id": "view-in-github",
        "colab_type": "text"
      },
      "source": [
        "<a href=\"https://colab.research.google.com/github/leonarddocchagas/data_science/blob/master/ocorrencias_aeronauticas_da_aviacao_civil_brasileira.ipynb\" target=\"_parent\"><img src=\"https://colab.research.google.com/assets/colab-badge.svg\" alt=\"Open In Colab\"/></a>"
      ]
    },
    {
      "cell_type": "markdown",
      "metadata": {
        "id": "nA-LjSWwe4AO",
        "colab_type": "text"
      },
      "source": [
        "<img alt=\"Colaboratory logo\" width=\"10%\" src=\"https://github.com/leonarddocchagas/data_science/blob/master/projetos/CENIPA/logo_cenipa.png?raw=true\" align=\"center\">"
      ]
    },
    {
      "cell_type": "markdown",
      "metadata": {
        "id": "uXhHE3Ytfta2",
        "colab_type": "text"
      },
      "source": [
        "## Análise dos Dados do CENIPA\n",
        "\n",
        "#### **Centro de Investigação e Prevenção de Acidentes Aeronáuticos**\n",
        "\n",
        "O Centro de Investigação e Prevenção de Acidentes Aeronáuticos (CENIPA) é uma Organização Militar (OM) brasileira, vinculada ao Comando da Aeronáutica (COMAER), diretamente subordinada ao Comandante da Aeronáutica. O CENIPA é responsável pelas atividades de investigação e prevenção dos acidentes aeronáuticos que ocorram em território brasileiro. Sua sede fica em Brasília - DF.\n",
        "\n"
      ]
    },
    {
      "cell_type": "markdown",
      "metadata": {
        "id": "cnz3EMcs9cWp",
        "colab_type": "text"
      },
      "source": [
        "\n",
        "\n",
        "#### **O ser humano não foi feito para voar**\n",
        "Mesmo se tratando do \"transporte mais seguro\", quem nunca sentiu frio na barriga quando passa por uma turbulência ou mesmo simplesmente, quando sabe que precisa pegar um avião. Para algumas pessoas é terrível.\n",
        "\n",
        "Vamos investigar em busca de respostas sobre as causas dos acidentes e tentar descobrir se os desastres foram causados por falha humana ou falha da máquina.\n"
      ]
    },
    {
      "cell_type": "markdown",
      "metadata": {
        "id": "8h3VyV4-90nY",
        "colab_type": "text"
      },
      "source": [
        "#### **Cenário do dados**\n",
        "Para uma análise mais completa, vamos juntar ao todo 5 datasets. Dessa forma poderemos explorar ao máximo, com perguntar que com toda certeza, irá surgir ao longo da análise. \n",
        "Antes de juntar todos os conjuntos de dados, vamos carregar e tratar todas individualmente.\n",
        "\n",
        "Abaixo a representação do relacionando dos datasets.\n",
        "\n",
        "<img alt=\"Colaboratory logo\" width=\"60%\" src=\"https://github.com/leonarddocchagas/data_science/blob/master/projetos/CENIPA/Relacionamento.png?raw=true\" align=\"center\">"
      ]
    },
    {
      "cell_type": "markdown",
      "metadata": {
        "id": "AtYk6q9rkY6D",
        "colab_type": "text"
      },
      "source": [
        "## Sobre os dados"
      ]
    },
    {
      "cell_type": "code",
      "metadata": {
        "id": "2-2Lywv1Ungv",
        "colab_type": "code",
        "colab": {
          "base_uri": "https://localhost:8080/",
          "height": 258
        },
        "outputId": "e4d57981-eabf-4109-c91a-d7950e388fe0"
      },
      "source": [
        "# importar bibiotecas\n",
        "import pandas as pd\n",
        "import matplotlib.pyplot as plt\n",
        "import seaborn as sns\n",
        "\n",
        "# redenrizar mapas\n",
        "!pip install folium\n",
        "import folium\n",
        "from folium import plugins\n",
        "\n",
        "%matplotlib inline"
      ],
      "execution_count": 1,
      "outputs": [
        {
          "output_type": "stream",
          "text": [
            "/usr/local/lib/python3.6/dist-packages/statsmodels/tools/_testing.py:19: FutureWarning: pandas.util.testing is deprecated. Use the functions in the public API at pandas.testing instead.\n",
            "  import pandas.util.testing as tm\n"
          ],
          "name": "stderr"
        },
        {
          "output_type": "stream",
          "text": [
            "Requirement already satisfied: folium in /usr/local/lib/python3.6/dist-packages (0.8.3)\n",
            "Requirement already satisfied: jinja2 in /usr/local/lib/python3.6/dist-packages (from folium) (2.11.2)\n",
            "Requirement already satisfied: branca>=0.3.0 in /usr/local/lib/python3.6/dist-packages (from folium) (0.4.1)\n",
            "Requirement already satisfied: numpy in /usr/local/lib/python3.6/dist-packages (from folium) (1.18.5)\n",
            "Requirement already satisfied: requests in /usr/local/lib/python3.6/dist-packages (from folium) (2.23.0)\n",
            "Requirement already satisfied: six in /usr/local/lib/python3.6/dist-packages (from folium) (1.15.0)\n",
            "Requirement already satisfied: MarkupSafe>=0.23 in /usr/local/lib/python3.6/dist-packages (from jinja2->folium) (1.1.1)\n",
            "Requirement already satisfied: certifi>=2017.4.17 in /usr/local/lib/python3.6/dist-packages (from requests->folium) (2020.6.20)\n",
            "Requirement already satisfied: urllib3!=1.25.0,!=1.25.1,<1.26,>=1.21.1 in /usr/local/lib/python3.6/dist-packages (from requests->folium) (1.24.3)\n",
            "Requirement already satisfied: idna<3,>=2.5 in /usr/local/lib/python3.6/dist-packages (from requests->folium) (2.10)\n",
            "Requirement already satisfied: chardet<4,>=3.0.2 in /usr/local/lib/python3.6/dist-packages (from requests->folium) (3.0.4)\n"
          ],
          "name": "stdout"
        }
      ]
    },
    {
      "cell_type": "markdown",
      "metadata": {
        "id": "u3fMG6NWk9T-",
        "colab_type": "text"
      },
      "source": [
        "**Dataset: ocorrencia_aviacao**"
      ]
    },
    {
      "cell_type": "code",
      "metadata": {
        "id": "a-zN3SH8eLcp",
        "colab_type": "code",
        "colab": {
          "base_uri": "https://localhost:8080/",
          "height": 224
        },
        "outputId": "e54686f6-bfed-4514-dbfd-f7413e441d89"
      },
      "source": [
        "# carrega e exibe dataset df_ocorrencia_aviacao\n",
        "df_ocorrencia_aviacao = pd.read_excel('/content/drive/My Drive/Colab Data Science/Projetos/CENIPA/ocorrencia_aviacao.xlsx')\n",
        "df_ocorrencia_aviacao.head()"
      ],
      "execution_count": 2,
      "outputs": [
        {
          "output_type": "execute_result",
          "data": {
            "text/html": [
              "<div>\n",
              "<style scoped>\n",
              "    .dataframe tbody tr th:only-of-type {\n",
              "        vertical-align: middle;\n",
              "    }\n",
              "\n",
              "    .dataframe tbody tr th {\n",
              "        vertical-align: top;\n",
              "    }\n",
              "\n",
              "    .dataframe thead th {\n",
              "        text-align: right;\n",
              "    }\n",
              "</style>\n",
              "<table border=\"1\" class=\"dataframe\">\n",
              "  <thead>\n",
              "    <tr style=\"text-align: right;\">\n",
              "      <th></th>\n",
              "      <th>codigo_ocorrencia</th>\n",
              "      <th>codigo_ocorrencia1</th>\n",
              "      <th>codigo_ocorrencia2</th>\n",
              "      <th>codigo_ocorrencia3</th>\n",
              "      <th>codigo_ocorrencia4</th>\n",
              "      <th>ocorrencia_classificacao</th>\n",
              "      <th>ocorrencia_latitude</th>\n",
              "      <th>ocorrencia_longitude</th>\n",
              "      <th>ocorrencia_cidade</th>\n",
              "      <th>ocorrencia_uf</th>\n",
              "      <th>ocorrencia_pais</th>\n",
              "      <th>ocorrencia_aerodromo</th>\n",
              "      <th>ocorrencia_dia</th>\n",
              "      <th>ocorrencia_hora</th>\n",
              "      <th>investigacao_aeronave_liberada</th>\n",
              "      <th>investigacao_status</th>\n",
              "      <th>divulgacao_relatorio_numero</th>\n",
              "      <th>divulgacao_relatorio_publicado</th>\n",
              "      <th>divulgacao_dia_publicacao</th>\n",
              "      <th>total_recomendacoes</th>\n",
              "      <th>total_aeronaves_envolvidas</th>\n",
              "      <th>ocorrencia_saida_pista</th>\n",
              "    </tr>\n",
              "  </thead>\n",
              "  <tbody>\n",
              "    <tr>\n",
              "      <th>0</th>\n",
              "      <td>39115</td>\n",
              "      <td>39115</td>\n",
              "      <td>39115</td>\n",
              "      <td>39115</td>\n",
              "      <td>39115</td>\n",
              "      <td>ACIDENTE</td>\n",
              "      <td>-133805555556</td>\n",
              "      <td>-446172222222</td>\n",
              "      <td>CORRENTINA</td>\n",
              "      <td>BA</td>\n",
              "      <td>BRASIL</td>\n",
              "      <td>SNTY</td>\n",
              "      <td>2010-02-07</td>\n",
              "      <td>17:40:00</td>\n",
              "      <td>SIM</td>\n",
              "      <td>FINALIZADA</td>\n",
              "      <td>A-031/CENIPA/2011</td>\n",
              "      <td>SIM</td>\n",
              "      <td>2011-07-21</td>\n",
              "      <td>2</td>\n",
              "      <td>1</td>\n",
              "      <td>NÃO</td>\n",
              "    </tr>\n",
              "    <tr>\n",
              "      <th>1</th>\n",
              "      <td>39155</td>\n",
              "      <td>39155</td>\n",
              "      <td>39155</td>\n",
              "      <td>39155</td>\n",
              "      <td>39155</td>\n",
              "      <td>INCIDENTE</td>\n",
              "      <td>NaN</td>\n",
              "      <td>NaN</td>\n",
              "      <td>BELO HORIZONTE</td>\n",
              "      <td>MG</td>\n",
              "      <td>BRASIL</td>\n",
              "      <td>****</td>\n",
              "      <td>2010-02-05</td>\n",
              "      <td>12:55:00</td>\n",
              "      <td>SIM</td>\n",
              "      <td>FINALIZADA</td>\n",
              "      <td>NaN</td>\n",
              "      <td>NÃO</td>\n",
              "      <td>NaT</td>\n",
              "      <td>0</td>\n",
              "      <td>1</td>\n",
              "      <td>NÃO</td>\n",
              "    </tr>\n",
              "    <tr>\n",
              "      <th>2</th>\n",
              "      <td>39156</td>\n",
              "      <td>39156</td>\n",
              "      <td>39156</td>\n",
              "      <td>39156</td>\n",
              "      <td>39156</td>\n",
              "      <td>INCIDENTE GRAVE</td>\n",
              "      <td>-152402777778</td>\n",
              "      <td>-593541666667</td>\n",
              "      <td>CASCAVEL</td>\n",
              "      <td>PR</td>\n",
              "      <td>BRASIL</td>\n",
              "      <td>SBCA</td>\n",
              "      <td>2010-01-10</td>\n",
              "      <td>23:15:00</td>\n",
              "      <td>SIM</td>\n",
              "      <td>FINALIZADA</td>\n",
              "      <td>I-004/CENIPA/2011</td>\n",
              "      <td>SIM</td>\n",
              "      <td>2011-06-30</td>\n",
              "      <td>2</td>\n",
              "      <td>1</td>\n",
              "      <td>NÃO</td>\n",
              "    </tr>\n",
              "    <tr>\n",
              "      <th>3</th>\n",
              "      <td>39158</td>\n",
              "      <td>39158</td>\n",
              "      <td>39158</td>\n",
              "      <td>39158</td>\n",
              "      <td>39158</td>\n",
              "      <td>INCIDENTE</td>\n",
              "      <td>***</td>\n",
              "      <td>***</td>\n",
              "      <td>BELÉM</td>\n",
              "      <td>PA</td>\n",
              "      <td>BRASIL</td>\n",
              "      <td>****</td>\n",
              "      <td>2010-01-28</td>\n",
              "      <td>16:00:00</td>\n",
              "      <td>SIM</td>\n",
              "      <td>FINALIZADA</td>\n",
              "      <td>NaN</td>\n",
              "      <td>NÃO</td>\n",
              "      <td>NaT</td>\n",
              "      <td>0</td>\n",
              "      <td>1</td>\n",
              "      <td>NÃO</td>\n",
              "    </tr>\n",
              "    <tr>\n",
              "      <th>4</th>\n",
              "      <td>39176</td>\n",
              "      <td>39176</td>\n",
              "      <td>39176</td>\n",
              "      <td>39176</td>\n",
              "      <td>39176</td>\n",
              "      <td>INCIDENTE</td>\n",
              "      <td>NaN</td>\n",
              "      <td>NaN</td>\n",
              "      <td>SÃO LUÍS</td>\n",
              "      <td>MA</td>\n",
              "      <td>BRASIL</td>\n",
              "      <td>****</td>\n",
              "      <td>2010-02-05</td>\n",
              "      <td>09:30:00</td>\n",
              "      <td>SIM</td>\n",
              "      <td>FINALIZADA</td>\n",
              "      <td>NaN</td>\n",
              "      <td>NÃO</td>\n",
              "      <td>NaT</td>\n",
              "      <td>0</td>\n",
              "      <td>1</td>\n",
              "      <td>NÃO</td>\n",
              "    </tr>\n",
              "  </tbody>\n",
              "</table>\n",
              "</div>"
            ],
            "text/plain": [
              "   codigo_ocorrencia  ...  ocorrencia_saida_pista\n",
              "0              39115  ...                     NÃO\n",
              "1              39155  ...                     NÃO\n",
              "2              39156  ...                     NÃO\n",
              "3              39158  ...                     NÃO\n",
              "4              39176  ...                     NÃO\n",
              "\n",
              "[5 rows x 22 columns]"
            ]
          },
          "metadata": {
            "tags": []
          },
          "execution_count": 2
        }
      ]
    },
    {
      "cell_type": "markdown",
      "metadata": {
        "id": "_UNlr2Ium-15",
        "colab_type": "text"
      },
      "source": [
        "O dataset **ocorrencia_aviacao** está com a variável `codigo_ocorrencia` replicado. Pela imagem que temos do relacionamento das tabelas, o analista do CENIPA, preferiu criar a mesma chave várias vezes para conectar as diferentes tabelas. Em nosso caso, vamos tratar e deixar apenas uma.  "
      ]
    },
    {
      "cell_type": "code",
      "metadata": {
        "id": "mbIHSQn2w1Wu",
        "colab_type": "code",
        "colab": {
          "base_uri": "https://localhost:8080/",
          "height": 224
        },
        "outputId": "e6b4bfb2-5b4b-4327-fefa-86e098a35e48"
      },
      "source": [
        "# excluindo colunas\n",
        "df_ocorrencia_aviacao = df_ocorrencia_aviacao.drop(['codigo_ocorrencia1', 'codigo_ocorrencia2', 'codigo_ocorrencia3', 'codigo_ocorrencia4'], axis=1)\n",
        "\n",
        "# exibi dataset\n",
        "df_ocorrencia_aviacao.head()"
      ],
      "execution_count": 3,
      "outputs": [
        {
          "output_type": "execute_result",
          "data": {
            "text/html": [
              "<div>\n",
              "<style scoped>\n",
              "    .dataframe tbody tr th:only-of-type {\n",
              "        vertical-align: middle;\n",
              "    }\n",
              "\n",
              "    .dataframe tbody tr th {\n",
              "        vertical-align: top;\n",
              "    }\n",
              "\n",
              "    .dataframe thead th {\n",
              "        text-align: right;\n",
              "    }\n",
              "</style>\n",
              "<table border=\"1\" class=\"dataframe\">\n",
              "  <thead>\n",
              "    <tr style=\"text-align: right;\">\n",
              "      <th></th>\n",
              "      <th>codigo_ocorrencia</th>\n",
              "      <th>ocorrencia_classificacao</th>\n",
              "      <th>ocorrencia_latitude</th>\n",
              "      <th>ocorrencia_longitude</th>\n",
              "      <th>ocorrencia_cidade</th>\n",
              "      <th>ocorrencia_uf</th>\n",
              "      <th>ocorrencia_pais</th>\n",
              "      <th>ocorrencia_aerodromo</th>\n",
              "      <th>ocorrencia_dia</th>\n",
              "      <th>ocorrencia_hora</th>\n",
              "      <th>investigacao_aeronave_liberada</th>\n",
              "      <th>investigacao_status</th>\n",
              "      <th>divulgacao_relatorio_numero</th>\n",
              "      <th>divulgacao_relatorio_publicado</th>\n",
              "      <th>divulgacao_dia_publicacao</th>\n",
              "      <th>total_recomendacoes</th>\n",
              "      <th>total_aeronaves_envolvidas</th>\n",
              "      <th>ocorrencia_saida_pista</th>\n",
              "    </tr>\n",
              "  </thead>\n",
              "  <tbody>\n",
              "    <tr>\n",
              "      <th>0</th>\n",
              "      <td>39115</td>\n",
              "      <td>ACIDENTE</td>\n",
              "      <td>-133805555556</td>\n",
              "      <td>-446172222222</td>\n",
              "      <td>CORRENTINA</td>\n",
              "      <td>BA</td>\n",
              "      <td>BRASIL</td>\n",
              "      <td>SNTY</td>\n",
              "      <td>2010-02-07</td>\n",
              "      <td>17:40:00</td>\n",
              "      <td>SIM</td>\n",
              "      <td>FINALIZADA</td>\n",
              "      <td>A-031/CENIPA/2011</td>\n",
              "      <td>SIM</td>\n",
              "      <td>2011-07-21</td>\n",
              "      <td>2</td>\n",
              "      <td>1</td>\n",
              "      <td>NÃO</td>\n",
              "    </tr>\n",
              "    <tr>\n",
              "      <th>1</th>\n",
              "      <td>39155</td>\n",
              "      <td>INCIDENTE</td>\n",
              "      <td>NaN</td>\n",
              "      <td>NaN</td>\n",
              "      <td>BELO HORIZONTE</td>\n",
              "      <td>MG</td>\n",
              "      <td>BRASIL</td>\n",
              "      <td>****</td>\n",
              "      <td>2010-02-05</td>\n",
              "      <td>12:55:00</td>\n",
              "      <td>SIM</td>\n",
              "      <td>FINALIZADA</td>\n",
              "      <td>NaN</td>\n",
              "      <td>NÃO</td>\n",
              "      <td>NaT</td>\n",
              "      <td>0</td>\n",
              "      <td>1</td>\n",
              "      <td>NÃO</td>\n",
              "    </tr>\n",
              "    <tr>\n",
              "      <th>2</th>\n",
              "      <td>39156</td>\n",
              "      <td>INCIDENTE GRAVE</td>\n",
              "      <td>-152402777778</td>\n",
              "      <td>-593541666667</td>\n",
              "      <td>CASCAVEL</td>\n",
              "      <td>PR</td>\n",
              "      <td>BRASIL</td>\n",
              "      <td>SBCA</td>\n",
              "      <td>2010-01-10</td>\n",
              "      <td>23:15:00</td>\n",
              "      <td>SIM</td>\n",
              "      <td>FINALIZADA</td>\n",
              "      <td>I-004/CENIPA/2011</td>\n",
              "      <td>SIM</td>\n",
              "      <td>2011-06-30</td>\n",
              "      <td>2</td>\n",
              "      <td>1</td>\n",
              "      <td>NÃO</td>\n",
              "    </tr>\n",
              "    <tr>\n",
              "      <th>3</th>\n",
              "      <td>39158</td>\n",
              "      <td>INCIDENTE</td>\n",
              "      <td>***</td>\n",
              "      <td>***</td>\n",
              "      <td>BELÉM</td>\n",
              "      <td>PA</td>\n",
              "      <td>BRASIL</td>\n",
              "      <td>****</td>\n",
              "      <td>2010-01-28</td>\n",
              "      <td>16:00:00</td>\n",
              "      <td>SIM</td>\n",
              "      <td>FINALIZADA</td>\n",
              "      <td>NaN</td>\n",
              "      <td>NÃO</td>\n",
              "      <td>NaT</td>\n",
              "      <td>0</td>\n",
              "      <td>1</td>\n",
              "      <td>NÃO</td>\n",
              "    </tr>\n",
              "    <tr>\n",
              "      <th>4</th>\n",
              "      <td>39176</td>\n",
              "      <td>INCIDENTE</td>\n",
              "      <td>NaN</td>\n",
              "      <td>NaN</td>\n",
              "      <td>SÃO LUÍS</td>\n",
              "      <td>MA</td>\n",
              "      <td>BRASIL</td>\n",
              "      <td>****</td>\n",
              "      <td>2010-02-05</td>\n",
              "      <td>09:30:00</td>\n",
              "      <td>SIM</td>\n",
              "      <td>FINALIZADA</td>\n",
              "      <td>NaN</td>\n",
              "      <td>NÃO</td>\n",
              "      <td>NaT</td>\n",
              "      <td>0</td>\n",
              "      <td>1</td>\n",
              "      <td>NÃO</td>\n",
              "    </tr>\n",
              "  </tbody>\n",
              "</table>\n",
              "</div>"
            ],
            "text/plain": [
              "   codigo_ocorrencia  ... ocorrencia_saida_pista\n",
              "0              39115  ...                    NÃO\n",
              "1              39155  ...                    NÃO\n",
              "2              39156  ...                    NÃO\n",
              "3              39158  ...                    NÃO\n",
              "4              39176  ...                    NÃO\n",
              "\n",
              "[5 rows x 18 columns]"
            ]
          },
          "metadata": {
            "tags": []
          },
          "execution_count": 3
        }
      ]
    },
    {
      "cell_type": "markdown",
      "metadata": {
        "id": "f8I-NTXNDWWe",
        "colab_type": "text"
      },
      "source": [
        "Vamos continuar tratando. Como o principal objetivo desta exploração é de investigar a quantidade de acidentes, vamos elimitar outras variáveis que não serão úteis. "
      ]
    },
    {
      "cell_type": "code",
      "metadata": {
        "id": "qEVvyoQyDxtR",
        "colab_type": "code",
        "colab": {
          "base_uri": "https://localhost:8080/",
          "height": 224
        },
        "outputId": "2cf71a98-e4f5-4305-d455-d9936b77082d"
      },
      "source": [
        "# excluindo colunas\n",
        "df_ocorrencia_aviacao = df_ocorrencia_aviacao.drop(\n",
        "      ['ocorrencia_pais', 'divulgacao_relatorio_numero', 'divulgacao_relatorio_publicado', 'divulgacao_dia_publicacao', 'total_recomendacoes','investigacao_aeronave_liberada', 'total_aeronaves_envolvidas', 'ocorrencia_saida_pista'], \n",
        "      axis=1\n",
        "      )\n",
        "# exibi dataset\n",
        "df_ocorrencia_aviacao.head()"
      ],
      "execution_count": 4,
      "outputs": [
        {
          "output_type": "execute_result",
          "data": {
            "text/html": [
              "<div>\n",
              "<style scoped>\n",
              "    .dataframe tbody tr th:only-of-type {\n",
              "        vertical-align: middle;\n",
              "    }\n",
              "\n",
              "    .dataframe tbody tr th {\n",
              "        vertical-align: top;\n",
              "    }\n",
              "\n",
              "    .dataframe thead th {\n",
              "        text-align: right;\n",
              "    }\n",
              "</style>\n",
              "<table border=\"1\" class=\"dataframe\">\n",
              "  <thead>\n",
              "    <tr style=\"text-align: right;\">\n",
              "      <th></th>\n",
              "      <th>codigo_ocorrencia</th>\n",
              "      <th>ocorrencia_classificacao</th>\n",
              "      <th>ocorrencia_latitude</th>\n",
              "      <th>ocorrencia_longitude</th>\n",
              "      <th>ocorrencia_cidade</th>\n",
              "      <th>ocorrencia_uf</th>\n",
              "      <th>ocorrencia_aerodromo</th>\n",
              "      <th>ocorrencia_dia</th>\n",
              "      <th>ocorrencia_hora</th>\n",
              "      <th>investigacao_status</th>\n",
              "    </tr>\n",
              "  </thead>\n",
              "  <tbody>\n",
              "    <tr>\n",
              "      <th>0</th>\n",
              "      <td>39115</td>\n",
              "      <td>ACIDENTE</td>\n",
              "      <td>-133805555556</td>\n",
              "      <td>-446172222222</td>\n",
              "      <td>CORRENTINA</td>\n",
              "      <td>BA</td>\n",
              "      <td>SNTY</td>\n",
              "      <td>2010-02-07</td>\n",
              "      <td>17:40:00</td>\n",
              "      <td>FINALIZADA</td>\n",
              "    </tr>\n",
              "    <tr>\n",
              "      <th>1</th>\n",
              "      <td>39155</td>\n",
              "      <td>INCIDENTE</td>\n",
              "      <td>NaN</td>\n",
              "      <td>NaN</td>\n",
              "      <td>BELO HORIZONTE</td>\n",
              "      <td>MG</td>\n",
              "      <td>****</td>\n",
              "      <td>2010-02-05</td>\n",
              "      <td>12:55:00</td>\n",
              "      <td>FINALIZADA</td>\n",
              "    </tr>\n",
              "    <tr>\n",
              "      <th>2</th>\n",
              "      <td>39156</td>\n",
              "      <td>INCIDENTE GRAVE</td>\n",
              "      <td>-152402777778</td>\n",
              "      <td>-593541666667</td>\n",
              "      <td>CASCAVEL</td>\n",
              "      <td>PR</td>\n",
              "      <td>SBCA</td>\n",
              "      <td>2010-01-10</td>\n",
              "      <td>23:15:00</td>\n",
              "      <td>FINALIZADA</td>\n",
              "    </tr>\n",
              "    <tr>\n",
              "      <th>3</th>\n",
              "      <td>39158</td>\n",
              "      <td>INCIDENTE</td>\n",
              "      <td>***</td>\n",
              "      <td>***</td>\n",
              "      <td>BELÉM</td>\n",
              "      <td>PA</td>\n",
              "      <td>****</td>\n",
              "      <td>2010-01-28</td>\n",
              "      <td>16:00:00</td>\n",
              "      <td>FINALIZADA</td>\n",
              "    </tr>\n",
              "    <tr>\n",
              "      <th>4</th>\n",
              "      <td>39176</td>\n",
              "      <td>INCIDENTE</td>\n",
              "      <td>NaN</td>\n",
              "      <td>NaN</td>\n",
              "      <td>SÃO LUÍS</td>\n",
              "      <td>MA</td>\n",
              "      <td>****</td>\n",
              "      <td>2010-02-05</td>\n",
              "      <td>09:30:00</td>\n",
              "      <td>FINALIZADA</td>\n",
              "    </tr>\n",
              "  </tbody>\n",
              "</table>\n",
              "</div>"
            ],
            "text/plain": [
              "   codigo_ocorrencia  ... investigacao_status\n",
              "0              39115  ...          FINALIZADA\n",
              "1              39155  ...          FINALIZADA\n",
              "2              39156  ...          FINALIZADA\n",
              "3              39158  ...          FINALIZADA\n",
              "4              39176  ...          FINALIZADA\n",
              "\n",
              "[5 rows x 10 columns]"
            ]
          },
          "metadata": {
            "tags": []
          },
          "execution_count": 4
        }
      ]
    },
    {
      "cell_type": "code",
      "metadata": {
        "id": "WJLa15aR6IFR",
        "colab_type": "code",
        "colab": {
          "base_uri": "https://localhost:8080/",
          "height": 357
        },
        "outputId": "1a5f170a-1d27-4208-ea3f-7fa57819bea3"
      },
      "source": [
        "# tamanho dataset\n",
        "print('Variáveis: {}' .format(df_ocorrencia_aviacao.shape[1]))\n",
        "print('Entradas: {} \\n' .format(df_ocorrencia_aviacao.shape[0]))\n",
        "\n",
        "df_ocorrencia_aviacao.info();"
      ],
      "execution_count": 5,
      "outputs": [
        {
          "output_type": "stream",
          "text": [
            "Variáveis: 10\n",
            "Entradas: 5245 \n",
            "\n",
            "<class 'pandas.core.frame.DataFrame'>\n",
            "RangeIndex: 5245 entries, 0 to 5244\n",
            "Data columns (total 10 columns):\n",
            " #   Column                    Non-Null Count  Dtype         \n",
            "---  ------                    --------------  -----         \n",
            " 0   codigo_ocorrencia         5245 non-null   int64         \n",
            " 1   ocorrencia_classificacao  5245 non-null   object        \n",
            " 2   ocorrencia_latitude       3549 non-null   object        \n",
            " 3   ocorrencia_longitude      3548 non-null   object        \n",
            " 4   ocorrencia_cidade         5245 non-null   object        \n",
            " 5   ocorrencia_uf             5245 non-null   object        \n",
            " 6   ocorrencia_aerodromo      5245 non-null   object        \n",
            " 7   ocorrencia_dia            5245 non-null   datetime64[ns]\n",
            " 8   ocorrencia_hora           5236 non-null   object        \n",
            " 9   investigacao_status       4887 non-null   object        \n",
            "dtypes: datetime64[ns](1), int64(1), object(8)\n",
            "memory usage: 409.9+ KB\n"
          ],
          "name": "stdout"
        }
      ]
    },
    {
      "cell_type": "markdown",
      "metadata": {
        "id": "SsnPkmJdYDF5",
        "colab_type": "text"
      },
      "source": [
        "**Dataset: ocorrencia_tipo**"
      ]
    },
    {
      "cell_type": "code",
      "metadata": {
        "id": "tQ7eG-sJYaq8",
        "colab_type": "code",
        "colab": {
          "base_uri": "https://localhost:8080/",
          "height": 204
        },
        "outputId": "ce70805d-26c6-4dd7-c5b7-cdf2b6db5016"
      },
      "source": [
        "# carrega e exibe dataset df_fator_contribuinte\n",
        "df_ocorrencia_tipo = pd.read_excel('/content/drive/My Drive/Colab Data Science/Projetos/CENIPA/ocorrencia_tipo.xlsx')\n",
        "\n",
        "# renomeia coluna\n",
        "df_ocorrencia_tipo = df_ocorrencia_tipo.rename(columns={'codigo_ocorrencia1':'codigo_ocorrencia'})\n",
        "\n",
        "# exibi dataset\n",
        "df_ocorrencia_tipo.head()"
      ],
      "execution_count": 6,
      "outputs": [
        {
          "output_type": "execute_result",
          "data": {
            "text/html": [
              "<div>\n",
              "<style scoped>\n",
              "    .dataframe tbody tr th:only-of-type {\n",
              "        vertical-align: middle;\n",
              "    }\n",
              "\n",
              "    .dataframe tbody tr th {\n",
              "        vertical-align: top;\n",
              "    }\n",
              "\n",
              "    .dataframe thead th {\n",
              "        text-align: right;\n",
              "    }\n",
              "</style>\n",
              "<table border=\"1\" class=\"dataframe\">\n",
              "  <thead>\n",
              "    <tr style=\"text-align: right;\">\n",
              "      <th></th>\n",
              "      <th>codigo_ocorrencia</th>\n",
              "      <th>ocorrencia_tipo</th>\n",
              "      <th>ocorrencia_tipo_categoria</th>\n",
              "      <th>taxonomia_tipo_icao</th>\n",
              "    </tr>\n",
              "  </thead>\n",
              "  <tbody>\n",
              "    <tr>\n",
              "      <th>0</th>\n",
              "      <td>39115</td>\n",
              "      <td>PANE SECA</td>\n",
              "      <td>COMBUSTÍVEL | PANE SECA</td>\n",
              "      <td>FUEL</td>\n",
              "    </tr>\n",
              "    <tr>\n",
              "      <th>1</th>\n",
              "      <td>39155</td>\n",
              "      <td>VAZAMENTO DE COMBUSTÍVEL</td>\n",
              "      <td>FALHA OU MAU FUNCIONAMENTO DE SISTEMA / COMPON...</td>\n",
              "      <td>SCF-NP</td>\n",
              "    </tr>\n",
              "    <tr>\n",
              "      <th>2</th>\n",
              "      <td>39156</td>\n",
              "      <td>FOGO EM VOO</td>\n",
              "      <td>FOGO/FUMAÇA (SEM IMPACTO) | FOGO EM VOO</td>\n",
              "      <td>F-NI</td>\n",
              "    </tr>\n",
              "    <tr>\n",
              "      <th>3</th>\n",
              "      <td>39158</td>\n",
              "      <td>SUPERAQUECIMENTO</td>\n",
              "      <td>FALHA OU MAU FUNCIONAMENTO DO MOTOR | SUPERAQU...</td>\n",
              "      <td>SCF-PP</td>\n",
              "    </tr>\n",
              "    <tr>\n",
              "      <th>4</th>\n",
              "      <td>39176</td>\n",
              "      <td>FALHA OU MAU FUNCIONAMENTO DE SISTEMA / COMPON...</td>\n",
              "      <td>FALHA OU MAU FUNCIONAMENTO DE SISTEMA / COMPON...</td>\n",
              "      <td>SCF-NP</td>\n",
              "    </tr>\n",
              "  </tbody>\n",
              "</table>\n",
              "</div>"
            ],
            "text/plain": [
              "   codigo_ocorrencia  ... taxonomia_tipo_icao\n",
              "0              39115  ...                FUEL\n",
              "1              39155  ...              SCF-NP\n",
              "2              39156  ...                F-NI\n",
              "3              39158  ...              SCF-PP\n",
              "4              39176  ...              SCF-NP\n",
              "\n",
              "[5 rows x 4 columns]"
            ]
          },
          "metadata": {
            "tags": []
          },
          "execution_count": 6
        }
      ]
    },
    {
      "cell_type": "code",
      "metadata": {
        "id": "cZr9OqX1fm2V",
        "colab_type": "code",
        "colab": {
          "base_uri": "https://localhost:8080/",
          "height": 255
        },
        "outputId": "41d3f334-36c0-4cf2-ccc6-cb69dcef082c"
      },
      "source": [
        "# tamanho dataset\n",
        "print('Variáveis: {}' .format(df_ocorrencia_tipo.shape[1]))\n",
        "print('Entradas: {} \\n' .format(df_ocorrencia_tipo.shape[0]))\n",
        "\n",
        "df_ocorrencia_tipo.info();"
      ],
      "execution_count": 7,
      "outputs": [
        {
          "output_type": "stream",
          "text": [
            "Variáveis: 4\n",
            "Entradas: 5317 \n",
            "\n",
            "<class 'pandas.core.frame.DataFrame'>\n",
            "RangeIndex: 5317 entries, 0 to 5316\n",
            "Data columns (total 4 columns):\n",
            " #   Column                     Non-Null Count  Dtype \n",
            "---  ------                     --------------  ----- \n",
            " 0   codigo_ocorrencia          5317 non-null   int64 \n",
            " 1   ocorrencia_tipo            5317 non-null   object\n",
            " 2   ocorrencia_tipo_categoria  5317 non-null   object\n",
            " 3   taxonomia_tipo_icao        5317 non-null   object\n",
            "dtypes: int64(1), object(3)\n",
            "memory usage: 166.3+ KB\n"
          ],
          "name": "stdout"
        }
      ]
    },
    {
      "cell_type": "markdown",
      "metadata": {
        "id": "gvk8oWf1qh-8",
        "colab_type": "text"
      },
      "source": [
        "**Dataset: fator_contribuinte**"
      ]
    },
    {
      "cell_type": "code",
      "metadata": {
        "id": "msbLLsNQqm-L",
        "colab_type": "code",
        "colab": {
          "base_uri": "https://localhost:8080/",
          "height": 204
        },
        "outputId": "aeb42b55-de74-4943-b711-64348a495736"
      },
      "source": [
        "# carrega e exibe dataset df_fator_contribuinte\n",
        "df_fator_contribuinte = pd.read_excel('/content/drive/My Drive/Colab Data Science/Projetos/CENIPA/fator_contribuinte.xlsx')\n",
        "\n",
        "# renomeia coluna\n",
        "df_fator_contribuinte = df_fator_contribuinte.rename(columns={'codigo_ocorrencia3':'codigo_ocorrencia'})\n",
        "\n",
        "# exibi dataset\n",
        "df_fator_contribuinte.head()"
      ],
      "execution_count": 8,
      "outputs": [
        {
          "output_type": "execute_result",
          "data": {
            "text/html": [
              "<div>\n",
              "<style scoped>\n",
              "    .dataframe tbody tr th:only-of-type {\n",
              "        vertical-align: middle;\n",
              "    }\n",
              "\n",
              "    .dataframe tbody tr th {\n",
              "        vertical-align: top;\n",
              "    }\n",
              "\n",
              "    .dataframe thead th {\n",
              "        text-align: right;\n",
              "    }\n",
              "</style>\n",
              "<table border=\"1\" class=\"dataframe\">\n",
              "  <thead>\n",
              "    <tr style=\"text-align: right;\">\n",
              "      <th></th>\n",
              "      <th>codigo_ocorrencia</th>\n",
              "      <th>fator_nome</th>\n",
              "      <th>fator_aspecto</th>\n",
              "      <th>fator_condicionante</th>\n",
              "      <th>fator_area</th>\n",
              "    </tr>\n",
              "  </thead>\n",
              "  <tbody>\n",
              "    <tr>\n",
              "      <th>0</th>\n",
              "      <td>39115</td>\n",
              "      <td>APLICAÇÃO DE COMANDOS</td>\n",
              "      <td>DESEMPENHO DO SER HUMANO</td>\n",
              "      <td>OPERAÇÃO DA AERONAVE</td>\n",
              "      <td>FATOR OPERACIONAL</td>\n",
              "    </tr>\n",
              "    <tr>\n",
              "      <th>1</th>\n",
              "      <td>39115</td>\n",
              "      <td>JULGAMENTO DE PILOTAGEM</td>\n",
              "      <td>DESEMPENHO DO SER HUMANO</td>\n",
              "      <td>OPERAÇÃO DA AERONAVE</td>\n",
              "      <td>FATOR OPERACIONAL</td>\n",
              "    </tr>\n",
              "    <tr>\n",
              "      <th>2</th>\n",
              "      <td>39115</td>\n",
              "      <td>PERCEPÇÃO</td>\n",
              "      <td>ASPECTO PSICOLÓGICO</td>\n",
              "      <td>INDIVIDUAL</td>\n",
              "      <td>FATOR HUMANO</td>\n",
              "    </tr>\n",
              "    <tr>\n",
              "      <th>3</th>\n",
              "      <td>39115</td>\n",
              "      <td>PLANEJAMENTO DE VOO</td>\n",
              "      <td>DESEMPENHO DO SER HUMANO</td>\n",
              "      <td>OPERAÇÃO DA AERONAVE</td>\n",
              "      <td>FATOR OPERACIONAL</td>\n",
              "    </tr>\n",
              "    <tr>\n",
              "      <th>4</th>\n",
              "      <td>39115</td>\n",
              "      <td>POUCA EXPERIÊNCIA DO PILOTO</td>\n",
              "      <td>DESEMPENHO DO SER HUMANO</td>\n",
              "      <td>OPERAÇÃO DA AERONAVE</td>\n",
              "      <td>FATOR OPERACIONAL</td>\n",
              "    </tr>\n",
              "  </tbody>\n",
              "</table>\n",
              "</div>"
            ],
            "text/plain": [
              "   codigo_ocorrencia  ...         fator_area\n",
              "0              39115  ...  FATOR OPERACIONAL\n",
              "1              39115  ...  FATOR OPERACIONAL\n",
              "2              39115  ...       FATOR HUMANO\n",
              "3              39115  ...  FATOR OPERACIONAL\n",
              "4              39115  ...  FATOR OPERACIONAL\n",
              "\n",
              "[5 rows x 5 columns]"
            ]
          },
          "metadata": {
            "tags": []
          },
          "execution_count": 8
        }
      ]
    },
    {
      "cell_type": "markdown",
      "metadata": {
        "id": "dCRZXn1GO4JG",
        "colab_type": "text"
      },
      "source": [
        "**Nota.** Penas 5 primeiras linhas, podemos perceber que um aciente pode ser causado por diversos fatores. Préviamente, isso reforça o quanto é seguro voar. "
      ]
    },
    {
      "cell_type": "markdown",
      "metadata": {
        "id": "7Df1XDrVPedT",
        "colab_type": "text"
      },
      "source": [
        "**Dataset: aeronave**"
      ]
    },
    {
      "cell_type": "code",
      "metadata": {
        "id": "2dWHM1cfPb2u",
        "colab_type": "code",
        "colab": {
          "base_uri": "https://localhost:8080/",
          "height": 258
        },
        "outputId": "24cefa54-d4af-4d2a-c019-e229aacaa573"
      },
      "source": [
        "# carrega e exibe dataset df_fator_contribuinte\n",
        "df_aeronave = pd.read_excel('/content/drive/My Drive/Colab Data Science/Projetos/CENIPA/aeronave.xlsx')\n",
        "\n",
        "# renomeia coluna\n",
        "df_aeronave = df_aeronave.rename(columns={'codigo_ocorrencia2': 'codigo_ocorrencia'})\n",
        "\n",
        "# exibi dataset\n",
        "df_aeronave.head()"
      ],
      "execution_count": 9,
      "outputs": [
        {
          "output_type": "execute_result",
          "data": {
            "text/html": [
              "<div>\n",
              "<style scoped>\n",
              "    .dataframe tbody tr th:only-of-type {\n",
              "        vertical-align: middle;\n",
              "    }\n",
              "\n",
              "    .dataframe tbody tr th {\n",
              "        vertical-align: top;\n",
              "    }\n",
              "\n",
              "    .dataframe thead th {\n",
              "        text-align: right;\n",
              "    }\n",
              "</style>\n",
              "<table border=\"1\" class=\"dataframe\">\n",
              "  <thead>\n",
              "    <tr style=\"text-align: right;\">\n",
              "      <th></th>\n",
              "      <th>codigo_ocorrencia</th>\n",
              "      <th>aeronave_matricula</th>\n",
              "      <th>aeronave_operador_categoria</th>\n",
              "      <th>aeronave_tipo_veiculo</th>\n",
              "      <th>aeronave_fabricante</th>\n",
              "      <th>aeronave_modelo</th>\n",
              "      <th>aeronave_tipo_icao</th>\n",
              "      <th>aeronave_motor_tipo</th>\n",
              "      <th>aeronave_motor_quantidade</th>\n",
              "      <th>aeronave_pmd</th>\n",
              "      <th>aeronave_pmd_categoria</th>\n",
              "      <th>aeronave_assentos</th>\n",
              "      <th>aeronave_ano_fabricacao</th>\n",
              "      <th>aeronave_pais_fabricante</th>\n",
              "      <th>aeronave_pais_registro</th>\n",
              "      <th>aeronave_registro_categoria</th>\n",
              "      <th>aeronave_registro_segmento</th>\n",
              "      <th>aeronave_voo_origem</th>\n",
              "      <th>aeronave_voo_destino</th>\n",
              "      <th>aeronave_fase_operacao</th>\n",
              "      <th>aeronave_tipo_operacao</th>\n",
              "      <th>aeronave_nivel_dano</th>\n",
              "      <th>aeronave_fatalidades_total</th>\n",
              "    </tr>\n",
              "  </thead>\n",
              "  <tbody>\n",
              "    <tr>\n",
              "      <th>0</th>\n",
              "      <td>39115</td>\n",
              "      <td>PTNQX</td>\n",
              "      <td>PARTICULAR</td>\n",
              "      <td>AVIÃO</td>\n",
              "      <td>NEIVA INDUSTRIA AERONAUTICA</td>\n",
              "      <td>EMB-711A</td>\n",
              "      <td>P28R</td>\n",
              "      <td>PISTÃO</td>\n",
              "      <td>MONOMOTOR</td>\n",
              "      <td>1202</td>\n",
              "      <td>1202</td>\n",
              "      <td>4.0</td>\n",
              "      <td>1979.0</td>\n",
              "      <td>BRASIL</td>\n",
              "      <td>BRASIL</td>\n",
              "      <td>AVIÃO</td>\n",
              "      <td>PARTICULAR</td>\n",
              "      <td>BRIGADEIRO ARARIPE MACEDO</td>\n",
              "      <td>CORRENTINA</td>\n",
              "      <td>DECOLAGEM</td>\n",
              "      <td>PRIVADA</td>\n",
              "      <td>SUBSTANCIAL</td>\n",
              "      <td>0</td>\n",
              "    </tr>\n",
              "    <tr>\n",
              "      <th>1</th>\n",
              "      <td>39155</td>\n",
              "      <td>PTLVI</td>\n",
              "      <td>PARTICULAR</td>\n",
              "      <td>AVIÃO</td>\n",
              "      <td>BEECH AIRCRAFT</td>\n",
              "      <td>C90</td>\n",
              "      <td>BE9L</td>\n",
              "      <td>TURBOÉLICE</td>\n",
              "      <td>BIMOTOR</td>\n",
              "      <td>4377</td>\n",
              "      <td>4377</td>\n",
              "      <td>8.0</td>\n",
              "      <td>1979.0</td>\n",
              "      <td>BRASIL</td>\n",
              "      <td>BRASIL</td>\n",
              "      <td>AVIÃO</td>\n",
              "      <td>PARTICULAR</td>\n",
              "      <td>FORA DE AERODROMO</td>\n",
              "      <td>FORA DE AERODROMO</td>\n",
              "      <td>DECOLAGEM</td>\n",
              "      <td>PRIVADA</td>\n",
              "      <td>NENHUM</td>\n",
              "      <td>0</td>\n",
              "    </tr>\n",
              "    <tr>\n",
              "      <th>2</th>\n",
              "      <td>39156</td>\n",
              "      <td>PPPTO</td>\n",
              "      <td>REGULAR</td>\n",
              "      <td>AVIÃO</td>\n",
              "      <td>AEROSPATIALE AND ALENIA</td>\n",
              "      <td>ATR-72-212A</td>\n",
              "      <td>AT72</td>\n",
              "      <td>TURBOÉLICE</td>\n",
              "      <td>BIMOTOR</td>\n",
              "      <td>22500</td>\n",
              "      <td>22500</td>\n",
              "      <td>73.0</td>\n",
              "      <td>2008.0</td>\n",
              "      <td>BRASIL</td>\n",
              "      <td>BRASIL</td>\n",
              "      <td>AVIÃO</td>\n",
              "      <td>REGULAR</td>\n",
              "      <td>AFONSO PENA</td>\n",
              "      <td>ADALBERTO MENDES DA SILVA</td>\n",
              "      <td>ARREMETIDA NO AR</td>\n",
              "      <td>REGULAR</td>\n",
              "      <td>LEVE</td>\n",
              "      <td>0</td>\n",
              "    </tr>\n",
              "    <tr>\n",
              "      <th>3</th>\n",
              "      <td>39158</td>\n",
              "      <td>PRLGJ</td>\n",
              "      <td>REGULAR</td>\n",
              "      <td>AVIÃO</td>\n",
              "      <td>BOEING COMPANY</td>\n",
              "      <td>757-225</td>\n",
              "      <td>B752</td>\n",
              "      <td>JATO</td>\n",
              "      <td>BIMOTOR</td>\n",
              "      <td>108862</td>\n",
              "      <td>108862</td>\n",
              "      <td>5.0</td>\n",
              "      <td>1984.0</td>\n",
              "      <td>BRASIL</td>\n",
              "      <td>BRASIL</td>\n",
              "      <td>AVIÃO</td>\n",
              "      <td>REGULAR</td>\n",
              "      <td>FORA DE AERODROMO</td>\n",
              "      <td>FORA DE AERODROMO</td>\n",
              "      <td>SUBIDA</td>\n",
              "      <td>REGULAR</td>\n",
              "      <td>NENHUM</td>\n",
              "      <td>0</td>\n",
              "    </tr>\n",
              "    <tr>\n",
              "      <th>4</th>\n",
              "      <td>39176</td>\n",
              "      <td>PRMAA</td>\n",
              "      <td>REGULAR</td>\n",
              "      <td>AVIÃO</td>\n",
              "      <td>AIRBUS INDUSTRIE</td>\n",
              "      <td>A320-232</td>\n",
              "      <td>A320</td>\n",
              "      <td>JATO</td>\n",
              "      <td>BIMOTOR</td>\n",
              "      <td>77000</td>\n",
              "      <td>77000</td>\n",
              "      <td>184.0</td>\n",
              "      <td>2001.0</td>\n",
              "      <td>BRASIL</td>\n",
              "      <td>BRASIL</td>\n",
              "      <td>AVIÃO</td>\n",
              "      <td>REGULAR</td>\n",
              "      <td>FORA DE AERODROMO</td>\n",
              "      <td>FORA DE AERODROMO</td>\n",
              "      <td>SUBIDA</td>\n",
              "      <td>REGULAR</td>\n",
              "      <td>NENHUM</td>\n",
              "      <td>0</td>\n",
              "    </tr>\n",
              "  </tbody>\n",
              "</table>\n",
              "</div>"
            ],
            "text/plain": [
              "   codigo_ocorrencia  ... aeronave_fatalidades_total\n",
              "0              39115  ...                          0\n",
              "1              39155  ...                          0\n",
              "2              39156  ...                          0\n",
              "3              39158  ...                          0\n",
              "4              39176  ...                          0\n",
              "\n",
              "[5 rows x 23 columns]"
            ]
          },
          "metadata": {
            "tags": []
          },
          "execution_count": 9
        }
      ]
    },
    {
      "cell_type": "code",
      "metadata": {
        "id": "Bz_mrKlRVoqf",
        "colab_type": "code",
        "colab": {
          "base_uri": "https://localhost:8080/",
          "height": 578
        },
        "outputId": "5fc5a88e-ec11-40d0-ded8-88ce6459e9a4"
      },
      "source": [
        "# tamanho dataset\n",
        "print('Variáveis: {}'.format(df_aeronave.shape[1]))\n",
        "print('Entradas: {} \\n'.format(df_aeronave.shape[0]))\n",
        "\n",
        "df_aeronave.info()"
      ],
      "execution_count": 10,
      "outputs": [
        {
          "output_type": "stream",
          "text": [
            "Variáveis: 23\n",
            "Entradas: 5307 \n",
            "\n",
            "<class 'pandas.core.frame.DataFrame'>\n",
            "RangeIndex: 5307 entries, 0 to 5306\n",
            "Data columns (total 23 columns):\n",
            " #   Column                       Non-Null Count  Dtype  \n",
            "---  ------                       --------------  -----  \n",
            " 0   codigo_ocorrencia            5307 non-null   int64  \n",
            " 1   aeronave_matricula           5307 non-null   object \n",
            " 2   aeronave_operador_categoria  5307 non-null   object \n",
            " 3   aeronave_tipo_veiculo        5307 non-null   object \n",
            " 4   aeronave_fabricante          5307 non-null   object \n",
            " 5   aeronave_modelo              5307 non-null   object \n",
            " 6   aeronave_tipo_icao           5307 non-null   object \n",
            " 7   aeronave_motor_tipo          5307 non-null   object \n",
            " 8   aeronave_motor_quantidade    5307 non-null   object \n",
            " 9   aeronave_pmd                 5307 non-null   int64  \n",
            " 10  aeronave_pmd_categoria       5307 non-null   int64  \n",
            " 11  aeronave_assentos            5182 non-null   float64\n",
            " 12  aeronave_ano_fabricacao      5189 non-null   float64\n",
            " 13  aeronave_pais_fabricante     5307 non-null   object \n",
            " 14  aeronave_pais_registro       5307 non-null   object \n",
            " 15  aeronave_registro_categoria  5307 non-null   object \n",
            " 16  aeronave_registro_segmento   5307 non-null   object \n",
            " 17  aeronave_voo_origem          5307 non-null   object \n",
            " 18  aeronave_voo_destino         5307 non-null   object \n",
            " 19  aeronave_fase_operacao       5307 non-null   object \n",
            " 20  aeronave_tipo_operacao       5307 non-null   object \n",
            " 21  aeronave_nivel_dano          5307 non-null   object \n",
            " 22  aeronave_fatalidades_total   5307 non-null   int64  \n",
            "dtypes: float64(2), int64(4), object(17)\n",
            "memory usage: 953.7+ KB\n"
          ],
          "name": "stdout"
        }
      ]
    },
    {
      "cell_type": "code",
      "metadata": {
        "id": "N6jgmkYpaNqw",
        "colab_type": "code",
        "colab": {
          "base_uri": "https://localhost:8080/",
          "height": 265
        },
        "outputId": "cacd9b78-4cdc-4c9f-b7ae-8718f34e1dd1"
      },
      "source": [
        "df_aeronave['aeronave_tipo_veiculo'].value_counts().plot.barh();"
      ],
      "execution_count": 11,
      "outputs": [
        {
          "output_type": "display_data",
          "data": {
            "image/png": "[encoded data removed]",
            "text/plain": [
              "<Figure size 432x288 with 1 Axes>"
            ]
          },
          "metadata": {
            "tags": [],
            "needs_background": "light"
          }
        }
      ]
    },
    {
      "cell_type": "markdown",
      "metadata": {
        "id": "K0K2kByCY4S3",
        "colab_type": "text"
      },
      "source": [
        "**Dataset: Recomendação**"
      ]
    },
    {
      "cell_type": "code",
      "metadata": {
        "id": "ipTAk_ijYbJI",
        "colab_type": "code",
        "colab": {
          "base_uri": "https://localhost:8080/",
          "height": 343
        },
        "outputId": "1dea4234-c3fe-42e7-ca08-f882b3c02951"
      },
      "source": [
        "# carrega e exibe dataset df_fator_contribuinte\n",
        "df_recomendacao = pd.read_excel('/content/drive/My Drive/Colab Data Science/Projetos/CENIPA/recomendacao.xlsx')\n",
        "\n",
        "# renomeia coluna\n",
        "df_recomendacao = df_recomendacao.rename(columns={'codigo_ocorrencia4':'codigo_ocorrencia'})\n",
        "\n",
        "# exibi dataset\n",
        "df_recomendacao.head()"
      ],
      "execution_count": 12,
      "outputs": [
        {
          "output_type": "execute_result",
          "data": {
            "text/html": [
              "<div>\n",
              "<style scoped>\n",
              "    .dataframe tbody tr th:only-of-type {\n",
              "        vertical-align: middle;\n",
              "    }\n",
              "\n",
              "    .dataframe tbody tr th {\n",
              "        vertical-align: top;\n",
              "    }\n",
              "\n",
              "    .dataframe thead th {\n",
              "        text-align: right;\n",
              "    }\n",
              "</style>\n",
              "<table border=\"1\" class=\"dataframe\">\n",
              "  <thead>\n",
              "    <tr style=\"text-align: right;\">\n",
              "      <th></th>\n",
              "      <th>codigo_ocorrencia</th>\n",
              "      <th>recomendacao_numero</th>\n",
              "      <th>recomendacao_dia_assinatura</th>\n",
              "      <th>recomendacao_dia_encaminhamento</th>\n",
              "      <th>recomendacao_dia_feedback</th>\n",
              "      <th>recomendacao_conteudo</th>\n",
              "      <th>recomendacao_status</th>\n",
              "      <th>recomendacao_destinatario_sigla</th>\n",
              "      <th>recomendacao_destinatario</th>\n",
              "    </tr>\n",
              "  </thead>\n",
              "  <tbody>\n",
              "    <tr>\n",
              "      <th>0</th>\n",
              "      <td>39115</td>\n",
              "      <td>095/2011</td>\n",
              "      <td>2011-07-21</td>\n",
              "      <td>2011-08-01 00:00:00</td>\n",
              "      <td>2015-12-21 00:00:00</td>\n",
              "      <td>Revisar os requisitos de experiência recente p...</td>\n",
              "      <td>NÃO CUMPRIDA</td>\n",
              "      <td>ANAC</td>\n",
              "      <td>AGÊNCIA NACIONAL DE AVIAÇÃO CIVIL</td>\n",
              "    </tr>\n",
              "    <tr>\n",
              "      <th>1</th>\n",
              "      <td>39115</td>\n",
              "      <td>096/2011</td>\n",
              "      <td>2011-07-21</td>\n",
              "      <td>2011-08-01 00:00:00</td>\n",
              "      <td>2011-09-16 00:00:00</td>\n",
              "      <td>Divulgar o presente relatório final aos operad...</td>\n",
              "      <td>CUMPRIDA</td>\n",
              "      <td>ANAC</td>\n",
              "      <td>AGÊNCIA NACIONAL DE AVIAÇÃO CIVIL</td>\n",
              "    </tr>\n",
              "    <tr>\n",
              "      <th>2</th>\n",
              "      <td>39156</td>\n",
              "      <td>063/2011</td>\n",
              "      <td>2011-06-30</td>\n",
              "      <td>2011-08-01 00:00:00</td>\n",
              "      <td>2011-09-12 00:00:00</td>\n",
              "      <td>Divulgar este Relatório aos operadores de aero...</td>\n",
              "      <td>CUMPRIDA</td>\n",
              "      <td>ANAC</td>\n",
              "      <td>AGÊNCIA NACIONAL DE AVIAÇÃO CIVIL</td>\n",
              "    </tr>\n",
              "    <tr>\n",
              "      <th>3</th>\n",
              "      <td>39156</td>\n",
              "      <td>064/2011</td>\n",
              "      <td>2011-06-30</td>\n",
              "      <td>2011-08-01 00:00:00</td>\n",
              "      <td>2014-04-16 00:00:00</td>\n",
              "      <td>Acompanhar junto à autoridade primária de cert...</td>\n",
              "      <td>CUMPRIDA DE FORMA ALTERNATIVA</td>\n",
              "      <td>ANAC</td>\n",
              "      <td>AGÊNCIA NACIONAL DE AVIAÇÃO CIVIL</td>\n",
              "    </tr>\n",
              "    <tr>\n",
              "      <th>4</th>\n",
              "      <td>39235</td>\n",
              "      <td>205/2011</td>\n",
              "      <td>2011-08-29</td>\n",
              "      <td>2011-09-29 00:00:00</td>\n",
              "      <td>2012-11-06 00:00:00</td>\n",
              "      <td>Realizar uma vistoria de segurança de voo na A...</td>\n",
              "      <td>CUMPRIDA</td>\n",
              "      <td>ANAC</td>\n",
              "      <td>AGÊNCIA NACIONAL DE AVIAÇÃO CIVIL</td>\n",
              "    </tr>\n",
              "  </tbody>\n",
              "</table>\n",
              "</div>"
            ],
            "text/plain": [
              "   codigo_ocorrencia  ...          recomendacao_destinatario\n",
              "0              39115  ...  AGÊNCIA NACIONAL DE AVIAÇÃO CIVIL\n",
              "1              39115  ...  AGÊNCIA NACIONAL DE AVIAÇÃO CIVIL\n",
              "2              39156  ...  AGÊNCIA NACIONAL DE AVIAÇÃO CIVIL\n",
              "3              39156  ...  AGÊNCIA NACIONAL DE AVIAÇÃO CIVIL\n",
              "4              39235  ...  AGÊNCIA NACIONAL DE AVIAÇÃO CIVIL\n",
              "\n",
              "[5 rows x 9 columns]"
            ]
          },
          "metadata": {
            "tags": []
          },
          "execution_count": 12
        }
      ]
    },
    {
      "cell_type": "code",
      "metadata": {
        "id": "m1aRoN5FZmWu",
        "colab_type": "code",
        "colab": {
          "base_uri": "https://localhost:8080/",
          "height": 340
        },
        "outputId": "44d2248b-224f-44b6-caa0-8ea9c0498286"
      },
      "source": [
        "# tamanho dataset\n",
        "print('Variáveis: {}'.format(df_recomendacao.shape[1]))\n",
        "print('Entradas: {} \\n'.format(df_recomendacao.shape[0]))\n",
        "\n",
        "df_recomendacao.info()"
      ],
      "execution_count": 13,
      "outputs": [
        {
          "output_type": "stream",
          "text": [
            "Variáveis: 9\n",
            "Entradas: 1512 \n",
            "\n",
            "<class 'pandas.core.frame.DataFrame'>\n",
            "RangeIndex: 1512 entries, 0 to 1511\n",
            "Data columns (total 9 columns):\n",
            " #   Column                           Non-Null Count  Dtype         \n",
            "---  ------                           --------------  -----         \n",
            " 0   codigo_ocorrencia                1512 non-null   int64         \n",
            " 1   recomendacao_numero              1512 non-null   object        \n",
            " 2   recomendacao_dia_assinatura      1512 non-null   datetime64[ns]\n",
            " 3   recomendacao_dia_encaminhamento  1129 non-null   object        \n",
            " 4   recomendacao_dia_feedback        932 non-null    object        \n",
            " 5   recomendacao_conteudo            1512 non-null   object        \n",
            " 6   recomendacao_status              1512 non-null   object        \n",
            " 7   recomendacao_destinatario_sigla  1512 non-null   object        \n",
            " 8   recomendacao_destinatario        1512 non-null   object        \n",
            "dtypes: datetime64[ns](1), int64(1), object(7)\n",
            "memory usage: 106.4+ KB\n"
          ],
          "name": "stdout"
        }
      ]
    },
    {
      "cell_type": "markdown",
      "metadata": {
        "id": "HsEQ9uINCcXj",
        "colab_type": "text"
      },
      "source": [
        "Próxima etapa será de tratamento. Revolvi manter os originais e para cada um, criar um novo apenas com as variáveis que vamos trabalhar.\n",
        "\n",
        "Como vimos, nosso dataset **fator_contribuinte** e **recomendacao** podem existir mais de uma entrada para cada acidente, então não vamos juntar ao nosso conjunto principal. Essa junção poderia elevar os números de registros, atrapanando nossa contagem de ocorrencias de forma correta. "
      ]
    },
    {
      "cell_type": "code",
      "metadata": {
        "id": "KUZ9XcIyF-98",
        "colab_type": "code",
        "colab": {}
      },
      "source": [
        "# filtrando entradas em cada dataset\n",
        "# df_ocorrencia_aviacao\n",
        "df_ocorrencia_aviacao_filter = df_ocorrencia_aviacao.filter(\n",
        "    items=('codigo_ocorrencia', 'ocorrencia_classificacao', 'ocorrencia_latitude', 'ocorrencia_longitude', 'ocorrencia_cidade', 'ocorrencia_uf', \n",
        "           'ocorrencia_dia','investigacao_status')\n",
        "    )\n",
        "\n",
        "# df_ocorrencia_tipo\n",
        "df_ocorrencia_tipo_filter = df_ocorrencia_tipo.filter(items=('codigo_ocorrencia', 'ocorrencia_tipo'))\n",
        "\n",
        "# df_aeronave\n",
        "df_aeronave_filter = df_aeronave.filter(\n",
        "    items=('codigo_ocorrencia', 'aeronave_operador_categoria', 'aeronave_tipo_veiculo', 'aeronave_motor_quantidade', 'aeronave_tipo_operacao',\n",
        "           'aeronave_tipo_operacao', 'aeronave_nivel_dano')\n",
        "    )"
      ],
      "execution_count": 14,
      "outputs": []
    },
    {
      "cell_type": "markdown",
      "metadata": {
        "id": "yTS9dGXeRlO_",
        "colab_type": "text"
      },
      "source": [
        "Com os dataset devidamento limpos, vamos verificar nossas variáveis em forma de gráficos. "
      ]
    },
    {
      "cell_type": "markdown",
      "metadata": {
        "id": "FDQrjUKn0j4V",
        "colab_type": "text"
      },
      "source": [
        "**Mapa**"
      ]
    },
    {
      "cell_type": "markdown",
      "metadata": {
        "id": "Y7yiZBnE0tPQ",
        "colab_type": "text"
      },
      "source": [
        "Para plotar o mapa, é preciso que a latitude e longitude não tenham valores vazios ou nulos e também, seja do tipo float. Então, vamos separar essas duas variáveis em um novo dataset."
      ]
    },
    {
      "cell_type": "code",
      "metadata": {
        "id": "wwkMalJcRFxZ",
        "colab_type": "code",
        "colab": {
          "base_uri": "https://localhost:8080/",
          "height": 170
        },
        "outputId": "b73cdd6a-830b-4f80-e362-15807d06918b"
      },
      "source": [
        "# verificando as variáveis e os valores nulos\n",
        "df_ocorrencia_aviacao_filter.isnull().sum()"
      ],
      "execution_count": 15,
      "outputs": [
        {
          "output_type": "execute_result",
          "data": {
            "text/plain": [
              "codigo_ocorrencia              0\n",
              "ocorrencia_classificacao       0\n",
              "ocorrencia_latitude         1696\n",
              "ocorrencia_longitude        1697\n",
              "ocorrencia_cidade              0\n",
              "ocorrencia_uf                  0\n",
              "ocorrencia_dia                 0\n",
              "investigacao_status          358\n",
              "dtype: int64"
            ]
          },
          "metadata": {
            "tags": []
          },
          "execution_count": 15
        }
      ]
    },
    {
      "cell_type": "code",
      "metadata": {
        "id": "WxPp3xz_1HGS",
        "colab_type": "code",
        "colab": {
          "base_uri": "https://localhost:8080/",
          "height": 204
        },
        "outputId": "52b1a212-ffb3-4821-8ad6-7a6277521ea3"
      },
      "source": [
        "# separando latitude e a longitude\n",
        "df_coordenadas = df_ocorrencia_aviacao_filter.filter(items=('ocorrencia_latitude', 'ocorrencia_longitude'))\n",
        "df_coordenadas.head()"
      ],
      "execution_count": 16,
      "outputs": [
        {
          "output_type": "execute_result",
          "data": {
            "text/html": [
              "<div>\n",
              "<style scoped>\n",
              "    .dataframe tbody tr th:only-of-type {\n",
              "        vertical-align: middle;\n",
              "    }\n",
              "\n",
              "    .dataframe tbody tr th {\n",
              "        vertical-align: top;\n",
              "    }\n",
              "\n",
              "    .dataframe thead th {\n",
              "        text-align: right;\n",
              "    }\n",
              "</style>\n",
              "<table border=\"1\" class=\"dataframe\">\n",
              "  <thead>\n",
              "    <tr style=\"text-align: right;\">\n",
              "      <th></th>\n",
              "      <th>ocorrencia_latitude</th>\n",
              "      <th>ocorrencia_longitude</th>\n",
              "    </tr>\n",
              "  </thead>\n",
              "  <tbody>\n",
              "    <tr>\n",
              "      <th>0</th>\n",
              "      <td>-133805555556</td>\n",
              "      <td>-446172222222</td>\n",
              "    </tr>\n",
              "    <tr>\n",
              "      <th>1</th>\n",
              "      <td>NaN</td>\n",
              "      <td>NaN</td>\n",
              "    </tr>\n",
              "    <tr>\n",
              "      <th>2</th>\n",
              "      <td>-152402777778</td>\n",
              "      <td>-593541666667</td>\n",
              "    </tr>\n",
              "    <tr>\n",
              "      <th>3</th>\n",
              "      <td>***</td>\n",
              "      <td>***</td>\n",
              "    </tr>\n",
              "    <tr>\n",
              "      <th>4</th>\n",
              "      <td>NaN</td>\n",
              "      <td>NaN</td>\n",
              "    </tr>\n",
              "  </tbody>\n",
              "</table>\n",
              "</div>"
            ],
            "text/plain": [
              "  ocorrencia_latitude ocorrencia_longitude\n",
              "0       -133805555556        -446172222222\n",
              "1                 NaN                  NaN\n",
              "2       -152402777778        -593541666667\n",
              "3                 ***                  ***\n",
              "4                 NaN                  NaN"
            ]
          },
          "metadata": {
            "tags": []
          },
          "execution_count": 16
        }
      ]
    },
    {
      "cell_type": "code",
      "metadata": {
        "id": "c5FH3JgI2T2K",
        "colab_type": "code",
        "colab": {
          "base_uri": "https://localhost:8080/",
          "height": 204
        },
        "outputId": "7c217b9c-8245-44d1-a6e1-7cb3ebb49500"
      },
      "source": [
        "# elimitando valores nulos\n",
        "df_coordenadas.dropna(how='any', inplace=True)\n",
        "df_coordenadas.head()"
      ],
      "execution_count": 17,
      "outputs": [
        {
          "output_type": "execute_result",
          "data": {
            "text/html": [
              "<div>\n",
              "<style scoped>\n",
              "    .dataframe tbody tr th:only-of-type {\n",
              "        vertical-align: middle;\n",
              "    }\n",
              "\n",
              "    .dataframe tbody tr th {\n",
              "        vertical-align: top;\n",
              "    }\n",
              "\n",
              "    .dataframe thead th {\n",
              "        text-align: right;\n",
              "    }\n",
              "</style>\n",
              "<table border=\"1\" class=\"dataframe\">\n",
              "  <thead>\n",
              "    <tr style=\"text-align: right;\">\n",
              "      <th></th>\n",
              "      <th>ocorrencia_latitude</th>\n",
              "      <th>ocorrencia_longitude</th>\n",
              "    </tr>\n",
              "  </thead>\n",
              "  <tbody>\n",
              "    <tr>\n",
              "      <th>0</th>\n",
              "      <td>-133805555556</td>\n",
              "      <td>-446172222222</td>\n",
              "    </tr>\n",
              "    <tr>\n",
              "      <th>2</th>\n",
              "      <td>-152402777778</td>\n",
              "      <td>-593541666667</td>\n",
              "    </tr>\n",
              "    <tr>\n",
              "      <th>3</th>\n",
              "      <td>***</td>\n",
              "      <td>***</td>\n",
              "    </tr>\n",
              "    <tr>\n",
              "      <th>6</th>\n",
              "      <td>-180583333333</td>\n",
              "      <td>-501458333333</td>\n",
              "    </tr>\n",
              "    <tr>\n",
              "      <th>7</th>\n",
              "      <td>-235758333333</td>\n",
              "      <td>-467022222222</td>\n",
              "    </tr>\n",
              "  </tbody>\n",
              "</table>\n",
              "</div>"
            ],
            "text/plain": [
              "  ocorrencia_latitude ocorrencia_longitude\n",
              "0       -133805555556        -446172222222\n",
              "2       -152402777778        -593541666667\n",
              "3                 ***                  ***\n",
              "6       -180583333333        -501458333333\n",
              "7       -235758333333        -467022222222"
            ]
          },
          "metadata": {
            "tags": []
          },
          "execution_count": 17
        }
      ]
    },
    {
      "cell_type": "code",
      "metadata": {
        "id": "WXjfbrcE2IC7",
        "colab_type": "code",
        "colab": {
          "base_uri": "https://localhost:8080/",
          "height": 204
        },
        "outputId": "bb57143b-8453-4645-8d2d-2007c5508b4b"
      },
      "source": [
        "# retirar os '***'\n",
        "df_coordenadas = df_coordenadas[df_coordenadas['ocorrencia_latitude'] != '***']\n",
        "df_coordenadas.head()"
      ],
      "execution_count": 18,
      "outputs": [
        {
          "output_type": "execute_result",
          "data": {
            "text/html": [
              "<div>\n",
              "<style scoped>\n",
              "    .dataframe tbody tr th:only-of-type {\n",
              "        vertical-align: middle;\n",
              "    }\n",
              "\n",
              "    .dataframe tbody tr th {\n",
              "        vertical-align: top;\n",
              "    }\n",
              "\n",
              "    .dataframe thead th {\n",
              "        text-align: right;\n",
              "    }\n",
              "</style>\n",
              "<table border=\"1\" class=\"dataframe\">\n",
              "  <thead>\n",
              "    <tr style=\"text-align: right;\">\n",
              "      <th></th>\n",
              "      <th>ocorrencia_latitude</th>\n",
              "      <th>ocorrencia_longitude</th>\n",
              "    </tr>\n",
              "  </thead>\n",
              "  <tbody>\n",
              "    <tr>\n",
              "      <th>0</th>\n",
              "      <td>-133805555556</td>\n",
              "      <td>-446172222222</td>\n",
              "    </tr>\n",
              "    <tr>\n",
              "      <th>2</th>\n",
              "      <td>-152402777778</td>\n",
              "      <td>-593541666667</td>\n",
              "    </tr>\n",
              "    <tr>\n",
              "      <th>6</th>\n",
              "      <td>-180583333333</td>\n",
              "      <td>-501458333333</td>\n",
              "    </tr>\n",
              "    <tr>\n",
              "      <th>7</th>\n",
              "      <td>-235758333333</td>\n",
              "      <td>-467022222222</td>\n",
              "    </tr>\n",
              "    <tr>\n",
              "      <th>9</th>\n",
              "      <td>-6615</td>\n",
              "      <td>-641116666667</td>\n",
              "    </tr>\n",
              "  </tbody>\n",
              "</table>\n",
              "</div>"
            ],
            "text/plain": [
              "  ocorrencia_latitude ocorrencia_longitude\n",
              "0       -133805555556        -446172222222\n",
              "2       -152402777778        -593541666667\n",
              "6       -180583333333        -501458333333\n",
              "7       -235758333333        -467022222222\n",
              "9               -6615        -641116666667"
            ]
          },
          "metadata": {
            "tags": []
          },
          "execution_count": 18
        }
      ]
    },
    {
      "cell_type": "markdown",
      "metadata": {
        "id": "WJ-kCZT6VgwY",
        "colab_type": "text"
      },
      "source": [
        "**Outras Visões**\n"
      ]
    },
    {
      "cell_type": "code",
      "metadata": {
        "id": "ckkfrIxIXdQW",
        "colab_type": "code",
        "colab": {
          "base_uri": "https://localhost:8080/",
          "height": 510
        },
        "outputId": "53dd3a8b-2601-41c3-f856-74b8888d46d8"
      },
      "source": [
        "# ocorrencia por UFs\n",
        "df_ocorrencia_aviacao_filter['ocorrencia_uf'].value_counts() / df_ocorrencia_aviacao_filter['ocorrencia_uf'].shape[0]*100"
      ],
      "execution_count": 19,
      "outputs": [
        {
          "output_type": "execute_result",
          "data": {
            "text/plain": [
              "SP     23.622498\n",
              "MG      9.189704\n",
              "RJ      9.151573\n",
              "PR      8.408008\n",
              "RS      6.367969\n",
              "GO      5.452812\n",
              "PA      5.014299\n",
              "MT      4.861773\n",
              "AM      4.137274\n",
              "BA      3.813155\n",
              "SC      3.164919\n",
              "MS      2.516683\n",
              "DF      2.459485\n",
              "PE      1.715920\n",
              "CE      1.487131\n",
              "ES      1.334604\n",
              "MA      1.296473\n",
              "AC      1.029552\n",
              "RR      0.934223\n",
              "TO      0.877026\n",
              "PI      0.686368\n",
              "AL      0.571973\n",
              "RO      0.571973\n",
              "PB      0.438513\n",
              "SE      0.400381\n",
              "RN      0.266921\n",
              "AP      0.171592\n",
              "***     0.057197\n",
              "Name: ocorrencia_uf, dtype: float64"
            ]
          },
          "metadata": {
            "tags": []
          },
          "execution_count": 19
        }
      ]
    },
    {
      "cell_type": "markdown",
      "metadata": {
        "id": "Ps7P5SBicIix",
        "colab_type": "text"
      },
      "source": [
        "\n",
        "Primeiro uma distribuição em percentual por estado. Vimos que São Paulo se destaca como estado com maior ocorrencia, representando 23%. Para sabermos se esse número é bom ou ruim, seria preciso, termos também um dataset com frequencia de decolagem. Assim, seria possível comparar a quantidade de acidentes com o número de decolagem.  \n",
        "\n",
        "Mas, como a análise é para fins didáticos, vou restringir ainda mais o dataset. Por ser minha região, vamos trabalhar as ocorrencias no Nordeste e em especial, Pernambuco. "
      ]
    },
    {
      "cell_type": "code",
      "metadata": {
        "id": "fMGRLP6bccMb",
        "colab_type": "code",
        "colab": {}
      },
      "source": [
        "# eliminando latitude e longitude\n",
        "df_ocorrencia_aviacao_ne = df_ocorrencia_aviacao_filter.filter(\n",
        "      items=('codigo_ocorrencia', 'ocorrencia_classificacao', 'ocorrencia_cidade', 'ocorrencia_uf', 'ocorrencia_dia')\n",
        "      )"
      ],
      "execution_count": 20,
      "outputs": []
    },
    {
      "cell_type": "code",
      "metadata": {
        "id": "hMIlCh1Ciotb",
        "colab_type": "code",
        "colab": {}
      },
      "source": [
        "# carregar apenas estados da região nordeste\n",
        "df_ocorrencia_aviacao_ne = df_ocorrencia_aviacao_ne.loc[df_ocorrencia_aviacao_ne['ocorrencia_uf'].isin(['MA', 'PI', 'CE', 'RN', 'PB', 'PE', 'SE', 'AL', 'BA'])]\n"
      ],
      "execution_count": 21,
      "outputs": []
    },
    {
      "cell_type": "markdown",
      "metadata": {
        "id": "YJzkEnTMvDi5",
        "colab_type": "text"
      },
      "source": [
        "Acho interessante trazer a informação sobre a aeronave envolvida no acidente. Para isso, vamos exibir e depois selecionar as informações para juntar ao dataset das ocorrencias."
      ]
    },
    {
      "cell_type": "code",
      "metadata": {
        "id": "CpRUDvbtu6zO",
        "colab_type": "code",
        "colab": {
          "base_uri": "https://localhost:8080/",
          "height": 258
        },
        "outputId": "f81e1640-bbf7-47b5-dd5b-0d86fbf35110"
      },
      "source": [
        "# exibir informações sobre a aeronave\n",
        "df_aeronave.head()"
      ],
      "execution_count": 22,
      "outputs": [
        {
          "output_type": "execute_result",
          "data": {
            "text/html": [
              "<div>\n",
              "<style scoped>\n",
              "    .dataframe tbody tr th:only-of-type {\n",
              "        vertical-align: middle;\n",
              "    }\n",
              "\n",
              "    .dataframe tbody tr th {\n",
              "        vertical-align: top;\n",
              "    }\n",
              "\n",
              "    .dataframe thead th {\n",
              "        text-align: right;\n",
              "    }\n",
              "</style>\n",
              "<table border=\"1\" class=\"dataframe\">\n",
              "  <thead>\n",
              "    <tr style=\"text-align: right;\">\n",
              "      <th></th>\n",
              "      <th>codigo_ocorrencia</th>\n",
              "      <th>aeronave_matricula</th>\n",
              "      <th>aeronave_operador_categoria</th>\n",
              "      <th>aeronave_tipo_veiculo</th>\n",
              "      <th>aeronave_fabricante</th>\n",
              "      <th>aeronave_modelo</th>\n",
              "      <th>aeronave_tipo_icao</th>\n",
              "      <th>aeronave_motor_tipo</th>\n",
              "      <th>aeronave_motor_quantidade</th>\n",
              "      <th>aeronave_pmd</th>\n",
              "      <th>aeronave_pmd_categoria</th>\n",
              "      <th>aeronave_assentos</th>\n",
              "      <th>aeronave_ano_fabricacao</th>\n",
              "      <th>aeronave_pais_fabricante</th>\n",
              "      <th>aeronave_pais_registro</th>\n",
              "      <th>aeronave_registro_categoria</th>\n",
              "      <th>aeronave_registro_segmento</th>\n",
              "      <th>aeronave_voo_origem</th>\n",
              "      <th>aeronave_voo_destino</th>\n",
              "      <th>aeronave_fase_operacao</th>\n",
              "      <th>aeronave_tipo_operacao</th>\n",
              "      <th>aeronave_nivel_dano</th>\n",
              "      <th>aeronave_fatalidades_total</th>\n",
              "    </tr>\n",
              "  </thead>\n",
              "  <tbody>\n",
              "    <tr>\n",
              "      <th>0</th>\n",
              "      <td>39115</td>\n",
              "      <td>PTNQX</td>\n",
              "      <td>PARTICULAR</td>\n",
              "      <td>AVIÃO</td>\n",
              "      <td>NEIVA INDUSTRIA AERONAUTICA</td>\n",
              "      <td>EMB-711A</td>\n",
              "      <td>P28R</td>\n",
              "      <td>PISTÃO</td>\n",
              "      <td>MONOMOTOR</td>\n",
              "      <td>1202</td>\n",
              "      <td>1202</td>\n",
              "      <td>4.0</td>\n",
              "      <td>1979.0</td>\n",
              "      <td>BRASIL</td>\n",
              "      <td>BRASIL</td>\n",
              "      <td>AVIÃO</td>\n",
              "      <td>PARTICULAR</td>\n",
              "      <td>BRIGADEIRO ARARIPE MACEDO</td>\n",
              "      <td>CORRENTINA</td>\n",
              "      <td>DECOLAGEM</td>\n",
              "      <td>PRIVADA</td>\n",
              "      <td>SUBSTANCIAL</td>\n",
              "      <td>0</td>\n",
              "    </tr>\n",
              "    <tr>\n",
              "      <th>1</th>\n",
              "      <td>39155</td>\n",
              "      <td>PTLVI</td>\n",
              "      <td>PARTICULAR</td>\n",
              "      <td>AVIÃO</td>\n",
              "      <td>BEECH AIRCRAFT</td>\n",
              "      <td>C90</td>\n",
              "      <td>BE9L</td>\n",
              "      <td>TURBOÉLICE</td>\n",
              "      <td>BIMOTOR</td>\n",
              "      <td>4377</td>\n",
              "      <td>4377</td>\n",
              "      <td>8.0</td>\n",
              "      <td>1979.0</td>\n",
              "      <td>BRASIL</td>\n",
              "      <td>BRASIL</td>\n",
              "      <td>AVIÃO</td>\n",
              "      <td>PARTICULAR</td>\n",
              "      <td>FORA DE AERODROMO</td>\n",
              "      <td>FORA DE AERODROMO</td>\n",
              "      <td>DECOLAGEM</td>\n",
              "      <td>PRIVADA</td>\n",
              "      <td>NENHUM</td>\n",
              "      <td>0</td>\n",
              "    </tr>\n",
              "    <tr>\n",
              "      <th>2</th>\n",
              "      <td>39156</td>\n",
              "      <td>PPPTO</td>\n",
              "      <td>REGULAR</td>\n",
              "      <td>AVIÃO</td>\n",
              "      <td>AEROSPATIALE AND ALENIA</td>\n",
              "      <td>ATR-72-212A</td>\n",
              "      <td>AT72</td>\n",
              "      <td>TURBOÉLICE</td>\n",
              "      <td>BIMOTOR</td>\n",
              "      <td>22500</td>\n",
              "      <td>22500</td>\n",
              "      <td>73.0</td>\n",
              "      <td>2008.0</td>\n",
              "      <td>BRASIL</td>\n",
              "      <td>BRASIL</td>\n",
              "      <td>AVIÃO</td>\n",
              "      <td>REGULAR</td>\n",
              "      <td>AFONSO PENA</td>\n",
              "      <td>ADALBERTO MENDES DA SILVA</td>\n",
              "      <td>ARREMETIDA NO AR</td>\n",
              "      <td>REGULAR</td>\n",
              "      <td>LEVE</td>\n",
              "      <td>0</td>\n",
              "    </tr>\n",
              "    <tr>\n",
              "      <th>3</th>\n",
              "      <td>39158</td>\n",
              "      <td>PRLGJ</td>\n",
              "      <td>REGULAR</td>\n",
              "      <td>AVIÃO</td>\n",
              "      <td>BOEING COMPANY</td>\n",
              "      <td>757-225</td>\n",
              "      <td>B752</td>\n",
              "      <td>JATO</td>\n",
              "      <td>BIMOTOR</td>\n",
              "      <td>108862</td>\n",
              "      <td>108862</td>\n",
              "      <td>5.0</td>\n",
              "      <td>1984.0</td>\n",
              "      <td>BRASIL</td>\n",
              "      <td>BRASIL</td>\n",
              "      <td>AVIÃO</td>\n",
              "      <td>REGULAR</td>\n",
              "      <td>FORA DE AERODROMO</td>\n",
              "      <td>FORA DE AERODROMO</td>\n",
              "      <td>SUBIDA</td>\n",
              "      <td>REGULAR</td>\n",
              "      <td>NENHUM</td>\n",
              "      <td>0</td>\n",
              "    </tr>\n",
              "    <tr>\n",
              "      <th>4</th>\n",
              "      <td>39176</td>\n",
              "      <td>PRMAA</td>\n",
              "      <td>REGULAR</td>\n",
              "      <td>AVIÃO</td>\n",
              "      <td>AIRBUS INDUSTRIE</td>\n",
              "      <td>A320-232</td>\n",
              "      <td>A320</td>\n",
              "      <td>JATO</td>\n",
              "      <td>BIMOTOR</td>\n",
              "      <td>77000</td>\n",
              "      <td>77000</td>\n",
              "      <td>184.0</td>\n",
              "      <td>2001.0</td>\n",
              "      <td>BRASIL</td>\n",
              "      <td>BRASIL</td>\n",
              "      <td>AVIÃO</td>\n",
              "      <td>REGULAR</td>\n",
              "      <td>FORA DE AERODROMO</td>\n",
              "      <td>FORA DE AERODROMO</td>\n",
              "      <td>SUBIDA</td>\n",
              "      <td>REGULAR</td>\n",
              "      <td>NENHUM</td>\n",
              "      <td>0</td>\n",
              "    </tr>\n",
              "  </tbody>\n",
              "</table>\n",
              "</div>"
            ],
            "text/plain": [
              "   codigo_ocorrencia  ... aeronave_fatalidades_total\n",
              "0              39115  ...                          0\n",
              "1              39155  ...                          0\n",
              "2              39156  ...                          0\n",
              "3              39158  ...                          0\n",
              "4              39176  ...                          0\n",
              "\n",
              "[5 rows x 23 columns]"
            ]
          },
          "metadata": {
            "tags": []
          },
          "execution_count": 22
        }
      ]
    },
    {
      "cell_type": "code",
      "metadata": {
        "id": "ZvphLNwowL1-",
        "colab_type": "code",
        "colab": {}
      },
      "source": [
        "# selecionando colunas\n",
        "tipo_aeronave = df_aeronave.filter(items=('codigo_ocorrencia','aeronave_tipo_veiculo', 'aeronave_tipo_operacao'))"
      ],
      "execution_count": 23,
      "outputs": []
    },
    {
      "cell_type": "code",
      "metadata": {
        "id": "jVvU8DmyZrAA",
        "colab_type": "code",
        "colab": {
          "base_uri": "https://localhost:8080/",
          "height": 204
        },
        "outputId": "35795856-daf1-48fc-9cf6-dc7968fce634"
      },
      "source": [
        "# exibindo novo dataset\n",
        "df_ocorrencia_aviacao_ne.head()"
      ],
      "execution_count": 24,
      "outputs": [
        {
          "output_type": "execute_result",
          "data": {
            "text/html": [
              "<div>\n",
              "<style scoped>\n",
              "    .dataframe tbody tr th:only-of-type {\n",
              "        vertical-align: middle;\n",
              "    }\n",
              "\n",
              "    .dataframe tbody tr th {\n",
              "        vertical-align: top;\n",
              "    }\n",
              "\n",
              "    .dataframe thead th {\n",
              "        text-align: right;\n",
              "    }\n",
              "</style>\n",
              "<table border=\"1\" class=\"dataframe\">\n",
              "  <thead>\n",
              "    <tr style=\"text-align: right;\">\n",
              "      <th></th>\n",
              "      <th>codigo_ocorrencia</th>\n",
              "      <th>ocorrencia_classificacao</th>\n",
              "      <th>ocorrencia_cidade</th>\n",
              "      <th>ocorrencia_uf</th>\n",
              "      <th>ocorrencia_dia</th>\n",
              "    </tr>\n",
              "  </thead>\n",
              "  <tbody>\n",
              "    <tr>\n",
              "      <th>0</th>\n",
              "      <td>39115</td>\n",
              "      <td>ACIDENTE</td>\n",
              "      <td>CORRENTINA</td>\n",
              "      <td>BA</td>\n",
              "      <td>2010-02-07</td>\n",
              "    </tr>\n",
              "    <tr>\n",
              "      <th>4</th>\n",
              "      <td>39176</td>\n",
              "      <td>INCIDENTE</td>\n",
              "      <td>SÃO LUÍS</td>\n",
              "      <td>MA</td>\n",
              "      <td>2010-02-05</td>\n",
              "    </tr>\n",
              "    <tr>\n",
              "      <th>32</th>\n",
              "      <td>39747</td>\n",
              "      <td>INCIDENTE</td>\n",
              "      <td>CAIRU</td>\n",
              "      <td>BA</td>\n",
              "      <td>2010-01-31</td>\n",
              "    </tr>\n",
              "    <tr>\n",
              "      <th>38</th>\n",
              "      <td>39807</td>\n",
              "      <td>INCIDENTE</td>\n",
              "      <td>SALVADOR</td>\n",
              "      <td>BA</td>\n",
              "      <td>2010-01-06</td>\n",
              "    </tr>\n",
              "    <tr>\n",
              "      <th>40</th>\n",
              "      <td>39810</td>\n",
              "      <td>INCIDENTE</td>\n",
              "      <td>SALVADOR</td>\n",
              "      <td>BA</td>\n",
              "      <td>2010-01-15</td>\n",
              "    </tr>\n",
              "  </tbody>\n",
              "</table>\n",
              "</div>"
            ],
            "text/plain": [
              "    codigo_ocorrencia ocorrencia_classificacao  ... ocorrencia_uf ocorrencia_dia\n",
              "0               39115                 ACIDENTE  ...            BA     2010-02-07\n",
              "4               39176                INCIDENTE  ...            MA     2010-02-05\n",
              "32              39747                INCIDENTE  ...            BA     2010-01-31\n",
              "38              39807                INCIDENTE  ...            BA     2010-01-06\n",
              "40              39810                INCIDENTE  ...            BA     2010-01-15\n",
              "\n",
              "[5 rows x 5 columns]"
            ]
          },
          "metadata": {
            "tags": []
          },
          "execution_count": 24
        }
      ]
    },
    {
      "cell_type": "code",
      "metadata": {
        "id": "M_uCDxXZw1ME",
        "colab_type": "code",
        "colab": {
          "base_uri": "https://localhost:8080/",
          "height": 204
        },
        "outputId": "10ef0400-7fa7-4a41-dc4b-02cbdfdef9da"
      },
      "source": [
        "# juntado datasets (tipo_aeronave e df_ocorrencia)\n",
        "df_ocorrencia_aviacao_ne = pd.merge(df_ocorrencia_aviacao_ne, tipo_aeronave, on='codigo_ocorrencia')\n",
        "df_ocorrencia_aviacao_ne.head()"
      ],
      "execution_count": 25,
      "outputs": [
        {
          "output_type": "execute_result",
          "data": {
            "text/html": [
              "<div>\n",
              "<style scoped>\n",
              "    .dataframe tbody tr th:only-of-type {\n",
              "        vertical-align: middle;\n",
              "    }\n",
              "\n",
              "    .dataframe tbody tr th {\n",
              "        vertical-align: top;\n",
              "    }\n",
              "\n",
              "    .dataframe thead th {\n",
              "        text-align: right;\n",
              "    }\n",
              "</style>\n",
              "<table border=\"1\" class=\"dataframe\">\n",
              "  <thead>\n",
              "    <tr style=\"text-align: right;\">\n",
              "      <th></th>\n",
              "      <th>codigo_ocorrencia</th>\n",
              "      <th>ocorrencia_classificacao</th>\n",
              "      <th>ocorrencia_cidade</th>\n",
              "      <th>ocorrencia_uf</th>\n",
              "      <th>ocorrencia_dia</th>\n",
              "      <th>aeronave_tipo_veiculo</th>\n",
              "      <th>aeronave_tipo_operacao</th>\n",
              "    </tr>\n",
              "  </thead>\n",
              "  <tbody>\n",
              "    <tr>\n",
              "      <th>0</th>\n",
              "      <td>39115</td>\n",
              "      <td>ACIDENTE</td>\n",
              "      <td>CORRENTINA</td>\n",
              "      <td>BA</td>\n",
              "      <td>2010-02-07</td>\n",
              "      <td>AVIÃO</td>\n",
              "      <td>PRIVADA</td>\n",
              "    </tr>\n",
              "    <tr>\n",
              "      <th>1</th>\n",
              "      <td>39176</td>\n",
              "      <td>INCIDENTE</td>\n",
              "      <td>SÃO LUÍS</td>\n",
              "      <td>MA</td>\n",
              "      <td>2010-02-05</td>\n",
              "      <td>AVIÃO</td>\n",
              "      <td>REGULAR</td>\n",
              "    </tr>\n",
              "    <tr>\n",
              "      <th>2</th>\n",
              "      <td>39747</td>\n",
              "      <td>INCIDENTE</td>\n",
              "      <td>CAIRU</td>\n",
              "      <td>BA</td>\n",
              "      <td>2010-01-31</td>\n",
              "      <td>AVIÃO</td>\n",
              "      <td>TÁXI AÉREO</td>\n",
              "    </tr>\n",
              "    <tr>\n",
              "      <th>3</th>\n",
              "      <td>39807</td>\n",
              "      <td>INCIDENTE</td>\n",
              "      <td>SALVADOR</td>\n",
              "      <td>BA</td>\n",
              "      <td>2010-01-06</td>\n",
              "      <td>AVIÃO</td>\n",
              "      <td>INSTRUÇÃO</td>\n",
              "    </tr>\n",
              "    <tr>\n",
              "      <th>4</th>\n",
              "      <td>39810</td>\n",
              "      <td>INCIDENTE</td>\n",
              "      <td>SALVADOR</td>\n",
              "      <td>BA</td>\n",
              "      <td>2010-01-15</td>\n",
              "      <td>AVIÃO</td>\n",
              "      <td>TÁXI AÉREO</td>\n",
              "    </tr>\n",
              "  </tbody>\n",
              "</table>\n",
              "</div>"
            ],
            "text/plain": [
              "   codigo_ocorrencia  ... aeronave_tipo_operacao\n",
              "0              39115  ...                PRIVADA\n",
              "1              39176  ...                REGULAR\n",
              "2              39747  ...             TÁXI AÉREO\n",
              "3              39807  ...              INSTRUÇÃO\n",
              "4              39810  ...             TÁXI AÉREO\n",
              "\n",
              "[5 rows x 7 columns]"
            ]
          },
          "metadata": {
            "tags": []
          },
          "execution_count": 25
        }
      ]
    },
    {
      "cell_type": "code",
      "metadata": {
        "id": "WP3_IFHvg143",
        "colab_type": "code",
        "colab": {
          "base_uri": "https://localhost:8080/",
          "height": 34
        },
        "outputId": "d9ae6800-618d-4d22-a72c-32266e65b5ef"
      },
      "source": [
        "# % em relação ao brasil\n",
        "print('Em relação ao Brasil, o Nordeste é responável por {} das ocorrencias' .format(df_ocorrencia_aviacao_ne.shape[0] / df_ocorrencia_aviacao.shape[0]*100))"
      ],
      "execution_count": 26,
      "outputs": [
        {
          "output_type": "stream",
          "text": [
            "Em relação ao Brasil, o Nordeste é responável por 10.82936129647283 das ocorrencias\n"
          ],
          "name": "stdout"
        }
      ]
    },
    {
      "cell_type": "code",
      "metadata": {
        "id": "X-UntLCfmzqA",
        "colab_type": "code",
        "colab": {
          "base_uri": "https://localhost:8080/",
          "height": 265
        },
        "outputId": "62a11e10-aa00-4ff1-dbcb-f8e2bc890571"
      },
      "source": [
        "# quantidade ocorrencia por estado região nordeste\n",
        "df_ocorrencia_aviacao_ne['ocorrencia_uf'].value_counts().plot.barh();"
      ],
      "execution_count": 27,
      "outputs": [
        {
          "output_type": "display_data",
          "data": {
            "image/png": "[encoded data removed]",
            "text/plain": [
              "<Figure size 432x288 with 1 Axes>"
            ]
          },
          "metadata": {
            "tags": [],
            "needs_background": "light"
          }
        }
      ]
    },
    {
      "cell_type": "code",
      "metadata": {
        "id": "0zGSdArDbBh5",
        "colab_type": "code",
        "colab": {}
      },
      "source": [
        "# criar coluna ano\n",
        "df_ocorrencia_aviacao_ne['Ano'] = df_ocorrencia_aviacao_ne.ocorrencia_dia.dt.year"
      ],
      "execution_count": 28,
      "outputs": []
    },
    {
      "cell_type": "code",
      "metadata": {
        "id": "54cdnMZ6dRvy",
        "colab_type": "code",
        "colab": {
          "base_uri": "https://localhost:8080/",
          "height": 204
        },
        "outputId": "9ee6d21f-1ea5-4c20-a4b6-b6fbc30e576a"
      },
      "source": [
        "# exibindo novo dataset\n",
        "df_ocorrencia_aviacao_ne.head()"
      ],
      "execution_count": 29,
      "outputs": [
        {
          "output_type": "execute_result",
          "data": {
            "text/html": [
              "<div>\n",
              "<style scoped>\n",
              "    .dataframe tbody tr th:only-of-type {\n",
              "        vertical-align: middle;\n",
              "    }\n",
              "\n",
              "    .dataframe tbody tr th {\n",
              "        vertical-align: top;\n",
              "    }\n",
              "\n",
              "    .dataframe thead th {\n",
              "        text-align: right;\n",
              "    }\n",
              "</style>\n",
              "<table border=\"1\" class=\"dataframe\">\n",
              "  <thead>\n",
              "    <tr style=\"text-align: right;\">\n",
              "      <th></th>\n",
              "      <th>codigo_ocorrencia</th>\n",
              "      <th>ocorrencia_classificacao</th>\n",
              "      <th>ocorrencia_cidade</th>\n",
              "      <th>ocorrencia_uf</th>\n",
              "      <th>ocorrencia_dia</th>\n",
              "      <th>aeronave_tipo_veiculo</th>\n",
              "      <th>aeronave_tipo_operacao</th>\n",
              "      <th>Ano</th>\n",
              "    </tr>\n",
              "  </thead>\n",
              "  <tbody>\n",
              "    <tr>\n",
              "      <th>0</th>\n",
              "      <td>39115</td>\n",
              "      <td>ACIDENTE</td>\n",
              "      <td>CORRENTINA</td>\n",
              "      <td>BA</td>\n",
              "      <td>2010-02-07</td>\n",
              "      <td>AVIÃO</td>\n",
              "      <td>PRIVADA</td>\n",
              "      <td>2010</td>\n",
              "    </tr>\n",
              "    <tr>\n",
              "      <th>1</th>\n",
              "      <td>39176</td>\n",
              "      <td>INCIDENTE</td>\n",
              "      <td>SÃO LUÍS</td>\n",
              "      <td>MA</td>\n",
              "      <td>2010-02-05</td>\n",
              "      <td>AVIÃO</td>\n",
              "      <td>REGULAR</td>\n",
              "      <td>2010</td>\n",
              "    </tr>\n",
              "    <tr>\n",
              "      <th>2</th>\n",
              "      <td>39747</td>\n",
              "      <td>INCIDENTE</td>\n",
              "      <td>CAIRU</td>\n",
              "      <td>BA</td>\n",
              "      <td>2010-01-31</td>\n",
              "      <td>AVIÃO</td>\n",
              "      <td>TÁXI AÉREO</td>\n",
              "      <td>2010</td>\n",
              "    </tr>\n",
              "    <tr>\n",
              "      <th>3</th>\n",
              "      <td>39807</td>\n",
              "      <td>INCIDENTE</td>\n",
              "      <td>SALVADOR</td>\n",
              "      <td>BA</td>\n",
              "      <td>2010-01-06</td>\n",
              "      <td>AVIÃO</td>\n",
              "      <td>INSTRUÇÃO</td>\n",
              "      <td>2010</td>\n",
              "    </tr>\n",
              "    <tr>\n",
              "      <th>4</th>\n",
              "      <td>39810</td>\n",
              "      <td>INCIDENTE</td>\n",
              "      <td>SALVADOR</td>\n",
              "      <td>BA</td>\n",
              "      <td>2010-01-15</td>\n",
              "      <td>AVIÃO</td>\n",
              "      <td>TÁXI AÉREO</td>\n",
              "      <td>2010</td>\n",
              "    </tr>\n",
              "  </tbody>\n",
              "</table>\n",
              "</div>"
            ],
            "text/plain": [
              "   codigo_ocorrencia ocorrencia_classificacao  ... aeronave_tipo_operacao   Ano\n",
              "0              39115                 ACIDENTE  ...                PRIVADA  2010\n",
              "1              39176                INCIDENTE  ...                REGULAR  2010\n",
              "2              39747                INCIDENTE  ...             TÁXI AÉREO  2010\n",
              "3              39807                INCIDENTE  ...              INSTRUÇÃO  2010\n",
              "4              39810                INCIDENTE  ...             TÁXI AÉREO  2010\n",
              "\n",
              "[5 rows x 8 columns]"
            ]
          },
          "metadata": {
            "tags": []
          },
          "execution_count": 29
        }
      ]
    },
    {
      "cell_type": "code",
      "metadata": {
        "id": "LvjeL8SDdU2a",
        "colab_type": "code",
        "colab": {
          "base_uri": "https://localhost:8080/",
          "height": 267
        },
        "outputId": "206e5e1e-9805-4f85-a08c-3d45143e8a25"
      },
      "source": [
        "# distribuição de acidentes ao longo dos anos\n",
        "df_ocorrencia_aviacao_ne['Ano'].hist();"
      ],
      "execution_count": 30,
      "outputs": [
        {
          "output_type": "display_data",
          "data": {
            "image/png": "[encoded data removed]",
            "text/plain": [
              "<Figure size 432x288 with 1 Axes>"
            ]
          },
          "metadata": {
            "tags": [],
            "needs_background": "light"
          }
        }
      ]
    },
    {
      "cell_type": "code",
      "metadata": {
        "id": "QPz9jdJGxeyP",
        "colab_type": "code",
        "colab": {
          "base_uri": "https://localhost:8080/",
          "height": 265
        },
        "outputId": "21391a37-4a46-4a2f-96dc-b1d35cc2d0c5"
      },
      "source": [
        "# tipo de aeronaves envolvidas\n",
        "df_ocorrencia_aviacao_ne['aeronave_tipo_veiculo'].value_counts().plot.barh();"
      ],
      "execution_count": 31,
      "outputs": [
        {
          "output_type": "display_data",
          "data": {
            "image/png": "[encoded data removed]",
            "text/plain": [
              "<Figure size 432x288 with 1 Axes>"
            ]
          },
          "metadata": {
            "tags": [],
            "needs_background": "light"
          }
        }
      ]
    },
    {
      "cell_type": "markdown",
      "metadata": {
        "id": "I_X2WdnNzylT",
        "colab_type": "text"
      },
      "source": [
        "Agora, vamos analisar acidentes em Pernambuco."
      ]
    },
    {
      "cell_type": "code",
      "metadata": {
        "id": "1kaeYnpiz5dT",
        "colab_type": "code",
        "colab": {
          "base_uri": "https://localhost:8080/",
          "height": 204
        },
        "outputId": "12402436-449c-496c-c5ed-c8df778f8d8c"
      },
      "source": [
        "# selecionar e exibir informações do estado de pernambuco\n",
        "df_ocorrencias_pe = df_ocorrencia_aviacao_ne[df_ocorrencia_aviacao_ne['ocorrencia_uf'].isin(['PE'])]\n",
        "df_ocorrencias_pe.head()"
      ],
      "execution_count": 32,
      "outputs": [
        {
          "output_type": "execute_result",
          "data": {
            "text/html": [
              "<div>\n",
              "<style scoped>\n",
              "    .dataframe tbody tr th:only-of-type {\n",
              "        vertical-align: middle;\n",
              "    }\n",
              "\n",
              "    .dataframe tbody tr th {\n",
              "        vertical-align: top;\n",
              "    }\n",
              "\n",
              "    .dataframe thead th {\n",
              "        text-align: right;\n",
              "    }\n",
              "</style>\n",
              "<table border=\"1\" class=\"dataframe\">\n",
              "  <thead>\n",
              "    <tr style=\"text-align: right;\">\n",
              "      <th></th>\n",
              "      <th>codigo_ocorrencia</th>\n",
              "      <th>ocorrencia_classificacao</th>\n",
              "      <th>ocorrencia_cidade</th>\n",
              "      <th>ocorrencia_uf</th>\n",
              "      <th>ocorrencia_dia</th>\n",
              "      <th>aeronave_tipo_veiculo</th>\n",
              "      <th>aeronave_tipo_operacao</th>\n",
              "      <th>Ano</th>\n",
              "    </tr>\n",
              "  </thead>\n",
              "  <tbody>\n",
              "    <tr>\n",
              "      <th>8</th>\n",
              "      <td>40271</td>\n",
              "      <td>ACIDENTE</td>\n",
              "      <td>RECIFE</td>\n",
              "      <td>PE</td>\n",
              "      <td>2010-04-21</td>\n",
              "      <td>AVIÃO</td>\n",
              "      <td>INSTRUÇÃO</td>\n",
              "      <td>2010</td>\n",
              "    </tr>\n",
              "    <tr>\n",
              "      <th>10</th>\n",
              "      <td>40325</td>\n",
              "      <td>INCIDENTE GRAVE</td>\n",
              "      <td>EXU</td>\n",
              "      <td>PE</td>\n",
              "      <td>2010-02-19</td>\n",
              "      <td>AVIÃO</td>\n",
              "      <td>PRIVADA</td>\n",
              "      <td>2010</td>\n",
              "    </tr>\n",
              "    <tr>\n",
              "      <th>11</th>\n",
              "      <td>40326</td>\n",
              "      <td>INCIDENTE</td>\n",
              "      <td>RECIFE</td>\n",
              "      <td>PE</td>\n",
              "      <td>2010-03-31</td>\n",
              "      <td>AVIÃO</td>\n",
              "      <td>PRIVADA</td>\n",
              "      <td>2010</td>\n",
              "    </tr>\n",
              "    <tr>\n",
              "      <th>26</th>\n",
              "      <td>41595</td>\n",
              "      <td>INCIDENTE</td>\n",
              "      <td>PETROLINA</td>\n",
              "      <td>PE</td>\n",
              "      <td>2010-06-13</td>\n",
              "      <td>AVIÃO</td>\n",
              "      <td>TÁXI AÉREO</td>\n",
              "      <td>2010</td>\n",
              "    </tr>\n",
              "    <tr>\n",
              "      <th>29</th>\n",
              "      <td>41749</td>\n",
              "      <td>ACIDENTE</td>\n",
              "      <td>RECIFE</td>\n",
              "      <td>PE</td>\n",
              "      <td>2010-07-04</td>\n",
              "      <td>AVIÃO</td>\n",
              "      <td>PRIVADA</td>\n",
              "      <td>2010</td>\n",
              "    </tr>\n",
              "  </tbody>\n",
              "</table>\n",
              "</div>"
            ],
            "text/plain": [
              "    codigo_ocorrencia ocorrencia_classificacao  ... aeronave_tipo_operacao   Ano\n",
              "8               40271                 ACIDENTE  ...              INSTRUÇÃO  2010\n",
              "10              40325          INCIDENTE GRAVE  ...                PRIVADA  2010\n",
              "11              40326                INCIDENTE  ...                PRIVADA  2010\n",
              "26              41595                INCIDENTE  ...             TÁXI AÉREO  2010\n",
              "29              41749                 ACIDENTE  ...                PRIVADA  2010\n",
              "\n",
              "[5 rows x 8 columns]"
            ]
          },
          "metadata": {
            "tags": []
          },
          "execution_count": 32
        }
      ]
    },
    {
      "cell_type": "code",
      "metadata": {
        "id": "m5QaobsN0cnb",
        "colab_type": "code",
        "colab": {
          "base_uri": "https://localhost:8080/",
          "height": 340
        },
        "outputId": "3c1090a7-15cf-44ca-ff5d-bdfc06c515e8"
      },
      "source": [
        "# ocorrencias por cidades\n",
        "df_ocorrencias_pe['ocorrencia_cidade'].value_counts()"
      ],
      "execution_count": 33,
      "outputs": [
        {
          "output_type": "execute_result",
          "data": {
            "text/plain": [
              "RECIFE                     58\n",
              "CARUARU                     9\n",
              "PETROLINA                   6\n",
              "IGARASSU                    4\n",
              "OROCÓ                       3\n",
              "CABROBÓ                     1\n",
              "SÃO VICENTE FERRER          1\n",
              "GAMELEIRA                   1\n",
              "PRIMAVERA                   1\n",
              "SIRINHAÉM                   1\n",
              "SALGUEIRO                   1\n",
              "JABOATÃO DOS GUARARAPES     1\n",
              "NÃO IDENTIFICADA            1\n",
              "FERNANDO DE NORONHA         1\n",
              "FLORESTA                    1\n",
              "EXU                         1\n",
              "OLINDA                      1\n",
              "GRAVATÁ                     1\n",
              "Name: ocorrencia_cidade, dtype: int64"
            ]
          },
          "metadata": {
            "tags": []
          },
          "execution_count": 33
        }
      ]
    },
    {
      "cell_type": "code",
      "metadata": {
        "id": "6_WbznX7lQLk",
        "colab_type": "code",
        "colab": {
          "base_uri": "https://localhost:8080/",
          "height": 85
        },
        "outputId": "48c9330d-dbfa-4344-97f6-e5414e9bee08"
      },
      "source": [
        "# relação de gravidade \n",
        "df_ocorrencias_pe['ocorrencia_classificacao'].value_counts() / df_ocorrencias_pe.ocorrencia_classificacao.shape[0]"
      ],
      "execution_count": 34,
      "outputs": [
        {
          "output_type": "execute_result",
          "data": {
            "text/plain": [
              "INCIDENTE          0.645161\n",
              "ACIDENTE           0.204301\n",
              "INCIDENTE GRAVE    0.150538\n",
              "Name: ocorrencia_classificacao, dtype: float64"
            ]
          },
          "metadata": {
            "tags": []
          },
          "execution_count": 34
        }
      ]
    },
    {
      "cell_type": "markdown",
      "metadata": {
        "id": "A5CmBiRWnZig",
        "colab_type": "text"
      },
      "source": [
        "#### Ao afunilar nosso dataset por região Nordeste e depois, pelo estado de Pernambuco, pode notar que existe registro de um aciente na cidade que eu moro, no qual eu não tinha noção. Fui investir e achei algumas informações complementares. Graças a Deus, acidente classificado como leve. Sem feridos."
      ]
    },
    {
      "cell_type": "code",
      "metadata": {
        "id": "K5lJgayYn5Nk",
        "colab_type": "code",
        "colab": {
          "base_uri": "https://localhost:8080/",
          "height": 80
        },
        "outputId": "8715d339-b3d4-448f-c88a-87cf4cb30438"
      },
      "source": [
        "# ocorrencia na cidade de olinda\n",
        "df_ocorrencias_pe[df_ocorrencias_pe['ocorrencia_cidade'] == 'OLINDA']"
      ],
      "execution_count": 35,
      "outputs": [
        {
          "output_type": "execute_result",
          "data": {
            "text/html": [
              "<div>\n",
              "<style scoped>\n",
              "    .dataframe tbody tr th:only-of-type {\n",
              "        vertical-align: middle;\n",
              "    }\n",
              "\n",
              "    .dataframe tbody tr th {\n",
              "        vertical-align: top;\n",
              "    }\n",
              "\n",
              "    .dataframe thead th {\n",
              "        text-align: right;\n",
              "    }\n",
              "</style>\n",
              "<table border=\"1\" class=\"dataframe\">\n",
              "  <thead>\n",
              "    <tr style=\"text-align: right;\">\n",
              "      <th></th>\n",
              "      <th>codigo_ocorrencia</th>\n",
              "      <th>ocorrencia_classificacao</th>\n",
              "      <th>ocorrencia_cidade</th>\n",
              "      <th>ocorrencia_uf</th>\n",
              "      <th>ocorrencia_dia</th>\n",
              "      <th>aeronave_tipo_veiculo</th>\n",
              "      <th>aeronave_tipo_operacao</th>\n",
              "      <th>Ano</th>\n",
              "    </tr>\n",
              "  </thead>\n",
              "  <tbody>\n",
              "    <tr>\n",
              "      <th>31</th>\n",
              "      <td>41837</td>\n",
              "      <td>INCIDENTE</td>\n",
              "      <td>OLINDA</td>\n",
              "      <td>PE</td>\n",
              "      <td>2010-07-11</td>\n",
              "      <td>HELICÓPTERO</td>\n",
              "      <td>POLICIAL</td>\n",
              "      <td>2010</td>\n",
              "    </tr>\n",
              "  </tbody>\n",
              "</table>\n",
              "</div>"
            ],
            "text/plain": [
              "    codigo_ocorrencia ocorrencia_classificacao  ... aeronave_tipo_operacao   Ano\n",
              "31              41837                INCIDENTE  ...               POLICIAL  2010\n",
              "\n",
              "[1 rows x 8 columns]"
            ]
          },
          "metadata": {
            "tags": []
          },
          "execution_count": 35
        }
      ]
    },
    {
      "cell_type": "markdown",
      "metadata": {
        "id": "i1iTC0nnoxNE",
        "colab_type": "text"
      },
      "source": [
        "<img alt=\"Colaboratory logo\" width=\"50%\" src=\"https://github.com/leonarddocchagas/data_science/blob/master/projetos/CENIPA/helicoptero_PRF_Olinda_06.jpg?raw=true\" align=\"center\">\n"
      ]
    },
    {
      "cell_type": "markdown",
      "metadata": {
        "id": "_37TGOLvrF4b",
        "colab_type": "text"
      },
      "source": [
        "##**Conclusão**\n",
        "\n",
        "#### Os dados mostraram o quanto é seguro voar e quanto as aeronaves são seguras. Vimos que, a esmagadora maioria dos acidentes, ocorrem por falha humana e na avição civio."
      ]
    }
  ]
}