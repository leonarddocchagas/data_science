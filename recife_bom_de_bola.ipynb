{
  "nbformat": 4,
  "nbformat_minor": 0,
  "metadata": {
    "colab": {
      "name": "recife_bom_de_bola.ipynb",
      "provenance": [],
      "collapsed_sections": [],
      "authorship_tag": "ABX9TyNXO3f5dhzDHrW1hXb8fbgg",
      "include_colab_link": true
    },
    "kernelspec": {
      "name": "python3",
      "display_name": "Python 3"
    },
    "language_info": {
      "name": "python"
    }
  },
  "cells": [
    {
      "cell_type": "markdown",
      "metadata": {
        "id": "view-in-github",
        "colab_type": "text"
      },
      "source": [
        "<a href=\"https://colab.research.google.com/github/leonarddocchagas/data_science/blob/master/recife_bom_de_bola.ipynb\" target=\"_parent\"><img src=\"https://colab.research.google.com/assets/colab-badge.svg\" alt=\"Open In Colab\"/></a>"
      ]
    },
    {
      "cell_type": "markdown",
      "metadata": {
        "id": "-qa32KAkTFaV"
      },
      "source": [
        "<img width='30%' align='Center' src='https://github.com/leonarddocchagas/data_science/blob/master/projetos/recife_bom_de_bola/logo_recife_bom_de_bola_2014.png?raw=true' />\n",
        "\n",
        "Maior campeonato de futebol de campos de várzea do mundo, o Recife Bom de Bola promove a inclusão social e a integração entre as diversas comunidades do Recife através do Esporte. Realizado pela Prefeitura do Recife, por meio da Secretaria de Esportes do Recife (SESP), o torneio envolve no ano de 2021, cinco categorias e mais de 350 times.\n",
        "\n",
        "Além da interação social, o Recife Bom de Bola também vai garantir curso de arbitragem para representantes das comunidades e para professores vinculados à SESP. Ocorrerá ainda o Fórum Bom de Bola, para discussões diversas e benefícios para os destaques da categoria sub-15, que serão encaminhados para avaliações nos principais clubes do Recife.\n",
        "\n",
        "<i>Fonte: https://recifebomdebola.com.br/o-projeto/<i/>"
      ]
    },
    {
      "cell_type": "markdown",
      "metadata": {
        "id": "dNrCeNG_WOya"
      },
      "source": [
        "##Sobre os dados\n",
        "\n",
        "Vamos trabalhar com 3 conjuntos de dados e todos vindo do http://dados.recife.pe.gov.br/.\n",
        "\n",
        "* Dataset \"campos\": https://bit.ly/3n1kXg6\n",
        "  * Dicionário: https://bit.ly/3kHPTiM\n",
        "  * Variáveis:\n",
        "    * rpa\n",
        "    * endereco\n",
        "    * bairro\n",
        "    * latitude\n",
        "    * longitude\n",
        "    * privado\n",
        "    * nome\n",
        "\n",
        "* Dataset \"Equipes\": https://bit.ly/3gY6M7M\n",
        "  * Dicionário: https://bit.ly/3gUhrAw\n",
        "  * Variáveis:\n",
        "    * rpa\n",
        "    * categoria\n",
        "    * equipe\n",
        "    * cartao_amarelo\n",
        "    * cartao_vermelho\n",
        "\n",
        "* Dataset \"Jogadores\": https://bit.ly/3jFe0iF\n",
        "  * Dicionário: https://bit.ly/3kHQBMY\n",
        "  * Variáveis:\n",
        "    * rpa_equipe\n",
        "    * modalidade_equipe\n",
        "    * nome_equipe\n",
        "    * representante_equipe\n",
        "    * tecnico\n",
        "    * nome_jogador\n",
        "    * numero_jogador\n",
        "    * bairro_jogador\n",
        "    * cidade_jogador\n",
        "    * dtnascimento_jogador"
      ]
    },
    {
      "cell_type": "markdown",
      "metadata": {
        "id": "HxRBTMDSZYDt"
      },
      "source": [
        "##Obteção e transformação dos dados"
      ]
    },
    {
      "cell_type": "markdown",
      "metadata": {
        "id": "BSzSdenpZdlM"
      },
      "source": [
        "**Carrega e verifica dataset**"
      ]
    },
    {
      "cell_type": "code",
      "metadata": {
        "id": "EVRlKRnhVf9M"
      },
      "source": [
        "# bibliotecas\n",
        "import pandas as pd\n",
        "import os\n",
        "import plotly.express as px\n",
        "import matplotlib.pyplot as plt\n",
        "import seaborn as sns\n",
        "import datetime as dt\n",
        "from datetime import datetime"
      ],
      "execution_count": 1,
      "outputs": []
    },
    {
      "cell_type": "code",
      "metadata": {
        "colab": {
          "base_uri": "https://localhost:8080/",
          "height": 206
        },
        "id": "BkS1l3vfsaQi",
        "outputId": "28116cef-1d91-414b-aecc-c2d9e7bd92cc"
      },
      "source": [
        "# import dataset equipes\n",
        "df_equipes = 'https://raw.githubusercontent.com/leonarddocchagas/data_science/master/projetos/recife_bom_de_bola/equipes-participantes-recife-bom-de-bola.csv'\n",
        "df_equipes = pd.read_csv(df_equipes, sep=';')\n",
        "df_equipes.head()"
      ],
      "execution_count": 2,
      "outputs": [
        {
          "output_type": "execute_result",
          "data": {
            "text/html": [
              "<div>\n",
              "<style scoped>\n",
              "    .dataframe tbody tr th:only-of-type {\n",
              "        vertical-align: middle;\n",
              "    }\n",
              "\n",
              "    .dataframe tbody tr th {\n",
              "        vertical-align: top;\n",
              "    }\n",
              "\n",
              "    .dataframe thead th {\n",
              "        text-align: right;\n",
              "    }\n",
              "</style>\n",
              "<table border=\"1\" class=\"dataframe\">\n",
              "  <thead>\n",
              "    <tr style=\"text-align: right;\">\n",
              "      <th></th>\n",
              "      <th>rpa</th>\n",
              "      <th>categoria</th>\n",
              "      <th>equipe</th>\n",
              "      <th>cartao_amarelo</th>\n",
              "      <th>cartao_vermelho</th>\n",
              "    </tr>\n",
              "  </thead>\n",
              "  <tbody>\n",
              "    <tr>\n",
              "      <th>0</th>\n",
              "      <td>4</td>\n",
              "      <td>Sub 15</td>\n",
              "      <td>Projeto Show de Bola</td>\n",
              "      <td>0</td>\n",
              "      <td>0</td>\n",
              "    </tr>\n",
              "    <tr>\n",
              "      <th>1</th>\n",
              "      <td>4</td>\n",
              "      <td>Sub 17</td>\n",
              "      <td>Projeto Show de Bola</td>\n",
              "      <td>3</td>\n",
              "      <td>0</td>\n",
              "    </tr>\n",
              "    <tr>\n",
              "      <th>2</th>\n",
              "      <td>4</td>\n",
              "      <td>Aberto Masculino</td>\n",
              "      <td>show de bola jocum</td>\n",
              "      <td>3</td>\n",
              "      <td>1</td>\n",
              "    </tr>\n",
              "    <tr>\n",
              "      <th>3</th>\n",
              "      <td>2</td>\n",
              "      <td>Sub 15</td>\n",
              "      <td>Futebol E Recreação Santiago</td>\n",
              "      <td>7</td>\n",
              "      <td>0</td>\n",
              "    </tr>\n",
              "    <tr>\n",
              "      <th>4</th>\n",
              "      <td>2</td>\n",
              "      <td>Sub 17</td>\n",
              "      <td>Futebol E Recreação Santiago</td>\n",
              "      <td>5</td>\n",
              "      <td>4</td>\n",
              "    </tr>\n",
              "  </tbody>\n",
              "</table>\n",
              "</div>"
            ],
            "text/plain": [
              "   rpa         categoria  ... cartao_amarelo  cartao_vermelho\n",
              "0    4            Sub 15  ...              0                0\n",
              "1    4            Sub 17  ...              3                0\n",
              "2    4  Aberto Masculino  ...              3                1\n",
              "3    2            Sub 15  ...              7                0\n",
              "4    2            Sub 17  ...              5                4\n",
              "\n",
              "[5 rows x 5 columns]"
            ]
          },
          "metadata": {},
          "execution_count": 2
        }
      ]
    },
    {
      "cell_type": "code",
      "metadata": {
        "colab": {
          "base_uri": "https://localhost:8080/",
          "height": 206
        },
        "id": "TO0QwQY6uDci",
        "outputId": "fcb42880-0dad-4d53-d377-04ac0d022679"
      },
      "source": [
        "# import dataset campos\n",
        "df_campos = 'https://raw.githubusercontent.com/leonarddocchagas/data_science/master/projetos/recife_bom_de_bola/campos-recife-bom-de-bola.csv'\n",
        "df_campos = pd.read_csv(df_campos, sep=';', error_bad_lines=False)\n",
        "df_campos = df_campos.drop(columns='enderco')\n",
        "df_campos.head()"
      ],
      "execution_count": 3,
      "outputs": [
        {
          "output_type": "execute_result",
          "data": {
            "text/html": [
              "<div>\n",
              "<style scoped>\n",
              "    .dataframe tbody tr th:only-of-type {\n",
              "        vertical-align: middle;\n",
              "    }\n",
              "\n",
              "    .dataframe tbody tr th {\n",
              "        vertical-align: top;\n",
              "    }\n",
              "\n",
              "    .dataframe thead th {\n",
              "        text-align: right;\n",
              "    }\n",
              "</style>\n",
              "<table border=\"1\" class=\"dataframe\">\n",
              "  <thead>\n",
              "    <tr style=\"text-align: right;\">\n",
              "      <th></th>\n",
              "      <th>rpa</th>\n",
              "      <th>bairro</th>\n",
              "      <th>latitude</th>\n",
              "      <th>longitude</th>\n",
              "      <th>privado</th>\n",
              "      <th>nome</th>\n",
              "    </tr>\n",
              "  </thead>\n",
              "  <tbody>\n",
              "    <tr>\n",
              "      <th>0</th>\n",
              "      <td>1</td>\n",
              "      <td>Santo Amaro</td>\n",
              "      <td>-8.040671</td>\n",
              "      <td>-34.878537</td>\n",
              "      <td>NÃO</td>\n",
              "      <td>CAMPO DO XI</td>\n",
              "    </tr>\n",
              "    <tr>\n",
              "      <th>1</th>\n",
              "      <td>1</td>\n",
              "      <td>Coque</td>\n",
              "      <td>-8.069009</td>\n",
              "      <td>-34.899431</td>\n",
              "      <td>NÃO</td>\n",
              "      <td>CAMPO DO BARRO</td>\n",
              "    </tr>\n",
              "    <tr>\n",
              "      <th>2</th>\n",
              "      <td>4</td>\n",
              "      <td>Torre</td>\n",
              "      <td>-8.045968</td>\n",
              "      <td>-34.913927</td>\n",
              "      <td>NÃO</td>\n",
              "      <td>CAMPO DO BUEIRÃO</td>\n",
              "    </tr>\n",
              "    <tr>\n",
              "      <th>3</th>\n",
              "      <td>1</td>\n",
              "      <td>Coque</td>\n",
              "      <td>-8.069379</td>\n",
              "      <td>-34.894672</td>\n",
              "      <td>SIM</td>\n",
              "      <td>CAMPO DO FÓRUM</td>\n",
              "    </tr>\n",
              "    <tr>\n",
              "      <th>4</th>\n",
              "      <td>2</td>\n",
              "      <td>Dois Unidos</td>\n",
              "      <td>-7.999053</td>\n",
              "      <td>-34.908048</td>\n",
              "      <td>SIM</td>\n",
              "      <td>CAMPO DO MINERVA</td>\n",
              "    </tr>\n",
              "  </tbody>\n",
              "</table>\n",
              "</div>"
            ],
            "text/plain": [
              "   rpa       bairro  latitude  longitude privado              nome\n",
              "0    1  Santo Amaro -8.040671 -34.878537     NÃO       CAMPO DO XI\n",
              "1    1        Coque -8.069009 -34.899431     NÃO    CAMPO DO BARRO\n",
              "2    4        Torre -8.045968 -34.913927     NÃO  CAMPO DO BUEIRÃO\n",
              "3    1        Coque -8.069379 -34.894672     SIM    CAMPO DO FÓRUM\n",
              "4    2  Dois Unidos -7.999053 -34.908048     SIM  CAMPO DO MINERVA"
            ]
          },
          "metadata": {},
          "execution_count": 3
        }
      ]
    },
    {
      "cell_type": "code",
      "metadata": {
        "id": "iWcs5UTNs3tu",
        "colab": {
          "base_uri": "https://localhost:8080/",
          "height": 206
        },
        "outputId": "767b87aa-6279-45b2-eb86-4fadbc5bb638"
      },
      "source": [
        "# import dataset jogadores\n",
        "df_jogadores = 'https://raw.githubusercontent.com/leonarddocchagas/data_science/master/projetos/recife_bom_de_bola/dados-dos-jogadores.csv'\n",
        "df_jogadores = pd.read_csv(df_jogadores, error_bad_lines=False, encoding='iso-8859-1', sep=';')\n",
        "df_jogadores = df_jogadores.drop(columns=['REPRESENTANTE_EQUIPE', 'TECNICO'])\n",
        "df_jogadores.head()"
      ],
      "execution_count": 4,
      "outputs": [
        {
          "output_type": "execute_result",
          "data": {
            "text/html": [
              "<div>\n",
              "<style scoped>\n",
              "    .dataframe tbody tr th:only-of-type {\n",
              "        vertical-align: middle;\n",
              "    }\n",
              "\n",
              "    .dataframe tbody tr th {\n",
              "        vertical-align: top;\n",
              "    }\n",
              "\n",
              "    .dataframe thead th {\n",
              "        text-align: right;\n",
              "    }\n",
              "</style>\n",
              "<table border=\"1\" class=\"dataframe\">\n",
              "  <thead>\n",
              "    <tr style=\"text-align: right;\">\n",
              "      <th></th>\n",
              "      <th>RPA_EQUIPE</th>\n",
              "      <th>MODALIDADE_EQUIPE</th>\n",
              "      <th>NOME_EQUIPE</th>\n",
              "      <th>NOME_JOGADOR</th>\n",
              "      <th>NUMERO_JOGADOR</th>\n",
              "      <th>BAIRRO_JOGADOR</th>\n",
              "      <th>CIDADE_JOGADOR</th>\n",
              "      <th>DTNASCIMENTO_JOGADOR</th>\n",
              "    </tr>\n",
              "  </thead>\n",
              "  <tbody>\n",
              "    <tr>\n",
              "      <th>0</th>\n",
              "      <td>4</td>\n",
              "      <td>Sub 15</td>\n",
              "      <td>Projeto Show de Bola</td>\n",
              "      <td>DEYVISON</td>\n",
              "      <td>3</td>\n",
              "      <td>DOIS IRMAOS</td>\n",
              "      <td>SAO LOURENCO DA MATA PE</td>\n",
              "      <td>1999-03-26</td>\n",
              "    </tr>\n",
              "    <tr>\n",
              "      <th>1</th>\n",
              "      <td>4</td>\n",
              "      <td>Sub 15</td>\n",
              "      <td>Projeto Show de Bola</td>\n",
              "      <td>DENYSON</td>\n",
              "      <td>3</td>\n",
              "      <td>DOIS IRMAOS</td>\n",
              "      <td>CAMARAGIBE</td>\n",
              "      <td>1999-01-10</td>\n",
              "    </tr>\n",
              "    <tr>\n",
              "      <th>2</th>\n",
              "      <td>4</td>\n",
              "      <td>Sub 15</td>\n",
              "      <td>Projeto Show de Bola</td>\n",
              "      <td>ALESANDRO</td>\n",
              "      <td>4</td>\n",
              "      <td>DOIS IRMAOS</td>\n",
              "      <td>CAMARAGIBE</td>\n",
              "      <td>1999-03-22</td>\n",
              "    </tr>\n",
              "    <tr>\n",
              "      <th>3</th>\n",
              "      <td>4</td>\n",
              "      <td>Sub 15</td>\n",
              "      <td>Projeto Show de Bola</td>\n",
              "      <td>MARCOS</td>\n",
              "      <td>5</td>\n",
              "      <td>DOIS IRMAOS</td>\n",
              "      <td>RECIFE PE</td>\n",
              "      <td>1999-03-16</td>\n",
              "    </tr>\n",
              "    <tr>\n",
              "      <th>4</th>\n",
              "      <td>4</td>\n",
              "      <td>Sub 15</td>\n",
              "      <td>Projeto Show de Bola</td>\n",
              "      <td>VITOR</td>\n",
              "      <td>6</td>\n",
              "      <td>DOIS IRMAOS</td>\n",
              "      <td>SAO LOURENCO DA MATA PE</td>\n",
              "      <td>2000-08-28</td>\n",
              "    </tr>\n",
              "  </tbody>\n",
              "</table>\n",
              "</div>"
            ],
            "text/plain": [
              "   RPA_EQUIPE MODALIDADE_EQUIPE  ...           CIDADE_JOGADOR DTNASCIMENTO_JOGADOR\n",
              "0           4            Sub 15  ...  SAO LOURENCO DA MATA PE           1999-03-26\n",
              "1           4            Sub 15  ...               CAMARAGIBE           1999-01-10\n",
              "2           4            Sub 15  ...               CAMARAGIBE           1999-03-22\n",
              "3           4            Sub 15  ...                RECIFE PE           1999-03-16\n",
              "4           4            Sub 15  ...  SAO LOURENCO DA MATA PE           2000-08-28\n",
              "\n",
              "[5 rows x 8 columns]"
            ]
          },
          "metadata": {},
          "execution_count": 4
        }
      ]
    },
    {
      "cell_type": "markdown",
      "metadata": {
        "id": "hnvpqSnR-L94"
      },
      "source": [
        "Identificamos que em nosso conjunto de dados **df_jogadores**, existem registros na coluna `DTNASCIMENTO_JOGADOR` que não segue o padrão. Vamos removelo para converter essa coluna num tipo date."
      ]
    },
    {
      "cell_type": "code",
      "metadata": {
        "id": "8zs16IuCLXY3"
      },
      "source": [
        "# identificando registros fora do padrão\n",
        "df_jogadores['Teste'] = df_jogadores['DTNASCIMENTO_JOGADOR'].apply(lambda x: x.find('--') if 'tem' else 'nao')"
      ],
      "execution_count": 5,
      "outputs": []
    },
    {
      "cell_type": "code",
      "metadata": {
        "colab": {
          "base_uri": "https://localhost:8080/",
          "height": 441
        },
        "id": "C9gy8v6HHxSM",
        "outputId": "915c0f74-7d5b-4772-a456-3dc3ad77eda0"
      },
      "source": [
        "# exibindo registros fora do padrão\n",
        "df_jogadores.loc[df_jogadores['Teste'] != -1]\n"
      ],
      "execution_count": 6,
      "outputs": [
        {
          "output_type": "execute_result",
          "data": {
            "text/html": [
              "<div>\n",
              "<style scoped>\n",
              "    .dataframe tbody tr th:only-of-type {\n",
              "        vertical-align: middle;\n",
              "    }\n",
              "\n",
              "    .dataframe tbody tr th {\n",
              "        vertical-align: top;\n",
              "    }\n",
              "\n",
              "    .dataframe thead th {\n",
              "        text-align: right;\n",
              "    }\n",
              "</style>\n",
              "<table border=\"1\" class=\"dataframe\">\n",
              "  <thead>\n",
              "    <tr style=\"text-align: right;\">\n",
              "      <th></th>\n",
              "      <th>RPA_EQUIPE</th>\n",
              "      <th>MODALIDADE_EQUIPE</th>\n",
              "      <th>NOME_EQUIPE</th>\n",
              "      <th>NOME_JOGADOR</th>\n",
              "      <th>NUMERO_JOGADOR</th>\n",
              "      <th>BAIRRO_JOGADOR</th>\n",
              "      <th>CIDADE_JOGADOR</th>\n",
              "      <th>DTNASCIMENTO_JOGADOR</th>\n",
              "      <th>Teste</th>\n",
              "    </tr>\n",
              "  </thead>\n",
              "  <tbody>\n",
              "    <tr>\n",
              "      <th>265</th>\n",
              "      <td>5</td>\n",
              "      <td>Aberto Masculino</td>\n",
              "      <td>JUVENTUDE FUTEBOL CLUBE</td>\n",
              "      <td>emanoel</td>\n",
              "      <td>11</td>\n",
              "      <td>ESTANCIA</td>\n",
              "      <td>Recife</td>\n",
              "      <td>1-20-1--11</td>\n",
              "      <td>6</td>\n",
              "    </tr>\n",
              "    <tr>\n",
              "      <th>438</th>\n",
              "      <td>6</td>\n",
              "      <td>Aberto Masculino</td>\n",
              "      <td>os loucos club da vila</td>\n",
              "      <td>Anderson</td>\n",
              "      <td>7</td>\n",
              "      <td>IBURA</td>\n",
              "      <td>Recife</td>\n",
              "      <td>4-04-1--11</td>\n",
              "      <td>6</td>\n",
              "    </tr>\n",
              "    <tr>\n",
              "      <th>822</th>\n",
              "      <td>6</td>\n",
              "      <td>Aberto Masculino</td>\n",
              "      <td>CRUZEIRO FUTEBOL CLUB LAGOA ENCATADA</td>\n",
              "      <td>JOSÉ</td>\n",
              "      <td>9</td>\n",
              "      <td>COHAB</td>\n",
              "      <td>RECIFE</td>\n",
              "      <td>8-23-4--11</td>\n",
              "      <td>6</td>\n",
              "    </tr>\n",
              "    <tr>\n",
              "      <th>1364</th>\n",
              "      <td>3</td>\n",
              "      <td>Aberto Masculino</td>\n",
              "      <td>juventude futebol clube</td>\n",
              "      <td>EDSON</td>\n",
              "      <td>8</td>\n",
              "      <td>NaN</td>\n",
              "      <td>RECIFE</td>\n",
              "      <td>3-15-1--00</td>\n",
              "      <td>6</td>\n",
              "    </tr>\n",
              "    <tr>\n",
              "      <th>1489</th>\n",
              "      <td>4</td>\n",
              "      <td>Aberto Masculino</td>\n",
              "      <td>DE REPENTE</td>\n",
              "      <td>jesaias</td>\n",
              "      <td>5</td>\n",
              "      <td>NaN</td>\n",
              "      <td>recife</td>\n",
              "      <td>3-28-1--00</td>\n",
              "      <td>6</td>\n",
              "    </tr>\n",
              "    <tr>\n",
              "      <th>...</th>\n",
              "      <td>...</td>\n",
              "      <td>...</td>\n",
              "      <td>...</td>\n",
              "      <td>...</td>\n",
              "      <td>...</td>\n",
              "      <td>...</td>\n",
              "      <td>...</td>\n",
              "      <td>...</td>\n",
              "      <td>...</td>\n",
              "    </tr>\n",
              "    <tr>\n",
              "      <th>6700</th>\n",
              "      <td>2</td>\n",
              "      <td>Aberto Masculino</td>\n",
              "      <td>TENEBROSO F.C</td>\n",
              "      <td>PEDRO</td>\n",
              "      <td>12</td>\n",
              "      <td>NaN</td>\n",
              "      <td>NaN</td>\n",
              "      <td>3-28-1--00</td>\n",
              "      <td>6</td>\n",
              "    </tr>\n",
              "    <tr>\n",
              "      <th>6704</th>\n",
              "      <td>2</td>\n",
              "      <td>Aberto Masculino</td>\n",
              "      <td>TENEBROSO F.C</td>\n",
              "      <td>MARCIO</td>\n",
              "      <td>22</td>\n",
              "      <td>NaN</td>\n",
              "      <td>NaN</td>\n",
              "      <td>3-25-1--00</td>\n",
              "      <td>6</td>\n",
              "    </tr>\n",
              "    <tr>\n",
              "      <th>6719</th>\n",
              "      <td>2</td>\n",
              "      <td>Aberto Masculino</td>\n",
              "      <td>FAVELA FUTEBOL CLUB</td>\n",
              "      <td>réberte</td>\n",
              "      <td>17</td>\n",
              "      <td>NaN</td>\n",
              "      <td>NaN</td>\n",
              "      <td>4-03-1--00</td>\n",
              "      <td>6</td>\n",
              "    </tr>\n",
              "    <tr>\n",
              "      <th>6721</th>\n",
              "      <td>2</td>\n",
              "      <td>Aberto Masculino</td>\n",
              "      <td>FAVELA FUTEBOL CLUB</td>\n",
              "      <td>ROMÁRIO</td>\n",
              "      <td>18</td>\n",
              "      <td>NaN</td>\n",
              "      <td>NaN</td>\n",
              "      <td>4-03-1--00</td>\n",
              "      <td>6</td>\n",
              "    </tr>\n",
              "    <tr>\n",
              "      <th>7162</th>\n",
              "      <td>1</td>\n",
              "      <td>Sub 15</td>\n",
              "      <td>clube jovem mirim</td>\n",
              "      <td>Pedro</td>\n",
              "      <td>18</td>\n",
              "      <td>NaN</td>\n",
              "      <td>NaN</td>\n",
              "      <td>1-01-1--00</td>\n",
              "      <td>6</td>\n",
              "    </tr>\n",
              "  </tbody>\n",
              "</table>\n",
              "<p>168 rows × 9 columns</p>\n",
              "</div>"
            ],
            "text/plain": [
              "      RPA_EQUIPE MODALIDADE_EQUIPE  ... DTNASCIMENTO_JOGADOR Teste\n",
              "265            5  Aberto Masculino  ...           1-20-1--11     6\n",
              "438            6  Aberto Masculino  ...           4-04-1--11     6\n",
              "822            6  Aberto Masculino  ...           8-23-4--11     6\n",
              "1364           3  Aberto Masculino  ...           3-15-1--00     6\n",
              "1489           4  Aberto Masculino  ...           3-28-1--00     6\n",
              "...          ...               ...  ...                  ...   ...\n",
              "6700           2  Aberto Masculino  ...           3-28-1--00     6\n",
              "6704           2  Aberto Masculino  ...           3-25-1--00     6\n",
              "6719           2  Aberto Masculino  ...           4-03-1--00     6\n",
              "6721           2  Aberto Masculino  ...           4-03-1--00     6\n",
              "7162           1            Sub 15  ...           1-01-1--00     6\n",
              "\n",
              "[168 rows x 9 columns]"
            ]
          },
          "metadata": {},
          "execution_count": 6
        }
      ]
    },
    {
      "cell_type": "markdown",
      "metadata": {
        "id": "xmDOar-Jbn2_"
      },
      "source": [
        "Foram encontrados *168* fora do padrão. Vamos deletar e seguir com as análises."
      ]
    },
    {
      "cell_type": "code",
      "metadata": {
        "colab": {
          "base_uri": "https://localhost:8080/",
          "height": 206
        },
        "id": "D6ulWb-ofwqu",
        "outputId": "a0b3900d-2a5a-4864-a057-3f244cc9079d"
      },
      "source": [
        "# deletando registros fora do padrão de data\n",
        "df_jogadores = df_jogadores.drop(df_jogadores.loc[df_jogadores['Teste'] != -1].index)\n",
        "df_jogadores = df_jogadores.drop(columns='Teste')\n",
        "\n",
        "# exibi dataset tratado\n",
        "df_jogadores.head()"
      ],
      "execution_count": 7,
      "outputs": [
        {
          "output_type": "execute_result",
          "data": {
            "text/html": [
              "<div>\n",
              "<style scoped>\n",
              "    .dataframe tbody tr th:only-of-type {\n",
              "        vertical-align: middle;\n",
              "    }\n",
              "\n",
              "    .dataframe tbody tr th {\n",
              "        vertical-align: top;\n",
              "    }\n",
              "\n",
              "    .dataframe thead th {\n",
              "        text-align: right;\n",
              "    }\n",
              "</style>\n",
              "<table border=\"1\" class=\"dataframe\">\n",
              "  <thead>\n",
              "    <tr style=\"text-align: right;\">\n",
              "      <th></th>\n",
              "      <th>RPA_EQUIPE</th>\n",
              "      <th>MODALIDADE_EQUIPE</th>\n",
              "      <th>NOME_EQUIPE</th>\n",
              "      <th>NOME_JOGADOR</th>\n",
              "      <th>NUMERO_JOGADOR</th>\n",
              "      <th>BAIRRO_JOGADOR</th>\n",
              "      <th>CIDADE_JOGADOR</th>\n",
              "      <th>DTNASCIMENTO_JOGADOR</th>\n",
              "    </tr>\n",
              "  </thead>\n",
              "  <tbody>\n",
              "    <tr>\n",
              "      <th>0</th>\n",
              "      <td>4</td>\n",
              "      <td>Sub 15</td>\n",
              "      <td>Projeto Show de Bola</td>\n",
              "      <td>DEYVISON</td>\n",
              "      <td>3</td>\n",
              "      <td>DOIS IRMAOS</td>\n",
              "      <td>SAO LOURENCO DA MATA PE</td>\n",
              "      <td>1999-03-26</td>\n",
              "    </tr>\n",
              "    <tr>\n",
              "      <th>1</th>\n",
              "      <td>4</td>\n",
              "      <td>Sub 15</td>\n",
              "      <td>Projeto Show de Bola</td>\n",
              "      <td>DENYSON</td>\n",
              "      <td>3</td>\n",
              "      <td>DOIS IRMAOS</td>\n",
              "      <td>CAMARAGIBE</td>\n",
              "      <td>1999-01-10</td>\n",
              "    </tr>\n",
              "    <tr>\n",
              "      <th>2</th>\n",
              "      <td>4</td>\n",
              "      <td>Sub 15</td>\n",
              "      <td>Projeto Show de Bola</td>\n",
              "      <td>ALESANDRO</td>\n",
              "      <td>4</td>\n",
              "      <td>DOIS IRMAOS</td>\n",
              "      <td>CAMARAGIBE</td>\n",
              "      <td>1999-03-22</td>\n",
              "    </tr>\n",
              "    <tr>\n",
              "      <th>3</th>\n",
              "      <td>4</td>\n",
              "      <td>Sub 15</td>\n",
              "      <td>Projeto Show de Bola</td>\n",
              "      <td>MARCOS</td>\n",
              "      <td>5</td>\n",
              "      <td>DOIS IRMAOS</td>\n",
              "      <td>RECIFE PE</td>\n",
              "      <td>1999-03-16</td>\n",
              "    </tr>\n",
              "    <tr>\n",
              "      <th>4</th>\n",
              "      <td>4</td>\n",
              "      <td>Sub 15</td>\n",
              "      <td>Projeto Show de Bola</td>\n",
              "      <td>VITOR</td>\n",
              "      <td>6</td>\n",
              "      <td>DOIS IRMAOS</td>\n",
              "      <td>SAO LOURENCO DA MATA PE</td>\n",
              "      <td>2000-08-28</td>\n",
              "    </tr>\n",
              "  </tbody>\n",
              "</table>\n",
              "</div>"
            ],
            "text/plain": [
              "   RPA_EQUIPE MODALIDADE_EQUIPE  ...           CIDADE_JOGADOR DTNASCIMENTO_JOGADOR\n",
              "0           4            Sub 15  ...  SAO LOURENCO DA MATA PE           1999-03-26\n",
              "1           4            Sub 15  ...               CAMARAGIBE           1999-01-10\n",
              "2           4            Sub 15  ...               CAMARAGIBE           1999-03-22\n",
              "3           4            Sub 15  ...                RECIFE PE           1999-03-16\n",
              "4           4            Sub 15  ...  SAO LOURENCO DA MATA PE           2000-08-28\n",
              "\n",
              "[5 rows x 8 columns]"
            ]
          },
          "metadata": {},
          "execution_count": 7
        }
      ]
    },
    {
      "cell_type": "code",
      "metadata": {
        "id": "NDvyCTekcFhv"
      },
      "source": [
        "# tratando coluna nome_equipe\n",
        "df_jogadores[\"NOME_EQUIPE\"] = df_jogadores[\"NOME_EQUIPE\"].str.title()"
      ],
      "execution_count": 8,
      "outputs": []
    },
    {
      "cell_type": "code",
      "metadata": {
        "id": "TAorPNk5gEDA"
      },
      "source": [
        "# convertindo coluna data para tipo date\n",
        "df_jogadores['DTNASCIMENTO_JOGADOR'] = pd.to_datetime(df_jogadores['DTNASCIMENTO_JOGADOR'])"
      ],
      "execution_count": 9,
      "outputs": []
    },
    {
      "cell_type": "markdown",
      "metadata": {
        "id": "8JhNlEOQgufL"
      },
      "source": [
        "**Revisando os 3 datasets**"
      ]
    },
    {
      "cell_type": "code",
      "metadata": {
        "id": "zf3PiBVsDrVK",
        "colab": {
          "base_uri": "https://localhost:8080/",
          "height": 206
        },
        "outputId": "a248df16-5601-4b80-ca02-8ec63d85cf51"
      },
      "source": [
        "# dataset campo\n",
        "df_campos.head()"
      ],
      "execution_count": 10,
      "outputs": [
        {
          "output_type": "execute_result",
          "data": {
            "text/html": [
              "<div>\n",
              "<style scoped>\n",
              "    .dataframe tbody tr th:only-of-type {\n",
              "        vertical-align: middle;\n",
              "    }\n",
              "\n",
              "    .dataframe tbody tr th {\n",
              "        vertical-align: top;\n",
              "    }\n",
              "\n",
              "    .dataframe thead th {\n",
              "        text-align: right;\n",
              "    }\n",
              "</style>\n",
              "<table border=\"1\" class=\"dataframe\">\n",
              "  <thead>\n",
              "    <tr style=\"text-align: right;\">\n",
              "      <th></th>\n",
              "      <th>rpa</th>\n",
              "      <th>bairro</th>\n",
              "      <th>latitude</th>\n",
              "      <th>longitude</th>\n",
              "      <th>privado</th>\n",
              "      <th>nome</th>\n",
              "    </tr>\n",
              "  </thead>\n",
              "  <tbody>\n",
              "    <tr>\n",
              "      <th>0</th>\n",
              "      <td>1</td>\n",
              "      <td>Santo Amaro</td>\n",
              "      <td>-8.040671</td>\n",
              "      <td>-34.878537</td>\n",
              "      <td>NÃO</td>\n",
              "      <td>CAMPO DO XI</td>\n",
              "    </tr>\n",
              "    <tr>\n",
              "      <th>1</th>\n",
              "      <td>1</td>\n",
              "      <td>Coque</td>\n",
              "      <td>-8.069009</td>\n",
              "      <td>-34.899431</td>\n",
              "      <td>NÃO</td>\n",
              "      <td>CAMPO DO BARRO</td>\n",
              "    </tr>\n",
              "    <tr>\n",
              "      <th>2</th>\n",
              "      <td>4</td>\n",
              "      <td>Torre</td>\n",
              "      <td>-8.045968</td>\n",
              "      <td>-34.913927</td>\n",
              "      <td>NÃO</td>\n",
              "      <td>CAMPO DO BUEIRÃO</td>\n",
              "    </tr>\n",
              "    <tr>\n",
              "      <th>3</th>\n",
              "      <td>1</td>\n",
              "      <td>Coque</td>\n",
              "      <td>-8.069379</td>\n",
              "      <td>-34.894672</td>\n",
              "      <td>SIM</td>\n",
              "      <td>CAMPO DO FÓRUM</td>\n",
              "    </tr>\n",
              "    <tr>\n",
              "      <th>4</th>\n",
              "      <td>2</td>\n",
              "      <td>Dois Unidos</td>\n",
              "      <td>-7.999053</td>\n",
              "      <td>-34.908048</td>\n",
              "      <td>SIM</td>\n",
              "      <td>CAMPO DO MINERVA</td>\n",
              "    </tr>\n",
              "  </tbody>\n",
              "</table>\n",
              "</div>"
            ],
            "text/plain": [
              "   rpa       bairro  latitude  longitude privado              nome\n",
              "0    1  Santo Amaro -8.040671 -34.878537     NÃO       CAMPO DO XI\n",
              "1    1        Coque -8.069009 -34.899431     NÃO    CAMPO DO BARRO\n",
              "2    4        Torre -8.045968 -34.913927     NÃO  CAMPO DO BUEIRÃO\n",
              "3    1        Coque -8.069379 -34.894672     SIM    CAMPO DO FÓRUM\n",
              "4    2  Dois Unidos -7.999053 -34.908048     SIM  CAMPO DO MINERVA"
            ]
          },
          "metadata": {},
          "execution_count": 10
        }
      ]
    },
    {
      "cell_type": "code",
      "metadata": {
        "colab": {
          "base_uri": "https://localhost:8080/",
          "height": 206
        },
        "id": "BBn0SJfsg3uE",
        "outputId": "51ae0cef-db49-4d3a-dde6-5617629b2c4c"
      },
      "source": [
        "# dataset jogadores\n",
        "df_jogadores.head()"
      ],
      "execution_count": 11,
      "outputs": [
        {
          "output_type": "execute_result",
          "data": {
            "text/html": [
              "<div>\n",
              "<style scoped>\n",
              "    .dataframe tbody tr th:only-of-type {\n",
              "        vertical-align: middle;\n",
              "    }\n",
              "\n",
              "    .dataframe tbody tr th {\n",
              "        vertical-align: top;\n",
              "    }\n",
              "\n",
              "    .dataframe thead th {\n",
              "        text-align: right;\n",
              "    }\n",
              "</style>\n",
              "<table border=\"1\" class=\"dataframe\">\n",
              "  <thead>\n",
              "    <tr style=\"text-align: right;\">\n",
              "      <th></th>\n",
              "      <th>RPA_EQUIPE</th>\n",
              "      <th>MODALIDADE_EQUIPE</th>\n",
              "      <th>NOME_EQUIPE</th>\n",
              "      <th>NOME_JOGADOR</th>\n",
              "      <th>NUMERO_JOGADOR</th>\n",
              "      <th>BAIRRO_JOGADOR</th>\n",
              "      <th>CIDADE_JOGADOR</th>\n",
              "      <th>DTNASCIMENTO_JOGADOR</th>\n",
              "    </tr>\n",
              "  </thead>\n",
              "  <tbody>\n",
              "    <tr>\n",
              "      <th>0</th>\n",
              "      <td>4</td>\n",
              "      <td>Sub 15</td>\n",
              "      <td>Projeto Show De Bola</td>\n",
              "      <td>DEYVISON</td>\n",
              "      <td>3</td>\n",
              "      <td>DOIS IRMAOS</td>\n",
              "      <td>SAO LOURENCO DA MATA PE</td>\n",
              "      <td>1999-03-26</td>\n",
              "    </tr>\n",
              "    <tr>\n",
              "      <th>1</th>\n",
              "      <td>4</td>\n",
              "      <td>Sub 15</td>\n",
              "      <td>Projeto Show De Bola</td>\n",
              "      <td>DENYSON</td>\n",
              "      <td>3</td>\n",
              "      <td>DOIS IRMAOS</td>\n",
              "      <td>CAMARAGIBE</td>\n",
              "      <td>1999-01-10</td>\n",
              "    </tr>\n",
              "    <tr>\n",
              "      <th>2</th>\n",
              "      <td>4</td>\n",
              "      <td>Sub 15</td>\n",
              "      <td>Projeto Show De Bola</td>\n",
              "      <td>ALESANDRO</td>\n",
              "      <td>4</td>\n",
              "      <td>DOIS IRMAOS</td>\n",
              "      <td>CAMARAGIBE</td>\n",
              "      <td>1999-03-22</td>\n",
              "    </tr>\n",
              "    <tr>\n",
              "      <th>3</th>\n",
              "      <td>4</td>\n",
              "      <td>Sub 15</td>\n",
              "      <td>Projeto Show De Bola</td>\n",
              "      <td>MARCOS</td>\n",
              "      <td>5</td>\n",
              "      <td>DOIS IRMAOS</td>\n",
              "      <td>RECIFE PE</td>\n",
              "      <td>1999-03-16</td>\n",
              "    </tr>\n",
              "    <tr>\n",
              "      <th>4</th>\n",
              "      <td>4</td>\n",
              "      <td>Sub 15</td>\n",
              "      <td>Projeto Show De Bola</td>\n",
              "      <td>VITOR</td>\n",
              "      <td>6</td>\n",
              "      <td>DOIS IRMAOS</td>\n",
              "      <td>SAO LOURENCO DA MATA PE</td>\n",
              "      <td>2000-08-28</td>\n",
              "    </tr>\n",
              "  </tbody>\n",
              "</table>\n",
              "</div>"
            ],
            "text/plain": [
              "   RPA_EQUIPE MODALIDADE_EQUIPE  ...           CIDADE_JOGADOR DTNASCIMENTO_JOGADOR\n",
              "0           4            Sub 15  ...  SAO LOURENCO DA MATA PE           1999-03-26\n",
              "1           4            Sub 15  ...               CAMARAGIBE           1999-01-10\n",
              "2           4            Sub 15  ...               CAMARAGIBE           1999-03-22\n",
              "3           4            Sub 15  ...                RECIFE PE           1999-03-16\n",
              "4           4            Sub 15  ...  SAO LOURENCO DA MATA PE           2000-08-28\n",
              "\n",
              "[5 rows x 8 columns]"
            ]
          },
          "metadata": {},
          "execution_count": 11
        }
      ]
    },
    {
      "cell_type": "code",
      "metadata": {
        "colab": {
          "base_uri": "https://localhost:8080/",
          "height": 206
        },
        "id": "_KiC-gBIg_-d",
        "outputId": "bd41b3a1-f479-40c3-98ba-b74456b3100b"
      },
      "source": [
        "# dataset equipes\n",
        "df_equipes.head()"
      ],
      "execution_count": 12,
      "outputs": [
        {
          "output_type": "execute_result",
          "data": {
            "text/html": [
              "<div>\n",
              "<style scoped>\n",
              "    .dataframe tbody tr th:only-of-type {\n",
              "        vertical-align: middle;\n",
              "    }\n",
              "\n",
              "    .dataframe tbody tr th {\n",
              "        vertical-align: top;\n",
              "    }\n",
              "\n",
              "    .dataframe thead th {\n",
              "        text-align: right;\n",
              "    }\n",
              "</style>\n",
              "<table border=\"1\" class=\"dataframe\">\n",
              "  <thead>\n",
              "    <tr style=\"text-align: right;\">\n",
              "      <th></th>\n",
              "      <th>rpa</th>\n",
              "      <th>categoria</th>\n",
              "      <th>equipe</th>\n",
              "      <th>cartao_amarelo</th>\n",
              "      <th>cartao_vermelho</th>\n",
              "    </tr>\n",
              "  </thead>\n",
              "  <tbody>\n",
              "    <tr>\n",
              "      <th>0</th>\n",
              "      <td>4</td>\n",
              "      <td>Sub 15</td>\n",
              "      <td>Projeto Show de Bola</td>\n",
              "      <td>0</td>\n",
              "      <td>0</td>\n",
              "    </tr>\n",
              "    <tr>\n",
              "      <th>1</th>\n",
              "      <td>4</td>\n",
              "      <td>Sub 17</td>\n",
              "      <td>Projeto Show de Bola</td>\n",
              "      <td>3</td>\n",
              "      <td>0</td>\n",
              "    </tr>\n",
              "    <tr>\n",
              "      <th>2</th>\n",
              "      <td>4</td>\n",
              "      <td>Aberto Masculino</td>\n",
              "      <td>show de bola jocum</td>\n",
              "      <td>3</td>\n",
              "      <td>1</td>\n",
              "    </tr>\n",
              "    <tr>\n",
              "      <th>3</th>\n",
              "      <td>2</td>\n",
              "      <td>Sub 15</td>\n",
              "      <td>Futebol E Recreação Santiago</td>\n",
              "      <td>7</td>\n",
              "      <td>0</td>\n",
              "    </tr>\n",
              "    <tr>\n",
              "      <th>4</th>\n",
              "      <td>2</td>\n",
              "      <td>Sub 17</td>\n",
              "      <td>Futebol E Recreação Santiago</td>\n",
              "      <td>5</td>\n",
              "      <td>4</td>\n",
              "    </tr>\n",
              "  </tbody>\n",
              "</table>\n",
              "</div>"
            ],
            "text/plain": [
              "   rpa         categoria  ... cartao_amarelo  cartao_vermelho\n",
              "0    4            Sub 15  ...              0                0\n",
              "1    4            Sub 17  ...              3                0\n",
              "2    4  Aberto Masculino  ...              3                1\n",
              "3    2            Sub 15  ...              7                0\n",
              "4    2            Sub 17  ...              5                4\n",
              "\n",
              "[5 rows x 5 columns]"
            ]
          },
          "metadata": {},
          "execution_count": 12
        }
      ]
    },
    {
      "cell_type": "code",
      "metadata": {
        "id": "q5HwNul1xukE"
      },
      "source": [
        "# df_equipes['equipe'] = df_equipes['equipe'].str.title()"
      ],
      "execution_count": 13,
      "outputs": []
    },
    {
      "cell_type": "markdown",
      "metadata": {
        "id": "yQiyxuqO_1G0"
      },
      "source": [
        "## Visualizar "
      ]
    },
    {
      "cell_type": "code",
      "metadata": {
        "id": "7qJZyCRYANrJ"
      },
      "source": [
        "# importa biblioteca para mapas\n",
        "import folium\n",
        "from folium import plugins"
      ],
      "execution_count": 14,
      "outputs": []
    },
    {
      "cell_type": "markdown",
      "metadata": {
        "id": "AIabD9-I_96y"
      },
      "source": [
        "**Dataset: Campo**"
      ]
    },
    {
      "cell_type": "code",
      "metadata": {
        "colab": {
          "base_uri": "https://localhost:8080/",
          "height": 206
        },
        "id": "ZA0Bdlkn_8hg",
        "outputId": "a348db76-ab8c-4be1-bbe7-4debc2ca6a45"
      },
      "source": [
        "# exibi as 5 primeiras entradas\n",
        "df_campos.head()"
      ],
      "execution_count": 15,
      "outputs": [
        {
          "output_type": "execute_result",
          "data": {
            "text/html": [
              "<div>\n",
              "<style scoped>\n",
              "    .dataframe tbody tr th:only-of-type {\n",
              "        vertical-align: middle;\n",
              "    }\n",
              "\n",
              "    .dataframe tbody tr th {\n",
              "        vertical-align: top;\n",
              "    }\n",
              "\n",
              "    .dataframe thead th {\n",
              "        text-align: right;\n",
              "    }\n",
              "</style>\n",
              "<table border=\"1\" class=\"dataframe\">\n",
              "  <thead>\n",
              "    <tr style=\"text-align: right;\">\n",
              "      <th></th>\n",
              "      <th>rpa</th>\n",
              "      <th>bairro</th>\n",
              "      <th>latitude</th>\n",
              "      <th>longitude</th>\n",
              "      <th>privado</th>\n",
              "      <th>nome</th>\n",
              "    </tr>\n",
              "  </thead>\n",
              "  <tbody>\n",
              "    <tr>\n",
              "      <th>0</th>\n",
              "      <td>1</td>\n",
              "      <td>Santo Amaro</td>\n",
              "      <td>-8.040671</td>\n",
              "      <td>-34.878537</td>\n",
              "      <td>NÃO</td>\n",
              "      <td>CAMPO DO XI</td>\n",
              "    </tr>\n",
              "    <tr>\n",
              "      <th>1</th>\n",
              "      <td>1</td>\n",
              "      <td>Coque</td>\n",
              "      <td>-8.069009</td>\n",
              "      <td>-34.899431</td>\n",
              "      <td>NÃO</td>\n",
              "      <td>CAMPO DO BARRO</td>\n",
              "    </tr>\n",
              "    <tr>\n",
              "      <th>2</th>\n",
              "      <td>4</td>\n",
              "      <td>Torre</td>\n",
              "      <td>-8.045968</td>\n",
              "      <td>-34.913927</td>\n",
              "      <td>NÃO</td>\n",
              "      <td>CAMPO DO BUEIRÃO</td>\n",
              "    </tr>\n",
              "    <tr>\n",
              "      <th>3</th>\n",
              "      <td>1</td>\n",
              "      <td>Coque</td>\n",
              "      <td>-8.069379</td>\n",
              "      <td>-34.894672</td>\n",
              "      <td>SIM</td>\n",
              "      <td>CAMPO DO FÓRUM</td>\n",
              "    </tr>\n",
              "    <tr>\n",
              "      <th>4</th>\n",
              "      <td>2</td>\n",
              "      <td>Dois Unidos</td>\n",
              "      <td>-7.999053</td>\n",
              "      <td>-34.908048</td>\n",
              "      <td>SIM</td>\n",
              "      <td>CAMPO DO MINERVA</td>\n",
              "    </tr>\n",
              "  </tbody>\n",
              "</table>\n",
              "</div>"
            ],
            "text/plain": [
              "   rpa       bairro  latitude  longitude privado              nome\n",
              "0    1  Santo Amaro -8.040671 -34.878537     NÃO       CAMPO DO XI\n",
              "1    1        Coque -8.069009 -34.899431     NÃO    CAMPO DO BARRO\n",
              "2    4        Torre -8.045968 -34.913927     NÃO  CAMPO DO BUEIRÃO\n",
              "3    1        Coque -8.069379 -34.894672     SIM    CAMPO DO FÓRUM\n",
              "4    2  Dois Unidos -7.999053 -34.908048     SIM  CAMPO DO MINERVA"
            ]
          },
          "metadata": {},
          "execution_count": 15
        }
      ]
    },
    {
      "cell_type": "code",
      "metadata": {
        "colab": {
          "base_uri": "https://localhost:8080/"
        },
        "id": "aaKAjBlKEAbV",
        "outputId": "1183574e-2e0f-4999-9194-9ee206e2b329"
      },
      "source": [
        "# Total de 22 campos\n",
        "df_campos['nome'].count()"
      ],
      "execution_count": 16,
      "outputs": [
        {
          "output_type": "execute_result",
          "data": {
            "text/plain": [
              "22"
            ]
          },
          "metadata": {},
          "execution_count": 16
        }
      ]
    },
    {
      "cell_type": "code",
      "metadata": {
        "id": "Pi31kixSE_oj"
      },
      "source": [
        "# eliminando espaços entre os nomes\n",
        "df_campos['bairro'] = df_campos['bairro'].str.strip()"
      ],
      "execution_count": 17,
      "outputs": []
    },
    {
      "cell_type": "code",
      "metadata": {
        "colab": {
          "base_uri": "https://localhost:8080/"
        },
        "id": "JopH622cExuN",
        "outputId": "506637ba-79f8-4cd9-fb06-76a59365bb47"
      },
      "source": [
        "# total de campos por bairro\n",
        "df_campos['bairro'].value_counts()"
      ],
      "execution_count": 18,
      "outputs": [
        {
          "output_type": "execute_result",
          "data": {
            "text/plain": [
              "Várzea                2\n",
              "Jiquiá                2\n",
              "Coque                 2\n",
              "Dois Unidos           2\n",
              "Torre                 1\n",
              "Brejo da Guabiraba    1\n",
              "Mustardinha           1\n",
              "Coqueiral             1\n",
              "Campina do Barreto    1\n",
              "Afogados              1\n",
              "Cordeiro              1\n",
              "Curado                1\n",
              "Ipsep                 1\n",
              "Macaxeira             1\n",
              "Areias                1\n",
              "Imbiribeira           1\n",
              "Torräes               1\n",
              "Santo Amaro           1\n",
              "Name: bairro, dtype: int64"
            ]
          },
          "metadata": {},
          "execution_count": 18
        }
      ]
    },
    {
      "cell_type": "code",
      "metadata": {
        "colab": {
          "base_uri": "https://localhost:8080/",
          "height": 763
        },
        "id": "x0J_MMzeAg8p",
        "outputId": "d116e627-77dd-4fcc-ce8f-56158f575d19"
      },
      "source": [
        "# plotando mapa\n",
        "mapa = folium.Map(\n",
        "    location = [-8.0704276,-34.894891],\n",
        "    zoom_start=12,\n",
        "    tiles='OpenStreetMap'\n",
        ")\n",
        "\n",
        "# criando pontos\n",
        "for i, row in df_campos.iterrows(): \n",
        "  latitude = df_campos.at[i, 'latitude']\n",
        "  longitude = df_campos.at[i, 'longitude']\n",
        "  bairro = df_campos.at[i, 'bairro']\n",
        "\n",
        "  folium.Marker(\n",
        "      location = [latitude, longitude],\n",
        "      popup=bairro,\n",
        "      icon=folium.Icon('blue')\n",
        "  ).add_to(mapa)\n",
        "\n",
        "# exibe mapa\n",
        "mapa"
      ],
      "execution_count": 19,
      "outputs": [
        {
          "output_type": "execute_result",
          "data": {
            "text/html": [
              "<div style=\"width:100%;\"><div style=\"position:relative;width:100%;height:0;padding-bottom:60%;\"><span style=\"color:#565656\">Make this Notebook Trusted to load map: File -> Trust Notebook</span><iframe src=\"about:blank\" style=\"position:absolute;width:100%;height:100%;left:0;top:0;border:none !important;\" data-html=%3C%21DOCTYPE%20html%3E%0A%3Chead%3E%20%20%20%20%0A%20%20%20%20%3Cmeta%20http-equiv%3D%22content-type%22%20content%3D%22text/html%3B%20charset%3DUTF-8%22%20/%3E%0A%20%20%20%20%3Cscript%3EL_PREFER_CANVAS%3Dfalse%3B%20L_NO_TOUCH%3Dfalse%3B%20L_DISABLE_3D%3Dfalse%3B%3C/script%3E%0A%20%20%20%20%3Cscript%20src%3D%22https%3A//cdn.jsdelivr.net/npm/leaflet%401.4.0/dist/leaflet.js%22%3E%3C/script%3E%0A%20%20%20%20%3Cscript%20src%3D%22https%3A//code.jquery.com/jquery-1.12.4.min.js%22%3E%3C/script%3E%0A%20%20%20%20%3Cscript%20src%3D%22https%3A//maxcdn.bootstrapcdn.com/bootstrap/3.2.0/js/bootstrap.min.js%22%3E%3C/script%3E%0A%20%20%20%20%3Cscript%20src%3D%22https%3A//cdnjs.cloudflare.com/ajax/libs/Leaflet.awesome-markers/2.0.2/leaflet.awesome-markers.js%22%3E%3C/script%3E%0A%20%20%20%20%3Clink%20rel%3D%22stylesheet%22%20href%3D%22https%3A//cdn.jsdelivr.net/npm/leaflet%401.4.0/dist/leaflet.css%22/%3E%0A%20%20%20%20%3Clink%20rel%3D%22stylesheet%22%20href%3D%22https%3A//maxcdn.bootstrapcdn.com/bootstrap/3.2.0/css/bootstrap.min.css%22/%3E%0A%20%20%20%20%3Clink%20rel%3D%22stylesheet%22%20href%3D%22https%3A//maxcdn.bootstrapcdn.com/bootstrap/3.2.0/css/bootstrap-theme.min.css%22/%3E%0A%20%20%20%20%3Clink%20rel%3D%22stylesheet%22%20href%3D%22https%3A//maxcdn.bootstrapcdn.com/font-awesome/4.6.3/css/font-awesome.min.css%22/%3E%0A%20%20%20%20%3Clink%20rel%3D%22stylesheet%22%20href%3D%22https%3A//cdnjs.cloudflare.com/ajax/libs/Leaflet.awesome-markers/2.0.2/leaflet.awesome-markers.css%22/%3E%0A%20%20%20%20%3Clink%20rel%3D%22stylesheet%22%20href%3D%22https%3A//rawcdn.githack.com/python-visualization/folium/master/folium/templates/leaflet.awesome.rotate.css%22/%3E%0A%20%20%20%20%3Cstyle%3Ehtml%2C%20body%20%7Bwidth%3A%20100%25%3Bheight%3A%20100%25%3Bmargin%3A%200%3Bpadding%3A%200%3B%7D%3C/style%3E%0A%20%20%20%20%3Cstyle%3E%23map%20%7Bposition%3Aabsolute%3Btop%3A0%3Bbottom%3A0%3Bright%3A0%3Bleft%3A0%3B%7D%3C/style%3E%0A%20%20%20%20%0A%20%20%20%20%3Cmeta%20name%3D%22viewport%22%20content%3D%22width%3Ddevice-width%2C%0A%20%20%20%20%20%20%20%20initial-scale%3D1.0%2C%20maximum-scale%3D1.0%2C%20user-scalable%3Dno%22%20/%3E%0A%20%20%20%20%3Cstyle%3E%23map_346b10195077415190bd91821c2b35a4%20%7B%0A%20%20%20%20%20%20%20%20position%3A%20relative%3B%0A%20%20%20%20%20%20%20%20width%3A%20100.0%25%3B%0A%20%20%20%20%20%20%20%20height%3A%20100.0%25%3B%0A%20%20%20%20%20%20%20%20left%3A%200.0%25%3B%0A%20%20%20%20%20%20%20%20top%3A%200.0%25%3B%0A%20%20%20%20%20%20%20%20%7D%0A%20%20%20%20%3C/style%3E%0A%3C/head%3E%0A%3Cbody%3E%20%20%20%20%0A%20%20%20%20%0A%20%20%20%20%3Cdiv%20class%3D%22folium-map%22%20id%3D%22map_346b10195077415190bd91821c2b35a4%22%20%3E%3C/div%3E%0A%3C/body%3E%0A%3Cscript%3E%20%20%20%20%0A%20%20%20%20%0A%20%20%20%20%0A%20%20%20%20%20%20%20%20var%20bounds%20%3D%20null%3B%0A%20%20%20%20%0A%0A%20%20%20%20var%20map_346b10195077415190bd91821c2b35a4%20%3D%20L.map%28%0A%20%20%20%20%20%20%20%20%27map_346b10195077415190bd91821c2b35a4%27%2C%20%7B%0A%20%20%20%20%20%20%20%20center%3A%20%5B-8.0704276%2C%20-34.894891%5D%2C%0A%20%20%20%20%20%20%20%20zoom%3A%2012%2C%0A%20%20%20%20%20%20%20%20maxBounds%3A%20bounds%2C%0A%20%20%20%20%20%20%20%20layers%3A%20%5B%5D%2C%0A%20%20%20%20%20%20%20%20worldCopyJump%3A%20false%2C%0A%20%20%20%20%20%20%20%20crs%3A%20L.CRS.EPSG3857%2C%0A%20%20%20%20%20%20%20%20zoomControl%3A%20true%2C%0A%20%20%20%20%20%20%20%20%7D%29%3B%0A%0A%0A%20%20%20%20%0A%20%20%20%20var%20tile_layer_32fe9fbb91f04705a6378edea8da51d6%20%3D%20L.tileLayer%28%0A%20%20%20%20%20%20%20%20%27https%3A//%7Bs%7D.tile.openstreetmap.org/%7Bz%7D/%7Bx%7D/%7By%7D.png%27%2C%0A%20%20%20%20%20%20%20%20%7B%0A%20%20%20%20%20%20%20%20%22attribution%22%3A%20null%2C%0A%20%20%20%20%20%20%20%20%22detectRetina%22%3A%20false%2C%0A%20%20%20%20%20%20%20%20%22maxNativeZoom%22%3A%2018%2C%0A%20%20%20%20%20%20%20%20%22maxZoom%22%3A%2018%2C%0A%20%20%20%20%20%20%20%20%22minZoom%22%3A%200%2C%0A%20%20%20%20%20%20%20%20%22noWrap%22%3A%20false%2C%0A%20%20%20%20%20%20%20%20%22opacity%22%3A%201%2C%0A%20%20%20%20%20%20%20%20%22subdomains%22%3A%20%22abc%22%2C%0A%20%20%20%20%20%20%20%20%22tms%22%3A%20false%0A%7D%29.addTo%28map_346b10195077415190bd91821c2b35a4%29%3B%0A%20%20%20%20%0A%20%20%20%20%20%20%20%20var%20marker_113bd5130ebd4c63bc5222cbe075d015%20%3D%20L.marker%28%0A%20%20%20%20%20%20%20%20%20%20%20%20%5B-8.0406713%2C%20-34.878536700000005%5D%2C%0A%20%20%20%20%20%20%20%20%20%20%20%20%7B%0A%20%20%20%20%20%20%20%20%20%20%20%20%20%20%20%20icon%3A%20new%20L.Icon.Default%28%29%2C%0A%20%20%20%20%20%20%20%20%20%20%20%20%20%20%20%20%7D%0A%20%20%20%20%20%20%20%20%20%20%20%20%29.addTo%28map_346b10195077415190bd91821c2b35a4%29%3B%0A%20%20%20%20%20%20%20%20%0A%20%20%20%20%0A%0A%20%20%20%20%20%20%20%20%20%20%20%20%20%20%20%20var%20icon_548015c593c74745be1334ff4443f8ed%20%3D%20L.AwesomeMarkers.icon%28%7B%0A%20%20%20%20%20%20%20%20%20%20%20%20%20%20%20%20%20%20%20%20icon%3A%20%27info-sign%27%2C%0A%20%20%20%20%20%20%20%20%20%20%20%20%20%20%20%20%20%20%20%20iconColor%3A%20%27white%27%2C%0A%20%20%20%20%20%20%20%20%20%20%20%20%20%20%20%20%20%20%20%20markerColor%3A%20%27blue%27%2C%0A%20%20%20%20%20%20%20%20%20%20%20%20%20%20%20%20%20%20%20%20prefix%3A%20%27glyphicon%27%2C%0A%20%20%20%20%20%20%20%20%20%20%20%20%20%20%20%20%20%20%20%20extraClasses%3A%20%27fa-rotate-0%27%0A%20%20%20%20%20%20%20%20%20%20%20%20%20%20%20%20%20%20%20%20%7D%29%3B%0A%20%20%20%20%20%20%20%20%20%20%20%20%20%20%20%20marker_113bd5130ebd4c63bc5222cbe075d015.setIcon%28icon_548015c593c74745be1334ff4443f8ed%29%3B%0A%20%20%20%20%20%20%20%20%20%20%20%20%0A%20%20%20%20%0A%20%20%20%20%20%20%20%20%20%20%20%20var%20popup_2d8fb3cb20ad4a228b0ebca4c09412fc%20%3D%20L.popup%28%7BmaxWidth%3A%20%27100%25%27%0A%20%20%20%20%20%20%20%20%20%20%20%20%0A%20%20%20%20%20%20%20%20%20%20%20%20%7D%29%3B%0A%0A%20%20%20%20%20%20%20%20%20%20%20%20%0A%20%20%20%20%20%20%20%20%20%20%20%20%20%20%20%20var%20html_efae017b9c2f48dd85c64cecd80371a1%20%3D%20%24%28%60%3Cdiv%20id%3D%22html_efae017b9c2f48dd85c64cecd80371a1%22%20style%3D%22width%3A%20100.0%25%3B%20height%3A%20100.0%25%3B%22%3ESanto%20Amaro%3C/div%3E%60%29%5B0%5D%3B%0A%20%20%20%20%20%20%20%20%20%20%20%20%20%20%20%20popup_2d8fb3cb20ad4a228b0ebca4c09412fc.setContent%28html_efae017b9c2f48dd85c64cecd80371a1%29%3B%0A%20%20%20%20%20%20%20%20%20%20%20%20%0A%0A%20%20%20%20%20%20%20%20%20%20%20%20marker_113bd5130ebd4c63bc5222cbe075d015.bindPopup%28popup_2d8fb3cb20ad4a228b0ebca4c09412fc%29%0A%20%20%20%20%20%20%20%20%20%20%20%20%3B%0A%0A%20%20%20%20%20%20%20%20%20%20%20%20%0A%20%20%20%20%20%20%20%20%0A%20%20%20%20%0A%20%20%20%20%20%20%20%20var%20marker_ecd99c48d49b424ca942701473f04408%20%3D%20L.marker%28%0A%20%20%20%20%20%20%20%20%20%20%20%20%5B-8.069009%2C%20-34.8994308%5D%2C%0A%20%20%20%20%20%20%20%20%20%20%20%20%7B%0A%20%20%20%20%20%20%20%20%20%20%20%20%20%20%20%20icon%3A%20new%20L.Icon.Default%28%29%2C%0A%20%20%20%20%20%20%20%20%20%20%20%20%20%20%20%20%7D%0A%20%20%20%20%20%20%20%20%20%20%20%20%29.addTo%28map_346b10195077415190bd91821c2b35a4%29%3B%0A%20%20%20%20%20%20%20%20%0A%20%20%20%20%0A%0A%20%20%20%20%20%20%20%20%20%20%20%20%20%20%20%20var%20icon_195bbecac1c54091b12e16798080e256%20%3D%20L.AwesomeMarkers.icon%28%7B%0A%20%20%20%20%20%20%20%20%20%20%20%20%20%20%20%20%20%20%20%20icon%3A%20%27info-sign%27%2C%0A%20%20%20%20%20%20%20%20%20%20%20%20%20%20%20%20%20%20%20%20iconColor%3A%20%27white%27%2C%0A%20%20%20%20%20%20%20%20%20%20%20%20%20%20%20%20%20%20%20%20markerColor%3A%20%27blue%27%2C%0A%20%20%20%20%20%20%20%20%20%20%20%20%20%20%20%20%20%20%20%20prefix%3A%20%27glyphicon%27%2C%0A%20%20%20%20%20%20%20%20%20%20%20%20%20%20%20%20%20%20%20%20extraClasses%3A%20%27fa-rotate-0%27%0A%20%20%20%20%20%20%20%20%20%20%20%20%20%20%20%20%20%20%20%20%7D%29%3B%0A%20%20%20%20%20%20%20%20%20%20%20%20%20%20%20%20marker_ecd99c48d49b424ca942701473f04408.setIcon%28icon_195bbecac1c54091b12e16798080e256%29%3B%0A%20%20%20%20%20%20%20%20%20%20%20%20%0A%20%20%20%20%0A%20%20%20%20%20%20%20%20%20%20%20%20var%20popup_518a86369b344f5d806466fd38bd4456%20%3D%20L.popup%28%7BmaxWidth%3A%20%27100%25%27%0A%20%20%20%20%20%20%20%20%20%20%20%20%0A%20%20%20%20%20%20%20%20%20%20%20%20%7D%29%3B%0A%0A%20%20%20%20%20%20%20%20%20%20%20%20%0A%20%20%20%20%20%20%20%20%20%20%20%20%20%20%20%20var%20html_01342e13bc3342b899947944bd92316e%20%3D%20%24%28%60%3Cdiv%20id%3D%22html_01342e13bc3342b899947944bd92316e%22%20style%3D%22width%3A%20100.0%25%3B%20height%3A%20100.0%25%3B%22%3ECoque%3C/div%3E%60%29%5B0%5D%3B%0A%20%20%20%20%20%20%20%20%20%20%20%20%20%20%20%20popup_518a86369b344f5d806466fd38bd4456.setContent%28html_01342e13bc3342b899947944bd92316e%29%3B%0A%20%20%20%20%20%20%20%20%20%20%20%20%0A%0A%20%20%20%20%20%20%20%20%20%20%20%20marker_ecd99c48d49b424ca942701473f04408.bindPopup%28popup_518a86369b344f5d806466fd38bd4456%29%0A%20%20%20%20%20%20%20%20%20%20%20%20%3B%0A%0A%20%20%20%20%20%20%20%20%20%20%20%20%0A%20%20%20%20%20%20%20%20%0A%20%20%20%20%0A%20%20%20%20%20%20%20%20var%20marker_0a80acbbae0a4078aba053e076e159d1%20%3D%20L.marker%28%0A%20%20%20%20%20%20%20%20%20%20%20%20%5B-8.0459677%2C%20-34.9139271%5D%2C%0A%20%20%20%20%20%20%20%20%20%20%20%20%7B%0A%20%20%20%20%20%20%20%20%20%20%20%20%20%20%20%20icon%3A%20new%20L.Icon.Default%28%29%2C%0A%20%20%20%20%20%20%20%20%20%20%20%20%20%20%20%20%7D%0A%20%20%20%20%20%20%20%20%20%20%20%20%29.addTo%28map_346b10195077415190bd91821c2b35a4%29%3B%0A%20%20%20%20%20%20%20%20%0A%20%20%20%20%0A%0A%20%20%20%20%20%20%20%20%20%20%20%20%20%20%20%20var%20icon_fe9a1f5d7bcf4a4fa95080ff0c3a5555%20%3D%20L.AwesomeMarkers.icon%28%7B%0A%20%20%20%20%20%20%20%20%20%20%20%20%20%20%20%20%20%20%20%20icon%3A%20%27info-sign%27%2C%0A%20%20%20%20%20%20%20%20%20%20%20%20%20%20%20%20%20%20%20%20iconColor%3A%20%27white%27%2C%0A%20%20%20%20%20%20%20%20%20%20%20%20%20%20%20%20%20%20%20%20markerColor%3A%20%27blue%27%2C%0A%20%20%20%20%20%20%20%20%20%20%20%20%20%20%20%20%20%20%20%20prefix%3A%20%27glyphicon%27%2C%0A%20%20%20%20%20%20%20%20%20%20%20%20%20%20%20%20%20%20%20%20extraClasses%3A%20%27fa-rotate-0%27%0A%20%20%20%20%20%20%20%20%20%20%20%20%20%20%20%20%20%20%20%20%7D%29%3B%0A%20%20%20%20%20%20%20%20%20%20%20%20%20%20%20%20marker_0a80acbbae0a4078aba053e076e159d1.setIcon%28icon_fe9a1f5d7bcf4a4fa95080ff0c3a5555%29%3B%0A%20%20%20%20%20%20%20%20%20%20%20%20%0A%20%20%20%20%0A%20%20%20%20%20%20%20%20%20%20%20%20var%20popup_c3bf242d545d47a8866547eebea586ff%20%3D%20L.popup%28%7BmaxWidth%3A%20%27100%25%27%0A%20%20%20%20%20%20%20%20%20%20%20%20%0A%20%20%20%20%20%20%20%20%20%20%20%20%7D%29%3B%0A%0A%20%20%20%20%20%20%20%20%20%20%20%20%0A%20%20%20%20%20%20%20%20%20%20%20%20%20%20%20%20var%20html_9271bca90b884a3d9f01d5201237df72%20%3D%20%24%28%60%3Cdiv%20id%3D%22html_9271bca90b884a3d9f01d5201237df72%22%20style%3D%22width%3A%20100.0%25%3B%20height%3A%20100.0%25%3B%22%3ETorre%3C/div%3E%60%29%5B0%5D%3B%0A%20%20%20%20%20%20%20%20%20%20%20%20%20%20%20%20popup_c3bf242d545d47a8866547eebea586ff.setContent%28html_9271bca90b884a3d9f01d5201237df72%29%3B%0A%20%20%20%20%20%20%20%20%20%20%20%20%0A%0A%20%20%20%20%20%20%20%20%20%20%20%20marker_0a80acbbae0a4078aba053e076e159d1.bindPopup%28popup_c3bf242d545d47a8866547eebea586ff%29%0A%20%20%20%20%20%20%20%20%20%20%20%20%3B%0A%0A%20%20%20%20%20%20%20%20%20%20%20%20%0A%20%20%20%20%20%20%20%20%0A%20%20%20%20%0A%20%20%20%20%20%20%20%20var%20marker_8fad887ad9754fedbf4e709100398787%20%3D%20L.marker%28%0A%20%20%20%20%20%20%20%20%20%20%20%20%5B-8.0693792%2C%20-34.8946724%5D%2C%0A%20%20%20%20%20%20%20%20%20%20%20%20%7B%0A%20%20%20%20%20%20%20%20%20%20%20%20%20%20%20%20icon%3A%20new%20L.Icon.Default%28%29%2C%0A%20%20%20%20%20%20%20%20%20%20%20%20%20%20%20%20%7D%0A%20%20%20%20%20%20%20%20%20%20%20%20%29.addTo%28map_346b10195077415190bd91821c2b35a4%29%3B%0A%20%20%20%20%20%20%20%20%0A%20%20%20%20%0A%0A%20%20%20%20%20%20%20%20%20%20%20%20%20%20%20%20var%20icon_b57d31512e524be8bc412f8ea4ecfad7%20%3D%20L.AwesomeMarkers.icon%28%7B%0A%20%20%20%20%20%20%20%20%20%20%20%20%20%20%20%20%20%20%20%20icon%3A%20%27info-sign%27%2C%0A%20%20%20%20%20%20%20%20%20%20%20%20%20%20%20%20%20%20%20%20iconColor%3A%20%27white%27%2C%0A%20%20%20%20%20%20%20%20%20%20%20%20%20%20%20%20%20%20%20%20markerColor%3A%20%27blue%27%2C%0A%20%20%20%20%20%20%20%20%20%20%20%20%20%20%20%20%20%20%20%20prefix%3A%20%27glyphicon%27%2C%0A%20%20%20%20%20%20%20%20%20%20%20%20%20%20%20%20%20%20%20%20extraClasses%3A%20%27fa-rotate-0%27%0A%20%20%20%20%20%20%20%20%20%20%20%20%20%20%20%20%20%20%20%20%7D%29%3B%0A%20%20%20%20%20%20%20%20%20%20%20%20%20%20%20%20marker_8fad887ad9754fedbf4e709100398787.setIcon%28icon_b57d31512e524be8bc412f8ea4ecfad7%29%3B%0A%20%20%20%20%20%20%20%20%20%20%20%20%0A%20%20%20%20%0A%20%20%20%20%20%20%20%20%20%20%20%20var%20popup_4ec7376bc6f244459f69b47acff15542%20%3D%20L.popup%28%7BmaxWidth%3A%20%27100%25%27%0A%20%20%20%20%20%20%20%20%20%20%20%20%0A%20%20%20%20%20%20%20%20%20%20%20%20%7D%29%3B%0A%0A%20%20%20%20%20%20%20%20%20%20%20%20%0A%20%20%20%20%20%20%20%20%20%20%20%20%20%20%20%20var%20html_429b26c343ce4e00b0366de4ef66a4e9%20%3D%20%24%28%60%3Cdiv%20id%3D%22html_429b26c343ce4e00b0366de4ef66a4e9%22%20style%3D%22width%3A%20100.0%25%3B%20height%3A%20100.0%25%3B%22%3ECoque%3C/div%3E%60%29%5B0%5D%3B%0A%20%20%20%20%20%20%20%20%20%20%20%20%20%20%20%20popup_4ec7376bc6f244459f69b47acff15542.setContent%28html_429b26c343ce4e00b0366de4ef66a4e9%29%3B%0A%20%20%20%20%20%20%20%20%20%20%20%20%0A%0A%20%20%20%20%20%20%20%20%20%20%20%20marker_8fad887ad9754fedbf4e709100398787.bindPopup%28popup_4ec7376bc6f244459f69b47acff15542%29%0A%20%20%20%20%20%20%20%20%20%20%20%20%3B%0A%0A%20%20%20%20%20%20%20%20%20%20%20%20%0A%20%20%20%20%20%20%20%20%0A%20%20%20%20%0A%20%20%20%20%20%20%20%20var%20marker_f96dc7331e19494ea6212371eaf9c1bd%20%3D%20L.marker%28%0A%20%20%20%20%20%20%20%20%20%20%20%20%5B-7.9990533%2C%20-34.90804779999999%5D%2C%0A%20%20%20%20%20%20%20%20%20%20%20%20%7B%0A%20%20%20%20%20%20%20%20%20%20%20%20%20%20%20%20icon%3A%20new%20L.Icon.Default%28%29%2C%0A%20%20%20%20%20%20%20%20%20%20%20%20%20%20%20%20%7D%0A%20%20%20%20%20%20%20%20%20%20%20%20%29.addTo%28map_346b10195077415190bd91821c2b35a4%29%3B%0A%20%20%20%20%20%20%20%20%0A%20%20%20%20%0A%0A%20%20%20%20%20%20%20%20%20%20%20%20%20%20%20%20var%20icon_51f844f5356b4b6294fbe7704f55662b%20%3D%20L.AwesomeMarkers.icon%28%7B%0A%20%20%20%20%20%20%20%20%20%20%20%20%20%20%20%20%20%20%20%20icon%3A%20%27info-sign%27%2C%0A%20%20%20%20%20%20%20%20%20%20%20%20%20%20%20%20%20%20%20%20iconColor%3A%20%27white%27%2C%0A%20%20%20%20%20%20%20%20%20%20%20%20%20%20%20%20%20%20%20%20markerColor%3A%20%27blue%27%2C%0A%20%20%20%20%20%20%20%20%20%20%20%20%20%20%20%20%20%20%20%20prefix%3A%20%27glyphicon%27%2C%0A%20%20%20%20%20%20%20%20%20%20%20%20%20%20%20%20%20%20%20%20extraClasses%3A%20%27fa-rotate-0%27%0A%20%20%20%20%20%20%20%20%20%20%20%20%20%20%20%20%20%20%20%20%7D%29%3B%0A%20%20%20%20%20%20%20%20%20%20%20%20%20%20%20%20marker_f96dc7331e19494ea6212371eaf9c1bd.setIcon%28icon_51f844f5356b4b6294fbe7704f55662b%29%3B%0A%20%20%20%20%20%20%20%20%20%20%20%20%0A%20%20%20%20%0A%20%20%20%20%20%20%20%20%20%20%20%20var%20popup_a8a8ef44d764424689239bcc8a98b993%20%3D%20L.popup%28%7BmaxWidth%3A%20%27100%25%27%0A%20%20%20%20%20%20%20%20%20%20%20%20%0A%20%20%20%20%20%20%20%20%20%20%20%20%7D%29%3B%0A%0A%20%20%20%20%20%20%20%20%20%20%20%20%0A%20%20%20%20%20%20%20%20%20%20%20%20%20%20%20%20var%20html_3a9dd059797b46ec9b7f191c8a25154c%20%3D%20%24%28%60%3Cdiv%20id%3D%22html_3a9dd059797b46ec9b7f191c8a25154c%22%20style%3D%22width%3A%20100.0%25%3B%20height%3A%20100.0%25%3B%22%3EDois%20Unidos%3C/div%3E%60%29%5B0%5D%3B%0A%20%20%20%20%20%20%20%20%20%20%20%20%20%20%20%20popup_a8a8ef44d764424689239bcc8a98b993.setContent%28html_3a9dd059797b46ec9b7f191c8a25154c%29%3B%0A%20%20%20%20%20%20%20%20%20%20%20%20%0A%0A%20%20%20%20%20%20%20%20%20%20%20%20marker_f96dc7331e19494ea6212371eaf9c1bd.bindPopup%28popup_a8a8ef44d764424689239bcc8a98b993%29%0A%20%20%20%20%20%20%20%20%20%20%20%20%3B%0A%0A%20%20%20%20%20%20%20%20%20%20%20%20%0A%20%20%20%20%20%20%20%20%0A%20%20%20%20%0A%20%20%20%20%20%20%20%20var%20marker_e67f913831ef4201a99ab77cdc09d3fc%20%3D%20L.marker%28%0A%20%20%20%20%20%20%20%20%20%20%20%20%5B-8.006696400000001%2C%20-34.9383251%5D%2C%0A%20%20%20%20%20%20%20%20%20%20%20%20%7B%0A%20%20%20%20%20%20%20%20%20%20%20%20%20%20%20%20icon%3A%20new%20L.Icon.Default%28%29%2C%0A%20%20%20%20%20%20%20%20%20%20%20%20%20%20%20%20%7D%0A%20%20%20%20%20%20%20%20%20%20%20%20%29.addTo%28map_346b10195077415190bd91821c2b35a4%29%3B%0A%20%20%20%20%20%20%20%20%0A%20%20%20%20%0A%0A%20%20%20%20%20%20%20%20%20%20%20%20%20%20%20%20var%20icon_a46765e94654498fb1fff494e98fab67%20%3D%20L.AwesomeMarkers.icon%28%7B%0A%20%20%20%20%20%20%20%20%20%20%20%20%20%20%20%20%20%20%20%20icon%3A%20%27info-sign%27%2C%0A%20%20%20%20%20%20%20%20%20%20%20%20%20%20%20%20%20%20%20%20iconColor%3A%20%27white%27%2C%0A%20%20%20%20%20%20%20%20%20%20%20%20%20%20%20%20%20%20%20%20markerColor%3A%20%27blue%27%2C%0A%20%20%20%20%20%20%20%20%20%20%20%20%20%20%20%20%20%20%20%20prefix%3A%20%27glyphicon%27%2C%0A%20%20%20%20%20%20%20%20%20%20%20%20%20%20%20%20%20%20%20%20extraClasses%3A%20%27fa-rotate-0%27%0A%20%20%20%20%20%20%20%20%20%20%20%20%20%20%20%20%20%20%20%20%7D%29%3B%0A%20%20%20%20%20%20%20%20%20%20%20%20%20%20%20%20marker_e67f913831ef4201a99ab77cdc09d3fc.setIcon%28icon_a46765e94654498fb1fff494e98fab67%29%3B%0A%20%20%20%20%20%20%20%20%20%20%20%20%0A%20%20%20%20%0A%20%20%20%20%20%20%20%20%20%20%20%20var%20popup_23c4ac4d59564dccb2520878a8e33772%20%3D%20L.popup%28%7BmaxWidth%3A%20%27100%25%27%0A%20%20%20%20%20%20%20%20%20%20%20%20%0A%20%20%20%20%20%20%20%20%20%20%20%20%7D%29%3B%0A%0A%20%20%20%20%20%20%20%20%20%20%20%20%0A%20%20%20%20%20%20%20%20%20%20%20%20%20%20%20%20var%20html_85dfd4478079464d8ba55f3518e8d5b7%20%3D%20%24%28%60%3Cdiv%20id%3D%22html_85dfd4478079464d8ba55f3518e8d5b7%22%20style%3D%22width%3A%20100.0%25%3B%20height%3A%20100.0%25%3B%22%3EMacaxeira%3C/div%3E%60%29%5B0%5D%3B%0A%20%20%20%20%20%20%20%20%20%20%20%20%20%20%20%20popup_23c4ac4d59564dccb2520878a8e33772.setContent%28html_85dfd4478079464d8ba55f3518e8d5b7%29%3B%0A%20%20%20%20%20%20%20%20%20%20%20%20%0A%0A%20%20%20%20%20%20%20%20%20%20%20%20marker_e67f913831ef4201a99ab77cdc09d3fc.bindPopup%28popup_23c4ac4d59564dccb2520878a8e33772%29%0A%20%20%20%20%20%20%20%20%20%20%20%20%3B%0A%0A%20%20%20%20%20%20%20%20%20%20%20%20%0A%20%20%20%20%20%20%20%20%0A%20%20%20%20%0A%20%20%20%20%20%20%20%20var%20marker_5a801ebd0e9544a0967a06927ef4a4a3%20%3D%20L.marker%28%0A%20%20%20%20%20%20%20%20%20%20%20%20%5B-8.0167602%2C%20-34.881944399999995%5D%2C%0A%20%20%20%20%20%20%20%20%20%20%20%20%7B%0A%20%20%20%20%20%20%20%20%20%20%20%20%20%20%20%20icon%3A%20new%20L.Icon.Default%28%29%2C%0A%20%20%20%20%20%20%20%20%20%20%20%20%20%20%20%20%7D%0A%20%20%20%20%20%20%20%20%20%20%20%20%29.addTo%28map_346b10195077415190bd91821c2b35a4%29%3B%0A%20%20%20%20%20%20%20%20%0A%20%20%20%20%0A%0A%20%20%20%20%20%20%20%20%20%20%20%20%20%20%20%20var%20icon_8ea6c66e6d0048ce963832624a4ed798%20%3D%20L.AwesomeMarkers.icon%28%7B%0A%20%20%20%20%20%20%20%20%20%20%20%20%20%20%20%20%20%20%20%20icon%3A%20%27info-sign%27%2C%0A%20%20%20%20%20%20%20%20%20%20%20%20%20%20%20%20%20%20%20%20iconColor%3A%20%27white%27%2C%0A%20%20%20%20%20%20%20%20%20%20%20%20%20%20%20%20%20%20%20%20markerColor%3A%20%27blue%27%2C%0A%20%20%20%20%20%20%20%20%20%20%20%20%20%20%20%20%20%20%20%20prefix%3A%20%27glyphicon%27%2C%0A%20%20%20%20%20%20%20%20%20%20%20%20%20%20%20%20%20%20%20%20extraClasses%3A%20%27fa-rotate-0%27%0A%20%20%20%20%20%20%20%20%20%20%20%20%20%20%20%20%20%20%20%20%7D%29%3B%0A%20%20%20%20%20%20%20%20%20%20%20%20%20%20%20%20marker_5a801ebd0e9544a0967a06927ef4a4a3.setIcon%28icon_8ea6c66e6d0048ce963832624a4ed798%29%3B%0A%20%20%20%20%20%20%20%20%20%20%20%20%0A%20%20%20%20%0A%20%20%20%20%20%20%20%20%20%20%20%20var%20popup_d65e4776bab04191aa6a0634ef38bbb6%20%3D%20L.popup%28%7BmaxWidth%3A%20%27100%25%27%0A%20%20%20%20%20%20%20%20%20%20%20%20%0A%20%20%20%20%20%20%20%20%20%20%20%20%7D%29%3B%0A%0A%20%20%20%20%20%20%20%20%20%20%20%20%0A%20%20%20%20%20%20%20%20%20%20%20%20%20%20%20%20var%20html_343c1f2787b645eea930fb61ad325aec%20%3D%20%24%28%60%3Cdiv%20id%3D%22html_343c1f2787b645eea930fb61ad325aec%22%20style%3D%22width%3A%20100.0%25%3B%20height%3A%20100.0%25%3B%22%3ECampina%20do%20Barreto%3C/div%3E%60%29%5B0%5D%3B%0A%20%20%20%20%20%20%20%20%20%20%20%20%20%20%20%20popup_d65e4776bab04191aa6a0634ef38bbb6.setContent%28html_343c1f2787b645eea930fb61ad325aec%29%3B%0A%20%20%20%20%20%20%20%20%20%20%20%20%0A%0A%20%20%20%20%20%20%20%20%20%20%20%20marker_5a801ebd0e9544a0967a06927ef4a4a3.bindPopup%28popup_d65e4776bab04191aa6a0634ef38bbb6%29%0A%20%20%20%20%20%20%20%20%20%20%20%20%3B%0A%0A%20%20%20%20%20%20%20%20%20%20%20%20%0A%20%20%20%20%20%20%20%20%0A%20%20%20%20%0A%20%20%20%20%20%20%20%20var%20marker_da4d90b1888a4ea98939ac6ceb41d1fd%20%3D%20L.marker%28%0A%20%20%20%20%20%20%20%20%20%20%20%20%5B-7.993252%2C%20-34.927462799999994%5D%2C%0A%20%20%20%20%20%20%20%20%20%20%20%20%7B%0A%20%20%20%20%20%20%20%20%20%20%20%20%20%20%20%20icon%3A%20new%20L.Icon.Default%28%29%2C%0A%20%20%20%20%20%20%20%20%20%20%20%20%20%20%20%20%7D%0A%20%20%20%20%20%20%20%20%20%20%20%20%29.addTo%28map_346b10195077415190bd91821c2b35a4%29%3B%0A%20%20%20%20%20%20%20%20%0A%20%20%20%20%0A%0A%20%20%20%20%20%20%20%20%20%20%20%20%20%20%20%20var%20icon_fc3bfeed72ab4b3cb716266b7a3b2f6b%20%3D%20L.AwesomeMarkers.icon%28%7B%0A%20%20%20%20%20%20%20%20%20%20%20%20%20%20%20%20%20%20%20%20icon%3A%20%27info-sign%27%2C%0A%20%20%20%20%20%20%20%20%20%20%20%20%20%20%20%20%20%20%20%20iconColor%3A%20%27white%27%2C%0A%20%20%20%20%20%20%20%20%20%20%20%20%20%20%20%20%20%20%20%20markerColor%3A%20%27blue%27%2C%0A%20%20%20%20%20%20%20%20%20%20%20%20%20%20%20%20%20%20%20%20prefix%3A%20%27glyphicon%27%2C%0A%20%20%20%20%20%20%20%20%20%20%20%20%20%20%20%20%20%20%20%20extraClasses%3A%20%27fa-rotate-0%27%0A%20%20%20%20%20%20%20%20%20%20%20%20%20%20%20%20%20%20%20%20%7D%29%3B%0A%20%20%20%20%20%20%20%20%20%20%20%20%20%20%20%20marker_da4d90b1888a4ea98939ac6ceb41d1fd.setIcon%28icon_fc3bfeed72ab4b3cb716266b7a3b2f6b%29%3B%0A%20%20%20%20%20%20%20%20%20%20%20%20%0A%20%20%20%20%0A%20%20%20%20%20%20%20%20%20%20%20%20var%20popup_7d6f07079386472ca5ce193c72d9bc69%20%3D%20L.popup%28%7BmaxWidth%3A%20%27100%25%27%0A%20%20%20%20%20%20%20%20%20%20%20%20%0A%20%20%20%20%20%20%20%20%20%20%20%20%7D%29%3B%0A%0A%20%20%20%20%20%20%20%20%20%20%20%20%0A%20%20%20%20%20%20%20%20%20%20%20%20%20%20%20%20var%20html_70ff10900423453684feafd129871821%20%3D%20%24%28%60%3Cdiv%20id%3D%22html_70ff10900423453684feafd129871821%22%20style%3D%22width%3A%20100.0%25%3B%20height%3A%20100.0%25%3B%22%3EBrejo%20da%20Guabiraba%3C/div%3E%60%29%5B0%5D%3B%0A%20%20%20%20%20%20%20%20%20%20%20%20%20%20%20%20popup_7d6f07079386472ca5ce193c72d9bc69.setContent%28html_70ff10900423453684feafd129871821%29%3B%0A%20%20%20%20%20%20%20%20%20%20%20%20%0A%0A%20%20%20%20%20%20%20%20%20%20%20%20marker_da4d90b1888a4ea98939ac6ceb41d1fd.bindPopup%28popup_7d6f07079386472ca5ce193c72d9bc69%29%0A%20%20%20%20%20%20%20%20%20%20%20%20%3B%0A%0A%20%20%20%20%20%20%20%20%20%20%20%20%0A%20%20%20%20%20%20%20%20%0A%20%20%20%20%0A%20%20%20%20%20%20%20%20var%20marker_eccbf063d1c74935abe0834964be9f9a%20%3D%20L.marker%28%0A%20%20%20%20%20%20%20%20%20%20%20%20%5B-7.9963802%2C%20-34.9154071%5D%2C%0A%20%20%20%20%20%20%20%20%20%20%20%20%7B%0A%20%20%20%20%20%20%20%20%20%20%20%20%20%20%20%20icon%3A%20new%20L.Icon.Default%28%29%2C%0A%20%20%20%20%20%20%20%20%20%20%20%20%20%20%20%20%7D%0A%20%20%20%20%20%20%20%20%20%20%20%20%29.addTo%28map_346b10195077415190bd91821c2b35a4%29%3B%0A%20%20%20%20%20%20%20%20%0A%20%20%20%20%0A%0A%20%20%20%20%20%20%20%20%20%20%20%20%20%20%20%20var%20icon_a85621a218b3435898ae7f1d20c7f193%20%3D%20L.AwesomeMarkers.icon%28%7B%0A%20%20%20%20%20%20%20%20%20%20%20%20%20%20%20%20%20%20%20%20icon%3A%20%27info-sign%27%2C%0A%20%20%20%20%20%20%20%20%20%20%20%20%20%20%20%20%20%20%20%20iconColor%3A%20%27white%27%2C%0A%20%20%20%20%20%20%20%20%20%20%20%20%20%20%20%20%20%20%20%20markerColor%3A%20%27blue%27%2C%0A%20%20%20%20%20%20%20%20%20%20%20%20%20%20%20%20%20%20%20%20prefix%3A%20%27glyphicon%27%2C%0A%20%20%20%20%20%20%20%20%20%20%20%20%20%20%20%20%20%20%20%20extraClasses%3A%20%27fa-rotate-0%27%0A%20%20%20%20%20%20%20%20%20%20%20%20%20%20%20%20%20%20%20%20%7D%29%3B%0A%20%20%20%20%20%20%20%20%20%20%20%20%20%20%20%20marker_eccbf063d1c74935abe0834964be9f9a.setIcon%28icon_a85621a218b3435898ae7f1d20c7f193%29%3B%0A%20%20%20%20%20%20%20%20%20%20%20%20%0A%20%20%20%20%0A%20%20%20%20%20%20%20%20%20%20%20%20var%20popup_0ca923b899f14466aa79c184b9452a0e%20%3D%20L.popup%28%7BmaxWidth%3A%20%27100%25%27%0A%20%20%20%20%20%20%20%20%20%20%20%20%0A%20%20%20%20%20%20%20%20%20%20%20%20%7D%29%3B%0A%0A%20%20%20%20%20%20%20%20%20%20%20%20%0A%20%20%20%20%20%20%20%20%20%20%20%20%20%20%20%20var%20html_6202396d02864d6c852ead69f3ac56c5%20%3D%20%24%28%60%3Cdiv%20id%3D%22html_6202396d02864d6c852ead69f3ac56c5%22%20style%3D%22width%3A%20100.0%25%3B%20height%3A%20100.0%25%3B%22%3EDois%20Unidos%3C/div%3E%60%29%5B0%5D%3B%0A%20%20%20%20%20%20%20%20%20%20%20%20%20%20%20%20popup_0ca923b899f14466aa79c184b9452a0e.setContent%28html_6202396d02864d6c852ead69f3ac56c5%29%3B%0A%20%20%20%20%20%20%20%20%20%20%20%20%0A%0A%20%20%20%20%20%20%20%20%20%20%20%20marker_eccbf063d1c74935abe0834964be9f9a.bindPopup%28popup_0ca923b899f14466aa79c184b9452a0e%29%0A%20%20%20%20%20%20%20%20%20%20%20%20%3B%0A%0A%20%20%20%20%20%20%20%20%20%20%20%20%0A%20%20%20%20%20%20%20%20%0A%20%20%20%20%0A%20%20%20%20%20%20%20%20var%20marker_7a3df0e1f4064db794f0be3eb08ed933%20%3D%20L.marker%28%0A%20%20%20%20%20%20%20%20%20%20%20%20%5B-8.076847500000001%2C%20-34.9149856%5D%2C%0A%20%20%20%20%20%20%20%20%20%20%20%20%7B%0A%20%20%20%20%20%20%20%20%20%20%20%20%20%20%20%20icon%3A%20new%20L.Icon.Default%28%29%2C%0A%20%20%20%20%20%20%20%20%20%20%20%20%20%20%20%20%7D%0A%20%20%20%20%20%20%20%20%20%20%20%20%29.addTo%28map_346b10195077415190bd91821c2b35a4%29%3B%0A%20%20%20%20%20%20%20%20%0A%20%20%20%20%0A%0A%20%20%20%20%20%20%20%20%20%20%20%20%20%20%20%20var%20icon_9a6e0b66bab3466aa789c075706997e9%20%3D%20L.AwesomeMarkers.icon%28%7B%0A%20%20%20%20%20%20%20%20%20%20%20%20%20%20%20%20%20%20%20%20icon%3A%20%27info-sign%27%2C%0A%20%20%20%20%20%20%20%20%20%20%20%20%20%20%20%20%20%20%20%20iconColor%3A%20%27white%27%2C%0A%20%20%20%20%20%20%20%20%20%20%20%20%20%20%20%20%20%20%20%20markerColor%3A%20%27blue%27%2C%0A%20%20%20%20%20%20%20%20%20%20%20%20%20%20%20%20%20%20%20%20prefix%3A%20%27glyphicon%27%2C%0A%20%20%20%20%20%20%20%20%20%20%20%20%20%20%20%20%20%20%20%20extraClasses%3A%20%27fa-rotate-0%27%0A%20%20%20%20%20%20%20%20%20%20%20%20%20%20%20%20%20%20%20%20%7D%29%3B%0A%20%20%20%20%20%20%20%20%20%20%20%20%20%20%20%20marker_7a3df0e1f4064db794f0be3eb08ed933.setIcon%28icon_9a6e0b66bab3466aa789c075706997e9%29%3B%0A%20%20%20%20%20%20%20%20%20%20%20%20%0A%20%20%20%20%0A%20%20%20%20%20%20%20%20%20%20%20%20var%20popup_9c7f3c782b1b49349acf08338f348e4a%20%3D%20L.popup%28%7BmaxWidth%3A%20%27100%25%27%0A%20%20%20%20%20%20%20%20%20%20%20%20%0A%20%20%20%20%20%20%20%20%20%20%20%20%7D%29%3B%0A%0A%20%20%20%20%20%20%20%20%20%20%20%20%0A%20%20%20%20%20%20%20%20%20%20%20%20%20%20%20%20var%20html_8ed6af6a406443019e25d361344203cc%20%3D%20%24%28%60%3Cdiv%20id%3D%22html_8ed6af6a406443019e25d361344203cc%22%20style%3D%22width%3A%20100.0%25%3B%20height%3A%20100.0%25%3B%22%3EAfogados%3C/div%3E%60%29%5B0%5D%3B%0A%20%20%20%20%20%20%20%20%20%20%20%20%20%20%20%20popup_9c7f3c782b1b49349acf08338f348e4a.setContent%28html_8ed6af6a406443019e25d361344203cc%29%3B%0A%20%20%20%20%20%20%20%20%20%20%20%20%0A%0A%20%20%20%20%20%20%20%20%20%20%20%20marker_7a3df0e1f4064db794f0be3eb08ed933.bindPopup%28popup_9c7f3c782b1b49349acf08338f348e4a%29%0A%20%20%20%20%20%20%20%20%20%20%20%20%3B%0A%0A%20%20%20%20%20%20%20%20%20%20%20%20%0A%20%20%20%20%20%20%20%20%0A%20%20%20%20%0A%20%20%20%20%20%20%20%20var%20marker_6c223c2a8d7f498e88af081818cd9f01%20%3D%20L.marker%28%0A%20%20%20%20%20%20%20%20%20%20%20%20%5B-8.0720566%2C%20-34.9236162%5D%2C%0A%20%20%20%20%20%20%20%20%20%20%20%20%7B%0A%20%20%20%20%20%20%20%20%20%20%20%20%20%20%20%20icon%3A%20new%20L.Icon.Default%28%29%2C%0A%20%20%20%20%20%20%20%20%20%20%20%20%20%20%20%20%7D%0A%20%20%20%20%20%20%20%20%20%20%20%20%29.addTo%28map_346b10195077415190bd91821c2b35a4%29%3B%0A%20%20%20%20%20%20%20%20%0A%20%20%20%20%0A%0A%20%20%20%20%20%20%20%20%20%20%20%20%20%20%20%20var%20icon_4311bf50ce3a4ffeb840c64c8bc0fae9%20%3D%20L.AwesomeMarkers.icon%28%7B%0A%20%20%20%20%20%20%20%20%20%20%20%20%20%20%20%20%20%20%20%20icon%3A%20%27info-sign%27%2C%0A%20%20%20%20%20%20%20%20%20%20%20%20%20%20%20%20%20%20%20%20iconColor%3A%20%27white%27%2C%0A%20%20%20%20%20%20%20%20%20%20%20%20%20%20%20%20%20%20%20%20markerColor%3A%20%27blue%27%2C%0A%20%20%20%20%20%20%20%20%20%20%20%20%20%20%20%20%20%20%20%20prefix%3A%20%27glyphicon%27%2C%0A%20%20%20%20%20%20%20%20%20%20%20%20%20%20%20%20%20%20%20%20extraClasses%3A%20%27fa-rotate-0%27%0A%20%20%20%20%20%20%20%20%20%20%20%20%20%20%20%20%20%20%20%20%7D%29%3B%0A%20%20%20%20%20%20%20%20%20%20%20%20%20%20%20%20marker_6c223c2a8d7f498e88af081818cd9f01.setIcon%28icon_4311bf50ce3a4ffeb840c64c8bc0fae9%29%3B%0A%20%20%20%20%20%20%20%20%20%20%20%20%0A%20%20%20%20%0A%20%20%20%20%20%20%20%20%20%20%20%20var%20popup_e168fb85476b407aacf1ceaddc615e16%20%3D%20L.popup%28%7BmaxWidth%3A%20%27100%25%27%0A%20%20%20%20%20%20%20%20%20%20%20%20%0A%20%20%20%20%20%20%20%20%20%20%20%20%7D%29%3B%0A%0A%20%20%20%20%20%20%20%20%20%20%20%20%0A%20%20%20%20%20%20%20%20%20%20%20%20%20%20%20%20var%20html_ea475571120f4013b0363387519ed46e%20%3D%20%24%28%60%3Cdiv%20id%3D%22html_ea475571120f4013b0363387519ed46e%22%20style%3D%22width%3A%20100.0%25%3B%20height%3A%20100.0%25%3B%22%3EMustardinha%3C/div%3E%60%29%5B0%5D%3B%0A%20%20%20%20%20%20%20%20%20%20%20%20%20%20%20%20popup_e168fb85476b407aacf1ceaddc615e16.setContent%28html_ea475571120f4013b0363387519ed46e%29%3B%0A%20%20%20%20%20%20%20%20%20%20%20%20%0A%0A%20%20%20%20%20%20%20%20%20%20%20%20marker_6c223c2a8d7f498e88af081818cd9f01.bindPopup%28popup_e168fb85476b407aacf1ceaddc615e16%29%0A%20%20%20%20%20%20%20%20%20%20%20%20%3B%0A%0A%20%20%20%20%20%20%20%20%20%20%20%20%0A%20%20%20%20%20%20%20%20%0A%20%20%20%20%0A%20%20%20%20%20%20%20%20var%20marker_856532598cf1460fbf70854fb1221b0d%20%3D%20L.marker%28%0A%20%20%20%20%20%20%20%20%20%20%20%20%5B-8.0862807%2C%20-34.920765700000004%5D%2C%0A%20%20%20%20%20%20%20%20%20%20%20%20%7B%0A%20%20%20%20%20%20%20%20%20%20%20%20%20%20%20%20icon%3A%20new%20L.Icon.Default%28%29%2C%0A%20%20%20%20%20%20%20%20%20%20%20%20%20%20%20%20%7D%0A%20%20%20%20%20%20%20%20%20%20%20%20%29.addTo%28map_346b10195077415190bd91821c2b35a4%29%3B%0A%20%20%20%20%20%20%20%20%0A%20%20%20%20%0A%0A%20%20%20%20%20%20%20%20%20%20%20%20%20%20%20%20var%20icon_7f7149d1fc2e4b7f85936dfb0fbfaacd%20%3D%20L.AwesomeMarkers.icon%28%7B%0A%20%20%20%20%20%20%20%20%20%20%20%20%20%20%20%20%20%20%20%20icon%3A%20%27info-sign%27%2C%0A%20%20%20%20%20%20%20%20%20%20%20%20%20%20%20%20%20%20%20%20iconColor%3A%20%27white%27%2C%0A%20%20%20%20%20%20%20%20%20%20%20%20%20%20%20%20%20%20%20%20markerColor%3A%20%27blue%27%2C%0A%20%20%20%20%20%20%20%20%20%20%20%20%20%20%20%20%20%20%20%20prefix%3A%20%27glyphicon%27%2C%0A%20%20%20%20%20%20%20%20%20%20%20%20%20%20%20%20%20%20%20%20extraClasses%3A%20%27fa-rotate-0%27%0A%20%20%20%20%20%20%20%20%20%20%20%20%20%20%20%20%20%20%20%20%7D%29%3B%0A%20%20%20%20%20%20%20%20%20%20%20%20%20%20%20%20marker_856532598cf1460fbf70854fb1221b0d.setIcon%28icon_7f7149d1fc2e4b7f85936dfb0fbfaacd%29%3B%0A%20%20%20%20%20%20%20%20%20%20%20%20%0A%20%20%20%20%0A%20%20%20%20%20%20%20%20%20%20%20%20var%20popup_59d82b261cf44a5c97d5d2903ea4572a%20%3D%20L.popup%28%7BmaxWidth%3A%20%27100%25%27%0A%20%20%20%20%20%20%20%20%20%20%20%20%0A%20%20%20%20%20%20%20%20%20%20%20%20%7D%29%3B%0A%0A%20%20%20%20%20%20%20%20%20%20%20%20%0A%20%20%20%20%20%20%20%20%20%20%20%20%20%20%20%20var%20html_529067b276b94f139d4f7220835b3649%20%3D%20%24%28%60%3Cdiv%20id%3D%22html_529067b276b94f139d4f7220835b3649%22%20style%3D%22width%3A%20100.0%25%3B%20height%3A%20100.0%25%3B%22%3EJiqui%C3%A1%3C/div%3E%60%29%5B0%5D%3B%0A%20%20%20%20%20%20%20%20%20%20%20%20%20%20%20%20popup_59d82b261cf44a5c97d5d2903ea4572a.setContent%28html_529067b276b94f139d4f7220835b3649%29%3B%0A%20%20%20%20%20%20%20%20%20%20%20%20%0A%0A%20%20%20%20%20%20%20%20%20%20%20%20marker_856532598cf1460fbf70854fb1221b0d.bindPopup%28popup_59d82b261cf44a5c97d5d2903ea4572a%29%0A%20%20%20%20%20%20%20%20%20%20%20%20%3B%0A%0A%20%20%20%20%20%20%20%20%20%20%20%20%0A%20%20%20%20%20%20%20%20%0A%20%20%20%20%0A%20%20%20%20%20%20%20%20var%20marker_3eecbe927a81439e97c628ea588acf00%20%3D%20L.marker%28%0A%20%20%20%20%20%20%20%20%20%20%20%20%5B-8.0862807%2C%20-34.920765700000004%5D%2C%0A%20%20%20%20%20%20%20%20%20%20%20%20%7B%0A%20%20%20%20%20%20%20%20%20%20%20%20%20%20%20%20icon%3A%20new%20L.Icon.Default%28%29%2C%0A%20%20%20%20%20%20%20%20%20%20%20%20%20%20%20%20%7D%0A%20%20%20%20%20%20%20%20%20%20%20%20%29.addTo%28map_346b10195077415190bd91821c2b35a4%29%3B%0A%20%20%20%20%20%20%20%20%0A%20%20%20%20%0A%0A%20%20%20%20%20%20%20%20%20%20%20%20%20%20%20%20var%20icon_09532412d12842ff8e7974390bf3297a%20%3D%20L.AwesomeMarkers.icon%28%7B%0A%20%20%20%20%20%20%20%20%20%20%20%20%20%20%20%20%20%20%20%20icon%3A%20%27info-sign%27%2C%0A%20%20%20%20%20%20%20%20%20%20%20%20%20%20%20%20%20%20%20%20iconColor%3A%20%27white%27%2C%0A%20%20%20%20%20%20%20%20%20%20%20%20%20%20%20%20%20%20%20%20markerColor%3A%20%27blue%27%2C%0A%20%20%20%20%20%20%20%20%20%20%20%20%20%20%20%20%20%20%20%20prefix%3A%20%27glyphicon%27%2C%0A%20%20%20%20%20%20%20%20%20%20%20%20%20%20%20%20%20%20%20%20extraClasses%3A%20%27fa-rotate-0%27%0A%20%20%20%20%20%20%20%20%20%20%20%20%20%20%20%20%20%20%20%20%7D%29%3B%0A%20%20%20%20%20%20%20%20%20%20%20%20%20%20%20%20marker_3eecbe927a81439e97c628ea588acf00.setIcon%28icon_09532412d12842ff8e7974390bf3297a%29%3B%0A%20%20%20%20%20%20%20%20%20%20%20%20%0A%20%20%20%20%0A%20%20%20%20%20%20%20%20%20%20%20%20var%20popup_b0ca9649ca324919807c3eb3e23c6180%20%3D%20L.popup%28%7BmaxWidth%3A%20%27100%25%27%0A%20%20%20%20%20%20%20%20%20%20%20%20%0A%20%20%20%20%20%20%20%20%20%20%20%20%7D%29%3B%0A%0A%20%20%20%20%20%20%20%20%20%20%20%20%0A%20%20%20%20%20%20%20%20%20%20%20%20%20%20%20%20var%20html_1c1af8f33e9244a5be3b0618a711aa74%20%3D%20%24%28%60%3Cdiv%20id%3D%22html_1c1af8f33e9244a5be3b0618a711aa74%22%20style%3D%22width%3A%20100.0%25%3B%20height%3A%20100.0%25%3B%22%3EJiqui%C3%A1%3C/div%3E%60%29%5B0%5D%3B%0A%20%20%20%20%20%20%20%20%20%20%20%20%20%20%20%20popup_b0ca9649ca324919807c3eb3e23c6180.setContent%28html_1c1af8f33e9244a5be3b0618a711aa74%29%3B%0A%20%20%20%20%20%20%20%20%20%20%20%20%0A%0A%20%20%20%20%20%20%20%20%20%20%20%20marker_3eecbe927a81439e97c628ea588acf00.bindPopup%28popup_b0ca9649ca324919807c3eb3e23c6180%29%0A%20%20%20%20%20%20%20%20%20%20%20%20%3B%0A%0A%20%20%20%20%20%20%20%20%20%20%20%20%0A%20%20%20%20%20%20%20%20%0A%20%20%20%20%0A%20%20%20%20%20%20%20%20var%20marker_da9dd99fbe0b42aa9dd211a70384777e%20%3D%20L.marker%28%0A%20%20%20%20%20%20%20%20%20%20%20%20%5B-8.0469101%2C%20-34.9560068%5D%2C%0A%20%20%20%20%20%20%20%20%20%20%20%20%7B%0A%20%20%20%20%20%20%20%20%20%20%20%20%20%20%20%20icon%3A%20new%20L.Icon.Default%28%29%2C%0A%20%20%20%20%20%20%20%20%20%20%20%20%20%20%20%20%7D%0A%20%20%20%20%20%20%20%20%20%20%20%20%29.addTo%28map_346b10195077415190bd91821c2b35a4%29%3B%0A%20%20%20%20%20%20%20%20%0A%20%20%20%20%0A%0A%20%20%20%20%20%20%20%20%20%20%20%20%20%20%20%20var%20icon_e2b66a90cc1a4350878518ef0ea70813%20%3D%20L.AwesomeMarkers.icon%28%7B%0A%20%20%20%20%20%20%20%20%20%20%20%20%20%20%20%20%20%20%20%20icon%3A%20%27info-sign%27%2C%0A%20%20%20%20%20%20%20%20%20%20%20%20%20%20%20%20%20%20%20%20iconColor%3A%20%27white%27%2C%0A%20%20%20%20%20%20%20%20%20%20%20%20%20%20%20%20%20%20%20%20markerColor%3A%20%27blue%27%2C%0A%20%20%20%20%20%20%20%20%20%20%20%20%20%20%20%20%20%20%20%20prefix%3A%20%27glyphicon%27%2C%0A%20%20%20%20%20%20%20%20%20%20%20%20%20%20%20%20%20%20%20%20extraClasses%3A%20%27fa-rotate-0%27%0A%20%20%20%20%20%20%20%20%20%20%20%20%20%20%20%20%20%20%20%20%7D%29%3B%0A%20%20%20%20%20%20%20%20%20%20%20%20%20%20%20%20marker_da9dd99fbe0b42aa9dd211a70384777e.setIcon%28icon_e2b66a90cc1a4350878518ef0ea70813%29%3B%0A%20%20%20%20%20%20%20%20%20%20%20%20%0A%20%20%20%20%0A%20%20%20%20%20%20%20%20%20%20%20%20var%20popup_8319cc818951467fb20a1f879151847a%20%3D%20L.popup%28%7BmaxWidth%3A%20%27100%25%27%0A%20%20%20%20%20%20%20%20%20%20%20%20%0A%20%20%20%20%20%20%20%20%20%20%20%20%7D%29%3B%0A%0A%20%20%20%20%20%20%20%20%20%20%20%20%0A%20%20%20%20%20%20%20%20%20%20%20%20%20%20%20%20var%20html_8c50c77ebfae4afb8759021fb3bf31dd%20%3D%20%24%28%60%3Cdiv%20id%3D%22html_8c50c77ebfae4afb8759021fb3bf31dd%22%20style%3D%22width%3A%20100.0%25%3B%20height%3A%20100.0%25%3B%22%3EV%C3%A1rzea%3C/div%3E%60%29%5B0%5D%3B%0A%20%20%20%20%20%20%20%20%20%20%20%20%20%20%20%20popup_8319cc818951467fb20a1f879151847a.setContent%28html_8c50c77ebfae4afb8759021fb3bf31dd%29%3B%0A%20%20%20%20%20%20%20%20%20%20%20%20%0A%0A%20%20%20%20%20%20%20%20%20%20%20%20marker_da9dd99fbe0b42aa9dd211a70384777e.bindPopup%28popup_8319cc818951467fb20a1f879151847a%29%0A%20%20%20%20%20%20%20%20%20%20%20%20%3B%0A%0A%20%20%20%20%20%20%20%20%20%20%20%20%0A%20%20%20%20%20%20%20%20%0A%20%20%20%20%0A%20%20%20%20%20%20%20%20var%20marker_7f3753b366ed4ea3be46f7bfa57856d3%20%3D%20L.marker%28%0A%20%20%20%20%20%20%20%20%20%20%20%20%5B-8.0344147%2C%20-34.95655479999999%5D%2C%0A%20%20%20%20%20%20%20%20%20%20%20%20%7B%0A%20%20%20%20%20%20%20%20%20%20%20%20%20%20%20%20icon%3A%20new%20L.Icon.Default%28%29%2C%0A%20%20%20%20%20%20%20%20%20%20%20%20%20%20%20%20%7D%0A%20%20%20%20%20%20%20%20%20%20%20%20%29.addTo%28map_346b10195077415190bd91821c2b35a4%29%3B%0A%20%20%20%20%20%20%20%20%0A%20%20%20%20%0A%0A%20%20%20%20%20%20%20%20%20%20%20%20%20%20%20%20var%20icon_31a0e92d73d547b7ae71c5450828e277%20%3D%20L.AwesomeMarkers.icon%28%7B%0A%20%20%20%20%20%20%20%20%20%20%20%20%20%20%20%20%20%20%20%20icon%3A%20%27info-sign%27%2C%0A%20%20%20%20%20%20%20%20%20%20%20%20%20%20%20%20%20%20%20%20iconColor%3A%20%27white%27%2C%0A%20%20%20%20%20%20%20%20%20%20%20%20%20%20%20%20%20%20%20%20markerColor%3A%20%27blue%27%2C%0A%20%20%20%20%20%20%20%20%20%20%20%20%20%20%20%20%20%20%20%20prefix%3A%20%27glyphicon%27%2C%0A%20%20%20%20%20%20%20%20%20%20%20%20%20%20%20%20%20%20%20%20extraClasses%3A%20%27fa-rotate-0%27%0A%20%20%20%20%20%20%20%20%20%20%20%20%20%20%20%20%20%20%20%20%7D%29%3B%0A%20%20%20%20%20%20%20%20%20%20%20%20%20%20%20%20marker_7f3753b366ed4ea3be46f7bfa57856d3.setIcon%28icon_31a0e92d73d547b7ae71c5450828e277%29%3B%0A%20%20%20%20%20%20%20%20%20%20%20%20%0A%20%20%20%20%0A%20%20%20%20%20%20%20%20%20%20%20%20var%20popup_243e664668154f739b7b08a5cb924da7%20%3D%20L.popup%28%7BmaxWidth%3A%20%27100%25%27%0A%20%20%20%20%20%20%20%20%20%20%20%20%0A%20%20%20%20%20%20%20%20%20%20%20%20%7D%29%3B%0A%0A%20%20%20%20%20%20%20%20%20%20%20%20%0A%20%20%20%20%20%20%20%20%20%20%20%20%20%20%20%20var%20html_669d1369d9ec4a28bb59aeed533a1e0e%20%3D%20%24%28%60%3Cdiv%20id%3D%22html_669d1369d9ec4a28bb59aeed533a1e0e%22%20style%3D%22width%3A%20100.0%25%3B%20height%3A%20100.0%25%3B%22%3EV%C3%A1rzea%3C/div%3E%60%29%5B0%5D%3B%0A%20%20%20%20%20%20%20%20%20%20%20%20%20%20%20%20popup_243e664668154f739b7b08a5cb924da7.setContent%28html_669d1369d9ec4a28bb59aeed533a1e0e%29%3B%0A%20%20%20%20%20%20%20%20%20%20%20%20%0A%0A%20%20%20%20%20%20%20%20%20%20%20%20marker_7f3753b366ed4ea3be46f7bfa57856d3.bindPopup%28popup_243e664668154f739b7b08a5cb924da7%29%0A%20%20%20%20%20%20%20%20%20%20%20%20%3B%0A%0A%20%20%20%20%20%20%20%20%20%20%20%20%0A%20%20%20%20%20%20%20%20%0A%20%20%20%20%0A%20%20%20%20%20%20%20%20var%20marker_4f42a5a5ccd844c0a0e0f09cea877f76%20%3D%20L.marker%28%0A%20%20%20%20%20%20%20%20%20%20%20%20%5B-8.0581955%2C%20-34.9317358%5D%2C%0A%20%20%20%20%20%20%20%20%20%20%20%20%7B%0A%20%20%20%20%20%20%20%20%20%20%20%20%20%20%20%20icon%3A%20new%20L.Icon.Default%28%29%2C%0A%20%20%20%20%20%20%20%20%20%20%20%20%20%20%20%20%7D%0A%20%20%20%20%20%20%20%20%20%20%20%20%29.addTo%28map_346b10195077415190bd91821c2b35a4%29%3B%0A%20%20%20%20%20%20%20%20%0A%20%20%20%20%0A%0A%20%20%20%20%20%20%20%20%20%20%20%20%20%20%20%20var%20icon_c34d526e61aa4e5f8c584b186ddc2d1e%20%3D%20L.AwesomeMarkers.icon%28%7B%0A%20%20%20%20%20%20%20%20%20%20%20%20%20%20%20%20%20%20%20%20icon%3A%20%27info-sign%27%2C%0A%20%20%20%20%20%20%20%20%20%20%20%20%20%20%20%20%20%20%20%20iconColor%3A%20%27white%27%2C%0A%20%20%20%20%20%20%20%20%20%20%20%20%20%20%20%20%20%20%20%20markerColor%3A%20%27blue%27%2C%0A%20%20%20%20%20%20%20%20%20%20%20%20%20%20%20%20%20%20%20%20prefix%3A%20%27glyphicon%27%2C%0A%20%20%20%20%20%20%20%20%20%20%20%20%20%20%20%20%20%20%20%20extraClasses%3A%20%27fa-rotate-0%27%0A%20%20%20%20%20%20%20%20%20%20%20%20%20%20%20%20%20%20%20%20%7D%29%3B%0A%20%20%20%20%20%20%20%20%20%20%20%20%20%20%20%20marker_4f42a5a5ccd844c0a0e0f09cea877f76.setIcon%28icon_c34d526e61aa4e5f8c584b186ddc2d1e%29%3B%0A%20%20%20%20%20%20%20%20%20%20%20%20%0A%20%20%20%20%0A%20%20%20%20%20%20%20%20%20%20%20%20var%20popup_c17796919d2f4338a7593f658f116078%20%3D%20L.popup%28%7BmaxWidth%3A%20%27100%25%27%0A%20%20%20%20%20%20%20%20%20%20%20%20%0A%20%20%20%20%20%20%20%20%20%20%20%20%7D%29%3B%0A%0A%20%20%20%20%20%20%20%20%20%20%20%20%0A%20%20%20%20%20%20%20%20%20%20%20%20%20%20%20%20var%20html_9d2e4692133b4c4ea7a419615abece4e%20%3D%20%24%28%60%3Cdiv%20id%3D%22html_9d2e4692133b4c4ea7a419615abece4e%22%20style%3D%22width%3A%20100.0%25%3B%20height%3A%20100.0%25%3B%22%3ECordeiro%3C/div%3E%60%29%5B0%5D%3B%0A%20%20%20%20%20%20%20%20%20%20%20%20%20%20%20%20popup_c17796919d2f4338a7593f658f116078.setContent%28html_9d2e4692133b4c4ea7a419615abece4e%29%3B%0A%20%20%20%20%20%20%20%20%20%20%20%20%0A%0A%20%20%20%20%20%20%20%20%20%20%20%20marker_4f42a5a5ccd844c0a0e0f09cea877f76.bindPopup%28popup_c17796919d2f4338a7593f658f116078%29%0A%20%20%20%20%20%20%20%20%20%20%20%20%3B%0A%0A%20%20%20%20%20%20%20%20%20%20%20%20%0A%20%20%20%20%20%20%20%20%0A%20%20%20%20%0A%20%20%20%20%20%20%20%20var%20marker_dc68e74cf7f74f0384e18e89e29a4f97%20%3D%20L.marker%28%0A%20%20%20%20%20%20%20%20%20%20%20%20%5B-8.0584598%2C%20-34.937205600000006%5D%2C%0A%20%20%20%20%20%20%20%20%20%20%20%20%7B%0A%20%20%20%20%20%20%20%20%20%20%20%20%20%20%20%20icon%3A%20new%20L.Icon.Default%28%29%2C%0A%20%20%20%20%20%20%20%20%20%20%20%20%20%20%20%20%7D%0A%20%20%20%20%20%20%20%20%20%20%20%20%29.addTo%28map_346b10195077415190bd91821c2b35a4%29%3B%0A%20%20%20%20%20%20%20%20%0A%20%20%20%20%0A%0A%20%20%20%20%20%20%20%20%20%20%20%20%20%20%20%20var%20icon_eb000b55eae641e99e62f88d5314f10c%20%3D%20L.AwesomeMarkers.icon%28%7B%0A%20%20%20%20%20%20%20%20%20%20%20%20%20%20%20%20%20%20%20%20icon%3A%20%27info-sign%27%2C%0A%20%20%20%20%20%20%20%20%20%20%20%20%20%20%20%20%20%20%20%20iconColor%3A%20%27white%27%2C%0A%20%20%20%20%20%20%20%20%20%20%20%20%20%20%20%20%20%20%20%20markerColor%3A%20%27blue%27%2C%0A%20%20%20%20%20%20%20%20%20%20%20%20%20%20%20%20%20%20%20%20prefix%3A%20%27glyphicon%27%2C%0A%20%20%20%20%20%20%20%20%20%20%20%20%20%20%20%20%20%20%20%20extraClasses%3A%20%27fa-rotate-0%27%0A%20%20%20%20%20%20%20%20%20%20%20%20%20%20%20%20%20%20%20%20%7D%29%3B%0A%20%20%20%20%20%20%20%20%20%20%20%20%20%20%20%20marker_dc68e74cf7f74f0384e18e89e29a4f97.setIcon%28icon_eb000b55eae641e99e62f88d5314f10c%29%3B%0A%20%20%20%20%20%20%20%20%20%20%20%20%0A%20%20%20%20%0A%20%20%20%20%20%20%20%20%20%20%20%20var%20popup_8045456af4f74640a397ec87457813d5%20%3D%20L.popup%28%7BmaxWidth%3A%20%27100%25%27%0A%20%20%20%20%20%20%20%20%20%20%20%20%0A%20%20%20%20%20%20%20%20%20%20%20%20%7D%29%3B%0A%0A%20%20%20%20%20%20%20%20%20%20%20%20%0A%20%20%20%20%20%20%20%20%20%20%20%20%20%20%20%20var%20html_127c8dfa0c92400191166ded2c1bcad4%20%3D%20%24%28%60%3Cdiv%20id%3D%22html_127c8dfa0c92400191166ded2c1bcad4%22%20style%3D%22width%3A%20100.0%25%3B%20height%3A%20100.0%25%3B%22%3ETorr%C3%A4es%3C/div%3E%60%29%5B0%5D%3B%0A%20%20%20%20%20%20%20%20%20%20%20%20%20%20%20%20popup_8045456af4f74640a397ec87457813d5.setContent%28html_127c8dfa0c92400191166ded2c1bcad4%29%3B%0A%20%20%20%20%20%20%20%20%20%20%20%20%0A%0A%20%20%20%20%20%20%20%20%20%20%20%20marker_dc68e74cf7f74f0384e18e89e29a4f97.bindPopup%28popup_8045456af4f74640a397ec87457813d5%29%0A%20%20%20%20%20%20%20%20%20%20%20%20%3B%0A%0A%20%20%20%20%20%20%20%20%20%20%20%20%0A%20%20%20%20%20%20%20%20%0A%20%20%20%20%0A%20%20%20%20%20%20%20%20var%20marker_93c8406d8837467588cfeacf9a7ae65c%20%3D%20L.marker%28%0A%20%20%20%20%20%20%20%20%20%20%20%20%5B-8.0795837%2C%20-34.9692891%5D%2C%0A%20%20%20%20%20%20%20%20%20%20%20%20%7B%0A%20%20%20%20%20%20%20%20%20%20%20%20%20%20%20%20icon%3A%20new%20L.Icon.Default%28%29%2C%0A%20%20%20%20%20%20%20%20%20%20%20%20%20%20%20%20%7D%0A%20%20%20%20%20%20%20%20%20%20%20%20%29.addTo%28map_346b10195077415190bd91821c2b35a4%29%3B%0A%20%20%20%20%20%20%20%20%0A%20%20%20%20%0A%0A%20%20%20%20%20%20%20%20%20%20%20%20%20%20%20%20var%20icon_683c6689e856476eb6a569f2deb73ec6%20%3D%20L.AwesomeMarkers.icon%28%7B%0A%20%20%20%20%20%20%20%20%20%20%20%20%20%20%20%20%20%20%20%20icon%3A%20%27info-sign%27%2C%0A%20%20%20%20%20%20%20%20%20%20%20%20%20%20%20%20%20%20%20%20iconColor%3A%20%27white%27%2C%0A%20%20%20%20%20%20%20%20%20%20%20%20%20%20%20%20%20%20%20%20markerColor%3A%20%27blue%27%2C%0A%20%20%20%20%20%20%20%20%20%20%20%20%20%20%20%20%20%20%20%20prefix%3A%20%27glyphicon%27%2C%0A%20%20%20%20%20%20%20%20%20%20%20%20%20%20%20%20%20%20%20%20extraClasses%3A%20%27fa-rotate-0%27%0A%20%20%20%20%20%20%20%20%20%20%20%20%20%20%20%20%20%20%20%20%7D%29%3B%0A%20%20%20%20%20%20%20%20%20%20%20%20%20%20%20%20marker_93c8406d8837467588cfeacf9a7ae65c.setIcon%28icon_683c6689e856476eb6a569f2deb73ec6%29%3B%0A%20%20%20%20%20%20%20%20%20%20%20%20%0A%20%20%20%20%0A%20%20%20%20%20%20%20%20%20%20%20%20var%20popup_d497de1449424db885a3177d30578067%20%3D%20L.popup%28%7BmaxWidth%3A%20%27100%25%27%0A%20%20%20%20%20%20%20%20%20%20%20%20%0A%20%20%20%20%20%20%20%20%20%20%20%20%7D%29%3B%0A%0A%20%20%20%20%20%20%20%20%20%20%20%20%0A%20%20%20%20%20%20%20%20%20%20%20%20%20%20%20%20var%20html_8fa1a0d370e7485d8847e638288b6690%20%3D%20%24%28%60%3Cdiv%20id%3D%22html_8fa1a0d370e7485d8847e638288b6690%22%20style%3D%22width%3A%20100.0%25%3B%20height%3A%20100.0%25%3B%22%3ECoqueiral%3C/div%3E%60%29%5B0%5D%3B%0A%20%20%20%20%20%20%20%20%20%20%20%20%20%20%20%20popup_d497de1449424db885a3177d30578067.setContent%28html_8fa1a0d370e7485d8847e638288b6690%29%3B%0A%20%20%20%20%20%20%20%20%20%20%20%20%0A%0A%20%20%20%20%20%20%20%20%20%20%20%20marker_93c8406d8837467588cfeacf9a7ae65c.bindPopup%28popup_d497de1449424db885a3177d30578067%29%0A%20%20%20%20%20%20%20%20%20%20%20%20%3B%0A%0A%20%20%20%20%20%20%20%20%20%20%20%20%0A%20%20%20%20%20%20%20%20%0A%20%20%20%20%0A%20%20%20%20%20%20%20%20var%20marker_dfc38af5b5654e71b62dbe98ce28fbec%20%3D%20L.marker%28%0A%20%20%20%20%20%20%20%20%20%20%20%20%5B-8.0760256%2C%20-34.950491799999995%5D%2C%0A%20%20%20%20%20%20%20%20%20%20%20%20%7B%0A%20%20%20%20%20%20%20%20%20%20%20%20%20%20%20%20icon%3A%20new%20L.Icon.Default%28%29%2C%0A%20%20%20%20%20%20%20%20%20%20%20%20%20%20%20%20%7D%0A%20%20%20%20%20%20%20%20%20%20%20%20%29.addTo%28map_346b10195077415190bd91821c2b35a4%29%3B%0A%20%20%20%20%20%20%20%20%0A%20%20%20%20%0A%0A%20%20%20%20%20%20%20%20%20%20%20%20%20%20%20%20var%20icon_07a88f2c34c44c81a92d6b2daad81c6b%20%3D%20L.AwesomeMarkers.icon%28%7B%0A%20%20%20%20%20%20%20%20%20%20%20%20%20%20%20%20%20%20%20%20icon%3A%20%27info-sign%27%2C%0A%20%20%20%20%20%20%20%20%20%20%20%20%20%20%20%20%20%20%20%20iconColor%3A%20%27white%27%2C%0A%20%20%20%20%20%20%20%20%20%20%20%20%20%20%20%20%20%20%20%20markerColor%3A%20%27blue%27%2C%0A%20%20%20%20%20%20%20%20%20%20%20%20%20%20%20%20%20%20%20%20prefix%3A%20%27glyphicon%27%2C%0A%20%20%20%20%20%20%20%20%20%20%20%20%20%20%20%20%20%20%20%20extraClasses%3A%20%27fa-rotate-0%27%0A%20%20%20%20%20%20%20%20%20%20%20%20%20%20%20%20%20%20%20%20%7D%29%3B%0A%20%20%20%20%20%20%20%20%20%20%20%20%20%20%20%20marker_dfc38af5b5654e71b62dbe98ce28fbec.setIcon%28icon_07a88f2c34c44c81a92d6b2daad81c6b%29%3B%0A%20%20%20%20%20%20%20%20%20%20%20%20%0A%20%20%20%20%0A%20%20%20%20%20%20%20%20%20%20%20%20var%20popup_20eb06c2ea2a4b15ac4d73783d636dd6%20%3D%20L.popup%28%7BmaxWidth%3A%20%27100%25%27%0A%20%20%20%20%20%20%20%20%20%20%20%20%0A%20%20%20%20%20%20%20%20%20%20%20%20%7D%29%3B%0A%0A%20%20%20%20%20%20%20%20%20%20%20%20%0A%20%20%20%20%20%20%20%20%20%20%20%20%20%20%20%20var%20html_e3446daf1fe84ffb90af5a1f2653cc8a%20%3D%20%24%28%60%3Cdiv%20id%3D%22html_e3446daf1fe84ffb90af5a1f2653cc8a%22%20style%3D%22width%3A%20100.0%25%3B%20height%3A%20100.0%25%3B%22%3ECurado%3C/div%3E%60%29%5B0%5D%3B%0A%20%20%20%20%20%20%20%20%20%20%20%20%20%20%20%20popup_20eb06c2ea2a4b15ac4d73783d636dd6.setContent%28html_e3446daf1fe84ffb90af5a1f2653cc8a%29%3B%0A%20%20%20%20%20%20%20%20%20%20%20%20%0A%0A%20%20%20%20%20%20%20%20%20%20%20%20marker_dfc38af5b5654e71b62dbe98ce28fbec.bindPopup%28popup_20eb06c2ea2a4b15ac4d73783d636dd6%29%0A%20%20%20%20%20%20%20%20%20%20%20%20%3B%0A%0A%20%20%20%20%20%20%20%20%20%20%20%20%0A%20%20%20%20%20%20%20%20%0A%20%20%20%20%0A%20%20%20%20%20%20%20%20var%20marker_4d332d2795614d0cba06cdda971fec0f%20%3D%20L.marker%28%0A%20%20%20%20%20%20%20%20%20%20%20%20%5B-8.10251%2C%20-34.919066%5D%2C%0A%20%20%20%20%20%20%20%20%20%20%20%20%7B%0A%20%20%20%20%20%20%20%20%20%20%20%20%20%20%20%20icon%3A%20new%20L.Icon.Default%28%29%2C%0A%20%20%20%20%20%20%20%20%20%20%20%20%20%20%20%20%7D%0A%20%20%20%20%20%20%20%20%20%20%20%20%29.addTo%28map_346b10195077415190bd91821c2b35a4%29%3B%0A%20%20%20%20%20%20%20%20%0A%20%20%20%20%0A%0A%20%20%20%20%20%20%20%20%20%20%20%20%20%20%20%20var%20icon_f061c07717904dd5981224dacd41ed1c%20%3D%20L.AwesomeMarkers.icon%28%7B%0A%20%20%20%20%20%20%20%20%20%20%20%20%20%20%20%20%20%20%20%20icon%3A%20%27info-sign%27%2C%0A%20%20%20%20%20%20%20%20%20%20%20%20%20%20%20%20%20%20%20%20iconColor%3A%20%27white%27%2C%0A%20%20%20%20%20%20%20%20%20%20%20%20%20%20%20%20%20%20%20%20markerColor%3A%20%27blue%27%2C%0A%20%20%20%20%20%20%20%20%20%20%20%20%20%20%20%20%20%20%20%20prefix%3A%20%27glyphicon%27%2C%0A%20%20%20%20%20%20%20%20%20%20%20%20%20%20%20%20%20%20%20%20extraClasses%3A%20%27fa-rotate-0%27%0A%20%20%20%20%20%20%20%20%20%20%20%20%20%20%20%20%20%20%20%20%7D%29%3B%0A%20%20%20%20%20%20%20%20%20%20%20%20%20%20%20%20marker_4d332d2795614d0cba06cdda971fec0f.setIcon%28icon_f061c07717904dd5981224dacd41ed1c%29%3B%0A%20%20%20%20%20%20%20%20%20%20%20%20%0A%20%20%20%20%0A%20%20%20%20%20%20%20%20%20%20%20%20var%20popup_1c2eae860f6d402baeb8495c1d4ffa0a%20%3D%20L.popup%28%7BmaxWidth%3A%20%27100%25%27%0A%20%20%20%20%20%20%20%20%20%20%20%20%0A%20%20%20%20%20%20%20%20%20%20%20%20%7D%29%3B%0A%0A%20%20%20%20%20%20%20%20%20%20%20%20%0A%20%20%20%20%20%20%20%20%20%20%20%20%20%20%20%20var%20html_81d387117ad14648bbf3e5d0d54a4c76%20%3D%20%24%28%60%3Cdiv%20id%3D%22html_81d387117ad14648bbf3e5d0d54a4c76%22%20style%3D%22width%3A%20100.0%25%3B%20height%3A%20100.0%25%3B%22%3EImbiribeira%3C/div%3E%60%29%5B0%5D%3B%0A%20%20%20%20%20%20%20%20%20%20%20%20%20%20%20%20popup_1c2eae860f6d402baeb8495c1d4ffa0a.setContent%28html_81d387117ad14648bbf3e5d0d54a4c76%29%3B%0A%20%20%20%20%20%20%20%20%20%20%20%20%0A%0A%20%20%20%20%20%20%20%20%20%20%20%20marker_4d332d2795614d0cba06cdda971fec0f.bindPopup%28popup_1c2eae860f6d402baeb8495c1d4ffa0a%29%0A%20%20%20%20%20%20%20%20%20%20%20%20%3B%0A%0A%20%20%20%20%20%20%20%20%20%20%20%20%0A%20%20%20%20%20%20%20%20%0A%20%20%20%20%0A%20%20%20%20%20%20%20%20var%20marker_e121fd511f68497aa060576046b0af9d%20%3D%20L.marker%28%0A%20%20%20%20%20%20%20%20%20%20%20%20%5B-8.116248299999999%2C%20-34.918188799999996%5D%2C%0A%20%20%20%20%20%20%20%20%20%20%20%20%7B%0A%20%20%20%20%20%20%20%20%20%20%20%20%20%20%20%20icon%3A%20new%20L.Icon.Default%28%29%2C%0A%20%20%20%20%20%20%20%20%20%20%20%20%20%20%20%20%7D%0A%20%20%20%20%20%20%20%20%20%20%20%20%29.addTo%28map_346b10195077415190bd91821c2b35a4%29%3B%0A%20%20%20%20%20%20%20%20%0A%20%20%20%20%0A%0A%20%20%20%20%20%20%20%20%20%20%20%20%20%20%20%20var%20icon_ff9858cabd7e4c71a7e302baccdaddc5%20%3D%20L.AwesomeMarkers.icon%28%7B%0A%20%20%20%20%20%20%20%20%20%20%20%20%20%20%20%20%20%20%20%20icon%3A%20%27info-sign%27%2C%0A%20%20%20%20%20%20%20%20%20%20%20%20%20%20%20%20%20%20%20%20iconColor%3A%20%27white%27%2C%0A%20%20%20%20%20%20%20%20%20%20%20%20%20%20%20%20%20%20%20%20markerColor%3A%20%27blue%27%2C%0A%20%20%20%20%20%20%20%20%20%20%20%20%20%20%20%20%20%20%20%20prefix%3A%20%27glyphicon%27%2C%0A%20%20%20%20%20%20%20%20%20%20%20%20%20%20%20%20%20%20%20%20extraClasses%3A%20%27fa-rotate-0%27%0A%20%20%20%20%20%20%20%20%20%20%20%20%20%20%20%20%20%20%20%20%7D%29%3B%0A%20%20%20%20%20%20%20%20%20%20%20%20%20%20%20%20marker_e121fd511f68497aa060576046b0af9d.setIcon%28icon_ff9858cabd7e4c71a7e302baccdaddc5%29%3B%0A%20%20%20%20%20%20%20%20%20%20%20%20%0A%20%20%20%20%0A%20%20%20%20%20%20%20%20%20%20%20%20var%20popup_663e2578583749ab82248a98a53b4746%20%3D%20L.popup%28%7BmaxWidth%3A%20%27100%25%27%0A%20%20%20%20%20%20%20%20%20%20%20%20%0A%20%20%20%20%20%20%20%20%20%20%20%20%7D%29%3B%0A%0A%20%20%20%20%20%20%20%20%20%20%20%20%0A%20%20%20%20%20%20%20%20%20%20%20%20%20%20%20%20var%20html_42505dd5a37d4fb1a483d5a86417a537%20%3D%20%24%28%60%3Cdiv%20id%3D%22html_42505dd5a37d4fb1a483d5a86417a537%22%20style%3D%22width%3A%20100.0%25%3B%20height%3A%20100.0%25%3B%22%3EIpsep%3C/div%3E%60%29%5B0%5D%3B%0A%20%20%20%20%20%20%20%20%20%20%20%20%20%20%20%20popup_663e2578583749ab82248a98a53b4746.setContent%28html_42505dd5a37d4fb1a483d5a86417a537%29%3B%0A%20%20%20%20%20%20%20%20%20%20%20%20%0A%0A%20%20%20%20%20%20%20%20%20%20%20%20marker_e121fd511f68497aa060576046b0af9d.bindPopup%28popup_663e2578583749ab82248a98a53b4746%29%0A%20%20%20%20%20%20%20%20%20%20%20%20%3B%0A%0A%20%20%20%20%20%20%20%20%20%20%20%20%0A%20%20%20%20%20%20%20%20%0A%20%20%20%20%0A%20%20%20%20%20%20%20%20var%20marker_61f8f35fd96a40f0ae72bfedd11084c5%20%3D%20L.marker%28%0A%20%20%20%20%20%20%20%20%20%20%20%20%5B-8.0963593%2C%20-34.9211549%5D%2C%0A%20%20%20%20%20%20%20%20%20%20%20%20%7B%0A%20%20%20%20%20%20%20%20%20%20%20%20%20%20%20%20icon%3A%20new%20L.Icon.Default%28%29%2C%0A%20%20%20%20%20%20%20%20%20%20%20%20%20%20%20%20%7D%0A%20%20%20%20%20%20%20%20%20%20%20%20%29.addTo%28map_346b10195077415190bd91821c2b35a4%29%3B%0A%20%20%20%20%20%20%20%20%0A%20%20%20%20%0A%0A%20%20%20%20%20%20%20%20%20%20%20%20%20%20%20%20var%20icon_cad3614ea69649e392950aa931a07732%20%3D%20L.AwesomeMarkers.icon%28%7B%0A%20%20%20%20%20%20%20%20%20%20%20%20%20%20%20%20%20%20%20%20icon%3A%20%27info-sign%27%2C%0A%20%20%20%20%20%20%20%20%20%20%20%20%20%20%20%20%20%20%20%20iconColor%3A%20%27white%27%2C%0A%20%20%20%20%20%20%20%20%20%20%20%20%20%20%20%20%20%20%20%20markerColor%3A%20%27blue%27%2C%0A%20%20%20%20%20%20%20%20%20%20%20%20%20%20%20%20%20%20%20%20prefix%3A%20%27glyphicon%27%2C%0A%20%20%20%20%20%20%20%20%20%20%20%20%20%20%20%20%20%20%20%20extraClasses%3A%20%27fa-rotate-0%27%0A%20%20%20%20%20%20%20%20%20%20%20%20%20%20%20%20%20%20%20%20%7D%29%3B%0A%20%20%20%20%20%20%20%20%20%20%20%20%20%20%20%20marker_61f8f35fd96a40f0ae72bfedd11084c5.setIcon%28icon_cad3614ea69649e392950aa931a07732%29%3B%0A%20%20%20%20%20%20%20%20%20%20%20%20%0A%20%20%20%20%0A%20%20%20%20%20%20%20%20%20%20%20%20var%20popup_fcb80397fad149b68605e11118491dda%20%3D%20L.popup%28%7BmaxWidth%3A%20%27100%25%27%0A%20%20%20%20%20%20%20%20%20%20%20%20%0A%20%20%20%20%20%20%20%20%20%20%20%20%7D%29%3B%0A%0A%20%20%20%20%20%20%20%20%20%20%20%20%0A%20%20%20%20%20%20%20%20%20%20%20%20%20%20%20%20var%20html_a80cdfc29c5e443988c780d7252978ab%20%3D%20%24%28%60%3Cdiv%20id%3D%22html_a80cdfc29c5e443988c780d7252978ab%22%20style%3D%22width%3A%20100.0%25%3B%20height%3A%20100.0%25%3B%22%3EAreias%3C/div%3E%60%29%5B0%5D%3B%0A%20%20%20%20%20%20%20%20%20%20%20%20%20%20%20%20popup_fcb80397fad149b68605e11118491dda.setContent%28html_a80cdfc29c5e443988c780d7252978ab%29%3B%0A%20%20%20%20%20%20%20%20%20%20%20%20%0A%0A%20%20%20%20%20%20%20%20%20%20%20%20marker_61f8f35fd96a40f0ae72bfedd11084c5.bindPopup%28popup_fcb80397fad149b68605e11118491dda%29%0A%20%20%20%20%20%20%20%20%20%20%20%20%3B%0A%0A%20%20%20%20%20%20%20%20%20%20%20%20%0A%20%20%20%20%20%20%20%20%0A%3C/script%3E onload=\"this.contentDocument.open();this.contentDocument.write(    decodeURIComponent(this.getAttribute('data-html')));this.contentDocument.close();\" allowfullscreen webkitallowfullscreen mozallowfullscreen></iframe></div></div>"
            ],
            "text/plain": [
              "<folium.folium.Map at 0x7f88bbc9f250>"
            ]
          },
          "metadata": {},
          "execution_count": 19
        }
      ]
    },
    {
      "cell_type": "code",
      "metadata": {
        "colab": {
          "base_uri": "https://localhost:8080/",
          "height": 542
        },
        "id": "jdOIluFsFfwr",
        "outputId": "d2e5e46a-d8b0-4fe0-f30d-cf1a28c8a489"
      },
      "source": [
        "# plotando gráfico\n",
        "coluna = \"bairro\"\n",
        "grafico = px.bar(data_frame=df_campos, y=coluna,  orientation='h', barmode='group')\n",
        "grafico.show()"
      ],
      "execution_count": 20,
      "outputs": [
        {
          "output_type": "display_data",
          "data": {
            "text/html": [
              "<html>\n",
              "<head><meta charset=\"utf-8\" /></head>\n",
              "<body>\n",
              "    <div>\n",
              "            <script src=\"https://cdnjs.cloudflare.com/ajax/libs/mathjax/2.7.5/MathJax.js?config=TeX-AMS-MML_SVG\"></script><script type=\"text/javascript\">if (window.MathJax) {MathJax.Hub.Config({SVG: {font: \"STIX-Web\"}});}</script>\n",
              "                <script type=\"text/javascript\">window.PlotlyConfig = {MathJaxConfig: 'local'};</script>\n",
              "        <script src=\"https://cdn.plot.ly/plotly-latest.min.js\"></script>    \n",
              "            <div id=\"0c74ab48-95ad-4ed6-bcbf-c049aff3ba49\" class=\"plotly-graph-div\" style=\"height:525px; width:100%;\"></div>\n",
              "            <script type=\"text/javascript\">\n",
              "                \n",
              "                    window.PLOTLYENV=window.PLOTLYENV || {};\n",
              "                    \n",
              "                if (document.getElementById(\"0c74ab48-95ad-4ed6-bcbf-c049aff3ba49\")) {\n",
              "                    Plotly.newPlot(\n",
              "                        '0c74ab48-95ad-4ed6-bcbf-c049aff3ba49',\n",
              "                        [{\"alignmentgroup\": \"True\", \"hoverlabel\": {\"namelength\": 0}, \"hovertemplate\": \"bairro=%{y}\", \"legendgroup\": \"\", \"marker\": {\"color\": \"#636efa\"}, \"name\": \"\", \"offsetgroup\": \"\", \"orientation\": \"h\", \"showlegend\": false, \"textposition\": \"auto\", \"type\": \"bar\", \"xaxis\": \"x\", \"y\": [\"Santo Amaro\", \"Coque\", \"Torre\", \"Coque\", \"Dois Unidos\", \"Macaxeira\", \"Campina do Barreto\", \"Brejo da Guabiraba\", \"Dois Unidos\", \"Afogados\", \"Mustardinha\", \"Jiqui\\u00e1\", \"Jiqui\\u00e1\", \"V\\u00e1rzea\", \"V\\u00e1rzea\", \"Cordeiro\", \"Torr\\u00e4es\", \"Coqueiral\", \"Curado\", \"Imbiribeira\", \"Ipsep\", \"Areias\"], \"yaxis\": \"y\"}],\n",
              "                        {\"barmode\": \"group\", \"legend\": {\"tracegroupgap\": 0}, \"margin\": {\"t\": 60}, \"template\": {\"data\": {\"bar\": [{\"error_x\": {\"color\": \"#2a3f5f\"}, \"error_y\": {\"color\": \"#2a3f5f\"}, \"marker\": {\"line\": {\"color\": \"#E5ECF6\", \"width\": 0.5}}, \"type\": \"bar\"}], \"barpolar\": [{\"marker\": {\"line\": {\"color\": \"#E5ECF6\", \"width\": 0.5}}, \"type\": \"barpolar\"}], \"carpet\": [{\"aaxis\": {\"endlinecolor\": \"#2a3f5f\", \"gridcolor\": \"white\", \"linecolor\": \"white\", \"minorgridcolor\": \"white\", \"startlinecolor\": \"#2a3f5f\"}, \"baxis\": {\"endlinecolor\": \"#2a3f5f\", \"gridcolor\": \"white\", \"linecolor\": \"white\", \"minorgridcolor\": \"white\", \"startlinecolor\": \"#2a3f5f\"}, \"type\": \"carpet\"}], \"choropleth\": [{\"colorbar\": {\"outlinewidth\": 0, \"ticks\": \"\"}, \"type\": \"choropleth\"}], \"contour\": [{\"colorbar\": {\"outlinewidth\": 0, \"ticks\": \"\"}, \"colorscale\": [[0.0, \"#0d0887\"], [0.1111111111111111, \"#46039f\"], [0.2222222222222222, \"#7201a8\"], [0.3333333333333333, \"#9c179e\"], [0.4444444444444444, \"#bd3786\"], [0.5555555555555556, \"#d8576b\"], [0.6666666666666666, \"#ed7953\"], [0.7777777777777778, \"#fb9f3a\"], [0.8888888888888888, \"#fdca26\"], [1.0, \"#f0f921\"]], \"type\": \"contour\"}], \"contourcarpet\": [{\"colorbar\": {\"outlinewidth\": 0, \"ticks\": \"\"}, \"type\": \"contourcarpet\"}], \"heatmap\": [{\"colorbar\": {\"outlinewidth\": 0, \"ticks\": \"\"}, \"colorscale\": [[0.0, \"#0d0887\"], [0.1111111111111111, \"#46039f\"], [0.2222222222222222, \"#7201a8\"], [0.3333333333333333, \"#9c179e\"], [0.4444444444444444, \"#bd3786\"], [0.5555555555555556, \"#d8576b\"], [0.6666666666666666, \"#ed7953\"], [0.7777777777777778, \"#fb9f3a\"], [0.8888888888888888, \"#fdca26\"], [1.0, \"#f0f921\"]], \"type\": \"heatmap\"}], \"heatmapgl\": [{\"colorbar\": {\"outlinewidth\": 0, \"ticks\": \"\"}, \"colorscale\": [[0.0, \"#0d0887\"], [0.1111111111111111, \"#46039f\"], [0.2222222222222222, \"#7201a8\"], [0.3333333333333333, \"#9c179e\"], [0.4444444444444444, \"#bd3786\"], [0.5555555555555556, \"#d8576b\"], [0.6666666666666666, \"#ed7953\"], [0.7777777777777778, \"#fb9f3a\"], [0.8888888888888888, \"#fdca26\"], [1.0, \"#f0f921\"]], \"type\": \"heatmapgl\"}], \"histogram\": [{\"marker\": {\"colorbar\": {\"outlinewidth\": 0, \"ticks\": \"\"}}, \"type\": \"histogram\"}], \"histogram2d\": [{\"colorbar\": {\"outlinewidth\": 0, \"ticks\": \"\"}, \"colorscale\": [[0.0, \"#0d0887\"], [0.1111111111111111, \"#46039f\"], [0.2222222222222222, \"#7201a8\"], [0.3333333333333333, \"#9c179e\"], [0.4444444444444444, \"#bd3786\"], [0.5555555555555556, \"#d8576b\"], [0.6666666666666666, \"#ed7953\"], [0.7777777777777778, \"#fb9f3a\"], [0.8888888888888888, \"#fdca26\"], [1.0, \"#f0f921\"]], \"type\": \"histogram2d\"}], \"histogram2dcontour\": [{\"colorbar\": {\"outlinewidth\": 0, \"ticks\": \"\"}, \"colorscale\": [[0.0, \"#0d0887\"], [0.1111111111111111, \"#46039f\"], [0.2222222222222222, \"#7201a8\"], [0.3333333333333333, \"#9c179e\"], [0.4444444444444444, \"#bd3786\"], [0.5555555555555556, \"#d8576b\"], [0.6666666666666666, \"#ed7953\"], [0.7777777777777778, \"#fb9f3a\"], [0.8888888888888888, \"#fdca26\"], [1.0, \"#f0f921\"]], \"type\": \"histogram2dcontour\"}], \"mesh3d\": [{\"colorbar\": {\"outlinewidth\": 0, \"ticks\": \"\"}, \"type\": \"mesh3d\"}], \"parcoords\": [{\"line\": {\"colorbar\": {\"outlinewidth\": 0, \"ticks\": \"\"}}, \"type\": \"parcoords\"}], \"pie\": [{\"automargin\": true, \"type\": \"pie\"}], \"scatter\": [{\"marker\": {\"colorbar\": {\"outlinewidth\": 0, \"ticks\": \"\"}}, \"type\": \"scatter\"}], \"scatter3d\": [{\"line\": {\"colorbar\": {\"outlinewidth\": 0, \"ticks\": \"\"}}, \"marker\": {\"colorbar\": {\"outlinewidth\": 0, \"ticks\": \"\"}}, \"type\": \"scatter3d\"}], \"scattercarpet\": [{\"marker\": {\"colorbar\": {\"outlinewidth\": 0, \"ticks\": \"\"}}, \"type\": \"scattercarpet\"}], \"scattergeo\": [{\"marker\": {\"colorbar\": {\"outlinewidth\": 0, \"ticks\": \"\"}}, \"type\": \"scattergeo\"}], \"scattergl\": [{\"marker\": {\"colorbar\": {\"outlinewidth\": 0, \"ticks\": \"\"}}, \"type\": \"scattergl\"}], \"scattermapbox\": [{\"marker\": {\"colorbar\": {\"outlinewidth\": 0, \"ticks\": \"\"}}, \"type\": \"scattermapbox\"}], \"scatterpolar\": [{\"marker\": {\"colorbar\": {\"outlinewidth\": 0, \"ticks\": \"\"}}, \"type\": \"scatterpolar\"}], \"scatterpolargl\": [{\"marker\": {\"colorbar\": {\"outlinewidth\": 0, \"ticks\": \"\"}}, \"type\": \"scatterpolargl\"}], \"scatterternary\": [{\"marker\": {\"colorbar\": {\"outlinewidth\": 0, \"ticks\": \"\"}}, \"type\": \"scatterternary\"}], \"surface\": [{\"colorbar\": {\"outlinewidth\": 0, \"ticks\": \"\"}, \"colorscale\": [[0.0, \"#0d0887\"], [0.1111111111111111, \"#46039f\"], [0.2222222222222222, \"#7201a8\"], [0.3333333333333333, \"#9c179e\"], [0.4444444444444444, \"#bd3786\"], [0.5555555555555556, \"#d8576b\"], [0.6666666666666666, \"#ed7953\"], [0.7777777777777778, \"#fb9f3a\"], [0.8888888888888888, \"#fdca26\"], [1.0, \"#f0f921\"]], \"type\": \"surface\"}], \"table\": [{\"cells\": {\"fill\": {\"color\": \"#EBF0F8\"}, \"line\": {\"color\": \"white\"}}, \"header\": {\"fill\": {\"color\": \"#C8D4E3\"}, \"line\": {\"color\": \"white\"}}, \"type\": \"table\"}]}, \"layout\": {\"annotationdefaults\": {\"arrowcolor\": \"#2a3f5f\", \"arrowhead\": 0, \"arrowwidth\": 1}, \"coloraxis\": {\"colorbar\": {\"outlinewidth\": 0, \"ticks\": \"\"}}, \"colorscale\": {\"diverging\": [[0, \"#8e0152\"], [0.1, \"#c51b7d\"], [0.2, \"#de77ae\"], [0.3, \"#f1b6da\"], [0.4, \"#fde0ef\"], [0.5, \"#f7f7f7\"], [0.6, \"#e6f5d0\"], [0.7, \"#b8e186\"], [0.8, \"#7fbc41\"], [0.9, \"#4d9221\"], [1, \"#276419\"]], \"sequential\": [[0.0, \"#0d0887\"], [0.1111111111111111, \"#46039f\"], [0.2222222222222222, \"#7201a8\"], [0.3333333333333333, \"#9c179e\"], [0.4444444444444444, \"#bd3786\"], [0.5555555555555556, \"#d8576b\"], [0.6666666666666666, \"#ed7953\"], [0.7777777777777778, \"#fb9f3a\"], [0.8888888888888888, \"#fdca26\"], [1.0, \"#f0f921\"]], \"sequentialminus\": [[0.0, \"#0d0887\"], [0.1111111111111111, \"#46039f\"], [0.2222222222222222, \"#7201a8\"], [0.3333333333333333, \"#9c179e\"], [0.4444444444444444, \"#bd3786\"], [0.5555555555555556, \"#d8576b\"], [0.6666666666666666, \"#ed7953\"], [0.7777777777777778, \"#fb9f3a\"], [0.8888888888888888, \"#fdca26\"], [1.0, \"#f0f921\"]]}, \"colorway\": [\"#636efa\", \"#EF553B\", \"#00cc96\", \"#ab63fa\", \"#FFA15A\", \"#19d3f3\", \"#FF6692\", \"#B6E880\", \"#FF97FF\", \"#FECB52\"], \"font\": {\"color\": \"#2a3f5f\"}, \"geo\": {\"bgcolor\": \"white\", \"lakecolor\": \"white\", \"landcolor\": \"#E5ECF6\", \"showlakes\": true, \"showland\": true, \"subunitcolor\": \"white\"}, \"hoverlabel\": {\"align\": \"left\"}, \"hovermode\": \"closest\", \"mapbox\": {\"style\": \"light\"}, \"paper_bgcolor\": \"white\", \"plot_bgcolor\": \"#E5ECF6\", \"polar\": {\"angularaxis\": {\"gridcolor\": \"white\", \"linecolor\": \"white\", \"ticks\": \"\"}, \"bgcolor\": \"#E5ECF6\", \"radialaxis\": {\"gridcolor\": \"white\", \"linecolor\": \"white\", \"ticks\": \"\"}}, \"scene\": {\"xaxis\": {\"backgroundcolor\": \"#E5ECF6\", \"gridcolor\": \"white\", \"gridwidth\": 2, \"linecolor\": \"white\", \"showbackground\": true, \"ticks\": \"\", \"zerolinecolor\": \"white\"}, \"yaxis\": {\"backgroundcolor\": \"#E5ECF6\", \"gridcolor\": \"white\", \"gridwidth\": 2, \"linecolor\": \"white\", \"showbackground\": true, \"ticks\": \"\", \"zerolinecolor\": \"white\"}, \"zaxis\": {\"backgroundcolor\": \"#E5ECF6\", \"gridcolor\": \"white\", \"gridwidth\": 2, \"linecolor\": \"white\", \"showbackground\": true, \"ticks\": \"\", \"zerolinecolor\": \"white\"}}, \"shapedefaults\": {\"line\": {\"color\": \"#2a3f5f\"}}, \"ternary\": {\"aaxis\": {\"gridcolor\": \"white\", \"linecolor\": \"white\", \"ticks\": \"\"}, \"baxis\": {\"gridcolor\": \"white\", \"linecolor\": \"white\", \"ticks\": \"\"}, \"bgcolor\": \"#E5ECF6\", \"caxis\": {\"gridcolor\": \"white\", \"linecolor\": \"white\", \"ticks\": \"\"}}, \"title\": {\"x\": 0.05}, \"xaxis\": {\"automargin\": true, \"gridcolor\": \"white\", \"linecolor\": \"white\", \"ticks\": \"\", \"title\": {\"standoff\": 15}, \"zerolinecolor\": \"white\", \"zerolinewidth\": 2}, \"yaxis\": {\"automargin\": true, \"gridcolor\": \"white\", \"linecolor\": \"white\", \"ticks\": \"\", \"title\": {\"standoff\": 15}, \"zerolinecolor\": \"white\", \"zerolinewidth\": 2}}}, \"xaxis\": {\"anchor\": \"y\", \"domain\": [0.0, 1.0]}, \"yaxis\": {\"anchor\": \"x\", \"domain\": [0.0, 1.0], \"title\": {\"text\": \"bairro\"}}},\n",
              "                        {\"responsive\": true}\n",
              "                    ).then(function(){\n",
              "                            \n",
              "var gd = document.getElementById('0c74ab48-95ad-4ed6-bcbf-c049aff3ba49');\n",
              "var x = new MutationObserver(function (mutations, observer) {{\n",
              "        var display = window.getComputedStyle(gd).display;\n",
              "        if (!display || display === 'none') {{\n",
              "            console.log([gd, 'removed!']);\n",
              "            Plotly.purge(gd);\n",
              "            observer.disconnect();\n",
              "        }}\n",
              "}});\n",
              "\n",
              "// Listen for the removal of the full notebook cells\n",
              "var notebookContainer = gd.closest('#notebook-container');\n",
              "if (notebookContainer) {{\n",
              "    x.observe(notebookContainer, {childList: true});\n",
              "}}\n",
              "\n",
              "// Listen for the clearing of the current output cell\n",
              "var outputEl = gd.closest('.output');\n",
              "if (outputEl) {{\n",
              "    x.observe(outputEl, {childList: true});\n",
              "}}\n",
              "\n",
              "                        })\n",
              "                };\n",
              "                \n",
              "            </script>\n",
              "        </div>\n",
              "</body>\n",
              "</html>"
            ]
          },
          "metadata": {}
        }
      ]
    },
    {
      "cell_type": "markdown",
      "metadata": {
        "id": "BjqxuzRID1gH"
      },
      "source": [
        "**Dataset: Jogadores**"
      ]
    },
    {
      "cell_type": "code",
      "metadata": {
        "id": "DMcJgl_4TSUh",
        "colab": {
          "base_uri": "https://localhost:8080/",
          "height": 206
        },
        "outputId": "24247f2f-1303-418e-f91f-d782eb644f9b"
      },
      "source": [
        "# dataset jogadores\n",
        "df_jogadores.head()"
      ],
      "execution_count": 21,
      "outputs": [
        {
          "output_type": "execute_result",
          "data": {
            "text/html": [
              "<div>\n",
              "<style scoped>\n",
              "    .dataframe tbody tr th:only-of-type {\n",
              "        vertical-align: middle;\n",
              "    }\n",
              "\n",
              "    .dataframe tbody tr th {\n",
              "        vertical-align: top;\n",
              "    }\n",
              "\n",
              "    .dataframe thead th {\n",
              "        text-align: right;\n",
              "    }\n",
              "</style>\n",
              "<table border=\"1\" class=\"dataframe\">\n",
              "  <thead>\n",
              "    <tr style=\"text-align: right;\">\n",
              "      <th></th>\n",
              "      <th>RPA_EQUIPE</th>\n",
              "      <th>MODALIDADE_EQUIPE</th>\n",
              "      <th>NOME_EQUIPE</th>\n",
              "      <th>NOME_JOGADOR</th>\n",
              "      <th>NUMERO_JOGADOR</th>\n",
              "      <th>BAIRRO_JOGADOR</th>\n",
              "      <th>CIDADE_JOGADOR</th>\n",
              "      <th>DTNASCIMENTO_JOGADOR</th>\n",
              "    </tr>\n",
              "  </thead>\n",
              "  <tbody>\n",
              "    <tr>\n",
              "      <th>0</th>\n",
              "      <td>4</td>\n",
              "      <td>Sub 15</td>\n",
              "      <td>Projeto Show De Bola</td>\n",
              "      <td>DEYVISON</td>\n",
              "      <td>3</td>\n",
              "      <td>DOIS IRMAOS</td>\n",
              "      <td>SAO LOURENCO DA MATA PE</td>\n",
              "      <td>1999-03-26</td>\n",
              "    </tr>\n",
              "    <tr>\n",
              "      <th>1</th>\n",
              "      <td>4</td>\n",
              "      <td>Sub 15</td>\n",
              "      <td>Projeto Show De Bola</td>\n",
              "      <td>DENYSON</td>\n",
              "      <td>3</td>\n",
              "      <td>DOIS IRMAOS</td>\n",
              "      <td>CAMARAGIBE</td>\n",
              "      <td>1999-01-10</td>\n",
              "    </tr>\n",
              "    <tr>\n",
              "      <th>2</th>\n",
              "      <td>4</td>\n",
              "      <td>Sub 15</td>\n",
              "      <td>Projeto Show De Bola</td>\n",
              "      <td>ALESANDRO</td>\n",
              "      <td>4</td>\n",
              "      <td>DOIS IRMAOS</td>\n",
              "      <td>CAMARAGIBE</td>\n",
              "      <td>1999-03-22</td>\n",
              "    </tr>\n",
              "    <tr>\n",
              "      <th>3</th>\n",
              "      <td>4</td>\n",
              "      <td>Sub 15</td>\n",
              "      <td>Projeto Show De Bola</td>\n",
              "      <td>MARCOS</td>\n",
              "      <td>5</td>\n",
              "      <td>DOIS IRMAOS</td>\n",
              "      <td>RECIFE PE</td>\n",
              "      <td>1999-03-16</td>\n",
              "    </tr>\n",
              "    <tr>\n",
              "      <th>4</th>\n",
              "      <td>4</td>\n",
              "      <td>Sub 15</td>\n",
              "      <td>Projeto Show De Bola</td>\n",
              "      <td>VITOR</td>\n",
              "      <td>6</td>\n",
              "      <td>DOIS IRMAOS</td>\n",
              "      <td>SAO LOURENCO DA MATA PE</td>\n",
              "      <td>2000-08-28</td>\n",
              "    </tr>\n",
              "  </tbody>\n",
              "</table>\n",
              "</div>"
            ],
            "text/plain": [
              "   RPA_EQUIPE MODALIDADE_EQUIPE  ...           CIDADE_JOGADOR DTNASCIMENTO_JOGADOR\n",
              "0           4            Sub 15  ...  SAO LOURENCO DA MATA PE           1999-03-26\n",
              "1           4            Sub 15  ...               CAMARAGIBE           1999-01-10\n",
              "2           4            Sub 15  ...               CAMARAGIBE           1999-03-22\n",
              "3           4            Sub 15  ...                RECIFE PE           1999-03-16\n",
              "4           4            Sub 15  ...  SAO LOURENCO DA MATA PE           2000-08-28\n",
              "\n",
              "[5 rows x 8 columns]"
            ]
          },
          "metadata": {},
          "execution_count": 21
        }
      ]
    },
    {
      "cell_type": "code",
      "metadata": {
        "colab": {
          "base_uri": "https://localhost:8080/",
          "height": 542
        },
        "id": "H1odBik3hn22",
        "outputId": "118a4d97-27ea-48d7-c90e-393fd7f10da7"
      },
      "source": [
        "# por faixa de idade\n",
        "px.histogram(data_frame=df_jogadores,  x='DTNASCIMENTO_JOGADOR')"
      ],
      "execution_count": 23,
      "outputs": [
        {
          "output_type": "display_data",
          "data": {
            "text/html": [
              "<html>\n",
              "<head><meta charset=\"utf-8\" /></head>\n",
              "<body>\n",
              "    <div>\n",
              "            <script src=\"https://cdnjs.cloudflare.com/ajax/libs/mathjax/2.7.5/MathJax.js?config=TeX-AMS-MML_SVG\"></script><script type=\"text/javascript\">if (window.MathJax) {MathJax.Hub.Config({SVG: {font: \"STIX-Web\"}});}</script>\n",
              "                <script type=\"text/javascript\">window.PlotlyConfig = {MathJaxConfig: 'local'};</script>\n",
              "        <script src=\"https://cdn.plot.ly/plotly-latest.min.js\"></script>    \n",
              "            <div id=\"83f70914-654b-4e06-9d41-75648dc415b7\" class=\"plotly-graph-div\" style=\"height:525px; width:100%;\"></div>\n",
              "            <script type=\"text/javascript\">\n",
              "                \n",
              "                    window.PLOTLYENV=window.PLOTLYENV || {};\n",
              "                    \n",
              "                if (document.getElementById(\"83f70914-654b-4e06-9d41-75648dc415b7\")) {\n",
              "                    Plotly.newPlot(\n",
              "                        '83f70914-654b-4e06-9d41-75648dc415b7',\n",
              "                        [{\"alignmentgroup\": \"True\", \"bingroup\": \"x\", \"hoverlabel\": {\"namelength\": 0}, \"hovertemplate\": \"DTNASCIMENTO_JOGADOR=%{x}<br>count=%{y}\", \"legendgroup\": \"\", \"marker\": {\"color\": \"#636efa\"}, \"name\": \"\", \"offsetgroup\": \"\", \"orientation\": \"v\", \"showlegend\": false, \"type\": \"histogram\", \"x\": [\"1999-03-26T00:00:00\", \"1999-01-10T00:00:00\", \"1999-03-22T00:00:00\", \"1999-03-16T00:00:00\", \"2000-08-28T00:00:00\", \"1999-02-09T00:00:00\", \"1999-01-21T00:00:00\", \"1998-04-15T00:00:00\", \"2000-03-08T00:00:00\", \"1997-07-05T00:00:00\", \"2001-01-11T00:00:00\", \"1998-06-05T00:00:00\", \"1998-04-14T00:00:00\", \"1999-12-17T00:00:00\", \"1997-01-14T00:00:00\", \"1998-05-11T00:00:00\", \"1997-01-11T00:00:00\", \"1999-06-17T00:00:00\", \"1997-06-10T00:00:00\", \"1998-06-01T00:00:00\", \"1998-06-05T00:00:00\", \"1998-04-28T00:00:00\", \"1998-05-04T00:00:00\", \"1998-06-25T00:00:00\", \"1998-04-19T00:00:00\", \"1998-04-24T00:00:00\", \"2000-02-04T00:00:00\", \"1997-05-04T00:00:00\", \"1999-01-21T00:00:00\", \"1999-04-20T00:00:00\", \"1997-08-30T00:00:00\", \"1999-03-16T00:00:00\", \"1999-03-26T00:00:00\", \"1999-05-04T00:00:00\", \"1999-10-20T00:00:00\", \"1999-11-30T00:00:00\", \"1999-11-27T00:00:00\", \"2000-01-25T00:00:00\", \"1999-10-04T00:00:00\", \"1999-04-06T00:00:00\", \"2000-02-17T00:00:00\", \"2000-08-09T00:00:00\", \"1992-02-03T00:00:00\", \"1995-12-10T00:00:00\", \"1994-01-27T00:00:00\", \"1999-10-28T00:00:00\", \"1999-01-16T00:00:00\", \"1986-08-20T00:00:00\", \"1992-11-15T00:00:00\", \"1995-06-27T00:00:00\", \"2001-05-17T00:00:00\", \"1993-05-11T00:00:00\", \"1991-02-12T00:00:00\", \"1996-09-25T00:00:00\", \"1993-07-08T00:00:00\", \"2000-07-13T00:00:00\", \"1999-07-11T00:00:00\", \"1999-05-25T00:00:00\", \"1999-09-15T00:00:00\", \"2001-02-10T00:00:00\", \"1993-06-29T00:00:00\", \"1993-03-06T00:00:00\", \"1992-12-18T00:00:00\", \"1992-02-21T00:00:00\", \"1994-08-04T00:00:00\", \"1993-10-29T00:00:00\", \"1994-01-27T00:00:00\", \"1992-03-20T00:00:00\", \"1999-04-19T00:00:00\", \"1999-12-07T00:00:00\", \"1999-06-02T00:00:00\", \"1999-02-25T00:00:00\", \"1999-09-24T00:00:00\", \"1999-06-03T00:00:00\", \"1999-03-11T00:00:00\", \"1997-03-18T00:00:00\", \"1998-07-16T00:00:00\", \"1998-10-10T00:00:00\", \"1998-06-21T00:00:00\", \"1997-07-11T00:00:00\", \"1997-08-05T00:00:00\", \"1998-06-20T00:00:00\", \"1998-08-19T00:00:00\", \"1998-09-05T00:00:00\", \"1997-04-11T00:00:00\", \"1998-01-14T00:00:00\", \"1998-01-03T00:00:00\", \"1998-01-03T00:00:00\", \"1999-12-12T00:00:00\", \"1996-03-11T00:00:00\", \"1994-06-15T00:00:00\", \"1995-05-19T00:00:00\", \"1988-11-12T00:00:00\", \"1988-12-09T00:00:00\", \"1991-04-22T00:00:00\", \"1992-04-07T00:00:00\", \"1997-03-08T00:00:00\", \"1997-07-14T00:00:00\", \"1995-11-13T00:00:00\", \"1998-04-23T00:00:00\", \"1997-06-14T00:00:00\", \"1991-09-08T00:00:00\", \"1995-03-18T00:00:00\", \"1994-06-11T00:00:00\", \"1996-08-31T00:00:00\", \"1994-03-06T00:00:00\", \"1992-07-03T00:00:00\", \"1985-05-28T00:00:00\", \"1988-11-04T00:00:00\", \"1987-10-27T00:00:00\", \"1988-10-24T00:00:00\", \"1985-02-23T00:00:00\", \"1988-08-29T00:00:00\", \"1989-04-08T00:00:00\", \"1994-06-14T00:00:00\", \"1986-11-02T00:00:00\", \"1987-12-12T00:00:00\", \"1983-06-14T00:00:00\", \"1993-03-03T00:00:00\", \"1983-08-01T00:00:00\", \"1991-05-06T00:00:00\", \"1997-07-14T00:00:00\", \"1992-02-26T00:00:00\", \"1998-01-02T00:00:00\", \"1999-01-11T00:00:00\", \"1996-03-10T00:00:00\", \"1997-07-04T00:00:00\", \"1989-06-11T00:00:00\", \"1989-06-24T00:00:00\", \"1995-06-27T00:00:00\", \"1995-04-01T00:00:00\", \"1991-09-02T00:00:00\", \"1989-01-14T00:00:00\", \"1999-04-22T00:00:00\", \"1999-01-14T00:00:00\", \"1991-08-25T00:00:00\", \"2000-02-24T00:00:00\", \"1983-01-20T00:00:00\", \"1991-01-16T00:00:00\", \"1993-06-17T00:00:00\", \"1996-05-18T00:00:00\", \"2000-03-25T00:00:00\", \"1999-02-01T00:00:00\", \"1999-08-21T00:00:00\", \"1999-02-23T00:00:00\", \"1999-06-14T00:00:00\", \"1999-07-18T00:00:00\", \"1999-03-01T00:00:00\", \"1999-08-31T00:00:00\", \"1981-09-28T00:00:00\", \"1999-08-31T00:00:00\", \"1999-05-12T00:00:00\", \"1999-01-20T00:00:00\", \"1997-10-28T00:00:00\", \"1999-01-10T00:00:00\", \"1999-01-20T00:00:00\", \"1985-07-12T00:00:00\", \"1995-11-24T00:00:00\", \"1997-01-21T00:00:00\", \"1997-02-07T00:00:00\", \"1998-01-06T00:00:00\", \"1998-05-12T00:00:00\", \"1989-10-20T00:00:00\", \"1998-05-04T00:00:00\", \"1995-01-11T00:00:00\", \"1991-06-13T00:00:00\", \"1992-03-21T00:00:00\", \"1991-01-12T00:00:00\", \"1998-08-18T00:00:00\", \"1991-04-13T00:00:00\", \"1982-04-29T00:00:00\", \"1998-02-19T00:00:00\", \"2000-07-27T00:00:00\", \"1998-04-15T00:00:00\", \"1999-03-20T00:00:00\", \"1999-04-13T00:00:00\", \"1998-02-09T00:00:00\", \"1999-07-16T00:00:00\", \"1986-12-18T00:00:00\", \"2000-05-31T00:00:00\", \"1997-05-10T00:00:00\", \"1998-03-23T00:00:00\", \"1998-03-23T00:00:00\", \"1997-02-11T00:00:00\", \"1998-03-31T00:00:00\", \"1998-09-12T00:00:00\", \"2000-08-13T00:00:00\", \"1999-09-14T00:00:00\", \"2001-11-17T00:00:00\", \"2001-04-23T00:00:00\", \"2001-04-04T00:00:00\", \"2001-11-06T00:00:00\", \"2001-09-10T00:00:00\", \"1999-03-16T00:00:00\", \"1997-09-09T00:00:00\", \"2000-05-20T00:00:00\", \"2001-06-04T00:00:00\", \"1997-02-07T00:00:00\", \"1997-09-13T00:00:00\", \"1997-01-28T00:00:00\", \"1999-01-23T00:00:00\", \"1999-01-16T00:00:00\", \"1997-01-01T00:00:00\", \"1999-08-17T00:00:00\", \"1998-05-09T00:00:00\", \"2000-04-11T00:00:00\", \"1999-05-01T00:00:00\", \"2000-09-05T00:00:00\", \"2000-12-05T00:00:00\", \"1999-02-16T00:00:00\", \"1992-07-28T00:00:00\", \"1995-11-14T00:00:00\", \"2000-09-09T00:00:00\", \"1997-12-03T00:00:00\", \"1998-05-28T00:00:00\", \"1996-07-26T00:00:00\", \"1994-06-11T00:00:00\", \"1995-08-05T00:00:00\", \"1994-09-18T00:00:00\", \"1993-03-08T00:00:00\", \"1995-03-27T00:00:00\", \"1999-02-22T00:00:00\", \"1989-01-10T00:00:00\", \"1996-03-28T00:00:00\", \"1992-04-10T00:00:00\", \"1992-09-03T00:00:00\", \"1992-02-11T00:00:00\", \"1990-02-19T00:00:00\", \"1995-08-09T00:00:00\", \"1991-05-21T00:00:00\", \"1997-02-16T00:00:00\", \"1997-05-26T00:00:00\", \"1997-12-02T00:00:00\", \"1997-12-27T00:00:00\", \"1997-04-18T00:00:00\", \"1990-02-05T00:00:00\", \"1997-07-04T00:00:00\", \"1994-05-13T00:00:00\", \"1996-03-30T00:00:00\", \"1996-05-22T00:00:00\", \"1996-03-12T00:00:00\", \"1996-04-15T00:00:00\", \"1997-12-30T00:00:00\", \"1997-03-04T00:00:00\", \"1997-07-10T00:00:00\", \"1997-11-04T00:00:00\", \"1993-07-03T00:00:00\", \"1985-04-19T00:00:00\", \"1999-08-18T00:00:00\", \"1995-06-28T00:00:00\", \"1999-05-05T00:00:00\", \"1991-03-31T00:00:00\", \"1999-09-01T00:00:00\", \"2000-08-25T00:00:00\", \"1981-04-26T00:00:00\", \"1999-01-16T00:00:00\", \"1990-11-21T00:00:00\", \"1999-07-11T00:00:00\", \"1999-01-08T00:00:00\", \"1991-03-30T00:00:00\", \"1995-09-06T00:00:00\", \"1999-07-05T00:00:00\", \"1985-07-08T00:00:00\", \"1991-01-06T00:00:00\", \"2000-08-31T00:00:00\", \"1988-11-20T00:00:00\", \"1991-01-10T00:00:00\", \"1990-10-23T00:00:00\", \"1992-12-22T00:00:00\", \"1985-05-21T00:00:00\", \"1989-02-19T00:00:00\", \"1989-11-26T00:00:00\", \"1974-11-04T00:00:00\", \"1995-02-14T00:00:00\", \"1994-06-09T00:00:00\", \"1984-07-17T00:00:00\", \"1996-03-13T00:00:00\", \"1986-04-12T00:00:00\", \"1993-11-11T00:00:00\", \"1997-04-20T00:00:00\", \"1997-06-09T00:00:00\", \"1997-06-09T00:00:00\", \"1997-05-02T00:00:00\", \"1997-05-03T00:00:00\", \"1992-11-02T00:00:00\", \"1993-03-27T00:00:00\", \"1993-11-01T00:00:00\", \"1978-07-13T00:00:00\", \"1999-01-07T00:00:00\", \"1997-06-23T00:00:00\", \"1993-06-28T00:00:00\", \"1988-04-28T00:00:00\", \"1993-09-22T00:00:00\", \"1993-01-24T00:00:00\", \"1981-07-06T00:00:00\", \"1991-04-01T00:00:00\", \"1991-09-21T00:00:00\", \"1992-03-29T00:00:00\", \"1988-04-12T00:00:00\", \"1988-04-24T00:00:00\", \"1984-01-03T00:00:00\", \"2000-08-11T00:00:00\", \"1995-06-19T00:00:00\", \"1992-08-31T00:00:00\", \"1993-03-23T00:00:00\", \"1998-08-17T00:00:00\", \"1998-01-24T00:00:00\", \"1997-09-16T00:00:00\", \"1999-04-26T00:00:00\", \"1999-04-13T00:00:00\", \"1999-07-12T00:00:00\", \"1998-09-07T00:00:00\", \"1998-03-22T00:00:00\", \"1997-10-08T00:00:00\", \"1998-02-07T00:00:00\", \"1998-08-16T00:00:00\", \"1998-08-25T00:00:00\", \"1997-10-19T00:00:00\", \"1998-06-28T00:00:00\", \"1997-08-05T00:00:00\", \"1998-05-19T00:00:00\", \"1997-12-23T00:00:00\", \"1999-07-13T00:00:00\", \"1997-07-30T00:00:00\", \"1997-02-12T00:00:00\", \"1999-06-09T00:00:00\", \"1998-02-25T00:00:00\", \"1999-05-04T00:00:00\", \"1998-05-02T00:00:00\", \"1998-08-11T00:00:00\", \"1997-11-06T00:00:00\", \"1997-04-22T00:00:00\", \"1998-04-17T00:00:00\", \"1994-05-27T00:00:00\", \"1997-10-16T00:00:00\", \"1999-12-28T00:00:00\", \"1993-07-04T00:00:00\", \"1997-06-06T00:00:00\", \"1997-12-21T00:00:00\", \"1998-05-02T00:00:00\", \"1999-07-06T00:00:00\", \"1999-04-13T00:00:00\", \"1999-05-20T00:00:00\", \"2000-02-07T00:00:00\", \"1997-11-06T00:00:00\", \"1999-04-28T00:00:00\", \"1999-03-22T00:00:00\", \"1990-09-20T00:00:00\", \"1997-03-16T00:00:00\", \"1982-05-23T00:00:00\", \"1999-06-19T00:00:00\", \"1998-05-13T00:00:00\", \"1997-04-28T00:00:00\", \"2000-05-29T00:00:00\", \"1999-05-18T00:00:00\", \"1999-06-05T00:00:00\", \"1998-01-04T00:00:00\", \"1999-04-20T00:00:00\", \"1999-05-04T00:00:00\", \"1998-04-06T00:00:00\", \"1998-03-08T00:00:00\", \"1998-05-12T00:00:00\", \"1999-05-21T00:00:00\", \"1998-02-07T00:00:00\", \"1997-07-02T00:00:00\", \"1999-06-18T00:00:00\", \"1999-02-13T00:00:00\", \"1999-01-01T00:00:00\", \"1997-07-04T00:00:00\", \"1990-04-18T00:00:00\", \"1997-01-25T00:00:00\", \"1997-03-30T00:00:00\", \"1980-03-01T00:00:00\", \"1999-12-28T00:00:00\", \"1999-06-19T00:00:00\", \"1997-02-06T00:00:00\", \"1999-04-26T00:00:00\", \"1999-07-12T00:00:00\", \"1997-08-11T00:00:00\", \"1997-11-27T00:00:00\", \"1997-11-27T00:00:00\", \"1999-01-21T00:00:00\", \"1999-08-13T00:00:00\", \"1991-06-10T00:00:00\", \"1993-12-22T00:00:00\", \"1998-04-01T00:00:00\", \"1992-06-30T00:00:00\", \"1983-03-05T00:00:00\", \"1998-06-08T00:00:00\", \"1986-07-26T00:00:00\", \"1995-11-12T00:00:00\", \"1993-09-30T00:00:00\", \"1994-08-23T00:00:00\", \"1990-02-21T00:00:00\", \"1995-08-27T00:00:00\", \"1996-10-29T00:00:00\", \"1995-06-10T00:00:00\", \"1992-10-05T00:00:00\", \"1993-04-18T00:00:00\", \"1994-04-21T00:00:00\", \"1993-09-11T00:00:00\", \"1999-09-24T00:00:00\", \"1989-10-08T00:00:00\", \"1999-03-07T00:00:00\", \"1988-10-19T00:00:00\", \"2001-07-06T00:00:00\", \"1991-08-10T00:00:00\", \"1999-06-13T00:00:00\", \"1975-12-23T00:00:00\", \"2000-02-02T00:00:00\", \"1998-03-01T00:00:00\", \"1998-05-03T00:00:00\", \"1987-12-25T00:00:00\", \"1996-09-06T00:00:00\", \"1995-05-30T00:00:00\", \"1989-03-09T00:00:00\", \"1982-12-09T00:00:00\", \"1988-06-08T00:00:00\", \"1998-03-21T00:00:00\", \"1986-01-14T00:00:00\", \"1981-11-17T00:00:00\", \"2000-09-21T00:00:00\", \"1995-02-17T00:00:00\", \"1997-06-21T00:00:00\", \"1988-12-31T00:00:00\", \"1998-07-13T00:00:00\", \"1995-11-18T00:00:00\", \"1994-05-15T00:00:00\", \"1994-09-13T00:00:00\", \"1997-03-17T00:00:00\", \"1996-08-30T00:00:00\", \"1999-05-25T00:00:00\", \"1980-03-22T00:00:00\", \"1987-04-08T00:00:00\", \"1982-11-28T00:00:00\", \"1983-05-14T00:00:00\", \"2000-11-26T00:00:00\", \"1986-02-08T00:00:00\", \"1995-04-01T00:00:00\", \"1999-07-01T00:00:00\", \"1998-05-02T00:00:00\", \"2000-03-07T00:00:00\", \"1993-05-25T00:00:00\", \"1998-06-06T00:00:00\", \"1998-02-23T00:00:00\", \"1998-01-25T00:00:00\", \"1999-02-28T00:00:00\", \"1998-11-18T00:00:00\", \"1997-08-11T00:00:00\", \"1998-03-07T00:00:00\", \"1998-05-22T00:00:00\", \"1998-07-24T00:00:00\", \"1997-12-16T00:00:00\", \"1998-11-21T00:00:00\", \"1998-12-17T00:00:00\", \"1973-08-17T00:00:00\", \"1997-05-24T00:00:00\", \"1997-02-19T00:00:00\", \"1993-12-13T00:00:00\", \"1986-10-18T00:00:00\", \"1986-01-27T00:00:00\", \"1988-08-23T00:00:00\", \"1987-05-19T00:00:00\", \"1988-02-04T00:00:00\", \"1994-10-13T00:00:00\", \"1983-03-23T00:00:00\", \"1994-07-13T00:00:00\", \"1984-09-06T00:00:00\", \"1996-10-05T00:00:00\", \"1998-09-03T00:00:00\", \"1998-04-19T00:00:00\", \"1998-12-25T00:00:00\", \"1985-04-28T00:00:00\", \"1989-08-10T00:00:00\", \"1985-08-16T00:00:00\", \"1995-04-30T00:00:00\", \"1993-03-09T00:00:00\", \"1988-04-29T00:00:00\", \"1992-04-17T00:00:00\", \"1994-04-25T00:00:00\", \"1987-03-14T00:00:00\", \"1999-02-13T00:00:00\", \"2000-07-18T00:00:00\", \"1983-06-28T00:00:00\", \"1999-09-28T00:00:00\", \"1999-12-02T00:00:00\", \"1999-07-15T00:00:00\", \"1990-11-04T00:00:00\", \"1986-03-05T00:00:00\", \"1982-01-11T00:00:00\", \"1996-11-17T00:00:00\", \"1999-01-17T00:00:00\", \"1969-11-26T00:00:00\", \"1998-05-12T00:00:00\", \"1985-06-29T00:00:00\", \"1999-07-16T00:00:00\", \"1999-05-25T00:00:00\", \"2001-06-28T00:00:00\", \"2000-03-21T00:00:00\", \"1999-03-20T00:00:00\", \"1999-09-29T00:00:00\", \"1998-04-21T00:00:00\", \"1997-07-09T00:00:00\", \"1999-05-21T00:00:00\", \"1999-04-05T00:00:00\", \"2001-06-18T00:00:00\", \"1999-03-16T00:00:00\", \"1999-10-19T00:00:00\", \"1999-10-21T00:00:00\", \"1999-05-02T00:00:00\", \"1998-01-16T00:00:00\", \"1978-12-19T00:00:00\", \"1988-02-02T00:00:00\", \"1998-08-30T00:00:00\", \"1997-08-12T00:00:00\", \"1997-03-12T00:00:00\", \"1991-07-02T00:00:00\", \"1998-10-15T00:00:00\", \"1997-05-22T00:00:00\", \"1987-03-05T00:00:00\", \"1998-09-17T00:00:00\", \"1991-06-13T00:00:00\", \"2000-10-12T00:00:00\", \"1993-01-06T00:00:00\", \"2000-02-28T00:00:00\", \"2001-05-01T00:00:00\", \"2000-07-13T00:00:00\", \"1998-01-21T00:00:00\", \"2000-07-09T00:00:00\", \"1999-05-07T00:00:00\", \"1991-06-07T00:00:00\", \"1981-11-16T00:00:00\", \"1999-08-22T00:00:00\", \"1998-04-12T00:00:00\", \"1991-01-31T00:00:00\", \"1983-08-17T00:00:00\", \"1987-06-03T00:00:00\", \"1999-04-30T00:00:00\", \"1986-09-28T00:00:00\", \"2000-05-27T00:00:00\", \"1997-05-18T00:00:00\", \"1981-09-21T00:00:00\", \"1985-07-25T00:00:00\", \"1983-09-15T00:00:00\", \"1998-06-30T00:00:00\", \"1998-02-11T00:00:00\", \"1998-05-23T00:00:00\", \"1986-03-16T00:00:00\", \"1998-10-28T00:00:00\", \"1980-07-07T00:00:00\", \"1981-09-25T00:00:00\", \"1983-11-21T00:00:00\", \"1997-09-14T00:00:00\", \"1993-02-01T00:00:00\", \"1990-12-19T00:00:00\", \"1994-06-21T00:00:00\", \"1993-05-23T00:00:00\", \"1996-04-15T00:00:00\", \"1995-06-19T00:00:00\", \"2000-08-20T00:00:00\", \"2000-08-23T00:00:00\", \"1998-08-20T00:00:00\", \"1990-03-07T00:00:00\", \"1982-09-11T00:00:00\", \"1981-08-06T00:00:00\", \"1997-09-21T00:00:00\", \"1997-11-05T00:00:00\", \"1983-02-03T00:00:00\", \"1997-08-08T00:00:00\", \"1998-08-24T00:00:00\", \"1990-02-27T00:00:00\", \"1998-04-05T00:00:00\", \"1998-02-24T00:00:00\", \"1987-03-08T00:00:00\", \"1998-07-07T00:00:00\", \"1996-05-08T00:00:00\", \"1997-11-27T00:00:00\", \"1989-02-13T00:00:00\", \"1998-06-22T00:00:00\", \"1977-03-11T00:00:00\", \"1998-06-17T00:00:00\", \"1979-06-29T00:00:00\", \"1998-04-30T00:00:00\", \"1995-02-06T00:00:00\", \"1997-07-03T00:00:00\", \"1986-03-02T00:00:00\", \"1993-01-18T00:00:00\", \"1988-07-07T00:00:00\", \"1993-03-13T00:00:00\", \"1978-02-15T00:00:00\", \"1996-05-01T00:00:00\", \"1998-08-26T00:00:00\", \"1989-07-03T00:00:00\", \"1976-01-17T00:00:00\", \"1986-10-27T00:00:00\", \"1996-08-21T00:00:00\", \"1997-05-28T00:00:00\", \"1999-11-01T00:00:00\", \"2001-09-10T00:00:00\", \"1988-01-31T00:00:00\", \"1996-01-30T00:00:00\", \"2000-04-21T00:00:00\", \"1995-02-14T00:00:00\", \"1988-08-10T00:00:00\", \"2001-01-30T00:00:00\", \"1999-01-12T00:00:00\", \"1991-08-16T00:00:00\", \"2000-11-03T00:00:00\", \"1991-07-17T00:00:00\", \"1993-05-11T00:00:00\", \"1991-03-27T00:00:00\", \"1999-08-06T00:00:00\", \"1993-11-07T00:00:00\", \"1999-03-18T00:00:00\", \"1988-11-16T00:00:00\", \"1990-09-07T00:00:00\", \"1981-12-20T00:00:00\", \"1982-09-05T00:00:00\", \"1986-05-04T00:00:00\", \"1981-07-10T00:00:00\", \"1985-04-26T00:00:00\", \"1988-08-04T00:00:00\", \"1994-05-07T00:00:00\", \"1986-07-03T00:00:00\", \"1995-03-29T00:00:00\", \"1997-02-20T00:00:00\", \"1987-10-06T00:00:00\", \"1999-07-13T00:00:00\", \"1995-10-28T00:00:00\", \"1998-04-17T00:00:00\", \"2000-04-25T00:00:00\", \"1984-06-11T00:00:00\", \"1969-06-24T00:00:00\", \"1995-10-12T00:00:00\", \"1989-11-08T00:00:00\", \"1997-01-06T00:00:00\", \"1998-08-10T00:00:00\", \"1994-04-11T00:00:00\", \"2000-11-13T00:00:00\", \"1999-03-16T00:00:00\", \"2000-04-14T00:00:00\", \"1999-03-27T00:00:00\", \"1999-09-28T00:00:00\", \"1997-04-02T00:00:00\", \"1998-04-11T00:00:00\", \"1998-03-18T00:00:00\", \"1981-01-28T00:00:00\", \"1998-04-19T00:00:00\", \"1999-11-12T00:00:00\", \"1986-07-15T00:00:00\", \"1974-10-30T00:00:00\", \"1987-06-21T00:00:00\", \"1994-05-31T00:00:00\", \"1996-01-18T00:00:00\", \"1987-10-22T00:00:00\", \"1992-08-27T00:00:00\", \"1994-03-12T00:00:00\", \"2001-11-16T00:00:00\", \"2000-05-01T00:00:00\", \"1998-12-29T00:00:00\", \"1999-09-14T00:00:00\", \"1985-07-18T00:00:00\", \"1986-06-19T00:00:00\", \"1996-06-06T00:00:00\", \"1992-01-10T00:00:00\", \"1986-06-30T00:00:00\", \"1994-04-04T00:00:00\", \"1971-04-25T00:00:00\", \"1996-08-18T00:00:00\", \"1974-03-24T00:00:00\", \"1990-07-21T00:00:00\", \"1996-12-11T00:00:00\", \"1994-05-17T00:00:00\", \"1987-01-12T00:00:00\", \"1985-01-09T00:00:00\", \"1995-01-04T00:00:00\", \"1993-01-06T00:00:00\", \"1987-04-24T00:00:00\", \"1996-03-23T00:00:00\", \"1994-01-09T00:00:00\", \"1994-03-03T00:00:00\", \"1988-01-21T00:00:00\", \"1993-11-18T00:00:00\", \"1996-01-19T00:00:00\", \"1993-01-18T00:00:00\", \"1992-07-28T00:00:00\", \"1972-09-23T00:00:00\", \"1990-03-07T00:00:00\", \"1972-09-23T00:00:00\", \"1992-09-16T00:00:00\", \"1984-12-01T00:00:00\", \"1993-04-22T00:00:00\", \"1986-03-21T00:00:00\", \"1996-05-16T00:00:00\", \"1998-03-29T00:00:00\", \"1984-12-25T00:00:00\", \"1997-01-30T00:00:00\", \"1998-03-03T00:00:00\", \"1992-04-25T00:00:00\", \"1997-07-31T00:00:00\", \"1973-05-05T00:00:00\", \"1996-02-28T00:00:00\", \"1994-11-28T00:00:00\", \"1992-06-25T00:00:00\", \"1998-09-30T00:00:00\", \"1989-05-19T00:00:00\", \"1994-09-01T00:00:00\", \"1994-11-11T00:00:00\", \"1994-08-11T00:00:00\", \"1987-03-28T00:00:00\", \"2000-06-10T00:00:00\", \"1999-01-15T00:00:00\", \"2000-05-24T00:00:00\", \"1999-05-22T00:00:00\", \"2000-02-08T00:00:00\", \"2000-12-06T00:00:00\", \"2000-08-17T00:00:00\", \"1996-08-29T00:00:00\", \"1999-08-24T00:00:00\", \"1999-03-09T00:00:00\", \"1999-06-15T00:00:00\", \"1999-04-13T00:00:00\", \"1989-09-20T00:00:00\", \"1989-08-21T00:00:00\", \"1990-12-05T00:00:00\", \"1999-10-14T00:00:00\", \"1999-05-14T00:00:00\", \"1999-01-26T00:00:00\", \"1997-11-08T00:00:00\", \"1985-02-21T00:00:00\", \"1989-08-04T00:00:00\", \"1999-03-11T00:00:00\", \"1990-01-06T00:00:00\", \"1999-06-25T00:00:00\", \"1991-06-17T00:00:00\", \"1999-03-08T00:00:00\", \"1999-04-08T00:00:00\", \"1989-01-17T00:00:00\", \"1994-01-11T00:00:00\", \"1996-06-21T00:00:00\", \"1996-05-21T00:00:00\", \"1990-09-07T00:00:00\", \"1988-05-31T00:00:00\", \"1992-08-27T00:00:00\", \"1987-05-20T00:00:00\", \"1984-02-21T00:00:00\", \"1997-04-04T00:00:00\", \"1998-06-17T00:00:00\", \"1997-05-12T00:00:00\", \"1997-09-18T00:00:00\", \"1997-06-03T00:00:00\", \"1983-01-23T00:00:00\", \"1988-10-11T00:00:00\", \"1988-06-13T00:00:00\", \"1986-12-04T00:00:00\", \"1990-08-17T00:00:00\", \"1990-05-14T00:00:00\", \"1982-12-27T00:00:00\", \"1997-07-08T00:00:00\", \"1984-04-11T00:00:00\", \"1998-07-28T00:00:00\", \"1981-12-01T00:00:00\", \"1999-04-10T00:00:00\", \"1999-12-28T00:00:00\", \"1999-04-14T00:00:00\", \"1999-06-22T00:00:00\", \"1984-04-11T00:00:00\", \"1983-12-20T00:00:00\", \"1995-11-03T00:00:00\", \"1994-08-22T00:00:00\", \"1997-09-15T00:00:00\", \"1982-06-17T00:00:00\", \"1989-05-29T00:00:00\", \"1976-11-27T00:00:00\", \"1993-10-18T00:00:00\", \"1992-09-20T00:00:00\", \"1984-05-26T00:00:00\", \"1999-09-20T00:00:00\", \"1997-11-22T00:00:00\", \"1981-06-07T00:00:00\", \"1992-10-25T00:00:00\", \"1990-08-18T00:00:00\", \"1984-09-07T00:00:00\", \"2001-02-18T00:00:00\", \"1992-01-03T00:00:00\", \"1991-12-04T00:00:00\", \"1995-07-17T00:00:00\", \"1989-02-10T00:00:00\", \"1995-06-02T00:00:00\", \"1995-03-17T00:00:00\", \"1988-04-25T00:00:00\", \"1981-05-25T00:00:00\", \"1990-08-01T00:00:00\", \"1985-10-16T00:00:00\", \"1986-01-16T00:00:00\", \"1990-09-04T00:00:00\", \"1984-09-24T00:00:00\", \"1983-02-09T00:00:00\", \"1968-04-27T00:00:00\", \"1991-05-04T00:00:00\", \"1976-06-23T00:00:00\", \"1991-11-20T00:00:00\", \"1982-04-13T00:00:00\", \"1996-07-01T00:00:00\", \"1993-05-29T00:00:00\", \"1989-07-15T00:00:00\", \"1982-03-28T00:00:00\", \"1999-05-26T00:00:00\", \"1993-07-26T00:00:00\", \"1994-11-26T00:00:00\", \"1994-07-14T00:00:00\", \"1985-08-23T00:00:00\", \"1993-07-26T00:00:00\", \"1986-06-14T00:00:00\", \"1997-03-16T00:00:00\", \"1999-08-07T00:00:00\", \"1996-07-09T00:00:00\", \"1994-12-14T00:00:00\", \"1995-07-25T00:00:00\", \"1998-01-05T00:00:00\", \"1996-07-01T00:00:00\", \"1987-05-09T00:00:00\", \"1992-10-26T00:00:00\", \"1992-01-09T00:00:00\", \"1993-02-08T00:00:00\", \"1999-05-16T00:00:00\", \"2001-04-24T00:00:00\", \"1989-04-02T00:00:00\", \"1988-02-02T00:00:00\", \"1988-05-08T00:00:00\", \"1976-03-31T00:00:00\", \"1992-06-23T00:00:00\", \"1982-12-29T00:00:00\", \"1979-06-23T00:00:00\", \"1992-09-30T00:00:00\", \"1975-04-01T00:00:00\", \"1988-03-22T00:00:00\", \"1988-03-04T00:00:00\", \"1981-02-27T00:00:00\", \"2000-02-20T00:00:00\", \"1983-09-01T00:00:00\", \"1993-08-21T00:00:00\", \"1999-06-13T00:00:00\", \"1980-08-10T00:00:00\", \"2000-02-25T00:00:00\", \"1999-07-24T00:00:00\", \"1986-03-16T00:00:00\", \"1995-12-18T00:00:00\", \"1994-11-26T00:00:00\", \"1999-08-03T00:00:00\", \"1992-03-27T00:00:00\", \"2000-08-03T00:00:00\", \"1988-04-18T00:00:00\", \"1997-10-02T00:00:00\", \"1994-09-07T00:00:00\", \"1999-08-22T00:00:00\", \"1998-08-26T00:00:00\", \"1986-01-26T00:00:00\", \"1988-02-03T00:00:00\", \"1987-11-07T00:00:00\", \"1998-04-13T00:00:00\", \"1996-02-26T00:00:00\", \"1995-04-04T00:00:00\", \"1998-01-11T00:00:00\", \"1999-01-05T00:00:00\", \"1998-04-29T00:00:00\", \"1997-05-04T00:00:00\", \"2000-02-17T00:00:00\", \"2000-03-05T00:00:00\", \"1992-03-27T00:00:00\", \"1990-10-02T00:00:00\", \"1987-09-28T00:00:00\", \"1999-06-17T00:00:00\", \"1989-11-08T00:00:00\", \"1991-10-04T00:00:00\", \"2000-01-11T00:00:00\", \"1999-01-06T00:00:00\", \"1988-01-21T00:00:00\", \"1992-07-23T00:00:00\", \"1978-09-29T00:00:00\", \"1993-11-03T00:00:00\", \"1988-06-20T00:00:00\", \"1990-09-09T00:00:00\", \"1987-02-02T00:00:00\", \"1986-09-26T00:00:00\", \"1999-02-06T00:00:00\", \"1988-08-16T00:00:00\", \"1995-02-14T00:00:00\", \"1989-05-04T00:00:00\", \"1989-03-14T00:00:00\", \"1990-09-23T00:00:00\", \"1996-05-17T00:00:00\", \"1999-01-29T00:00:00\", \"1984-08-28T00:00:00\", \"1998-01-28T00:00:00\", \"1995-03-27T00:00:00\", \"1978-07-29T00:00:00\", \"1981-09-03T00:00:00\", \"1997-07-17T00:00:00\", \"1991-02-15T00:00:00\", \"1987-09-23T00:00:00\", \"1997-05-28T00:00:00\", \"1999-12-04T00:00:00\", \"1986-12-03T00:00:00\", \"1997-07-10T00:00:00\", \"1974-06-22T00:00:00\", \"1992-11-09T00:00:00\", \"1992-03-01T00:00:00\", \"1998-01-17T00:00:00\", \"1977-03-31T00:00:00\", \"1988-06-21T00:00:00\", \"1998-04-11T00:00:00\", \"1997-04-28T00:00:00\", \"1989-10-06T00:00:00\", \"1981-11-04T00:00:00\", \"1991-01-07T00:00:00\", \"1989-04-26T00:00:00\", \"1991-05-24T00:00:00\", \"1985-03-01T00:00:00\", \"1988-05-09T00:00:00\", \"1987-08-17T00:00:00\", \"1976-07-14T00:00:00\", \"1997-06-28T00:00:00\", \"1978-11-06T00:00:00\", \"1986-09-30T00:00:00\", \"1979-08-22T00:00:00\", \"1988-10-02T00:00:00\", \"1994-09-29T00:00:00\", \"1990-04-01T00:00:00\", \"1991-05-04T00:00:00\", \"1983-06-26T00:00:00\", \"1991-05-22T00:00:00\", \"1998-07-21T00:00:00\", \"1997-04-07T00:00:00\", \"1983-06-21T00:00:00\", \"1999-10-29T00:00:00\", \"1981-04-27T00:00:00\", \"1987-10-23T00:00:00\", \"1997-07-09T00:00:00\", \"1988-11-23T00:00:00\", \"1998-08-14T00:00:00\", \"2000-04-20T00:00:00\", \"1998-10-06T00:00:00\", \"1980-12-15T00:00:00\", \"1983-09-06T00:00:00\", \"1998-11-11T00:00:00\", \"1998-05-15T00:00:00\", \"1989-11-21T00:00:00\", \"1988-09-23T00:00:00\", \"1991-01-02T00:00:00\", \"1998-02-16T00:00:00\", \"1993-09-01T00:00:00\", \"1996-03-18T00:00:00\", \"1998-05-08T00:00:00\", \"1997-05-12T00:00:00\", \"1998-02-26T00:00:00\", \"1992-12-19T00:00:00\", \"1997-10-07T00:00:00\", \"1997-02-05T00:00:00\", \"1990-05-01T00:00:00\", \"1994-07-11T00:00:00\", \"1999-03-30T00:00:00\", \"1988-11-17T00:00:00\", \"1989-08-24T00:00:00\", \"1993-11-28T00:00:00\", \"1988-10-02T00:00:00\", \"1996-06-26T00:00:00\", \"2000-09-28T00:00:00\", \"1998-09-12T00:00:00\", \"1997-11-15T00:00:00\", \"1997-09-16T00:00:00\", \"1998-12-06T00:00:00\", \"1998-12-09T00:00:00\", \"1997-05-22T00:00:00\", \"1997-01-15T00:00:00\", \"1997-02-19T00:00:00\", \"1997-12-22T00:00:00\", \"1997-09-22T00:00:00\", \"1987-05-27T00:00:00\", \"1996-05-31T00:00:00\", \"1976-05-31T00:00:00\", \"1981-10-31T00:00:00\", \"1987-03-03T00:00:00\", \"1991-04-13T00:00:00\", \"1984-12-05T00:00:00\", \"1988-08-03T00:00:00\", \"1987-08-25T00:00:00\", \"1988-09-18T00:00:00\", \"1990-02-25T00:00:00\", \"1984-08-26T00:00:00\", \"1990-05-01T00:00:00\", \"1991-12-07T00:00:00\", \"1987-08-01T00:00:00\", \"1997-02-09T00:00:00\", \"1998-08-05T00:00:00\", \"1993-07-24T00:00:00\", \"1997-05-14T00:00:00\", \"1991-07-18T00:00:00\", \"1997-05-24T00:00:00\", \"1976-11-23T00:00:00\", \"1986-12-22T00:00:00\", \"1988-05-31T00:00:00\", \"1978-03-07T00:00:00\", \"1991-04-24T00:00:00\", \"1997-08-07T00:00:00\", \"1997-04-02T00:00:00\", \"1998-09-28T00:00:00\", \"1997-09-08T00:00:00\", \"1998-05-23T00:00:00\", \"1995-06-18T00:00:00\", \"1982-07-15T00:00:00\", \"1998-06-21T00:00:00\", \"1998-07-11T00:00:00\", \"1998-03-10T00:00:00\", \"1998-09-21T00:00:00\", \"1984-08-19T00:00:00\", \"1999-04-09T00:00:00\", \"1997-07-11T00:00:00\", \"1998-10-07T00:00:00\", \"1997-04-03T00:00:00\", \"1998-03-25T00:00:00\", \"1997-06-06T00:00:00\", \"1996-02-13T00:00:00\", \"1998-12-06T00:00:00\", \"1997-01-25T00:00:00\", \"1987-09-16T00:00:00\", \"1998-05-03T00:00:00\", \"1997-11-28T00:00:00\", \"1998-09-17T00:00:00\", \"1997-11-13T00:00:00\", \"1998-08-18T00:00:00\", \"1998-05-07T00:00:00\", \"1998-04-14T00:00:00\", \"1998-08-06T00:00:00\", \"1985-10-18T00:00:00\", \"1990-12-31T00:00:00\", \"2000-04-09T00:00:00\", \"1995-07-11T00:00:00\", \"1998-03-19T00:00:00\", \"1990-04-27T00:00:00\", \"1993-05-31T00:00:00\", \"1995-06-25T00:00:00\", \"1998-12-08T00:00:00\", \"1981-09-21T00:00:00\", \"1997-05-19T00:00:00\", \"1984-03-02T00:00:00\", \"1984-04-01T00:00:00\", \"1985-07-06T00:00:00\", \"1989-06-06T00:00:00\", \"1998-04-06T00:00:00\", \"1987-10-15T00:00:00\", \"1998-01-11T00:00:00\", \"1978-10-18T00:00:00\", \"1997-02-08T00:00:00\", \"2000-10-25T00:00:00\", \"2000-06-03T00:00:00\", \"2001-06-06T00:00:00\", \"1999-01-19T00:00:00\", \"1999-05-25T00:00:00\", \"1999-07-27T00:00:00\", \"1999-10-11T00:00:00\", \"1973-10-30T00:00:00\", \"1999-12-27T00:00:00\", \"1999-05-22T00:00:00\", \"1995-09-05T00:00:00\", \"2000-06-09T00:00:00\", \"1999-05-15T00:00:00\", \"1987-09-27T00:00:00\", \"2000-01-23T00:00:00\", \"1999-07-06T00:00:00\", \"1978-06-13T00:00:00\", \"1992-03-25T00:00:00\", \"1999-05-17T00:00:00\", \"2000-07-13T00:00:00\", \"2000-08-11T00:00:00\", \"2000-07-04T00:00:00\", \"2000-09-29T00:00:00\", \"2000-11-05T00:00:00\", \"1987-05-29T00:00:00\", \"2000-08-19T00:00:00\", \"1986-02-25T00:00:00\", \"2001-03-23T00:00:00\", \"1985-06-17T00:00:00\", \"2001-04-29T00:00:00\", \"2000-05-26T00:00:00\", \"1986-02-25T00:00:00\", \"1997-09-09T00:00:00\", \"1999-11-02T00:00:00\", \"1998-08-20T00:00:00\", \"1980-02-04T00:00:00\", \"1997-10-19T00:00:00\", \"1997-06-28T00:00:00\", \"2001-04-19T00:00:00\", \"1990-09-17T00:00:00\", \"1998-05-16T00:00:00\", \"1997-10-11T00:00:00\", \"1999-04-01T00:00:00\", \"1999-08-13T00:00:00\", \"1977-11-20T00:00:00\", \"1997-05-18T00:00:00\", \"1996-12-12T00:00:00\", \"1997-07-04T00:00:00\", \"1996-06-12T00:00:00\", \"1992-05-04T00:00:00\", \"1994-05-07T00:00:00\", \"1996-12-11T00:00:00\", \"1995-07-25T00:00:00\", \"1990-07-03T00:00:00\", \"1998-01-17T00:00:00\", \"1988-03-22T00:00:00\", \"1993-04-06T00:00:00\", \"1999-11-16T00:00:00\", \"1991-11-03T00:00:00\", \"1995-03-13T00:00:00\", \"1998-05-22T00:00:00\", \"1980-07-12T00:00:00\", \"1985-06-08T00:00:00\", \"1986-11-20T00:00:00\", \"1982-05-05T00:00:00\", \"1980-07-30T00:00:00\", \"2000-03-17T00:00:00\", \"1997-09-30T00:00:00\", \"1998-05-11T00:00:00\", \"1993-11-11T00:00:00\", \"1994-03-18T00:00:00\", \"1999-12-27T00:00:00\", \"2000-03-16T00:00:00\", \"1996-05-28T00:00:00\", \"1999-03-06T00:00:00\", \"2000-12-18T00:00:00\", \"2000-09-15T00:00:00\", \"1998-01-07T00:00:00\", \"1999-03-18T00:00:00\", \"1991-01-04T00:00:00\", \"1999-03-06T00:00:00\", \"2000-03-23T00:00:00\", \"1997-02-11T00:00:00\", \"1993-10-04T00:00:00\", \"1996-04-26T00:00:00\", \"1990-02-23T00:00:00\", \"2001-03-10T00:00:00\", \"1997-03-30T00:00:00\", \"2001-08-29T00:00:00\", \"1998-06-14T00:00:00\", \"2000-08-12T00:00:00\", \"1998-05-17T00:00:00\", \"2000-04-28T00:00:00\", \"1992-04-22T00:00:00\", \"1992-08-21T00:00:00\", \"1997-12-02T00:00:00\", \"1998-04-14T00:00:00\", \"1987-04-11T00:00:00\", \"1998-09-07T00:00:00\", \"1988-12-12T00:00:00\", \"1982-01-21T00:00:00\", \"1992-05-12T00:00:00\", \"1992-08-31T00:00:00\", \"1986-12-12T00:00:00\", \"1976-05-18T00:00:00\", \"1998-09-14T00:00:00\", \"1992-12-16T00:00:00\", \"1997-11-13T00:00:00\", \"1991-05-10T00:00:00\", \"1999-01-29T00:00:00\", \"1978-03-13T00:00:00\", \"1998-01-07T00:00:00\", \"1998-12-28T00:00:00\", \"1991-03-22T00:00:00\", \"2001-04-18T00:00:00\", \"1997-02-28T00:00:00\", \"1995-01-03T00:00:00\", \"1993-11-02T00:00:00\", \"1990-06-04T00:00:00\", \"1979-05-07T00:00:00\", \"1998-01-19T00:00:00\", \"1994-02-20T00:00:00\", \"1998-01-02T00:00:00\", \"1981-03-16T00:00:00\", \"1997-03-19T00:00:00\", \"1996-12-06T00:00:00\", \"1987-09-27T00:00:00\", \"1993-10-24T00:00:00\", \"1985-03-27T00:00:00\", \"1994-12-12T00:00:00\", \"1969-03-07T00:00:00\", \"1996-02-29T00:00:00\", \"1978-11-16T00:00:00\", \"1998-05-07T00:00:00\", \"1978-08-15T00:00:00\", \"1988-01-26T00:00:00\", \"1997-06-26T00:00:00\", \"1998-06-14T00:00:00\", \"1997-03-06T00:00:00\", \"1997-10-18T00:00:00\", \"1997-01-14T00:00:00\", \"1990-05-26T00:00:00\", \"1997-07-31T00:00:00\", \"1997-08-31T00:00:00\", \"1997-11-29T00:00:00\", \"1998-02-19T00:00:00\", \"1996-01-05T00:00:00\", \"1997-09-24T00:00:00\", \"1988-02-27T00:00:00\", \"1994-11-07T00:00:00\", \"1984-09-24T00:00:00\", \"1995-02-26T00:00:00\", \"1994-07-19T00:00:00\", \"1997-04-29T00:00:00\", \"1997-02-16T00:00:00\", \"1998-05-08T00:00:00\", \"1998-07-22T00:00:00\", \"1998-01-17T00:00:00\", \"1986-02-06T00:00:00\", \"1997-06-05T00:00:00\", \"1994-09-27T00:00:00\", \"1998-04-19T00:00:00\", \"1997-05-27T00:00:00\", \"1982-08-15T00:00:00\", \"1995-11-05T00:00:00\", \"1998-01-26T00:00:00\", \"1987-05-02T00:00:00\", \"1998-03-11T00:00:00\", \"1982-06-07T00:00:00\", \"1997-09-01T00:00:00\", \"1997-06-02T00:00:00\", \"1998-09-26T00:00:00\", \"1997-03-13T00:00:00\", \"1997-04-11T00:00:00\", \"1986-02-23T00:00:00\", \"1973-01-09T00:00:00\", \"1989-08-08T00:00:00\", \"1973-05-03T00:00:00\", \"1979-11-29T00:00:00\", \"1972-07-12T00:00:00\", \"1987-02-02T00:00:00\", \"1978-10-10T00:00:00\", \"1989-05-20T00:00:00\", \"1991-02-13T00:00:00\", \"1997-08-15T00:00:00\", \"1981-06-19T00:00:00\", \"1997-06-16T00:00:00\", \"1981-04-24T00:00:00\", \"1978-09-23T00:00:00\", \"1972-07-15T00:00:00\", \"1997-06-27T00:00:00\", \"1970-02-17T00:00:00\", \"1995-02-09T00:00:00\", \"1998-09-26T00:00:00\", \"1973-08-27T00:00:00\", \"1984-08-06T00:00:00\", \"1989-05-28T00:00:00\", \"2000-04-09T00:00:00\", \"1985-04-26T00:00:00\", \"1997-09-19T00:00:00\", \"1999-06-24T00:00:00\", \"1975-09-06T00:00:00\", \"1971-01-12T00:00:00\", \"1974-06-08T00:00:00\", \"1998-09-11T00:00:00\", \"1997-03-14T00:00:00\", \"1973-12-15T00:00:00\", \"1970-09-23T00:00:00\", \"1998-06-03T00:00:00\", \"1997-12-02T00:00:00\", \"1987-06-04T00:00:00\", \"1999-03-03T00:00:00\", \"1987-08-03T00:00:00\", \"1974-04-13T00:00:00\", \"1997-02-11T00:00:00\", \"1986-03-12T00:00:00\", \"1971-04-16T00:00:00\", \"1983-09-15T00:00:00\", \"1996-11-25T00:00:00\", \"1995-12-11T00:00:00\", \"1995-06-16T00:00:00\", \"2000-12-17T00:00:00\", \"1987-07-30T00:00:00\", \"1993-09-10T00:00:00\", \"1997-08-20T00:00:00\", \"1993-05-03T00:00:00\", \"1991-07-20T00:00:00\", \"1998-11-24T00:00:00\", \"1999-01-23T00:00:00\", \"1999-08-16T00:00:00\", \"1998-08-31T00:00:00\", \"1990-07-17T00:00:00\", \"1991-12-29T00:00:00\", \"1998-09-02T00:00:00\", \"2001-02-09T00:00:00\", \"1997-01-26T00:00:00\", \"1989-04-07T00:00:00\", \"1999-03-23T00:00:00\", \"1999-11-18T00:00:00\", \"1996-10-20T00:00:00\", \"1979-08-14T00:00:00\", \"1995-02-14T00:00:00\", \"1996-03-13T00:00:00\", \"1995-01-10T00:00:00\", \"1999-09-27T00:00:00\", \"1998-07-08T00:00:00\", \"1989-09-23T00:00:00\", \"1986-10-26T00:00:00\", \"1998-12-09T00:00:00\", \"2000-05-08T00:00:00\", \"1999-12-28T00:00:00\", \"1991-01-23T00:00:00\", \"1994-01-29T00:00:00\", \"1994-09-20T00:00:00\", \"1999-05-15T00:00:00\", \"1976-12-11T00:00:00\", \"1994-01-31T00:00:00\", \"1999-08-21T00:00:00\", \"1999-01-29T00:00:00\", \"1999-04-25T00:00:00\", \"1998-10-05T00:00:00\", \"1991-07-09T00:00:00\", \"1999-03-21T00:00:00\", \"2000-08-23T00:00:00\", \"1991-11-29T00:00:00\", \"1999-07-13T00:00:00\", \"1999-05-21T00:00:00\", \"1999-06-24T00:00:00\", \"1999-02-01T00:00:00\", \"1997-05-17T00:00:00\", \"1997-10-07T00:00:00\", \"1992-01-07T00:00:00\", \"1999-11-29T00:00:00\", \"2000-07-10T00:00:00\", \"1999-07-10T00:00:00\", \"1999-11-19T00:00:00\", \"1992-08-09T00:00:00\", \"1999-09-15T00:00:00\", \"2000-12-15T00:00:00\", \"1997-07-31T00:00:00\", \"1999-12-02T00:00:00\", \"2000-09-29T00:00:00\", \"1992-03-11T00:00:00\", \"1996-12-07T00:00:00\", \"1998-04-28T00:00:00\", \"1997-07-20T00:00:00\", \"1997-01-26T00:00:00\", \"1998-08-14T00:00:00\", \"1997-06-21T00:00:00\", \"1997-04-25T00:00:00\", \"1992-06-24T00:00:00\", \"1998-06-07T00:00:00\", \"1976-05-08T00:00:00\", \"1993-12-02T00:00:00\", \"1998-07-01T00:00:00\", \"1997-07-02T00:00:00\", \"1999-04-21T00:00:00\", \"1983-11-21T00:00:00\", \"1997-02-10T00:00:00\", \"1991-01-19T00:00:00\", \"1983-03-19T00:00:00\", \"1984-02-17T00:00:00\", \"1980-11-05T00:00:00\", \"1999-05-17T00:00:00\", \"1994-02-05T00:00:00\", \"1997-01-06T00:00:00\", \"1984-05-14T00:00:00\", \"1995-02-07T00:00:00\", \"1998-06-17T00:00:00\", \"1988-05-27T00:00:00\", \"1999-04-28T00:00:00\", \"1991-05-09T00:00:00\", \"1997-11-03T00:00:00\", \"1994-02-09T00:00:00\", \"1984-03-06T00:00:00\", \"1990-12-25T00:00:00\", \"1993-02-09T00:00:00\", \"1997-09-22T00:00:00\", \"1998-08-28T00:00:00\", \"1994-11-10T00:00:00\", \"1997-03-10T00:00:00\", \"1997-08-22T00:00:00\", \"1988-03-08T00:00:00\", \"1981-01-09T00:00:00\", \"1998-07-29T00:00:00\", \"1992-10-03T00:00:00\", \"1978-04-09T00:00:00\", \"1989-10-10T00:00:00\", \"1985-10-10T00:00:00\", \"1985-06-04T00:00:00\", \"1985-10-22T00:00:00\", \"1998-06-09T00:00:00\", \"1987-02-11T00:00:00\", \"1989-07-07T00:00:00\", \"1985-05-20T00:00:00\", \"1987-03-04T00:00:00\", \"1998-02-14T00:00:00\", \"1994-09-14T00:00:00\", \"1992-02-15T00:00:00\", \"1997-10-22T00:00:00\", \"1995-03-30T00:00:00\", \"1997-02-12T00:00:00\", \"1997-04-28T00:00:00\", \"1986-03-17T00:00:00\", \"1997-09-26T00:00:00\", \"1989-07-20T00:00:00\", \"1981-08-26T00:00:00\", \"1998-11-24T00:00:00\", \"1997-07-05T00:00:00\", \"1987-03-02T00:00:00\", \"1999-07-07T00:00:00\", \"1999-05-21T00:00:00\", \"2000-04-14T00:00:00\", \"2001-08-15T00:00:00\", \"2000-12-10T00:00:00\", \"1999-08-01T00:00:00\", \"1997-05-13T00:00:00\", \"1999-11-23T00:00:00\", \"1997-12-30T00:00:00\", \"1998-11-06T00:00:00\", \"1999-09-27T00:00:00\", \"1998-05-08T00:00:00\", \"1990-11-11T00:00:00\", \"1998-04-23T00:00:00\", \"1999-05-17T00:00:00\", \"1992-04-22T00:00:00\", \"1991-05-28T00:00:00\", \"1991-12-21T00:00:00\", \"1999-05-09T00:00:00\", \"1999-02-02T00:00:00\", \"1996-03-29T00:00:00\", \"1997-05-10T00:00:00\", \"1992-07-30T00:00:00\", \"2000-04-12T00:00:00\", \"1992-09-06T00:00:00\", \"1992-12-19T00:00:00\", \"1987-02-07T00:00:00\", \"1993-09-21T00:00:00\", \"1997-06-10T00:00:00\", \"1997-06-30T00:00:00\", \"1992-01-02T00:00:00\", \"1990-01-25T00:00:00\", \"2000-08-23T00:00:00\", \"1996-09-13T00:00:00\", \"1999-12-24T00:00:00\", \"1996-01-25T00:00:00\", \"1980-04-10T00:00:00\", \"1998-07-14T00:00:00\", \"1983-08-18T00:00:00\", \"1989-02-07T00:00:00\", \"1998-03-18T00:00:00\", \"1979-06-03T00:00:00\", \"1997-06-29T00:00:00\", \"1997-09-16T00:00:00\", \"1990-11-01T00:00:00\", \"1997-01-06T00:00:00\", \"1982-09-24T00:00:00\", \"1997-05-03T00:00:00\", \"1995-03-22T00:00:00\", \"1990-09-17T00:00:00\", \"1997-04-10T00:00:00\", \"1986-01-23T00:00:00\", \"1990-04-04T00:00:00\", \"1994-03-14T00:00:00\", \"1993-03-25T00:00:00\", \"1999-06-17T00:00:00\", \"1998-05-12T00:00:00\", \"1999-11-22T00:00:00\", \"1992-02-14T00:00:00\", \"1999-09-08T00:00:00\", \"1999-04-09T00:00:00\", \"2001-03-25T00:00:00\", \"1996-04-24T00:00:00\", \"1999-05-26T00:00:00\", \"1987-05-31T00:00:00\", \"1997-05-02T00:00:00\", \"1985-01-24T00:00:00\", \"1984-04-25T00:00:00\", \"2000-06-12T00:00:00\", \"1999-05-13T00:00:00\", \"1997-06-14T00:00:00\", \"1980-04-30T00:00:00\", \"1998-10-14T00:00:00\", \"1999-09-25T00:00:00\", \"2001-05-21T00:00:00\", \"1989-02-22T00:00:00\", \"1995-07-27T00:00:00\", \"1999-11-01T00:00:00\", \"1985-09-12T00:00:00\", \"2000-01-15T00:00:00\", \"1986-01-24T00:00:00\", \"1976-05-21T00:00:00\", \"1988-08-24T00:00:00\", \"1987-12-06T00:00:00\", \"1977-09-13T00:00:00\", \"1983-09-06T00:00:00\", \"1986-05-16T00:00:00\", \"1986-09-13T00:00:00\", \"1991-11-15T00:00:00\", \"1989-03-07T00:00:00\", \"1994-07-28T00:00:00\", \"1995-01-17T00:00:00\", \"1990-10-04T00:00:00\", \"1993-05-05T00:00:00\", \"1988-01-15T00:00:00\", \"1998-06-08T00:00:00\", \"1986-07-12T00:00:00\", \"1985-09-30T00:00:00\", \"1988-04-14T00:00:00\", \"1993-09-02T00:00:00\", \"1990-03-21T00:00:00\", \"1999-01-13T00:00:00\", \"1995-06-19T00:00:00\", \"1988-08-19T00:00:00\", \"1982-08-28T00:00:00\", \"1991-09-16T00:00:00\", \"1991-04-09T00:00:00\", \"1989-02-16T00:00:00\", \"1990-05-30T00:00:00\", \"1990-03-10T00:00:00\", \"1992-01-06T00:00:00\", \"1986-06-06T00:00:00\", \"1987-06-08T00:00:00\", \"1993-04-26T00:00:00\", \"1986-04-05T00:00:00\", \"1986-03-14T00:00:00\", \"1993-07-31T00:00:00\", \"1984-08-27T00:00:00\", \"1986-08-05T00:00:00\", \"1987-05-11T00:00:00\", \"1990-12-10T00:00:00\", \"2000-05-28T00:00:00\", \"1981-02-18T00:00:00\", \"1995-02-25T00:00:00\", \"1987-03-07T00:00:00\", \"1986-10-16T00:00:00\", \"1980-09-27T00:00:00\", \"1997-12-20T00:00:00\", \"1995-08-18T00:00:00\", \"1982-08-13T00:00:00\", \"1982-11-16T00:00:00\", \"1991-07-03T00:00:00\", \"1998-12-21T00:00:00\", \"1991-06-21T00:00:00\", \"1995-03-31T00:00:00\", \"1977-04-16T00:00:00\", \"1986-05-19T00:00:00\", \"1995-06-11T00:00:00\", \"1992-07-04T00:00:00\", \"1991-01-08T00:00:00\", \"1999-02-26T00:00:00\", \"1979-08-17T00:00:00\", \"1993-02-24T00:00:00\", \"1999-04-16T00:00:00\", \"1990-12-07T00:00:00\", \"2000-03-16T00:00:00\", \"1999-06-03T00:00:00\", \"1991-10-10T00:00:00\", \"1978-05-06T00:00:00\", \"1982-04-19T00:00:00\", \"1997-07-01T00:00:00\", \"1997-05-28T00:00:00\", \"1999-09-25T00:00:00\", \"1999-11-23T00:00:00\", \"1998-09-11T00:00:00\", \"1997-02-13T00:00:00\", \"1998-01-11T00:00:00\", \"1998-05-28T00:00:00\", \"1982-01-13T00:00:00\", \"1998-06-28T00:00:00\", \"1985-01-06T00:00:00\", \"1997-02-03T00:00:00\", \"1992-05-29T00:00:00\", \"1998-02-22T00:00:00\", \"1998-03-15T00:00:00\", \"1997-09-01T00:00:00\", \"1986-04-10T00:00:00\", \"1999-06-30T00:00:00\", \"1998-11-24T00:00:00\", \"1989-01-02T00:00:00\", \"1997-08-15T00:00:00\", \"1998-11-14T00:00:00\", \"1993-11-15T00:00:00\", \"1997-11-04T00:00:00\", \"1996-05-01T00:00:00\", \"1980-06-22T00:00:00\", \"1984-11-29T00:00:00\", \"1996-10-09T00:00:00\", \"1980-09-24T00:00:00\", \"1997-03-12T00:00:00\", \"1982-12-15T00:00:00\", \"1992-03-11T00:00:00\", \"1997-01-31T00:00:00\", \"1993-06-16T00:00:00\", \"1985-07-15T00:00:00\", \"1993-06-16T00:00:00\", \"1994-11-10T00:00:00\", \"1989-07-05T00:00:00\", \"1985-06-09T00:00:00\", \"1988-02-14T00:00:00\", \"1986-04-05T00:00:00\", \"1992-02-25T00:00:00\", \"1999-06-23T00:00:00\", \"1988-03-11T00:00:00\", \"1997-04-30T00:00:00\", \"1987-09-24T00:00:00\", \"1999-12-27T00:00:00\", \"1991-01-10T00:00:00\", \"1998-08-10T00:00:00\", \"1998-04-20T00:00:00\", \"1988-06-29T00:00:00\", \"1982-07-04T00:00:00\", \"1989-01-18T00:00:00\", \"1999-07-28T00:00:00\", \"1985-11-18T00:00:00\", \"1989-09-07T00:00:00\", \"1997-03-31T00:00:00\", \"1995-07-25T00:00:00\", \"1999-07-08T00:00:00\", \"1998-03-31T00:00:00\", \"1995-07-25T00:00:00\", \"2000-07-02T00:00:00\", \"1999-09-01T00:00:00\", \"1996-05-23T00:00:00\", \"1998-10-26T00:00:00\", \"1989-01-02T00:00:00\", \"1992-03-23T00:00:00\", \"1997-05-12T00:00:00\", \"1994-12-15T00:00:00\", \"1996-02-03T00:00:00\", \"1999-04-01T00:00:00\", \"1984-02-10T00:00:00\", \"1997-09-27T00:00:00\", \"1993-10-16T00:00:00\", \"1985-03-30T00:00:00\", \"1987-01-08T00:00:00\", \"1994-08-19T00:00:00\", \"1992-10-18T00:00:00\", \"1997-04-07T00:00:00\", \"1998-03-21T00:00:00\", \"2000-04-08T00:00:00\", \"1997-02-01T00:00:00\", \"1996-10-08T00:00:00\", \"1997-03-22T00:00:00\", \"1995-11-01T00:00:00\", \"1998-05-12T00:00:00\", \"1994-03-12T00:00:00\", \"1987-02-14T00:00:00\", \"2000-03-26T00:00:00\", \"2000-08-31T00:00:00\", \"1998-08-05T00:00:00\", \"1999-03-25T00:00:00\", \"1996-09-27T00:00:00\", \"1993-01-24T00:00:00\", \"1998-12-24T00:00:00\", \"1992-06-16T00:00:00\", \"1989-05-01T00:00:00\", \"1999-03-25T00:00:00\", \"1994-08-25T00:00:00\", \"1986-10-22T00:00:00\", \"1992-01-28T00:00:00\", \"1997-12-20T00:00:00\", \"1996-05-22T00:00:00\", \"1996-08-11T00:00:00\", \"1991-02-20T00:00:00\", \"1984-02-23T00:00:00\", \"1990-01-15T00:00:00\", \"1998-08-22T00:00:00\", \"1993-01-16T00:00:00\", \"1984-08-12T00:00:00\", \"1998-05-31T00:00:00\", \"1999-04-19T00:00:00\", \"1985-01-28T00:00:00\", \"1998-01-01T00:00:00\", \"1999-10-23T00:00:00\", \"1986-02-02T00:00:00\", \"1984-07-13T00:00:00\", \"1974-02-26T00:00:00\", \"1991-11-11T00:00:00\", \"1993-07-12T00:00:00\", \"1976-08-23T00:00:00\", \"1992-02-23T00:00:00\", \"1999-08-12T00:00:00\", \"1998-06-02T00:00:00\", \"1998-02-19T00:00:00\", \"1997-02-16T00:00:00\", \"1990-11-11T00:00:00\", \"1998-08-05T00:00:00\", \"2000-06-11T00:00:00\", \"1985-06-15T00:00:00\", \"1981-01-27T00:00:00\", \"1991-10-02T00:00:00\", \"1992-06-10T00:00:00\", \"1983-11-01T00:00:00\", \"1974-12-05T00:00:00\", \"1986-11-23T00:00:00\", \"1984-03-18T00:00:00\", \"1979-07-26T00:00:00\", \"1997-06-02T00:00:00\", \"1997-07-18T00:00:00\", \"1998-04-24T00:00:00\", \"1998-05-16T00:00:00\", \"1997-06-17T00:00:00\", \"1998-09-19T00:00:00\", \"1997-07-14T00:00:00\", \"1981-11-21T00:00:00\", \"1988-08-30T00:00:00\", \"1997-03-21T00:00:00\", \"1977-01-31T00:00:00\", \"1997-12-20T00:00:00\", \"1987-05-09T00:00:00\", \"1998-01-10T00:00:00\", \"1982-08-25T00:00:00\", \"1984-05-14T00:00:00\", \"1997-04-19T00:00:00\", \"1997-01-05T00:00:00\", \"1988-02-23T00:00:00\", \"1995-03-08T00:00:00\", \"1985-07-22T00:00:00\", \"1999-08-08T00:00:00\", \"1989-06-03T00:00:00\", \"1983-06-11T00:00:00\", \"1993-09-19T00:00:00\", \"1993-01-10T00:00:00\", \"1996-11-21T00:00:00\", \"1992-03-08T00:00:00\", \"1989-04-16T00:00:00\", \"1999-04-23T00:00:00\", \"1989-06-09T00:00:00\", \"1993-01-02T00:00:00\", \"1997-10-28T00:00:00\", \"1987-01-28T00:00:00\", \"1983-09-26T00:00:00\", \"1988-06-19T00:00:00\", \"1982-09-12T00:00:00\", \"1999-01-02T00:00:00\", \"1990-08-11T00:00:00\", \"1986-11-07T00:00:00\", \"1980-05-05T00:00:00\", \"2000-01-12T00:00:00\", \"1988-11-02T00:00:00\", \"1983-11-07T00:00:00\", \"1997-12-18T00:00:00\", \"1999-08-23T00:00:00\", \"1989-02-10T00:00:00\", \"1988-06-10T00:00:00\", \"1985-12-01T00:00:00\", \"1991-06-05T00:00:00\", \"1993-05-31T00:00:00\", \"1983-12-03T00:00:00\", \"1999-03-13T00:00:00\", \"2000-02-18T00:00:00\", \"1979-10-12T00:00:00\", \"1999-03-28T00:00:00\", \"1991-07-02T00:00:00\", \"1980-11-03T00:00:00\", \"1980-02-13T00:00:00\", \"1999-05-18T00:00:00\", \"2000-01-25T00:00:00\", \"1997-03-26T00:00:00\", \"1998-05-11T00:00:00\", \"1997-07-02T00:00:00\", \"1998-06-04T00:00:00\", \"1997-06-19T00:00:00\", \"1996-08-05T00:00:00\", \"1987-07-06T00:00:00\", \"1998-09-10T00:00:00\", \"1998-02-16T00:00:00\", \"1997-06-17T00:00:00\", \"1992-02-22T00:00:00\", \"1981-12-11T00:00:00\", \"1987-05-13T00:00:00\", \"1999-11-16T00:00:00\", \"1999-01-14T00:00:00\", \"1997-10-24T00:00:00\", \"1981-12-02T00:00:00\", \"1980-11-29T00:00:00\", \"1992-06-27T00:00:00\", \"1974-10-21T00:00:00\", \"1990-02-14T00:00:00\", \"1982-08-09T00:00:00\", \"1998-09-14T00:00:00\", \"1983-06-11T00:00:00\", \"1985-02-24T00:00:00\", \"1982-08-09T00:00:00\", \"1998-05-03T00:00:00\", \"1984-11-17T00:00:00\", \"1997-05-26T00:00:00\", \"1994-12-06T00:00:00\", \"1996-09-15T00:00:00\", \"1997-01-21T00:00:00\", \"1966-05-21T00:00:00\", \"1998-12-08T00:00:00\", \"1992-03-04T00:00:00\", \"1999-03-28T00:00:00\", \"1987-12-06T00:00:00\", \"1991-03-05T00:00:00\", \"1969-08-29T00:00:00\", \"1998-04-26T00:00:00\", \"1997-08-31T00:00:00\", \"1996-04-09T00:00:00\", \"1981-10-27T00:00:00\", \"1997-05-22T00:00:00\", \"1984-08-25T00:00:00\", \"1998-04-03T00:00:00\", \"1992-06-17T00:00:00\", \"1997-02-26T00:00:00\", \"1997-09-13T00:00:00\", \"1999-04-05T00:00:00\", \"1997-01-31T00:00:00\", \"1988-02-21T00:00:00\", \"1988-09-18T00:00:00\", \"1998-09-14T00:00:00\", \"1997-07-06T00:00:00\", \"1998-02-08T00:00:00\", \"1997-10-12T00:00:00\", \"1988-09-18T00:00:00\", \"1998-08-07T00:00:00\", \"1998-11-28T00:00:00\", \"1998-06-20T00:00:00\", \"1986-08-07T00:00:00\", \"1997-11-14T00:00:00\", \"1977-06-02T00:00:00\", \"1998-03-06T00:00:00\", \"1998-04-03T00:00:00\", \"1998-01-19T00:00:00\", \"1997-01-31T00:00:00\", \"1997-12-25T00:00:00\", \"1999-07-02T00:00:00\", \"1997-09-19T00:00:00\", \"1998-07-25T00:00:00\", \"1996-08-18T00:00:00\", \"1994-05-19T00:00:00\", \"1991-06-17T00:00:00\", \"1991-07-26T00:00:00\", \"1998-07-26T00:00:00\", \"1979-04-08T00:00:00\", \"1989-08-14T00:00:00\", \"1997-07-21T00:00:00\", \"1998-01-20T00:00:00\", \"1998-03-22T00:00:00\", \"1989-05-03T00:00:00\", \"1990-12-21T00:00:00\", \"1998-02-18T00:00:00\", \"1998-03-26T00:00:00\", \"1973-11-30T00:00:00\", \"1998-03-06T00:00:00\", \"1970-06-30T00:00:00\", \"1996-11-17T00:00:00\", \"1990-11-30T00:00:00\", \"1997-03-18T00:00:00\", \"1986-09-17T00:00:00\", \"1990-08-24T00:00:00\", \"1997-07-27T00:00:00\", \"1997-02-16T00:00:00\", \"1991-08-10T00:00:00\", \"1999-06-20T00:00:00\", \"1997-03-29T00:00:00\", \"1999-03-02T00:00:00\", \"1993-08-25T00:00:00\", \"1997-04-24T00:00:00\", \"1998-09-01T00:00:00\", \"1992-03-24T00:00:00\", \"1999-10-03T00:00:00\", \"1998-07-08T00:00:00\", \"1997-01-17T00:00:00\", \"1997-02-11T00:00:00\", \"1982-08-18T00:00:00\", \"1997-05-13T00:00:00\", \"1980-06-29T00:00:00\", \"1997-05-08T00:00:00\", \"1998-09-23T00:00:00\", \"1988-06-14T00:00:00\", \"1986-05-25T00:00:00\", \"1997-04-19T00:00:00\", \"1986-06-21T00:00:00\", \"1997-01-25T00:00:00\", \"1985-04-20T00:00:00\", \"1978-05-17T00:00:00\", \"1997-08-03T00:00:00\", \"1991-12-03T00:00:00\", \"1975-05-08T00:00:00\", \"1989-04-16T00:00:00\", \"1988-02-26T00:00:00\", \"1988-09-27T00:00:00\", \"1999-02-19T00:00:00\", \"1981-11-27T00:00:00\", \"1988-09-28T00:00:00\", \"1987-06-26T00:00:00\", \"1976-02-03T00:00:00\", \"1998-05-15T00:00:00\", \"1997-07-25T00:00:00\", \"1997-06-19T00:00:00\", \"1987-02-28T00:00:00\", \"1981-10-08T00:00:00\", \"1987-06-26T00:00:00\", \"1995-02-10T00:00:00\", \"1984-08-31T00:00:00\", \"1990-01-29T00:00:00\", \"1991-01-01T00:00:00\", \"1984-10-29T00:00:00\", \"1990-04-27T00:00:00\", \"1998-09-05T00:00:00\", \"1987-01-01T00:00:00\", \"1983-09-22T00:00:00\", \"1980-10-21T00:00:00\", \"1989-05-26T00:00:00\", \"1987-10-12T00:00:00\", \"1986-12-13T00:00:00\", \"1998-11-26T00:00:00\", \"1993-01-19T00:00:00\", \"1989-01-17T00:00:00\", \"1985-05-15T00:00:00\", \"1997-01-16T00:00:00\", \"1981-11-25T00:00:00\", \"1989-02-05T00:00:00\", \"1991-03-25T00:00:00\", \"1997-07-18T00:00:00\", \"1992-03-31T00:00:00\", \"1997-06-28T00:00:00\", \"1996-01-19T00:00:00\", \"1987-11-22T00:00:00\", \"1972-04-13T00:00:00\", \"1978-01-11T00:00:00\", \"1999-05-07T00:00:00\", \"2001-08-20T00:00:00\", \"1986-09-02T00:00:00\", \"1999-03-02T00:00:00\", \"1999-05-03T00:00:00\", \"1986-05-14T00:00:00\", \"1997-09-18T00:00:00\", \"1998-12-31T00:00:00\", \"1998-10-15T00:00:00\", \"1989-08-27T00:00:00\", \"1999-10-28T00:00:00\", \"2000-03-20T00:00:00\", \"1985-01-31T00:00:00\", \"1997-10-08T00:00:00\", \"1997-12-29T00:00:00\", \"1997-12-30T00:00:00\", \"2000-04-24T00:00:00\", \"1999-05-19T00:00:00\", \"1989-07-28T00:00:00\", \"1994-01-29T00:00:00\", \"2000-02-09T00:00:00\", \"1988-08-02T00:00:00\", \"2001-12-19T00:00:00\", \"2000-05-03T00:00:00\", \"1999-07-09T00:00:00\", \"1999-02-11T00:00:00\", \"1989-08-08T00:00:00\", \"1986-03-10T00:00:00\", \"2000-02-07T00:00:00\", \"2000-06-14T00:00:00\", \"2000-09-22T00:00:00\", \"1987-02-28T00:00:00\", \"1999-07-19T00:00:00\", \"1999-09-19T00:00:00\", \"2000-08-05T00:00:00\", \"1999-05-16T00:00:00\", \"1999-09-05T00:00:00\", \"1999-08-24T00:00:00\", \"1999-05-16T00:00:00\", \"1997-03-17T00:00:00\", \"1985-04-25T00:00:00\", \"1999-08-23T00:00:00\", \"1989-02-28T00:00:00\", \"2000-12-13T00:00:00\", \"1999-04-25T00:00:00\", \"1997-05-13T00:00:00\", \"1998-08-28T00:00:00\", \"2000-09-12T00:00:00\", \"1997-07-13T00:00:00\", \"1999-11-12T00:00:00\", \"1991-08-03T00:00:00\", \"1990-07-02T00:00:00\", \"1996-02-03T00:00:00\", \"1991-08-03T00:00:00\", \"1999-03-16T00:00:00\", \"1997-07-14T00:00:00\", \"1987-05-22T00:00:00\", \"1984-03-09T00:00:00\", \"1981-12-06T00:00:00\", \"1999-04-30T00:00:00\", \"2000-09-15T00:00:00\", \"1996-09-22T00:00:00\", \"1997-07-25T00:00:00\", \"1994-10-04T00:00:00\", \"2001-04-14T00:00:00\", \"1997-12-23T00:00:00\", \"1993-02-18T00:00:00\", \"1999-10-20T00:00:00\", \"1982-02-05T00:00:00\", \"1989-03-17T00:00:00\", \"1997-08-25T00:00:00\", \"1989-07-17T00:00:00\", \"1997-02-27T00:00:00\", \"1995-11-21T00:00:00\", \"2000-06-06T00:00:00\", \"1998-01-14T00:00:00\", \"1988-05-07T00:00:00\", \"1997-12-14T00:00:00\", \"1999-11-01T00:00:00\", \"1999-07-25T00:00:00\", \"1999-06-30T00:00:00\", \"1989-05-25T00:00:00\", \"1988-08-21T00:00:00\", \"1996-07-10T00:00:00\", \"1999-07-13T00:00:00\", \"1994-04-23T00:00:00\", \"1995-03-05T00:00:00\", \"2000-08-28T00:00:00\", \"1999-01-06T00:00:00\", \"1998-10-13T00:00:00\", \"1999-01-03T00:00:00\", \"1998-10-13T00:00:00\", \"1999-06-22T00:00:00\", \"1973-08-27T00:00:00\", \"1998-02-03T00:00:00\", \"1977-11-04T00:00:00\", \"1998-09-28T00:00:00\", \"1983-06-19T00:00:00\", \"1998-05-26T00:00:00\", \"1995-10-31T00:00:00\", \"1997-01-14T00:00:00\", \"1978-12-02T00:00:00\", \"1998-04-28T00:00:00\", \"1994-06-29T00:00:00\", \"1996-11-22T00:00:00\", \"1988-06-14T00:00:00\", \"1998-01-28T00:00:00\", \"1997-01-06T00:00:00\", \"1988-02-16T00:00:00\", \"1999-01-21T00:00:00\", \"1978-07-08T00:00:00\", \"1998-08-13T00:00:00\", \"1997-05-23T00:00:00\", \"1998-05-07T00:00:00\", \"1998-10-03T00:00:00\", \"1970-05-20T00:00:00\", \"1973-05-16T00:00:00\", \"1990-09-08T00:00:00\", \"1998-08-19T00:00:00\", \"1997-04-14T00:00:00\", \"1999-01-27T00:00:00\", \"1997-09-20T00:00:00\", \"1989-08-25T00:00:00\", \"1999-08-04T00:00:00\", \"2000-12-17T00:00:00\", \"1985-01-11T00:00:00\", \"1997-11-26T00:00:00\", \"1987-09-05T00:00:00\", \"1994-04-02T00:00:00\", \"1998-05-15T00:00:00\", \"1999-09-25T00:00:00\", \"1982-02-20T00:00:00\", \"2000-11-29T00:00:00\", \"1978-09-06T00:00:00\", \"1998-05-03T00:00:00\", \"2001-08-06T00:00:00\", \"1976-08-13T00:00:00\", \"1997-10-14T00:00:00\", \"1963-12-22T00:00:00\", \"1987-11-15T00:00:00\", \"1990-08-29T00:00:00\", \"1999-02-09T00:00:00\", \"1986-08-07T00:00:00\", \"1985-02-24T00:00:00\", \"1983-12-08T00:00:00\", \"1985-09-01T00:00:00\", \"1993-11-21T00:00:00\", \"1999-03-21T00:00:00\", \"1979-02-28T00:00:00\", \"1983-12-31T00:00:00\", \"1998-03-14T00:00:00\", \"1986-07-27T00:00:00\", \"1998-06-25T00:00:00\", \"1998-08-25T00:00:00\", \"1997-10-02T00:00:00\", \"1998-06-23T00:00:00\", \"1980-04-10T00:00:00\", \"1986-12-11T00:00:00\", \"1976-08-11T00:00:00\", \"1998-05-12T00:00:00\", \"1978-05-21T00:00:00\", \"1998-05-19T00:00:00\", \"1998-03-11T00:00:00\", \"1990-07-25T00:00:00\", \"1964-11-10T00:00:00\", \"1991-03-03T00:00:00\", \"1998-09-25T00:00:00\", \"1997-05-08T00:00:00\", \"1989-09-09T00:00:00\", \"1998-04-22T00:00:00\", \"1978-07-12T00:00:00\", \"1983-08-12T00:00:00\", \"2000-02-11T00:00:00\", \"1997-07-03T00:00:00\", \"1999-02-17T00:00:00\", \"1994-09-22T00:00:00\", \"1999-05-06T00:00:00\", \"1969-02-09T00:00:00\", \"1997-04-06T00:00:00\", \"1985-06-05T00:00:00\", \"1999-02-11T00:00:00\", \"1983-11-05T00:00:00\", \"1970-05-07T00:00:00\", \"2000-09-30T00:00:00\", \"1997-10-07T00:00:00\", \"2000-06-22T00:00:00\", \"1981-05-02T00:00:00\", \"2000-09-22T00:00:00\", \"1994-01-17T00:00:00\", \"1997-07-04T00:00:00\", \"1987-08-02T00:00:00\", \"1998-06-24T00:00:00\", \"1998-12-03T00:00:00\", \"2000-11-06T00:00:00\", \"1962-08-02T00:00:00\", \"1998-04-15T00:00:00\", \"1988-02-18T00:00:00\", \"2000-05-07T00:00:00\", \"1986-02-06T00:00:00\", \"1973-12-16T00:00:00\", \"1999-09-15T00:00:00\", \"1991-02-28T00:00:00\", \"1976-05-11T00:00:00\", \"1982-12-12T00:00:00\", \"2000-05-29T00:00:00\", \"1997-06-07T00:00:00\", \"1990-05-06T00:00:00\", \"1985-07-03T00:00:00\", \"1997-10-26T00:00:00\", \"1999-06-25T00:00:00\", \"1997-12-10T00:00:00\", \"1994-08-30T00:00:00\", \"1999-04-23T00:00:00\", \"1987-11-25T00:00:00\", \"1991-03-22T00:00:00\", \"1995-10-06T00:00:00\", \"1997-11-08T00:00:00\", \"1985-05-06T00:00:00\", \"1991-12-04T00:00:00\", \"1999-06-10T00:00:00\", \"1956-02-23T00:00:00\", \"1992-07-13T00:00:00\", \"1987-01-27T00:00:00\", \"1993-11-11T00:00:00\", \"1979-12-29T00:00:00\", \"1994-08-25T00:00:00\", \"1995-05-07T00:00:00\", \"1985-06-02T00:00:00\", \"1985-12-02T00:00:00\", \"1989-11-09T00:00:00\", \"1996-09-22T00:00:00\", \"1998-05-11T00:00:00\", \"1991-12-30T00:00:00\", \"1994-10-15T00:00:00\", \"1992-02-15T00:00:00\", \"1993-11-13T00:00:00\", \"2000-03-14T00:00:00\", \"1999-02-26T00:00:00\", \"1996-09-13T00:00:00\", \"2001-03-17T00:00:00\", \"1982-04-18T00:00:00\", \"1997-05-27T00:00:00\", \"1998-02-13T00:00:00\", \"1995-10-20T00:00:00\", \"1994-01-14T00:00:00\", \"2000-08-02T00:00:00\", \"1980-09-13T00:00:00\", \"1997-06-04T00:00:00\", \"1998-11-25T00:00:00\", \"1996-09-07T00:00:00\", \"1999-06-27T00:00:00\", \"1966-05-15T00:00:00\", \"1997-03-13T00:00:00\", \"2001-07-21T00:00:00\", \"1988-08-11T00:00:00\", \"1997-08-26T00:00:00\", \"1999-09-14T00:00:00\", \"1970-09-20T00:00:00\", \"1989-11-04T00:00:00\", \"1998-12-07T00:00:00\", \"1992-07-27T00:00:00\", \"1983-12-07T00:00:00\", \"1993-06-18T00:00:00\", \"1998-08-15T00:00:00\", \"1997-04-16T00:00:00\", \"1997-07-14T00:00:00\", \"1966-08-22T00:00:00\", \"1997-05-25T00:00:00\", \"1992-03-18T00:00:00\", \"1991-05-18T00:00:00\", \"1998-10-24T00:00:00\", \"1998-12-22T00:00:00\", \"1998-01-14T00:00:00\", \"1985-02-24T00:00:00\", \"1997-10-16T00:00:00\", \"1991-08-17T00:00:00\", \"1998-07-10T00:00:00\", \"1990-08-18T00:00:00\", \"1991-03-02T00:00:00\", \"1998-03-15T00:00:00\", \"1992-05-20T00:00:00\", \"1999-05-07T00:00:00\", \"1979-06-15T00:00:00\", \"1998-05-10T00:00:00\", \"1998-11-12T00:00:00\", \"1996-07-08T00:00:00\", \"1997-08-02T00:00:00\", \"1997-12-25T00:00:00\", \"1990-03-03T00:00:00\", \"1997-05-03T00:00:00\", \"1982-09-01T00:00:00\", \"1990-08-16T00:00:00\", \"1999-05-20T00:00:00\", \"1997-07-29T00:00:00\", \"1980-04-22T00:00:00\", \"1980-05-15T00:00:00\", \"1991-09-13T00:00:00\", \"1997-04-09T00:00:00\", \"1980-01-18T00:00:00\", \"1992-04-19T00:00:00\", \"2000-02-06T00:00:00\", \"1992-12-04T00:00:00\", \"1986-09-17T00:00:00\", \"1989-02-17T00:00:00\", \"1997-09-18T00:00:00\", \"1998-04-12T00:00:00\", \"1990-10-29T00:00:00\", \"1998-10-11T00:00:00\", \"1984-09-13T00:00:00\", \"2000-08-17T00:00:00\", \"1986-06-17T00:00:00\", \"1999-05-12T00:00:00\", \"1988-06-30T00:00:00\", \"1998-04-26T00:00:00\", \"1993-09-18T00:00:00\", \"1993-06-29T00:00:00\", \"1993-06-15T00:00:00\", \"1995-03-18T00:00:00\", \"2001-03-20T00:00:00\", \"1990-10-29T00:00:00\", \"1998-05-16T00:00:00\", \"1999-02-23T00:00:00\", \"1999-09-28T00:00:00\", \"1981-08-18T00:00:00\", \"1997-02-13T00:00:00\", \"1993-10-05T00:00:00\", \"1991-06-29T00:00:00\", \"1980-03-18T00:00:00\", \"1983-11-06T00:00:00\", \"2001-09-12T00:00:00\", \"1978-12-19T00:00:00\", \"1998-06-17T00:00:00\", \"1991-12-22T00:00:00\", \"1992-07-31T00:00:00\", \"1999-12-08T00:00:00\", \"1990-02-08T00:00:00\", \"1989-10-18T00:00:00\", \"1993-06-13T00:00:00\", \"2000-03-15T00:00:00\", \"2001-05-11T00:00:00\", \"1994-04-28T00:00:00\", \"2000-06-22T00:00:00\", \"1993-05-10T00:00:00\", \"2000-10-22T00:00:00\", \"1998-01-06T00:00:00\", \"2001-02-14T00:00:00\", \"1999-08-19T00:00:00\", \"1978-04-23T00:00:00\", \"2000-06-06T00:00:00\", \"1979-07-16T00:00:00\", \"1983-06-28T00:00:00\", \"2000-03-10T00:00:00\", \"2000-03-31T00:00:00\", \"1977-02-07T00:00:00\", \"1999-12-23T00:00:00\", \"1992-05-21T00:00:00\", \"1999-02-11T00:00:00\", \"1999-08-15T00:00:00\", \"1996-09-16T00:00:00\", \"2000-03-31T00:00:00\", \"1991-03-24T00:00:00\", \"1999-10-24T00:00:00\", \"2000-04-12T00:00:00\", \"1996-06-07T00:00:00\", \"1997-05-23T00:00:00\", \"1999-05-30T00:00:00\", \"1989-05-23T00:00:00\", \"1992-01-04T00:00:00\", \"1999-04-20T00:00:00\", \"1997-03-19T00:00:00\", \"1995-08-19T00:00:00\", \"1986-12-05T00:00:00\", \"1999-03-23T00:00:00\", \"1999-04-25T00:00:00\", \"1984-03-03T00:00:00\", \"1999-04-20T00:00:00\", \"1988-11-22T00:00:00\", \"1999-08-29T00:00:00\", \"1987-03-18T00:00:00\", \"1985-04-29T00:00:00\", \"2001-03-22T00:00:00\", \"1985-07-07T00:00:00\", \"1999-02-04T00:00:00\", \"1986-03-27T00:00:00\", \"2000-08-05T00:00:00\", \"1986-04-22T00:00:00\", \"1998-04-03T00:00:00\", \"2000-02-26T00:00:00\", \"1999-08-29T00:00:00\", \"1999-04-25T00:00:00\", \"2000-06-11T00:00:00\", \"2000-01-31T00:00:00\", \"1975-01-08T00:00:00\", \"1999-01-23T00:00:00\", \"1999-08-16T00:00:00\", \"1989-03-20T00:00:00\", \"1998-01-10T00:00:00\", \"2000-06-09T00:00:00\", \"1999-08-24T00:00:00\", \"1984-07-22T00:00:00\", \"1999-04-13T00:00:00\", \"1990-05-24T00:00:00\", \"2000-12-28T00:00:00\", \"1997-02-06T00:00:00\", \"1999-10-11T00:00:00\", \"1993-03-18T00:00:00\", \"1998-05-13T00:00:00\", \"2000-04-27T00:00:00\", \"1992-01-20T00:00:00\", \"1999-08-23T00:00:00\", \"1999-03-08T00:00:00\", \"1966-07-09T00:00:00\", \"1999-06-13T00:00:00\", \"1990-01-10T00:00:00\", \"2000-04-25T00:00:00\", \"1999-05-15T00:00:00\", \"1985-02-14T00:00:00\", \"2000-04-24T00:00:00\", \"1997-11-05T00:00:00\", \"2000-11-16T00:00:00\", \"1992-01-04T00:00:00\", \"1999-03-11T00:00:00\", \"2000-04-10T00:00:00\", \"2001-03-07T00:00:00\", \"1990-04-15T00:00:00\", \"1999-08-31T00:00:00\", \"1999-12-01T00:00:00\", \"1986-01-15T00:00:00\", \"2000-06-29T00:00:00\", \"2000-10-16T00:00:00\", \"1982-06-10T00:00:00\", \"1999-09-19T00:00:00\", \"2001-12-17T00:00:00\", \"1999-11-18T00:00:00\", \"1997-01-06T00:00:00\", \"2000-03-17T00:00:00\", \"1999-05-18T00:00:00\", \"1986-08-10T00:00:00\", \"1986-05-05T00:00:00\", \"1999-02-11T00:00:00\", \"1999-03-04T00:00:00\", \"1998-05-15T00:00:00\", \"1993-08-19T00:00:00\", \"1960-09-21T00:00:00\", \"1984-02-08T00:00:00\", \"1998-02-20T00:00:00\", \"2001-04-10T00:00:00\", \"1992-11-03T00:00:00\", \"1990-04-09T00:00:00\", \"1997-12-02T00:00:00\", \"1982-02-18T00:00:00\", \"1996-12-03T00:00:00\", \"1978-01-03T00:00:00\", \"1976-03-04T00:00:00\", \"1997-01-11T00:00:00\", \"1999-10-14T00:00:00\", \"2000-07-05T00:00:00\", \"1997-03-26T00:00:00\", \"1991-02-28T00:00:00\", \"1992-01-03T00:00:00\", \"2000-06-01T00:00:00\", \"1984-09-03T00:00:00\", \"2000-07-29T00:00:00\", \"1997-08-08T00:00:00\", \"1988-01-04T00:00:00\", \"1997-07-22T00:00:00\", \"1997-04-19T00:00:00\", \"1999-03-15T00:00:00\", \"1989-09-14T00:00:00\", \"1997-03-06T00:00:00\", \"1989-04-29T00:00:00\", \"1997-03-24T00:00:00\", \"1999-11-30T00:00:00\", \"1988-12-24T00:00:00\", \"1998-03-28T00:00:00\", \"1997-09-09T00:00:00\", \"2000-11-18T00:00:00\", \"1997-01-20T00:00:00\", \"1984-11-03T00:00:00\", \"1998-05-16T00:00:00\", \"1982-01-16T00:00:00\", \"1998-01-25T00:00:00\", \"1997-07-04T00:00:00\", \"1999-11-08T00:00:00\", \"1994-11-20T00:00:00\", \"1981-08-08T00:00:00\", \"1998-06-04T00:00:00\", \"1996-06-09T00:00:00\", \"1986-06-14T00:00:00\", \"1991-06-04T00:00:00\", \"2000-01-21T00:00:00\", \"1991-08-13T00:00:00\", \"1998-12-09T00:00:00\", \"1982-10-31T00:00:00\", \"1985-06-15T00:00:00\", \"1997-09-29T00:00:00\", \"1998-05-18T00:00:00\", \"1985-11-25T00:00:00\", \"1982-01-23T00:00:00\", \"1997-07-11T00:00:00\", \"1982-12-31T00:00:00\", \"2000-05-26T00:00:00\", \"1996-03-05T00:00:00\", \"1998-06-10T00:00:00\", \"1984-08-15T00:00:00\", \"1987-05-09T00:00:00\", \"1998-04-27T00:00:00\", \"1999-06-29T00:00:00\", \"1985-02-21T00:00:00\", \"1988-12-24T00:00:00\", \"1995-02-09T00:00:00\", \"1998-02-13T00:00:00\", \"1997-09-27T00:00:00\", \"1993-01-12T00:00:00\", \"1989-05-10T00:00:00\", \"1998-05-31T00:00:00\", \"1983-06-13T00:00:00\", \"2000-06-09T00:00:00\", \"1996-09-26T00:00:00\", \"1998-02-08T00:00:00\", \"1984-04-11T00:00:00\", \"1998-11-04T00:00:00\", \"1995-04-13T00:00:00\", \"1982-05-03T00:00:00\", \"1999-12-21T00:00:00\", \"1999-01-03T00:00:00\", \"1998-08-28T00:00:00\", \"1992-09-20T00:00:00\", \"1984-04-18T00:00:00\", \"2000-04-20T00:00:00\", \"1998-02-10T00:00:00\", \"1984-04-21T00:00:00\", \"1999-04-25T00:00:00\", \"1996-07-15T00:00:00\", \"1983-08-29T00:00:00\", \"1995-05-15T00:00:00\", \"2000-09-11T00:00:00\", \"1992-06-05T00:00:00\", \"1986-02-04T00:00:00\", \"1985-12-09T00:00:00\", \"1997-02-03T00:00:00\", \"1985-03-10T00:00:00\", \"1996-02-19T00:00:00\", \"1986-09-18T00:00:00\", \"1993-09-04T00:00:00\", \"1988-12-29T00:00:00\", \"1989-06-22T00:00:00\", \"1985-06-02T00:00:00\", \"1988-09-30T00:00:00\", \"1995-05-26T00:00:00\", \"1985-06-30T00:00:00\", \"1984-07-15T00:00:00\", \"2001-07-27T00:00:00\", \"1996-06-10T00:00:00\", \"1998-03-13T00:00:00\", \"1983-08-04T00:00:00\", \"1999-05-12T00:00:00\", \"2000-01-27T00:00:00\", \"1994-09-02T00:00:00\", \"1982-02-17T00:00:00\", \"1995-07-29T00:00:00\", \"1982-03-20T00:00:00\", \"2000-07-26T00:00:00\", \"1985-08-22T00:00:00\", \"1983-04-22T00:00:00\", \"1977-08-29T00:00:00\", \"1999-04-10T00:00:00\", \"1999-07-14T00:00:00\", \"1997-11-12T00:00:00\", \"1987-07-30T00:00:00\", \"1993-11-11T00:00:00\", \"1999-03-16T00:00:00\", \"1995-08-08T00:00:00\", \"1983-02-19T00:00:00\", \"1992-02-01T00:00:00\", \"1994-08-02T00:00:00\", \"1996-03-09T00:00:00\", \"1999-02-10T00:00:00\", \"1999-02-26T00:00:00\", \"1998-03-02T00:00:00\", \"2000-02-21T00:00:00\", \"1999-03-18T00:00:00\", \"1986-12-08T00:00:00\", \"2000-02-18T00:00:00\", \"1995-03-27T00:00:00\", \"1999-03-18T00:00:00\", \"2000-04-28T00:00:00\", \"1988-08-12T00:00:00\", \"1999-02-05T00:00:00\", \"1998-11-24T00:00:00\", \"2000-08-05T00:00:00\", \"1992-04-28T00:00:00\", \"1987-09-07T00:00:00\", \"1994-06-23T00:00:00\", \"1999-01-12T00:00:00\", \"1995-04-16T00:00:00\", \"1999-11-19T00:00:00\", \"1998-08-20T00:00:00\", \"1992-10-11T00:00:00\", \"1984-04-09T00:00:00\", \"1991-04-10T00:00:00\", \"1994-08-17T00:00:00\", \"1990-11-15T00:00:00\", \"1991-08-11T00:00:00\", \"1996-04-02T00:00:00\", \"1996-06-21T00:00:00\", \"1987-09-19T00:00:00\", \"1999-05-12T00:00:00\", \"1999-12-08T00:00:00\", \"1995-09-13T00:00:00\", \"1995-05-12T00:00:00\", \"1994-03-18T00:00:00\", \"1989-03-01T00:00:00\", \"1999-09-30T00:00:00\", \"1994-04-19T00:00:00\", \"1985-11-08T00:00:00\", \"1996-07-07T00:00:00\", \"1984-09-02T00:00:00\", \"1999-06-05T00:00:00\", \"2000-04-04T00:00:00\", \"1982-12-31T00:00:00\", \"1995-05-29T00:00:00\", \"1994-03-27T00:00:00\", \"2000-06-01T00:00:00\", \"2000-08-09T00:00:00\", \"1995-04-25T00:00:00\", \"1993-06-10T00:00:00\", \"1996-04-15T00:00:00\", \"1982-06-07T00:00:00\", \"1999-05-05T00:00:00\", \"1999-08-26T00:00:00\", \"1995-08-20T00:00:00\", \"1989-05-23T00:00:00\", \"1988-05-08T00:00:00\", \"1999-06-04T00:00:00\", \"1995-03-13T00:00:00\", \"1996-07-18T00:00:00\", \"1999-03-14T00:00:00\", \"1999-03-29T00:00:00\", \"1994-12-21T00:00:00\", \"1989-06-04T00:00:00\", \"2001-04-28T00:00:00\", \"1992-12-28T00:00:00\", \"1992-03-13T00:00:00\", \"1991-02-08T00:00:00\", \"1999-02-17T00:00:00\", \"2000-01-16T00:00:00\", \"1996-07-13T00:00:00\", \"1993-07-17T00:00:00\", \"2001-05-24T00:00:00\", \"1997-04-22T00:00:00\", \"2001-05-07T00:00:00\", \"1997-02-10T00:00:00\", \"1979-07-10T00:00:00\", \"1997-12-20T00:00:00\", \"2000-12-26T00:00:00\", \"2000-08-29T00:00:00\", \"1998-10-19T00:00:00\", \"1997-02-06T00:00:00\", \"1998-04-22T00:00:00\", \"1997-07-13T00:00:00\", \"1992-11-14T00:00:00\", \"1999-06-05T00:00:00\", \"1998-10-22T00:00:00\", \"2000-11-27T00:00:00\", \"1988-12-29T00:00:00\", \"1992-05-31T00:00:00\", \"1991-05-03T00:00:00\", \"1990-04-23T00:00:00\", \"1988-05-08T00:00:00\", \"1985-05-31T00:00:00\", \"1990-06-23T00:00:00\", \"1994-04-05T00:00:00\", \"1993-04-22T00:00:00\", \"1986-03-19T00:00:00\", \"1997-01-21T00:00:00\", \"1997-11-25T00:00:00\", \"1993-09-23T00:00:00\", \"1960-01-17T00:00:00\", \"1989-06-19T00:00:00\", \"1995-06-15T00:00:00\", \"1991-02-07T00:00:00\", \"1979-02-12T00:00:00\", \"1988-03-05T00:00:00\", \"1994-12-15T00:00:00\", \"1993-02-25T00:00:00\", \"1996-03-15T00:00:00\", \"1991-08-26T00:00:00\", \"1994-04-24T00:00:00\", \"1990-07-05T00:00:00\", \"1983-10-05T00:00:00\", \"1995-01-28T00:00:00\", \"1994-12-26T00:00:00\", \"1989-08-27T00:00:00\", \"1987-03-22T00:00:00\", \"1980-04-22T00:00:00\", \"1993-12-06T00:00:00\", \"1987-07-20T00:00:00\", \"1986-12-24T00:00:00\", \"1987-12-21T00:00:00\", \"1980-04-05T00:00:00\", \"1995-07-26T00:00:00\", \"1988-06-21T00:00:00\", \"1987-11-26T00:00:00\", \"1982-10-19T00:00:00\", \"1988-09-06T00:00:00\", \"1997-09-30T00:00:00\", \"1995-09-01T00:00:00\", \"1990-11-01T00:00:00\", \"1980-05-24T00:00:00\", \"2000-06-06T00:00:00\", \"1976-01-14T00:00:00\", \"1974-03-20T00:00:00\", \"1984-05-11T00:00:00\", \"2000-08-25T00:00:00\", \"1997-07-02T00:00:00\", \"1999-07-30T00:00:00\", \"1988-05-07T00:00:00\", \"1997-11-14T00:00:00\", \"1999-09-02T00:00:00\", \"1978-09-20T00:00:00\", \"1984-05-22T00:00:00\", \"1966-11-12T00:00:00\", \"1977-03-04T00:00:00\", \"2000-05-31T00:00:00\", \"1987-10-12T00:00:00\", \"1998-03-06T00:00:00\", \"1999-11-14T00:00:00\", \"1997-07-23T00:00:00\", \"1997-01-02T00:00:00\", \"1999-05-15T00:00:00\", \"1998-01-18T00:00:00\", \"1998-05-01T00:00:00\", \"1992-03-15T00:00:00\", \"1998-04-10T00:00:00\", \"1990-06-12T00:00:00\", \"1998-11-10T00:00:00\", \"1994-02-25T00:00:00\", \"1982-09-08T00:00:00\", \"1992-05-03T00:00:00\", \"1998-02-18T00:00:00\", \"1987-02-18T00:00:00\", \"1999-07-29T00:00:00\", \"1996-10-20T00:00:00\", \"2000-06-19T00:00:00\", \"1992-02-20T00:00:00\", \"1995-10-08T00:00:00\", \"1992-10-19T00:00:00\", \"1999-05-06T00:00:00\", \"1998-09-19T00:00:00\", \"1978-03-16T00:00:00\", \"1998-11-04T00:00:00\", \"1998-09-01T00:00:00\", \"1998-05-08T00:00:00\", \"1987-09-30T00:00:00\", \"1995-01-30T00:00:00\", \"2000-05-07T00:00:00\", \"1998-12-24T00:00:00\", \"2000-07-06T00:00:00\", \"1991-05-17T00:00:00\", \"2001-09-26T00:00:00\", \"1990-08-04T00:00:00\", \"1994-09-09T00:00:00\", \"1987-04-04T00:00:00\", \"1991-04-07T00:00:00\", \"2000-10-24T00:00:00\", \"1999-10-17T00:00:00\", \"1989-07-17T00:00:00\", \"1992-05-01T00:00:00\", \"2000-02-20T00:00:00\", \"1984-05-09T00:00:00\", \"2000-06-27T00:00:00\", \"1999-08-19T00:00:00\", \"1998-02-19T00:00:00\", \"1998-03-06T00:00:00\", \"1998-06-13T00:00:00\", \"1997-06-14T00:00:00\", \"1997-07-30T00:00:00\", \"1998-12-27T00:00:00\", \"1990-01-21T00:00:00\", \"1998-06-29T00:00:00\", \"1999-03-17T00:00:00\", \"2000-05-28T00:00:00\", \"1992-06-11T00:00:00\", \"1991-03-08T00:00:00\", \"1999-07-24T00:00:00\", \"1974-10-30T00:00:00\", \"1993-01-04T00:00:00\", \"1993-12-24T00:00:00\", \"1975-10-08T00:00:00\", \"1995-03-13T00:00:00\", \"1999-11-08T00:00:00\", \"1993-06-15T00:00:00\", \"1995-06-18T00:00:00\", \"1992-12-04T00:00:00\", \"1992-12-28T00:00:00\", \"1994-08-29T00:00:00\", \"1988-02-26T00:00:00\", \"1991-04-29T00:00:00\", \"1994-04-24T00:00:00\", \"1999-05-09T00:00:00\", \"1995-06-18T00:00:00\", \"1978-11-07T00:00:00\", \"1999-04-25T00:00:00\", \"1994-09-06T00:00:00\", \"1992-02-22T00:00:00\", \"1984-01-09T00:00:00\", \"1994-03-16T00:00:00\", \"1995-06-28T00:00:00\", \"1995-02-07T00:00:00\", \"1991-09-27T00:00:00\", \"1992-07-17T00:00:00\", \"1996-10-24T00:00:00\", \"1994-01-20T00:00:00\", \"1991-10-22T00:00:00\", \"1991-09-25T00:00:00\", \"1990-03-01T00:00:00\", \"1993-07-26T00:00:00\", \"1995-12-21T00:00:00\", \"1983-07-25T00:00:00\", \"1991-08-26T00:00:00\", \"1998-03-07T00:00:00\", \"1995-03-08T00:00:00\", \"1997-12-29T00:00:00\", \"1994-02-20T00:00:00\", \"1993-12-04T00:00:00\", \"1993-05-07T00:00:00\", \"1996-03-20T00:00:00\", \"1993-10-13T00:00:00\", \"1997-04-07T00:00:00\", \"1991-09-26T00:00:00\", \"1998-02-07T00:00:00\", \"1999-05-06T00:00:00\", \"1999-08-09T00:00:00\", \"1996-05-20T00:00:00\", \"1999-05-01T00:00:00\", \"1997-04-13T00:00:00\", \"1999-12-13T00:00:00\", \"2000-01-15T00:00:00\", \"1997-04-25T00:00:00\", \"1997-12-23T00:00:00\", \"1999-04-12T00:00:00\", \"1998-08-31T00:00:00\", \"1981-09-01T00:00:00\", \"1991-04-28T00:00:00\", \"1983-05-20T00:00:00\", \"1986-11-18T00:00:00\", \"1997-07-07T00:00:00\", \"1997-04-28T00:00:00\", \"1997-10-07T00:00:00\", \"1998-03-27T00:00:00\", \"1998-04-30T00:00:00\", \"1998-01-05T00:00:00\", \"1997-01-03T00:00:00\", \"1999-03-16T00:00:00\", \"1998-01-02T00:00:00\", \"1997-04-10T00:00:00\", \"1999-05-15T00:00:00\", \"1998-03-31T00:00:00\", \"1998-05-31T00:00:00\", \"1999-07-05T00:00:00\", \"1997-11-27T00:00:00\", \"1997-03-02T00:00:00\", \"1998-06-13T00:00:00\", \"1998-06-02T00:00:00\", \"1999-03-09T00:00:00\", \"1997-05-16T00:00:00\", \"1999-08-25T00:00:00\", \"1997-11-13T00:00:00\", \"1998-07-18T00:00:00\", \"1997-05-03T00:00:00\", \"1997-10-28T00:00:00\", \"1997-01-25T00:00:00\", \"1992-09-21T00:00:00\", \"1999-11-02T00:00:00\", \"1998-03-26T00:00:00\", \"1990-12-05T00:00:00\", \"1998-12-07T00:00:00\", \"1997-08-04T00:00:00\", \"1999-05-09T00:00:00\", \"1994-01-13T00:00:00\", \"1986-04-16T00:00:00\", \"2001-12-07T00:00:00\", \"1994-02-06T00:00:00\", \"1983-05-16T00:00:00\", \"1977-12-25T00:00:00\", \"1998-10-07T00:00:00\", \"1999-09-04T00:00:00\", \"1986-12-09T00:00:00\", \"1980-05-15T00:00:00\", \"1986-12-09T00:00:00\", \"1989-03-07T00:00:00\", \"1986-09-20T00:00:00\", \"1985-12-05T00:00:00\", \"1974-02-01T00:00:00\", \"1990-09-06T00:00:00\", \"1994-05-12T00:00:00\", \"1999-06-24T00:00:00\", \"1991-09-18T00:00:00\", \"1998-01-26T00:00:00\", \"1995-09-05T00:00:00\", \"1997-02-03T00:00:00\", \"1989-04-27T00:00:00\", \"1981-09-07T00:00:00\", \"1992-01-30T00:00:00\", \"1983-12-05T00:00:00\", \"1991-04-03T00:00:00\", \"1991-02-14T00:00:00\", \"1993-11-15T00:00:00\", \"1991-05-26T00:00:00\", \"1987-08-11T00:00:00\", \"1995-06-09T00:00:00\", \"1985-09-19T00:00:00\", \"1984-02-17T00:00:00\", \"1994-02-23T00:00:00\", \"1998-10-11T00:00:00\", \"1978-04-04T00:00:00\", \"1997-09-02T00:00:00\", \"1966-06-08T00:00:00\", \"1995-10-12T00:00:00\", \"1993-09-23T00:00:00\", \"1983-07-25T00:00:00\", \"1983-03-07T00:00:00\", \"1986-07-14T00:00:00\", \"1992-02-17T00:00:00\", \"1996-04-17T00:00:00\", \"1992-02-27T00:00:00\", \"1996-02-13T00:00:00\", \"1981-08-21T00:00:00\", \"1986-07-09T00:00:00\", \"1999-10-04T00:00:00\", \"1992-09-22T00:00:00\", \"2001-10-26T00:00:00\", \"1985-06-20T00:00:00\", \"1992-10-13T00:00:00\", \"1999-05-17T00:00:00\", \"1999-09-02T00:00:00\", \"1994-05-11T00:00:00\", \"1999-05-15T00:00:00\", \"2000-07-27T00:00:00\", \"1993-09-13T00:00:00\", \"1999-01-03T00:00:00\", \"1999-08-04T00:00:00\", \"1999-07-06T00:00:00\", \"2000-11-23T00:00:00\", \"1982-11-05T00:00:00\", \"2000-05-07T00:00:00\", \"1999-03-16T00:00:00\", \"1993-07-06T00:00:00\", \"1999-10-23T00:00:00\", \"2000-02-20T00:00:00\", \"1989-11-19T00:00:00\", \"1999-08-20T00:00:00\", \"1999-10-07T00:00:00\", \"2000-02-03T00:00:00\", \"1984-04-25T00:00:00\", \"1994-08-18T00:00:00\", \"1999-06-03T00:00:00\", \"1993-10-15T00:00:00\", \"2001-02-26T00:00:00\", \"2000-07-31T00:00:00\", \"1999-09-13T00:00:00\", \"1987-12-06T00:00:00\", \"1999-04-02T00:00:00\", \"1995-04-25T00:00:00\", \"1993-12-08T00:00:00\", \"1996-03-14T00:00:00\", \"1995-04-04T00:00:00\", \"1997-08-05T00:00:00\", \"1997-07-27T00:00:00\", \"1996-07-11T00:00:00\", \"1997-03-05T00:00:00\", \"1985-05-18T00:00:00\", \"1996-09-30T00:00:00\", \"1997-03-16T00:00:00\", \"1983-11-26T00:00:00\", \"1996-12-09T00:00:00\", \"1998-08-20T00:00:00\", \"1997-08-01T00:00:00\", \"1994-04-14T00:00:00\", \"1992-04-14T00:00:00\", \"2000-03-09T00:00:00\", \"1994-07-21T00:00:00\", \"1996-11-09T00:00:00\", \"1994-04-30T00:00:00\", \"1984-06-02T00:00:00\", \"1993-10-18T00:00:00\", \"1996-12-06T00:00:00\", \"1994-02-21T00:00:00\", \"1994-08-30T00:00:00\", \"1988-02-11T00:00:00\", \"1999-02-23T00:00:00\", \"1998-09-14T00:00:00\", \"1997-01-23T00:00:00\", \"2000-03-30T00:00:00\", \"1998-05-18T00:00:00\", \"1999-11-04T00:00:00\", \"1995-11-12T00:00:00\", \"1992-03-01T00:00:00\", \"1995-02-21T00:00:00\", \"1989-06-09T00:00:00\", \"1970-01-20T00:00:00\", \"1978-09-09T00:00:00\", \"1969-06-24T00:00:00\", \"1982-09-23T00:00:00\", \"1969-11-26T00:00:00\", \"1989-04-17T00:00:00\", \"1992-01-05T00:00:00\", \"1995-07-13T00:00:00\", \"1973-03-26T00:00:00\", \"1994-02-08T00:00:00\", \"1998-11-08T00:00:00\", \"1972-07-21T00:00:00\", \"1982-07-07T00:00:00\", \"1993-08-18T00:00:00\", \"1997-03-09T00:00:00\", \"1980-03-10T00:00:00\", \"1991-02-03T00:00:00\", \"1976-08-11T00:00:00\", \"1975-07-02T00:00:00\", \"1985-10-30T00:00:00\", \"1995-05-19T00:00:00\", \"1986-01-12T00:00:00\", \"1995-03-02T00:00:00\", \"1995-11-15T00:00:00\", \"1991-04-22T00:00:00\", \"1988-09-01T00:00:00\", \"1981-03-28T00:00:00\", \"1992-10-29T00:00:00\", \"1985-05-05T00:00:00\", \"1996-07-04T00:00:00\", \"1986-10-11T00:00:00\", \"1987-10-09T00:00:00\", \"1991-04-29T00:00:00\", \"1979-08-26T00:00:00\", \"1983-01-17T00:00:00\", \"1992-10-01T00:00:00\", \"1994-11-04T00:00:00\", \"1996-04-12T00:00:00\", \"1989-05-27T00:00:00\", \"1994-06-04T00:00:00\", \"1989-07-17T00:00:00\", \"1995-03-10T00:00:00\", \"1987-12-14T00:00:00\", \"1984-07-01T00:00:00\", \"1987-03-17T00:00:00\", \"1990-02-08T00:00:00\", \"1992-10-10T00:00:00\", \"1999-06-01T00:00:00\", \"1999-12-02T00:00:00\", \"1999-12-03T00:00:00\", \"1982-04-21T00:00:00\", \"1988-11-01T00:00:00\", \"1982-10-15T00:00:00\", \"2001-10-10T00:00:00\", \"2001-10-10T00:00:00\", \"1999-08-02T00:00:00\", \"1999-12-30T00:00:00\", \"1999-02-02T00:00:00\", \"1997-11-11T00:00:00\", \"2000-06-25T00:00:00\", \"1999-08-03T00:00:00\", \"1999-12-20T00:00:00\", \"1999-04-12T00:00:00\", \"1995-04-02T00:00:00\", \"1999-04-23T00:00:00\", \"1990-08-19T00:00:00\", \"1985-06-15T00:00:00\", \"1978-09-19T00:00:00\", \"1994-03-07T00:00:00\", \"1992-04-03T00:00:00\", \"1991-03-04T00:00:00\", \"1985-04-25T00:00:00\", \"1998-09-01T00:00:00\", \"1986-01-21T00:00:00\", \"1997-11-03T00:00:00\", \"1996-12-25T00:00:00\", \"1998-04-11T00:00:00\", \"1984-10-14T00:00:00\", \"1985-04-11T00:00:00\", \"1983-04-21T00:00:00\", \"1995-11-07T00:00:00\", \"1987-10-27T00:00:00\", \"1980-10-23T00:00:00\", \"1996-07-01T00:00:00\", \"1988-05-22T00:00:00\", \"1995-11-23T00:00:00\", \"1996-06-05T00:00:00\", \"1996-01-08T00:00:00\", \"1995-02-02T00:00:00\", \"1983-12-03T00:00:00\", \"1995-02-22T00:00:00\", \"2000-02-01T00:00:00\", \"1999-03-01T00:00:00\", \"1999-02-26T00:00:00\", \"1995-02-04T00:00:00\", \"1995-07-10T00:00:00\", \"1988-11-12T00:00:00\", \"1996-04-18T00:00:00\", \"1997-10-28T00:00:00\", \"1996-01-05T00:00:00\", \"1997-04-25T00:00:00\", \"1996-10-12T00:00:00\", \"1994-06-03T00:00:00\", \"1991-05-26T00:00:00\", \"1986-09-24T00:00:00\", \"1997-01-11T00:00:00\", \"1999-09-08T00:00:00\", \"1995-02-07T00:00:00\", \"1982-01-11T00:00:00\", \"1983-03-20T00:00:00\", \"1983-11-28T00:00:00\", \"1987-06-07T00:00:00\", \"1984-04-16T00:00:00\", \"1991-08-25T00:00:00\", \"1993-02-19T00:00:00\", \"1981-03-13T00:00:00\", \"1996-05-18T00:00:00\", \"1977-11-09T00:00:00\", \"1990-10-23T00:00:00\", \"1991-10-02T00:00:00\", \"1987-03-01T00:00:00\", \"1990-03-05T00:00:00\", \"1984-10-19T00:00:00\", \"1998-05-19T00:00:00\", \"1982-06-10T00:00:00\", \"1982-02-11T00:00:00\", \"1997-03-14T00:00:00\", \"1980-05-24T00:00:00\", \"2000-09-03T00:00:00\", \"1988-04-15T00:00:00\", \"2000-05-24T00:00:00\", \"1983-02-18T00:00:00\", \"2000-11-12T00:00:00\", \"1980-05-24T00:00:00\", \"1990-08-02T00:00:00\", \"1998-12-24T00:00:00\", \"2000-01-15T00:00:00\", \"1995-03-14T00:00:00\", \"1998-10-09T00:00:00\", \"1991-12-25T00:00:00\", \"1988-03-30T00:00:00\", \"1992-03-10T00:00:00\", \"1990-06-12T00:00:00\", \"1991-10-07T00:00:00\", \"1982-08-20T00:00:00\", \"1999-10-04T00:00:00\", \"1994-01-16T00:00:00\", \"1993-01-28T00:00:00\", \"1992-03-09T00:00:00\", \"1995-04-03T00:00:00\", \"1981-07-27T00:00:00\", \"1994-11-15T00:00:00\", \"1985-05-31T00:00:00\", \"1997-04-30T00:00:00\", \"1989-10-19T00:00:00\", \"1991-12-30T00:00:00\", \"1997-10-25T00:00:00\", \"1997-10-17T00:00:00\", \"1997-09-16T00:00:00\", \"1992-03-14T00:00:00\", \"1995-06-08T00:00:00\", \"1991-08-29T00:00:00\", \"1984-03-23T00:00:00\", \"1993-06-28T00:00:00\", \"1983-01-05T00:00:00\", \"1993-07-14T00:00:00\", \"1982-09-14T00:00:00\", \"1984-01-07T00:00:00\", \"1984-06-22T00:00:00\", \"1999-12-27T00:00:00\", \"1985-07-15T00:00:00\", \"1995-12-07T00:00:00\", \"2001-05-10T00:00:00\", \"1985-12-03T00:00:00\", \"1999-12-04T00:00:00\", \"1999-03-13T00:00:00\", \"1986-11-08T00:00:00\", \"1979-12-16T00:00:00\", \"1999-02-14T00:00:00\", \"2001-08-28T00:00:00\", \"1999-05-04T00:00:00\", \"1993-02-05T00:00:00\", \"1999-12-04T00:00:00\", \"1998-09-09T00:00:00\", \"1999-05-15T00:00:00\", \"1998-08-17T00:00:00\", \"1998-02-26T00:00:00\", \"1997-10-22T00:00:00\", \"1998-04-15T00:00:00\", \"1986-10-04T00:00:00\", \"1999-05-15T00:00:00\", \"1997-05-26T00:00:00\", \"1985-04-25T00:00:00\", \"1997-01-04T00:00:00\", \"1997-07-14T00:00:00\", \"1991-08-05T00:00:00\", \"1980-12-22T00:00:00\", \"1997-08-04T00:00:00\", \"1992-11-22T00:00:00\", \"1999-03-30T00:00:00\", \"1990-03-17T00:00:00\", \"1999-01-19T00:00:00\", \"1998-01-23T00:00:00\", \"1989-02-17T00:00:00\", \"1998-08-18T00:00:00\", \"1984-10-01T00:00:00\", \"2000-03-03T00:00:00\", \"2000-01-14T00:00:00\", \"1990-03-07T00:00:00\", \"1993-07-11T00:00:00\", \"1990-02-27T00:00:00\", \"1998-08-25T00:00:00\", \"1976-07-20T00:00:00\", \"1993-07-27T00:00:00\", \"1990-01-08T00:00:00\", \"1992-04-19T00:00:00\", \"1992-08-02T00:00:00\", \"1997-07-14T00:00:00\", \"1991-05-21T00:00:00\", \"1979-12-23T00:00:00\", \"1980-03-30T00:00:00\", \"1983-03-31T00:00:00\", \"1989-12-24T00:00:00\", \"1992-02-05T00:00:00\", \"1989-05-05T00:00:00\", \"2000-04-07T00:00:00\", \"1988-01-25T00:00:00\", \"1993-12-10T00:00:00\", \"1997-03-19T00:00:00\", \"1986-11-21T00:00:00\", \"1994-10-20T00:00:00\", \"2001-01-18T00:00:00\", \"1989-01-17T00:00:00\", \"1991-04-07T00:00:00\", \"1995-03-08T00:00:00\", \"2001-03-12T00:00:00\", \"1995-05-08T00:00:00\", \"1994-08-11T00:00:00\", \"1989-12-15T00:00:00\", \"1993-07-05T00:00:00\", \"1995-03-14T00:00:00\", \"1992-10-18T00:00:00\", \"2002-11-01T00:00:00\", \"1984-11-02T00:00:00\", \"1993-03-03T00:00:00\", \"2000-03-26T00:00:00\", \"1980-09-25T00:00:00\", \"1988-12-10T00:00:00\", \"1998-07-10T00:00:00\", \"1990-01-20T00:00:00\", \"1977-08-09T00:00:00\", \"1992-01-02T00:00:00\", \"1992-08-20T00:00:00\", \"1994-05-10T00:00:00\", \"1992-07-29T00:00:00\", \"1985-08-16T00:00:00\", \"1987-11-05T00:00:00\", \"1987-05-16T00:00:00\", \"1983-03-01T00:00:00\", \"1981-08-04T00:00:00\", \"1997-10-01T00:00:00\", \"1994-04-12T00:00:00\", \"1995-04-18T00:00:00\", \"1999-01-27T00:00:00\", \"1983-01-31T00:00:00\", \"1989-10-11T00:00:00\", \"1991-03-11T00:00:00\", \"1992-01-29T00:00:00\", \"1992-05-27T00:00:00\", \"1988-08-24T00:00:00\", \"1980-12-09T00:00:00\", \"1982-12-07T00:00:00\", \"1993-02-19T00:00:00\", \"1994-05-21T00:00:00\", \"1987-04-18T00:00:00\", \"1993-05-29T00:00:00\", \"1982-03-29T00:00:00\", \"2000-03-10T00:00:00\", \"1983-10-02T00:00:00\", \"1991-08-27T00:00:00\", \"1992-12-10T00:00:00\", \"1992-03-29T00:00:00\", \"1985-05-07T00:00:00\", \"1995-05-29T00:00:00\", \"1984-04-03T00:00:00\", \"1983-08-18T00:00:00\", \"1996-12-25T00:00:00\", \"1985-08-10T00:00:00\", \"1996-06-21T00:00:00\", \"1979-04-27T00:00:00\", \"1986-08-11T00:00:00\", \"1985-08-12T00:00:00\", \"1971-12-23T00:00:00\", \"1993-02-01T00:00:00\", \"1990-06-28T00:00:00\", \"1983-07-28T00:00:00\", \"1983-11-01T00:00:00\", \"1992-12-25T00:00:00\", \"1985-01-13T00:00:00\", \"1991-07-26T00:00:00\", \"1983-11-24T00:00:00\", \"1997-04-17T00:00:00\", \"1997-11-13T00:00:00\", \"1992-07-28T00:00:00\", \"1991-02-06T00:00:00\", \"1993-01-29T00:00:00\", \"1991-10-09T00:00:00\", \"1998-10-08T00:00:00\", \"1989-07-21T00:00:00\", \"1997-10-13T00:00:00\", \"1985-08-17T00:00:00\", \"1997-11-17T00:00:00\", \"1997-12-06T00:00:00\", \"1997-02-10T00:00:00\", \"1997-10-12T00:00:00\", \"1984-01-05T00:00:00\", \"1999-08-04T00:00:00\", \"1980-09-27T00:00:00\", \"1989-01-12T00:00:00\", \"1985-09-06T00:00:00\", \"1985-07-08T00:00:00\", \"1994-04-22T00:00:00\", \"1998-04-22T00:00:00\", \"1998-11-16T00:00:00\", \"1997-12-09T00:00:00\", \"1997-07-14T00:00:00\", \"1990-01-12T00:00:00\", \"1995-04-09T00:00:00\", \"1991-12-31T00:00:00\", \"1993-10-18T00:00:00\", \"1999-03-05T00:00:00\", \"1998-12-06T00:00:00\", \"1988-05-24T00:00:00\", \"1997-08-25T00:00:00\", \"1997-10-06T00:00:00\", \"1997-08-21T00:00:00\", \"1997-09-13T00:00:00\", \"1987-05-28T00:00:00\", \"1989-03-01T00:00:00\", \"1983-06-04T00:00:00\", \"1988-08-21T00:00:00\", \"1996-02-12T00:00:00\", \"1998-01-28T00:00:00\", \"1995-12-29T00:00:00\", \"1999-02-27T00:00:00\", \"1998-03-15T00:00:00\", \"1998-02-09T00:00:00\", \"2000-05-15T00:00:00\", \"1997-08-12T00:00:00\", \"1995-08-10T00:00:00\", \"1999-08-18T00:00:00\", \"2000-09-22T00:00:00\", \"2000-03-29T00:00:00\", \"1999-05-22T00:00:00\", \"2001-06-12T00:00:00\", \"2000-03-12T00:00:00\", \"1997-12-06T00:00:00\", \"1998-05-25T00:00:00\", \"1999-09-11T00:00:00\", \"1997-12-10T00:00:00\", \"1996-09-29T00:00:00\", \"1979-03-20T00:00:00\", \"2000-04-02T00:00:00\", \"1987-05-26T00:00:00\", \"1999-01-28T00:00:00\", \"1999-09-23T00:00:00\", \"2000-06-02T00:00:00\", \"1998-10-08T00:00:00\", \"1995-12-08T00:00:00\", \"1990-07-20T00:00:00\", \"1992-11-27T00:00:00\", \"1981-07-17T00:00:00\", \"1997-06-25T00:00:00\", \"1997-04-05T00:00:00\", \"1985-07-27T00:00:00\", \"1997-08-21T00:00:00\", \"1996-04-28T00:00:00\", \"1995-09-21T00:00:00\", \"1996-04-25T00:00:00\", \"1971-08-03T00:00:00\", \"1979-09-21T00:00:00\", \"1995-08-13T00:00:00\", \"1995-08-14T00:00:00\", \"1998-08-13T00:00:00\", \"1998-11-16T00:00:00\", \"1997-07-14T00:00:00\", \"1998-05-01T00:00:00\", \"1997-09-13T00:00:00\", \"1998-01-20T00:00:00\", \"1994-11-28T00:00:00\", \"1979-08-25T00:00:00\", \"1997-10-06T00:00:00\", \"1994-04-13T00:00:00\", \"1994-04-27T00:00:00\", \"1998-10-17T00:00:00\", \"1995-07-21T00:00:00\", \"1997-01-13T00:00:00\", \"1993-01-08T00:00:00\", \"1982-10-19T00:00:00\", \"1989-08-15T00:00:00\", \"1997-02-07T00:00:00\", \"1980-04-14T00:00:00\", \"1996-04-25T00:00:00\", \"1996-04-06T00:00:00\", \"1996-02-23T00:00:00\", \"1981-05-05T00:00:00\", \"1980-03-17T00:00:00\", \"1998-01-09T00:00:00\", \"1981-01-21T00:00:00\", \"1994-08-08T00:00:00\", \"1983-12-26T00:00:00\", \"2000-04-04T00:00:00\", \"1982-05-19T00:00:00\", \"1993-11-15T00:00:00\", \"1993-05-01T00:00:00\", \"1978-10-13T00:00:00\", \"1995-03-08T00:00:00\", \"1995-03-21T00:00:00\", \"1995-11-02T00:00:00\", \"1995-03-13T00:00:00\", \"1986-10-08T00:00:00\", \"1991-10-14T00:00:00\", \"1991-08-29T00:00:00\", \"1987-03-01T00:00:00\", \"1998-05-01T00:00:00\", \"1999-05-07T00:00:00\", \"1987-05-16T00:00:00\", \"1988-06-23T00:00:00\", \"1992-03-30T00:00:00\", \"1992-03-31T00:00:00\", \"1997-07-11T00:00:00\", \"1994-08-15T00:00:00\", \"1983-03-23T00:00:00\", \"1988-06-05T00:00:00\", \"1981-11-08T00:00:00\", \"1991-07-16T00:00:00\", \"1992-04-05T00:00:00\", \"1973-02-06T00:00:00\", \"1987-03-30T00:00:00\", \"1982-12-04T00:00:00\", \"1985-04-30T00:00:00\", \"1980-11-26T00:00:00\", \"1988-08-07T00:00:00\", \"1992-05-05T00:00:00\", \"1982-09-15T00:00:00\", \"1992-10-14T00:00:00\", \"1983-07-17T00:00:00\", \"1985-05-02T00:00:00\", \"1993-12-03T00:00:00\", \"1988-07-28T00:00:00\", \"1996-07-21T00:00:00\", \"1991-01-27T00:00:00\", \"1988-05-28T00:00:00\", \"1975-03-15T00:00:00\", \"1988-05-03T00:00:00\", \"1983-01-01T00:00:00\", \"1991-08-28T00:00:00\", \"1996-08-14T00:00:00\", \"1997-11-04T00:00:00\", \"1995-07-17T00:00:00\", \"1997-06-19T00:00:00\", \"1998-01-18T00:00:00\", \"1999-11-22T00:00:00\", \"1996-02-08T00:00:00\", \"1997-02-07T00:00:00\", \"1999-05-21T00:00:00\", \"1991-12-01T00:00:00\", \"1999-06-28T00:00:00\", \"1983-11-02T00:00:00\", \"1997-02-09T00:00:00\", \"2001-05-17T00:00:00\", \"1999-08-20T00:00:00\", \"1999-09-11T00:00:00\", \"1997-03-08T00:00:00\", \"1999-12-18T00:00:00\", \"1999-06-01T00:00:00\", \"1999-11-22T00:00:00\", \"1999-07-22T00:00:00\", \"1997-03-15T00:00:00\", \"1999-08-04T00:00:00\", \"1999-01-16T00:00:00\", \"1999-01-12T00:00:00\", \"1997-08-08T00:00:00\", \"1978-02-20T00:00:00\", \"1997-01-09T00:00:00\", \"1993-07-31T00:00:00\", \"1994-12-09T00:00:00\", \"1994-11-10T00:00:00\", \"1994-11-07T00:00:00\", \"1999-07-20T00:00:00\", \"1997-02-20T00:00:00\", \"1996-11-22T00:00:00\", \"1985-09-19T00:00:00\", \"1993-09-07T00:00:00\", \"1994-03-04T00:00:00\", \"1999-06-15T00:00:00\", \"1976-06-15T00:00:00\", \"1997-09-27T00:00:00\", \"1982-11-22T00:00:00\", \"1997-03-13T00:00:00\", \"1999-02-19T00:00:00\", \"2000-04-03T00:00:00\", \"1997-06-25T00:00:00\", \"1998-05-23T00:00:00\", \"2000-07-26T00:00:00\", \"1995-03-11T00:00:00\", \"1988-05-21T00:00:00\", \"1999-02-16T00:00:00\", \"1994-05-24T00:00:00\", \"1984-03-27T00:00:00\", \"1985-09-26T00:00:00\", \"1993-07-05T00:00:00\", \"1981-07-16T00:00:00\", \"1997-06-07T00:00:00\", \"2000-08-12T00:00:00\", \"1988-08-17T00:00:00\", \"1998-01-19T00:00:00\", \"1981-09-26T00:00:00\", \"2000-05-27T00:00:00\", \"1983-08-01T00:00:00\", \"2009-02-09T00:00:00\", \"1999-11-18T00:00:00\", \"1985-09-17T00:00:00\", \"2000-09-04T00:00:00\", \"1993-12-07T00:00:00\", \"2000-01-02T00:00:00\", \"1994-03-11T00:00:00\", \"1995-06-04T00:00:00\", \"1985-11-09T00:00:00\", \"2000-01-02T00:00:00\", \"1999-05-22T00:00:00\", \"1999-04-13T00:00:00\", \"1986-09-02T00:00:00\", \"1990-02-17T00:00:00\", \"2000-06-07T00:00:00\", \"1992-05-21T00:00:00\", \"1987-10-08T00:00:00\", \"1999-04-25T00:00:00\", \"1981-08-06T00:00:00\", \"1999-01-30T00:00:00\", \"1999-05-10T00:00:00\", \"1995-02-20T00:00:00\", \"2000-02-03T00:00:00\", \"1999-04-18T00:00:00\", \"1999-06-21T00:00:00\", \"2000-12-08T00:00:00\", \"1993-02-09T00:00:00\", \"2000-03-20T00:00:00\", \"1999-01-10T00:00:00\", \"1997-05-16T00:00:00\", \"2000-11-05T00:00:00\", \"1992-12-15T00:00:00\", \"2000-02-28T00:00:00\", \"2000-08-15T00:00:00\", \"1990-09-20T00:00:00\", \"2000-06-08T00:00:00\", \"1995-07-07T00:00:00\", \"1999-08-17T00:00:00\", \"1997-08-20T00:00:00\", \"1988-10-24T00:00:00\", \"1991-07-01T00:00:00\", \"1995-04-12T00:00:00\", \"1996-05-05T00:00:00\", \"1997-11-03T00:00:00\", \"1999-09-23T00:00:00\", \"1996-03-28T00:00:00\", \"1996-01-10T00:00:00\", \"1995-01-20T00:00:00\", \"1993-06-20T00:00:00\", \"1996-07-09T00:00:00\", \"1997-05-27T00:00:00\", \"2000-05-08T00:00:00\", \"1987-01-04T00:00:00\", \"1997-10-10T00:00:00\", \"1997-11-06T00:00:00\", \"1998-08-08T00:00:00\", \"1994-09-14T00:00:00\", \"1988-02-19T00:00:00\", \"1998-03-17T00:00:00\", \"1997-07-25T00:00:00\", \"1998-04-18T00:00:00\", \"1997-05-04T00:00:00\", \"1997-11-13T00:00:00\", \"1998-04-24T00:00:00\", \"1997-08-20T00:00:00\", \"1999-08-18T00:00:00\", \"1994-01-18T00:00:00\", \"1987-08-15T00:00:00\", \"1997-07-22T00:00:00\", \"1994-09-22T00:00:00\", \"1993-04-06T00:00:00\", \"1993-11-01T00:00:00\", \"1990-09-25T00:00:00\", \"1993-09-05T00:00:00\", \"1985-08-24T00:00:00\", \"1987-07-23T00:00:00\", \"1993-02-12T00:00:00\", \"1995-05-12T00:00:00\", \"1982-07-04T00:00:00\", \"1999-06-14T00:00:00\", \"1992-03-28T00:00:00\", \"1995-12-29T00:00:00\", \"1992-08-30T00:00:00\", \"1987-05-20T00:00:00\", \"1994-08-30T00:00:00\", \"1998-03-01T00:00:00\", \"1982-12-28T00:00:00\", \"1994-07-15T00:00:00\", \"1993-10-04T00:00:00\", \"1996-02-13T00:00:00\", \"1987-07-20T00:00:00\", \"1994-03-27T00:00:00\", \"1996-06-16T00:00:00\", \"1984-01-17T00:00:00\", \"1990-12-27T00:00:00\", \"2000-11-24T00:00:00\", \"1992-01-12T00:00:00\", \"1992-01-10T00:00:00\", \"1985-03-16T00:00:00\", \"1993-04-12T00:00:00\", \"1995-06-01T00:00:00\", \"1997-11-16T00:00:00\", \"1996-07-02T00:00:00\", \"1990-04-09T00:00:00\", \"1991-09-10T00:00:00\", \"1997-08-28T00:00:00\", \"1987-02-13T00:00:00\", \"1997-05-30T00:00:00\", \"1993-12-21T00:00:00\", \"1988-07-05T00:00:00\", \"1988-06-26T00:00:00\", \"1996-06-30T00:00:00\", \"1993-06-27T00:00:00\", \"1998-03-31T00:00:00\", \"1985-05-30T00:00:00\", \"1989-06-19T00:00:00\", \"1992-12-29T00:00:00\", \"1998-07-07T00:00:00\", \"1986-08-05T00:00:00\", \"1989-02-20T00:00:00\", \"1998-01-12T00:00:00\", \"1992-10-21T00:00:00\", \"1987-03-24T00:00:00\", \"1996-07-27T00:00:00\", \"1998-06-11T00:00:00\", \"1978-09-25T00:00:00\", \"1991-11-20T00:00:00\", \"1998-08-20T00:00:00\", \"1987-04-09T00:00:00\", \"1998-11-24T00:00:00\", \"1991-03-04T00:00:00\", \"2001-01-25T00:00:00\", \"1991-08-21T00:00:00\", \"1999-01-19T00:00:00\", \"1990-12-24T00:00:00\", \"1999-07-28T00:00:00\", \"1997-04-30T00:00:00\", \"1997-03-01T00:00:00\", \"1999-01-19T00:00:00\", \"1997-07-01T00:00:00\", \"1997-12-19T00:00:00\", \"1998-10-24T00:00:00\", \"1999-05-15T00:00:00\", \"1989-11-11T00:00:00\", \"1997-12-18T00:00:00\", \"1999-04-28T00:00:00\", \"1997-02-15T00:00:00\", \"1997-09-22T00:00:00\", \"2001-05-05T00:00:00\", \"1995-02-06T00:00:00\", \"1996-05-02T00:00:00\", \"2001-07-02T00:00:00\", \"2001-08-28T00:00:00\", \"2001-04-15T00:00:00\", \"2000-04-25T00:00:00\", \"1993-06-11T00:00:00\", \"2000-10-02T00:00:00\", \"1994-02-21T00:00:00\", \"1986-10-03T00:00:00\", \"1989-10-10T00:00:00\", \"1990-01-01T00:00:00\", \"1983-10-19T00:00:00\", \"1991-02-25T00:00:00\", \"1981-03-21T00:00:00\", \"1990-04-02T00:00:00\", \"1993-06-29T00:00:00\", \"1993-08-24T00:00:00\", \"1997-12-10T00:00:00\", \"1993-08-24T00:00:00\", \"1981-08-07T00:00:00\", \"1996-01-09T00:00:00\", \"1986-05-24T00:00:00\", \"1994-09-13T00:00:00\", \"1992-02-23T00:00:00\", \"1989-05-23T00:00:00\", \"1985-11-26T00:00:00\", \"1988-05-06T00:00:00\", \"1988-12-17T00:00:00\", \"2000-04-19T00:00:00\", \"1990-07-03T00:00:00\", \"1986-12-13T00:00:00\", \"1994-12-11T00:00:00\", \"1998-06-25T00:00:00\", \"1999-03-22T00:00:00\", \"1995-07-05T00:00:00\", \"1989-01-06T00:00:00\", \"1999-01-09T00:00:00\", \"1978-05-17T00:00:00\", \"1999-03-11T00:00:00\", \"1989-12-14T00:00:00\", \"1977-11-12T00:00:00\", \"1983-08-31T00:00:00\", \"1998-08-01T00:00:00\", \"1990-08-28T00:00:00\", \"2000-06-22T00:00:00\", \"1993-09-21T00:00:00\", \"1999-03-29T00:00:00\", \"1990-10-01T00:00:00\", \"1977-05-29T00:00:00\", \"1997-05-13T00:00:00\", \"1999-07-09T00:00:00\", \"1990-06-06T00:00:00\", \"1999-08-23T00:00:00\", \"1995-08-24T00:00:00\", \"1999-05-22T00:00:00\", \"1990-10-29T00:00:00\", \"1999-04-21T00:00:00\", \"1990-10-01T00:00:00\", \"2000-12-10T00:00:00\", \"1991-09-06T00:00:00\", \"1999-10-06T00:00:00\", \"1991-01-05T00:00:00\", \"1994-05-09T00:00:00\", \"1991-09-09T00:00:00\", \"1997-04-05T00:00:00\", \"1998-03-23T00:00:00\", \"1988-03-24T00:00:00\", \"1991-12-14T00:00:00\", \"1985-04-27T00:00:00\", \"1998-03-04T00:00:00\", \"1992-03-08T00:00:00\", \"1993-12-07T00:00:00\", \"1997-02-07T00:00:00\", \"1992-01-02T00:00:00\", \"1998-08-24T00:00:00\", \"1997-08-21T00:00:00\", \"1993-02-22T00:00:00\", \"1997-07-27T00:00:00\", \"1997-03-05T00:00:00\", \"1994-10-20T00:00:00\", \"1997-12-18T00:00:00\", \"1988-02-16T00:00:00\", \"1998-06-11T00:00:00\", \"1990-10-05T00:00:00\", \"1997-02-14T00:00:00\", \"1984-01-09T00:00:00\", \"1990-04-19T00:00:00\", \"1988-09-09T00:00:00\", \"1991-11-07T00:00:00\", \"1997-12-26T00:00:00\", \"1998-01-08T00:00:00\", \"1995-07-16T00:00:00\", \"1998-06-11T00:00:00\", \"1997-07-08T00:00:00\", \"1998-02-02T00:00:00\", \"1997-01-25T00:00:00\", \"1997-10-07T00:00:00\", \"1998-01-28T00:00:00\", \"1998-04-08T00:00:00\", \"1998-02-10T00:00:00\", \"1997-05-25T00:00:00\", \"1997-08-28T00:00:00\", \"1998-10-12T00:00:00\", \"1998-03-23T00:00:00\", \"1994-04-18T00:00:00\", \"1998-04-12T00:00:00\", \"1997-08-01T00:00:00\", \"1997-09-23T00:00:00\", \"1997-10-29T00:00:00\", \"1998-08-01T00:00:00\", \"1974-11-16T00:00:00\", \"1998-03-07T00:00:00\", \"1990-09-24T00:00:00\", \"1998-06-29T00:00:00\", \"1970-12-27T00:00:00\", \"1967-04-14T00:00:00\", \"1999-01-26T00:00:00\", \"1991-11-19T00:00:00\", \"1998-05-03T00:00:00\", \"1998-10-27T00:00:00\", \"1969-05-19T00:00:00\", \"1998-01-02T00:00:00\", \"1964-12-05T00:00:00\", \"1968-03-16T00:00:00\", \"1969-07-20T00:00:00\", \"1998-06-14T00:00:00\", \"1974-10-18T00:00:00\", \"1969-02-28T00:00:00\", \"1974-08-15T00:00:00\", \"1988-01-26T00:00:00\", \"1967-12-25T00:00:00\", \"1996-05-03T00:00:00\", \"1986-01-31T00:00:00\", \"1998-02-22T00:00:00\", \"1989-07-11T00:00:00\", \"1994-06-29T00:00:00\", \"1967-11-08T00:00:00\", \"1997-07-19T00:00:00\", \"1988-10-31T00:00:00\", \"1996-03-16T00:00:00\", \"1967-08-03T00:00:00\", \"1998-03-25T00:00:00\", \"1989-05-13T00:00:00\", \"1990-07-09T00:00:00\", \"1992-10-21T00:00:00\", \"1974-10-27T00:00:00\", \"1998-04-11T00:00:00\", \"1995-03-06T00:00:00\", \"1997-02-05T00:00:00\", \"1974-10-15T00:00:00\", \"1998-03-07T00:00:00\", \"1997-01-26T00:00:00\", \"1968-07-10T00:00:00\", \"1975-11-14T00:00:00\", \"1997-01-21T00:00:00\", \"1998-07-22T00:00:00\", \"1983-11-17T00:00:00\", \"1998-02-02T00:00:00\", \"1981-12-16T00:00:00\", \"1985-02-09T00:00:00\", \"1974-05-21T00:00:00\", \"1978-11-09T00:00:00\", \"1979-12-31T00:00:00\", \"1998-03-13T00:00:00\", \"1970-01-08T00:00:00\", \"1987-07-23T00:00:00\", \"1988-12-06T00:00:00\", \"1972-07-04T00:00:00\", \"1995-01-11T00:00:00\", \"1971-02-24T00:00:00\", \"1986-10-03T00:00:00\", \"1977-04-24T00:00:00\", \"1988-04-11T00:00:00\", \"1970-03-22T00:00:00\", \"1992-12-19T00:00:00\", \"1977-07-15T00:00:00\", \"1989-12-14T00:00:00\", \"1985-05-14T00:00:00\", \"1991-05-11T00:00:00\", \"1991-01-30T00:00:00\", \"1991-01-10T00:00:00\", \"1993-03-23T00:00:00\", \"1999-05-31T00:00:00\", \"1988-03-26T00:00:00\", \"2000-09-18T00:00:00\", \"1996-10-15T00:00:00\", \"1978-09-02T00:00:00\", \"1999-05-05T00:00:00\", \"1996-07-19T00:00:00\", \"1991-10-23T00:00:00\", \"1991-01-26T00:00:00\", \"1999-11-04T00:00:00\", \"1972-02-14T00:00:00\", \"1997-01-03T00:00:00\", \"1990-02-17T00:00:00\", \"1999-06-23T00:00:00\", \"1997-05-25T00:00:00\", \"1997-09-19T00:00:00\", \"1999-08-07T00:00:00\", \"1997-10-08T00:00:00\", \"1989-08-02T00:00:00\", \"2000-01-23T00:00:00\", \"1997-02-13T00:00:00\", \"1989-05-24T00:00:00\", \"1999-10-30T00:00:00\", \"2000-06-15T00:00:00\", \"1989-07-07T00:00:00\", \"2000-07-30T00:00:00\", \"2000-09-11T00:00:00\", \"1999-07-12T00:00:00\", \"2000-06-12T00:00:00\", \"1998-08-11T00:00:00\", \"2000-05-01T00:00:00\", \"1994-11-03T00:00:00\", \"2000-03-14T00:00:00\", \"1997-10-04T00:00:00\", \"1997-04-21T00:00:00\", \"1985-08-10T00:00:00\", \"1998-12-10T00:00:00\", \"1999-06-16T00:00:00\", \"1997-10-07T00:00:00\", \"2001-03-14T00:00:00\", \"1998-12-23T00:00:00\", \"1988-11-19T00:00:00\", \"2000-09-06T00:00:00\", \"1988-07-09T00:00:00\", \"2001-02-17T00:00:00\", \"1983-08-13T00:00:00\", \"1997-12-25T00:00:00\", \"2001-03-04T00:00:00\", \"1989-01-27T00:00:00\", \"1982-03-17T00:00:00\", \"1998-02-10T00:00:00\", \"1999-03-28T00:00:00\", \"1993-08-22T00:00:00\", \"2000-05-08T00:00:00\", \"1994-08-04T00:00:00\", \"1998-08-25T00:00:00\", \"1990-05-22T00:00:00\", \"2000-01-09T00:00:00\", \"1999-06-21T00:00:00\", \"1982-08-12T00:00:00\", \"1998-10-09T00:00:00\", \"1999-12-29T00:00:00\", \"2000-06-19T00:00:00\", \"1999-09-05T00:00:00\", \"2000-02-07T00:00:00\", \"1997-02-21T00:00:00\", \"2001-07-20T00:00:00\", \"1997-02-21T00:00:00\", \"1994-08-03T00:00:00\", \"1998-05-08T00:00:00\", \"1997-10-21T00:00:00\", \"2000-05-11T00:00:00\", \"1984-02-17T00:00:00\", \"1997-09-21T00:00:00\", \"1995-10-27T00:00:00\", \"1993-01-08T00:00:00\", \"1981-04-27T00:00:00\", \"1988-11-28T00:00:00\", \"1999-02-18T00:00:00\", \"1998-10-12T00:00:00\", \"1998-05-21T00:00:00\", \"1998-04-19T00:00:00\", \"1984-09-08T00:00:00\", \"1997-08-26T00:00:00\", \"1998-06-15T00:00:00\", \"1989-09-12T00:00:00\", \"1997-04-10T00:00:00\", \"1989-08-08T00:00:00\", \"1993-04-18T00:00:00\", \"1997-07-04T00:00:00\", \"1989-09-23T00:00:00\", \"1989-04-07T00:00:00\", \"1995-09-06T00:00:00\", \"1986-12-30T00:00:00\", \"1990-08-18T00:00:00\", \"1989-08-05T00:00:00\", \"1973-05-28T00:00:00\", \"1986-10-10T00:00:00\", \"1977-05-25T00:00:00\", \"1996-02-23T00:00:00\", \"1984-02-29T00:00:00\", \"1995-06-27T00:00:00\", \"1977-11-01T00:00:00\", \"1984-03-06T00:00:00\", \"1986-09-23T00:00:00\", \"1976-04-20T00:00:00\", \"1987-12-15T00:00:00\", \"1982-07-23T00:00:00\", \"1994-05-03T00:00:00\", \"1985-02-03T00:00:00\", \"1995-06-07T00:00:00\", \"1987-03-23T00:00:00\", \"1989-12-17T00:00:00\", \"1982-12-28T00:00:00\", \"1981-11-12T00:00:00\", \"1988-12-23T00:00:00\", \"1990-03-24T00:00:00\", \"1988-11-10T00:00:00\", \"1993-02-04T00:00:00\", \"1989-07-26T00:00:00\", \"1997-07-04T00:00:00\", \"1982-11-15T00:00:00\", \"1995-10-17T00:00:00\", \"1984-08-24T00:00:00\", \"1994-04-14T00:00:00\", \"1993-05-20T00:00:00\", \"1987-05-07T00:00:00\", \"1983-08-21T00:00:00\", \"1986-04-13T00:00:00\", \"1986-07-14T00:00:00\", \"1977-03-10T00:00:00\", \"1998-02-07T00:00:00\", \"1998-12-03T00:00:00\", \"1988-02-19T00:00:00\", \"1991-11-04T00:00:00\", \"1996-06-19T00:00:00\", \"1989-08-03T00:00:00\", \"1975-08-04T00:00:00\", \"1998-03-11T00:00:00\", \"1991-07-16T00:00:00\", \"1998-04-19T00:00:00\", \"1985-05-15T00:00:00\", \"1998-12-22T00:00:00\", \"1983-05-18T00:00:00\", \"1997-04-10T00:00:00\", \"1998-12-09T00:00:00\", \"1986-10-21T00:00:00\", \"1998-07-15T00:00:00\", \"1998-02-02T00:00:00\", \"1981-10-06T00:00:00\", \"1998-04-13T00:00:00\", \"1998-04-15T00:00:00\", \"2001-05-31T00:00:00\", \"1999-10-18T00:00:00\", \"1999-02-02T00:00:00\", \"1999-01-10T00:00:00\", \"1999-08-27T00:00:00\", \"1999-12-12T00:00:00\", \"1999-08-29T00:00:00\", \"1999-11-10T00:00:00\", \"2000-05-19T00:00:00\", \"1990-08-03T00:00:00\", \"1994-03-22T00:00:00\", \"1994-07-04T00:00:00\", \"2001-02-14T00:00:00\", \"1990-08-15T00:00:00\", \"2000-05-14T00:00:00\", \"1995-09-15T00:00:00\", \"2000-05-22T00:00:00\", \"1990-08-28T00:00:00\", \"1995-03-22T00:00:00\", \"1966-06-11T00:00:00\", \"1999-02-22T00:00:00\", \"1996-02-26T00:00:00\", \"2001-02-23T00:00:00\", \"1996-02-21T00:00:00\", \"2001-08-20T00:00:00\", \"1973-10-13T00:00:00\", \"1994-08-11T00:00:00\", \"1992-10-25T00:00:00\", \"1994-02-10T00:00:00\", \"2000-09-03T00:00:00\", \"1989-01-13T00:00:00\", \"2000-01-16T00:00:00\", \"1993-12-28T00:00:00\", \"1998-07-16T00:00:00\", \"1998-11-11T00:00:00\", \"1998-01-20T00:00:00\", \"1988-05-22T00:00:00\", \"1999-04-08T00:00:00\", \"1998-08-28T00:00:00\", \"1994-03-17T00:00:00\", \"1998-07-19T00:00:00\", \"1986-07-19T00:00:00\", \"1997-06-04T00:00:00\", \"1990-04-26T00:00:00\", \"1988-01-03T00:00:00\", \"1987-07-26T00:00:00\", \"1985-10-03T00:00:00\", \"1998-04-08T00:00:00\", \"1984-12-04T00:00:00\", \"1998-05-28T00:00:00\", \"1990-10-03T00:00:00\", \"1984-03-26T00:00:00\", \"1997-12-30T00:00:00\", \"1996-01-01T00:00:00\", \"1993-02-02T00:00:00\", \"1990-11-30T00:00:00\", \"1992-05-04T00:00:00\", \"1992-12-18T00:00:00\", \"1993-05-03T00:00:00\", \"1992-05-29T00:00:00\", \"1995-09-14T00:00:00\", \"1993-04-18T00:00:00\", \"1991-09-17T00:00:00\", \"1995-04-13T00:00:00\", \"1998-12-08T00:00:00\", \"1989-06-01T00:00:00\", \"1989-11-17T00:00:00\", \"2001-03-20T00:00:00\", \"1992-03-23T00:00:00\", \"1992-07-12T00:00:00\", \"1998-07-09T00:00:00\", \"1989-10-11T00:00:00\", \"1996-04-20T00:00:00\", \"1998-04-10T00:00:00\", \"1996-01-23T00:00:00\", \"1997-03-16T00:00:00\", \"1989-08-10T00:00:00\", \"1998-04-06T00:00:00\", \"1993-05-19T00:00:00\", \"1985-11-15T00:00:00\", \"1992-04-02T00:00:00\", \"1999-02-06T00:00:00\", \"1994-02-10T00:00:00\", \"1997-03-16T00:00:00\", \"2000-09-06T00:00:00\", \"1998-08-30T00:00:00\", \"1998-07-21T00:00:00\", \"1992-03-10T00:00:00\", \"1994-03-19T00:00:00\", \"1999-01-06T00:00:00\", \"1993-07-27T00:00:00\", \"1997-04-21T00:00:00\", \"1986-08-17T00:00:00\", \"2000-01-10T00:00:00\", \"1999-03-24T00:00:00\", \"2001-12-01T00:00:00\", \"1999-04-17T00:00:00\", \"1991-12-05T00:00:00\", \"2000-10-12T00:00:00\", \"1998-03-31T00:00:00\", \"1997-02-10T00:00:00\", \"1974-10-04T00:00:00\", \"1999-10-03T00:00:00\", \"1990-12-20T00:00:00\", \"1996-07-22T00:00:00\", \"1994-12-18T00:00:00\", \"1968-07-11T00:00:00\", \"1963-09-10T00:00:00\", \"1997-10-18T00:00:00\", \"2000-02-17T00:00:00\", \"1967-12-11T00:00:00\", \"1975-10-27T00:00:00\", \"1969-02-09T00:00:00\", \"1968-07-05T00:00:00\", \"1999-08-12T00:00:00\", \"1974-02-23T00:00:00\", \"1999-03-29T00:00:00\", \"1999-04-10T00:00:00\", \"1997-02-10T00:00:00\", \"1999-06-25T00:00:00\", \"1998-04-26T00:00:00\", \"1994-03-21T00:00:00\", \"1994-04-02T00:00:00\", \"1999-06-27T00:00:00\", \"1996-03-08T00:00:00\", \"1994-12-30T00:00:00\", \"2000-10-17T00:00:00\", \"1988-04-16T00:00:00\", \"2000-10-25T00:00:00\", \"1990-04-23T00:00:00\", \"1986-02-27T00:00:00\", \"2001-04-17T00:00:00\", \"1982-03-27T00:00:00\", \"2000-04-18T00:00:00\", \"1995-10-22T00:00:00\", \"1996-05-05T00:00:00\", \"1999-09-11T00:00:00\", \"1996-12-10T00:00:00\", \"1999-07-21T00:00:00\", \"1990-11-20T00:00:00\", \"2000-01-16T00:00:00\", \"2001-04-26T00:00:00\", \"1979-09-28T00:00:00\", \"1995-03-27T00:00:00\", \"1999-09-28T00:00:00\", \"1990-05-25T00:00:00\", \"1971-04-05T00:00:00\", \"1999-09-23T00:00:00\", \"1994-04-21T00:00:00\", \"1996-09-16T00:00:00\", \"1988-11-09T00:00:00\", \"1972-09-25T00:00:00\", \"1990-06-12T00:00:00\", \"1968-06-19T00:00:00\", \"1990-09-27T00:00:00\", \"1999-03-01T00:00:00\", \"1967-10-04T00:00:00\", \"1990-07-10T00:00:00\", \"1999-04-28T00:00:00\", \"1986-03-11T00:00:00\", \"1995-02-03T00:00:00\", \"1965-03-29T00:00:00\", \"1994-07-11T00:00:00\", \"2000-11-23T00:00:00\", \"1965-07-25T00:00:00\", \"1984-01-05T00:00:00\", \"1999-07-31T00:00:00\", \"1996-12-25T00:00:00\", \"1975-04-20T00:00:00\", \"1996-11-09T00:00:00\", \"1988-10-07T00:00:00\", \"1973-09-06T00:00:00\", \"1994-04-06T00:00:00\", \"1996-01-27T00:00:00\", \"1991-12-21T00:00:00\", \"1989-04-15T00:00:00\", \"1985-12-13T00:00:00\", \"1976-02-15T00:00:00\", \"1991-11-07T00:00:00\", \"1985-11-29T00:00:00\", \"1999-08-01T00:00:00\", \"1986-04-28T00:00:00\", \"1986-09-16T00:00:00\", \"1974-04-28T00:00:00\", \"1990-07-31T00:00:00\", \"1990-03-27T00:00:00\", \"1980-01-01T00:00:00\", \"1993-10-22T00:00:00\", \"1993-09-21T00:00:00\", \"1989-11-08T00:00:00\", \"1992-12-24T00:00:00\", \"1986-02-03T00:00:00\", \"1993-05-05T00:00:00\", \"1985-08-01T00:00:00\", \"1985-05-26T00:00:00\", \"1976-08-18T00:00:00\", \"1989-04-28T00:00:00\", \"1985-05-08T00:00:00\", \"1986-05-14T00:00:00\", \"1984-11-15T00:00:00\", \"1989-07-06T00:00:00\", \"1996-01-20T00:00:00\", \"1988-12-01T00:00:00\", \"1985-12-06T00:00:00\", \"1982-03-28T00:00:00\", \"1983-08-16T00:00:00\", \"1994-02-26T00:00:00\", \"1994-05-03T00:00:00\", \"1988-08-07T00:00:00\", \"1977-06-12T00:00:00\", \"1991-11-09T00:00:00\", \"1985-03-29T00:00:00\", \"1984-01-12T00:00:00\", \"1991-04-05T00:00:00\", \"1995-08-24T00:00:00\", \"1999-09-06T00:00:00\", \"1995-05-06T00:00:00\", \"1991-08-10T00:00:00\", \"1991-05-04T00:00:00\", \"1983-09-05T00:00:00\", \"1995-04-21T00:00:00\", \"1992-07-21T00:00:00\", \"1997-05-04T00:00:00\", \"1990-04-03T00:00:00\", \"1999-03-04T00:00:00\", \"1994-02-17T00:00:00\", \"1984-08-29T00:00:00\", \"1998-09-05T00:00:00\", \"1995-04-21T00:00:00\", \"1995-07-10T00:00:00\", \"1997-11-27T00:00:00\", \"1998-05-25T00:00:00\", \"1997-06-01T00:00:00\", \"1988-06-14T00:00:00\", \"1998-04-03T00:00:00\", \"1997-01-20T00:00:00\", \"1984-08-21T00:00:00\", \"1998-08-13T00:00:00\", \"1994-10-06T00:00:00\", \"1992-04-01T00:00:00\", \"1997-08-08T00:00:00\", \"1998-07-02T00:00:00\", \"1993-02-27T00:00:00\", \"1999-03-17T00:00:00\", \"1997-11-11T00:00:00\", \"1998-09-18T00:00:00\", \"1997-05-19T00:00:00\", \"1998-11-02T00:00:00\", \"1991-01-02T00:00:00\", \"1997-06-06T00:00:00\", \"1997-10-11T00:00:00\", \"1997-02-24T00:00:00\", \"1997-12-01T00:00:00\", \"1998-09-09T00:00:00\", \"1991-05-10T00:00:00\", \"1994-08-03T00:00:00\", \"1999-01-04T00:00:00\", \"1984-03-27T00:00:00\", \"1998-09-06T00:00:00\", \"1996-07-01T00:00:00\", \"1994-01-30T00:00:00\", \"1997-05-14T00:00:00\", \"1997-03-25T00:00:00\", \"1995-09-21T00:00:00\", \"1996-07-11T00:00:00\", \"1998-07-18T00:00:00\", \"1982-09-15T00:00:00\", \"1992-03-23T00:00:00\", \"1991-01-02T00:00:00\", \"1997-01-12T00:00:00\", \"1994-03-18T00:00:00\", \"1997-08-16T00:00:00\", \"1988-03-12T00:00:00\", \"1999-08-17T00:00:00\", \"1987-03-30T00:00:00\", \"1989-04-25T00:00:00\", \"1997-02-09T00:00:00\", \"1997-09-09T00:00:00\", \"1996-12-18T00:00:00\", \"1994-03-03T00:00:00\", \"1990-08-10T00:00:00\", \"1994-02-23T00:00:00\", \"1983-01-18T00:00:00\", \"1994-04-02T00:00:00\", \"1989-09-14T00:00:00\", \"2000-01-19T00:00:00\", \"1998-04-01T00:00:00\", \"1997-08-25T00:00:00\", \"1997-02-06T00:00:00\", \"1992-04-27T00:00:00\", \"1986-03-07T00:00:00\", \"1993-09-26T00:00:00\", \"1999-12-28T00:00:00\", \"1990-05-18T00:00:00\", \"1989-07-27T00:00:00\", \"1990-12-10T00:00:00\", \"1987-08-06T00:00:00\", \"1992-12-14T00:00:00\", \"1992-07-26T00:00:00\", \"1995-03-29T00:00:00\", \"1984-01-29T00:00:00\", \"1988-12-11T00:00:00\", \"1998-09-17T00:00:00\", \"1996-08-06T00:00:00\", \"1999-02-08T00:00:00\", \"1985-09-19T00:00:00\", \"1997-12-10T00:00:00\", \"1991-03-09T00:00:00\", \"1995-04-03T00:00:00\", \"1988-11-02T00:00:00\", \"1986-06-24T00:00:00\", \"1988-03-30T00:00:00\", \"1987-07-21T00:00:00\", \"1998-06-12T00:00:00\", \"1978-06-02T00:00:00\", \"1988-08-19T00:00:00\", \"1998-06-01T00:00:00\", \"1995-07-22T00:00:00\", \"1991-01-26T00:00:00\", \"1986-08-02T00:00:00\", \"1988-06-04T00:00:00\", \"1990-06-03T00:00:00\", \"1996-07-12T00:00:00\", \"1985-08-28T00:00:00\", \"1990-10-15T00:00:00\", \"1999-05-03T00:00:00\", \"1984-01-05T00:00:00\", \"1999-07-26T00:00:00\", \"1991-05-02T00:00:00\", \"2001-07-10T00:00:00\", \"1979-06-30T00:00:00\", \"1980-09-17T00:00:00\", \"1981-10-22T00:00:00\", \"1977-12-12T00:00:00\", \"1996-05-11T00:00:00\", \"1987-02-13T00:00:00\", \"1987-04-13T00:00:00\", \"1985-07-11T00:00:00\", \"1988-08-16T00:00:00\", \"1989-03-31T00:00:00\", \"1999-01-03T00:00:00\", \"2000-07-21T00:00:00\", \"1980-11-28T00:00:00\", \"1979-12-27T00:00:00\", \"1985-10-08T00:00:00\", \"1986-04-09T00:00:00\", \"1988-07-25T00:00:00\", \"1992-12-19T00:00:00\", \"2000-10-31T00:00:00\", \"1999-06-23T00:00:00\", \"1996-03-15T00:00:00\", \"1993-06-28T00:00:00\", \"1980-10-27T00:00:00\", \"1989-09-17T00:00:00\", \"1995-07-06T00:00:00\", \"1999-07-22T00:00:00\", \"1996-03-01T00:00:00\", \"1985-08-13T00:00:00\", \"2001-01-05T00:00:00\", \"1985-10-22T00:00:00\", \"1978-12-19T00:00:00\", \"2001-03-31T00:00:00\", \"1979-12-14T00:00:00\", \"2001-01-24T00:00:00\", \"1987-04-16T00:00:00\", \"1992-12-05T00:00:00\", \"1990-06-05T00:00:00\", \"1982-07-09T00:00:00\", \"1986-12-12T00:00:00\", \"1985-01-06T00:00:00\", \"1998-05-03T00:00:00\", \"1999-12-01T00:00:00\", \"1983-08-15T00:00:00\", \"1985-08-17T00:00:00\", \"1998-05-31T00:00:00\", \"1988-10-26T00:00:00\", \"1998-08-06T00:00:00\", \"2000-08-19T00:00:00\", \"1998-08-08T00:00:00\", \"1998-07-30T00:00:00\", \"1998-12-11T00:00:00\", \"1999-10-20T00:00:00\", \"1991-11-27T00:00:00\", \"2000-12-16T00:00:00\", \"1991-07-05T00:00:00\", \"1998-05-28T00:00:00\", \"1997-09-11T00:00:00\", \"1997-05-16T00:00:00\", \"1987-09-30T00:00:00\", \"1999-12-28T00:00:00\", \"1999-05-09T00:00:00\", \"1985-08-07T00:00:00\", \"1992-12-16T00:00:00\", \"1988-04-18T00:00:00\", \"1993-02-16T00:00:00\", \"1996-03-17T00:00:00\", \"1997-11-25T00:00:00\", \"1977-12-20T00:00:00\", \"2000-08-12T00:00:00\", \"1974-12-05T00:00:00\", \"1976-10-30T00:00:00\", \"1997-03-23T00:00:00\", \"1982-05-30T00:00:00\", \"1997-04-03T00:00:00\", \"1986-11-13T00:00:00\", \"1998-11-13T00:00:00\", \"1983-01-01T00:00:00\", \"1989-03-03T00:00:00\", \"1999-02-27T00:00:00\", \"1985-12-30T00:00:00\", \"1993-07-15T00:00:00\", \"2000-08-07T00:00:00\", \"1978-03-12T00:00:00\", \"1992-08-16T00:00:00\", \"2001-07-09T00:00:00\", \"1981-01-11T00:00:00\", \"1989-07-09T00:00:00\", \"1986-09-24T00:00:00\", \"1988-09-29T00:00:00\", \"1985-11-18T00:00:00\", \"1997-02-01T00:00:00\", \"1999-07-18T00:00:00\", \"2000-11-06T00:00:00\", \"1988-06-18T00:00:00\", \"2001-08-09T00:00:00\", \"1996-02-14T00:00:00\", \"1979-12-06T00:00:00\", \"1999-09-04T00:00:00\", \"1979-03-17T00:00:00\", \"1982-05-26T00:00:00\", \"1998-11-27T00:00:00\", \"1986-03-23T00:00:00\", \"1986-09-25T00:00:00\", \"1993-03-31T00:00:00\", \"1998-08-15T00:00:00\", \"1994-08-22T00:00:00\", \"1986-07-02T00:00:00\", \"1978-12-02T00:00:00\", \"1997-08-12T00:00:00\", \"1996-01-30T00:00:00\", \"1998-03-14T00:00:00\", \"1988-03-23T00:00:00\", \"1994-08-13T00:00:00\", \"1998-01-17T00:00:00\", \"1998-02-21T00:00:00\", \"1987-10-08T00:00:00\", \"1996-10-31T00:00:00\", \"1995-10-15T00:00:00\", \"1997-01-06T00:00:00\", \"1997-01-10T00:00:00\", \"1998-11-02T00:00:00\", \"1994-03-22T00:00:00\", \"1997-03-08T00:00:00\", \"1997-05-07T00:00:00\", \"1991-01-31T00:00:00\", \"1988-08-15T00:00:00\", \"1970-10-17T00:00:00\", \"1984-01-20T00:00:00\", \"1994-04-27T00:00:00\", \"1998-05-18T00:00:00\", \"1986-07-05T00:00:00\", \"1997-11-09T00:00:00\", \"1997-04-23T00:00:00\", \"2001-09-29T00:00:00\", \"1999-02-04T00:00:00\", \"1999-10-02T00:00:00\", \"2000-05-05T00:00:00\", \"1990-03-30T00:00:00\", \"2001-06-07T00:00:00\", \"1999-05-09T00:00:00\", \"1999-05-04T00:00:00\", \"1999-03-11T00:00:00\", \"1999-08-14T00:00:00\", \"2001-03-09T00:00:00\", \"1992-08-02T00:00:00\", \"1998-02-12T00:00:00\", \"1997-05-13T00:00:00\", \"1997-04-15T00:00:00\", \"1999-04-10T00:00:00\", \"1997-01-24T00:00:00\", \"1997-12-19T00:00:00\", \"1987-01-30T00:00:00\", \"1982-04-23T00:00:00\", \"1991-11-07T00:00:00\", \"1997-03-02T00:00:00\", \"1989-06-30T00:00:00\", \"1985-01-21T00:00:00\", \"1988-03-03T00:00:00\", \"1989-04-18T00:00:00\", \"1991-06-30T00:00:00\", \"1998-12-24T00:00:00\", \"1998-10-08T00:00:00\", \"1999-06-11T00:00:00\", \"1998-04-15T00:00:00\", \"1973-03-03T00:00:00\", \"1998-05-06T00:00:00\", \"1998-08-13T00:00:00\", \"1998-01-27T00:00:00\", \"1998-08-01T00:00:00\", \"1997-04-22T00:00:00\", \"1981-02-15T00:00:00\", \"1997-07-14T00:00:00\", \"1984-11-21T00:00:00\", \"1997-07-11T00:00:00\", \"1992-01-26T00:00:00\", \"1998-08-21T00:00:00\", \"1987-04-20T00:00:00\", \"1993-11-06T00:00:00\", \"1990-12-08T00:00:00\", \"1997-02-07T00:00:00\", \"1998-04-12T00:00:00\", \"1999-08-14T00:00:00\", \"1999-03-14T00:00:00\", \"1997-12-15T00:00:00\", \"1997-07-09T00:00:00\", \"1999-03-11T00:00:00\", \"1999-05-04T00:00:00\", \"1997-07-20T00:00:00\", \"1998-01-19T00:00:00\", \"1974-07-14T00:00:00\", \"1969-06-23T00:00:00\", \"1971-10-22T00:00:00\", \"1991-06-20T00:00:00\", \"1970-09-22T00:00:00\", \"1972-08-03T00:00:00\", \"1970-11-10T00:00:00\", \"1987-01-17T00:00:00\", \"1999-02-18T00:00:00\", \"1995-09-13T00:00:00\", \"1991-12-28T00:00:00\", \"1990-05-30T00:00:00\", \"1999-06-06T00:00:00\", \"1999-12-04T00:00:00\", \"2001-07-15T00:00:00\", \"1999-07-21T00:00:00\", \"1999-01-29T00:00:00\", \"1998-07-02T00:00:00\", \"1987-08-15T00:00:00\", \"1996-06-14T00:00:00\", \"1986-07-10T00:00:00\", \"1996-09-26T00:00:00\", \"1996-10-01T00:00:00\", \"1996-03-12T00:00:00\", \"1979-04-30T00:00:00\", \"1990-11-29T00:00:00\", \"1997-06-10T00:00:00\", \"1994-08-06T00:00:00\", \"1993-06-09T00:00:00\", \"1988-02-04T00:00:00\", \"1988-01-10T00:00:00\", \"1998-01-16T00:00:00\", \"1997-02-25T00:00:00\", \"1991-03-21T00:00:00\", \"1986-07-21T00:00:00\", \"1999-11-21T00:00:00\", \"1983-07-09T00:00:00\", \"1975-07-08T00:00:00\", \"1999-12-02T00:00:00\", \"1999-03-19T00:00:00\", \"1997-01-17T00:00:00\", \"2000-03-19T00:00:00\", \"2000-02-25T00:00:00\", \"1988-07-22T00:00:00\", \"1999-08-12T00:00:00\", \"1985-05-16T00:00:00\", \"1992-05-17T00:00:00\", \"1993-01-01T00:00:00\", \"1985-10-03T00:00:00\", \"1994-04-13T00:00:00\", \"1995-02-02T00:00:00\", \"1987-03-01T00:00:00\", \"1993-05-01T00:00:00\", \"1985-09-21T00:00:00\", \"1998-05-13T00:00:00\", \"1999-07-08T00:00:00\", \"1997-05-25T00:00:00\", \"1997-06-20T00:00:00\", \"1992-05-20T00:00:00\", \"1997-02-19T00:00:00\", \"1984-12-17T00:00:00\", \"1997-05-10T00:00:00\", \"2000-09-15T00:00:00\", \"1993-03-27T00:00:00\", \"1999-07-24T00:00:00\", \"1999-03-09T00:00:00\", \"2000-05-15T00:00:00\", \"1980-06-22T00:00:00\", \"1995-08-16T00:00:00\", \"1999-05-15T00:00:00\", \"1999-09-17T00:00:00\", \"1988-07-04T00:00:00\", \"2001-06-22T00:00:00\", \"1999-03-30T00:00:00\", \"1991-01-11T00:00:00\", \"1996-05-29T00:00:00\", \"1999-03-21T00:00:00\", \"1983-11-26T00:00:00\", \"1992-06-05T00:00:00\", \"1991-05-09T00:00:00\", \"1988-07-02T00:00:00\", \"1993-12-11T00:00:00\", \"1985-02-17T00:00:00\", \"1979-01-06T00:00:00\", \"1995-12-13T00:00:00\", \"1987-04-14T00:00:00\", \"1995-01-30T00:00:00\", \"1984-10-02T00:00:00\", \"1986-07-09T00:00:00\", \"1986-07-05T00:00:00\", \"1988-11-10T00:00:00\", \"1976-09-18T00:00:00\", \"1975-08-03T00:00:00\", \"1977-11-30T00:00:00\", \"1989-06-30T00:00:00\", \"1994-07-24T00:00:00\", \"1998-02-26T00:00:00\", \"1997-07-25T00:00:00\", \"1971-01-19T00:00:00\", \"1989-05-26T00:00:00\", \"1995-04-06T00:00:00\", \"1971-01-19T00:00:00\", \"1983-11-14T00:00:00\", \"1990-10-14T00:00:00\", \"1999-08-01T00:00:00\", \"1999-06-25T00:00:00\", \"2000-09-06T00:00:00\", \"1999-03-05T00:00:00\", \"1993-11-02T00:00:00\", \"1986-09-29T00:00:00\", \"1987-06-06T00:00:00\", \"1974-10-26T00:00:00\", \"1994-02-05T00:00:00\", \"1990-12-06T00:00:00\", \"1992-06-13T00:00:00\", \"1994-04-25T00:00:00\", \"1987-07-19T00:00:00\", \"1987-11-04T00:00:00\", \"1977-06-22T00:00:00\", \"1975-11-15T00:00:00\", \"1980-06-23T00:00:00\", \"1982-11-13T00:00:00\", \"1985-08-28T00:00:00\", \"1977-05-02T00:00:00\", \"1993-02-10T00:00:00\", \"1985-05-07T00:00:00\", \"1984-02-10T00:00:00\", \"1977-08-25T00:00:00\", \"1989-01-02T00:00:00\", \"1993-01-07T00:00:00\", \"1995-11-03T00:00:00\", \"1999-08-11T00:00:00\", \"2000-11-28T00:00:00\", \"2000-07-02T00:00:00\", \"1980-03-20T00:00:00\", \"1999-10-26T00:00:00\", \"1997-01-16T00:00:00\", \"1995-01-15T00:00:00\", \"1997-03-20T00:00:00\", \"1998-10-16T00:00:00\", \"1990-03-27T00:00:00\", \"1988-11-20T00:00:00\", \"1997-11-26T00:00:00\", \"1991-05-08T00:00:00\", \"1989-02-28T00:00:00\", \"1998-03-15T00:00:00\", \"1995-11-14T00:00:00\", \"1999-07-30T00:00:00\", \"1981-12-17T00:00:00\", \"1995-04-26T00:00:00\", \"1991-11-21T00:00:00\", \"1995-05-04T00:00:00\", \"1997-01-10T00:00:00\", \"1997-10-16T00:00:00\", \"2000-06-29T00:00:00\", \"2000-04-25T00:00:00\", \"1999-04-04T00:00:00\", \"1999-07-12T00:00:00\", \"1999-04-08T00:00:00\", \"1999-06-24T00:00:00\", \"2000-01-22T00:00:00\", \"1982-09-27T00:00:00\", \"1999-09-26T00:00:00\", \"2000-04-16T00:00:00\", \"1990-06-10T00:00:00\", \"1985-02-17T00:00:00\", \"1993-04-22T00:00:00\", \"1999-04-03T00:00:00\", \"1999-04-12T00:00:00\", \"1985-06-05T00:00:00\", \"1992-08-25T00:00:00\", \"1997-08-18T00:00:00\", \"1999-06-06T00:00:00\", \"2000-06-21T00:00:00\", \"1999-08-20T00:00:00\", \"1996-11-08T00:00:00\", \"1992-02-11T00:00:00\", \"1999-08-22T00:00:00\", \"1999-03-26T00:00:00\", \"1978-10-27T00:00:00\", \"1999-01-25T00:00:00\", \"1999-09-24T00:00:00\", \"1999-02-06T00:00:00\", \"1979-09-08T00:00:00\", \"1999-07-30T00:00:00\", \"1985-06-21T00:00:00\", \"1999-02-24T00:00:00\", \"2000-11-20T00:00:00\", \"1999-09-26T00:00:00\", \"2000-07-19T00:00:00\", \"2000-03-15T00:00:00\", \"2000-01-11T00:00:00\", \"1999-04-19T00:00:00\", \"1999-06-27T00:00:00\", \"1999-12-22T00:00:00\", \"1999-01-07T00:00:00\", \"1981-12-21T00:00:00\", \"2000-10-04T00:00:00\", \"2000-08-28T00:00:00\", \"1999-10-16T00:00:00\", \"1999-12-21T00:00:00\", \"1988-03-24T00:00:00\", \"1992-07-28T00:00:00\", \"1970-09-22T00:00:00\", \"1985-11-18T00:00:00\", \"1985-01-03T00:00:00\", \"1985-02-22T00:00:00\", \"1982-02-27T00:00:00\", \"1995-07-14T00:00:00\", \"1986-02-06T00:00:00\", \"1989-02-11T00:00:00\", \"1982-06-18T00:00:00\", \"1990-06-13T00:00:00\", \"1974-10-05T00:00:00\", \"1982-12-07T00:00:00\", \"1984-04-04T00:00:00\", \"1977-01-10T00:00:00\", \"2000-04-06T00:00:00\", \"2001-06-09T00:00:00\", \"1995-11-09T00:00:00\", \"1980-10-24T00:00:00\", \"1989-06-30T00:00:00\", \"1973-05-02T00:00:00\", \"1991-02-01T00:00:00\", \"1991-11-26T00:00:00\", \"2000-08-01T00:00:00\", \"1999-02-10T00:00:00\", \"2000-12-13T00:00:00\", \"1999-05-14T00:00:00\", \"2001-03-31T00:00:00\", \"2001-04-20T00:00:00\", \"2001-02-17T00:00:00\", \"2001-02-15T00:00:00\", \"1999-03-02T00:00:00\", \"2000-07-29T00:00:00\", \"2001-10-10T00:00:00\", \"2000-08-04T00:00:00\", \"2000-08-02T00:00:00\", \"1999-06-08T00:00:00\", \"1999-03-12T00:00:00\", \"1999-10-30T00:00:00\", \"1999-10-16T00:00:00\", \"2000-07-07T00:00:00\", \"1999-10-20T00:00:00\", \"2000-05-20T00:00:00\", \"1985-11-04T00:00:00\", \"1992-08-21T00:00:00\", \"1998-01-21T00:00:00\", \"1992-09-29T00:00:00\", \"1998-06-28T00:00:00\", \"1997-09-16T00:00:00\", \"1997-09-16T00:00:00\", \"1994-05-10T00:00:00\", \"1997-04-22T00:00:00\", \"1999-03-02T00:00:00\", \"1974-02-06T00:00:00\", \"1983-12-05T00:00:00\", \"1978-12-25T00:00:00\", \"1983-07-04T00:00:00\", \"1999-03-09T00:00:00\", \"1999-03-02T00:00:00\", \"2000-04-12T00:00:00\", \"1980-12-17T00:00:00\", \"1999-03-03T00:00:00\", \"1982-04-25T00:00:00\", \"1999-11-28T00:00:00\", \"1999-07-17T00:00:00\", \"1984-12-25T00:00:00\", \"2000-02-14T00:00:00\", \"1989-08-04T00:00:00\", \"1974-09-02T00:00:00\", \"1999-05-21T00:00:00\", \"1971-12-10T00:00:00\", \"1971-06-14T00:00:00\", \"1969-02-26T00:00:00\", \"1982-07-17T00:00:00\", \"1987-01-21T00:00:00\", \"1988-08-23T00:00:00\", \"1972-09-08T00:00:00\", \"2000-04-03T00:00:00\", \"1999-07-03T00:00:00\", \"1968-01-28T00:00:00\", \"1983-11-03T00:00:00\", \"1991-08-11T00:00:00\", \"2001-12-30T00:00:00\", \"1996-06-25T00:00:00\", \"1969-04-09T00:00:00\", \"1994-03-20T00:00:00\", \"1998-07-03T00:00:00\", \"1968-03-08T00:00:00\", \"1998-11-28T00:00:00\", \"1998-08-14T00:00:00\", \"1971-06-02T00:00:00\", \"1997-05-27T00:00:00\", \"1973-12-28T00:00:00\", \"1999-06-24T00:00:00\", \"1998-02-17T00:00:00\", \"1998-06-30T00:00:00\", \"1998-02-01T00:00:00\", \"2000-03-21T00:00:00\", \"2000-04-15T00:00:00\", \"2000-11-09T00:00:00\", \"1993-05-19T00:00:00\", \"1998-11-29T00:00:00\", \"1990-10-27T00:00:00\", \"1987-10-12T00:00:00\", \"1972-04-26T00:00:00\", \"1991-03-01T00:00:00\", \"1983-02-10T00:00:00\", \"1997-02-11T00:00:00\", \"2000-02-21T00:00:00\", \"1997-03-02T00:00:00\", \"1998-02-08T00:00:00\", \"1999-08-20T00:00:00\", \"1997-07-10T00:00:00\", \"1984-10-15T00:00:00\", \"1995-04-19T00:00:00\", \"1979-05-06T00:00:00\", \"1991-02-27T00:00:00\", \"2001-11-01T00:00:00\", \"1998-05-13T00:00:00\", \"1979-10-09T00:00:00\", \"1988-05-07T00:00:00\", \"1987-03-05T00:00:00\", \"1986-11-17T00:00:00\", \"1989-06-14T00:00:00\", \"1985-02-05T00:00:00\", \"1985-02-21T00:00:00\", \"1997-01-01T00:00:00\", \"2000-10-13T00:00:00\", \"1990-01-03T00:00:00\", \"1982-09-05T00:00:00\", \"2000-01-28T00:00:00\", \"1991-03-19T00:00:00\", \"1999-10-12T00:00:00\", \"1999-09-05T00:00:00\", \"2000-02-08T00:00:00\", \"1976-05-12T00:00:00\", \"1999-06-02T00:00:00\", \"1988-11-15T00:00:00\", \"1987-05-31T00:00:00\", \"1988-07-01T00:00:00\", \"1986-06-12T00:00:00\", \"1991-03-09T00:00:00\", \"1990-11-06T00:00:00\", \"1988-03-15T00:00:00\", \"1982-02-10T00:00:00\", \"1990-07-21T00:00:00\", \"1998-03-31T00:00:00\", \"1996-04-05T00:00:00\", \"1985-03-15T00:00:00\", \"1996-12-03T00:00:00\", \"1995-01-26T00:00:00\", \"1998-02-25T00:00:00\", \"1994-05-23T00:00:00\", \"1998-10-10T00:00:00\", \"1997-06-28T00:00:00\", \"1995-12-04T00:00:00\", \"1997-07-14T00:00:00\", \"1983-09-03T00:00:00\", \"1981-08-31T00:00:00\", \"1997-06-28T00:00:00\", \"1983-07-14T00:00:00\", \"1997-08-25T00:00:00\", \"1988-08-08T00:00:00\", \"1983-03-25T00:00:00\", \"1990-11-26T00:00:00\", \"1990-05-16T00:00:00\", \"1989-02-06T00:00:00\", \"1991-09-19T00:00:00\", \"1996-05-04T00:00:00\", \"1984-11-11T00:00:00\", \"1984-12-05T00:00:00\", \"1988-03-28T00:00:00\", \"1984-05-23T00:00:00\", \"1976-05-24T00:00:00\", \"1976-09-26T00:00:00\", \"1989-06-08T00:00:00\", \"1992-09-28T00:00:00\", \"1987-05-07T00:00:00\", \"1993-06-25T00:00:00\", \"1981-04-09T00:00:00\", \"1992-11-04T00:00:00\", \"1984-12-22T00:00:00\", \"1994-11-13T00:00:00\", \"1993-07-07T00:00:00\", \"1992-01-12T00:00:00\", \"1994-08-19T00:00:00\", \"1997-05-20T00:00:00\", \"1997-11-03T00:00:00\", \"1986-05-20T00:00:00\", \"1993-11-17T00:00:00\", \"1997-01-29T00:00:00\", \"1992-12-16T00:00:00\", \"1982-04-18T00:00:00\", \"1966-02-23T00:00:00\", \"1966-08-23T00:00:00\", \"1968-08-07T00:00:00\", \"1972-07-05T00:00:00\", \"1974-01-08T00:00:00\", \"1992-04-29T00:00:00\", \"1999-06-05T00:00:00\", \"1999-09-10T00:00:00\", \"2001-01-16T00:00:00\", \"1999-07-23T00:00:00\", \"1999-04-10T00:00:00\", \"1999-10-18T00:00:00\", \"1999-06-11T00:00:00\", \"1987-05-24T00:00:00\", \"1997-12-22T00:00:00\", \"1982-05-14T00:00:00\", \"1998-08-20T00:00:00\", \"1998-03-17T00:00:00\", \"1997-05-21T00:00:00\", \"1997-11-07T00:00:00\", \"1998-10-22T00:00:00\", \"1997-02-16T00:00:00\", \"1997-02-02T00:00:00\", \"1997-03-25T00:00:00\", \"1997-09-04T00:00:00\", \"1998-02-07T00:00:00\", \"1997-04-04T00:00:00\", \"1997-01-15T00:00:00\", \"1997-01-13T00:00:00\", \"1998-07-06T00:00:00\", \"1997-03-01T00:00:00\", \"1973-07-22T00:00:00\", \"1997-04-22T00:00:00\", \"1997-04-07T00:00:00\", \"1997-09-28T00:00:00\", \"1997-12-04T00:00:00\", \"1998-12-20T00:00:00\", \"1998-01-15T00:00:00\", \"1997-12-27T00:00:00\", \"1997-12-27T00:00:00\", \"1997-03-18T00:00:00\", \"1997-07-03T00:00:00\", \"1997-01-02T00:00:00\", \"1997-05-01T00:00:00\", \"1979-11-30T00:00:00\", \"1997-07-07T00:00:00\", \"1994-03-19T00:00:00\", \"1997-12-03T00:00:00\", \"1998-03-16T00:00:00\", \"1997-10-18T00:00:00\", \"1997-08-15T00:00:00\", \"1997-06-16T00:00:00\", \"1997-04-29T00:00:00\", \"1997-06-02T00:00:00\", \"1997-11-27T00:00:00\", \"1997-03-08T00:00:00\", \"1999-02-02T00:00:00\", \"1999-11-13T00:00:00\", \"1997-05-26T00:00:00\", \"1998-01-27T00:00:00\", \"1997-08-01T00:00:00\", \"1997-07-23T00:00:00\", \"1998-03-20T00:00:00\", \"1997-08-20T00:00:00\", \"1997-03-19T00:00:00\", \"1981-09-28T00:00:00\", \"1983-06-29T00:00:00\", \"1999-03-18T00:00:00\", \"1986-09-08T00:00:00\", \"1989-02-22T00:00:00\", \"1986-07-11T00:00:00\", \"1984-08-28T00:00:00\", \"1997-05-10T00:00:00\", \"1991-02-02T00:00:00\", \"1990-07-03T00:00:00\", \"1992-03-27T00:00:00\", \"1995-10-07T00:00:00\", \"2000-03-01T00:00:00\", \"1994-04-07T00:00:00\", \"1993-07-22T00:00:00\", \"1988-01-23T00:00:00\", \"1986-03-03T00:00:00\", \"1985-08-08T00:00:00\", \"1974-02-14T00:00:00\", \"1995-11-05T00:00:00\", \"1994-04-25T00:00:00\", \"1998-03-09T00:00:00\", \"1988-08-14T00:00:00\", \"1998-02-24T00:00:00\", \"1993-04-18T00:00:00\", \"2000-11-10T00:00:00\", \"1999-07-25T00:00:00\", \"1999-12-01T00:00:00\", \"1997-08-26T00:00:00\", \"1992-05-12T00:00:00\", \"1994-05-25T00:00:00\", \"1988-06-17T00:00:00\", \"1997-05-18T00:00:00\", \"1984-04-10T00:00:00\", \"1998-02-26T00:00:00\", \"1987-01-27T00:00:00\", \"1980-10-10T00:00:00\", \"1973-08-10T00:00:00\", \"1980-02-02T00:00:00\", \"1990-08-23T00:00:00\", \"1989-08-04T00:00:00\", \"1985-05-22T00:00:00\", \"1997-09-23T00:00:00\", \"1985-12-29T00:00:00\", \"1997-08-25T00:00:00\", \"1998-03-15T00:00:00\", \"1997-08-07T00:00:00\", \"1999-05-16T00:00:00\", \"1995-07-04T00:00:00\", \"1987-01-17T00:00:00\", \"1994-12-08T00:00:00\", \"1993-12-30T00:00:00\", \"1978-06-30T00:00:00\", \"1984-03-19T00:00:00\", \"1988-10-10T00:00:00\", \"1978-04-14T00:00:00\", \"1995-05-18T00:00:00\", \"1988-11-16T00:00:00\", \"1995-10-24T00:00:00\", \"1974-03-05T00:00:00\", \"1987-11-13T00:00:00\", \"1997-05-31T00:00:00\", \"1992-02-14T00:00:00\", \"1996-06-21T00:00:00\", \"1997-01-04T00:00:00\", \"1994-08-02T00:00:00\", \"1998-01-11T00:00:00\", \"1999-04-07T00:00:00\", \"1992-11-22T00:00:00\", \"1987-09-14T00:00:00\", \"1996-09-22T00:00:00\", \"1997-02-09T00:00:00\", \"1997-07-11T00:00:00\", \"1999-05-20T00:00:00\", \"1999-12-13T00:00:00\", \"1997-12-19T00:00:00\", \"1974-05-07T00:00:00\", \"1988-10-13T00:00:00\", \"1997-04-17T00:00:00\", \"1990-09-29T00:00:00\", \"1997-03-22T00:00:00\", \"1996-08-18T00:00:00\", \"1998-04-23T00:00:00\", \"1996-03-04T00:00:00\", \"1992-11-27T00:00:00\", \"1991-01-21T00:00:00\", \"1996-06-21T00:00:00\", \"1995-09-24T00:00:00\", \"1994-11-09T00:00:00\", \"1992-10-11T00:00:00\", \"1995-06-01T00:00:00\", \"1998-03-22T00:00:00\", \"1997-03-18T00:00:00\", \"1997-09-19T00:00:00\", \"1998-09-01T00:00:00\", \"1997-07-24T00:00:00\", \"1991-03-08T00:00:00\", \"1997-07-21T00:00:00\", \"1998-09-24T00:00:00\", \"1994-08-11T00:00:00\", \"1990-08-23T00:00:00\", \"1995-12-03T00:00:00\", \"1995-11-22T00:00:00\", \"1994-09-08T00:00:00\", \"1991-04-25T00:00:00\", \"1996-07-16T00:00:00\", \"1988-12-22T00:00:00\", \"1994-08-14T00:00:00\", \"1997-05-11T00:00:00\", \"1999-10-09T00:00:00\", \"1996-04-24T00:00:00\", \"1993-08-04T00:00:00\", \"1993-07-26T00:00:00\", \"1994-03-16T00:00:00\", \"1999-06-15T00:00:00\", \"1995-11-17T00:00:00\", \"1990-04-24T00:00:00\", \"1995-07-02T00:00:00\", \"1995-10-07T00:00:00\", \"1997-07-11T00:00:00\", \"1997-08-10T00:00:00\", \"1999-08-29T00:00:00\", \"1990-07-14T00:00:00\", \"1993-03-30T00:00:00\", \"1992-04-23T00:00:00\", \"1990-01-04T00:00:00\", \"1997-03-05T00:00:00\", \"1989-03-28T00:00:00\", \"1981-08-26T00:00:00\", \"1997-05-01T00:00:00\", \"1997-08-20T00:00:00\", \"1994-04-27T00:00:00\", \"2000-07-30T00:00:00\", \"1996-02-14T00:00:00\", \"1999-05-20T00:00:00\", \"1991-10-19T00:00:00\", \"1992-12-08T00:00:00\", \"1996-08-23T00:00:00\", \"1994-09-02T00:00:00\", \"1999-05-01T00:00:00\", \"1994-10-23T00:00:00\", \"2001-05-17T00:00:00\", \"1996-11-19T00:00:00\", \"1976-06-20T00:00:00\", \"1996-07-22T00:00:00\", \"1999-11-29T00:00:00\", \"2000-06-01T00:00:00\", \"1990-12-29T00:00:00\", \"1995-05-15T00:00:00\", \"1996-11-18T00:00:00\", \"1995-06-29T00:00:00\", \"1997-08-05T00:00:00\", \"1995-06-13T00:00:00\", \"1997-05-01T00:00:00\", \"2001-08-07T00:00:00\", \"2001-02-02T00:00:00\", \"1998-03-12T00:00:00\", \"1997-03-02T00:00:00\", \"1982-04-17T00:00:00\", \"1997-03-05T00:00:00\", \"1997-08-10T00:00:00\", \"1990-03-24T00:00:00\", \"1992-07-07T00:00:00\", \"1993-01-25T00:00:00\", \"1980-04-03T00:00:00\", \"1997-03-08T00:00:00\", \"1997-05-08T00:00:00\", \"1999-06-13T00:00:00\", \"1997-05-11T00:00:00\", \"1997-05-08T00:00:00\", \"1979-05-07T00:00:00\", \"1990-07-02T00:00:00\", \"1997-07-24T00:00:00\", \"1991-09-22T00:00:00\", \"1997-09-12T00:00:00\", \"1993-09-15T00:00:00\", \"1991-11-20T00:00:00\", \"1992-03-20T00:00:00\", \"1988-04-22T00:00:00\", \"1996-12-26T00:00:00\", \"1991-09-20T00:00:00\", \"1974-08-04T00:00:00\", \"1984-06-25T00:00:00\", \"1988-01-02T00:00:00\", \"1975-01-25T00:00:00\", \"1988-04-26T00:00:00\", \"1985-07-04T00:00:00\", \"1990-01-27T00:00:00\", \"1994-05-26T00:00:00\", \"1983-04-12T00:00:00\", \"1989-05-22T00:00:00\", \"1991-10-07T00:00:00\", \"1987-12-13T00:00:00\", \"1981-09-03T00:00:00\", \"1987-11-08T00:00:00\", \"1984-12-28T00:00:00\", \"1987-01-16T00:00:00\", \"1994-05-18T00:00:00\", \"1994-09-17T00:00:00\", \"1986-03-25T00:00:00\", \"1993-08-31T00:00:00\", \"1996-10-30T00:00:00\", \"1997-03-02T00:00:00\", \"1995-09-23T00:00:00\", \"1998-08-31T00:00:00\", \"1991-03-26T00:00:00\", \"1991-10-18T00:00:00\", \"1990-10-03T00:00:00\", \"1995-10-19T00:00:00\", \"1997-10-28T00:00:00\", \"1998-12-14T00:00:00\", \"1998-12-26T00:00:00\", \"1997-09-26T00:00:00\", \"1997-05-06T00:00:00\", \"1999-04-27T00:00:00\", \"1999-04-12T00:00:00\", \"1999-07-20T00:00:00\", \"1999-08-08T00:00:00\", \"1999-02-12T00:00:00\", \"1999-06-05T00:00:00\", \"1999-01-23T00:00:00\", \"1999-09-13T00:00:00\", \"1998-10-20T00:00:00\", \"1996-01-15T00:00:00\", \"1986-06-06T00:00:00\", \"1986-11-22T00:00:00\", \"1993-07-31T00:00:00\", \"1997-01-28T00:00:00\", \"1995-06-20T00:00:00\", \"1994-07-06T00:00:00\", \"1994-08-25T00:00:00\", \"1994-11-07T00:00:00\", \"1994-01-04T00:00:00\", \"1997-05-31T00:00:00\", \"1998-07-02T00:00:00\", \"1997-06-07T00:00:00\", \"1973-10-17T00:00:00\", \"1999-07-15T00:00:00\", \"1999-05-22T00:00:00\", \"1998-01-10T00:00:00\", \"1998-07-12T00:00:00\", \"1998-01-16T00:00:00\", \"1997-08-06T00:00:00\", \"1998-11-09T00:00:00\", \"1993-07-25T00:00:00\", \"1998-08-19T00:00:00\", \"1997-05-12T00:00:00\", \"1996-10-23T00:00:00\", \"1999-09-07T00:00:00\", \"2001-05-20T00:00:00\", \"1999-04-10T00:00:00\", \"1971-07-03T00:00:00\", \"1999-06-17T00:00:00\", \"1997-09-28T00:00:00\", \"1997-08-25T00:00:00\", \"2000-07-15T00:00:00\", \"1997-01-25T00:00:00\", \"1998-03-11T00:00:00\", \"1999-04-02T00:00:00\", \"1998-04-15T00:00:00\", \"1998-12-23T00:00:00\", \"1998-12-28T00:00:00\", \"1997-07-19T00:00:00\", \"1998-03-19T00:00:00\", \"1999-01-06T00:00:00\", \"2000-08-09T00:00:00\", \"1999-08-28T00:00:00\", \"1998-04-09T00:00:00\", \"2000-06-01T00:00:00\", \"1999-05-03T00:00:00\", \"1999-08-27T00:00:00\", \"1999-01-19T00:00:00\", \"1999-07-11T00:00:00\", \"2000-03-03T00:00:00\", \"1997-02-10T00:00:00\", \"1998-11-30T00:00:00\", \"1997-02-07T00:00:00\", \"1998-01-21T00:00:00\", \"1997-09-29T00:00:00\", \"1998-01-18T00:00:00\", \"1992-04-07T00:00:00\", \"1979-06-24T00:00:00\", \"1989-01-08T00:00:00\", \"1999-08-25T00:00:00\", \"2000-05-06T00:00:00\", \"1993-04-27T00:00:00\", \"1999-11-15T00:00:00\", \"1983-04-14T00:00:00\", \"1999-04-22T00:00:00\", \"1999-04-22T00:00:00\", \"2000-05-06T00:00:00\", \"1999-06-06T00:00:00\", \"1998-10-24T00:00:00\", \"2000-06-03T00:00:00\", \"1998-07-14T00:00:00\", \"1999-08-16T00:00:00\", \"1999-12-06T00:00:00\", \"1999-08-19T00:00:00\", \"1999-08-16T00:00:00\", \"1999-12-06T00:00:00\", \"1969-08-23T00:00:00\", \"1992-03-13T00:00:00\", \"1973-03-08T00:00:00\", \"1966-06-03T00:00:00\", \"1987-02-18T00:00:00\", \"1988-07-13T00:00:00\", \"1984-08-18T00:00:00\", \"1981-02-17T00:00:00\", \"1969-09-08T00:00:00\", \"1971-07-11T00:00:00\", \"1971-09-29T00:00:00\", \"1969-04-30T00:00:00\", \"1974-09-29T00:00:00\", \"1969-03-03T00:00:00\", \"1971-11-11T00:00:00\", \"1968-06-28T00:00:00\", \"1969-09-28T00:00:00\", \"1999-05-05T00:00:00\", \"1999-12-11T00:00:00\", \"1999-02-02T00:00:00\", \"1999-09-15T00:00:00\", \"1999-01-08T00:00:00\", \"2000-08-14T00:00:00\", \"1999-12-28T00:00:00\", \"1999-05-27T00:00:00\", \"1999-06-26T00:00:00\", \"1999-03-17T00:00:00\", \"2000-03-24T00:00:00\", \"1999-04-27T00:00:00\", \"1999-09-05T00:00:00\", \"1999-01-16T00:00:00\", \"1999-06-22T00:00:00\", \"2001-07-05T00:00:00\", \"2000-01-25T00:00:00\", \"2000-04-25T00:00:00\", \"2000-07-01T00:00:00\", \"1999-11-13T00:00:00\", \"1997-07-23T00:00:00\", \"1971-11-23T00:00:00\", \"1972-07-01T00:00:00\", \"1991-07-12T00:00:00\", \"1998-02-01T00:00:00\", \"1989-12-16T00:00:00\", \"1991-08-29T00:00:00\", \"1981-06-02T00:00:00\", \"1991-07-12T00:00:00\", \"1981-05-12T00:00:00\", \"1989-12-11T00:00:00\", \"1995-07-13T00:00:00\", \"1983-12-07T00:00:00\", \"1995-03-26T00:00:00\", \"1994-07-26T00:00:00\", \"1981-07-04T00:00:00\", \"1971-06-28T00:00:00\", \"1973-12-18T00:00:00\", \"1985-02-15T00:00:00\", \"1993-06-19T00:00:00\", \"1984-03-08T00:00:00\", \"1999-08-04T00:00:00\", \"2000-12-14T00:00:00\", \"1993-11-15T00:00:00\", \"1988-03-26T00:00:00\", \"1983-08-05T00:00:00\", \"1998-12-19T00:00:00\", \"1998-02-09T00:00:00\", \"1991-10-07T00:00:00\", \"1995-11-29T00:00:00\", \"1997-02-14T00:00:00\", \"1997-06-07T00:00:00\", \"1998-09-13T00:00:00\", \"1988-10-03T00:00:00\", \"1987-07-20T00:00:00\", \"1985-05-11T00:00:00\", \"1993-02-16T00:00:00\", \"1980-04-27T00:00:00\", \"1993-06-07T00:00:00\", \"1997-07-22T00:00:00\", \"1988-12-23T00:00:00\", \"1996-11-04T00:00:00\", \"1983-09-21T00:00:00\", \"1991-05-28T00:00:00\", \"2000-04-04T00:00:00\", \"1997-03-19T00:00:00\", \"1981-03-19T00:00:00\", \"1992-09-12T00:00:00\", \"1996-08-24T00:00:00\", \"1994-05-31T00:00:00\", \"1989-03-10T00:00:00\", \"1977-09-29T00:00:00\", \"1988-05-30T00:00:00\", \"1989-09-25T00:00:00\", \"1974-11-29T00:00:00\", \"1986-06-23T00:00:00\", \"1979-07-07T00:00:00\", \"1974-11-25T00:00:00\", \"1974-11-03T00:00:00\", \"1990-06-30T00:00:00\", \"1990-05-06T00:00:00\", \"1966-08-16T00:00:00\", \"1997-02-22T00:00:00\", \"1997-07-18T00:00:00\", \"1998-09-01T00:00:00\", \"1998-01-28T00:00:00\", \"1998-11-11T00:00:00\", \"1998-05-16T00:00:00\", \"1998-02-25T00:00:00\", \"1998-01-19T00:00:00\", \"1997-11-14T00:00:00\", \"1998-05-08T00:00:00\", \"1998-12-03T00:00:00\", \"1998-10-22T00:00:00\", \"1997-05-22T00:00:00\", \"1998-06-20T00:00:00\", \"1998-08-23T00:00:00\", \"1971-12-04T00:00:00\", \"1998-02-21T00:00:00\", \"1999-04-14T00:00:00\", \"1998-04-23T00:00:00\", \"1999-08-29T00:00:00\", \"2000-04-24T00:00:00\", \"2000-03-17T00:00:00\", \"1999-03-14T00:00:00\", \"1999-07-08T00:00:00\", \"2000-10-18T00:00:00\", \"1970-07-06T00:00:00\", \"1973-04-22T00:00:00\", \"1988-12-06T00:00:00\", \"1999-05-16T00:00:00\", \"1999-03-19T00:00:00\", \"1986-08-25T00:00:00\", \"1989-05-05T00:00:00\", \"1991-10-24T00:00:00\", \"1995-12-02T00:00:00\", \"1988-06-30T00:00:00\", \"1995-02-19T00:00:00\", \"1996-06-06T00:00:00\", \"1997-08-28T00:00:00\", \"1997-12-25T00:00:00\", \"1999-02-13T00:00:00\", \"1996-02-04T00:00:00\", \"1997-07-02T00:00:00\", \"1993-06-13T00:00:00\", \"1997-04-09T00:00:00\", \"1991-07-31T00:00:00\", \"2001-09-26T00:00:00\", \"1990-06-07T00:00:00\", \"1997-07-29T00:00:00\", \"1997-08-09T00:00:00\", \"1998-05-11T00:00:00\", \"1997-02-14T00:00:00\", \"1999-07-21T00:00:00\", \"1996-08-12T00:00:00\", \"1988-07-15T00:00:00\", \"1989-08-18T00:00:00\", \"1997-01-22T00:00:00\", \"1996-03-24T00:00:00\", \"1992-10-15T00:00:00\", \"1995-03-03T00:00:00\", \"1994-04-06T00:00:00\", \"1983-06-08T00:00:00\", \"1998-08-25T00:00:00\", \"1994-05-10T00:00:00\", \"1992-04-11T00:00:00\", \"1998-04-23T00:00:00\", \"1995-06-19T00:00:00\", \"1985-12-05T00:00:00\", \"1986-03-18T00:00:00\", \"1990-05-30T00:00:00\", \"1988-09-01T00:00:00\", \"1991-05-07T00:00:00\", \"1988-12-24T00:00:00\", \"1991-10-14T00:00:00\", \"1988-09-03T00:00:00\", \"1989-05-18T00:00:00\", \"1989-05-18T00:00:00\", \"1978-06-01T00:00:00\", \"1986-09-24T00:00:00\", \"1990-11-01T00:00:00\", \"1992-12-28T00:00:00\", \"1994-05-10T00:00:00\", \"1994-03-15T00:00:00\", \"1997-01-11T00:00:00\", \"1996-10-18T00:00:00\", \"1995-01-12T00:00:00\", \"1984-06-09T00:00:00\", \"1983-03-24T00:00:00\", \"1985-06-06T00:00:00\", \"2001-12-02T00:00:00\", \"1986-04-09T00:00:00\", \"1975-08-08T00:00:00\", \"1981-01-06T00:00:00\", \"1983-10-04T00:00:00\", \"1997-08-18T00:00:00\", \"1979-04-08T00:00:00\", \"1986-03-25T00:00:00\", \"1999-10-28T00:00:00\", \"1992-03-20T00:00:00\", \"1999-05-06T00:00:00\", \"2000-04-08T00:00:00\", \"1999-02-11T00:00:00\", \"1990-08-18T00:00:00\", \"1999-03-08T00:00:00\", \"2000-12-23T00:00:00\", \"1999-03-14T00:00:00\", \"1999-10-09T00:00:00\", \"2001-09-24T00:00:00\", \"2000-01-27T00:00:00\", \"2000-12-14T00:00:00\", \"1991-03-03T00:00:00\", \"1998-05-10T00:00:00\", \"1988-04-05T00:00:00\", \"1999-11-17T00:00:00\", \"2000-01-22T00:00:00\", \"1999-02-10T00:00:00\", \"2001-02-07T00:00:00\", \"2000-01-18T00:00:00\", \"1999-06-30T00:00:00\", \"1999-01-25T00:00:00\", \"1999-07-06T00:00:00\", \"1999-08-12T00:00:00\", \"1985-10-16T00:00:00\", \"1996-05-20T00:00:00\", \"1995-11-26T00:00:00\", \"1991-05-24T00:00:00\", \"1996-11-03T00:00:00\", \"1996-12-25T00:00:00\", \"1991-03-16T00:00:00\", \"1997-05-19T00:00:00\", \"1997-07-31T00:00:00\", \"1991-10-03T00:00:00\", \"1986-04-12T00:00:00\", \"1988-01-30T00:00:00\", \"1995-06-18T00:00:00\", \"1995-08-15T00:00:00\", \"1997-04-29T00:00:00\", \"1985-08-20T00:00:00\", \"1985-06-30T00:00:00\", \"1987-11-30T00:00:00\", \"1989-06-11T00:00:00\", \"1985-10-03T00:00:00\", \"1998-03-16T00:00:00\", \"1998-03-26T00:00:00\", \"1996-02-20T00:00:00\", \"1971-10-14T00:00:00\", \"1985-06-01T00:00:00\", \"1998-01-15T00:00:00\", \"1985-02-10T00:00:00\", \"1983-03-03T00:00:00\", \"1995-12-31T00:00:00\", \"1989-06-12T00:00:00\", \"1994-07-22T00:00:00\", \"1988-10-19T00:00:00\", \"2000-01-20T00:00:00\", \"1999-06-07T00:00:00\", \"1999-02-10T00:00:00\", \"1990-03-21T00:00:00\", \"1997-04-04T00:00:00\", \"1992-11-16T00:00:00\", \"1999-08-01T00:00:00\", \"1999-05-07T00:00:00\", \"1988-03-06T00:00:00\", \"1979-12-26T00:00:00\", \"1997-04-03T00:00:00\", \"1990-07-24T00:00:00\", \"1987-12-17T00:00:00\", \"1997-09-22T00:00:00\", \"2000-08-23T00:00:00\", \"1998-05-05T00:00:00\", \"1985-06-22T00:00:00\", \"1998-04-10T00:00:00\", \"1997-05-27T00:00:00\", \"1998-04-09T00:00:00\", \"1990-08-10T00:00:00\", \"1968-10-20T00:00:00\", \"1989-09-24T00:00:00\", \"1985-09-16T00:00:00\", \"1977-12-28T00:00:00\", \"1995-05-28T00:00:00\", \"1972-05-13T00:00:00\", \"1984-12-10T00:00:00\", \"1997-12-12T00:00:00\", \"1997-08-09T00:00:00\", \"1986-11-13T00:00:00\", \"1998-12-08T00:00:00\", \"1997-02-11T00:00:00\", \"1997-12-24T00:00:00\", \"1985-04-09T00:00:00\", \"1982-10-17T00:00:00\", \"1983-01-19T00:00:00\", \"1992-11-18T00:00:00\", \"2012-01-21T00:00:00\", \"1998-03-13T00:00:00\", \"1999-07-25T00:00:00\", \"1999-07-17T00:00:00\", \"1999-11-11T00:00:00\", \"1981-06-04T00:00:00\", \"1997-04-05T00:00:00\", \"1998-10-09T00:00:00\", \"1996-03-18T00:00:00\", \"1997-10-23T00:00:00\", \"1998-05-31T00:00:00\", \"1997-03-02T00:00:00\", \"1997-08-18T00:00:00\", \"2000-11-22T00:00:00\", \"1985-05-05T00:00:00\", \"2000-02-17T00:00:00\", \"2001-09-14T00:00:00\", \"2000-05-12T00:00:00\", \"2000-12-17T00:00:00\", \"1999-04-03T00:00:00\", \"1997-03-22T00:00:00\", \"1999-02-28T00:00:00\", \"1999-08-22T00:00:00\", \"1999-07-15T00:00:00\", \"1998-01-01T00:00:00\", \"1998-12-14T00:00:00\", \"1997-06-07T00:00:00\", \"2000-02-28T00:00:00\", \"1999-11-25T00:00:00\", \"1997-12-06T00:00:00\", \"2000-05-18T00:00:00\", \"1996-08-10T00:00:00\", \"1989-02-04T00:00:00\", \"1992-03-04T00:00:00\", \"1998-01-07T00:00:00\", \"1997-04-30T00:00:00\", \"1999-03-15T00:00:00\", \"1977-06-20T00:00:00\", \"1997-02-06T00:00:00\", \"1999-10-16T00:00:00\", \"1998-06-21T00:00:00\", \"1999-03-10T00:00:00\", \"1997-09-10T00:00:00\", \"1997-08-16T00:00:00\", \"1999-08-06T00:00:00\", \"1998-12-08T00:00:00\", \"1994-09-18T00:00:00\", \"1976-10-05T00:00:00\", \"1998-01-25T00:00:00\", \"1984-03-30T00:00:00\", \"1985-10-26T00:00:00\", \"1999-06-20T00:00:00\", \"1998-10-05T00:00:00\", \"1977-08-27T00:00:00\", \"1999-07-05T00:00:00\", \"1976-07-28T00:00:00\", \"1994-05-01T00:00:00\", \"1999-05-27T00:00:00\", \"1973-05-22T00:00:00\", \"1982-06-12T00:00:00\", \"1974-11-22T00:00:00\", \"1982-04-19T00:00:00\", \"1988-07-09T00:00:00\", \"2000-03-02T00:00:00\", \"1997-06-03T00:00:00\", \"1995-03-12T00:00:00\", \"1997-10-09T00:00:00\", \"1998-10-30T00:00:00\", \"1998-04-05T00:00:00\", \"1998-10-17T00:00:00\", \"1994-08-14T00:00:00\", \"1980-04-26T00:00:00\", \"1998-03-02T00:00:00\", \"1980-07-15T00:00:00\", \"1998-08-13T00:00:00\", \"1998-01-30T00:00:00\", \"1989-04-27T00:00:00\", \"1990-12-16T00:00:00\", \"1985-03-23T00:00:00\", \"1990-12-04T00:00:00\", \"1984-05-01T00:00:00\", \"1985-07-16T00:00:00\", \"1999-07-15T00:00:00\", \"1999-02-09T00:00:00\", \"1999-10-14T00:00:00\", \"1997-06-18T00:00:00\", \"1987-06-27T00:00:00\", \"1992-04-28T00:00:00\", \"1990-04-06T00:00:00\", \"2000-05-27T00:00:00\", \"1985-08-27T00:00:00\", \"1990-10-20T00:00:00\", \"1989-09-28T00:00:00\", \"1991-02-24T00:00:00\", \"1991-04-25T00:00:00\", \"1986-02-26T00:00:00\", \"1985-12-04T00:00:00\", \"1982-02-03T00:00:00\", \"1999-01-04T00:00:00\", \"1998-01-18T00:00:00\", \"1990-12-10T00:00:00\", \"1993-02-22T00:00:00\", \"1995-02-07T00:00:00\", \"1995-05-01T00:00:00\", \"1996-12-03T00:00:00\", \"1983-01-10T00:00:00\", \"1989-10-19T00:00:00\", \"1985-10-20T00:00:00\", \"1994-01-22T00:00:00\", \"1997-10-20T00:00:00\", \"1995-12-02T00:00:00\", \"2000-12-08T00:00:00\", \"2000-02-19T00:00:00\", \"1999-03-28T00:00:00\", \"1999-01-25T00:00:00\", \"2000-06-21T00:00:00\", \"1999-06-15T00:00:00\", \"1999-06-01T00:00:00\", \"2000-08-31T00:00:00\", \"1998-05-18T00:00:00\", \"1998-08-27T00:00:00\", \"1989-09-14T00:00:00\", \"1981-11-07T00:00:00\", \"1998-04-29T00:00:00\", \"1996-05-29T00:00:00\", \"1996-04-24T00:00:00\", \"1997-05-14T00:00:00\", \"1995-07-18T00:00:00\", \"1991-06-12T00:00:00\", \"1987-08-16T00:00:00\", \"1990-04-04T00:00:00\", \"1994-02-09T00:00:00\", \"1988-01-26T00:00:00\", \"1973-07-26T00:00:00\", \"1991-02-14T00:00:00\", \"1998-06-29T00:00:00\", \"1997-04-09T00:00:00\", \"1997-10-05T00:00:00\", \"1997-09-04T00:00:00\", \"1993-11-04T00:00:00\", \"1981-11-05T00:00:00\", \"1997-02-07T00:00:00\", \"1989-01-12T00:00:00\", \"1986-05-18T00:00:00\", \"1993-05-02T00:00:00\", \"1991-07-13T00:00:00\", \"1988-08-25T00:00:00\", \"1984-10-09T00:00:00\", \"1990-08-21T00:00:00\", \"1983-12-26T00:00:00\", \"1991-02-01T00:00:00\", \"1986-03-05T00:00:00\", \"1986-12-05T00:00:00\", \"1980-01-28T00:00:00\", \"1996-11-12T00:00:00\", \"1980-10-03T00:00:00\", \"1994-12-19T00:00:00\", \"1994-11-25T00:00:00\", \"1996-06-17T00:00:00\", \"1983-05-10T00:00:00\", \"1995-12-08T00:00:00\", \"1999-05-08T00:00:00\", \"1986-11-29T00:00:00\", \"1988-06-22T00:00:00\", \"1985-08-16T00:00:00\", \"2000-10-19T00:00:00\", \"1999-06-13T00:00:00\", \"2000-03-14T00:00:00\", \"1999-10-21T00:00:00\", \"1999-05-09T00:00:00\", \"1999-03-16T00:00:00\", \"1998-09-23T00:00:00\", \"1998-04-16T00:00:00\", \"1998-03-11T00:00:00\", \"1998-07-19T00:00:00\", \"1990-04-14T00:00:00\", \"1995-01-04T00:00:00\", \"1996-04-09T00:00:00\", \"1998-07-04T00:00:00\", \"1993-07-31T00:00:00\", \"1993-08-09T00:00:00\", \"1996-11-04T00:00:00\", \"1999-02-27T00:00:00\", \"2001-01-10T00:00:00\", \"2000-05-09T00:00:00\", \"1972-04-23T00:00:00\", \"1996-07-11T00:00:00\", \"1991-03-18T00:00:00\", \"1983-03-30T00:00:00\", \"1997-08-15T00:00:00\", \"1993-08-05T00:00:00\", \"1988-07-31T00:00:00\", \"1986-03-09T00:00:00\", \"1997-12-29T00:00:00\", \"1998-07-20T00:00:00\", \"1991-08-08T00:00:00\", \"1998-09-11T00:00:00\", \"1991-08-18T00:00:00\", \"1993-01-31T00:00:00\", \"1993-06-09T00:00:00\", \"1996-03-23T00:00:00\", \"1977-10-15T00:00:00\", \"1991-04-24T00:00:00\", \"1997-05-11T00:00:00\", \"1982-07-10T00:00:00\", \"1989-02-26T00:00:00\", \"1997-10-14T00:00:00\", \"1999-06-14T00:00:00\", \"1998-07-29T00:00:00\", \"1996-09-15T00:00:00\", \"1997-11-13T00:00:00\", \"1997-06-11T00:00:00\", \"1999-09-21T00:00:00\", \"1999-11-04T00:00:00\", \"1999-12-13T00:00:00\", \"1999-11-17T00:00:00\", \"1999-08-01T00:00:00\", \"1999-04-04T00:00:00\", \"1996-07-10T00:00:00\", \"1999-02-18T00:00:00\", \"1995-11-10T00:00:00\", \"1999-02-18T00:00:00\", \"1999-06-08T00:00:00\", \"1999-06-08T00:00:00\", \"1997-04-03T00:00:00\", \"2000-03-27T00:00:00\", \"1992-06-30T00:00:00\", \"1998-04-07T00:00:00\", \"1998-07-22T00:00:00\", \"1998-02-10T00:00:00\", \"1990-08-06T00:00:00\", \"1974-07-14T00:00:00\", \"1998-02-24T00:00:00\", \"1998-10-27T00:00:00\", \"1997-10-28T00:00:00\", \"1997-04-30T00:00:00\", \"1998-11-09T00:00:00\", \"1994-08-04T00:00:00\", \"1998-04-14T00:00:00\", \"1998-03-16T00:00:00\", \"1993-02-02T00:00:00\", \"1998-06-17T00:00:00\", \"1995-02-16T00:00:00\", \"1998-04-25T00:00:00\", \"1998-06-15T00:00:00\", \"1994-03-08T00:00:00\", \"1997-08-16T00:00:00\", \"1989-02-07T00:00:00\", \"1997-09-07T00:00:00\", \"1997-02-19T00:00:00\", \"1997-08-18T00:00:00\", \"1999-03-12T00:00:00\", \"1996-07-15T00:00:00\", \"1999-05-20T00:00:00\", \"2001-03-28T00:00:00\", \"1997-05-07T00:00:00\", \"1995-08-27T00:00:00\", \"1999-03-09T00:00:00\", \"1997-11-27T00:00:00\", \"1997-08-21T00:00:00\", \"1999-01-08T00:00:00\", \"2000-05-20T00:00:00\", \"1985-06-28T00:00:00\", \"2000-11-04T00:00:00\", \"1982-08-10T00:00:00\", \"1991-02-26T00:00:00\", \"1999-08-21T00:00:00\", \"1997-03-28T00:00:00\", \"1997-10-18T00:00:00\", \"1992-02-06T00:00:00\", \"1999-09-14T00:00:00\", \"1987-12-17T00:00:00\", \"1999-06-26T00:00:00\", \"1999-01-05T00:00:00\", \"1985-12-12T00:00:00\", \"1989-08-24T00:00:00\", \"1985-03-04T00:00:00\", \"1998-08-09T00:00:00\", \"2000-05-08T00:00:00\", \"1998-08-25T00:00:00\", \"2001-03-24T00:00:00\", \"1989-06-10T00:00:00\", \"2000-01-20T00:00:00\", \"1999-07-06T00:00:00\", \"1999-02-18T00:00:00\", \"1998-04-27T00:00:00\", \"1999-04-01T00:00:00\", \"1997-06-01T00:00:00\", \"1999-07-05T00:00:00\", \"1998-09-12T00:00:00\", \"1998-03-23T00:00:00\", \"1999-01-05T00:00:00\", \"2000-01-05T00:00:00\", \"1999-06-11T00:00:00\", \"1998-03-04T00:00:00\", \"1980-12-27T00:00:00\", \"1999-10-08T00:00:00\", \"1983-01-21T00:00:00\", \"2000-07-18T00:00:00\", \"2000-12-27T00:00:00\", \"1975-12-20T00:00:00\", \"1998-02-28T00:00:00\", \"1999-10-09T00:00:00\", \"1994-04-10T00:00:00\", \"1997-09-14T00:00:00\", \"1985-05-21T00:00:00\", \"1978-08-05T00:00:00\", \"2001-08-22T00:00:00\", \"1997-08-17T00:00:00\", \"1999-08-27T00:00:00\", \"1997-11-25T00:00:00\", \"1989-10-26T00:00:00\", \"1999-07-10T00:00:00\", \"1989-06-10T00:00:00\", \"1991-11-04T00:00:00\", \"1993-01-08T00:00:00\", \"1989-10-05T00:00:00\", \"1992-02-12T00:00:00\", \"1984-01-23T00:00:00\", \"1993-04-28T00:00:00\", \"1992-06-03T00:00:00\", \"1987-07-17T00:00:00\", \"1987-04-07T00:00:00\", \"1990-03-13T00:00:00\", \"1995-07-17T00:00:00\", \"1993-09-30T00:00:00\", \"1980-09-07T00:00:00\", \"1988-05-12T00:00:00\", \"1994-03-17T00:00:00\", \"1993-09-10T00:00:00\", \"2001-03-07T00:00:00\", \"1988-04-12T00:00:00\", \"1988-09-05T00:00:00\", \"2001-04-26T00:00:00\", \"1997-08-07T00:00:00\", \"1985-02-20T00:00:00\", \"1992-03-23T00:00:00\", \"1997-02-04T00:00:00\", \"1977-10-08T00:00:00\", \"1994-04-23T00:00:00\", \"1997-12-08T00:00:00\", \"1992-02-01T00:00:00\", \"1993-01-10T00:00:00\", \"1978-10-20T00:00:00\", \"1989-10-31T00:00:00\", \"1995-02-09T00:00:00\", \"1988-02-04T00:00:00\", \"1992-04-16T00:00:00\", \"1999-03-23T00:00:00\", \"1991-10-01T00:00:00\", \"2000-04-11T00:00:00\", \"1993-02-18T00:00:00\", \"1986-12-17T00:00:00\", \"1990-02-17T00:00:00\", \"1993-04-23T00:00:00\", \"1995-10-24T00:00:00\", \"1995-07-03T00:00:00\", \"1996-03-16T00:00:00\", \"1996-07-10T00:00:00\", \"1992-05-20T00:00:00\", \"1980-03-12T00:00:00\", \"1984-04-07T00:00:00\", \"1986-10-06T00:00:00\", \"1987-10-16T00:00:00\", \"1993-08-28T00:00:00\", \"1994-04-15T00:00:00\", \"1996-04-02T00:00:00\", \"1992-02-15T00:00:00\", \"1992-05-27T00:00:00\", \"1999-07-10T00:00:00\", \"1995-05-15T00:00:00\", \"1979-03-10T00:00:00\", \"1990-11-03T00:00:00\", \"1999-08-14T00:00:00\", \"1980-07-23T00:00:00\", \"1995-08-23T00:00:00\", \"1995-10-18T00:00:00\", \"1998-10-26T00:00:00\", \"1996-12-15T00:00:00\", \"2001-10-30T00:00:00\", \"2000-10-28T00:00:00\", \"2000-10-23T00:00:00\", \"1994-02-05T00:00:00\", \"1990-02-19T00:00:00\", \"1999-04-27T00:00:00\", \"1983-08-12T00:00:00\", \"1983-11-16T00:00:00\", \"1995-06-12T00:00:00\", \"1996-12-30T00:00:00\", \"1989-06-28T00:00:00\", \"1985-10-01T00:00:00\", \"1993-01-22T00:00:00\", \"1991-04-24T00:00:00\", \"1992-01-13T00:00:00\", \"1996-05-17T00:00:00\", \"1995-07-13T00:00:00\", \"1986-07-14T00:00:00\", \"1978-07-03T00:00:00\", \"1997-05-30T00:00:00\", \"1986-02-11T00:00:00\", \"1995-04-04T00:00:00\", \"1993-03-25T00:00:00\", \"1988-07-16T00:00:00\", \"1994-10-19T00:00:00\", \"1996-01-01T00:00:00\", \"1984-02-25T00:00:00\", \"1999-07-03T00:00:00\", \"1995-11-09T00:00:00\", \"1980-10-21T00:00:00\", \"1994-11-22T00:00:00\", \"1989-02-12T00:00:00\", \"1994-12-20T00:00:00\", \"1986-06-15T00:00:00\", \"1988-08-04T00:00:00\", \"1997-09-03T00:00:00\", \"1983-10-18T00:00:00\", \"1997-11-06T00:00:00\", \"1989-07-28T00:00:00\", \"1999-03-29T00:00:00\", \"1984-11-04T00:00:00\", \"1992-01-23T00:00:00\", \"1990-04-27T00:00:00\", \"1981-01-23T00:00:00\", \"1992-06-30T00:00:00\", \"1992-09-23T00:00:00\", \"1993-08-03T00:00:00\", \"1990-01-06T00:00:00\", \"1992-09-17T00:00:00\", \"1986-04-23T00:00:00\", \"1994-07-14T00:00:00\", \"1990-04-15T00:00:00\", \"1994-06-09T00:00:00\", \"1986-05-21T00:00:00\", \"1996-02-21T00:00:00\", \"1991-11-06T00:00:00\", \"1989-02-11T00:00:00\", \"1982-01-13T00:00:00\", \"1992-01-16T00:00:00\", \"1998-06-15T00:00:00\", \"1983-06-14T00:00:00\", \"1994-05-26T00:00:00\", \"1979-12-27T00:00:00\", \"1996-03-10T00:00:00\", \"1990-07-09T00:00:00\", \"1995-11-23T00:00:00\", \"1991-03-28T00:00:00\", \"1999-03-13T00:00:00\", \"1969-03-06T00:00:00\", \"1993-10-08T00:00:00\", \"1995-01-12T00:00:00\", \"1994-01-09T00:00:00\", \"1993-01-16T00:00:00\", \"1988-01-18T00:00:00\", \"1984-11-26T00:00:00\", \"1999-03-13T00:00:00\", \"1998-07-17T00:00:00\", \"1964-09-08T00:00:00\", \"1968-07-19T00:00:00\", \"1969-06-14T00:00:00\", \"1997-01-31T00:00:00\", \"1987-08-25T00:00:00\", \"1999-10-21T00:00:00\", \"1997-03-05T00:00:00\", \"1996-04-27T00:00:00\", \"1992-11-16T00:00:00\", \"1996-06-14T00:00:00\", \"1986-10-07T00:00:00\", \"1979-11-09T00:00:00\", \"1994-01-22T00:00:00\", \"1991-05-30T00:00:00\", \"1985-07-01T00:00:00\", \"1991-08-09T00:00:00\", \"1993-12-24T00:00:00\", \"1994-02-03T00:00:00\", \"1975-06-03T00:00:00\", \"1997-01-22T00:00:00\", \"1999-02-12T00:00:00\", \"1986-02-24T00:00:00\", \"1997-04-30T00:00:00\", \"1999-12-15T00:00:00\", \"1999-04-12T00:00:00\", \"1978-02-13T00:00:00\", \"1982-12-22T00:00:00\", \"1996-07-09T00:00:00\", \"1999-10-13T00:00:00\", \"1999-10-13T00:00:00\", \"1997-06-11T00:00:00\", \"1998-02-09T00:00:00\", \"1974-05-28T00:00:00\", \"1994-12-03T00:00:00\", \"1986-01-07T00:00:00\", \"1992-09-24T00:00:00\", \"1994-02-24T00:00:00\", \"1996-11-21T00:00:00\", \"1994-04-26T00:00:00\", \"1988-07-14T00:00:00\", \"1991-08-25T00:00:00\", \"1997-09-03T00:00:00\", \"1993-05-22T00:00:00\", \"1995-09-29T00:00:00\", \"1992-11-11T00:00:00\", \"1996-11-18T00:00:00\", \"1989-04-06T00:00:00\", \"1994-10-01T00:00:00\", \"1998-02-20T00:00:00\", \"1987-05-29T00:00:00\", \"1984-04-20T00:00:00\", \"1989-06-07T00:00:00\", \"1998-02-07T00:00:00\", \"1989-10-28T00:00:00\", \"2001-04-07T00:00:00\", \"2000-12-05T00:00:00\", \"1999-10-10T00:00:00\", \"1997-04-30T00:00:00\", \"1983-05-21T00:00:00\", \"1985-12-15T00:00:00\", \"1999-12-07T00:00:00\", \"1982-07-14T00:00:00\", \"1997-09-18T00:00:00\", \"1986-01-11T00:00:00\", \"1987-05-05T00:00:00\", \"1993-07-08T00:00:00\", \"1996-04-09T00:00:00\", \"1988-07-18T00:00:00\", \"1989-08-20T00:00:00\", \"1997-01-26T00:00:00\", \"1999-09-04T00:00:00\", \"1998-09-11T00:00:00\", \"1998-07-23T00:00:00\", \"1977-07-04T00:00:00\", \"1999-09-03T00:00:00\", \"1990-10-12T00:00:00\", \"1977-09-09T00:00:00\", \"1988-07-27T00:00:00\", \"1999-10-08T00:00:00\", \"1999-03-13T00:00:00\", \"1993-11-27T00:00:00\", \"1981-11-27T00:00:00\", \"2000-05-29T00:00:00\", \"2000-03-10T00:00:00\", \"2001-03-22T00:00:00\", \"1997-06-12T00:00:00\", \"1983-07-08T00:00:00\", \"1999-09-01T00:00:00\", \"1987-06-22T00:00:00\", \"1991-03-26T00:00:00\", \"1991-12-04T00:00:00\", \"1983-12-04T00:00:00\", \"1998-03-29T00:00:00\", \"1982-12-13T00:00:00\", \"1998-03-23T00:00:00\", \"1993-09-17T00:00:00\", \"1998-11-07T00:00:00\", \"1999-10-01T00:00:00\", \"1999-10-06T00:00:00\", \"1996-07-24T00:00:00\", \"1997-08-10T00:00:00\", \"1994-11-14T00:00:00\", \"1996-06-06T00:00:00\", \"1996-08-13T00:00:00\", \"1996-07-30T00:00:00\", \"1996-10-10T00:00:00\", \"1989-08-25T00:00:00\", \"1977-10-28T00:00:00\", \"1983-09-25T00:00:00\", \"2000-09-06T00:00:00\", \"1992-12-03T00:00:00\", \"1996-11-16T00:00:00\", \"1995-10-23T00:00:00\", \"1996-05-21T00:00:00\", \"1996-08-09T00:00:00\", \"1997-05-01T00:00:00\", \"1984-05-17T00:00:00\", \"1992-01-26T00:00:00\", \"1995-07-27T00:00:00\", \"1996-10-01T00:00:00\", \"1999-04-02T00:00:00\", \"1997-10-21T00:00:00\", \"2000-04-18T00:00:00\", \"1996-05-27T00:00:00\", \"1995-09-25T00:00:00\", \"2001-02-26T00:00:00\", \"1996-07-15T00:00:00\", \"1999-03-27T00:00:00\", \"1999-04-20T00:00:00\", \"1993-02-20T00:00:00\", \"1999-11-29T00:00:00\", \"2000-03-23T00:00:00\", \"1977-12-07T00:00:00\", \"1999-02-16T00:00:00\", \"1999-03-16T00:00:00\", \"2000-01-19T00:00:00\", \"1999-06-02T00:00:00\", \"1997-03-18T00:00:00\", \"1984-04-06T00:00:00\", \"1990-07-20T00:00:00\", \"1971-01-12T00:00:00\", \"1998-05-30T00:00:00\", \"1991-09-30T00:00:00\", \"1995-09-22T00:00:00\", \"2001-02-01T00:00:00\", \"2000-05-16T00:00:00\", \"2001-03-07T00:00:00\", \"2001-06-06T00:00:00\", \"1997-05-12T00:00:00\", \"1999-01-22T00:00:00\", \"1997-04-08T00:00:00\", \"1998-01-26T00:00:00\", \"2000-02-14T00:00:00\", \"1997-09-20T00:00:00\", \"1988-08-09T00:00:00\", \"1986-11-07T00:00:00\", \"1997-08-09T00:00:00\", \"1997-01-06T00:00:00\", \"1999-01-21T00:00:00\", \"1998-04-26T00:00:00\", \"1998-06-21T00:00:00\", \"1998-01-14T00:00:00\", \"1997-02-18T00:00:00\", \"1997-07-14T00:00:00\", \"1997-01-11T00:00:00\", \"1987-03-23T00:00:00\", \"1998-04-23T00:00:00\", \"1997-07-26T00:00:00\", \"1997-03-10T00:00:00\", \"1992-03-05T00:00:00\", \"1991-07-03T00:00:00\", \"1997-03-10T00:00:00\", \"1997-03-10T00:00:00\", \"1999-08-12T00:00:00\", \"1997-02-07T00:00:00\", \"1999-09-08T00:00:00\", \"2000-05-08T00:00:00\", \"1999-01-22T00:00:00\", \"1999-06-23T00:00:00\", \"2000-03-21T00:00:00\", \"2000-08-28T00:00:00\", \"1999-01-18T00:00:00\", \"1999-05-22T00:00:00\", \"2001-04-06T00:00:00\", \"2000-04-15T00:00:00\", \"2000-01-15T00:00:00\", \"2001-03-23T00:00:00\", \"2000-10-10T00:00:00\", \"2000-05-02T00:00:00\", \"2000-04-20T00:00:00\", \"1999-12-05T00:00:00\", \"1975-11-24T00:00:00\", \"1997-05-12T00:00:00\", \"1998-11-11T00:00:00\", \"2000-05-27T00:00:00\", \"1999-08-12T00:00:00\", \"1999-07-15T00:00:00\", \"1999-02-21T00:00:00\", \"2001-01-26T00:00:00\", \"2000-07-21T00:00:00\", \"2000-07-21T00:00:00\", \"2000-01-30T00:00:00\", \"1999-04-03T00:00:00\", \"1999-05-19T00:00:00\", \"2000-06-11T00:00:00\", \"2000-01-31T00:00:00\", \"1999-05-01T00:00:00\", \"1999-11-02T00:00:00\", \"2000-07-09T00:00:00\", \"1999-04-24T00:00:00\", \"1992-04-09T00:00:00\", \"1986-08-19T00:00:00\", \"1987-04-02T00:00:00\", \"1982-08-31T00:00:00\", \"1992-02-03T00:00:00\", \"1984-07-12T00:00:00\", \"1995-02-20T00:00:00\", \"1994-03-22T00:00:00\", \"1996-10-02T00:00:00\", \"1995-06-05T00:00:00\", \"1995-12-06T00:00:00\", \"1995-10-19T00:00:00\", \"1991-07-12T00:00:00\", \"1996-06-07T00:00:00\", \"1996-07-27T00:00:00\", \"1997-06-04T00:00:00\", \"1998-09-16T00:00:00\", \"1997-05-13T00:00:00\", \"1972-03-30T00:00:00\", \"1998-03-11T00:00:00\", \"1998-07-14T00:00:00\", \"1997-07-07T00:00:00\", \"1993-11-18T00:00:00\", \"1981-07-16T00:00:00\", \"1998-07-20T00:00:00\", \"1999-01-10T00:00:00\", \"1975-03-19T00:00:00\", \"1999-07-17T00:00:00\", \"1997-04-10T00:00:00\", \"1991-10-08T00:00:00\", \"1998-09-02T00:00:00\", \"1987-08-14T00:00:00\", \"1994-11-18T00:00:00\", \"1980-05-10T00:00:00\", \"1996-05-17T00:00:00\", \"1987-05-02T00:00:00\", \"2001-07-05T00:00:00\", \"1996-04-20T00:00:00\", \"1994-09-08T00:00:00\", \"1995-10-23T00:00:00\", \"1994-03-30T00:00:00\", \"1982-09-03T00:00:00\", \"1981-04-27T00:00:00\", \"1991-04-02T00:00:00\", \"1969-07-20T00:00:00\", \"1978-11-04T00:00:00\", \"1987-09-10T00:00:00\", \"1987-10-22T00:00:00\", \"1985-04-29T00:00:00\", \"1984-11-15T00:00:00\", \"1986-01-31T00:00:00\", \"1982-01-12T00:00:00\", \"1976-06-06T00:00:00\", \"1986-09-04T00:00:00\", \"1989-06-22T00:00:00\", \"1986-02-26T00:00:00\", \"1989-09-23T00:00:00\", \"2000-04-01T00:00:00\", \"1987-07-03T00:00:00\", \"1992-06-23T00:00:00\", \"1997-07-19T00:00:00\", \"1997-01-03T00:00:00\", \"1986-11-05T00:00:00\", \"1981-03-29T00:00:00\", \"1989-09-27T00:00:00\", \"1994-06-01T00:00:00\", \"1982-04-12T00:00:00\", \"1982-06-11T00:00:00\", \"1989-04-02T00:00:00\", \"1986-11-06T00:00:00\", \"1993-07-16T00:00:00\", \"1995-04-17T00:00:00\", \"1990-10-26T00:00:00\", \"1997-01-19T00:00:00\", \"1977-01-14T00:00:00\", \"1987-05-06T00:00:00\", \"1964-03-13T00:00:00\", \"1985-05-28T00:00:00\", \"1980-11-20T00:00:00\", \"1980-06-06T00:00:00\", \"1994-04-28T00:00:00\", \"1991-09-23T00:00:00\", \"1999-09-16T00:00:00\", \"1993-09-30T00:00:00\", \"1992-05-18T00:00:00\", \"1992-05-31T00:00:00\", \"1992-10-17T00:00:00\", \"1985-08-23T00:00:00\", \"1979-04-24T00:00:00\", \"1986-06-30T00:00:00\", \"1984-10-26T00:00:00\", \"1991-03-03T00:00:00\", \"1988-02-16T00:00:00\", \"1998-01-12T00:00:00\", \"1986-10-05T00:00:00\", \"1989-11-14T00:00:00\", \"1988-08-04T00:00:00\", \"1982-11-16T00:00:00\", \"1988-08-10T00:00:00\", \"2000-10-01T00:00:00\", \"1989-04-25T00:00:00\", \"1989-12-04T00:00:00\", \"1979-12-27T00:00:00\", \"1987-01-10T00:00:00\", \"1992-02-21T00:00:00\", \"1993-05-02T00:00:00\", \"1983-01-14T00:00:00\", \"1983-02-13T00:00:00\", \"1989-06-18T00:00:00\", \"1992-06-05T00:00:00\", \"1989-11-07T00:00:00\", \"1996-02-17T00:00:00\", \"1992-05-06T00:00:00\", \"1995-06-13T00:00:00\", \"1989-04-07T00:00:00\", \"1986-01-11T00:00:00\", \"1985-07-20T00:00:00\", \"1994-02-01T00:00:00\", \"1989-01-11T00:00:00\", \"1989-10-17T00:00:00\", \"1996-04-24T00:00:00\", \"1997-02-07T00:00:00\", \"1990-08-05T00:00:00\", \"1986-11-13T00:00:00\", \"1989-05-15T00:00:00\", \"1985-12-04T00:00:00\", \"1997-03-22T00:00:00\", \"1975-08-12T00:00:00\", \"1974-10-27T00:00:00\", \"1987-05-03T00:00:00\", \"1989-04-12T00:00:00\", \"1975-06-11T00:00:00\", \"1990-12-31T00:00:00\", \"1982-08-26T00:00:00\", \"2000-04-25T00:00:00\", \"1974-06-05T00:00:00\", \"1989-02-14T00:00:00\", \"1987-11-26T00:00:00\", \"1993-12-14T00:00:00\", \"1991-05-16T00:00:00\", \"1968-10-14T00:00:00\", \"1986-12-21T00:00:00\", \"1999-02-09T00:00:00\", \"1992-07-30T00:00:00\", \"1986-11-24T00:00:00\", \"1991-02-05T00:00:00\", \"1973-06-06T00:00:00\", \"1999-09-04T00:00:00\", \"1983-06-20T00:00:00\", \"1984-02-16T00:00:00\", \"1977-11-12T00:00:00\", \"2000-01-18T00:00:00\", \"1999-11-02T00:00:00\", \"1999-07-19T00:00:00\", \"1999-05-05T00:00:00\", \"1999-05-30T00:00:00\", \"1999-06-30T00:00:00\", \"1999-01-02T00:00:00\", \"1999-09-13T00:00:00\", \"1996-01-13T00:00:00\", \"2000-04-22T00:00:00\", \"1983-06-20T00:00:00\", \"1999-11-27T00:00:00\", \"1987-06-22T00:00:00\", \"1992-12-14T00:00:00\", \"1978-04-11T00:00:00\", \"1980-10-25T00:00:00\", \"1982-05-23T00:00:00\", \"1983-11-23T00:00:00\", \"1989-10-14T00:00:00\", \"1991-01-14T00:00:00\", \"2001-09-29T00:00:00\", \"1995-03-27T00:00:00\", \"1991-01-25T00:00:00\", \"1984-12-28T00:00:00\", \"1985-01-15T00:00:00\", \"1987-04-17T00:00:00\", \"1993-11-23T00:00:00\", \"1993-10-12T00:00:00\", \"1987-11-03T00:00:00\", \"1984-07-06T00:00:00\", \"1986-04-06T00:00:00\", \"1994-07-18T00:00:00\", \"1993-10-16T00:00:00\", \"1996-01-09T00:00:00\", \"1992-08-13T00:00:00\", \"1979-03-06T00:00:00\", \"1993-04-04T00:00:00\", \"1989-11-26T00:00:00\", \"1992-06-24T00:00:00\", \"1998-09-08T00:00:00\", \"1999-01-14T00:00:00\", \"1991-01-30T00:00:00\", \"1998-03-09T00:00:00\", \"1986-10-14T00:00:00\", \"1997-06-27T00:00:00\", \"1995-12-29T00:00:00\", \"1991-05-10T00:00:00\", \"1989-04-01T00:00:00\", \"1999-02-19T00:00:00\", \"1999-12-07T00:00:00\", \"2001-11-23T00:00:00\", \"2001-08-20T00:00:00\", \"2001-12-18T00:00:00\", \"1983-09-19T00:00:00\", \"1999-02-01T00:00:00\", \"1999-06-17T00:00:00\", \"1997-10-01T00:00:00\", \"1999-03-13T00:00:00\", \"1999-03-22T00:00:00\", \"1999-10-15T00:00:00\", \"1999-06-15T00:00:00\", \"1999-10-09T00:00:00\", \"1999-10-11T00:00:00\", \"1999-06-04T00:00:00\", \"1999-04-16T00:00:00\", \"1997-06-06T00:00:00\", \"1998-01-26T00:00:00\", \"1999-05-27T00:00:00\", \"1997-04-24T00:00:00\", \"1998-02-05T00:00:00\", \"1998-05-13T00:00:00\", \"1994-03-17T00:00:00\", \"1998-10-15T00:00:00\", \"1998-03-09T00:00:00\", \"1997-12-17T00:00:00\", \"1998-11-11T00:00:00\", \"1997-01-10T00:00:00\", \"1998-12-21T00:00:00\", \"1997-02-22T00:00:00\", \"1982-03-05T00:00:00\", \"1998-09-17T00:00:00\", \"1998-08-27T00:00:00\", \"1987-08-12T00:00:00\", \"1999-01-03T00:00:00\", \"1999-01-03T00:00:00\", \"1998-05-23T00:00:00\", \"1998-12-31T00:00:00\", \"1981-09-26T00:00:00\", \"1998-01-20T00:00:00\", \"1985-12-10T00:00:00\", \"1997-01-23T00:00:00\", \"1999-06-11T00:00:00\", \"1997-03-03T00:00:00\", \"1998-11-02T00:00:00\", \"1998-10-30T00:00:00\", \"1998-02-11T00:00:00\", \"1998-07-06T00:00:00\", \"1997-05-20T00:00:00\", \"1993-04-03T00:00:00\", \"1986-07-30T00:00:00\", \"2000-07-23T00:00:00\", \"1993-08-28T00:00:00\", \"1982-07-01T00:00:00\", \"1986-02-18T00:00:00\", \"1993-01-31T00:00:00\", \"1983-11-06T00:00:00\", \"1982-06-26T00:00:00\", \"1986-08-15T00:00:00\", \"1990-02-24T00:00:00\", \"1991-04-10T00:00:00\", \"1974-12-31T00:00:00\", \"1989-01-06T00:00:00\", \"1988-02-25T00:00:00\", \"1980-09-23T00:00:00\", \"1980-01-01T00:00:00\", \"1985-07-08T00:00:00\", \"1990-10-18T00:00:00\", \"1976-11-13T00:00:00\", \"1980-08-16T00:00:00\", \"1982-11-30T00:00:00\", \"1981-11-06T00:00:00\", \"1984-09-03T00:00:00\", \"1992-06-23T00:00:00\", \"1988-03-24T00:00:00\", \"1978-12-07T00:00:00\", \"1986-03-08T00:00:00\", \"1994-08-24T00:00:00\", \"1982-05-16T00:00:00\", \"1979-02-23T00:00:00\", \"1974-08-01T00:00:00\", \"1984-10-20T00:00:00\", \"1987-08-18T00:00:00\", \"1986-01-12T00:00:00\", \"1993-01-13T00:00:00\", \"1992-10-25T00:00:00\", \"1988-03-05T00:00:00\", \"1981-08-01T00:00:00\", \"1987-06-02T00:00:00\", \"1976-04-22T00:00:00\", \"1985-04-09T00:00:00\", \"1986-06-09T00:00:00\", \"1987-04-25T00:00:00\", \"1988-04-04T00:00:00\", \"1995-06-22T00:00:00\", \"1977-11-02T00:00:00\", \"1985-04-01T00:00:00\", \"1990-05-29T00:00:00\", \"1976-02-15T00:00:00\", \"1981-07-15T00:00:00\", \"1994-08-24T00:00:00\", \"1988-05-12T00:00:00\", \"1999-04-24T00:00:00\", \"1990-10-08T00:00:00\", \"1985-09-27T00:00:00\", \"1989-10-12T00:00:00\", \"1989-03-24T00:00:00\", \"1983-03-07T00:00:00\", \"1992-11-24T00:00:00\", \"1987-05-23T00:00:00\", \"1985-03-01T00:00:00\", \"1981-04-06T00:00:00\", \"1998-04-22T00:00:00\", \"1997-08-18T00:00:00\", \"2000-02-09T00:00:00\", \"1998-02-10T00:00:00\", \"1999-05-21T00:00:00\", \"1997-03-06T00:00:00\", \"1988-10-06T00:00:00\", \"1996-11-18T00:00:00\", \"1999-10-22T00:00:00\", \"1985-07-12T00:00:00\", \"1997-05-15T00:00:00\", \"1992-08-16T00:00:00\", \"1999-04-10T00:00:00\", \"2000-03-17T00:00:00\", \"1999-03-15T00:00:00\", \"1993-08-23T00:00:00\", \"1991-01-28T00:00:00\", \"1997-04-07T00:00:00\", \"1993-09-19T00:00:00\", \"1997-10-14T00:00:00\", \"1995-06-15T00:00:00\", \"1998-05-25T00:00:00\", \"1997-11-19T00:00:00\", \"1998-06-06T00:00:00\", \"1994-07-02T00:00:00\", \"1997-03-26T00:00:00\", \"1998-12-15T00:00:00\", \"1991-05-18T00:00:00\", \"1971-08-14T00:00:00\", \"1976-03-21T00:00:00\", \"1999-07-14T00:00:00\", \"1992-08-30T00:00:00\", \"2000-12-12T00:00:00\", \"1999-11-23T00:00:00\", \"1999-09-14T00:00:00\", \"2000-04-10T00:00:00\", \"1992-10-16T00:00:00\", \"1987-11-20T00:00:00\", \"1997-12-29T00:00:00\", \"1998-05-23T00:00:00\", \"1999-08-25T00:00:00\", \"1997-10-10T00:00:00\", \"1991-03-15T00:00:00\", \"1996-04-06T00:00:00\", \"1997-08-01T00:00:00\", \"1982-12-23T00:00:00\", \"1997-01-11T00:00:00\", \"1992-09-23T00:00:00\", \"1997-04-16T00:00:00\", \"1999-08-07T00:00:00\", \"2001-02-19T00:00:00\", \"1979-03-08T00:00:00\", \"1991-10-01T00:00:00\", \"1997-02-21T00:00:00\", \"1997-04-19T00:00:00\", \"1997-05-30T00:00:00\", \"1983-10-02T00:00:00\", \"1997-07-24T00:00:00\", \"1998-07-22T00:00:00\", \"1979-03-18T00:00:00\", \"1997-10-18T00:00:00\", \"1997-06-10T00:00:00\", \"2000-06-13T00:00:00\", \"1997-08-14T00:00:00\", \"1989-04-27T00:00:00\", \"1997-08-21T00:00:00\", \"1997-06-20T00:00:00\", \"1998-12-22T00:00:00\", \"1998-06-17T00:00:00\", \"1998-04-10T00:00:00\", \"1999-05-05T00:00:00\", \"1998-05-22T00:00:00\", \"1998-05-26T00:00:00\", \"1994-01-01T00:00:00\", \"1998-12-18T00:00:00\", \"1986-09-16T00:00:00\", \"1995-05-13T00:00:00\", \"1995-10-05T00:00:00\", \"1975-07-29T00:00:00\", \"1987-05-27T00:00:00\", \"1984-11-20T00:00:00\", \"1990-04-06T00:00:00\", \"1976-04-14T00:00:00\", \"1976-10-07T00:00:00\", \"1998-05-01T00:00:00\", \"1986-09-16T00:00:00\", \"1993-05-30T00:00:00\", \"1989-06-07T00:00:00\", \"1994-02-15T00:00:00\", \"1986-04-16T00:00:00\", \"1998-08-25T00:00:00\", \"1980-10-25T00:00:00\", \"1991-03-07T00:00:00\", \"1994-05-25T00:00:00\", \"1987-03-06T00:00:00\", \"1985-01-22T00:00:00\", \"1991-03-17T00:00:00\", \"1998-10-26T00:00:00\", \"1991-07-27T00:00:00\", \"1988-11-02T00:00:00\", \"1994-08-03T00:00:00\", \"1991-02-11T00:00:00\", \"1993-05-10T00:00:00\", \"1988-07-01T00:00:00\", \"1990-12-05T00:00:00\", \"1989-06-18T00:00:00\", \"1998-08-11T00:00:00\", \"1999-08-11T00:00:00\", \"1989-07-15T00:00:00\", \"1990-03-07T00:00:00\", \"1988-03-06T00:00:00\", \"1985-09-18T00:00:00\", \"1998-04-13T00:00:00\", \"1990-05-15T00:00:00\", \"1991-04-12T00:00:00\", \"1996-08-18T00:00:00\", \"1977-09-03T00:00:00\", \"1994-09-13T00:00:00\", \"1993-02-04T00:00:00\", \"1989-07-13T00:00:00\", \"1988-03-30T00:00:00\", \"1995-11-08T00:00:00\", \"1997-02-07T00:00:00\", \"1985-04-14T00:00:00\", \"1992-07-20T00:00:00\", \"1997-08-05T00:00:00\", \"2001-10-05T00:00:00\", \"1998-11-27T00:00:00\", \"1998-09-13T00:00:00\", \"1999-10-07T00:00:00\", \"1999-06-10T00:00:00\", \"1999-07-14T00:00:00\", \"1999-04-10T00:00:00\", \"1997-07-12T00:00:00\", \"1997-10-20T00:00:00\", \"1986-08-15T00:00:00\", \"1988-10-10T00:00:00\", \"1980-05-03T00:00:00\", \"1993-06-16T00:00:00\", \"1982-07-02T00:00:00\", \"1977-12-02T00:00:00\", \"1992-03-02T00:00:00\", \"1983-05-05T00:00:00\", \"1993-02-17T00:00:00\", \"1986-09-03T00:00:00\", \"1992-03-18T00:00:00\", \"1990-03-01T00:00:00\", \"1982-09-15T00:00:00\", \"1988-06-24T00:00:00\", \"1975-03-03T00:00:00\", \"1983-07-25T00:00:00\", \"1983-12-21T00:00:00\", \"1980-01-13T00:00:00\", \"1978-09-04T00:00:00\", \"1980-05-30T00:00:00\", \"1981-07-22T00:00:00\", \"1983-03-11T00:00:00\", \"1980-05-02T00:00:00\", \"1992-08-19T00:00:00\", \"1985-05-25T00:00:00\", \"1985-11-03T00:00:00\", \"1990-05-15T00:00:00\", \"1987-04-19T00:00:00\", \"1987-04-19T00:00:00\", \"1981-05-16T00:00:00\", \"1988-10-05T00:00:00\", \"1989-02-10T00:00:00\", \"1994-04-20T00:00:00\", \"1980-01-13T00:00:00\", \"1987-04-17T00:00:00\", \"1984-01-20T00:00:00\", \"1987-11-26T00:00:00\", \"1984-08-14T00:00:00\", \"1985-02-18T00:00:00\", \"1986-07-03T00:00:00\", \"1985-06-04T00:00:00\", \"1984-11-12T00:00:00\", \"1986-05-04T00:00:00\", \"1994-06-13T00:00:00\", \"1996-12-18T00:00:00\", \"1980-12-22T00:00:00\", \"1980-11-11T00:00:00\", \"1987-09-30T00:00:00\", \"1988-05-11T00:00:00\", \"1983-12-05T00:00:00\", \"1986-09-22T00:00:00\", \"1990-01-13T00:00:00\", \"1985-11-28T00:00:00\", \"1983-03-18T00:00:00\", \"1987-08-11T00:00:00\", \"1990-03-29T00:00:00\", \"1981-04-24T00:00:00\", \"1989-09-20T00:00:00\", \"1990-01-13T00:00:00\", \"1976-10-14T00:00:00\", \"1993-01-06T00:00:00\", \"1993-03-23T00:00:00\", \"1997-01-02T00:00:00\", \"1997-10-13T00:00:00\", \"1998-04-02T00:00:00\", \"1997-05-13T00:00:00\", \"1998-01-30T00:00:00\", \"1997-02-26T00:00:00\", \"1997-11-28T00:00:00\", \"1997-11-28T00:00:00\", \"1998-08-23T00:00:00\", \"1998-02-11T00:00:00\", \"1997-01-29T00:00:00\", \"1999-09-20T00:00:00\", \"1996-12-09T00:00:00\", \"1986-06-01T00:00:00\", \"1992-12-25T00:00:00\", \"1987-05-29T00:00:00\", \"1970-07-21T00:00:00\", \"1971-03-28T00:00:00\", \"1973-07-29T00:00:00\", \"1967-07-05T00:00:00\", \"1969-12-31T00:00:00\", \"1968-06-09T00:00:00\", \"1971-04-23T00:00:00\", \"1964-03-13T00:00:00\", \"1974-02-13T00:00:00\", \"1969-04-20T00:00:00\", \"1973-03-24T00:00:00\", \"1967-04-27T00:00:00\", \"1970-11-14T00:00:00\", \"1969-07-06T00:00:00\", \"1967-05-05T00:00:00\", \"1960-10-23T00:00:00\", \"1973-09-22T00:00:00\", \"1974-03-02T00:00:00\", \"1969-10-29T00:00:00\", \"1983-10-01T00:00:00\", \"1991-02-20T00:00:00\", \"1986-01-20T00:00:00\", \"1988-07-14T00:00:00\", \"1984-02-03T00:00:00\", \"1988-02-11T00:00:00\", \"1992-05-17T00:00:00\", \"1988-11-29T00:00:00\", \"1981-01-24T00:00:00\", \"1985-10-15T00:00:00\", \"1991-06-05T00:00:00\", \"1994-01-18T00:00:00\", \"1988-04-02T00:00:00\", \"1994-03-26T00:00:00\", \"1987-09-24T00:00:00\", \"1987-11-01T00:00:00\", \"1994-04-29T00:00:00\", \"1974-08-15T00:00:00\", \"1987-03-08T00:00:00\", \"1989-05-25T00:00:00\", \"1994-08-10T00:00:00\", \"1993-09-21T00:00:00\", \"1997-10-26T00:00:00\", \"1997-11-16T00:00:00\", \"1998-10-09T00:00:00\", \"1986-03-15T00:00:00\", \"1985-12-10T00:00:00\", \"1985-11-17T00:00:00\", \"1986-07-15T00:00:00\", \"1993-06-21T00:00:00\", \"1993-07-03T00:00:00\", \"1986-09-22T00:00:00\", \"1993-12-10T00:00:00\", \"1996-04-01T00:00:00\", \"1994-06-29T00:00:00\", \"1988-05-19T00:00:00\", \"1992-02-19T00:00:00\", \"1989-08-12T00:00:00\", \"1982-12-09T00:00:00\", \"1994-09-11T00:00:00\", \"1982-03-26T00:00:00\", \"1992-01-22T00:00:00\", \"1987-10-22T00:00:00\", \"1983-02-27T00:00:00\", \"1972-06-15T00:00:00\", \"1985-05-29T00:00:00\", \"1986-10-29T00:00:00\", \"1999-04-29T00:00:00\", \"1999-01-27T00:00:00\", \"1997-05-02T00:00:00\", \"1990-10-06T00:00:00\", \"1992-05-11T00:00:00\", \"1997-04-11T00:00:00\", \"1997-09-19T00:00:00\", \"1991-10-07T00:00:00\", \"1986-09-28T00:00:00\", \"1997-11-15T00:00:00\", \"1997-11-15T00:00:00\", \"2000-01-31T00:00:00\", \"1990-07-23T00:00:00\", \"1995-05-12T00:00:00\", \"2000-04-12T00:00:00\", \"2000-12-25T00:00:00\", \"1999-05-05T00:00:00\", \"1999-05-20T00:00:00\", \"1999-06-04T00:00:00\", \"2001-01-03T00:00:00\", \"2001-04-16T00:00:00\", \"1996-02-19T00:00:00\", \"1942-12-03T00:00:00\", \"1967-03-05T00:00:00\", \"1992-01-02T00:00:00\", \"1971-03-28T00:00:00\", \"1979-07-31T00:00:00\", \"2000-08-17T00:00:00\", \"2001-05-21T00:00:00\", \"1986-06-14T00:00:00\", \"1999-04-17T00:00:00\", \"1987-03-18T00:00:00\", \"1995-01-07T00:00:00\", \"1992-11-17T00:00:00\", \"1988-08-06T00:00:00\", \"1994-04-12T00:00:00\", \"1985-03-08T00:00:00\", \"1989-11-19T00:00:00\", \"1996-08-06T00:00:00\", \"1988-10-12T00:00:00\", \"1984-07-11T00:00:00\", \"1989-05-09T00:00:00\", \"1984-03-01T00:00:00\", \"1985-04-21T00:00:00\", \"1989-10-31T00:00:00\", \"1997-03-19T00:00:00\", \"1997-08-01T00:00:00\", \"1997-04-19T00:00:00\", \"1997-11-13T00:00:00\", \"1998-03-23T00:00:00\", \"1997-03-10T00:00:00\", \"1997-05-02T00:00:00\", \"1997-01-30T00:00:00\", \"1997-10-21T00:00:00\", \"1998-02-10T00:00:00\", \"1995-12-14T00:00:00\", \"1997-12-21T00:00:00\", \"1995-02-24T00:00:00\", \"1995-05-07T00:00:00\", \"1995-02-01T00:00:00\", \"1996-05-08T00:00:00\", \"1996-09-14T00:00:00\", \"1996-11-26T00:00:00\", \"1996-01-11T00:00:00\", \"1996-02-26T00:00:00\", \"1992-07-25T00:00:00\", \"1990-03-29T00:00:00\", \"1999-09-19T00:00:00\", \"1999-05-08T00:00:00\", \"1995-03-20T00:00:00\", \"1995-04-29T00:00:00\", \"1980-09-28T00:00:00\", \"1996-04-11T00:00:00\", \"1990-12-04T00:00:00\", \"1981-05-03T00:00:00\", \"1981-06-02T00:00:00\", \"1994-02-16T00:00:00\", \"1991-11-05T00:00:00\", \"1997-10-18T00:00:00\", \"1997-06-10T00:00:00\", \"1997-08-21T00:00:00\", \"1997-01-07T00:00:00\", \"1997-03-01T00:00:00\", \"1997-04-12T00:00:00\", \"1987-05-24T00:00:00\", \"1999-05-27T00:00:00\", \"1990-05-29T00:00:00\", \"1990-05-08T00:00:00\", \"1986-10-10T00:00:00\", \"1980-08-05T00:00:00\", \"1999-01-24T00:00:00\", \"1999-05-27T00:00:00\", \"1993-12-22T00:00:00\", \"2000-05-06T00:00:00\", \"1991-09-23T00:00:00\", \"2000-02-19T00:00:00\", \"1982-06-01T00:00:00\", \"1993-12-22T00:00:00\", \"1991-08-02T00:00:00\", \"1985-10-11T00:00:00\", \"1996-02-12T00:00:00\", \"1990-03-28T00:00:00\", \"1997-06-21T00:00:00\", \"1981-02-27T00:00:00\", \"1991-03-09T00:00:00\", \"1983-08-23T00:00:00\", \"1990-06-03T00:00:00\", \"1997-06-04T00:00:00\", \"1999-01-29T00:00:00\", \"1997-05-15T00:00:00\", \"1997-02-05T00:00:00\", \"1998-09-10T00:00:00\", \"1998-01-15T00:00:00\", \"1997-08-16T00:00:00\", \"1998-12-08T00:00:00\", \"1998-02-26T00:00:00\", \"1968-10-01T00:00:00\", \"1970-09-25T00:00:00\", \"1973-02-05T00:00:00\", \"1997-03-14T00:00:00\", \"1998-04-10T00:00:00\", \"1999-05-07T00:00:00\", \"1999-08-26T00:00:00\", \"2000-05-26T00:00:00\", \"1992-08-07T00:00:00\", \"1999-02-05T00:00:00\", \"1999-04-01T00:00:00\", \"1999-08-22T00:00:00\", \"1999-02-04T00:00:00\", \"2000-01-20T00:00:00\", \"2000-09-07T00:00:00\", \"2000-08-01T00:00:00\", \"1999-04-19T00:00:00\", \"2000-10-05T00:00:00\", \"1998-10-01T00:00:00\", \"1998-05-22T00:00:00\", \"1998-11-04T00:00:00\", \"1997-08-16T00:00:00\", \"1998-04-01T00:00:00\", \"1997-03-27T00:00:00\", \"1998-07-17T00:00:00\", \"1997-07-21T00:00:00\", \"1973-02-04T00:00:00\", \"1969-08-23T00:00:00\", \"1964-08-15T00:00:00\", \"1974-11-05T00:00:00\", \"1961-02-20T00:00:00\", \"1967-02-10T00:00:00\", \"1974-09-27T00:00:00\", \"1970-03-23T00:00:00\", \"1970-03-11T00:00:00\", \"1960-06-23T00:00:00\", \"1971-10-28T00:00:00\", \"1979-07-21T00:00:00\", \"1994-04-27T00:00:00\", \"1967-08-27T00:00:00\", \"1965-03-20T00:00:00\", \"1969-04-20T00:00:00\", \"1970-02-05T00:00:00\", \"1964-09-15T00:00:00\", \"1989-10-20T00:00:00\", \"1988-02-21T00:00:00\", \"1987-06-09T00:00:00\", \"1988-11-20T00:00:00\", \"1984-02-22T00:00:00\", \"1988-05-01T00:00:00\", \"1992-09-19T00:00:00\", \"1992-10-06T00:00:00\", \"1988-04-08T00:00:00\", \"1986-10-31T00:00:00\", \"1992-08-23T00:00:00\", \"1990-05-10T00:00:00\", \"1982-11-22T00:00:00\", \"1999-07-28T00:00:00\", \"2001-08-09T00:00:00\", \"2001-08-09T00:00:00\", \"1999-08-28T00:00:00\", \"2000-11-06T00:00:00\", \"1999-05-17T00:00:00\", \"1998-04-02T00:00:00\", \"1998-05-08T00:00:00\", \"1997-01-29T00:00:00\", \"1999-06-23T00:00:00\", \"1993-04-03T00:00:00\", \"1993-01-20T00:00:00\", \"1992-09-29T00:00:00\", \"1988-07-28T00:00:00\", \"1999-04-28T00:00:00\", \"2000-04-03T00:00:00\", \"2000-08-28T00:00:00\", \"1999-01-29T00:00:00\", \"1999-03-23T00:00:00\", \"2000-04-07T00:00:00\", \"1999-02-12T00:00:00\", \"1997-02-21T00:00:00\", \"1998-02-10T00:00:00\", \"2000-01-21T00:00:00\", \"2000-01-06T00:00:00\", \"1999-06-04T00:00:00\", \"1999-03-01T00:00:00\", \"2000-03-23T00:00:00\", \"1999-05-05T00:00:00\", \"2000-04-12T00:00:00\", \"2000-06-14T00:00:00\", \"1998-05-10T00:00:00\", \"1999-08-02T00:00:00\", \"2000-03-03T00:00:00\", \"1994-01-23T00:00:00\", \"1991-06-09T00:00:00\", \"1992-12-22T00:00:00\", \"1992-06-11T00:00:00\", \"1987-06-09T00:00:00\", \"1988-02-21T00:00:00\", \"1992-09-11T00:00:00\", \"1987-11-05T00:00:00\", \"1984-06-03T00:00:00\", \"1986-01-23T00:00:00\", \"1995-10-15T00:00:00\", \"1983-10-05T00:00:00\", \"1992-09-11T00:00:00\", \"1989-05-23T00:00:00\", \"1982-05-30T00:00:00\", \"1991-11-11T00:00:00\", \"1982-08-15T00:00:00\", \"1989-06-19T00:00:00\", \"1991-05-25T00:00:00\", \"1983-06-16T00:00:00\", \"1990-04-14T00:00:00\", \"1994-12-28T00:00:00\", \"1987-09-08T00:00:00\", \"1997-07-14T00:00:00\", \"1997-05-05T00:00:00\", \"1997-11-08T00:00:00\", \"1997-03-08T00:00:00\", \"1998-09-08T00:00:00\", \"1997-02-10T00:00:00\", \"1997-10-26T00:00:00\", \"1997-06-26T00:00:00\", \"1997-09-09T00:00:00\", \"1997-04-07T00:00:00\", \"1997-08-01T00:00:00\", \"1998-04-24T00:00:00\", \"1998-03-13T00:00:00\", \"1997-08-25T00:00:00\", \"1998-07-17T00:00:00\", \"1998-06-08T00:00:00\", \"2000-08-07T00:00:00\", \"2001-10-26T00:00:00\", \"2001-04-15T00:00:00\", \"1989-09-06T00:00:00\", \"1989-10-01T00:00:00\", \"1991-08-27T00:00:00\", \"1993-08-26T00:00:00\", \"1977-05-10T00:00:00\", \"1987-03-29T00:00:00\", \"1997-02-24T00:00:00\", \"1997-10-07T00:00:00\", \"1984-06-17T00:00:00\", \"2000-03-01T00:00:00\", \"1999-02-27T00:00:00\", \"1999-01-27T00:00:00\", \"2000-10-23T00:00:00\", \"1999-04-07T00:00:00\", \"1983-12-26T00:00:00\", \"1995-12-30T00:00:00\", \"1978-05-14T00:00:00\", \"1986-11-24T00:00:00\", \"1985-04-26T00:00:00\", \"1989-09-30T00:00:00\", \"1991-02-08T00:00:00\", \"1978-06-04T00:00:00\", \"1979-05-07T00:00:00\", \"1989-04-07T00:00:00\", \"1995-08-27T00:00:00\", \"1983-06-29T00:00:00\", \"1992-01-11T00:00:00\", \"1988-10-20T00:00:00\", \"1984-01-08T00:00:00\", \"1998-09-12T00:00:00\", \"1997-04-04T00:00:00\", \"1997-08-19T00:00:00\", \"1997-04-04T00:00:00\", \"1999-03-29T00:00:00\", \"1999-06-06T00:00:00\", \"1994-09-08T00:00:00\", \"1985-07-08T00:00:00\", \"1993-04-15T00:00:00\", \"1989-08-04T00:00:00\", \"1991-01-07T00:00:00\", \"1999-06-10T00:00:00\", \"1999-05-11T00:00:00\", \"1999-09-07T00:00:00\", \"1999-10-20T00:00:00\", \"1999-01-01T00:00:00\", \"1995-12-07T00:00:00\", \"1990-07-23T00:00:00\", \"1984-07-14T00:00:00\", \"1991-04-14T00:00:00\", \"1998-09-12T00:00:00\", \"1997-03-19T00:00:00\", \"1981-02-03T00:00:00\", \"1998-01-31T00:00:00\", \"1991-04-28T00:00:00\", \"1992-10-20T00:00:00\", \"1989-03-19T00:00:00\", \"1993-08-22T00:00:00\", \"1994-06-20T00:00:00\", \"1991-06-03T00:00:00\", \"1992-06-19T00:00:00\", \"1995-06-25T00:00:00\", \"1996-05-23T00:00:00\", \"1995-09-24T00:00:00\", \"1992-06-26T00:00:00\", \"1986-06-04T00:00:00\", \"1997-04-12T00:00:00\", \"1998-07-17T00:00:00\", \"1997-10-01T00:00:00\", \"1999-01-03T00:00:00\", \"1995-05-30T00:00:00\", \"1999-02-26T00:00:00\", \"1999-03-30T00:00:00\", \"2000-11-03T00:00:00\", \"1996-12-10T00:00:00\", \"1982-07-13T00:00:00\", \"1986-04-02T00:00:00\", \"1997-12-07T00:00:00\", \"1987-01-17T00:00:00\", \"1969-06-14T00:00:00\", \"1972-05-18T00:00:00\", \"1992-09-24T00:00:00\", \"1994-05-11T00:00:00\", \"1993-11-07T00:00:00\", \"1999-12-10T00:00:00\", \"2000-07-20T00:00:00\", \"1999-10-22T00:00:00\", \"1989-05-16T00:00:00\", \"1988-02-09T00:00:00\", \"1992-02-24T00:00:00\", \"1992-08-07T00:00:00\", \"1984-11-26T00:00:00\", \"1965-11-17T00:00:00\", \"1971-08-22T00:00:00\", \"1972-05-29T00:00:00\", \"1973-07-19T00:00:00\", \"1972-08-09T00:00:00\", \"1963-05-19T00:00:00\", \"1972-10-20T00:00:00\", \"1966-12-18T00:00:00\", \"1960-07-14T00:00:00\", \"1969-08-07T00:00:00\", \"1963-01-06T00:00:00\", \"1973-06-14T00:00:00\", \"1969-06-17T00:00:00\", \"1974-01-10T00:00:00\", \"1961-05-01T00:00:00\", \"1963-02-27T00:00:00\", \"1963-01-06T00:00:00\", \"1960-07-14T00:00:00\", \"1972-08-09T00:00:00\", \"1998-06-28T00:00:00\", \"1987-06-11T00:00:00\", \"1995-03-15T00:00:00\", \"1986-11-23T00:00:00\", \"1991-10-08T00:00:00\", \"1988-02-15T00:00:00\", \"1988-01-01T00:00:00\", \"1986-10-10T00:00:00\", \"1982-01-18T00:00:00\", \"1983-08-06T00:00:00\", \"1988-08-03T00:00:00\", \"1994-07-02T00:00:00\", \"1988-07-07T00:00:00\", \"1987-03-11T00:00:00\", \"1991-03-19T00:00:00\", \"1988-07-24T00:00:00\", \"1988-07-05T00:00:00\", \"1979-06-14T00:00:00\", \"1986-01-19T00:00:00\", \"2001-05-09T00:00:00\", \"2000-05-25T00:00:00\", \"1997-01-28T00:00:00\", \"1998-10-27T00:00:00\", \"1998-01-01T00:00:00\", \"1998-11-09T00:00:00\", \"1997-12-29T00:00:00\", \"1997-09-27T00:00:00\", \"1998-09-09T00:00:00\", \"1994-03-13T00:00:00\", \"1995-06-24T00:00:00\", \"1988-01-25T00:00:00\", \"1982-07-30T00:00:00\", \"1992-03-24T00:00:00\", \"1997-01-31T00:00:00\", \"1999-05-20T00:00:00\", \"1999-09-24T00:00:00\", \"2000-07-03T00:00:00\", \"1998-01-02T00:00:00\", \"1998-07-20T00:00:00\", \"1981-04-07T00:00:00\", \"1998-04-25T00:00:00\", \"1997-01-08T00:00:00\", \"1995-09-26T00:00:00\", \"1974-02-24T00:00:00\", \"1986-06-19T00:00:00\", \"1999-09-22T00:00:00\", \"1997-02-20T00:00:00\", \"1998-10-07T00:00:00\", \"1997-02-08T00:00:00\", \"1989-03-21T00:00:00\", \"1993-10-05T00:00:00\", \"1978-11-16T00:00:00\", \"1987-12-29T00:00:00\", \"1990-02-04T00:00:00\", \"1993-08-05T00:00:00\", \"1999-09-04T00:00:00\", \"2000-08-07T00:00:00\", \"1999-06-25T00:00:00\", \"1999-10-10T00:00:00\", \"1996-09-16T00:00:00\", \"1995-09-21T00:00:00\", \"1997-09-19T00:00:00\", \"1997-10-05T00:00:00\", \"1998-10-14T00:00:00\", \"1997-09-19T00:00:00\", \"2000-01-19T00:00:00\", \"2001-01-07T00:00:00\", \"1993-09-17T00:00:00\", \"1991-11-28T00:00:00\", \"1990-01-11T00:00:00\", \"1992-06-08T00:00:00\", \"1987-05-27T00:00:00\", \"1989-12-13T00:00:00\", \"1986-04-20T00:00:00\", \"1978-04-19T00:00:00\", \"1987-08-06T00:00:00\", \"1990-07-14T00:00:00\", \"1994-02-22T00:00:00\", \"1986-08-23T00:00:00\", \"1989-03-14T00:00:00\", \"1995-07-05T00:00:00\", \"1991-07-03T00:00:00\", \"1981-12-06T00:00:00\", \"1986-05-21T00:00:00\", \"1988-11-16T00:00:00\", \"1992-03-02T00:00:00\", \"1993-03-19T00:00:00\", \"1990-11-20T00:00:00\", \"1982-03-28T00:00:00\", \"1988-02-26T00:00:00\", \"1988-05-19T00:00:00\", \"1994-06-29T00:00:00\", \"1993-12-10T00:00:00\", \"1993-07-03T00:00:00\", \"1992-02-19T00:00:00\", \"1992-06-25T00:00:00\", \"2001-03-24T00:00:00\", \"2001-03-22T00:00:00\", \"1999-01-05T00:00:00\", \"1999-03-12T00:00:00\", \"1990-07-11T00:00:00\", \"1999-05-16T00:00:00\", \"1987-08-23T00:00:00\", \"1999-09-19T00:00:00\", \"1986-11-17T00:00:00\", \"1991-12-31T00:00:00\", \"1991-06-12T00:00:00\", \"1999-06-30T00:00:00\", \"1999-03-15T00:00:00\", \"1999-08-11T00:00:00\", \"1987-10-23T00:00:00\", \"2000-04-17T00:00:00\", \"2000-11-14T00:00:00\", \"2000-11-14T00:00:00\", \"1999-07-17T00:00:00\", \"1978-12-09T00:00:00\", \"1994-08-11T00:00:00\", \"1999-10-30T00:00:00\", \"1999-04-06T00:00:00\", \"1999-09-16T00:00:00\", \"1989-07-19T00:00:00\", \"1986-01-21T00:00:00\", \"1990-10-23T00:00:00\", \"1991-06-17T00:00:00\", \"1986-04-24T00:00:00\", \"1999-06-27T00:00:00\", \"1999-02-06T00:00:00\", \"2000-11-08T00:00:00\", \"1983-07-15T00:00:00\", \"1982-07-02T00:00:00\", \"1998-03-11T00:00:00\", \"1986-04-29T00:00:00\", \"1998-09-29T00:00:00\", \"1996-04-13T00:00:00\", \"1990-11-14T00:00:00\", \"1992-07-21T00:00:00\", \"1994-07-19T00:00:00\", \"1982-06-18T00:00:00\", \"1997-04-28T00:00:00\", \"1989-05-26T00:00:00\", \"1985-10-16T00:00:00\", \"1994-01-21T00:00:00\", \"2000-10-13T00:00:00\", \"1999-10-24T00:00:00\", \"1999-05-21T00:00:00\", \"1976-07-16T00:00:00\", \"1995-05-03T00:00:00\", \"1995-08-05T00:00:00\", \"1998-06-24T00:00:00\", \"1985-08-20T00:00:00\", \"1994-03-24T00:00:00\", \"1998-10-08T00:00:00\", \"1998-07-19T00:00:00\", \"1976-11-06T00:00:00\", \"1991-06-23T00:00:00\", \"1997-07-30T00:00:00\", \"1999-08-02T00:00:00\", \"1993-09-13T00:00:00\", \"1996-10-18T00:00:00\", \"1999-03-18T00:00:00\", \"2000-07-03T00:00:00\", \"1999-06-21T00:00:00\", \"2000-09-19T00:00:00\", \"2001-05-06T00:00:00\", \"1997-07-28T00:00:00\", \"1997-09-25T00:00:00\", \"1987-04-12T00:00:00\", \"1987-03-02T00:00:00\", \"1997-08-05T00:00:00\", \"1996-05-18T00:00:00\", \"1998-07-24T00:00:00\", \"1998-02-28T00:00:00\", \"1987-10-18T00:00:00\", \"1992-10-07T00:00:00\", \"1992-10-01T00:00:00\", \"1989-05-18T00:00:00\", \"1988-07-25T00:00:00\", \"1992-12-07T00:00:00\", \"1993-06-06T00:00:00\", \"1994-01-27T00:00:00\", \"1991-01-05T00:00:00\", \"1996-04-17T00:00:00\", \"1978-10-11T00:00:00\", \"1986-01-12T00:00:00\", \"1996-02-13T00:00:00\", \"1994-03-22T00:00:00\", \"1992-08-21T00:00:00\", \"1989-07-26T00:00:00\", \"1990-11-04T00:00:00\", \"1974-04-06T00:00:00\", \"1983-08-17T00:00:00\", \"2000-08-21T00:00:00\", \"1984-06-24T00:00:00\", \"1999-07-03T00:00:00\", \"1990-02-13T00:00:00\", \"2000-07-21T00:00:00\", \"1999-12-29T00:00:00\", \"1999-02-26T00:00:00\", \"2000-08-17T00:00:00\", \"1987-10-28T00:00:00\", \"1993-09-10T00:00:00\", \"1978-11-06T00:00:00\", \"1995-07-12T00:00:00\", \"1999-06-22T00:00:00\", \"1995-11-25T00:00:00\", \"1999-05-28T00:00:00\", \"1999-03-09T00:00:00\", \"1983-12-26T00:00:00\", \"1998-05-22T00:00:00\", \"1993-09-29T00:00:00\", \"1984-04-11T00:00:00\", \"1981-04-26T00:00:00\", \"1993-09-15T00:00:00\", \"1999-01-30T00:00:00\", \"2000-03-15T00:00:00\", \"2000-05-17T00:00:00\", \"1999-06-26T00:00:00\", \"1997-06-07T00:00:00\", \"1997-03-12T00:00:00\", \"1997-09-30T00:00:00\", \"1998-07-21T00:00:00\", \"1998-08-11T00:00:00\", \"1979-10-17T00:00:00\", \"1994-02-23T00:00:00\", \"1999-05-26T00:00:00\", \"1998-12-28T00:00:00\", \"1999-04-06T00:00:00\", \"1998-06-28T00:00:00\", \"1997-01-21T00:00:00\", \"1986-11-18T00:00:00\", \"1987-07-21T00:00:00\", \"1994-02-07T00:00:00\", \"1993-12-21T00:00:00\", \"1998-04-27T00:00:00\", \"1998-09-01T00:00:00\", \"1978-07-30T00:00:00\", \"1995-12-29T00:00:00\", \"1998-06-30T00:00:00\", \"1985-04-25T00:00:00\", \"1997-12-28T00:00:00\", \"1998-12-08T00:00:00\", \"1999-01-21T00:00:00\", \"1999-01-21T00:00:00\", \"2000-03-26T00:00:00\", \"1998-02-02T00:00:00\", \"1998-01-17T00:00:00\", \"2001-10-22T00:00:00\", \"2000-03-19T00:00:00\", \"1998-11-29T00:00:00\", \"2001-03-04T00:00:00\", \"1998-09-21T00:00:00\", \"1999-03-29T00:00:00\", \"1999-09-28T00:00:00\", \"1999-01-31T00:00:00\", \"2001-04-06T00:00:00\", \"1999-05-07T00:00:00\", \"1999-02-14T00:00:00\", \"2000-04-20T00:00:00\", \"1999-12-09T00:00:00\", \"1999-05-20T00:00:00\", \"2001-09-21T00:00:00\", \"2001-10-16T00:00:00\", \"1998-11-14T00:00:00\", \"1999-07-22T00:00:00\", \"1996-07-19T00:00:00\", \"1994-10-10T00:00:00\", \"1998-07-09T00:00:00\", \"1990-05-29T00:00:00\", \"1992-03-30T00:00:00\", \"1998-05-29T00:00:00\", \"1998-05-03T00:00:00\", \"1988-12-16T00:00:00\", \"1997-06-30T00:00:00\", \"1984-08-12T00:00:00\", \"1985-11-14T00:00:00\", \"1989-05-04T00:00:00\", \"1988-11-01T00:00:00\", \"1980-11-04T00:00:00\", \"1979-12-27T00:00:00\", \"1960-11-11T00:00:00\", \"1991-07-02T00:00:00\", \"1988-07-26T00:00:00\", \"1996-10-24T00:00:00\", \"1983-09-02T00:00:00\", \"1981-02-06T00:00:00\", \"1995-11-06T00:00:00\", \"1986-04-20T00:00:00\", \"1988-06-09T00:00:00\", \"1997-08-31T00:00:00\", \"1985-03-05T00:00:00\", \"2000-01-14T00:00:00\", \"2001-08-08T00:00:00\", \"1997-01-06T00:00:00\", \"1995-06-12T00:00:00\", \"1987-03-18T00:00:00\", \"1984-09-26T00:00:00\", \"1988-09-09T00:00:00\", \"1977-07-21T00:00:00\", \"1977-08-28T00:00:00\", \"1979-05-25T00:00:00\", \"1994-06-11T00:00:00\", \"1992-04-02T00:00:00\", \"1985-05-01T00:00:00\", \"1975-10-08T00:00:00\", \"1986-08-09T00:00:00\", \"1993-04-25T00:00:00\", \"1995-04-27T00:00:00\", \"1994-12-16T00:00:00\", \"1992-07-08T00:00:00\", \"1997-05-17T00:00:00\", \"1997-08-10T00:00:00\", \"1998-01-30T00:00:00\", \"1997-01-22T00:00:00\", \"1998-08-11T00:00:00\", \"1982-08-05T00:00:00\", \"1993-05-21T00:00:00\", \"1984-02-07T00:00:00\", \"1987-07-28T00:00:00\", \"2000-01-03T00:00:00\", \"1998-05-23T00:00:00\", \"1992-12-18T00:00:00\", \"1999-03-23T00:00:00\", \"2001-02-26T00:00:00\", \"1999-07-13T00:00:00\", \"1996-01-21T00:00:00\", \"1991-07-01T00:00:00\", \"1995-01-20T00:00:00\", \"1995-09-08T00:00:00\", \"1995-09-08T00:00:00\", \"1982-03-09T00:00:00\", \"1990-06-13T00:00:00\", \"1992-09-20T00:00:00\", \"1992-11-30T00:00:00\", \"1998-12-10T00:00:00\", \"2000-07-02T00:00:00\", \"2000-11-16T00:00:00\", \"1999-06-16T00:00:00\", \"1999-11-29T00:00:00\", \"1999-09-07T00:00:00\", \"1998-04-07T00:00:00\", \"1994-12-26T00:00:00\", \"1987-12-08T00:00:00\", \"1984-08-28T00:00:00\", \"1979-10-11T00:00:00\", \"1985-10-05T00:00:00\", \"1986-09-30T00:00:00\", \"1997-06-28T00:00:00\", \"1998-08-20T00:00:00\", \"1999-11-05T00:00:00\", \"1997-10-28T00:00:00\", \"1991-12-04T00:00:00\", \"1989-04-09T00:00:00\", \"1989-10-24T00:00:00\", \"1999-03-24T00:00:00\", \"1995-06-05T00:00:00\", \"1994-04-21T00:00:00\", \"1997-12-15T00:00:00\", \"1991-11-18T00:00:00\", \"1994-01-22T00:00:00\", \"1987-06-21T00:00:00\", \"1986-01-25T00:00:00\", \"1987-02-17T00:00:00\", \"1985-02-17T00:00:00\", \"1983-03-20T00:00:00\", \"1989-01-14T00:00:00\", \"1988-09-22T00:00:00\", \"1991-03-03T00:00:00\", \"1990-01-08T00:00:00\", \"1992-10-17T00:00:00\", \"1994-08-24T00:00:00\", \"1989-04-12T00:00:00\", \"1995-12-29T00:00:00\", \"1995-11-16T00:00:00\", \"2000-06-05T00:00:00\", \"2000-01-16T00:00:00\", \"2000-01-07T00:00:00\", \"1999-10-21T00:00:00\", \"1988-12-22T00:00:00\", \"1968-02-26T00:00:00\", \"1966-04-07T00:00:00\", \"1972-12-21T00:00:00\", \"1980-11-12T00:00:00\", \"1992-04-25T00:00:00\", \"1993-10-14T00:00:00\", \"1990-09-08T00:00:00\", \"1997-10-10T00:00:00\", \"1983-07-08T00:00:00\", \"1997-09-10T00:00:00\", \"1999-10-07T00:00:00\", \"1997-03-01T00:00:00\", \"1998-11-27T00:00:00\", \"1989-06-13T00:00:00\", \"1994-06-03T00:00:00\", \"1996-05-06T00:00:00\", \"1999-06-15T00:00:00\", \"1999-06-29T00:00:00\", \"1999-03-21T00:00:00\", \"1999-03-11T00:00:00\", \"1999-09-28T00:00:00\", \"1982-02-17T00:00:00\", \"1997-03-11T00:00:00\", \"1997-02-24T00:00:00\", \"1991-09-30T00:00:00\", \"1991-11-24T00:00:00\", \"1978-05-04T00:00:00\", \"1998-03-16T00:00:00\", \"1990-06-27T00:00:00\", \"1991-09-28T00:00:00\", \"1991-08-12T00:00:00\", \"1980-04-08T00:00:00\", \"1994-08-18T00:00:00\", \"1987-05-09T00:00:00\", \"1989-09-15T00:00:00\", \"1996-04-17T00:00:00\", \"1988-07-16T00:00:00\", \"1991-07-24T00:00:00\", \"1988-04-09T00:00:00\", \"1986-04-16T00:00:00\", \"1992-10-02T00:00:00\", \"1997-01-06T00:00:00\", \"1989-09-28T00:00:00\", \"1991-01-09T00:00:00\", \"1983-05-07T00:00:00\", \"1988-04-08T00:00:00\", \"1983-11-20T00:00:00\", \"1983-09-19T00:00:00\", \"1997-02-14T00:00:00\", \"1994-04-14T00:00:00\", \"1995-04-25T00:00:00\", \"1994-12-07T00:00:00\", \"1995-06-16T00:00:00\", \"1998-06-17T00:00:00\", \"1991-11-15T00:00:00\", \"1985-03-16T00:00:00\", \"1989-02-24T00:00:00\", \"1991-12-10T00:00:00\", \"1989-02-11T00:00:00\", \"1989-12-03T00:00:00\", \"1980-08-15T00:00:00\", \"1995-03-29T00:00:00\", \"1986-03-30T00:00:00\", \"1988-08-23T00:00:00\", \"1993-01-04T00:00:00\", \"1991-03-24T00:00:00\", \"1980-06-02T00:00:00\", \"1994-01-23T00:00:00\", \"1997-02-11T00:00:00\", \"1987-05-20T00:00:00\", \"1987-07-09T00:00:00\", \"1988-12-12T00:00:00\", \"1985-03-24T00:00:00\", \"1984-12-20T00:00:00\", \"1989-09-04T00:00:00\", \"1983-11-05T00:00:00\", \"1992-08-11T00:00:00\", \"1988-02-03T00:00:00\", \"1985-10-02T00:00:00\", \"1991-01-05T00:00:00\", \"1983-06-16T00:00:00\", \"1972-07-21T00:00:00\", \"1994-12-21T00:00:00\", \"1992-10-30T00:00:00\", \"1978-09-15T00:00:00\", \"1994-06-24T00:00:00\", \"1989-12-17T00:00:00\", \"1990-06-20T00:00:00\", \"1982-10-10T00:00:00\", \"1979-01-29T00:00:00\", \"1998-10-20T00:00:00\", \"1969-04-04T00:00:00\", \"1967-02-21T00:00:00\", \"1999-02-04T00:00:00\", \"2000-10-05T00:00:00\", \"1999-11-03T00:00:00\", \"1997-07-19T00:00:00\", \"1995-05-16T00:00:00\", \"1989-06-03T00:00:00\", \"1988-10-05T00:00:00\", \"1991-02-02T00:00:00\", \"1988-11-29T00:00:00\", \"1998-07-16T00:00:00\", \"1991-11-12T00:00:00\", \"1998-04-21T00:00:00\", \"1979-12-07T00:00:00\", \"1990-02-07T00:00:00\", \"1989-11-23T00:00:00\", \"1989-04-10T00:00:00\", \"1987-07-18T00:00:00\", \"1999-02-18T00:00:00\", \"2001-06-22T00:00:00\", \"1999-07-31T00:00:00\", \"2000-05-10T00:00:00\", \"1991-07-01T00:00:00\", \"1998-06-07T00:00:00\", \"1996-05-29T00:00:00\", \"1997-06-23T00:00:00\", \"1997-08-31T00:00:00\", \"2001-06-06T00:00:00\", \"1978-06-24T00:00:00\", \"1994-02-05T00:00:00\", \"1997-08-06T00:00:00\", \"1992-06-05T00:00:00\", \"1964-06-20T00:00:00\", \"1968-08-23T00:00:00\", \"1994-03-14T00:00:00\", \"1991-01-25T00:00:00\", \"1991-03-08T00:00:00\", \"1992-11-24T00:00:00\", \"1992-10-21T00:00:00\", \"1984-02-27T00:00:00\", \"1985-09-27T00:00:00\", \"1995-06-14T00:00:00\", \"1993-07-11T00:00:00\", \"1990-10-16T00:00:00\", \"1988-12-29T00:00:00\", \"1979-03-17T00:00:00\", \"1988-12-05T00:00:00\", \"1998-08-15T00:00:00\", \"1992-08-19T00:00:00\", \"1985-05-19T00:00:00\", \"1999-07-16T00:00:00\", \"1999-06-30T00:00:00\", \"1999-03-24T00:00:00\", \"1999-04-16T00:00:00\", \"1999-03-16T00:00:00\", \"1995-03-20T00:00:00\", \"1998-12-14T00:00:00\", \"1997-03-05T00:00:00\", \"1999-10-29T00:00:00\", \"1968-07-08T00:00:00\", \"1972-11-27T00:00:00\", \"1967-06-04T00:00:00\", \"1995-01-27T00:00:00\", \"1993-07-20T00:00:00\", \"1993-10-24T00:00:00\", \"1980-07-02T00:00:00\", \"1995-04-22T00:00:00\", \"1987-09-18T00:00:00\", \"1990-05-15T00:00:00\", \"1974-11-28T00:00:00\", \"1998-12-23T00:00:00\", \"1970-11-14T00:00:00\", \"1971-05-21T00:00:00\", \"1973-08-25T00:00:00\", \"1971-03-21T00:00:00\", \"1963-12-14T00:00:00\", \"1996-08-25T00:00:00\", \"1996-09-30T00:00:00\", \"1992-06-17T00:00:00\", \"1990-11-25T00:00:00\", \"1999-02-04T00:00:00\", \"2001-05-10T00:00:00\", \"1998-01-14T00:00:00\", \"1997-05-13T00:00:00\", \"1997-06-20T00:00:00\", \"1999-01-03T00:00:00\", \"1982-04-01T00:00:00\", \"1988-05-29T00:00:00\", \"1993-12-29T00:00:00\", \"1998-02-10T00:00:00\", \"1998-12-04T00:00:00\", \"1997-05-19T00:00:00\", \"1996-06-13T00:00:00\", \"1982-07-08T00:00:00\", \"1998-05-14T00:00:00\", \"1998-06-10T00:00:00\", \"1985-12-28T00:00:00\", \"1990-06-17T00:00:00\", \"2000-06-22T00:00:00\", \"1999-12-02T00:00:00\", \"1997-04-05T00:00:00\", \"1997-10-03T00:00:00\", \"1999-04-14T00:00:00\", \"1966-06-16T00:00:00\", \"1965-04-22T00:00:00\", \"1971-10-21T00:00:00\", \"1989-09-30T00:00:00\", \"1994-07-30T00:00:00\", \"1974-08-10T00:00:00\", \"1996-07-11T00:00:00\", \"1994-11-09T00:00:00\", \"1974-04-07T00:00:00\", \"1999-03-11T00:00:00\", \"1992-08-23T00:00:00\", \"1994-10-14T00:00:00\", \"1974-04-05T00:00:00\", \"1986-02-26T00:00:00\", \"1986-05-14T00:00:00\", \"1995-03-20T00:00:00\", \"1991-02-28T00:00:00\", \"1991-02-14T00:00:00\", \"1986-03-13T00:00:00\", \"1992-08-13T00:00:00\", \"1994-08-25T00:00:00\", \"1996-03-17T00:00:00\", \"1999-05-07T00:00:00\", \"1999-07-22T00:00:00\", \"1999-03-03T00:00:00\", \"1999-03-03T00:00:00\", \"1986-08-13T00:00:00\", \"1980-07-26T00:00:00\", \"1969-06-15T00:00:00\", \"1974-10-03T00:00:00\", \"1969-12-25T00:00:00\", \"1985-03-04T00:00:00\", \"1989-12-08T00:00:00\", \"1986-09-09T00:00:00\", \"1970-04-10T00:00:00\", \"1974-06-23T00:00:00\", \"1960-08-11T00:00:00\", \"1964-01-11T00:00:00\", \"1972-07-23T00:00:00\", \"1974-08-20T00:00:00\", \"1972-07-02T00:00:00\", \"1972-01-15T00:00:00\", \"1974-05-17T00:00:00\", \"1996-02-22T00:00:00\", \"1997-11-26T00:00:00\", \"1970-12-25T00:00:00\", \"1967-12-08T00:00:00\", \"1971-04-09T00:00:00\", \"2000-04-09T00:00:00\", \"2000-04-29T00:00:00\", \"1999-03-28T00:00:00\", \"1999-02-12T00:00:00\", \"1992-12-04T00:00:00\", \"1990-10-09T00:00:00\", \"1992-05-28T00:00:00\", \"1978-07-30T00:00:00\"], \"xaxis\": \"x\", \"yaxis\": \"y\"}],\n",
              "                        {\"barmode\": \"relative\", \"legend\": {\"tracegroupgap\": 0}, \"margin\": {\"t\": 60}, \"template\": {\"data\": {\"bar\": [{\"error_x\": {\"color\": \"#2a3f5f\"}, \"error_y\": {\"color\": \"#2a3f5f\"}, \"marker\": {\"line\": {\"color\": \"#E5ECF6\", \"width\": 0.5}}, \"type\": \"bar\"}], \"barpolar\": [{\"marker\": {\"line\": {\"color\": \"#E5ECF6\", \"width\": 0.5}}, \"type\": \"barpolar\"}], \"carpet\": [{\"aaxis\": {\"endlinecolor\": \"#2a3f5f\", \"gridcolor\": \"white\", \"linecolor\": \"white\", \"minorgridcolor\": \"white\", \"startlinecolor\": \"#2a3f5f\"}, \"baxis\": {\"endlinecolor\": \"#2a3f5f\", \"gridcolor\": \"white\", \"linecolor\": \"white\", \"minorgridcolor\": \"white\", \"startlinecolor\": \"#2a3f5f\"}, \"type\": \"carpet\"}], \"choropleth\": [{\"colorbar\": {\"outlinewidth\": 0, \"ticks\": \"\"}, \"type\": \"choropleth\"}], \"contour\": [{\"colorbar\": {\"outlinewidth\": 0, \"ticks\": \"\"}, \"colorscale\": [[0.0, \"#0d0887\"], [0.1111111111111111, \"#46039f\"], [0.2222222222222222, \"#7201a8\"], [0.3333333333333333, \"#9c179e\"], [0.4444444444444444, \"#bd3786\"], [0.5555555555555556, \"#d8576b\"], [0.6666666666666666, \"#ed7953\"], [0.7777777777777778, \"#fb9f3a\"], [0.8888888888888888, \"#fdca26\"], [1.0, \"#f0f921\"]], \"type\": \"contour\"}], \"contourcarpet\": [{\"colorbar\": {\"outlinewidth\": 0, \"ticks\": \"\"}, \"type\": \"contourcarpet\"}], \"heatmap\": [{\"colorbar\": {\"outlinewidth\": 0, \"ticks\": \"\"}, \"colorscale\": [[0.0, \"#0d0887\"], [0.1111111111111111, \"#46039f\"], [0.2222222222222222, \"#7201a8\"], [0.3333333333333333, \"#9c179e\"], [0.4444444444444444, \"#bd3786\"], [0.5555555555555556, \"#d8576b\"], [0.6666666666666666, \"#ed7953\"], [0.7777777777777778, \"#fb9f3a\"], [0.8888888888888888, \"#fdca26\"], [1.0, \"#f0f921\"]], \"type\": \"heatmap\"}], \"heatmapgl\": [{\"colorbar\": {\"outlinewidth\": 0, \"ticks\": \"\"}, \"colorscale\": [[0.0, \"#0d0887\"], [0.1111111111111111, \"#46039f\"], [0.2222222222222222, \"#7201a8\"], [0.3333333333333333, \"#9c179e\"], [0.4444444444444444, \"#bd3786\"], [0.5555555555555556, \"#d8576b\"], [0.6666666666666666, \"#ed7953\"], [0.7777777777777778, \"#fb9f3a\"], [0.8888888888888888, \"#fdca26\"], [1.0, \"#f0f921\"]], \"type\": \"heatmapgl\"}], \"histogram\": [{\"marker\": {\"colorbar\": {\"outlinewidth\": 0, \"ticks\": \"\"}}, \"type\": \"histogram\"}], \"histogram2d\": [{\"colorbar\": {\"outlinewidth\": 0, \"ticks\": \"\"}, \"colorscale\": [[0.0, \"#0d0887\"], [0.1111111111111111, \"#46039f\"], [0.2222222222222222, \"#7201a8\"], [0.3333333333333333, \"#9c179e\"], [0.4444444444444444, \"#bd3786\"], [0.5555555555555556, \"#d8576b\"], [0.6666666666666666, \"#ed7953\"], [0.7777777777777778, \"#fb9f3a\"], [0.8888888888888888, \"#fdca26\"], [1.0, \"#f0f921\"]], \"type\": \"histogram2d\"}], \"histogram2dcontour\": [{\"colorbar\": {\"outlinewidth\": 0, \"ticks\": \"\"}, \"colorscale\": [[0.0, \"#0d0887\"], [0.1111111111111111, \"#46039f\"], [0.2222222222222222, \"#7201a8\"], [0.3333333333333333, \"#9c179e\"], [0.4444444444444444, \"#bd3786\"], [0.5555555555555556, \"#d8576b\"], [0.6666666666666666, \"#ed7953\"], [0.7777777777777778, \"#fb9f3a\"], [0.8888888888888888, \"#fdca26\"], [1.0, \"#f0f921\"]], \"type\": \"histogram2dcontour\"}], \"mesh3d\": [{\"colorbar\": {\"outlinewidth\": 0, \"ticks\": \"\"}, \"type\": \"mesh3d\"}], \"parcoords\": [{\"line\": {\"colorbar\": {\"outlinewidth\": 0, \"ticks\": \"\"}}, \"type\": \"parcoords\"}], \"pie\": [{\"automargin\": true, \"type\": \"pie\"}], \"scatter\": [{\"marker\": {\"colorbar\": {\"outlinewidth\": 0, \"ticks\": \"\"}}, \"type\": \"scatter\"}], \"scatter3d\": [{\"line\": {\"colorbar\": {\"outlinewidth\": 0, \"ticks\": \"\"}}, \"marker\": {\"colorbar\": {\"outlinewidth\": 0, \"ticks\": \"\"}}, \"type\": \"scatter3d\"}], \"scattercarpet\": [{\"marker\": {\"colorbar\": {\"outlinewidth\": 0, \"ticks\": \"\"}}, \"type\": \"scattercarpet\"}], \"scattergeo\": [{\"marker\": {\"colorbar\": {\"outlinewidth\": 0, \"ticks\": \"\"}}, \"type\": \"scattergeo\"}], \"scattergl\": [{\"marker\": {\"colorbar\": {\"outlinewidth\": 0, \"ticks\": \"\"}}, \"type\": \"scattergl\"}], \"scattermapbox\": [{\"marker\": {\"colorbar\": {\"outlinewidth\": 0, \"ticks\": \"\"}}, \"type\": \"scattermapbox\"}], \"scatterpolar\": [{\"marker\": {\"colorbar\": {\"outlinewidth\": 0, \"ticks\": \"\"}}, \"type\": \"scatterpolar\"}], \"scatterpolargl\": [{\"marker\": {\"colorbar\": {\"outlinewidth\": 0, \"ticks\": \"\"}}, \"type\": \"scatterpolargl\"}], \"scatterternary\": [{\"marker\": {\"colorbar\": {\"outlinewidth\": 0, \"ticks\": \"\"}}, \"type\": \"scatterternary\"}], \"surface\": [{\"colorbar\": {\"outlinewidth\": 0, \"ticks\": \"\"}, \"colorscale\": [[0.0, \"#0d0887\"], [0.1111111111111111, \"#46039f\"], [0.2222222222222222, \"#7201a8\"], [0.3333333333333333, \"#9c179e\"], [0.4444444444444444, \"#bd3786\"], [0.5555555555555556, \"#d8576b\"], [0.6666666666666666, \"#ed7953\"], [0.7777777777777778, \"#fb9f3a\"], [0.8888888888888888, \"#fdca26\"], [1.0, \"#f0f921\"]], \"type\": \"surface\"}], \"table\": [{\"cells\": {\"fill\": {\"color\": \"#EBF0F8\"}, \"line\": {\"color\": \"white\"}}, \"header\": {\"fill\": {\"color\": \"#C8D4E3\"}, \"line\": {\"color\": \"white\"}}, \"type\": \"table\"}]}, \"layout\": {\"annotationdefaults\": {\"arrowcolor\": \"#2a3f5f\", \"arrowhead\": 0, \"arrowwidth\": 1}, \"coloraxis\": {\"colorbar\": {\"outlinewidth\": 0, \"ticks\": \"\"}}, \"colorscale\": {\"diverging\": [[0, \"#8e0152\"], [0.1, \"#c51b7d\"], [0.2, \"#de77ae\"], [0.3, \"#f1b6da\"], [0.4, \"#fde0ef\"], [0.5, \"#f7f7f7\"], [0.6, \"#e6f5d0\"], [0.7, \"#b8e186\"], [0.8, \"#7fbc41\"], [0.9, \"#4d9221\"], [1, \"#276419\"]], \"sequential\": [[0.0, \"#0d0887\"], [0.1111111111111111, \"#46039f\"], [0.2222222222222222, \"#7201a8\"], [0.3333333333333333, \"#9c179e\"], [0.4444444444444444, \"#bd3786\"], [0.5555555555555556, \"#d8576b\"], [0.6666666666666666, \"#ed7953\"], [0.7777777777777778, \"#fb9f3a\"], [0.8888888888888888, \"#fdca26\"], [1.0, \"#f0f921\"]], \"sequentialminus\": [[0.0, \"#0d0887\"], [0.1111111111111111, \"#46039f\"], [0.2222222222222222, \"#7201a8\"], [0.3333333333333333, \"#9c179e\"], [0.4444444444444444, \"#bd3786\"], [0.5555555555555556, \"#d8576b\"], [0.6666666666666666, \"#ed7953\"], [0.7777777777777778, \"#fb9f3a\"], [0.8888888888888888, \"#fdca26\"], [1.0, \"#f0f921\"]]}, \"colorway\": [\"#636efa\", \"#EF553B\", \"#00cc96\", \"#ab63fa\", \"#FFA15A\", \"#19d3f3\", \"#FF6692\", \"#B6E880\", \"#FF97FF\", \"#FECB52\"], \"font\": {\"color\": \"#2a3f5f\"}, \"geo\": {\"bgcolor\": \"white\", \"lakecolor\": \"white\", \"landcolor\": \"#E5ECF6\", \"showlakes\": true, \"showland\": true, \"subunitcolor\": \"white\"}, \"hoverlabel\": {\"align\": \"left\"}, \"hovermode\": \"closest\", \"mapbox\": {\"style\": \"light\"}, \"paper_bgcolor\": \"white\", \"plot_bgcolor\": \"#E5ECF6\", \"polar\": {\"angularaxis\": {\"gridcolor\": \"white\", \"linecolor\": \"white\", \"ticks\": \"\"}, \"bgcolor\": \"#E5ECF6\", \"radialaxis\": {\"gridcolor\": \"white\", \"linecolor\": \"white\", \"ticks\": \"\"}}, \"scene\": {\"xaxis\": {\"backgroundcolor\": \"#E5ECF6\", \"gridcolor\": \"white\", \"gridwidth\": 2, \"linecolor\": \"white\", \"showbackground\": true, \"ticks\": \"\", \"zerolinecolor\": \"white\"}, \"yaxis\": {\"backgroundcolor\": \"#E5ECF6\", \"gridcolor\": \"white\", \"gridwidth\": 2, \"linecolor\": \"white\", \"showbackground\": true, \"ticks\": \"\", \"zerolinecolor\": \"white\"}, \"zaxis\": {\"backgroundcolor\": \"#E5ECF6\", \"gridcolor\": \"white\", \"gridwidth\": 2, \"linecolor\": \"white\", \"showbackground\": true, \"ticks\": \"\", \"zerolinecolor\": \"white\"}}, \"shapedefaults\": {\"line\": {\"color\": \"#2a3f5f\"}}, \"ternary\": {\"aaxis\": {\"gridcolor\": \"white\", \"linecolor\": \"white\", \"ticks\": \"\"}, \"baxis\": {\"gridcolor\": \"white\", \"linecolor\": \"white\", \"ticks\": \"\"}, \"bgcolor\": \"#E5ECF6\", \"caxis\": {\"gridcolor\": \"white\", \"linecolor\": \"white\", \"ticks\": \"\"}}, \"title\": {\"x\": 0.05}, \"xaxis\": {\"automargin\": true, \"gridcolor\": \"white\", \"linecolor\": \"white\", \"ticks\": \"\", \"title\": {\"standoff\": 15}, \"zerolinecolor\": \"white\", \"zerolinewidth\": 2}, \"yaxis\": {\"automargin\": true, \"gridcolor\": \"white\", \"linecolor\": \"white\", \"ticks\": \"\", \"title\": {\"standoff\": 15}, \"zerolinecolor\": \"white\", \"zerolinewidth\": 2}}}, \"xaxis\": {\"anchor\": \"y\", \"domain\": [0.0, 1.0], \"title\": {\"text\": \"DTNASCIMENTO_JOGADOR\"}}, \"yaxis\": {\"anchor\": \"x\", \"domain\": [0.0, 1.0], \"title\": {\"text\": \"count\"}}},\n",
              "                        {\"responsive\": true}\n",
              "                    ).then(function(){\n",
              "                            \n",
              "var gd = document.getElementById('83f70914-654b-4e06-9d41-75648dc415b7');\n",
              "var x = new MutationObserver(function (mutations, observer) {{\n",
              "        var display = window.getComputedStyle(gd).display;\n",
              "        if (!display || display === 'none') {{\n",
              "            console.log([gd, 'removed!']);\n",
              "            Plotly.purge(gd);\n",
              "            observer.disconnect();\n",
              "        }}\n",
              "}});\n",
              "\n",
              "// Listen for the removal of the full notebook cells\n",
              "var notebookContainer = gd.closest('#notebook-container');\n",
              "if (notebookContainer) {{\n",
              "    x.observe(notebookContainer, {childList: true});\n",
              "}}\n",
              "\n",
              "// Listen for the clearing of the current output cell\n",
              "var outputEl = gd.closest('.output');\n",
              "if (outputEl) {{\n",
              "    x.observe(outputEl, {childList: true});\n",
              "}}\n",
              "\n",
              "                        })\n",
              "                };\n",
              "                \n",
              "            </script>\n",
              "        </div>\n",
              "</body>\n",
              "</html>"
            ]
          },
          "metadata": {}
        }
      ]
    },
    {
      "cell_type": "markdown",
      "metadata": {
        "id": "oOJizzXlZJ0M"
      },
      "source": [
        "Uma das grandes vantagens de analisar pelo histograma é a facilidade de entender a distribuição dos dados. De forma simples, podemos ver que a grande maioria dos jogadores estão na faixa entre (1997-2005), mas também é possível encontrar registros abaixo de 1970. "
      ]
    },
    {
      "cell_type": "markdown",
      "metadata": {
        "id": "lruKsg1kZz2b"
      },
      "source": [
        "##Conclusão"
      ]
    },
    {
      "cell_type": "markdown",
      "metadata": {
        "id": "eCnD0pdoZ2wd"
      },
      "source": [
        "​​O projeto Bom de Bola promovido pela prefeitura do Recife é interessante. Possibilidade, através do futebol, maior interação social. Os números de campos da cidade são bem diversificados."
      ]
    }
  ]
}