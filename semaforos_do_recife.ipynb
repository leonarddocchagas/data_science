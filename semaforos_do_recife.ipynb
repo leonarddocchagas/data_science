{
  "nbformat": 4,
  "nbformat_minor": 0,
  "metadata": {
    "colab": {
      "name": "semaforos_do_recife.ipynb",
      "provenance": [],
      "authorship_tag": "ABX9TyM1DcqK6doUj52SGLrqhr40",
      "include_colab_link": true
    },
    "kernelspec": {
      "name": "python3",
      "display_name": "Python 3"
    },
    "language_info": {
      "name": "python"
    }
  },
  "cells": [
    {
      "cell_type": "markdown",
      "metadata": {
        "id": "view-in-github",
        "colab_type": "text"
      },
      "source": [
        "<a href=\"https://colab.research.google.com/github/leonarddocchagas/data_science/blob/master/semaforos_do_recife.ipynb\" target=\"_parent\"><img src=\"https://colab.research.google.com/assets/colab-badge.svg\" alt=\"Open In Colab\"/></a>"
      ]
    },
    {
      "cell_type": "markdown",
      "metadata": {
        "id": "PW0FeReVVqrF"
      },
      "source": [
        "<img width='40%' aling='center' src=\"https://github.com/leonarddocchagas/data_science/blob/master/projetos/semaforos_do_recife/logo_recife.jpg?raw=true\" />"
      ]
    },
    {
      "cell_type": "code",
      "metadata": {
        "id": "4-hdLEMEThVH"
      },
      "source": [
        ""
      ],
      "execution_count": null,
      "outputs": []
    }
  ]
}